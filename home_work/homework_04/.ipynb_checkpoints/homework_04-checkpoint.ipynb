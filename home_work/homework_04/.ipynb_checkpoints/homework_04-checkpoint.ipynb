{
 "cells": [
  {
   "cell_type": "markdown",
   "id": "e746da0e",
   "metadata": {},
   "source": [
    "# STAT 207 Homework 4 [50 points]\n",
    "\n",
    "## Quantitative Variable Descriptive Analytics and Probability"
   ]
  },
  {
   "cell_type": "markdown",
   "id": "6fef820a",
   "metadata": {},
   "source": [
    "Due: Friday, February 10 by noon (11:59 am) CST\n",
    "\n",
    "<hr>"
   ]
  },
  {
   "cell_type": "markdown",
   "id": "c4d94493",
   "metadata": {},
   "source": [
    "## Package Imports\n",
    "\n",
    "We'll import three Python packages that we've used so far and will need for this assignment.  Those packages are pandas, matplotlib.pyplot, and seaborn.  \n",
    "\n",
    "Run the cell provided below to access the functions in these packages."
   ]
  },
  {
   "cell_type": "code",
   "execution_count": 1,
   "id": "25c92b96",
   "metadata": {},
   "outputs": [],
   "source": [
    "import pandas as pd\n",
    "import seaborn as sns\n",
    "import matplotlib.pyplot as plt"
   ]
  },
  {
   "cell_type": "markdown",
   "id": "ac088395",
   "metadata": {},
   "source": [
    "<hr>\n",
    "\n",
    "## <u>Case Study</u>: Groundhog Day\n",
    "\n",
    "On Groundhog Day (February 2), a famous groundhog in Pennsylvania called Punxsutawney Phil emerges from his burrow.  Spectators watch and observe whether he sees his shadow or not.  The legend says that if he sees his shadow, winter will continue for six more weeks; if not, spring is coming early.  In 2023, Phil saw his shadow.  But, does the data support the legend?  In this Case Study, we'll examine historical data to see what the data supports.\n",
    "\n",
    "## 1. Read in the Data [3 points]\n",
    "\n",
    "Read in the groundhog.csv data.  Check the data for missing data, make any necessary adjustments, and print the first few rows of the data frame."
   ]
  },
  {
   "cell_type": "code",
   "execution_count": 2,
   "id": "02bbc6be",
   "metadata": {},
   "outputs": [
    {
     "data": {
      "text/plain": [
       "(122, 10)"
      ]
     },
     "execution_count": 2,
     "metadata": {},
     "output_type": "execute_result"
    }
   ],
   "source": [
    "df = pd.read_csv('groundhog.csv')\n",
    "df.shape"
   ]
  },
  {
   "cell_type": "code",
   "execution_count": 3,
   "id": "4684ecac",
   "metadata": {},
   "outputs": [
    {
     "data": {
      "text/html": [
       "<div>\n",
       "<style scoped>\n",
       "    .dataframe tbody tr th:only-of-type {\n",
       "        vertical-align: middle;\n",
       "    }\n",
       "\n",
       "    .dataframe tbody tr th {\n",
       "        vertical-align: top;\n",
       "    }\n",
       "\n",
       "    .dataframe thead th {\n",
       "        text-align: right;\n",
       "    }\n",
       "</style>\n",
       "<table border=\"1\" class=\"dataframe\">\n",
       "  <thead>\n",
       "    <tr style=\"text-align: right;\">\n",
       "      <th></th>\n",
       "      <th>Year</th>\n",
       "      <th>Phil</th>\n",
       "      <th>February Average Temperature</th>\n",
       "      <th>February Average Temperature (Northeast)</th>\n",
       "      <th>February Average Temperature (Midwest)</th>\n",
       "      <th>February Average Temperature (Pennsylvania)</th>\n",
       "      <th>March Average Temperature</th>\n",
       "      <th>March Average Temperature (Northeast)</th>\n",
       "      <th>March Average Temperature (Midwest)</th>\n",
       "      <th>March Average Temperature (Pennsylvania)</th>\n",
       "    </tr>\n",
       "  </thead>\n",
       "  <tbody>\n",
       "    <tr>\n",
       "      <th>0</th>\n",
       "      <td>1895</td>\n",
       "      <td>No Record</td>\n",
       "      <td>26.60</td>\n",
       "      <td>15.6</td>\n",
       "      <td>21.9</td>\n",
       "      <td>17.0</td>\n",
       "      <td>39.97</td>\n",
       "      <td>27.6</td>\n",
       "      <td>40.2</td>\n",
       "      <td>31.3</td>\n",
       "    </tr>\n",
       "    <tr>\n",
       "      <th>1</th>\n",
       "      <td>1896</td>\n",
       "      <td>No Record</td>\n",
       "      <td>35.04</td>\n",
       "      <td>22.2</td>\n",
       "      <td>33.5</td>\n",
       "      <td>26.6</td>\n",
       "      <td>38.03</td>\n",
       "      <td>25.3</td>\n",
       "      <td>36.9</td>\n",
       "      <td>27.8</td>\n",
       "    </tr>\n",
       "    <tr>\n",
       "      <th>2</th>\n",
       "      <td>1897</td>\n",
       "      <td>No Record</td>\n",
       "      <td>33.39</td>\n",
       "      <td>23.6</td>\n",
       "      <td>34.7</td>\n",
       "      <td>27.9</td>\n",
       "      <td>38.79</td>\n",
       "      <td>32.0</td>\n",
       "      <td>44.0</td>\n",
       "      <td>36.9</td>\n",
       "    </tr>\n",
       "    <tr>\n",
       "      <th>3</th>\n",
       "      <td>1898</td>\n",
       "      <td>Full Shadow</td>\n",
       "      <td>35.37</td>\n",
       "      <td>24.8</td>\n",
       "      <td>33.3</td>\n",
       "      <td>26.7</td>\n",
       "      <td>41.05</td>\n",
       "      <td>38.0</td>\n",
       "      <td>46.0</td>\n",
       "      <td>42.0</td>\n",
       "    </tr>\n",
       "    <tr>\n",
       "      <th>4</th>\n",
       "      <td>1899</td>\n",
       "      <td>No Record</td>\n",
       "      <td>25.50</td>\n",
       "      <td>18.1</td>\n",
       "      <td>22.2</td>\n",
       "      <td>20.0</td>\n",
       "      <td>37.63</td>\n",
       "      <td>29.3</td>\n",
       "      <td>38.4</td>\n",
       "      <td>34.0</td>\n",
       "    </tr>\n",
       "  </tbody>\n",
       "</table>\n",
       "</div>"
      ],
      "text/plain": [
       "   Year         Phil  February Average Temperature  \\\n",
       "0  1895    No Record                         26.60   \n",
       "1  1896    No Record                         35.04   \n",
       "2  1897    No Record                         33.39   \n",
       "3  1898  Full Shadow                         35.37   \n",
       "4  1899    No Record                         25.50   \n",
       "\n",
       "   February Average Temperature (Northeast)  \\\n",
       "0                                      15.6   \n",
       "1                                      22.2   \n",
       "2                                      23.6   \n",
       "3                                      24.8   \n",
       "4                                      18.1   \n",
       "\n",
       "   February Average Temperature (Midwest)  \\\n",
       "0                                    21.9   \n",
       "1                                    33.5   \n",
       "2                                    34.7   \n",
       "3                                    33.3   \n",
       "4                                    22.2   \n",
       "\n",
       "   February Average Temperature (Pennsylvania)  March Average Temperature  \\\n",
       "0                                         17.0                      39.97   \n",
       "1                                         26.6                      38.03   \n",
       "2                                         27.9                      38.79   \n",
       "3                                         26.7                      41.05   \n",
       "4                                         20.0                      37.63   \n",
       "\n",
       "   March Average Temperature (Northeast)  March Average Temperature (Midwest)  \\\n",
       "0                                   27.6                                 40.2   \n",
       "1                                   25.3                                 36.9   \n",
       "2                                   32.0                                 44.0   \n",
       "3                                   38.0                                 46.0   \n",
       "4                                   29.3                                 38.4   \n",
       "\n",
       "   March Average Temperature (Pennsylvania)  \n",
       "0                                      31.3  \n",
       "1                                      27.8  \n",
       "2                                      36.9  \n",
       "3                                      42.0  \n",
       "4                                      34.0  "
      ]
     },
     "execution_count": 3,
     "metadata": {},
     "output_type": "execute_result"
    }
   ],
   "source": [
    "df.head()"
   ]
  },
  {
   "cell_type": "code",
   "execution_count": 4,
   "id": "e7046521",
   "metadata": {},
   "outputs": [
    {
     "name": "stdout",
     "output_type": "stream",
     "text": [
      "<class 'pandas.core.frame.DataFrame'>\n",
      "RangeIndex: 122 entries, 0 to 121\n",
      "Data columns (total 10 columns):\n",
      " #   Column                                       Non-Null Count  Dtype  \n",
      "---  ------                                       --------------  -----  \n",
      " 0   Year                                         122 non-null    int64  \n",
      " 1   Phil                                         122 non-null    object \n",
      " 2   February Average Temperature                 122 non-null    float64\n",
      " 3   February Average Temperature (Northeast)     122 non-null    float64\n",
      " 4   February Average Temperature (Midwest)       122 non-null    float64\n",
      " 5   February Average Temperature (Pennsylvania)  122 non-null    float64\n",
      " 6   March Average Temperature                    122 non-null    float64\n",
      " 7   March Average Temperature (Northeast)        122 non-null    float64\n",
      " 8   March Average Temperature (Midwest)          122 non-null    float64\n",
      " 9   March Average Temperature (Pennsylvania)     122 non-null    float64\n",
      "dtypes: float64(8), int64(1), object(1)\n",
      "memory usage: 9.7+ KB\n"
     ]
    }
   ],
   "source": [
    "df.info()"
   ]
  },
  {
   "cell_type": "code",
   "execution_count": 5,
   "id": "f449ed24",
   "metadata": {},
   "outputs": [
    {
     "data": {
      "text/plain": [
       "array(['No Record', 'Full Shadow', 'No Shadow', 'Partial Shadow'],\n",
       "      dtype=object)"
      ]
     },
     "execution_count": 5,
     "metadata": {},
     "output_type": "execute_result"
    }
   ],
   "source": [
    "df['Phil'].unique()"
   ]
  },
  {
   "cell_type": "code",
   "execution_count": 6,
   "id": "b1eedf47",
   "metadata": {},
   "outputs": [
    {
     "data": {
      "text/plain": [
       "(122, 10)"
      ]
     },
     "execution_count": 6,
     "metadata": {},
     "output_type": "execute_result"
    }
   ],
   "source": [
    "df_gh = pd.read_csv('groundhog.csv', na_values = ['No Record'])\n",
    "df_gh.shape"
   ]
  },
  {
   "cell_type": "code",
   "execution_count": 7,
   "id": "f69a85d2",
   "metadata": {},
   "outputs": [
    {
     "data": {
      "text/plain": [
       "array([nan, 'Full Shadow', 'No Shadow', 'Partial Shadow'], dtype=object)"
      ]
     },
     "execution_count": 7,
     "metadata": {},
     "output_type": "execute_result"
    }
   ],
   "source": [
    "df_gh['Phil'].unique()"
   ]
  },
  {
   "cell_type": "code",
   "execution_count": 8,
   "id": "cf96a9ec",
   "metadata": {},
   "outputs": [
    {
     "data": {
      "text/plain": [
       "(116, 10)"
      ]
     },
     "execution_count": 8,
     "metadata": {},
     "output_type": "execute_result"
    }
   ],
   "source": [
    "df_gh = df_gh.dropna()\n",
    "df_gh.shape"
   ]
  },
  {
   "cell_type": "code",
   "execution_count": 9,
   "id": "72cec0c7",
   "metadata": {},
   "outputs": [
    {
     "data": {
      "text/plain": [
       "array(['Full Shadow', 'No Shadow', 'Partial Shadow'], dtype=object)"
      ]
     },
     "execution_count": 9,
     "metadata": {},
     "output_type": "execute_result"
    }
   ],
   "source": [
    "df_gh['Phil'].unique()"
   ]
  },
  {
   "cell_type": "code",
   "execution_count": 10,
   "id": "e034d8df",
   "metadata": {},
   "outputs": [
    {
     "data": {
      "text/html": [
       "<div>\n",
       "<style scoped>\n",
       "    .dataframe tbody tr th:only-of-type {\n",
       "        vertical-align: middle;\n",
       "    }\n",
       "\n",
       "    .dataframe tbody tr th {\n",
       "        vertical-align: top;\n",
       "    }\n",
       "\n",
       "    .dataframe thead th {\n",
       "        text-align: right;\n",
       "    }\n",
       "</style>\n",
       "<table border=\"1\" class=\"dataframe\">\n",
       "  <thead>\n",
       "    <tr style=\"text-align: right;\">\n",
       "      <th></th>\n",
       "      <th>Year</th>\n",
       "      <th>Phil</th>\n",
       "      <th>February Average Temperature</th>\n",
       "      <th>February Average Temperature (Northeast)</th>\n",
       "      <th>February Average Temperature (Midwest)</th>\n",
       "      <th>February Average Temperature (Pennsylvania)</th>\n",
       "      <th>March Average Temperature</th>\n",
       "      <th>March Average Temperature (Northeast)</th>\n",
       "      <th>March Average Temperature (Midwest)</th>\n",
       "      <th>March Average Temperature (Pennsylvania)</th>\n",
       "    </tr>\n",
       "  </thead>\n",
       "  <tbody>\n",
       "    <tr>\n",
       "      <th>3</th>\n",
       "      <td>1898</td>\n",
       "      <td>Full Shadow</td>\n",
       "      <td>35.37</td>\n",
       "      <td>24.8</td>\n",
       "      <td>33.3</td>\n",
       "      <td>26.7</td>\n",
       "      <td>41.05</td>\n",
       "      <td>38.0</td>\n",
       "      <td>46.0</td>\n",
       "      <td>42.0</td>\n",
       "    </tr>\n",
       "    <tr>\n",
       "      <th>5</th>\n",
       "      <td>1900</td>\n",
       "      <td>Full Shadow</td>\n",
       "      <td>30.76</td>\n",
       "      <td>21.4</td>\n",
       "      <td>27.5</td>\n",
       "      <td>24.1</td>\n",
       "      <td>41.27</td>\n",
       "      <td>26.0</td>\n",
       "      <td>37.9</td>\n",
       "      <td>29.3</td>\n",
       "    </tr>\n",
       "    <tr>\n",
       "      <th>6</th>\n",
       "      <td>1901</td>\n",
       "      <td>Full Shadow</td>\n",
       "      <td>29.86</td>\n",
       "      <td>16.0</td>\n",
       "      <td>26.2</td>\n",
       "      <td>18.9</td>\n",
       "      <td>40.71</td>\n",
       "      <td>30.8</td>\n",
       "      <td>41.9</td>\n",
       "      <td>35.1</td>\n",
       "    </tr>\n",
       "    <tr>\n",
       "      <th>8</th>\n",
       "      <td>1903</td>\n",
       "      <td>Full Shadow</td>\n",
       "      <td>28.42</td>\n",
       "      <td>24.5</td>\n",
       "      <td>31.3</td>\n",
       "      <td>28.0</td>\n",
       "      <td>42.21</td>\n",
       "      <td>40.4</td>\n",
       "      <td>47.7</td>\n",
       "      <td>44.5</td>\n",
       "    </tr>\n",
       "    <tr>\n",
       "      <th>9</th>\n",
       "      <td>1904</td>\n",
       "      <td>Full Shadow</td>\n",
       "      <td>31.59</td>\n",
       "      <td>15.0</td>\n",
       "      <td>28.2</td>\n",
       "      <td>19.2</td>\n",
       "      <td>41.76</td>\n",
       "      <td>29.8</td>\n",
       "      <td>42.8</td>\n",
       "      <td>34.0</td>\n",
       "    </tr>\n",
       "  </tbody>\n",
       "</table>\n",
       "</div>"
      ],
      "text/plain": [
       "   Year         Phil  February Average Temperature  \\\n",
       "3  1898  Full Shadow                         35.37   \n",
       "5  1900  Full Shadow                         30.76   \n",
       "6  1901  Full Shadow                         29.86   \n",
       "8  1903  Full Shadow                         28.42   \n",
       "9  1904  Full Shadow                         31.59   \n",
       "\n",
       "   February Average Temperature (Northeast)  \\\n",
       "3                                      24.8   \n",
       "5                                      21.4   \n",
       "6                                      16.0   \n",
       "8                                      24.5   \n",
       "9                                      15.0   \n",
       "\n",
       "   February Average Temperature (Midwest)  \\\n",
       "3                                    33.3   \n",
       "5                                    27.5   \n",
       "6                                    26.2   \n",
       "8                                    31.3   \n",
       "9                                    28.2   \n",
       "\n",
       "   February Average Temperature (Pennsylvania)  March Average Temperature  \\\n",
       "3                                         26.7                      41.05   \n",
       "5                                         24.1                      41.27   \n",
       "6                                         18.9                      40.71   \n",
       "8                                         28.0                      42.21   \n",
       "9                                         19.2                      41.76   \n",
       "\n",
       "   March Average Temperature (Northeast)  March Average Temperature (Midwest)  \\\n",
       "3                                   38.0                                 46.0   \n",
       "5                                   26.0                                 37.9   \n",
       "6                                   30.8                                 41.9   \n",
       "8                                   40.4                                 47.7   \n",
       "9                                   29.8                                 42.8   \n",
       "\n",
       "   March Average Temperature (Pennsylvania)  \n",
       "3                                      42.0  \n",
       "5                                      29.3  \n",
       "6                                      35.1  \n",
       "8                                      44.5  \n",
       "9                                      34.0  "
      ]
     },
     "execution_count": 10,
     "metadata": {},
     "output_type": "execute_result"
    }
   ],
   "source": [
    "df_gh.head()"
   ]
  },
  {
   "cell_type": "markdown",
   "id": "2e606086",
   "metadata": {},
   "source": [
    "## 2. Phil's Outcomes [9 points]\n",
    "\n",
    "For this problem, we will explore the results of Phil's experiment by focusing on the variable Phil. \n",
    "\n",
    "**a)** First, what is the sample space of possible outcomes for Phil's experiment?"
   ]
  },
  {
   "cell_type": "markdown",
   "id": "8d479eb4",
   "metadata": {},
   "source": [
    "{Full Shadow}, {No Shadow}, {Partial Shadow}"
   ]
  },
  {
   "cell_type": "markdown",
   "id": "92a41d0d",
   "metadata": {},
   "source": [
    "**b)** Then, we'd like to summarize the observed outcomes for this experiment from the data.  Calculate the relative frequencies for each of the possible results when Phil emerges from his burrow."
   ]
  },
  {
   "cell_type": "code",
   "execution_count": 11,
   "id": "902220b6",
   "metadata": {},
   "outputs": [
    {
     "name": "stdout",
     "output_type": "stream",
     "text": [
      "The frequency of full shadow: 100\n",
      "The frequency of partial shadow: 1\n",
      "The frequency of no shadow: 15\n"
     ]
    }
   ],
   "source": [
    "freq_full = len(df_gh[df_gh.Phil == 'Full Shadow'])\n",
    "freq_partial = len(df_gh[df_gh.Phil == 'Partial Shadow'])\n",
    "freq_no = len(df_gh[df_gh.Phil == 'No Shadow'])\n",
    "\n",
    "print(\"The frequency of full shadow:\",freq_full)\n",
    "print(\"The frequency of partial shadow:\",freq_partial)\n",
    "print(\"The frequency of no shadow:\",freq_no)"
   ]
  },
  {
   "cell_type": "markdown",
   "id": "19088aa7",
   "metadata": {},
   "source": [
    "**c)** Which result is most common?  Least common?\n",
    "\n",
    "Based on these results, choose whether you'd like to filter your data to remove uncommon outcomes.  Explain your decision."
   ]
  },
  {
   "cell_type": "markdown",
   "id": "f133d9d0",
   "metadata": {},
   "source": [
    "Full shadow is most common. Partial shadow is least common. I would like to filter out the partial shadow outcome because it has only one outcome."
   ]
  },
  {
   "cell_type": "code",
   "execution_count": 12,
   "id": "bf91e798",
   "metadata": {},
   "outputs": [
    {
     "data": {
      "text/plain": [
       "array(['Full Shadow', 'No Shadow'], dtype=object)"
      ]
     },
     "execution_count": 12,
     "metadata": {},
     "output_type": "execute_result"
    }
   ],
   "source": [
    "df_gh2 = df_gh[df_gh.Phil != 'Partial Shadow']\n",
    "df_gh2['Phil'].unique()"
   ]
  },
  {
   "cell_type": "code",
   "execution_count": 13,
   "id": "09c271e5",
   "metadata": {
    "scrolled": true
   },
   "outputs": [
    {
     "data": {
      "text/html": [
       "<div>\n",
       "<style scoped>\n",
       "    .dataframe tbody tr th:only-of-type {\n",
       "        vertical-align: middle;\n",
       "    }\n",
       "\n",
       "    .dataframe tbody tr th {\n",
       "        vertical-align: top;\n",
       "    }\n",
       "\n",
       "    .dataframe thead th {\n",
       "        text-align: right;\n",
       "    }\n",
       "</style>\n",
       "<table border=\"1\" class=\"dataframe\">\n",
       "  <thead>\n",
       "    <tr style=\"text-align: right;\">\n",
       "      <th></th>\n",
       "      <th>Year</th>\n",
       "      <th>Phil</th>\n",
       "      <th>February Average Temperature</th>\n",
       "      <th>February Average Temperature (Northeast)</th>\n",
       "      <th>February Average Temperature (Midwest)</th>\n",
       "      <th>February Average Temperature (Pennsylvania)</th>\n",
       "      <th>March Average Temperature</th>\n",
       "      <th>March Average Temperature (Northeast)</th>\n",
       "      <th>March Average Temperature (Midwest)</th>\n",
       "      <th>March Average Temperature (Pennsylvania)</th>\n",
       "    </tr>\n",
       "  </thead>\n",
       "  <tbody>\n",
       "    <tr>\n",
       "      <th>3</th>\n",
       "      <td>1898</td>\n",
       "      <td>Full Shadow</td>\n",
       "      <td>35.37</td>\n",
       "      <td>24.8</td>\n",
       "      <td>33.3</td>\n",
       "      <td>26.7</td>\n",
       "      <td>41.05</td>\n",
       "      <td>38.0</td>\n",
       "      <td>46.0</td>\n",
       "      <td>42.0</td>\n",
       "    </tr>\n",
       "    <tr>\n",
       "      <th>5</th>\n",
       "      <td>1900</td>\n",
       "      <td>Full Shadow</td>\n",
       "      <td>30.76</td>\n",
       "      <td>21.4</td>\n",
       "      <td>27.5</td>\n",
       "      <td>24.1</td>\n",
       "      <td>41.27</td>\n",
       "      <td>26.0</td>\n",
       "      <td>37.9</td>\n",
       "      <td>29.3</td>\n",
       "    </tr>\n",
       "    <tr>\n",
       "      <th>6</th>\n",
       "      <td>1901</td>\n",
       "      <td>Full Shadow</td>\n",
       "      <td>29.86</td>\n",
       "      <td>16.0</td>\n",
       "      <td>26.2</td>\n",
       "      <td>18.9</td>\n",
       "      <td>40.71</td>\n",
       "      <td>30.8</td>\n",
       "      <td>41.9</td>\n",
       "      <td>35.1</td>\n",
       "    </tr>\n",
       "    <tr>\n",
       "      <th>8</th>\n",
       "      <td>1903</td>\n",
       "      <td>Full Shadow</td>\n",
       "      <td>28.42</td>\n",
       "      <td>24.5</td>\n",
       "      <td>31.3</td>\n",
       "      <td>28.0</td>\n",
       "      <td>42.21</td>\n",
       "      <td>40.4</td>\n",
       "      <td>47.7</td>\n",
       "      <td>44.5</td>\n",
       "    </tr>\n",
       "    <tr>\n",
       "      <th>9</th>\n",
       "      <td>1904</td>\n",
       "      <td>Full Shadow</td>\n",
       "      <td>31.59</td>\n",
       "      <td>15.0</td>\n",
       "      <td>28.2</td>\n",
       "      <td>19.2</td>\n",
       "      <td>41.76</td>\n",
       "      <td>29.8</td>\n",
       "      <td>42.8</td>\n",
       "      <td>34.0</td>\n",
       "    </tr>\n",
       "  </tbody>\n",
       "</table>\n",
       "</div>"
      ],
      "text/plain": [
       "   Year         Phil  February Average Temperature  \\\n",
       "3  1898  Full Shadow                         35.37   \n",
       "5  1900  Full Shadow                         30.76   \n",
       "6  1901  Full Shadow                         29.86   \n",
       "8  1903  Full Shadow                         28.42   \n",
       "9  1904  Full Shadow                         31.59   \n",
       "\n",
       "   February Average Temperature (Northeast)  \\\n",
       "3                                      24.8   \n",
       "5                                      21.4   \n",
       "6                                      16.0   \n",
       "8                                      24.5   \n",
       "9                                      15.0   \n",
       "\n",
       "   February Average Temperature (Midwest)  \\\n",
       "3                                    33.3   \n",
       "5                                    27.5   \n",
       "6                                    26.2   \n",
       "8                                    31.3   \n",
       "9                                    28.2   \n",
       "\n",
       "   February Average Temperature (Pennsylvania)  March Average Temperature  \\\n",
       "3                                         26.7                      41.05   \n",
       "5                                         24.1                      41.27   \n",
       "6                                         18.9                      40.71   \n",
       "8                                         28.0                      42.21   \n",
       "9                                         19.2                      41.76   \n",
       "\n",
       "   March Average Temperature (Northeast)  March Average Temperature (Midwest)  \\\n",
       "3                                   38.0                                 46.0   \n",
       "5                                   26.0                                 37.9   \n",
       "6                                   30.8                                 41.9   \n",
       "8                                   40.4                                 47.7   \n",
       "9                                   29.8                                 42.8   \n",
       "\n",
       "   March Average Temperature (Pennsylvania)  \n",
       "3                                      42.0  \n",
       "5                                      29.3  \n",
       "6                                      35.1  \n",
       "8                                      44.5  \n",
       "9                                      34.0  "
      ]
     },
     "execution_count": 13,
     "metadata": {},
     "output_type": "execute_result"
    }
   ],
   "source": [
    "df_gh2.head()"
   ]
  },
  {
   "cell_type": "markdown",
   "id": "f4baf91a",
   "metadata": {},
   "source": [
    "## 3. Midwest Temperatures [17 points]\n",
    "\n",
    "Because we live in the Midwest, we'd like to observe whether Phil's prediction about winter seems to be accurate, based on the average temperatures recorded in the Midwest.  The following steps will help you gather information to answer this question.\n",
    "\n",
    "**a)** Generate side-by-side violin plots to display the average temperature in February for the Midwest, based on the result of Punxsutawney Phil's shadow."
   ]
  },
  {
   "cell_type": "code",
   "execution_count": 36,
   "id": "ad953733",
   "metadata": {},
   "outputs": [
    {
     "data": {
      "image/png": "[encoded data removed]",
      "text/plain": [
       "<Figure size 640x480 with 1 Axes>"
      ]
     },
     "metadata": {},
     "output_type": "display_data"
    }
   ],
   "source": [
    "sns.violinplot(x = 'Phil', y = 'February Average Temperature (Midwest)', data = df_gh2)\n",
    "plt.xlabel('if there is shadow')\n",
    "plt.ylabel('Average temperature')\n",
    "plt.title('Side by side violinplot')\n",
    "plt.show()"
   ]
  },
  {
   "cell_type": "code",
   "execution_count": null,
   "id": "e251a331",
   "metadata": {},
   "outputs": [],
   "source": []
  },
  {
   "cell_type": "markdown",
   "id": "660ef939",
   "metadata": {},
   "source": [
    "**b)** For each of the results of Phil's experiment, calculate one measure of center and one measure of spread."
   ]
  },
  {
   "cell_type": "code",
   "execution_count": 15,
   "id": "217033c8",
   "metadata": {},
   "outputs": [
    {
     "name": "stdout",
     "output_type": "stream",
     "text": [
      "Standard Deviation of full shadow:\n"
     ]
    },
    {
     "data": {
      "text/plain": [
       "4.807664230531845"
      ]
     },
     "execution_count": 15,
     "metadata": {},
     "output_type": "execute_result"
    }
   ],
   "source": [
    "print('Standard Deviation of full shadow:')\n",
    "df_gh2[df_gh2.Phil == 'Full Shadow']['February Average Temperature (Midwest)'].std()"
   ]
  },
  {
   "cell_type": "code",
   "execution_count": 16,
   "id": "09475e20",
   "metadata": {},
   "outputs": [
    {
     "name": "stdout",
     "output_type": "stream",
     "text": [
      "Standard Deviation of no shadow:\n"
     ]
    },
    {
     "data": {
      "text/plain": [
       "3.9879938864164823"
      ]
     },
     "execution_count": 16,
     "metadata": {},
     "output_type": "execute_result"
    }
   ],
   "source": [
    "print('Standard Deviation of no shadow:')\n",
    "df_gh2[df_gh2.Phil == 'No Shadow']['February Average Temperature (Midwest)'].std()"
   ]
  },
  {
   "cell_type": "code",
   "execution_count": 17,
   "id": "e24d3fa8",
   "metadata": {},
   "outputs": [
    {
     "name": "stdout",
     "output_type": "stream",
     "text": [
      "Mean of full shadow:\n"
     ]
    },
    {
     "data": {
      "text/plain": [
       "32.799"
      ]
     },
     "execution_count": 17,
     "metadata": {},
     "output_type": "execute_result"
    }
   ],
   "source": [
    "print('Mean of full shadow:')\n",
    "df_gh2[df_gh2.Phil == 'Full Shadow']['February Average Temperature (Midwest)'].mean()"
   ]
  },
  {
   "cell_type": "code",
   "execution_count": 18,
   "id": "263eafe7",
   "metadata": {},
   "outputs": [
    {
     "name": "stdout",
     "output_type": "stream",
     "text": [
      "Mean of no shadow:\n"
     ]
    },
    {
     "data": {
      "text/plain": [
       "33.85333333333333"
      ]
     },
     "execution_count": 18,
     "metadata": {},
     "output_type": "execute_result"
    }
   ],
   "source": [
    "print('Mean of no shadow:')\n",
    "df_gh2[df_gh2.Phil == 'No Shadow']['February Average Temperature (Midwest)'].mean()"
   ]
  },
  {
   "cell_type": "markdown",
   "id": "ec6eaeae",
   "metadata": {},
   "source": [
    "**c)** We've already examined the February temperatures, but a friend thinks that how quickly winter comes may actually relate to how much the average temperatures increase between February and March.  Calculate a new variable for the increase in the average temperature in the Midwest from February to March, and include this variable in our data frame."
   ]
  },
  {
   "cell_type": "code",
   "execution_count": 19,
   "id": "e5ccd2d9",
   "metadata": {},
   "outputs": [
    {
     "name": "stderr",
     "output_type": "stream",
     "text": [
      "/var/folders/z3/v08m_4bs6612hblzs361wgqh0000gn/T/ipykernel_6470/2926803995.py:1: SettingWithCopyWarning: \n",
      "A value is trying to be set on a copy of a slice from a DataFrame.\n",
      "Try using .loc[row_indexer,col_indexer] = value instead\n",
      "\n",
      "See the caveats in the documentation: https://pandas.pydata.org/pandas-docs/stable/user_guide/indexing.html#returning-a-view-versus-a-copy\n",
      "  df_gh2['increase(Midwest)'] = df_gh2['March Average Temperature (Midwest)'] - df_gh2['February Average Temperature (Midwest)']\n"
     ]
    }
   ],
   "source": [
    "df_gh2['increase(Midwest)'] = df_gh2['March Average Temperature (Midwest)'] - df_gh2['February Average Temperature (Midwest)']"
   ]
  },
  {
   "cell_type": "code",
   "execution_count": 20,
   "id": "0fa53644",
   "metadata": {},
   "outputs": [
    {
     "data": {
      "text/html": [
       "<div>\n",
       "<style scoped>\n",
       "    .dataframe tbody tr th:only-of-type {\n",
       "        vertical-align: middle;\n",
       "    }\n",
       "\n",
       "    .dataframe tbody tr th {\n",
       "        vertical-align: top;\n",
       "    }\n",
       "\n",
       "    .dataframe thead th {\n",
       "        text-align: right;\n",
       "    }\n",
       "</style>\n",
       "<table border=\"1\" class=\"dataframe\">\n",
       "  <thead>\n",
       "    <tr style=\"text-align: right;\">\n",
       "      <th></th>\n",
       "      <th>Year</th>\n",
       "      <th>Phil</th>\n",
       "      <th>February Average Temperature</th>\n",
       "      <th>February Average Temperature (Northeast)</th>\n",
       "      <th>February Average Temperature (Midwest)</th>\n",
       "      <th>February Average Temperature (Pennsylvania)</th>\n",
       "      <th>March Average Temperature</th>\n",
       "      <th>March Average Temperature (Northeast)</th>\n",
       "      <th>March Average Temperature (Midwest)</th>\n",
       "      <th>March Average Temperature (Pennsylvania)</th>\n",
       "      <th>increase(Midwest)</th>\n",
       "    </tr>\n",
       "  </thead>\n",
       "  <tbody>\n",
       "    <tr>\n",
       "      <th>3</th>\n",
       "      <td>1898</td>\n",
       "      <td>Full Shadow</td>\n",
       "      <td>35.37</td>\n",
       "      <td>24.8</td>\n",
       "      <td>33.3</td>\n",
       "      <td>26.7</td>\n",
       "      <td>41.05</td>\n",
       "      <td>38.0</td>\n",
       "      <td>46.0</td>\n",
       "      <td>42.0</td>\n",
       "      <td>12.7</td>\n",
       "    </tr>\n",
       "    <tr>\n",
       "      <th>5</th>\n",
       "      <td>1900</td>\n",
       "      <td>Full Shadow</td>\n",
       "      <td>30.76</td>\n",
       "      <td>21.4</td>\n",
       "      <td>27.5</td>\n",
       "      <td>24.1</td>\n",
       "      <td>41.27</td>\n",
       "      <td>26.0</td>\n",
       "      <td>37.9</td>\n",
       "      <td>29.3</td>\n",
       "      <td>10.4</td>\n",
       "    </tr>\n",
       "    <tr>\n",
       "      <th>6</th>\n",
       "      <td>1901</td>\n",
       "      <td>Full Shadow</td>\n",
       "      <td>29.86</td>\n",
       "      <td>16.0</td>\n",
       "      <td>26.2</td>\n",
       "      <td>18.9</td>\n",
       "      <td>40.71</td>\n",
       "      <td>30.8</td>\n",
       "      <td>41.9</td>\n",
       "      <td>35.1</td>\n",
       "      <td>15.7</td>\n",
       "    </tr>\n",
       "    <tr>\n",
       "      <th>8</th>\n",
       "      <td>1903</td>\n",
       "      <td>Full Shadow</td>\n",
       "      <td>28.42</td>\n",
       "      <td>24.5</td>\n",
       "      <td>31.3</td>\n",
       "      <td>28.0</td>\n",
       "      <td>42.21</td>\n",
       "      <td>40.4</td>\n",
       "      <td>47.7</td>\n",
       "      <td>44.5</td>\n",
       "      <td>16.4</td>\n",
       "    </tr>\n",
       "    <tr>\n",
       "      <th>9</th>\n",
       "      <td>1904</td>\n",
       "      <td>Full Shadow</td>\n",
       "      <td>31.59</td>\n",
       "      <td>15.0</td>\n",
       "      <td>28.2</td>\n",
       "      <td>19.2</td>\n",
       "      <td>41.76</td>\n",
       "      <td>29.8</td>\n",
       "      <td>42.8</td>\n",
       "      <td>34.0</td>\n",
       "      <td>14.6</td>\n",
       "    </tr>\n",
       "  </tbody>\n",
       "</table>\n",
       "</div>"
      ],
      "text/plain": [
       "   Year         Phil  February Average Temperature  \\\n",
       "3  1898  Full Shadow                         35.37   \n",
       "5  1900  Full Shadow                         30.76   \n",
       "6  1901  Full Shadow                         29.86   \n",
       "8  1903  Full Shadow                         28.42   \n",
       "9  1904  Full Shadow                         31.59   \n",
       "\n",
       "   February Average Temperature (Northeast)  \\\n",
       "3                                      24.8   \n",
       "5                                      21.4   \n",
       "6                                      16.0   \n",
       "8                                      24.5   \n",
       "9                                      15.0   \n",
       "\n",
       "   February Average Temperature (Midwest)  \\\n",
       "3                                    33.3   \n",
       "5                                    27.5   \n",
       "6                                    26.2   \n",
       "8                                    31.3   \n",
       "9                                    28.2   \n",
       "\n",
       "   February Average Temperature (Pennsylvania)  March Average Temperature  \\\n",
       "3                                         26.7                      41.05   \n",
       "5                                         24.1                      41.27   \n",
       "6                                         18.9                      40.71   \n",
       "8                                         28.0                      42.21   \n",
       "9                                         19.2                      41.76   \n",
       "\n",
       "   March Average Temperature (Northeast)  March Average Temperature (Midwest)  \\\n",
       "3                                   38.0                                 46.0   \n",
       "5                                   26.0                                 37.9   \n",
       "6                                   30.8                                 41.9   \n",
       "8                                   40.4                                 47.7   \n",
       "9                                   29.8                                 42.8   \n",
       "\n",
       "   March Average Temperature (Pennsylvania)  increase(Midwest)  \n",
       "3                                      42.0               12.7  \n",
       "5                                      29.3               10.4  \n",
       "6                                      35.1               15.7  \n",
       "8                                      44.5               16.4  \n",
       "9                                      34.0               14.6  "
      ]
     },
     "execution_count": 20,
     "metadata": {},
     "output_type": "execute_result"
    }
   ],
   "source": [
    "df_gh2.head()"
   ]
  },
  {
   "cell_type": "markdown",
   "id": "5eefe1e7",
   "metadata": {},
   "source": [
    "**d)** Generate side-by-side boxplots for the temperature increase between February and March calculated in part **c**."
   ]
  },
  {
   "cell_type": "code",
   "execution_count": 21,
   "id": "0d6445be",
   "metadata": {},
   "outputs": [
    {
     "data": {
      "text/plain": [
       "Text(0.5, 1.0, 'Side by side boxplot of average temperature')"
      ]
     },
     "execution_count": 21,
     "metadata": {},
     "output_type": "execute_result"
    },
    {
     "data": {
      "image/png": "[encoded data removed]",
      "text/plain": [
       "<Figure size 640x480 with 1 Axes>"
      ]
     },
     "metadata": {},
     "output_type": "display_data"
    }
   ],
   "source": [
    "sns.boxplot(x = 'Phil', y = 'increase(Midwest)', data = df_gh2)\n",
    "plt.xlabel('No/Full Shadow')\n",
    "plt.ylabel('temperature increase')\n",
    "plt.title('Side by side boxplot of average temperature')"
   ]
  },
  {
   "cell_type": "markdown",
   "id": "403bac1e",
   "metadata": {},
   "source": [
    "**e)** Finally, we'll consider what all of this information means.  If you don't like the idea of winter being extended, would you want Phil to see his shadow on Groundhog Day?  Explain.\n",
    "\n",
    "Thinking critically about our data, do you have any questions about the data?  Do you notice any limitations to results that you can draw from this data?"
   ]
  },
  {
   "cell_type": "markdown",
   "id": "c24baac2",
   "metadata": {},
   "source": [
    "The median temperature increase if seeing shadow is slightly higher than if you didn't see shadow. It seems that if Phil see the shadow, it is likely that temperature will decrease in a month. But if phil didn't see the shadow, temperature seems will not decrease(increase > 0). Therefore, I would rather preper seeing no shadow. At least, temperature may not decrease again.\n",
    "One of the question is that full shadow have both higher upper bound and lower bound. It is hard to judge whether the temperature will increase or decrease if you see a full shadow."
   ]
  },
  {
   "cell_type": "markdown",
   "id": "3e654ee5",
   "metadata": {},
   "source": [
    "<hr>\n",
    "\n",
    "## <u>Case Study</u>: Poker Hand\n",
    "\n",
    "In poker, a player is dealt 5 cards from a standard deck of 52 cards.  One type of hand that can be dealt is a three of a kind, where a player has three cards of the same rank (face), one card of a different rank, and the last card of a different rank from the other two.  Note that this is distinct from a full house, where we have three of a kind (three cards of the same rank) and a pair (two cards of the same rank).  \n",
    "\n",
    "## 4. Actual Probability [6 points]\n",
    "\n",
    "First, using our counting rules, calculate the actual probability if drawing a three of a kind poker hand.\n",
    "\n",
    "**Show your work and calculations.**"
   ]
  },
  {
   "cell_type": "code",
   "execution_count": 22,
   "id": "f76cfa19",
   "metadata": {},
   "outputs": [
    {
     "data": {
      "text/plain": [
       "54912.0"
      ]
     },
     "execution_count": 22,
     "metadata": {},
     "output_type": "execute_result"
    }
   ],
   "source": [
    "4*48*44*13/2"
   ]
  },
  {
   "cell_type": "code",
   "execution_count": 23,
   "id": "a662b6b5",
   "metadata": {},
   "outputs": [
    {
     "data": {
      "text/plain": [
       "2598960.0"
      ]
     },
     "execution_count": 23,
     "metadata": {},
     "output_type": "execute_result"
    }
   ],
   "source": [
    "(52*51*50*49*48)/(1*2*3*4*5)"
   ]
  },
  {
   "cell_type": "code",
   "execution_count": 24,
   "id": "a1446c75",
   "metadata": {},
   "outputs": [
    {
     "data": {
      "text/plain": [
       "0.02112845138055222"
      ]
     },
     "execution_count": 24,
     "metadata": {},
     "output_type": "execute_result"
    }
   ],
   "source": [
    "54912/2598960"
   ]
  },
  {
   "cell_type": "markdown",
   "id": "9814dc52",
   "metadata": {},
   "source": [
    "0.02112845138055222"
   ]
  },
  {
   "cell_type": "markdown",
   "id": "ba9afbf4",
   "metadata": {},
   "source": [
    "## 5. Probability Estimate [14 points]\n",
    "\n",
    "We have created two test hands below in the form of data frames.  \n",
    "\n",
    "1. **hand1** is a 'three of a kind' hand\n",
    "2. **hand2** is not a 'three of a kind' hand"
   ]
  },
  {
   "cell_type": "code",
   "execution_count": 25,
   "id": "3f3152ac",
   "metadata": {},
   "outputs": [
    {
     "data": {
      "text/html": [
       "<div>\n",
       "<style scoped>\n",
       "    .dataframe tbody tr th:only-of-type {\n",
       "        vertical-align: middle;\n",
       "    }\n",
       "\n",
       "    .dataframe tbody tr th {\n",
       "        vertical-align: top;\n",
       "    }\n",
       "\n",
       "    .dataframe thead th {\n",
       "        text-align: right;\n",
       "    }\n",
       "</style>\n",
       "<table border=\"1\" class=\"dataframe\">\n",
       "  <thead>\n",
       "    <tr style=\"text-align: right;\">\n",
       "      <th></th>\n",
       "      <th>face</th>\n",
       "      <th>suit</th>\n",
       "    </tr>\n",
       "  </thead>\n",
       "  <tbody>\n",
       "    <tr>\n",
       "      <th>0</th>\n",
       "      <td>J</td>\n",
       "      <td>heart</td>\n",
       "    </tr>\n",
       "    <tr>\n",
       "      <th>1</th>\n",
       "      <td>J</td>\n",
       "      <td>club</td>\n",
       "    </tr>\n",
       "    <tr>\n",
       "      <th>2</th>\n",
       "      <td>2</td>\n",
       "      <td>spade</td>\n",
       "    </tr>\n",
       "    <tr>\n",
       "      <th>3</th>\n",
       "      <td>9</td>\n",
       "      <td>club</td>\n",
       "    </tr>\n",
       "    <tr>\n",
       "      <th>4</th>\n",
       "      <td>J</td>\n",
       "      <td>diamond</td>\n",
       "    </tr>\n",
       "  </tbody>\n",
       "</table>\n",
       "</div>"
      ],
      "text/plain": [
       "  face     suit\n",
       "0    J    heart\n",
       "1    J     club\n",
       "2    2    spade\n",
       "3    9     club\n",
       "4    J  diamond"
      ]
     },
     "execution_count": 25,
     "metadata": {},
     "output_type": "execute_result"
    }
   ],
   "source": [
    "import pandas as pd\n",
    "hand1 = pd.DataFrame({'face': ['J','J','2','9','J'],\n",
    "                           'suit': ['heart', 'club', 'spade', 'club', 'diamond']})\n",
    "hand1"
   ]
  },
  {
   "cell_type": "code",
   "execution_count": 26,
   "id": "79d31518",
   "metadata": {},
   "outputs": [
    {
     "data": {
      "text/html": [
       "<div>\n",
       "<style scoped>\n",
       "    .dataframe tbody tr th:only-of-type {\n",
       "        vertical-align: middle;\n",
       "    }\n",
       "\n",
       "    .dataframe tbody tr th {\n",
       "        vertical-align: top;\n",
       "    }\n",
       "\n",
       "    .dataframe thead th {\n",
       "        text-align: right;\n",
       "    }\n",
       "</style>\n",
       "<table border=\"1\" class=\"dataframe\">\n",
       "  <thead>\n",
       "    <tr style=\"text-align: right;\">\n",
       "      <th></th>\n",
       "      <th>face</th>\n",
       "      <th>suit</th>\n",
       "    </tr>\n",
       "  </thead>\n",
       "  <tbody>\n",
       "    <tr>\n",
       "      <th>0</th>\n",
       "      <td>J</td>\n",
       "      <td>heart</td>\n",
       "    </tr>\n",
       "    <tr>\n",
       "      <th>1</th>\n",
       "      <td>J</td>\n",
       "      <td>club</td>\n",
       "    </tr>\n",
       "    <tr>\n",
       "      <th>2</th>\n",
       "      <td>Q</td>\n",
       "      <td>spade</td>\n",
       "    </tr>\n",
       "    <tr>\n",
       "      <th>3</th>\n",
       "      <td>Q</td>\n",
       "      <td>club</td>\n",
       "    </tr>\n",
       "    <tr>\n",
       "      <th>4</th>\n",
       "      <td>J</td>\n",
       "      <td>diamond</td>\n",
       "    </tr>\n",
       "  </tbody>\n",
       "</table>\n",
       "</div>"
      ],
      "text/plain": [
       "  face     suit\n",
       "0    J    heart\n",
       "1    J     club\n",
       "2    Q    spade\n",
       "3    Q     club\n",
       "4    J  diamond"
      ]
     },
     "execution_count": 26,
     "metadata": {},
     "output_type": "execute_result"
    }
   ],
   "source": [
    "hand2 = pd.DataFrame({'face': ['J','J','Q','Q','J'],\n",
    "                           'suit': ['heart', 'club', 'spade', 'club', 'diamond']})\n",
    "hand2"
   ]
  },
  {
   "cell_type": "markdown",
   "id": "3b7adec9",
   "metadata": {},
   "source": [
    "**a)** Create a function that returns True if a hand is a three of a kind and False if a hand is not three of a kind."
   ]
  },
  {
   "cell_type": "code",
   "execution_count": 27,
   "id": "188341b3",
   "metadata": {},
   "outputs": [
    {
     "data": {
      "text/plain": [
       "array(['A', '2', '3', '4', '5', '6', '7', '8', '9', '10', 'J', 'Q', 'K'],\n",
       "      dtype=object)"
      ]
     },
     "execution_count": 27,
     "metadata": {},
     "output_type": "execute_result"
    }
   ],
   "source": [
    "df_poke = pd.read_csv('cards.csv')\n",
    "df_poke.face.unique()"
   ]
  },
  {
   "cell_type": "code",
   "execution_count": 28,
   "id": "30389c39",
   "metadata": {},
   "outputs": [
    {
     "data": {
      "text/plain": [
       "array(['J', 'J', '2', '9', 'J'], dtype=object)"
      ]
     },
     "execution_count": 28,
     "metadata": {},
     "output_type": "execute_result"
    }
   ],
   "source": [
    "hand1.face.values"
   ]
  },
  {
   "cell_type": "code",
   "execution_count": 29,
   "id": "a9e4d269",
   "metadata": {},
   "outputs": [],
   "source": [
    "def judgeHand(df):\n",
    "    value = df.face.unique()\n",
    "    if (len(value) != 3) | (len(df) != 5):\n",
    "        return False\n",
    "    for m in df.face.values:\n",
    "        count = 0\n",
    "        for n in df.face.values:\n",
    "             if m == n: count += 1\n",
    "        if count == 3:\n",
    "            return True"
   ]
  },
  {
   "cell_type": "markdown",
   "id": "a3a6a97e",
   "metadata": {},
   "source": [
    "**b)** Confirm this function works using **hand1** and **hand2**."
   ]
  },
  {
   "cell_type": "code",
   "execution_count": 30,
   "id": "dc4001d7",
   "metadata": {},
   "outputs": [
    {
     "name": "stdout",
     "output_type": "stream",
     "text": [
      "True\n",
      "False\n"
     ]
    }
   ],
   "source": [
    "print(judgeHand(hand1))\n",
    "print(judgeHand(hand2))"
   ]
  },
  {
   "cell_type": "markdown",
   "id": "e9cf743a",
   "metadata": {},
   "source": [
    "hand 1 is true. hand 2 is false."
   ]
  },
  {
   "cell_type": "markdown",
   "id": "63ccd704",
   "metadata": {},
   "source": [
    "**c)** Using the cards.csv file, conduct one trial that does the following:\n",
    "\n",
    "1. Draws a poker hand.\n",
    "2. Checks if the hand is three of a kind."
   ]
  },
  {
   "cell_type": "code",
   "execution_count": 31,
   "id": "d9d618a2",
   "metadata": {},
   "outputs": [
    {
     "data": {
      "text/plain": [
       "False"
      ]
     },
     "execution_count": 31,
     "metadata": {},
     "output_type": "execute_result"
    }
   ],
   "source": [
    "df_poke = pd.read_csv('cards.csv')\n",
    "df_draw = df_poke.sample(5, replace = False)\n",
    "judgeHand(df_draw)"
   ]
  },
  {
   "cell_type": "markdown",
   "id": "ce93563d",
   "metadata": {},
   "source": [
    "**d)** Now, extend your work from part c to repeat this 20,000 times.\n",
    "\n",
    "Specifically, for this simulation:\n",
    "\n",
    "1. Simulate drawing 20,000 different hands of poker.  Each hand is randomly sampled without replacement.  You can assume after each trial the previous cards are returned to the deck, so that you have a fresh 52 card deck at the start of each trial.\n",
    "2. Test whether the hand drawn is a three of a kind.\n",
    "3. Calculate the proportion of trials that were a three of a kind.\n",
    "\n",
    "**Warning: using print statements may cause your notebook to crash, depending on where the statements are located in your code.**"
   ]
  },
  {
   "cell_type": "code",
   "execution_count": 32,
   "id": "15ccaefe",
   "metadata": {},
   "outputs": [
    {
     "data": {
      "text/html": [
       "<div>\n",
       "<style scoped>\n",
       "    .dataframe tbody tr th:only-of-type {\n",
       "        vertical-align: middle;\n",
       "    }\n",
       "\n",
       "    .dataframe tbody tr th {\n",
       "        vertical-align: top;\n",
       "    }\n",
       "\n",
       "    .dataframe thead th {\n",
       "        text-align: right;\n",
       "    }\n",
       "</style>\n",
       "<table border=\"1\" class=\"dataframe\">\n",
       "  <thead>\n",
       "    <tr style=\"text-align: right;\">\n",
       "      <th></th>\n",
       "      <th>result</th>\n",
       "    </tr>\n",
       "  </thead>\n",
       "  <tbody>\n",
       "    <tr>\n",
       "      <th>0</th>\n",
       "      <td>False</td>\n",
       "    </tr>\n",
       "    <tr>\n",
       "      <th>1</th>\n",
       "      <td>True</td>\n",
       "    </tr>\n",
       "    <tr>\n",
       "      <th>2</th>\n",
       "      <td>False</td>\n",
       "    </tr>\n",
       "    <tr>\n",
       "      <th>3</th>\n",
       "      <td>False</td>\n",
       "    </tr>\n",
       "    <tr>\n",
       "      <th>4</th>\n",
       "      <td>False</td>\n",
       "    </tr>\n",
       "    <tr>\n",
       "      <th>...</th>\n",
       "      <td>...</td>\n",
       "    </tr>\n",
       "    <tr>\n",
       "      <th>19995</th>\n",
       "      <td>False</td>\n",
       "    </tr>\n",
       "    <tr>\n",
       "      <th>19996</th>\n",
       "      <td>False</td>\n",
       "    </tr>\n",
       "    <tr>\n",
       "      <th>19997</th>\n",
       "      <td>False</td>\n",
       "    </tr>\n",
       "    <tr>\n",
       "      <th>19998</th>\n",
       "      <td>None</td>\n",
       "    </tr>\n",
       "    <tr>\n",
       "      <th>19999</th>\n",
       "      <td>False</td>\n",
       "    </tr>\n",
       "  </tbody>\n",
       "</table>\n",
       "<p>20000 rows × 1 columns</p>\n",
       "</div>"
      ],
      "text/plain": [
       "      result\n",
       "0      False\n",
       "1       True\n",
       "2      False\n",
       "3      False\n",
       "4      False\n",
       "...      ...\n",
       "19995  False\n",
       "19996  False\n",
       "19997  False\n",
       "19998   None\n",
       "19999  False\n",
       "\n",
       "[20000 rows x 1 columns]"
      ]
     },
     "execution_count": 32,
     "metadata": {},
     "output_type": "execute_result"
    }
   ],
   "source": [
    "data = []\n",
    "for i in range(20000):\n",
    "    draw = df_poke.sample(5, replace = False)\n",
    "    result = judgeHand(draw)\n",
    "    d = {'result':result}\n",
    "    data.append(d)\n",
    "df_result = pd.DataFrame(data)\n",
    "df_result"
   ]
  },
  {
   "cell_type": "code",
   "execution_count": 33,
   "id": "330b8bc9",
   "metadata": {},
   "outputs": [
    {
     "data": {
      "text/plain": [
       "0.0217"
      ]
     },
     "execution_count": 33,
     "metadata": {},
     "output_type": "execute_result"
    }
   ],
   "source": [
    "len(df_result[df_result.result == True])/len(df_result)"
   ]
  },
  {
   "cell_type": "markdown",
   "id": "6dfc26c3",
   "metadata": {},
   "source": [
    "## 6. Comparing Probabilities [1 point]\n",
    "\n",
    "What is the difference between your theoretical and estimated probabilities above?"
   ]
  },
  {
   "cell_type": "code",
   "execution_count": 35,
   "id": "1f792bcd",
   "metadata": {},
   "outputs": [
    {
     "name": "stdout",
     "output_type": "stream",
     "text": [
      "The difference between theoretical probility and estimated probility is 0.0005715486194477794.\n"
     ]
    }
   ],
   "source": [
    "prob_theo = 0.02112845138055222\n",
    "prob_simu = 0.0217\n",
    "prob_diff = abs(prob_theo - prob_simu)\n",
    "print(f\"The difference between theoretical probility and estimated probility is {prob_diff}.\")"
   ]
  },
  {
   "cell_type": "markdown",
   "id": "f02327ec",
   "metadata": {},
   "source": [
    "Remember to keep all your cells and hit the save icon above periodically to checkpoint (save) your results on your local computer. Once you are satisified with your results restart the kernel and run all (Kernel -> Restart & Run All). **Make sure nothing has changed**. Checkpoint and exit (File -> Save and Checkpoint + File -> Close and Halt). Follow the instructions on the Homework 4 Canvas Assignment to submit your notebook to GitHub."
   ]
  }
 ],
 "metadata": {
  "kernelspec": {
   "display_name": "Python 3 (ipykernel)",
   "language": "python",
   "name": "python3"
  },
  "language_info": {
   "codemirror_mode": {
    "name": "ipython",
    "version": 3
   },
   "file_extension": ".py",
   "mimetype": "text/x-python",
   "name": "python",
   "nbconvert_exporter": "python",
   "pygments_lexer": "ipython3",
   "version": "3.10.8"
  }
 },
 "nbformat": 4,
 "nbformat_minor": 5
}
