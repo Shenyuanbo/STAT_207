{
 "cells": [
  {
   "cell_type": "markdown",
   "id": "e746da0e",
   "metadata": {},
   "source": [
    "# STAT 207 Homework 7 [50 points]\n",
    "\n",
    "## Central Limit Theorem, Confidence Intervals, and Hypotheses"
   ]
  },
  {
   "cell_type": "markdown",
   "id": "6fef820a",
   "metadata": {},
   "source": [
    "Due: Friday, March 10 by noon (11:59 am) CST\n",
    "\n",
    "<hr>"
   ]
  },
  {
   "cell_type": "markdown",
   "id": "c4d94493",
   "metadata": {},
   "source": [
    "**Note:** For this assignment, you should not use any built-in functions for calculating confidence intervals.  You will not earn credit if you use the built-in confidence interval functions on this assignment.\n",
    "\n",
    "## Package Imports\n",
    "\n",
    "Run the cell provided below to import packages needed for this assignment.\n",
    "\n",
    "You may also need to read in additional packages below."
   ]
  },
  {
   "cell_type": "code",
   "execution_count": 1,
   "id": "25c92b96",
   "metadata": {},
   "outputs": [],
   "source": [
    "import pandas as pd\n",
    "import seaborn as sns\n",
    "import matplotlib.pyplot as plt\n",
    "import numpy as np\n",
    "from scipy.stats import norm\n",
    "from scipy.stats import t"
   ]
  },
  {
   "cell_type": "markdown",
   "id": "ac088395",
   "metadata": {},
   "source": [
    "<hr>\n",
    "\n",
    "## <u>Case Study 1</u>: Preparing to Eat (Confidence Interval of $\\mu$ with t-distribution)\n",
    "\n",
    "We have a random sample of time spent preparing food and drink (in minutes) by American adults in the last 24 hours contained in the food_prep.csv file.  Using this random sample, we will construct and understand a confidence interval in this Case Study.\n",
    "\n",
    "## 1. Read in the data [1 point]\n",
    "\n",
    "Read in the data for the food_prep.csv file below.  The data is already cleaned, so you don't need to worry about cleaning the data.  However, you should try to learn a little bit about the data below."
   ]
  },
  {
   "cell_type": "code",
   "execution_count": 3,
   "id": "30911347",
   "metadata": {},
   "outputs": [],
   "source": [
    "df = pd.read_csv(\"food_prep.csv\")"
   ]
  },
  {
   "cell_type": "code",
   "execution_count": 4,
   "id": "bc1b533e",
   "metadata": {},
   "outputs": [
    {
     "data": {
      "text/plain": [
       "(400, 2)"
      ]
     },
     "execution_count": 4,
     "metadata": {},
     "output_type": "execute_result"
    }
   ],
   "source": [
    "df.shape"
   ]
  },
  {
   "cell_type": "code",
   "execution_count": 5,
   "id": "d2a6d31d",
   "metadata": {},
   "outputs": [
    {
     "data": {
      "text/html": [
       "<div>\n",
       "<style scoped>\n",
       "    .dataframe tbody tr th:only-of-type {\n",
       "        vertical-align: middle;\n",
       "    }\n",
       "\n",
       "    .dataframe tbody tr th {\n",
       "        vertical-align: top;\n",
       "    }\n",
       "\n",
       "    .dataframe thead th {\n",
       "        text-align: right;\n",
       "    }\n",
       "</style>\n",
       "<table border=\"1\" class=\"dataframe\">\n",
       "  <thead>\n",
       "    <tr style=\"text-align: right;\">\n",
       "      <th></th>\n",
       "      <th>Unnamed: 0</th>\n",
       "      <th>food_prep</th>\n",
       "    </tr>\n",
       "  </thead>\n",
       "  <tbody>\n",
       "    <tr>\n",
       "      <th>0</th>\n",
       "      <td>1</td>\n",
       "      <td>15</td>\n",
       "    </tr>\n",
       "    <tr>\n",
       "      <th>1</th>\n",
       "      <td>2</td>\n",
       "      <td>2</td>\n",
       "    </tr>\n",
       "    <tr>\n",
       "      <th>2</th>\n",
       "      <td>3</td>\n",
       "      <td>60</td>\n",
       "    </tr>\n",
       "    <tr>\n",
       "      <th>3</th>\n",
       "      <td>4</td>\n",
       "      <td>45</td>\n",
       "    </tr>\n",
       "    <tr>\n",
       "      <th>4</th>\n",
       "      <td>5</td>\n",
       "      <td>0</td>\n",
       "    </tr>\n",
       "  </tbody>\n",
       "</table>\n",
       "</div>"
      ],
      "text/plain": [
       "   Unnamed: 0  food_prep\n",
       "0           1         15\n",
       "1           2          2\n",
       "2           3         60\n",
       "3           4         45\n",
       "4           5          0"
      ]
     },
     "execution_count": 5,
     "metadata": {},
     "output_type": "execute_result"
    }
   ],
   "source": [
    "df.head()"
   ]
  },
  {
   "cell_type": "code",
   "execution_count": 6,
   "id": "53d10303",
   "metadata": {},
   "outputs": [
    {
     "name": "stdout",
     "output_type": "stream",
     "text": [
      "<class 'pandas.core.frame.DataFrame'>\n",
      "RangeIndex: 400 entries, 0 to 399\n",
      "Data columns (total 2 columns):\n",
      " #   Column      Non-Null Count  Dtype\n",
      "---  ------      --------------  -----\n",
      " 0   Unnamed: 0  400 non-null    int64\n",
      " 1   food_prep   400 non-null    int64\n",
      "dtypes: int64(2)\n",
      "memory usage: 6.4 KB\n"
     ]
    }
   ],
   "source": [
    "df.info()"
   ]
  },
  {
   "cell_type": "code",
   "execution_count": 7,
   "id": "ceb311ea",
   "metadata": {},
   "outputs": [
    {
     "data": {
      "text/html": [
       "<div>\n",
       "<style scoped>\n",
       "    .dataframe tbody tr th:only-of-type {\n",
       "        vertical-align: middle;\n",
       "    }\n",
       "\n",
       "    .dataframe tbody tr th {\n",
       "        vertical-align: top;\n",
       "    }\n",
       "\n",
       "    .dataframe thead th {\n",
       "        text-align: right;\n",
       "    }\n",
       "</style>\n",
       "<table border=\"1\" class=\"dataframe\">\n",
       "  <thead>\n",
       "    <tr style=\"text-align: right;\">\n",
       "      <th></th>\n",
       "      <th>Unnamed: 0</th>\n",
       "      <th>food_prep</th>\n",
       "    </tr>\n",
       "  </thead>\n",
       "  <tbody>\n",
       "    <tr>\n",
       "      <th>count</th>\n",
       "      <td>400.000000</td>\n",
       "      <td>400.000000</td>\n",
       "    </tr>\n",
       "    <tr>\n",
       "      <th>mean</th>\n",
       "      <td>200.500000</td>\n",
       "      <td>31.420000</td>\n",
       "    </tr>\n",
       "    <tr>\n",
       "      <th>std</th>\n",
       "      <td>115.614301</td>\n",
       "      <td>44.583324</td>\n",
       "    </tr>\n",
       "    <tr>\n",
       "      <th>min</th>\n",
       "      <td>1.000000</td>\n",
       "      <td>0.000000</td>\n",
       "    </tr>\n",
       "    <tr>\n",
       "      <th>25%</th>\n",
       "      <td>100.750000</td>\n",
       "      <td>0.000000</td>\n",
       "    </tr>\n",
       "    <tr>\n",
       "      <th>50%</th>\n",
       "      <td>200.500000</td>\n",
       "      <td>15.000000</td>\n",
       "    </tr>\n",
       "    <tr>\n",
       "      <th>75%</th>\n",
       "      <td>300.250000</td>\n",
       "      <td>50.000000</td>\n",
       "    </tr>\n",
       "    <tr>\n",
       "      <th>max</th>\n",
       "      <td>400.000000</td>\n",
       "      <td>320.000000</td>\n",
       "    </tr>\n",
       "  </tbody>\n",
       "</table>\n",
       "</div>"
      ],
      "text/plain": [
       "       Unnamed: 0   food_prep\n",
       "count  400.000000  400.000000\n",
       "mean   200.500000   31.420000\n",
       "std    115.614301   44.583324\n",
       "min      1.000000    0.000000\n",
       "25%    100.750000    0.000000\n",
       "50%    200.500000   15.000000\n",
       "75%    300.250000   50.000000\n",
       "max    400.000000  320.000000"
      ]
     },
     "execution_count": 7,
     "metadata": {},
     "output_type": "execute_result"
    }
   ],
   "source": [
    "df.describe()"
   ]
  },
  {
   "cell_type": "code",
   "execution_count": 8,
   "id": "3c809a3c",
   "metadata": {},
   "outputs": [
    {
     "data": {
      "text/plain": [
       "<AxesSubplot: >"
      ]
     },
     "execution_count": 8,
     "metadata": {},
     "output_type": "execute_result"
    },
    {
     "data": {
      "image/png": "[encoded data removed]",
      "text/plain": [
       "<Figure size 640x480 with 1 Axes>"
      ]
     },
     "metadata": {},
     "output_type": "display_data"
    }
   ],
   "source": [
    "df.food_prep.hist()"
   ]
  },
  {
   "cell_type": "markdown",
   "id": "d102aa01",
   "metadata": {},
   "source": [
    "## 2. Construct a Confidence Interval [15 points]\n",
    "\n",
    "We will construct an 88% confidence interval for the average time spent preparing food or drink in the last 24 hours.\n",
    "\n",
    "**a)**  Define the parameter of interest for our confidence interval.\n",
    "\n",
    "**Note: the parameter definition should be provided in words and include a symbol.**"
   ]
  },
  {
   "cell_type": "markdown",
   "id": "e173034a",
   "metadata": {},
   "source": [
    "**扣分点在于，除了写出symbol，还要把这道题中的具体意义写出来**\n",
    "\n",
    "The parameter in this case population mean $(\\mu)$ time in spent preparing food or drink by all American adults in the last 24 hours."
   ]
  },
  {
   "cell_type": "markdown",
   "id": "5872fff5",
   "metadata": {},
   "source": [
    "**b)** Construct an 88% confidence interval for the average time spent preparing food or drink in the last 24 hours."
   ]
  },
  {
   "cell_type": "code",
   "execution_count": 14,
   "id": "e7046521",
   "metadata": {},
   "outputs": [
    {
     "name": "stdout",
     "output_type": "stream",
     "text": [
      "sample_mean: 31.42\n",
      "sample_std: 44.583324034384084\n",
      "multiplier: 1.5581098659846326\n"
     ]
    }
   ],
   "source": [
    "sample_mean = df.food_prep.mean()\n",
    "sample_std = df.food_prep.std()\n",
    "n = df.shape[0]\n",
    "multiplier = t.ppf(0.94, df = n - 1)\n",
    "print('sample_mean:',sample_mean)\n",
    "print('sample_std:',sample_std)\n",
    "print('multiplier:',multiplier)"
   ]
  },
  {
   "cell_type": "code",
   "execution_count": 12,
   "id": "4d97a326",
   "metadata": {},
   "outputs": [
    {
     "name": "stdout",
     "output_type": "stream",
     "text": [
      "Lower bound: 27.94671414818182 \n",
      "Upper bound: 34.893285851818185\n"
     ]
    }
   ],
   "source": [
    "margin_error = multiplier * (sample_std / np.sqrt(n))\n",
    "lower, upper = sample_mean - margin_error, sample_mean + margin_error\n",
    "print(\"Lower bound:\", lower, \"\\nUpper bound:\", upper)"
   ]
  },
  {
   "cell_type": "markdown",
   "id": "e1e5104a",
   "metadata": {},
   "source": [
    "**c)** Put your confidence interval into words.  That is, interpret your confidence interval."
   ]
  },
  {
   "cell_type": "markdown",
   "id": "94b9e976",
   "metadata": {},
   "source": [
    "I am 88% confident that the true population mean time spent preparing food or drink by all American adults falls inside the confidence interval (27.95, 34.89) minutes."
   ]
  },
  {
   "cell_type": "markdown",
   "id": "72fe1d72",
   "metadata": {},
   "source": [
    "**d)** Interpret the confidence level for your interval calculation."
   ]
  },
  {
   "cell_type": "markdown",
   "id": "6883cd4c",
   "metadata": {},
   "source": [
    "If I repeat this process many times, taking repeated sample size 400 and creating and 88% confidence interval for each of the random samples, then I would expect that 88% of the resulting intervals to contain the true population mean time spent preparing food or drink by American adults in 24 hours."
   ]
  },
  {
   "cell_type": "markdown",
   "id": "6ededd1e",
   "metadata": {},
   "source": [
    "**e)** State & check the conditions (assumptions) for creating your confidence interval."
   ]
  },
  {
   "cell_type": "markdown",
   "id": "45e5e362",
   "metadata": {},
   "source": [
    "Conditions are:\n",
    "- Random sample of observations from the population.\n",
    "- Sample size is less than 10% of our population size.\n",
    "- Sample size is at least 30 OR population is normally distributed."
   ]
  },
  {
   "cell_type": "markdown",
   "id": "d4257be8",
   "metadata": {},
   "source": [
    "Chcek:\n",
    "- The sample is randomly selected according to the background information.\n",
    "- The observations are independent, because the sample is randomly selected and n is definitely fewer than 10% of US adults population.\n",
    "- Normality is met because n > 30."
   ]
  },
  {
   "cell_type": "markdown",
   "id": "eb8a68a3",
   "metadata": {},
   "source": [
    "**f)** What distribution did you use to find your multiplier above?  Explain why you used this distribution."
   ]
  },
  {
   "cell_type": "markdown",
   "id": "ace67faa",
   "metadata": {},
   "source": [
    "To find the multiplier, I used the t-distribution with n-1=399 degrees of freedom.\n",
    "\n",
    "I used this distribution because I also had to estimate the standard deviation of population with using another statistic($s$ to estimate $\\sigma$), which means I want to add a little extra wiggle room to my confidence interval by using t-distribution."
   ]
  },
  {
   "cell_type": "markdown",
   "id": "2e606086",
   "metadata": {},
   "source": [
    "<hr>\n",
    "\n",
    "## <u>Case Study 2</u>: Colleges and Universities\n",
    "\n",
    "We will use a random sample of post-secondary education facilities (colleges & universities) from the United States, including Puerto Rico & other US territories.  The **colleges.csv** file contains a random sample of 135 post-secondary education facilities from the US.  This data comes from: https://www.kaggle.com/yamqwe/colleges-and-universitiese\n",
    "\n",
    "We will focus on two variables in particular:\n",
    "\n",
    "- the total dorm capacity of the college or university (`DORM_CAP`)\n",
    "- the total number of students enrolled (`TOT_ENROLL`)\n",
    "\n",
    "## 3. Read and prepare the data [3 points] \n",
    "\n",
    "You should read in the data from the **colleges.csv** file, perform any cleaning that needs to take place, and create the following variable:\n",
    "\n",
    "- the variable `dorms`, a logical (Boolean) variable that indicates if the college or university offers dorms (dorm capacity is larger than 0)\n",
    "\n",
    "**Hint:** For the data cleaning, we only care about the 2 variables defined above.  Consider reasonable values for the `TOT_ENROLL` variable in particular, and remove any colleges or universities that do not have reasonable values recorded."
   ]
  },
  {
   "cell_type": "code",
   "execution_count": 15,
   "id": "a5632fdc",
   "metadata": {},
   "outputs": [
    {
     "data": {
      "text/plain": [
       "(135, 47)"
      ]
     },
     "execution_count": 15,
     "metadata": {},
     "output_type": "execute_result"
    }
   ],
   "source": [
    "df_dorms = pd.read_csv(\"colleges.csv\")\n",
    "df_dorms.shape"
   ]
  },
  {
   "cell_type": "code",
   "execution_count": 19,
   "id": "800a0d9a",
   "metadata": {},
   "outputs": [
    {
     "data": {
      "text/plain": [
       "array([   0,  668,   66,  650, 1389,  148,  159,  208,  385, 6566,  746,\n",
       "        364, 2357, 3142, 1629, 2700, 2021,  454, 1677,  230,  380, 9907,\n",
       "        220,  450, 1246,  232,  992,  877,  108,  166,  807,  211,  444,\n",
       "        513,  998,  325, 2762,  680,  518, 1258,  120])"
      ]
     },
     "execution_count": 19,
     "metadata": {},
     "output_type": "execute_result"
    }
   ],
   "source": [
    "df_dorms.DORM_CAP.unique()"
   ]
  },
  {
   "cell_type": "code",
   "execution_count": 20,
   "id": "572b9858",
   "metadata": {},
   "outputs": [
    {
     "data": {
      "text/plain": [
       "array([ 1666,  4216,  4391,  1508,  3407,    77,    95,  2874,   169,\n",
       "       12260,  3482,    67,   257,  1968,  1658, 23625,   177,    53,\n",
       "         783,   235,  7406,   294,  2254,   775,   507,  3713,   329,\n",
       "         312,    80,  1576,   695,    71, 40695,    62,   660,  3118,\n",
       "        2016,   498,    86,  8368,  2741,   175,   276,   262,   155,\n",
       "        9573,  4702,   142,   102, 18176,   296,   253,  8775,   408,\n",
       "         918,   153, 28127,   795,  1153,   244,   371,   186,  1894,\n",
       "        1107, 10979,   290,  2158,  3693, 13414,  7026,   820,   106,\n",
       "         205,    22, 21557, 12228,   100,   203,   394,   644,   640,\n",
       "        3359,   267,   629,  2632,  4149,  1754,  1370,    15,  1026,\n",
       "         134,    25,   178,    16,    11, 16650,   128,   327,   546,\n",
       "        1378,   190,   319,  5867,  1116,    96,   464,   605,   400,\n",
       "         200,   453,  4509,  1148,  8140,   245,    30,   447,  1973,\n",
       "       11431,    87,    12,  3332,  1400,   529,   981, 10073])"
      ]
     },
     "execution_count": 20,
     "metadata": {},
     "output_type": "execute_result"
    }
   ],
   "source": [
    "df_dorms.TOT_ENROLL.unique()"
   ]
  },
  {
   "cell_type": "code",
   "execution_count": 17,
   "id": "782b405f",
   "metadata": {},
   "outputs": [
    {
     "data": {
      "text/plain": [
       "(128, 47)"
      ]
     },
     "execution_count": 17,
     "metadata": {},
     "output_type": "execute_result"
    }
   ],
   "source": [
    "df_dorms = df_dorms[df_dorms.TOT_ENROLL > 0]\n",
    "df_dorms.shape"
   ]
  },
  {
   "cell_type": "code",
   "execution_count": 21,
   "id": "75419ab3",
   "metadata": {},
   "outputs": [
    {
     "data": {
      "text/html": [
       "<div>\n",
       "<style scoped>\n",
       "    .dataframe tbody tr th:only-of-type {\n",
       "        vertical-align: middle;\n",
       "    }\n",
       "\n",
       "    .dataframe tbody tr th {\n",
       "        vertical-align: top;\n",
       "    }\n",
       "\n",
       "    .dataframe thead th {\n",
       "        text-align: right;\n",
       "    }\n",
       "</style>\n",
       "<table border=\"1\" class=\"dataframe\">\n",
       "  <thead>\n",
       "    <tr style=\"text-align: right;\">\n",
       "      <th></th>\n",
       "      <th>Unnamed: 0</th>\n",
       "      <th>X</th>\n",
       "      <th>Y</th>\n",
       "      <th>FID</th>\n",
       "      <th>IPEDSID</th>\n",
       "      <th>NAME</th>\n",
       "      <th>ADDRESS</th>\n",
       "      <th>ADDRESS2</th>\n",
       "      <th>CITY</th>\n",
       "      <th>STATE</th>\n",
       "      <th>...</th>\n",
       "      <th>SIZE_SET</th>\n",
       "      <th>INST_SIZE</th>\n",
       "      <th>PT_ENROLL</th>\n",
       "      <th>FT_ENROLL</th>\n",
       "      <th>TOT_ENROLL</th>\n",
       "      <th>HOUSING</th>\n",
       "      <th>DORM_CAP</th>\n",
       "      <th>TOT_EMPLOY</th>\n",
       "      <th>SHELTER_ID</th>\n",
       "      <th>dorms</th>\n",
       "    </tr>\n",
       "  </thead>\n",
       "  <tbody>\n",
       "    <tr>\n",
       "      <th>0</th>\n",
       "      <td>3003</td>\n",
       "      <td>-73.490213</td>\n",
       "      <td>40.759564</td>\n",
       "      <td>5268</td>\n",
       "      <td>189459</td>\n",
       "      <td>Briarcliffe College</td>\n",
       "      <td>1055 Stewart Ave</td>\n",
       "      <td>NOT AVAILABLE</td>\n",
       "      <td>Bethpage</td>\n",
       "      <td>NY</td>\n",
       "      <td>...</td>\n",
       "      <td>9</td>\n",
       "      <td>2</td>\n",
       "      <td>440</td>\n",
       "      <td>1226</td>\n",
       "      <td>1666</td>\n",
       "      <td>2</td>\n",
       "      <td>0</td>\n",
       "      <td>356</td>\n",
       "      <td>NOT AVAILABLE</td>\n",
       "      <td>False</td>\n",
       "    </tr>\n",
       "    <tr>\n",
       "      <th>1</th>\n",
       "      <td>2832</td>\n",
       "      <td>-78.332293</td>\n",
       "      <td>35.501418</td>\n",
       "      <td>5097</td>\n",
       "      <td>198774</td>\n",
       "      <td>Johnston Community College</td>\n",
       "      <td>245 College Road</td>\n",
       "      <td>NOT AVAILABLE</td>\n",
       "      <td>Smithfield</td>\n",
       "      <td>NC</td>\n",
       "      <td>...</td>\n",
       "      <td>3</td>\n",
       "      <td>2</td>\n",
       "      <td>2141</td>\n",
       "      <td>2075</td>\n",
       "      <td>4216</td>\n",
       "      <td>2</td>\n",
       "      <td>0</td>\n",
       "      <td>697</td>\n",
       "      <td>NOT AVAILABLE</td>\n",
       "      <td>False</td>\n",
       "    </tr>\n",
       "    <tr>\n",
       "      <th>2</th>\n",
       "      <td>3811</td>\n",
       "      <td>-101.891915</td>\n",
       "      <td>33.589284</td>\n",
       "      <td>1076</td>\n",
       "      <td>229337</td>\n",
       "      <td>Texas Tech University Health Sciences Center</td>\n",
       "      <td>3601 4th Street</td>\n",
       "      <td>NOT AVAILABLE</td>\n",
       "      <td>Lubbock</td>\n",
       "      <td>TX</td>\n",
       "      <td>...</td>\n",
       "      <td>-2</td>\n",
       "      <td>2</td>\n",
       "      <td>916</td>\n",
       "      <td>3475</td>\n",
       "      <td>4391</td>\n",
       "      <td>2</td>\n",
       "      <td>0</td>\n",
       "      <td>5574</td>\n",
       "      <td>NOT AVAILABLE</td>\n",
       "      <td>False</td>\n",
       "    </tr>\n",
       "    <tr>\n",
       "      <th>3</th>\n",
       "      <td>5143</td>\n",
       "      <td>-85.196213</td>\n",
       "      <td>34.258192</td>\n",
       "      <td>4408</td>\n",
       "      <td>140988</td>\n",
       "      <td>Shorter University</td>\n",
       "      <td>315 Shorter Ave</td>\n",
       "      <td>NOT AVAILABLE</td>\n",
       "      <td>Rome</td>\n",
       "      <td>GA</td>\n",
       "      <td>...</td>\n",
       "      <td>11</td>\n",
       "      <td>2</td>\n",
       "      <td>130</td>\n",
       "      <td>1378</td>\n",
       "      <td>1508</td>\n",
       "      <td>1</td>\n",
       "      <td>668</td>\n",
       "      <td>319</td>\n",
       "      <td>NOT AVAILABLE</td>\n",
       "      <td>True</td>\n",
       "    </tr>\n",
       "    <tr>\n",
       "      <th>5</th>\n",
       "      <td>204</td>\n",
       "      <td>-104.831950</td>\n",
       "      <td>39.676030</td>\n",
       "      <td>7204</td>\n",
       "      <td>460738</td>\n",
       "      <td>American Sentinel University</td>\n",
       "      <td>2260 South Xanadu Way</td>\n",
       "      <td>NOT AVAILABLE</td>\n",
       "      <td>Aurora</td>\n",
       "      <td>CO</td>\n",
       "      <td>...</td>\n",
       "      <td>-3</td>\n",
       "      <td>2</td>\n",
       "      <td>3074</td>\n",
       "      <td>333</td>\n",
       "      <td>3407</td>\n",
       "      <td>2</td>\n",
       "      <td>0</td>\n",
       "      <td>91</td>\n",
       "      <td>NOT AVAILABLE</td>\n",
       "      <td>False</td>\n",
       "    </tr>\n",
       "  </tbody>\n",
       "</table>\n",
       "<p>5 rows × 48 columns</p>\n",
       "</div>"
      ],
      "text/plain": [
       "   Unnamed: 0           X          Y   FID  IPEDSID  \\\n",
       "0        3003  -73.490213  40.759564  5268   189459   \n",
       "1        2832  -78.332293  35.501418  5097   198774   \n",
       "2        3811 -101.891915  33.589284  1076   229337   \n",
       "3        5143  -85.196213  34.258192  4408   140988   \n",
       "5         204 -104.831950  39.676030  7204   460738   \n",
       "\n",
       "                                           NAME                ADDRESS  \\\n",
       "0                           Briarcliffe College       1055 Stewart Ave   \n",
       "1                    Johnston Community College       245 College Road   \n",
       "2  Texas Tech University Health Sciences Center        3601 4th Street   \n",
       "3                            Shorter University        315 Shorter Ave   \n",
       "5                  American Sentinel University  2260 South Xanadu Way   \n",
       "\n",
       "        ADDRESS2        CITY STATE  ... SIZE_SET INST_SIZE PT_ENROLL  \\\n",
       "0  NOT AVAILABLE    Bethpage    NY  ...        9         2       440   \n",
       "1  NOT AVAILABLE  Smithfield    NC  ...        3         2      2141   \n",
       "2  NOT AVAILABLE     Lubbock    TX  ...       -2         2       916   \n",
       "3  NOT AVAILABLE        Rome    GA  ...       11         2       130   \n",
       "5  NOT AVAILABLE      Aurora    CO  ...       -3         2      3074   \n",
       "\n",
       "   FT_ENROLL TOT_ENROLL  HOUSING DORM_CAP  TOT_EMPLOY     SHELTER_ID  dorms  \n",
       "0       1226       1666        2        0         356  NOT AVAILABLE  False  \n",
       "1       2075       4216        2        0         697  NOT AVAILABLE  False  \n",
       "2       3475       4391        2        0        5574  NOT AVAILABLE  False  \n",
       "3       1378       1508        1      668         319  NOT AVAILABLE   True  \n",
       "5        333       3407        2        0          91  NOT AVAILABLE  False  \n",
       "\n",
       "[5 rows x 48 columns]"
      ]
     },
     "execution_count": 21,
     "metadata": {},
     "output_type": "execute_result"
    }
   ],
   "source": [
    "df_dorms['dorms'] = df_dorms.DORM_CAP > 0\n",
    "df_dorms.head()"
   ]
  },
  {
   "cell_type": "code",
   "execution_count": 22,
   "id": "11b00480",
   "metadata": {},
   "outputs": [
    {
     "data": {
      "text/plain": [
       "False    88\n",
       "True     40\n",
       "Name: dorms, dtype: int64"
      ]
     },
     "execution_count": 22,
     "metadata": {},
     "output_type": "execute_result"
    }
   ],
   "source": [
    "df_dorms.dorms.value_counts()"
   ]
  },
  {
   "cell_type": "markdown",
   "id": "92a41d0d",
   "metadata": {},
   "source": [
    "## 4. Do Colleges Offer Dorms? [18 points]\n",
    "\n",
    "Based on our remaining random sample of colleges and universities, we will estimate the proportion of colleges and universities that offer dorms as housing with 75% confidence. \n",
    "\n",
    "**a)** Define our parameter of interest in the context of the problem."
   ]
  },
  {
   "cell_type": "markdown",
   "id": "faa7a221",
   "metadata": {},
   "source": [
    "$p$, the population proportion of colleges and universities that offer dorms as housing"
   ]
  },
  {
   "cell_type": "markdown",
   "id": "19088aa7",
   "metadata": {},
   "source": [
    "**b)** State & check the conditions before generating your confidence interval."
   ]
  },
  {
   "cell_type": "code",
   "execution_count": 18,
   "id": "60cfd9c9",
   "metadata": {},
   "outputs": [],
   "source": [
    "p = 40/128\n",
    "n = df_dorms.shape[0]"
   ]
  },
  {
   "cell_type": "code",
   "execution_count": 19,
   "id": "69f97b5d",
   "metadata": {},
   "outputs": [
    {
     "data": {
      "text/plain": [
       "40.0"
      ]
     },
     "execution_count": 19,
     "metadata": {},
     "output_type": "execute_result"
    }
   ],
   "source": [
    "n * p"
   ]
  },
  {
   "cell_type": "code",
   "execution_count": 20,
   "id": "09c9c07f",
   "metadata": {},
   "outputs": [
    {
     "data": {
      "text/plain": [
       "88.0"
      ]
     },
     "execution_count": 20,
     "metadata": {},
     "output_type": "execute_result"
    }
   ],
   "source": [
    "n * (1 - p)"
   ]
  },
  {
   "cell_type": "markdown",
   "id": "2a96c54e",
   "metadata": {},
   "source": [
    "### We can conclude that our CI will be valide due to the following evidence.\n",
    "- Observation is independent.\n",
    "    - Sampel is ramdomly selected (as is defined by background information)\n",
    "    - Sample size is less than 10% of population. $n < 0.1N$ (N is the total number of post-secondary schools in US and exceeds 1280.)\n",
    "- Normality is met as $np > 10$ and $ n(1 - p) > 10$."
   ]
  },
  {
   "cell_type": "markdown",
   "id": "69fea72f",
   "metadata": {},
   "source": [
    "**c)** Calculate the 75% confidence interval that estimates the proportion of colleges and universities that offer dorms as housing."
   ]
  },
  {
   "cell_type": "markdown",
   "id": "c177b51a",
   "metadata": {},
   "source": [
    "The formula for the confidence interval of proportion is:\n",
    "$\\hat{p} \\pm z^*\\times\\sqrt{\\frac{\\hat{p} (1-\\hat{p})} {n}}$"
   ]
  },
  {
   "cell_type": "code",
   "execution_count": 28,
   "id": "88291530",
   "metadata": {},
   "outputs": [
    {
     "data": {
      "text/plain": [
       "1.1503493803760079"
      ]
     },
     "execution_count": 28,
     "metadata": {},
     "output_type": "execute_result"
    }
   ],
   "source": [
    "p_hat = 40/128\n",
    "n = 128\n",
    "z_star = norm.ppf(0.75 + 0.25/2)\n",
    "z_star"
   ]
  },
  {
   "cell_type": "code",
   "execution_count": 31,
   "id": "f35af540",
   "metadata": {},
   "outputs": [
    {
     "data": {
      "text/plain": [
       "0.04712877377443001"
      ]
     },
     "execution_count": 31,
     "metadata": {},
     "output_type": "execute_result"
    }
   ],
   "source": [
    "margin_error = z_star * np.sqrt(p_hat * (1-p_hat)/n)\n",
    "margin_error"
   ]
  },
  {
   "cell_type": "code",
   "execution_count": 32,
   "id": "571aa6a4",
   "metadata": {},
   "outputs": [
    {
     "name": "stdout",
     "output_type": "stream",
     "text": [
      "0.26537122622556997 , 0.35962877377443003\n"
     ]
    }
   ],
   "source": [
    "lower, upper = p_hat - margin_error, p_hat + margin_error\n",
    "print(lower,\",\", upper)"
   ]
  },
  {
   "cell_type": "markdown",
   "id": "3bacb50c",
   "metadata": {},
   "source": [
    "**d)** Interpret your confidence interval.  That is, put your interval into words."
   ]
  },
  {
   "cell_type": "markdown",
   "id": "6481e23d",
   "metadata": {},
   "source": [
    "We are 75% confident that the true population proportion of all post-secondary schools from US that offers dorms is between 0.2654 and 0.3562."
   ]
  },
  {
   "cell_type": "markdown",
   "id": "0fe9dc85",
   "metadata": {},
   "source": [
    "**e)** Based on your confidence interval, respond to the following statement.\n",
    "\n",
    "Is it reasonable to say that the proportion of all colleges and universities that offer dorms as housing options for students is different from one third (1/3)?\n",
    "\n",
    "Be sure to explain your answer, and write out the corresponding hypotheses that we could be testing."
   ]
  },
  {
   "cell_type": "markdown",
   "id": "0c6045a0",
   "metadata": {},
   "source": [
    "**Describe by using confidence interval**\n",
    "\n",
    "The value of 0.33, which representing 1/3, is contained in the confidence interval. Therefore, it is reasonable for our parameter of interest.\n",
    "\n",
    "**Describe by using hypothesis test**\n",
    "\n",
    "$H_0$: $p = 1/3$ The proportion of all colleges and university that offer dorms as housing options for students is one third.\n",
    "\n",
    "$H_a$: $p \\ne 1/3$ The proportion of all colleges and university that offer dorms as housing options for students lower than one third.\n",
    "\n",
    "Significance Level: $\\alpha = 1 - 0.74 = 0.25$\n",
    "\n",
    "Thus, I would fail to reject the null hypothesis at a significance level of 0.25."
   ]
  },
  {
   "cell_type": "markdown",
   "id": "9de2d4a4",
   "metadata": {},
   "source": [
    "**f)** Suppose that we gather a second random sample of 128 colleges, and record the proportion of colleges and univerisities that offer dorms as housing for this sample.  We generate a second confidence interval for our proportion from this sample, and find that we have a different confidence interval calculated than from part **c** above.  Based on the fact that our confidence interval calculation is different, did we do something wrong during the confidence interval generation?  Explain."
   ]
  },
  {
   "cell_type": "markdown",
   "id": "36e91668",
   "metadata": {},
   "source": [
    "$\\hat{p} \\pm z^*\\times\\sqrt{\\frac{\\hat{p} (1-\\hat{p})} {n}}$\n",
    "\n",
    "We did not do anything incorrect. $z^*, n$ will remain the same as we are also creating a 75% interval. However, as we are gaterng a new sample, $\\hat{p}$ might be different."
   ]
  },
  {
   "cell_type": "markdown",
   "id": "ebd29b90",
   "metadata": {},
   "source": [
    "**g)** Now suppose that we gather 200 random samples of 128 colleges, and record the proportion of colleges and universities that offer dorms as housing for each sample.  We use our sample data for each sample to generate a new 75% confidence interval.  How many of the 200 random samples do you expect to miss the true proportion of colleges and universities that offer dorms as housing for each sample?"
   ]
  },
  {
   "cell_type": "code",
   "execution_count": 24,
   "id": "8cb2ded7",
   "metadata": {},
   "outputs": [
    {
     "data": {
      "text/plain": [
       "50.0"
      ]
     },
     "execution_count": 24,
     "metadata": {},
     "output_type": "execute_result"
    }
   ],
   "source": [
    "200 * (1 - 0.75)"
   ]
  },
  {
   "cell_type": "markdown",
   "id": "3826d6fb",
   "metadata": {},
   "source": [
    "The confidence level interpretation explains that I would expect 75% of 200 sample would contain the true population proportion.\n",
    "\n",
    "That means 25% of the confidence intervals of samples will not contain the true proportion.\n",
    "\n",
    "25% of 200 is 50."
   ]
  },
  {
   "cell_type": "markdown",
   "id": "725d266e",
   "metadata": {},
   "source": [
    "## 5. Average enrollment? [13 points] (Bootsrapped Sampling Method)\n",
    "\n",
    "The University of Illinois is a large university, with a total enrollment of approximately 44,000.  There are many smaller colleges in the state, including Parkland College with a total enrollment of 9,715.  \n",
    "\n",
    "We know that there are many more smaller colleges than large universities, so we'd like to test if the average college enrollment is smaller than the enrollment of Parkland College.  \n",
    "\n",
    "We'd like to perform a hypothesis test using a 10% significance level based on our sample of colleges and universities.\n",
    "\n",
    "**a)** Write out your hypotheses.  Be sure to use appropriate notation and to define the parameter of interest."
   ]
  },
  {
   "cell_type": "markdown",
   "id": "84781cce",
   "metadata": {},
   "source": [
    "$H_0$: Average college enrollment is similar to the enrollment of Parkland College(9715). $\\mu = 9715$\n",
    "\n",
    "$H_a$: Average college enrollment is lower than the enrollment of Parkland College. $\\mu < 9715$"
   ]
  },
  {
   "cell_type": "markdown",
   "id": "1b8226ce",
   "metadata": {},
   "source": [
    "**b)** While we could follow the standard hypothesis testing procedure, we will instead make use of our simulation procedures that we have developed so far this semester.\n",
    "\n",
    "While we only have our one sample available, we will use it as a stand in for the population.  From our sample, gather a random sample with replacement of the same size as our original sample data.  We will then repeat this process to generate many random samples.  For each of our random samples, calculate and record our statistic of interest.  We will repeat this process 5000 times, and use the 5000 observations of our statistic of interest as a sampling distribution.\n",
    "\n",
    "Since we are using sample data to generate this sampling distribution, we can refer to our estimated sampling distribution as a **bootstrapped** distribution."
   ]
  },
  {
   "cell_type": "code",
   "execution_count": 34,
   "id": "a3bed4de",
   "metadata": {},
   "outputs": [],
   "source": [
    "data = []\n",
    "for i in range(5000):\n",
    "    mean_enroll = df_dorms.sample(128, replace = True).TOT_ENROLL.mean()\n",
    "    d = {\"mean_enroll\" : mean_enroll}\n",
    "    data.append(d)\n",
    "df_simulation_result = pd.DataFrame(data)"
   ]
  },
  {
   "cell_type": "code",
   "execution_count": 35,
   "id": "7597b255",
   "metadata": {},
   "outputs": [
    {
     "data": {
      "text/html": [
       "<div>\n",
       "<style scoped>\n",
       "    .dataframe tbody tr th:only-of-type {\n",
       "        vertical-align: middle;\n",
       "    }\n",
       "\n",
       "    .dataframe tbody tr th {\n",
       "        vertical-align: top;\n",
       "    }\n",
       "\n",
       "    .dataframe thead th {\n",
       "        text-align: right;\n",
       "    }\n",
       "</style>\n",
       "<table border=\"1\" class=\"dataframe\">\n",
       "  <thead>\n",
       "    <tr style=\"text-align: right;\">\n",
       "      <th></th>\n",
       "      <th>mean_enroll</th>\n",
       "    </tr>\n",
       "  </thead>\n",
       "  <tbody>\n",
       "    <tr>\n",
       "      <th>0</th>\n",
       "      <td>2760.773438</td>\n",
       "    </tr>\n",
       "    <tr>\n",
       "      <th>1</th>\n",
       "      <td>3493.773438</td>\n",
       "    </tr>\n",
       "    <tr>\n",
       "      <th>2</th>\n",
       "      <td>2396.421875</td>\n",
       "    </tr>\n",
       "    <tr>\n",
       "      <th>3</th>\n",
       "      <td>3590.125000</td>\n",
       "    </tr>\n",
       "    <tr>\n",
       "      <th>4</th>\n",
       "      <td>3001.007812</td>\n",
       "    </tr>\n",
       "    <tr>\n",
       "      <th>...</th>\n",
       "      <td>...</td>\n",
       "    </tr>\n",
       "    <tr>\n",
       "      <th>4995</th>\n",
       "      <td>4058.578125</td>\n",
       "    </tr>\n",
       "    <tr>\n",
       "      <th>4996</th>\n",
       "      <td>2814.203125</td>\n",
       "    </tr>\n",
       "    <tr>\n",
       "      <th>4997</th>\n",
       "      <td>2887.445312</td>\n",
       "    </tr>\n",
       "    <tr>\n",
       "      <th>4998</th>\n",
       "      <td>3474.937500</td>\n",
       "    </tr>\n",
       "    <tr>\n",
       "      <th>4999</th>\n",
       "      <td>3263.789062</td>\n",
       "    </tr>\n",
       "  </tbody>\n",
       "</table>\n",
       "<p>5000 rows × 1 columns</p>\n",
       "</div>"
      ],
      "text/plain": [
       "      mean_enroll\n",
       "0     2760.773438\n",
       "1     3493.773438\n",
       "2     2396.421875\n",
       "3     3590.125000\n",
       "4     3001.007812\n",
       "...           ...\n",
       "4995  4058.578125\n",
       "4996  2814.203125\n",
       "4997  2887.445312\n",
       "4998  3474.937500\n",
       "4999  3263.789062\n",
       "\n",
       "[5000 rows x 1 columns]"
      ]
     },
     "execution_count": 35,
     "metadata": {},
     "output_type": "execute_result"
    }
   ],
   "source": [
    "df_simulation_result"
   ]
  },
  {
   "cell_type": "markdown",
   "id": "06b2c46e",
   "metadata": {},
   "source": [
    "**c)** Generate a histogram of the **bootstrapped** distribution."
   ]
  },
  {
   "cell_type": "code",
   "execution_count": 36,
   "id": "9b50270b",
   "metadata": {},
   "outputs": [
    {
     "data": {
      "text/plain": [
       "<AxesSubplot: >"
      ]
     },
     "execution_count": 36,
     "metadata": {},
     "output_type": "execute_result"
    },
    {
     "data": {
      "image/png": "[encoded data removed]",
      "text/plain": [
       "<Figure size 640x480 with 1 Axes>"
      ]
     },
     "metadata": {},
     "output_type": "display_data"
    }
   ],
   "source": [
    "df_simulation_result.mean_enroll.hist()"
   ]
  },
  {
   "cell_type": "markdown",
   "id": "26107f9a",
   "metadata": {},
   "source": [
    "**d)** Find the middle 80% of the bootstrapped distribution.\n",
    "\n",
    "We can use this as an approximation for an 80% confidence interval.\n",
    "\n",
    "*Hint*: Recall that we previously found percentiles for a set of data in Case Study 3 (about Quantitative Variables) when we were finding the IQR.  We can make adjustments to the arguments for the code to help us find the middle 80% of our bootstrapped distribution."
   ]
  },
  {
   "cell_type": "code",
   "execution_count": 41,
   "id": "8107d80a",
   "metadata": {},
   "outputs": [
    {
     "data": {
      "text/plain": [
       "2322.67578125"
      ]
     },
     "execution_count": 41,
     "metadata": {},
     "output_type": "execute_result"
    }
   ],
   "source": [
    "lower = df_simulation_result.mean_enroll.quantile(0.1)\n",
    "lower"
   ]
  },
  {
   "cell_type": "code",
   "execution_count": 42,
   "id": "90bf8ac0",
   "metadata": {},
   "outputs": [
    {
     "data": {
      "text/plain": [
       "3668.12109375"
      ]
     },
     "execution_count": 42,
     "metadata": {},
     "output_type": "execute_result"
    }
   ],
   "source": [
    "upper = df_simulation_result.mean_enroll.quantile(0.9)\n",
    "upper"
   ]
  },
  {
   "cell_type": "code",
   "execution_count": 43,
   "id": "7a9f339a",
   "metadata": {},
   "outputs": [
    {
     "name": "stdout",
     "output_type": "stream",
     "text": [
      "2322.67578125 , 3668.12109375\n"
     ]
    }
   ],
   "source": [
    "print(lower,\",\", upper)"
   ]
  },
  {
   "cell_type": "markdown",
   "id": "ac0a6773",
   "metadata": {},
   "source": [
    "**e)** Based on the interval from part **d**, assess the theories in the hypotheses in part **a**.  Which is more reasonable?  Explain."
   ]
  },
  {
   "cell_type": "markdown",
   "id": "8b842e2e",
   "metadata": {},
   "source": [
    "We reject the null hypothesis, because the 9715 enrollment is far outside the interval, which is really unusual.\n",
    "\n",
    "The average enrollment is lower than Parkland College's enrollment."
   ]
  },
  {
   "cell_type": "markdown",
   "id": "f02327ec",
   "metadata": {},
   "source": [
    "Remember to keep all your cells and hit the save icon above periodically to checkpoint (save) your results on your local computer. Once you are satisified with your results restart the kernel and run all (Kernel -> Restart & Run All). **Make sure nothing has changed**. Checkpoint and exit (File -> Save and Checkpoint + File -> Close and Halt). Follow the instructions on the Homework 4 Canvas Assignment to submit your notebook to GitHub."
   ]
  }
 ],
 "metadata": {
  "kernelspec": {
   "display_name": "Python 3 (ipykernel)",
   "language": "python",
   "name": "python3"
  },
  "language_info": {
   "codemirror_mode": {
    "name": "ipython",
    "version": 3
   },
   "file_extension": ".py",
   "mimetype": "text/x-python",
   "name": "python",
   "nbconvert_exporter": "python",
   "pygments_lexer": "ipython3",
   "version": "3.10.8"
  }
 },
 "nbformat": 4,
 "nbformat_minor": 5
}
