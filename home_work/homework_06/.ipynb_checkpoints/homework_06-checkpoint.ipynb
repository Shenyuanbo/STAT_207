{
 "cells": [
  {
   "cell_type": "markdown",
   "id": "e746da0e",
   "metadata": {},
   "source": [
    "# STAT 207 Homework 6 [50 points]\n",
    "\n",
    "## Random Variables and Defined Distributions"
   ]
  },
  {
   "cell_type": "markdown",
   "id": "6fef820a",
   "metadata": {},
   "source": [
    "Due: Friday, March 3 by noon (11:59 am) CST\n",
    "\n",
    "<hr>"
   ]
  },
  {
   "cell_type": "markdown",
   "id": "c4d94493",
   "metadata": {},
   "source": [
    "## Package Imports\n",
    "\n",
    "Run the cell provided below to import packages needed for this assignment.\n",
    "\n",
    "You may also need to read in additional packages below."
   ]
  },
  {
   "cell_type": "code",
   "execution_count": 1,
   "id": "25c92b96",
   "metadata": {},
   "outputs": [],
   "source": [
    "import pandas as pd\n",
    "import seaborn as sns\n",
    "import matplotlib.pyplot as plt\n",
    "import numpy as np\n",
    "from scipy.stats import geom\n",
    "from scipy.stats import norm\n",
    "from scipy.stats import expon"
   ]
  },
  {
   "cell_type": "markdown",
   "id": "ac088395",
   "metadata": {},
   "source": [
    "<hr>\n",
    "\n",
    "## <u>Case Study 1</u>: Slot Machine Gambling [7 points]\n",
    "\n",
    "Suppose a gambler has a strategy to keep playing a slot matchine until they win a round. After the gambler **wins** a round, they stop playing for the day. The probability of **winning** any given slot machine round is 0.02."
   ]
  },
  {
   "cell_type": "markdown",
   "id": "d102aa01",
   "metadata": {},
   "source": [
    "**a)**  On average, how many rounds of the slot machine will the gambler play before stopping for the day? "
   ]
  },
  {
   "cell_type": "code",
   "execution_count": 2,
   "id": "02bbc6be",
   "metadata": {},
   "outputs": [
    {
     "data": {
      "text/plain": [
       "50.0"
      ]
     },
     "execution_count": 2,
     "metadata": {},
     "output_type": "execute_result"
    }
   ],
   "source": [
    "1/0.02"
   ]
  },
  {
   "cell_type": "markdown",
   "id": "5872fff5",
   "metadata": {},
   "source": [
    "**b)** Suppose that it costs $\\$1$ to play each round of the slot machine. The gambler always brings $\\$100$ with them to play the slot machine each day. If they run out of this $\\$100$ (i.e. they play the game more than 100 times), then they go to borrow money from their friend and keep playing the slot machine until they win. What percent of days does does the gambler need to borrow money from this friend?"
   ]
  },
  {
   "cell_type": "code",
   "execution_count": 3,
   "id": "c6516cc2",
   "metadata": {},
   "outputs": [
    {
     "data": {
      "text/plain": [
       "0.13261955589475316"
      ]
     },
     "execution_count": 3,
     "metadata": {},
     "output_type": "execute_result"
    }
   ],
   "source": [
    "1 - geom.cdf(100, p = 0.02)"
   ]
  },
  {
   "cell_type": "markdown",
   "id": "2e606086",
   "metadata": {},
   "source": [
    "<hr>\n",
    "\n",
    "## <u>Case Study 2</u>: SAT Score Scholarship Analysis [13 points]\n",
    "\n",
    "Suppose the distribution of SAT scores for the seniors at a local high school (just math and verbal) has an average of 1000, a standard deviation of 100, and follows a normal distribution. \n",
    "\n",
    "**a)**  What is the probability that randomly selected senior from the high school scored more than 1250?"
   ]
  },
  {
   "cell_type": "code",
   "execution_count": 4,
   "id": "a5632fdc",
   "metadata": {},
   "outputs": [
    {
     "data": {
      "text/plain": [
       "0.006209665325776159"
      ]
     },
     "execution_count": 4,
     "metadata": {},
     "output_type": "execute_result"
    }
   ],
   "source": [
    "1 - norm.cdf(1250, loc = 1000, scale = 100)"
   ]
  },
  {
   "cell_type": "markdown",
   "id": "92a41d0d",
   "metadata": {},
   "source": [
    "**b)** What percent of seniors at the school score between a 900 and 950?"
   ]
  },
  {
   "cell_type": "code",
   "execution_count": 5,
   "id": "902220b6",
   "metadata": {},
   "outputs": [
    {
     "data": {
      "text/plain": [
       "0.1498822847945298"
      ]
     },
     "execution_count": 5,
     "metadata": {},
     "output_type": "execute_result"
    }
   ],
   "source": [
    "norm.cdf(950, loc = 1000, scale = 100) - norm.cdf(900, loc = 1000, scale = 100)"
   ]
  },
  {
   "cell_type": "markdown",
   "id": "fa09c546",
   "metadata": {},
   "source": [
    "The percent is 14.99%"
   ]
  },
  {
   "cell_type": "markdown",
   "id": "19088aa7",
   "metadata": {},
   "source": [
    "**c)** Suppose that all seniors at the school who score higher than a 1200 get a scholarship from the county. Suppose that we randomly select a student that we KNOW got the scholarship. GIVEN that we know that the student has the scholarship, what is the probability that this student's SAT score was less than 1300?\n",
    "\n",
    "**Hint:** You might want to consider some of our basic probability rules."
   ]
  },
  {
   "cell_type": "code",
   "execution_count": 6,
   "id": "bf91e798",
   "metadata": {},
   "outputs": [
    {
     "data": {
      "text/plain": [
       "0.02275013194817921"
      ]
     },
     "execution_count": 6,
     "metadata": {},
     "output_type": "execute_result"
    }
   ],
   "source": [
    "p_get_scholarship = 1 - norm.cdf(1200, loc = 1000, scale = 100)\n",
    "p_get_scholarship"
   ]
  },
  {
   "cell_type": "code",
   "execution_count": 7,
   "id": "46a29a20",
   "metadata": {},
   "outputs": [
    {
     "data": {
      "text/plain": [
       "0.021400233916549105"
      ]
     },
     "execution_count": 7,
     "metadata": {},
     "output_type": "execute_result"
    }
   ],
   "source": [
    "p_get_scholarship_and_lower_than_1300 = norm.cdf(1300, loc = 1000, scale = 100) - norm.cdf(1200, loc = 1000, scale = 100)\n",
    "p_get_scholarship_and_lower_than_1300"
   ]
  },
  {
   "cell_type": "code",
   "execution_count": 8,
   "id": "ed96b767",
   "metadata": {},
   "outputs": [
    {
     "data": {
      "text/plain": [
       "0.9406641669285728"
      ]
     },
     "execution_count": 8,
     "metadata": {},
     "output_type": "execute_result"
    }
   ],
   "source": [
    "p_get_scholarship_and_lower_than_1300 / p_get_scholarship"
   ]
  },
  {
   "cell_type": "markdown",
   "id": "e8aadb33",
   "metadata": {},
   "source": [
    "The probability is 0.94."
   ]
  },
  {
   "cell_type": "markdown",
   "id": "2a07034a",
   "metadata": {},
   "source": [
    "<hr>\n",
    "\n",
    "## <u>Case Study 3</u>: Farm Workers Salaries [5 points]\n",
    "\n",
    "Suppose the standard deviation of the hourly wage of a farm worker in Illinois is 4 dollars per hour and the distribution of hourly farm worker wages follows the normal distribution. Suppose that we know that 25% of farm workers in Illinois make at least 15 dollars per hour.\n",
    "\n",
    "What is the average hourly wage of farm workers in Illinois?"
   ]
  },
  {
   "cell_type": "code",
   "execution_count": 9,
   "id": "e251a331",
   "metadata": {},
   "outputs": [
    {
     "data": {
      "text/plain": [
       "-0.6744897501960817"
      ]
     },
     "execution_count": 9,
     "metadata": {},
     "output_type": "execute_result"
    }
   ],
   "source": [
    "z = norm.ppf(0.25)\n",
    "z"
   ]
  },
  {
   "cell_type": "code",
   "execution_count": 10,
   "id": "a7d38330",
   "metadata": {},
   "outputs": [
    {
     "data": {
      "text/plain": [
       "17.697959000784326"
      ]
     },
     "execution_count": 10,
     "metadata": {},
     "output_type": "execute_result"
    }
   ],
   "source": [
    "15 - z * 4"
   ]
  },
  {
   "cell_type": "markdown",
   "id": "267ad09f",
   "metadata": {},
   "source": [
    "Mean is 17.697959000784326."
   ]
  },
  {
   "cell_type": "markdown",
   "id": "3e654ee5",
   "metadata": {},
   "source": [
    "<hr>\n",
    "\n",
    "## <u>Case Study 4</u>: Wheelchair Basketball [15 points]\n",
    "\n",
    "Suppose that you are a manager for a wheelchair basketball team with 12 players on the roster.  The length of time that an athletic wheelchair can function before needing to be serviced follows an exponential distribution (accessible within Python through the `expon` set of methods from `scipy.stats`).  For this exponential distribution, you should set the scale parameter to 7 weeks.\n",
    "\n",
    "**a)** Using Python, generate a set of 12 randomly selected draws from the exponential distribution defined above.  You can think of each draw as the amount of time before a wheelchair needs to be serviced for a single player on the roster.\n",
    "\n",
    "*Hint*: I recommend using a random_state here, so that you can recreate your draws, if needed."
   ]
  },
  {
   "cell_type": "code",
   "execution_count": 11,
   "id": "782fd5ff",
   "metadata": {},
   "outputs": [
    {
     "data": {
      "text/plain": [
       "array([18.57653443,  2.66242598,  1.42269003,  1.60202146,  5.87085371,\n",
       "        6.33649844, 23.37042171,  7.41258696,  9.67351313,  7.4205189 ,\n",
       "        9.64036585, 22.76462827])"
      ]
     },
     "execution_count": 11,
     "metadata": {},
     "output_type": "execute_result"
    }
   ],
   "source": [
    "from scipy.stats import expon\n",
    "result = expon.rvs(size = 12, scale = 7, random_state = 12345)\n",
    "result"
   ]
  },
  {
   "cell_type": "markdown",
   "id": "dd07de9f",
   "metadata": {},
   "source": [
    "**b)**  Calculate the minimum, mean, median, standard deviation, and estimated probability of a wheelchair not needing to be serviced for the 16 weeks of the semester based on this particular set of draws from the exponential distribution, i.e. the time until a wheelchair needs to be serviced for each of the 12 players on the roster.\n",
    "\n",
    "*Hint*: You may want to use the tools demonstrated in the tutorial below to help perform these calculations.\n",
    "\n",
    "**Tutorial for working with arrays.**\n",
    "\n",
    "We don't always have objects in Python that allow us to use our typical methods for calculating summary values, including means, medians, and standard deviations.  If you find that your first attempt at a calculation doesn't work, try adjusting your code to the following format."
   ]
  },
  {
   "cell_type": "code",
   "execution_count": 12,
   "id": "e0475b65",
   "metadata": {},
   "outputs": [
    {
     "data": {
      "text/plain": [
       "3.0"
      ]
     },
     "execution_count": 12,
     "metadata": {},
     "output_type": "execute_result"
    }
   ],
   "source": [
    "x = np.array([1, 2, 3, 4, 5])\n",
    "# x.median() # doesn't work -- try it out my removing the first \"#\" to see the error message.\n",
    "np.median(x)"
   ]
  },
  {
   "cell_type": "code",
   "execution_count": 13,
   "id": "dd04cd0f",
   "metadata": {},
   "outputs": [
    {
     "name": "stdout",
     "output_type": "stream",
     "text": [
      "Mean: 9.72942157291259\n"
     ]
    }
   ],
   "source": [
    "print('Mean:', np.mean(result))"
   ]
  },
  {
   "cell_type": "code",
   "execution_count": 14,
   "id": "ae25d60f",
   "metadata": {},
   "outputs": [
    {
     "name": "stdout",
     "output_type": "stream",
     "text": [
      "Median: 7.416552930870255\n"
     ]
    }
   ],
   "source": [
    "print('Median:', np.median(result))"
   ]
  },
  {
   "cell_type": "code",
   "execution_count": 15,
   "id": "d225dc5b",
   "metadata": {},
   "outputs": [
    {
     "name": "stdout",
     "output_type": "stream",
     "text": [
      "Minimum: 1.422690034315351\n"
     ]
    }
   ],
   "source": [
    "print('Minimum:', np.min(result))"
   ]
  },
  {
   "cell_type": "code",
   "execution_count": 16,
   "id": "5a4ab9bb",
   "metadata": {},
   "outputs": [
    {
     "name": "stdout",
     "output_type": "stream",
     "text": [
      "Standard Deviation: 7.3957985634292776\n"
     ]
    }
   ],
   "source": [
    "print('Standard Deviation:', np.std(result))"
   ]
  },
  {
   "cell_type": "markdown",
   "id": "c22b2ca5",
   "metadata": {},
   "source": [
    "**c)** Based on your random sample, what is the first time that a player would need their wheelchair serviced?\n",
    "\n",
    "How many players would need their wheelchair serviced during the semester?"
   ]
  },
  {
   "cell_type": "code",
   "execution_count": 17,
   "id": "cb2798c4",
   "metadata": {},
   "outputs": [
    {
     "data": {
      "text/plain": [
       "array([ True, False, False, False, False, False,  True, False, False,\n",
       "       False, False,  True])"
      ]
     },
     "execution_count": 17,
     "metadata": {},
     "output_type": "execute_result"
    }
   ],
   "source": [
    "result > 16"
   ]
  },
  {
   "cell_type": "code",
   "execution_count": 18,
   "id": "aa2a60fb",
   "metadata": {},
   "outputs": [
    {
     "data": {
      "text/plain": [
       "9"
      ]
     },
     "execution_count": 18,
     "metadata": {},
     "output_type": "execute_result"
    }
   ],
   "source": [
    "12 - 3"
   ]
  },
  {
   "cell_type": "markdown",
   "id": "4e359c0a",
   "metadata": {},
   "source": [
    "By counting, I found that 9 players need their wheelchair serviced."
   ]
  },
  {
   "cell_type": "markdown",
   "id": "b6960113",
   "metadata": {},
   "source": [
    "The first time that a player would need their wheel chair serviced is 1.42269 weeks."
   ]
  },
  {
   "cell_type": "markdown",
   "id": "275204de",
   "metadata": {},
   "source": [
    "**d)** For the theoretical exponential distribution with a scale of 7, calculate and report the mean, median, standard deviation, and probability of a wheelchair not needing to be serviced for the 16 weeks of the semester.\n",
    "\n",
    "*Hint*: The exponential distribution is a continuous random variable and has many of the same functions as other continuous random variables we have discussed in class.  You can also find documentation for this distribution online."
   ]
  },
  {
   "cell_type": "code",
   "execution_count": 19,
   "id": "9665f24d",
   "metadata": {
    "scrolled": true
   },
   "outputs": [
    {
     "name": "stdout",
     "output_type": "stream",
     "text": [
      "Median: 4.852030263919617\n"
     ]
    }
   ],
   "source": [
    "print('Median:', expon.ppf(0.5, scale = 7))"
   ]
  },
  {
   "cell_type": "code",
   "execution_count": 20,
   "id": "5b03691c",
   "metadata": {},
   "outputs": [
    {
     "name": "stdout",
     "output_type": "stream",
     "text": [
      "Std: 7.0\n"
     ]
    }
   ],
   "source": [
    "print(\"Std:\", expon.std(scale = 7))"
   ]
  },
  {
   "cell_type": "code",
   "execution_count": 21,
   "id": "06e9d70c",
   "metadata": {},
   "outputs": [
    {
     "name": "stdout",
     "output_type": "stream",
     "text": [
      "Mean: 7.0\n"
     ]
    }
   ],
   "source": [
    "print(\"Mean:\",expon.mean(scale = 7))"
   ]
  },
  {
   "cell_type": "code",
   "execution_count": 22,
   "id": "c93d9578",
   "metadata": {},
   "outputs": [
    {
     "name": "stdout",
     "output_type": "stream",
     "text": [
      "probability: 0.10170139230422681\n"
     ]
    }
   ],
   "source": [
    "print('probability:', 1 - expon.cdf(16, scale = 7))"
   ]
  },
  {
   "cell_type": "code",
   "execution_count": 23,
   "id": "5e33cc15",
   "metadata": {},
   "outputs": [
    {
     "data": {
      "text/plain": [
       "0.25"
      ]
     },
     "execution_count": 23,
     "metadata": {},
     "output_type": "execute_result"
    }
   ],
   "source": [
    "3/12"
   ]
  },
  {
   "cell_type": "markdown",
   "id": "f5a39109",
   "metadata": {},
   "source": [
    "**e)** How close are the mean, median, standard deviation, and probability values between **4c** and **4d**?"
   ]
  },
  {
   "cell_type": "markdown",
   "id": "46b0fb4f",
   "metadata": {},
   "source": [
    "The theoretical mean(7 vs 9.729), standard deviation(7 vs 7.395), median(4.852 vs 7.416), probability values(0.1017 vs 0.25) are all lower than values in rvs funciton.\n",
    "\n",
    "Mean and standard deviation is relatively close, while median and probability values differ a lot."
   ]
  },
  {
   "cell_type": "markdown",
   "id": "0036d664",
   "metadata": {},
   "source": [
    "<hr>\n",
    "\n",
    "## <u>Case Study 5</u>: Central Limit Theorem [10 points]\n",
    "\n",
    "Consider the population of counties provided in the county.csv file.  We will examine the **per_capita_income** variable from this data.\n",
    "\n",
    "**a)** Read in the data.\n",
    "\n",
    "**Note that you will need to clean the data before you can perform your calculations.  The phrase 'data unavailable' represents missing data in this csv file.  You may assume that any counties with missing data are not included in our population for this calculation.**"
   ]
  },
  {
   "cell_type": "code",
   "execution_count": 24,
   "id": "5626f1bd",
   "metadata": {},
   "outputs": [
    {
     "data": {
      "text/plain": [
       "(2559, 15)"
      ]
     },
     "execution_count": 24,
     "metadata": {},
     "output_type": "execute_result"
    }
   ],
   "source": [
    "df = pd.read_csv('county.csv', na_values = ['data unavailable'])\n",
    "df = df.dropna()\n",
    "df.shape"
   ]
  },
  {
   "cell_type": "code",
   "execution_count": 25,
   "id": "70069593",
   "metadata": {},
   "outputs": [
    {
     "data": {
      "text/html": [
       "<div>\n",
       "<style scoped>\n",
       "    .dataframe tbody tr th:only-of-type {\n",
       "        vertical-align: middle;\n",
       "    }\n",
       "\n",
       "    .dataframe tbody tr th {\n",
       "        vertical-align: top;\n",
       "    }\n",
       "\n",
       "    .dataframe thead th {\n",
       "        text-align: right;\n",
       "    }\n",
       "</style>\n",
       "<table border=\"1\" class=\"dataframe\">\n",
       "  <thead>\n",
       "    <tr style=\"text-align: right;\">\n",
       "      <th></th>\n",
       "      <th>name</th>\n",
       "      <th>state</th>\n",
       "      <th>pop2000</th>\n",
       "      <th>pop2010</th>\n",
       "      <th>pop2017</th>\n",
       "      <th>pop_change</th>\n",
       "      <th>poverty</th>\n",
       "      <th>homeownership</th>\n",
       "      <th>multi_unit</th>\n",
       "      <th>unemployment_rate</th>\n",
       "      <th>metro</th>\n",
       "      <th>median_edu</th>\n",
       "      <th>per_capita_income</th>\n",
       "      <th>median_hh_income</th>\n",
       "      <th>smoking_ban</th>\n",
       "    </tr>\n",
       "  </thead>\n",
       "  <tbody>\n",
       "    <tr>\n",
       "      <th>0</th>\n",
       "      <td>Autauga County</td>\n",
       "      <td>Alabama</td>\n",
       "      <td>43671.0</td>\n",
       "      <td>54571</td>\n",
       "      <td>55504.0</td>\n",
       "      <td>1.48</td>\n",
       "      <td>13.7</td>\n",
       "      <td>77.5</td>\n",
       "      <td>7.2</td>\n",
       "      <td>3.86</td>\n",
       "      <td>yes</td>\n",
       "      <td>some_college</td>\n",
       "      <td>27841.70</td>\n",
       "      <td>55317.0</td>\n",
       "      <td>none</td>\n",
       "    </tr>\n",
       "    <tr>\n",
       "      <th>1</th>\n",
       "      <td>Baldwin County</td>\n",
       "      <td>Alabama</td>\n",
       "      <td>140415.0</td>\n",
       "      <td>182265</td>\n",
       "      <td>212628.0</td>\n",
       "      <td>9.19</td>\n",
       "      <td>11.8</td>\n",
       "      <td>76.7</td>\n",
       "      <td>22.6</td>\n",
       "      <td>3.99</td>\n",
       "      <td>yes</td>\n",
       "      <td>some_college</td>\n",
       "      <td>27779.85</td>\n",
       "      <td>52562.0</td>\n",
       "      <td>none</td>\n",
       "    </tr>\n",
       "    <tr>\n",
       "      <th>2</th>\n",
       "      <td>Barbour County</td>\n",
       "      <td>Alabama</td>\n",
       "      <td>29038.0</td>\n",
       "      <td>27457</td>\n",
       "      <td>25270.0</td>\n",
       "      <td>-6.22</td>\n",
       "      <td>27.2</td>\n",
       "      <td>68.0</td>\n",
       "      <td>11.1</td>\n",
       "      <td>5.90</td>\n",
       "      <td>no</td>\n",
       "      <td>hs_diploma</td>\n",
       "      <td>17891.73</td>\n",
       "      <td>33368.0</td>\n",
       "      <td>partial</td>\n",
       "    </tr>\n",
       "    <tr>\n",
       "      <th>3</th>\n",
       "      <td>Bibb County</td>\n",
       "      <td>Alabama</td>\n",
       "      <td>20826.0</td>\n",
       "      <td>22915</td>\n",
       "      <td>22668.0</td>\n",
       "      <td>0.73</td>\n",
       "      <td>15.2</td>\n",
       "      <td>82.9</td>\n",
       "      <td>6.6</td>\n",
       "      <td>4.39</td>\n",
       "      <td>yes</td>\n",
       "      <td>hs_diploma</td>\n",
       "      <td>20572.05</td>\n",
       "      <td>43404.0</td>\n",
       "      <td>none</td>\n",
       "    </tr>\n",
       "    <tr>\n",
       "      <th>4</th>\n",
       "      <td>Blount County</td>\n",
       "      <td>Alabama</td>\n",
       "      <td>51024.0</td>\n",
       "      <td>57322</td>\n",
       "      <td>58013.0</td>\n",
       "      <td>0.68</td>\n",
       "      <td>15.6</td>\n",
       "      <td>82.0</td>\n",
       "      <td>3.7</td>\n",
       "      <td>4.02</td>\n",
       "      <td>yes</td>\n",
       "      <td>hs_diploma</td>\n",
       "      <td>21367.39</td>\n",
       "      <td>47412.0</td>\n",
       "      <td>none</td>\n",
       "    </tr>\n",
       "  </tbody>\n",
       "</table>\n",
       "</div>"
      ],
      "text/plain": [
       "             name    state   pop2000  pop2010   pop2017  pop_change  poverty  \\\n",
       "0  Autauga County  Alabama   43671.0    54571   55504.0        1.48     13.7   \n",
       "1  Baldwin County  Alabama  140415.0   182265  212628.0        9.19     11.8   \n",
       "2  Barbour County  Alabama   29038.0    27457   25270.0       -6.22     27.2   \n",
       "3     Bibb County  Alabama   20826.0    22915   22668.0        0.73     15.2   \n",
       "4   Blount County  Alabama   51024.0    57322   58013.0        0.68     15.6   \n",
       "\n",
       "   homeownership  multi_unit  unemployment_rate metro    median_edu  \\\n",
       "0           77.5         7.2               3.86   yes  some_college   \n",
       "1           76.7        22.6               3.99   yes  some_college   \n",
       "2           68.0        11.1               5.90    no    hs_diploma   \n",
       "3           82.9         6.6               4.39   yes    hs_diploma   \n",
       "4           82.0         3.7               4.02   yes    hs_diploma   \n",
       "\n",
       "   per_capita_income  median_hh_income smoking_ban  \n",
       "0           27841.70           55317.0        none  \n",
       "1           27779.85           52562.0        none  \n",
       "2           17891.73           33368.0     partial  \n",
       "3           20572.05           43404.0        none  \n",
       "4           21367.39           47412.0        none  "
      ]
     },
     "execution_count": 25,
     "metadata": {},
     "output_type": "execute_result"
    }
   ],
   "source": [
    "df.head()"
   ]
  },
  {
   "cell_type": "markdown",
   "id": "73006eff",
   "metadata": {},
   "source": [
    "**b)**  From the information about the population of all counties in the US, calculate the *theoretical* standard error of the sampling distribution for the sample mean (of 50 counties) per capita income (**per_capita_income**)."
   ]
  },
  {
   "cell_type": "code",
   "execution_count": 26,
   "id": "15ccaefe",
   "metadata": {},
   "outputs": [
    {
     "data": {
      "text/plain": [
       "878.0516938109902"
      ]
     },
     "execution_count": 26,
     "metadata": {},
     "output_type": "execute_result"
    }
   ],
   "source": [
    "population_std = df['per_capita_income'].std()\n",
    "SE = population_std / (50**(1/2))\n",
    "SE"
   ]
  },
  {
   "cell_type": "markdown",
   "id": "35aa3f10",
   "metadata": {},
   "source": [
    "**c)** Are the conditions for the Central Limit Theorem met?  That is, will the Central Limit Theorem apply to the *theoretical* standard error of the sampling distribution for the sample mean (of 50 counties) per capita income?\n",
    "\n",
    "*Note:* You may make reasonable assumptions when needed."
   ]
  },
  {
   "cell_type": "markdown",
   "id": "74b0bc5f",
   "metadata": {},
   "source": [
    "Suppose the population is normally distributed, and the sample is randomly sampled CLT apply to the theoretical standard error by following reasons:\n",
    "- n is large enough(n = 50 > 30)\n",
    "- population is normally distributed as we suppose\n",
    "- n is less than 10% of the sample size.(50 < 2559/10)\n",
    "- The sample is random as we suppose."
   ]
  },
  {
   "cell_type": "markdown",
   "id": "f02327ec",
   "metadata": {},
   "source": [
    "Remember to keep all your cells and hit the save icon above periodically to checkpoint (save) your results on your local computer. Once you are satisified with your results restart the kernel and run all (Kernel -> Restart & Run All). **Make sure nothing has changed**. Checkpoint and exit (File -> Save and Checkpoint + File -> Close and Halt). Follow the instructions on the Homework 4 Canvas Assignment to submit your notebook to GitHub."
   ]
  }
 ],
 "metadata": {
  "kernelspec": {
   "display_name": "Python 3 (ipykernel)",
   "language": "python",
   "name": "python3"
  },
  "language_info": {
   "codemirror_mode": {
    "name": "ipython",
    "version": 3
   },
   "file_extension": ".py",
   "mimetype": "text/x-python",
   "name": "python",
   "nbconvert_exporter": "python",
   "pygments_lexer": "ipython3",
   "version": "3.10.8"
  }
 },
 "nbformat": 4,
 "nbformat_minor": 5
}
