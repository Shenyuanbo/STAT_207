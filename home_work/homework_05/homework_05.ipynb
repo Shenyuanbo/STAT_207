{
 "cells": [
  {
   "cell_type": "markdown",
   "id": "e746da0e",
   "metadata": {},
   "source": [
    "# STAT 207 Homework 5 [50 points]\n",
    "\n",
    "## Probability, Sampling Distributions, and Random Variables"
   ]
  },
  {
   "cell_type": "markdown",
   "id": "6fef820a",
   "metadata": {},
   "source": [
    "Due: Friday, February 17 by noon (11:59 am) CST\n",
    "\n",
    "<hr>"
   ]
  },
  {
   "cell_type": "markdown",
   "id": "c4d94493",
   "metadata": {},
   "source": [
    "## Package Imports\n",
    "\n",
    "We'll import three Python packages that we've used so far and will need for this assignment.  Those packages are pandas, matplotlib.pyplot, and seaborn.  \n",
    "\n",
    "Run the cell provided below to access the functions in these packages.\n",
    "\n",
    "You may also need to read in additional packages below."
   ]
  },
  {
   "cell_type": "code",
   "execution_count": 2,
   "id": "25c92b96",
   "metadata": {},
   "outputs": [],
   "source": [
    "import pandas as pd\n",
    "import seaborn as sns\n",
    "import matplotlib.pyplot as plt"
   ]
  },
  {
   "cell_type": "markdown",
   "id": "ac088395",
   "metadata": {},
   "source": [
    "<hr>\n",
    "\n",
    "## <u>Case Study</u>: County Housing Information\n",
    "\n",
    "The provided county.csv file contains various statistics about each county in the United States.  You can read more about this dataset and its variables here:\n",
    "\n",
    "https://www.openintro.org/data/index.php?data=county\n",
    "\n",
    "Observational Unit: Each row contains data recorded for a county.\n",
    "\n",
    "Population: The population of all counties in the United States is included in the county.csv data set.\n",
    "\n",
    "Variable: We will focus on the multi_unit variable in the data, which reports the percent of housing units in each county that are in multi-unit structures (e.g. apartments).\n",
    "\n",
    "## 1. Champaign County [9 points]\n",
    "\n",
    "**a)** First, read in the county.csv file.\n",
    "\n",
    "**<u>Note</u>**: The csv file does have some missing values.  Our variable of interest, multi_unit, does not have any missing values.  For this assignment and because our variable of interest is complete, we do not need to clean the data or drop any rows with missing values."
   ]
  },
  {
   "cell_type": "code",
   "execution_count": 3,
   "id": "11b8deec",
   "metadata": {},
   "outputs": [
    {
     "name": "stdout",
     "output_type": "stream",
     "text": [
      "<class 'pandas.core.frame.DataFrame'>\n",
      "RangeIndex: 3142 entries, 0 to 3141\n",
      "Data columns (total 15 columns):\n",
      " #   Column             Non-Null Count  Dtype  \n",
      "---  ------             --------------  -----  \n",
      " 0   name               3142 non-null   object \n",
      " 1   state              3142 non-null   object \n",
      " 2   pop2000            3142 non-null   object \n",
      " 3   pop2010            3142 non-null   int64  \n",
      " 4   pop2017            3142 non-null   object \n",
      " 5   pop_change         3142 non-null   object \n",
      " 6   poverty            3142 non-null   object \n",
      " 7   homeownership      3142 non-null   float64\n",
      " 8   multi_unit         3142 non-null   float64\n",
      " 9   unemployment_rate  3142 non-null   object \n",
      " 10  metro              3142 non-null   object \n",
      " 11  median_edu         3142 non-null   object \n",
      " 12  per_capita_income  3142 non-null   object \n",
      " 13  median_hh_income   3142 non-null   object \n",
      " 14  smoking_ban        3142 non-null   object \n",
      "dtypes: float64(2), int64(1), object(12)\n",
      "memory usage: 368.3+ KB\n"
     ]
    },
    {
     "data": {
      "text/plain": [
       "(3142, 15)"
      ]
     },
     "execution_count": 3,
     "metadata": {},
     "output_type": "execute_result"
    }
   ],
   "source": [
    "df = pd.read_csv('county.csv')\n",
    "df.info()\n",
    "df.shape\n"
   ]
  },
  {
   "cell_type": "markdown",
   "id": "5872fff5",
   "metadata": {},
   "source": [
    "Sample 1: We will start by focusing on our county (Champaign County in Illinois).  Because our county is home to UIUC, in which a lot of students and young adults live in apartments, we believe that our county will have a high percent of housing units in multi-unit structures.\n",
    "\n",
    "**b)** Display just the row for Champaign County, Illinois.\n",
    "\n",
    "Tip: We can use the **`&`** (\"and\") operator to indicate that we want **both** conditions on either side of the operator to be met.  We can use the **`|`** (\"or\") operator to indicate that we want **at least one** of the conditions to be met.  We can also chain these operators together if we need to represent more complex operations."
   ]
  },
  {
   "cell_type": "code",
   "execution_count": 4,
   "id": "e7046521",
   "metadata": {},
   "outputs": [
    {
     "data": {
      "text/html": [
       "<div>\n",
       "<style scoped>\n",
       "    .dataframe tbody tr th:only-of-type {\n",
       "        vertical-align: middle;\n",
       "    }\n",
       "\n",
       "    .dataframe tbody tr th {\n",
       "        vertical-align: top;\n",
       "    }\n",
       "\n",
       "    .dataframe thead th {\n",
       "        text-align: right;\n",
       "    }\n",
       "</style>\n",
       "<table border=\"1\" class=\"dataframe\">\n",
       "  <thead>\n",
       "    <tr style=\"text-align: right;\">\n",
       "      <th></th>\n",
       "      <th>name</th>\n",
       "      <th>state</th>\n",
       "      <th>pop2000</th>\n",
       "      <th>pop2010</th>\n",
       "      <th>pop2017</th>\n",
       "      <th>pop_change</th>\n",
       "      <th>poverty</th>\n",
       "      <th>homeownership</th>\n",
       "      <th>multi_unit</th>\n",
       "      <th>unemployment_rate</th>\n",
       "      <th>metro</th>\n",
       "      <th>median_edu</th>\n",
       "      <th>per_capita_income</th>\n",
       "      <th>median_hh_income</th>\n",
       "      <th>smoking_ban</th>\n",
       "    </tr>\n",
       "  </thead>\n",
       "  <tbody>\n",
       "    <tr>\n",
       "      <th>604</th>\n",
       "      <td>Champaign County</td>\n",
       "      <td>Illinois</td>\n",
       "      <td>179669</td>\n",
       "      <td>201081</td>\n",
       "      <td>209399</td>\n",
       "      <td>1.83</td>\n",
       "      <td>21.4</td>\n",
       "      <td>55.9</td>\n",
       "      <td>35.2</td>\n",
       "      <td>4.24</td>\n",
       "      <td>yes</td>\n",
       "      <td>some_college</td>\n",
       "      <td>29619.49</td>\n",
       "      <td>49586</td>\n",
       "      <td>data unavailable</td>\n",
       "    </tr>\n",
       "  </tbody>\n",
       "</table>\n",
       "</div>"
      ],
      "text/plain": [
       "                 name     state pop2000  pop2010 pop2017 pop_change poverty  \\\n",
       "604  Champaign County  Illinois  179669   201081  209399       1.83    21.4   \n",
       "\n",
       "     homeownership  multi_unit unemployment_rate metro    median_edu  \\\n",
       "604           55.9        35.2              4.24   yes  some_college   \n",
       "\n",
       "    per_capita_income median_hh_income       smoking_ban  \n",
       "604          29619.49            49586  data unavailable  "
      ]
     },
     "execution_count": 4,
     "metadata": {},
     "output_type": "execute_result"
    }
   ],
   "source": [
    "df[(df.name == 'Champaign County') & (df.state == 'Illinois')]"
   ]
  },
  {
   "cell_type": "markdown",
   "id": "11ddad82",
   "metadata": {},
   "source": [
    "**c)** Calculate the probability that a randomly selected county in the United States would have a multi-unit rate that is at least as high as Champaign county's rate."
   ]
  },
  {
   "cell_type": "code",
   "execution_count": 5,
   "id": "b1eedf47",
   "metadata": {},
   "outputs": [
    {
     "data": {
      "text/plain": [
       "604    35.2\n",
       "Name: multi_unit, dtype: float64"
      ]
     },
     "execution_count": 5,
     "metadata": {},
     "output_type": "execute_result"
    }
   ],
   "source": [
    "# Find out the multi_unit rate of Champaign, Illinois\n",
    "multi_unit_champaign = df[(df.name == 'Champaign County') & (df.state == 'Illinois')].multi_unit\n",
    "multi_unit_champaign"
   ]
  },
  {
   "cell_type": "code",
   "execution_count": 6,
   "id": "12b11269",
   "metadata": {},
   "outputs": [
    {
     "data": {
      "text/plain": [
       "0.02864417568427753"
      ]
     },
     "execution_count": 6,
     "metadata": {},
     "output_type": "execute_result"
    }
   ],
   "source": [
    "P_A = len(df[df.multi_unit >= 35.2]) / len(df)\n",
    "P_A"
   ]
  },
  {
   "cell_type": "markdown",
   "id": "2d356940",
   "metadata": {},
   "source": [
    "**d)** Calculate the probability that a randomly selected county in Illinois would have a multi-unit rate that is at least as high as Champaign county's rate."
   ]
  },
  {
   "cell_type": "code",
   "execution_count": 7,
   "id": "cd3f3ab3",
   "metadata": {},
   "outputs": [
    {
     "data": {
      "text/plain": [
       "0.0196078431372549"
      ]
     },
     "execution_count": 7,
     "metadata": {},
     "output_type": "execute_result"
    }
   ],
   "source": [
    "P_A_and_B = len(df[(df.state == 'Illinois') & (df.multi_unit >= 35.2)]) / len(df[df.state == 'Illinois'])\n",
    "P_A_and_B"
   ]
  },
  {
   "cell_type": "markdown",
   "id": "1461143f",
   "metadata": {},
   "source": [
    "**e)** Are the events \"has a multi-unit rate at least as high as Champaign County, Illinois\" and \"county is in the state of Illinois\" independent for the counties in the United States?  Explain."
   ]
  },
  {
   "cell_type": "code",
   "execution_count": 8,
   "id": "44c354ef",
   "metadata": {},
   "outputs": [
    {
     "data": {
      "text/plain": [
       "0.032463399108847865"
      ]
     },
     "execution_count": 8,
     "metadata": {},
     "output_type": "execute_result"
    }
   ],
   "source": [
    "P_B = len(df[df.state == \"Illinois\"]) / len(df)\n",
    "P_B"
   ]
  },
  {
   "cell_type": "code",
   "execution_count": 9,
   "id": "33a47349",
   "metadata": {},
   "outputs": [
    {
     "data": {
      "text/plain": [
       "False"
      ]
     },
     "execution_count": 9,
     "metadata": {},
     "output_type": "execute_result"
    }
   ],
   "source": [
    "P_A * P_B == P_A_and_B"
   ]
  },
  {
   "attachments": {},
   "cell_type": "markdown",
   "id": "004cda0e",
   "metadata": {},
   "source": [
    "Let P(A) be the probability of has a multi-unit rate at least as high as Champaign County, Illinois.\n",
    "\n",
    "P(B) be the probability of county is in the state of illinois.\n",
    "\n",
    "P(A and B) would be the probability a county in Illinois woulb have a multi-unit rate that is at least as high as Champaign county's rate.\n",
    "\n",
    "Since P(A) * P(b) != P(A and B), according to mathematic definition of independence. They are dependent.\n",
    "\n",
    "This makes sense because counties in illinois, especially arround champaign may have similar living habits."
   ]
  },
  {
   "cell_type": "markdown",
   "id": "2e606086",
   "metadata": {},
   "source": [
    "## 2. Describing Champaign + Neighboring Counties [8 points]\n",
    "\n",
    "Sample 2: What if we extend from our county to include four neighboring counties (Vermilion, Ford, Piatt, and Douglas)?  will the average multi-unit rate for these five counties be higher than the average rate for five randomly selected counties from the population of U.S. counties?\n",
    "\n",
    "**a)** To start, create a data frame that is composed of just the five following Illinois counties:\n",
    "\n",
    "- Champaign\n",
    "- Vermilion\n",
    "- Ford\n",
    "- Piatt\n",
    "- Douglas\n",
    "\n",
    "Print the resulting data frame."
   ]
  },
  {
   "cell_type": "code",
   "execution_count": 10,
   "id": "a5632fdc",
   "metadata": {},
   "outputs": [
    {
     "data": {
      "text/html": [
       "<div>\n",
       "<style scoped>\n",
       "    .dataframe tbody tr th:only-of-type {\n",
       "        vertical-align: middle;\n",
       "    }\n",
       "\n",
       "    .dataframe tbody tr th {\n",
       "        vertical-align: top;\n",
       "    }\n",
       "\n",
       "    .dataframe thead th {\n",
       "        text-align: right;\n",
       "    }\n",
       "</style>\n",
       "<table border=\"1\" class=\"dataframe\">\n",
       "  <thead>\n",
       "    <tr style=\"text-align: right;\">\n",
       "      <th></th>\n",
       "      <th>name</th>\n",
       "      <th>state</th>\n",
       "      <th>pop2000</th>\n",
       "      <th>pop2010</th>\n",
       "      <th>pop2017</th>\n",
       "      <th>pop_change</th>\n",
       "      <th>poverty</th>\n",
       "      <th>homeownership</th>\n",
       "      <th>multi_unit</th>\n",
       "      <th>unemployment_rate</th>\n",
       "      <th>metro</th>\n",
       "      <th>median_edu</th>\n",
       "      <th>per_capita_income</th>\n",
       "      <th>median_hh_income</th>\n",
       "      <th>smoking_ban</th>\n",
       "    </tr>\n",
       "  </thead>\n",
       "  <tbody>\n",
       "    <tr>\n",
       "      <th>604</th>\n",
       "      <td>Champaign County</td>\n",
       "      <td>Illinois</td>\n",
       "      <td>179669</td>\n",
       "      <td>201081</td>\n",
       "      <td>209399</td>\n",
       "      <td>1.83</td>\n",
       "      <td>21.4</td>\n",
       "      <td>55.9</td>\n",
       "      <td>35.2</td>\n",
       "      <td>4.24</td>\n",
       "      <td>yes</td>\n",
       "      <td>some_college</td>\n",
       "      <td>29619.49</td>\n",
       "      <td>49586</td>\n",
       "      <td>data unavailable</td>\n",
       "    </tr>\n",
       "    <tr>\n",
       "      <th>615</th>\n",
       "      <td>Douglas County</td>\n",
       "      <td>Illinois</td>\n",
       "      <td>19922</td>\n",
       "      <td>19980</td>\n",
       "      <td>19748</td>\n",
       "      <td>-0.57</td>\n",
       "      <td>12.1</td>\n",
       "      <td>78.3</td>\n",
       "      <td>11.2</td>\n",
       "      <td>4.01</td>\n",
       "      <td>no</td>\n",
       "      <td>hs_diploma</td>\n",
       "      <td>25796.91</td>\n",
       "      <td>52261</td>\n",
       "      <td>partial</td>\n",
       "    </tr>\n",
       "    <tr>\n",
       "      <th>621</th>\n",
       "      <td>Ford County</td>\n",
       "      <td>Illinois</td>\n",
       "      <td>14241</td>\n",
       "      <td>14081</td>\n",
       "      <td>13280</td>\n",
       "      <td>-2.86</td>\n",
       "      <td>15.7</td>\n",
       "      <td>79.1</td>\n",
       "      <td>7.9</td>\n",
       "      <td>4.7</td>\n",
       "      <td>yes</td>\n",
       "      <td>some_college</td>\n",
       "      <td>27234.78</td>\n",
       "      <td>50851</td>\n",
       "      <td>none</td>\n",
       "    </tr>\n",
       "    <tr>\n",
       "      <th>668</th>\n",
       "      <td>Piatt County</td>\n",
       "      <td>Illinois</td>\n",
       "      <td>16365</td>\n",
       "      <td>16729</td>\n",
       "      <td>16445</td>\n",
       "      <td>0.09</td>\n",
       "      <td>5.4</td>\n",
       "      <td>81.7</td>\n",
       "      <td>7.5</td>\n",
       "      <td>3.99</td>\n",
       "      <td>yes</td>\n",
       "      <td>some_college</td>\n",
       "      <td>33598.78</td>\n",
       "      <td>67360</td>\n",
       "      <td>data unavailable</td>\n",
       "    </tr>\n",
       "    <tr>\n",
       "      <th>686</th>\n",
       "      <td>Vermilion County</td>\n",
       "      <td>Illinois</td>\n",
       "      <td>83919</td>\n",
       "      <td>81625</td>\n",
       "      <td>77909</td>\n",
       "      <td>-3.31</td>\n",
       "      <td>19.8</td>\n",
       "      <td>71.3</td>\n",
       "      <td>14.5</td>\n",
       "      <td>6.29</td>\n",
       "      <td>yes</td>\n",
       "      <td>hs_diploma</td>\n",
       "      <td>23759.02</td>\n",
       "      <td>44930</td>\n",
       "      <td>data unavailable</td>\n",
       "    </tr>\n",
       "  </tbody>\n",
       "</table>\n",
       "</div>"
      ],
      "text/plain": [
       "                 name     state pop2000  pop2010 pop2017 pop_change poverty  \\\n",
       "604  Champaign County  Illinois  179669   201081  209399       1.83    21.4   \n",
       "615    Douglas County  Illinois   19922    19980   19748      -0.57    12.1   \n",
       "621       Ford County  Illinois   14241    14081   13280      -2.86    15.7   \n",
       "668      Piatt County  Illinois   16365    16729   16445       0.09     5.4   \n",
       "686  Vermilion County  Illinois   83919    81625   77909      -3.31    19.8   \n",
       "\n",
       "     homeownership  multi_unit unemployment_rate metro    median_edu  \\\n",
       "604           55.9        35.2              4.24   yes  some_college   \n",
       "615           78.3        11.2              4.01    no    hs_diploma   \n",
       "621           79.1         7.9               4.7   yes  some_college   \n",
       "668           81.7         7.5              3.99   yes  some_college   \n",
       "686           71.3        14.5              6.29   yes    hs_diploma   \n",
       "\n",
       "    per_capita_income median_hh_income       smoking_ban  \n",
       "604          29619.49            49586  data unavailable  \n",
       "615          25796.91            52261           partial  \n",
       "621          27234.78            50851              none  \n",
       "668          33598.78            67360  data unavailable  \n",
       "686          23759.02            44930  data unavailable  "
      ]
     },
     "execution_count": 10,
     "metadata": {},
     "output_type": "execute_result"
    }
   ],
   "source": [
    "df_n = df[(df.state == \"Illinois\")]\n",
    "df_n = df_n.loc[\n",
    "    df.name.str.contains(\"Champaign\") | \n",
    "    df.name.str.contains(\"Ford\") | \n",
    "    df.name.str.contains(\"Vermilion\") |\n",
    "    df.name.str.contains(\"Piatt\") | \n",
    "    df.name.str.contains(\"Douglas\")\n",
    "    ]\n",
    "df_n"
   ]
  },
  {
   "cell_type": "markdown",
   "id": "92a41d0d",
   "metadata": {},
   "source": [
    "**b)** Calculate the mean multi-unit rate for these five counties."
   ]
  },
  {
   "cell_type": "code",
   "execution_count": 11,
   "id": "902220b6",
   "metadata": {},
   "outputs": [
    {
     "name": "stdout",
     "output_type": "stream",
     "text": [
      "Mean of neighboring five counties:  15.260000000000002\n"
     ]
    }
   ],
   "source": [
    "print('Mean of neighboring five counties: ', df_n.multi_unit.mean())"
   ]
  },
  {
   "cell_type": "markdown",
   "id": "19088aa7",
   "metadata": {},
   "source": [
    "**c)** Calculate the mean and standard deviation for the multi-unit rate for the population of counties in the United States."
   ]
  },
  {
   "cell_type": "code",
   "execution_count": 12,
   "id": "bf91e798",
   "metadata": {},
   "outputs": [
    {
     "name": "stdout",
     "output_type": "stream",
     "text": [
      "Mean of pupulation in US:  12.321896880967534\n",
      "Std of population in US:  9.290204854486706\n"
     ]
    }
   ],
   "source": [
    "print(\"Mean of pupulation in US: \", df.multi_unit.mean())\n",
    "print(\"Std of population in US: \", df.multi_unit.std())"
   ]
  },
  {
   "cell_type": "markdown",
   "id": "3c7e0496",
   "metadata": {},
   "source": [
    "**d)** Generate a random sample with replacement of size $n=5$ counties from the United States, and calculate the mean multi-unit rate for these 5 counties.  What symbol should you use to describe the value you just calculated?  Compare your calculated value to the values previously calculated in **2b** and **2c**."
   ]
  },
  {
   "cell_type": "code",
   "execution_count": 14,
   "id": "61161ffe",
   "metadata": {},
   "outputs": [
    {
     "data": {
      "text/plain": [
       "8.68"
      ]
     },
     "execution_count": 14,
     "metadata": {},
     "output_type": "execute_result"
    }
   ],
   "source": [
    "df_sample = df.sample(5, replace = True, random_state= 2102023)\n",
    "df_sample.multi_unit.mean()"
   ]
  },
  {
   "attachments": {},
   "cell_type": "markdown",
   "id": "36781382",
   "metadata": {},
   "source": [
    "The symbol used for population mean is X Bar.\n",
    "\n",
    "Comparing to 2b and 2c, the sample mean randomly selected is larger than population mean(2c), but is smaller than mean of five neighboring counties. "
   ]
  },
  {
   "cell_type": "markdown",
   "id": "2a07034a",
   "metadata": {},
   "source": [
    "## 3. Comparing Champaign + Neighboring Counties [10 points]\n",
    "\n",
    "**a)** The following MCmeans function has been provided for you.  Run the code in the first cell to load this function into Python.\n",
    "\n",
    "Then, using the MCmeans function, geneerate output according to the following specifications:\n",
    "\n",
    "- Specify the argument (input) for df to reference your data frame of counties\n",
    "- Specify the argument for var to reference the variable name for multi-unit housing rates in the counties data frame\n",
    "- Specify the argument to generate samples of size 5\n",
    "- Specify the argument to generate 5000 repeated samples\n",
    "- Save the output of this function to a Python object"
   ]
  },
  {
   "cell_type": "code",
   "execution_count": 15,
   "id": "ad953733",
   "metadata": {},
   "outputs": [],
   "source": [
    "def MCmeans(df, x='', replace=True, n=1, M=1):\n",
    "    #INPUT:\n",
    "    # df is a data frame\n",
    "    # x is a text-valued name for a variable in the data frame\n",
    "    # replace = True or False depending on whether \n",
    "    #    draws are with or without replacement\n",
    "    # n = number of draws per sample\n",
    "    # M = number of samples to draw\n",
    "    MCstats = []\n",
    "    for i in range(M):\n",
    "        #1. Collect a random sample of size n with replacement\n",
    "        #2. Take the mean of this random sample\n",
    "        #3. Append this random sample mean to the SampleMeans list \n",
    "        # (which is our SAMPLING DISTRIBUTION OF SAMPLE MEANS!)\n",
    "        MCstats.append(df[x].sample(n, replace=replace).mean())\n",
    "    #4. returns the sampling distribution in a dataframe format\n",
    "    return pd.DataFrame({x: MCstats})"
   ]
  },
  {
   "cell_type": "code",
   "execution_count": 16,
   "id": "e251a331",
   "metadata": {},
   "outputs": [
    {
     "data": {
      "text/html": [
       "<div>\n",
       "<style scoped>\n",
       "    .dataframe tbody tr th:only-of-type {\n",
       "        vertical-align: middle;\n",
       "    }\n",
       "\n",
       "    .dataframe tbody tr th {\n",
       "        vertical-align: top;\n",
       "    }\n",
       "\n",
       "    .dataframe thead th {\n",
       "        text-align: right;\n",
       "    }\n",
       "</style>\n",
       "<table border=\"1\" class=\"dataframe\">\n",
       "  <thead>\n",
       "    <tr style=\"text-align: right;\">\n",
       "      <th></th>\n",
       "      <th>multi_unit</th>\n",
       "    </tr>\n",
       "  </thead>\n",
       "  <tbody>\n",
       "    <tr>\n",
       "      <th>0</th>\n",
       "      <td>12.36</td>\n",
       "    </tr>\n",
       "    <tr>\n",
       "      <th>1</th>\n",
       "      <td>22.00</td>\n",
       "    </tr>\n",
       "    <tr>\n",
       "      <th>2</th>\n",
       "      <td>9.82</td>\n",
       "    </tr>\n",
       "    <tr>\n",
       "      <th>3</th>\n",
       "      <td>9.42</td>\n",
       "    </tr>\n",
       "    <tr>\n",
       "      <th>4</th>\n",
       "      <td>14.72</td>\n",
       "    </tr>\n",
       "    <tr>\n",
       "      <th>...</th>\n",
       "      <td>...</td>\n",
       "    </tr>\n",
       "    <tr>\n",
       "      <th>4995</th>\n",
       "      <td>17.24</td>\n",
       "    </tr>\n",
       "    <tr>\n",
       "      <th>4996</th>\n",
       "      <td>9.54</td>\n",
       "    </tr>\n",
       "    <tr>\n",
       "      <th>4997</th>\n",
       "      <td>27.02</td>\n",
       "    </tr>\n",
       "    <tr>\n",
       "      <th>4998</th>\n",
       "      <td>14.42</td>\n",
       "    </tr>\n",
       "    <tr>\n",
       "      <th>4999</th>\n",
       "      <td>12.06</td>\n",
       "    </tr>\n",
       "  </tbody>\n",
       "</table>\n",
       "<p>5000 rows × 1 columns</p>\n",
       "</div>"
      ],
      "text/plain": [
       "      multi_unit\n",
       "0          12.36\n",
       "1          22.00\n",
       "2           9.82\n",
       "3           9.42\n",
       "4          14.72\n",
       "...          ...\n",
       "4995       17.24\n",
       "4996        9.54\n",
       "4997       27.02\n",
       "4998       14.42\n",
       "4999       12.06\n",
       "\n",
       "[5000 rows x 1 columns]"
      ]
     },
     "execution_count": 16,
     "metadata": {},
     "output_type": "execute_result"
    }
   ],
   "source": [
    "df_simulation = MCmeans(df, 'multi_unit', replace=True, n = 5, M = 5000)\n",
    "df_simulation"
   ]
  },
  {
   "cell_type": "markdown",
   "id": "660ef939",
   "metadata": {},
   "source": [
    "**b)** Calculate the mean and standard deviation for the object that is created in part **3a**.  Compare these values to those from **2c**."
   ]
  },
  {
   "cell_type": "code",
   "execution_count": 18,
   "id": "217033c8",
   "metadata": {},
   "outputs": [
    {
     "data": {
      "text/plain": [
       "12.307412"
      ]
     },
     "execution_count": 18,
     "metadata": {},
     "output_type": "execute_result"
    }
   ],
   "source": [
    "df_simulation.multi_unit.mean()"
   ]
  },
  {
   "cell_type": "code",
   "execution_count": 19,
   "id": "e24d3fa8",
   "metadata": {},
   "outputs": [
    {
     "data": {
      "text/plain": [
       "4.157306611486382"
      ]
     },
     "execution_count": 19,
     "metadata": {},
     "output_type": "execute_result"
    }
   ],
   "source": [
    "df_simulation.multi_unit.std()"
   ]
  },
  {
   "attachments": {},
   "cell_type": "markdown",
   "id": "df3b56a1",
   "metadata": {},
   "source": [
    "The mean values are quite close.\n",
    "The standard deviation is much lower than population standard deviation."
   ]
  },
  {
   "cell_type": "markdown",
   "id": "ec6eaeae",
   "metadata": {},
   "source": [
    "**c)** What proportion of samples of size 5 have a mean multi-unit rate at least as large as the mean multi-unit rate of Champaign and four of its neighboring counties (from **2b**)?"
   ]
  },
  {
   "cell_type": "code",
   "execution_count": 21,
   "id": "e5ccd2d9",
   "metadata": {},
   "outputs": [
    {
     "data": {
      "text/plain": [
       "0.2044"
      ]
     },
     "execution_count": 21,
     "metadata": {},
     "output_type": "execute_result"
    }
   ],
   "source": [
    "len(df_simulation[df_simulation.multi_unit >= 15.26])/5000"
   ]
  },
  {
   "cell_type": "markdown",
   "id": "5eefe1e7",
   "metadata": {},
   "source": [
    "**d)** Which is more unusual of the multi-unit rate of Champaign county or the average multi-unit rate of Champaign county and its four neighboring counties.  Explain, including numerical support in your justification."
   ]
  },
  {
   "cell_type": "code",
   "execution_count": 173,
   "id": "0d6445be",
   "metadata": {},
   "outputs": [
    {
     "data": {
      "text/html": [
       "<div>\n",
       "<style scoped>\n",
       "    .dataframe tbody tr th:only-of-type {\n",
       "        vertical-align: middle;\n",
       "    }\n",
       "\n",
       "    .dataframe tbody tr th {\n",
       "        vertical-align: top;\n",
       "    }\n",
       "\n",
       "    .dataframe thead th {\n",
       "        text-align: right;\n",
       "    }\n",
       "</style>\n",
       "<table border=\"1\" class=\"dataframe\">\n",
       "  <thead>\n",
       "    <tr style=\"text-align: right;\">\n",
       "      <th></th>\n",
       "      <th>multi_unit</th>\n",
       "    </tr>\n",
       "  </thead>\n",
       "  <tbody>\n",
       "    <tr>\n",
       "      <th>875</th>\n",
       "      <td>15.26</td>\n",
       "    </tr>\n",
       "  </tbody>\n",
       "</table>\n",
       "</div>"
      ],
      "text/plain": [
       "     multi_unit\n",
       "875       15.26"
      ]
     },
     "execution_count": 173,
     "metadata": {},
     "output_type": "execute_result"
    }
   ],
   "source": [
    "df_simulation[df_simulation.multi_unit == df_n.multi_unit.mean()]"
   ]
  },
  {
   "cell_type": "code",
   "execution_count": 174,
   "id": "8f3f341a",
   "metadata": {},
   "outputs": [
    {
     "data": {
      "text/html": [
       "<div>\n",
       "<style scoped>\n",
       "    .dataframe tbody tr th:only-of-type {\n",
       "        vertical-align: middle;\n",
       "    }\n",
       "\n",
       "    .dataframe tbody tr th {\n",
       "        vertical-align: top;\n",
       "    }\n",
       "\n",
       "    .dataframe thead th {\n",
       "        text-align: right;\n",
       "    }\n",
       "</style>\n",
       "<table border=\"1\" class=\"dataframe\">\n",
       "  <thead>\n",
       "    <tr style=\"text-align: right;\">\n",
       "      <th></th>\n",
       "      <th>multi_unit</th>\n",
       "    </tr>\n",
       "  </thead>\n",
       "  <tbody>\n",
       "  </tbody>\n",
       "</table>\n",
       "</div>"
      ],
      "text/plain": [
       "Empty DataFrame\n",
       "Columns: [multi_unit]\n",
       "Index: []"
      ]
     },
     "execution_count": 174,
     "metadata": {},
     "output_type": "execute_result"
    }
   ],
   "source": [
    "df_simulation[df_simulation.multi_unit == 35.2]"
   ]
  },
  {
   "attachments": {},
   "cell_type": "markdown",
   "id": "74ca0bc4",
   "metadata": {},
   "source": [
    "Multi-unit of Champaign county is more unusual.\n",
    "\n",
    "We can find that there are two value in the sample dataframe have the same multi_unit as Champaign county and its four neighboring counties.\n",
    "\n",
    "But we cannot find any matches the multi-unit rate of Champaign county."
   ]
  },
  {
   "cell_type": "markdown",
   "id": "3e654ee5",
   "metadata": {},
   "source": [
    "<hr>\n",
    "\n",
    "## <u>Case Study</u>: Valentine's Day Spending\n",
    "\n",
    "## 4. How much do college students spend on Valentine's Day? [13 points]\n",
    "\n",
    "A resident advisor aims to answer this question, so he surveys all residents who live in his dorm at the fictitious College University.  He saves this information a data file.\n",
    "\n",
    "He has a few friends who claim that they do not spend very much on Valentine's Day.  In fact, the average spending of these friends is only $6.\n",
    "\n",
    "The resident advisor, always a skeptic, wants to assess the claim of his friends: do they actually spend a small amount on Valentine's Day compared to his residents?  He knows that the $6 average of his friends shouldn't be compared to the population distribution for all of his residents, so he simulates a sampling distribution for the average spending of his residents on Valentine's Day.  He saves the results of this simulation to another data file.\n",
    "\n",
    "**a)** Read in the two data files: vday1.csv and vday2.csv.  Report the number of observations for each file, and preview the first few rows of each file."
   ]
  },
  {
   "cell_type": "code",
   "execution_count": 177,
   "id": "f76cfa19",
   "metadata": {},
   "outputs": [],
   "source": [
    "df1 = pd.read_csv('vday1.csv')\n",
    "df2 = pd.read_csv('vday2.csv')"
   ]
  },
  {
   "cell_type": "code",
   "execution_count": 209,
   "id": "b5560c0e",
   "metadata": {},
   "outputs": [
    {
     "name": "stdout",
     "output_type": "stream",
     "text": [
      "(214, 2)\n"
     ]
    },
    {
     "data": {
      "text/html": [
       "<div>\n",
       "<style scoped>\n",
       "    .dataframe tbody tr th:only-of-type {\n",
       "        vertical-align: middle;\n",
       "    }\n",
       "\n",
       "    .dataframe tbody tr th {\n",
       "        vertical-align: top;\n",
       "    }\n",
       "\n",
       "    .dataframe thead th {\n",
       "        text-align: right;\n",
       "    }\n",
       "</style>\n",
       "<table border=\"1\" class=\"dataframe\">\n",
       "  <thead>\n",
       "    <tr style=\"text-align: right;\">\n",
       "      <th></th>\n",
       "      <th>Unnamed: 0</th>\n",
       "      <th>spending</th>\n",
       "    </tr>\n",
       "  </thead>\n",
       "  <tbody>\n",
       "    <tr>\n",
       "      <th>0</th>\n",
       "      <td>0</td>\n",
       "      <td>2.95</td>\n",
       "    </tr>\n",
       "    <tr>\n",
       "      <th>1</th>\n",
       "      <td>1</td>\n",
       "      <td>8.14</td>\n",
       "    </tr>\n",
       "    <tr>\n",
       "      <th>2</th>\n",
       "      <td>2</td>\n",
       "      <td>5.36</td>\n",
       "    </tr>\n",
       "    <tr>\n",
       "      <th>3</th>\n",
       "      <td>3</td>\n",
       "      <td>2.12</td>\n",
       "    </tr>\n",
       "    <tr>\n",
       "      <th>4</th>\n",
       "      <td>4</td>\n",
       "      <td>1.79</td>\n",
       "    </tr>\n",
       "  </tbody>\n",
       "</table>\n",
       "</div>"
      ],
      "text/plain": [
       "   Unnamed: 0  spending\n",
       "0           0      2.95\n",
       "1           1      8.14\n",
       "2           2      5.36\n",
       "3           3      2.12\n",
       "4           4      1.79"
      ]
     },
     "execution_count": 209,
     "metadata": {},
     "output_type": "execute_result"
    }
   ],
   "source": [
    "print(df1.shape)\n",
    "df1.head()"
   ]
  },
  {
   "cell_type": "code",
   "execution_count": 210,
   "id": "7542ee26",
   "metadata": {},
   "outputs": [
    {
     "name": "stdout",
     "output_type": "stream",
     "text": [
      "(214, 2)\n"
     ]
    },
    {
     "data": {
      "text/html": [
       "<div>\n",
       "<style scoped>\n",
       "    .dataframe tbody tr th:only-of-type {\n",
       "        vertical-align: middle;\n",
       "    }\n",
       "\n",
       "    .dataframe tbody tr th {\n",
       "        vertical-align: top;\n",
       "    }\n",
       "\n",
       "    .dataframe thead th {\n",
       "        text-align: right;\n",
       "    }\n",
       "</style>\n",
       "<table border=\"1\" class=\"dataframe\">\n",
       "  <thead>\n",
       "    <tr style=\"text-align: right;\">\n",
       "      <th></th>\n",
       "      <th>Unnamed: 0</th>\n",
       "      <th>spending</th>\n",
       "    </tr>\n",
       "  </thead>\n",
       "  <tbody>\n",
       "    <tr>\n",
       "      <th>0</th>\n",
       "      <td>0</td>\n",
       "      <td>4.17</td>\n",
       "    </tr>\n",
       "    <tr>\n",
       "      <th>1</th>\n",
       "      <td>1</td>\n",
       "      <td>8.05</td>\n",
       "    </tr>\n",
       "    <tr>\n",
       "      <th>2</th>\n",
       "      <td>2</td>\n",
       "      <td>0.00</td>\n",
       "    </tr>\n",
       "    <tr>\n",
       "      <th>3</th>\n",
       "      <td>3</td>\n",
       "      <td>0.00</td>\n",
       "    </tr>\n",
       "    <tr>\n",
       "      <th>4</th>\n",
       "      <td>4</td>\n",
       "      <td>16.15</td>\n",
       "    </tr>\n",
       "  </tbody>\n",
       "</table>\n",
       "</div>"
      ],
      "text/plain": [
       "   Unnamed: 0  spending\n",
       "0           0      4.17\n",
       "1           1      8.05\n",
       "2           2      0.00\n",
       "3           3      0.00\n",
       "4           4     16.15"
      ]
     },
     "execution_count": 210,
     "metadata": {},
     "output_type": "execute_result"
    }
   ],
   "source": [
    "print(df2.shape)\n",
    "df2.head()"
   ]
  },
  {
   "cell_type": "markdown",
   "id": "46b0fb4f",
   "metadata": {},
   "source": [
    "**b)** Unfortunately, the resident advisor realizes that he did not use the best naming system for his two files.  He forgets which file contains the population data and which file contains the simulated sampling distribution.  Help the resident advisor out by determining which data file contains which distribution.  Explain to him how you know that you are correct."
   ]
  },
  {
   "cell_type": "code",
   "execution_count": 195,
   "id": "a1446c75",
   "metadata": {},
   "outputs": [
    {
     "data": {
      "text/plain": [
       "2.454647348831522"
      ]
     },
     "execution_count": 195,
     "metadata": {},
     "output_type": "execute_result"
    }
   ],
   "source": [
    "df1.spending.std()"
   ]
  },
  {
   "cell_type": "code",
   "execution_count": 196,
   "id": "299a87b7",
   "metadata": {},
   "outputs": [
    {
     "data": {
      "text/plain": [
       "5.050620494085822"
      ]
     },
     "execution_count": 196,
     "metadata": {},
     "output_type": "execute_result"
    }
   ],
   "source": [
    "df2.spending.std()"
   ]
  },
  {
   "attachments": {},
   "cell_type": "markdown",
   "id": "45954e59",
   "metadata": {},
   "source": [
    "df1(vdays1) is the dataframe for population data, because it has lower standard deviation.\n",
    "\n",
    "df2(vdays2) is dataframe of simulation data, because it has larger standard deviation. Data generated has more variability so that's why sample simulated should have a larger standard deviation."
   ]
  },
  {
   "cell_type": "markdown",
   "id": "9814dc52",
   "metadata": {},
   "source": [
    "**c)** Calculate the parameter values for the mean and standard deviation."
   ]
  },
  {
   "cell_type": "code",
   "execution_count": 211,
   "id": "ee01613b",
   "metadata": {},
   "outputs": [
    {
     "name": "stdout",
     "output_type": "stream",
     "text": [
      "Population mean:  5.015233644859812\n",
      "Population std:  2.454647348831522\n"
     ]
    }
   ],
   "source": [
    "print(\"Population mean: \", df1.spending.mean())\n",
    "print(\"Population std: \", df1.spending.std())\n"
   ]
  },
  {
   "cell_type": "markdown",
   "id": "241cbd67",
   "metadata": {},
   "source": [
    "**d)** The resident advisor has once again been a little careless with his record keeping.  He forgot to record how many friends he surveyed in order to calculate the $6 average spent on Valentine's Day.  Based on the available information, help him identify how many friends he surveyed."
   ]
  },
  {
   "cell_type": "code",
   "execution_count": 216,
   "id": "21c0019f",
   "metadata": {},
   "outputs": [
    {
     "data": {
      "text/html": [
       "<div>\n",
       "<style scoped>\n",
       "    .dataframe tbody tr th:only-of-type {\n",
       "        vertical-align: middle;\n",
       "    }\n",
       "\n",
       "    .dataframe tbody tr th {\n",
       "        vertical-align: top;\n",
       "    }\n",
       "\n",
       "    .dataframe thead th {\n",
       "        text-align: right;\n",
       "    }\n",
       "</style>\n",
       "<table border=\"1\" class=\"dataframe\">\n",
       "  <thead>\n",
       "    <tr style=\"text-align: right;\">\n",
       "      <th></th>\n",
       "      <th>Unnamed: 0</th>\n",
       "      <th>spending</th>\n",
       "    </tr>\n",
       "  </thead>\n",
       "  <tbody>\n",
       "  </tbody>\n",
       "</table>\n",
       "</div>"
      ],
      "text/plain": [
       "Empty DataFrame\n",
       "Columns: [Unnamed: 0, spending]\n",
       "Index: []"
      ]
     },
     "execution_count": 216,
     "metadata": {},
     "output_type": "execute_result"
    }
   ],
   "source": [
    "df2[df2.spending == 6]"
   ]
  },
  {
   "cell_type": "markdown",
   "id": "b3239e60",
   "metadata": {},
   "source": []
  },
  {
   "cell_type": "markdown",
   "id": "3fbca390",
   "metadata": {},
   "source": [
    "**e)** Finally, are his friends especially stingy in terms of Valentine's Day spending, relative to the residents in his dorm?  Explain."
   ]
  },
  {
   "cell_type": "code",
   "execution_count": 257,
   "id": "6bd76d77",
   "metadata": {},
   "outputs": [
    {
     "data": {
      "text/plain": [
       "0.42990654205607476"
      ]
     },
     "execution_count": 257,
     "metadata": {},
     "output_type": "execute_result"
    }
   ],
   "source": [
    "len(df2[df2.spending >= 6]) / len(df2)"
   ]
  },
  {
   "attachments": {},
   "cell_type": "markdown",
   "id": "0036d664",
   "metadata": {},
   "source": [
    "No, about 43% of people spent over $6.\n",
    "\n",
    "His friends' spending are even slightly over average."
   ]
  },
  {
   "cell_type": "markdown",
   "id": "ba9afbf4",
   "metadata": {},
   "source": [
    "<hr>\n",
    "\n",
    "## <u>Case Study</u>: Super Bowl\n",
    "\n",
    "## 5. Random Variables [10 points]\n",
    "\n",
    "Suppose that the number of touchdowns scored by a team in the Super Bowl follows a Poisson random variable with parameter $\\mu = 2.4$ ($\\mu$ is also sometimes called $\\lambda$).\n",
    "\n",
    "Information about Poisson random variables is contained within the scipy.stats package.  The code to import this is included below."
   ]
  },
  {
   "cell_type": "code",
   "execution_count": 176,
   "id": "5f742abb",
   "metadata": {},
   "outputs": [],
   "source": [
    "from scipy.stats import poisson"
   ]
  },
  {
   "cell_type": "markdown",
   "id": "3b7adec9",
   "metadata": {},
   "source": [
    "**a)** One important aspect of working with a programming language is the ability to get information about the packages.\n",
    "\n",
    "To start, find the documentation for this package.  You may consider performing a web search where you include the package name (scipy.stats) and the specific distribution name.\n",
    "\n",
    "Provide the url to the documentation that you find.\n",
    "\n",
    "From reading through this documentation, is a Poisson random variable discrete or continuous?"
   ]
  },
  {
   "attachments": {},
   "cell_type": "markdown",
   "id": "5b88b475",
   "metadata": {},
   "source": [
    "https://docs.scipy.org/doc/scipy/reference/generated/scipy.stats.poisson.html\n",
    "\n",
    "It is descrete."
   ]
  },
  {
   "cell_type": "markdown",
   "id": "a3a6a97e",
   "metadata": {},
   "source": [
    "**b)** Continuing to look through the documentation, what are the first and second methods listed in the table of available methods?"
   ]
  },
  {
   "attachments": {},
   "cell_type": "markdown",
   "id": "e9cf743a",
   "metadata": {},
   "source": [
    "rvs(mu, loc=0, size=1, random_state=None)\n",
    "\n",
    "pmf(k, mu, loc=0)"
   ]
  },
  {
   "cell_type": "markdown",
   "id": "63ccd704",
   "metadata": {},
   "source": [
    "**c)** As of this homework's writing, you can bet on whether you think the Chiefs will score more than 2.5 touchdowns, with the bets favoring the Chiefs will score less than this number of touchdowns.\n",
    "\n",
    "If the number of touchdowns for the Chiefs follows a Poisson distribution with parameter $\\mu = 2.4$, what ist he probability that the Chiefs will score 2 touchdowns or less?"
   ]
  },
  {
   "cell_type": "code",
   "execution_count": 217,
   "id": "d9d618a2",
   "metadata": {},
   "outputs": [
    {
     "data": {
      "text/plain": [
       "0.5697087466575106"
      ]
     },
     "execution_count": 217,
     "metadata": {},
     "output_type": "execute_result"
    }
   ],
   "source": [
    "poisson.cdf(2,2.4)"
   ]
  },
  {
   "cell_type": "markdown",
   "id": "ce93563d",
   "metadata": {},
   "source": [
    "**d)** Using the underlying Poisson distribution described above, randomly simulate the number of touchdowns scored for each team (two teams play).  You may use random states if you'd like, but you don't need to."
   ]
  },
  {
   "cell_type": "code",
   "execution_count": 254,
   "id": "15ccaefe",
   "metadata": {},
   "outputs": [
    {
     "data": {
      "text/plain": [
       "array([5, 3])"
      ]
     },
     "execution_count": 254,
     "metadata": {},
     "output_type": "execute_result"
    }
   ],
   "source": [
    "poisson.rvs(2.4,size = 2)"
   ]
  },
  {
   "cell_type": "markdown",
   "id": "6dfc26c3",
   "metadata": {},
   "source": [
    "**e)** You can also bet on whether you think the total score of the game will be above or below 51 points.\n",
    "\n",
    "We'll make a simplifying assumption that each touchdown will be worth 7 points.\n",
    "\n",
    "Based on the simulation in part **d**, how many touchdowns would be scored in your simulated game?  How many points do those touchdowns correspond to?  Based only on the number of touchdowns scored, would the score of the game be above or below 51 points?"
   ]
  },
  {
   "cell_type": "code",
   "execution_count": 255,
   "id": "1f792bcd",
   "metadata": {},
   "outputs": [
    {
     "data": {
      "text/plain": [
       "56"
      ]
     },
     "execution_count": 255,
     "metadata": {},
     "output_type": "execute_result"
    }
   ],
   "source": [
    "(5 + 3) * 7"
   ]
  },
  {
   "attachments": {},
   "cell_type": "markdown",
   "id": "2ffbf049",
   "metadata": {},
   "source": [
    "8 touch downs would be scored.\n",
    "\n",
    "56 points in total.\n",
    "\n",
    "It's above 51 points."
   ]
  },
  {
   "cell_type": "markdown",
   "id": "f02327ec",
   "metadata": {},
   "source": [
    "Remember to keep all your cells and hit the save icon above periodically to checkpoint (save) your results on your local computer. Once you are satisified with your results restart the kernel and run all (Kernel -> Restart & Run All). **Make sure nothing has changed**. Checkpoint and exit (File -> Save and Checkpoint + File -> Close and Halt). Follow the instructions on the Homework 4 Canvas Assignment to submit your notebook to GitHub."
   ]
  }
 ],
 "metadata": {
  "kernelspec": {
   "display_name": "Python 3",
   "language": "python",
   "name": "python3"
  },
  "language_info": {
   "codemirror_mode": {
    "name": "ipython",
    "version": 3
   },
   "file_extension": ".py",
   "mimetype": "text/x-python",
   "name": "python",
   "nbconvert_exporter": "python",
   "pygments_lexer": "ipython3",
   "version": "3.10.6"
  },
  "vscode": {
   "interpreter": {
    "hash": "aee8b7b246df8f9039afb4144a1f6fd8d2ca17a180786b69acc140d282b71a49"
   }
  }
 },
 "nbformat": 4,
 "nbformat_minor": 5
}
