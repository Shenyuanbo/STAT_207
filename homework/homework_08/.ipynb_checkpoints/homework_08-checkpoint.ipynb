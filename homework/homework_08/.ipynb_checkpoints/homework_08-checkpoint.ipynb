{
 "cells": [
  {
   "cell_type": "markdown",
   "id": "e746da0e",
   "metadata": {},
   "source": [
    "# STAT 207 Homework 8 [50 points]\n",
    "\n",
    "## Hypothesis Testing and Difference Parameters"
   ]
  },
  {
   "cell_type": "markdown",
   "id": "6fef820a",
   "metadata": {},
   "source": [
    "Due: Friday, March 24 by noon (11:59 am) CST\n",
    "\n",
    "<hr>"
   ]
  },
  {
   "cell_type": "markdown",
   "id": "c4d94493",
   "metadata": {},
   "source": [
    "**Note:** For this assignment, you should not use any built-in functions for calculating confidence intervals or performing hypothesis tests.  You will not earn credit if you use the built-in confidence interval or hypothesis test functions on this assignment.  You may use other functions that we have discussed in class so far, including the mean, standard deviation, and sample functions.\n",
    "\n",
    "## Package Imports [1 point]\n",
    "\n",
    "Add code to the cell below to import packages needed for this assignment.\n",
    "\n",
    "You may also need to read in additional packages later."
   ]
  },
  {
   "cell_type": "code",
   "execution_count": 1,
   "id": "f2de8a3f",
   "metadata": {},
   "outputs": [],
   "source": [
    "import pandas as pd\n",
    "import seaborn as sns\n",
    "import matplotlib.pyplot as plt\n",
    "import numpy as np\n",
    "from scipy.stats import norm, t"
   ]
  },
  {
   "cell_type": "markdown",
   "id": "ac088395",
   "metadata": {},
   "source": [
    "## <u>Case Study 1</u>: Colleges and Universities (continued)\n",
    "\n",
    "In Homework 7, you completed Case Study 2 about colleges and universities.  In this Homework, we will return to the same data to complete additional inference procedures.\n",
    "\n",
    "We will use a random sample of post-secondary education facilities (colleges & universities) from the United States, including Puerto Rico & other US territories.  The **colleges.csv** file contains a random sample of 135 post-secondary education facilities from the US.  This data originally came from https://www.kaggle.com/yamqwe/colleges-and-universitiese, although the data is no longer accessible through the web.\n",
    "\n",
    "We will use three variables in particular for this assignment:\n",
    "\n",
    "- the number of students enrolled full-time (`FT_ENROLL`)\n",
    "- the number of students enrolled part-time (`PT_ENROLL`)\n",
    "- the number of people employeed by the school (`TOT_EMPLOY`)\n",
    "\n",
    "## 1. Read in the data [2 points]\n",
    "\n",
    "Below, you should read in the data from the **colleges.csv** file, perform any cleaning that needs to take place, and create the following variable:\n",
    "\n",
    "- the variable `majority_pt`, a logical (Boolean) variable that indicates if the college or university has more students enrolled part-time than full-time (using `FT_ENROLL` and `PT_ENROLL`)\n",
    "\n",
    "**Hint:** For the data cleaning, you may follow the process from Homework 7.  Check the Homework 7 solutions for an example of how to clean the data based on reasonable values for the `TOT_ENROLL` variable."
   ]
  },
  {
   "cell_type": "code",
   "execution_count": 2,
   "id": "30911347",
   "metadata": {},
   "outputs": [
    {
     "data": {
      "text/plain": [
       "(135, 47)"
      ]
     },
     "execution_count": 2,
     "metadata": {},
     "output_type": "execute_result"
    }
   ],
   "source": [
    "df = pd.read_csv('colleges.csv')\n",
    "df.shape"
   ]
  },
  {
   "cell_type": "code",
   "execution_count": 3,
   "id": "9903179b",
   "metadata": {},
   "outputs": [
    {
     "data": {
      "text/plain": [
       "(128, 47)"
      ]
     },
     "execution_count": 3,
     "metadata": {},
     "output_type": "execute_result"
    }
   ],
   "source": [
    "df = df[df.TOT_ENROLL > 0]\n",
    "df.shape"
   ]
  },
  {
   "cell_type": "code",
   "execution_count": 4,
   "id": "dc861485",
   "metadata": {},
   "outputs": [
    {
     "data": {
      "text/html": [
       "<div>\n",
       "<style scoped>\n",
       "    .dataframe tbody tr th:only-of-type {\n",
       "        vertical-align: middle;\n",
       "    }\n",
       "\n",
       "    .dataframe tbody tr th {\n",
       "        vertical-align: top;\n",
       "    }\n",
       "\n",
       "    .dataframe thead th {\n",
       "        text-align: right;\n",
       "    }\n",
       "</style>\n",
       "<table border=\"1\" class=\"dataframe\">\n",
       "  <thead>\n",
       "    <tr style=\"text-align: right;\">\n",
       "      <th></th>\n",
       "      <th>Unnamed: 0</th>\n",
       "      <th>X</th>\n",
       "      <th>Y</th>\n",
       "      <th>FID</th>\n",
       "      <th>IPEDSID</th>\n",
       "      <th>NAME</th>\n",
       "      <th>ADDRESS</th>\n",
       "      <th>ADDRESS2</th>\n",
       "      <th>CITY</th>\n",
       "      <th>STATE</th>\n",
       "      <th>...</th>\n",
       "      <th>SIZE_SET</th>\n",
       "      <th>INST_SIZE</th>\n",
       "      <th>PT_ENROLL</th>\n",
       "      <th>FT_ENROLL</th>\n",
       "      <th>TOT_ENROLL</th>\n",
       "      <th>HOUSING</th>\n",
       "      <th>DORM_CAP</th>\n",
       "      <th>TOT_EMPLOY</th>\n",
       "      <th>SHELTER_ID</th>\n",
       "      <th>majority_pt</th>\n",
       "    </tr>\n",
       "  </thead>\n",
       "  <tbody>\n",
       "    <tr>\n",
       "      <th>0</th>\n",
       "      <td>3003</td>\n",
       "      <td>-73.490213</td>\n",
       "      <td>40.759564</td>\n",
       "      <td>5268</td>\n",
       "      <td>189459</td>\n",
       "      <td>Briarcliffe College</td>\n",
       "      <td>1055 Stewart Ave</td>\n",
       "      <td>NOT AVAILABLE</td>\n",
       "      <td>Bethpage</td>\n",
       "      <td>NY</td>\n",
       "      <td>...</td>\n",
       "      <td>9</td>\n",
       "      <td>2</td>\n",
       "      <td>440</td>\n",
       "      <td>1226</td>\n",
       "      <td>1666</td>\n",
       "      <td>2</td>\n",
       "      <td>0</td>\n",
       "      <td>356</td>\n",
       "      <td>NOT AVAILABLE</td>\n",
       "      <td>False</td>\n",
       "    </tr>\n",
       "    <tr>\n",
       "      <th>1</th>\n",
       "      <td>2832</td>\n",
       "      <td>-78.332293</td>\n",
       "      <td>35.501418</td>\n",
       "      <td>5097</td>\n",
       "      <td>198774</td>\n",
       "      <td>Johnston Community College</td>\n",
       "      <td>245 College Road</td>\n",
       "      <td>NOT AVAILABLE</td>\n",
       "      <td>Smithfield</td>\n",
       "      <td>NC</td>\n",
       "      <td>...</td>\n",
       "      <td>3</td>\n",
       "      <td>2</td>\n",
       "      <td>2141</td>\n",
       "      <td>2075</td>\n",
       "      <td>4216</td>\n",
       "      <td>2</td>\n",
       "      <td>0</td>\n",
       "      <td>697</td>\n",
       "      <td>NOT AVAILABLE</td>\n",
       "      <td>True</td>\n",
       "    </tr>\n",
       "    <tr>\n",
       "      <th>2</th>\n",
       "      <td>3811</td>\n",
       "      <td>-101.891915</td>\n",
       "      <td>33.589284</td>\n",
       "      <td>1076</td>\n",
       "      <td>229337</td>\n",
       "      <td>Texas Tech University Health Sciences Center</td>\n",
       "      <td>3601 4th Street</td>\n",
       "      <td>NOT AVAILABLE</td>\n",
       "      <td>Lubbock</td>\n",
       "      <td>TX</td>\n",
       "      <td>...</td>\n",
       "      <td>-2</td>\n",
       "      <td>2</td>\n",
       "      <td>916</td>\n",
       "      <td>3475</td>\n",
       "      <td>4391</td>\n",
       "      <td>2</td>\n",
       "      <td>0</td>\n",
       "      <td>5574</td>\n",
       "      <td>NOT AVAILABLE</td>\n",
       "      <td>False</td>\n",
       "    </tr>\n",
       "    <tr>\n",
       "      <th>3</th>\n",
       "      <td>5143</td>\n",
       "      <td>-85.196213</td>\n",
       "      <td>34.258192</td>\n",
       "      <td>4408</td>\n",
       "      <td>140988</td>\n",
       "      <td>Shorter University</td>\n",
       "      <td>315 Shorter Ave</td>\n",
       "      <td>NOT AVAILABLE</td>\n",
       "      <td>Rome</td>\n",
       "      <td>GA</td>\n",
       "      <td>...</td>\n",
       "      <td>11</td>\n",
       "      <td>2</td>\n",
       "      <td>130</td>\n",
       "      <td>1378</td>\n",
       "      <td>1508</td>\n",
       "      <td>1</td>\n",
       "      <td>668</td>\n",
       "      <td>319</td>\n",
       "      <td>NOT AVAILABLE</td>\n",
       "      <td>False</td>\n",
       "    </tr>\n",
       "    <tr>\n",
       "      <th>5</th>\n",
       "      <td>204</td>\n",
       "      <td>-104.831950</td>\n",
       "      <td>39.676030</td>\n",
       "      <td>7204</td>\n",
       "      <td>460738</td>\n",
       "      <td>American Sentinel University</td>\n",
       "      <td>2260 South Xanadu Way</td>\n",
       "      <td>NOT AVAILABLE</td>\n",
       "      <td>Aurora</td>\n",
       "      <td>CO</td>\n",
       "      <td>...</td>\n",
       "      <td>-3</td>\n",
       "      <td>2</td>\n",
       "      <td>3074</td>\n",
       "      <td>333</td>\n",
       "      <td>3407</td>\n",
       "      <td>2</td>\n",
       "      <td>0</td>\n",
       "      <td>91</td>\n",
       "      <td>NOT AVAILABLE</td>\n",
       "      <td>True</td>\n",
       "    </tr>\n",
       "  </tbody>\n",
       "</table>\n",
       "<p>5 rows × 48 columns</p>\n",
       "</div>"
      ],
      "text/plain": [
       "   Unnamed: 0           X          Y   FID  IPEDSID  \\\n",
       "0        3003  -73.490213  40.759564  5268   189459   \n",
       "1        2832  -78.332293  35.501418  5097   198774   \n",
       "2        3811 -101.891915  33.589284  1076   229337   \n",
       "3        5143  -85.196213  34.258192  4408   140988   \n",
       "5         204 -104.831950  39.676030  7204   460738   \n",
       "\n",
       "                                           NAME                ADDRESS  \\\n",
       "0                           Briarcliffe College       1055 Stewart Ave   \n",
       "1                    Johnston Community College       245 College Road   \n",
       "2  Texas Tech University Health Sciences Center        3601 4th Street   \n",
       "3                            Shorter University        315 Shorter Ave   \n",
       "5                  American Sentinel University  2260 South Xanadu Way   \n",
       "\n",
       "        ADDRESS2        CITY STATE  ... SIZE_SET INST_SIZE PT_ENROLL  \\\n",
       "0  NOT AVAILABLE    Bethpage    NY  ...        9         2       440   \n",
       "1  NOT AVAILABLE  Smithfield    NC  ...        3         2      2141   \n",
       "2  NOT AVAILABLE     Lubbock    TX  ...       -2         2       916   \n",
       "3  NOT AVAILABLE        Rome    GA  ...       11         2       130   \n",
       "5  NOT AVAILABLE      Aurora    CO  ...       -3         2      3074   \n",
       "\n",
       "   FT_ENROLL TOT_ENROLL  HOUSING DORM_CAP  TOT_EMPLOY     SHELTER_ID  \\\n",
       "0       1226       1666        2        0         356  NOT AVAILABLE   \n",
       "1       2075       4216        2        0         697  NOT AVAILABLE   \n",
       "2       3475       4391        2        0        5574  NOT AVAILABLE   \n",
       "3       1378       1508        1      668         319  NOT AVAILABLE   \n",
       "5        333       3407        2        0          91  NOT AVAILABLE   \n",
       "\n",
       "   majority_pt  \n",
       "0        False  \n",
       "1         True  \n",
       "2        False  \n",
       "3        False  \n",
       "5         True  \n",
       "\n",
       "[5 rows x 48 columns]"
      ]
     },
     "execution_count": 4,
     "metadata": {},
     "output_type": "execute_result"
    }
   ],
   "source": [
    "df['majority_pt'] = df.PT_ENROLL > df.FT_ENROLL\n",
    "df.head()"
   ]
  },
  {
   "cell_type": "markdown",
   "id": "d102aa01",
   "metadata": {},
   "source": [
    "## 2. What Population Does a College Serve? [10 points] (Hypothesis test for proportion)\n",
    "\n",
    "The University of Illinois reports that approximately 15% of students enrolled part-time.  \n",
    "\n",
    "A university diversity officer would like to see if that 15% is also a reasonable value for a different characteristic of colleges and universities: the proportion of colleges that serve a majority of part-time students (as opposed to full-time students).\n",
    "\n",
    "**a)**  Write out our hypotheses to test in this question.  Be sure to use appropriate notation, and define our parameter of interest."
   ]
  },
  {
   "cell_type": "markdown",
   "id": "e173034a",
   "metadata": {},
   "source": [
    "$H_0:$ The proportion of colleges that serve a majority of part-time students = 15% $(p = 15\\%)$\n",
    "\n",
    "$H_a:$ The proportion of colleges that serve a majority of part-time students is not 15% $(p \\neq 15\\%)$ \n",
    "\n",
    "Parameter of interest(p): the proportion of all colleges that serve a majority of part-time students."
   ]
  },
  {
   "cell_type": "markdown",
   "id": "5872fff5",
   "metadata": {},
   "source": [
    "**b)** Check whether the conditions are met for our hypothesis test to be valid.  (No need to state each condition, but you may if it helps you.)\n",
    "\n",
    "**Note:** you may continue your analysis as if these conditions were met, even if they are not."
   ]
  },
  {
   "cell_type": "code",
   "execution_count": 5,
   "id": "e7046521",
   "metadata": {},
   "outputs": [
    {
     "name": "stdout",
     "output_type": "stream",
     "text": [
      "sample size: 128 \n",
      "p_0: 0.15 \n",
      "SE: 0.031560952932381495\n"
     ]
    }
   ],
   "source": [
    "n_sample = 128\n",
    "p_0 = 0.15\n",
    "se = np.sqrt(p_0 * (1 - p_0) / n_sample )\n",
    "print(\"sample size:\", n_sample, \"\\np_0:\", p_0, \"\\nSE:\", se)"
   ]
  },
  {
   "cell_type": "code",
   "execution_count": 6,
   "id": "4d97a326",
   "metadata": {},
   "outputs": [
    {
     "data": {
      "text/plain": [
       "19.2"
      ]
     },
     "execution_count": 6,
     "metadata": {},
     "output_type": "execute_result"
    }
   ],
   "source": [
    "n_sample * p_0"
   ]
  },
  {
   "cell_type": "code",
   "execution_count": 7,
   "id": "052c46d3",
   "metadata": {},
   "outputs": [
    {
     "data": {
      "text/plain": [
       "108.8"
      ]
     },
     "execution_count": 7,
     "metadata": {},
     "output_type": "execute_result"
    }
   ],
   "source": [
    "n_sample * (1 - p_0)"
   ]
  },
  {
   "cell_type": "markdown",
   "id": "63650b70",
   "metadata": {},
   "source": [
    "1. We have a random sample of colleges and universities. (told in the background)\n",
    "2. n is less than 10% of N, the number of colleges in the US is more than 1280\n",
    "4. We have a large enough sample size for a Normal approximation of the sampling distribution. \n",
    "    - $np_0 \\ge 10$\n",
    "    - $n(1 - p_0) \\ge 10$\n",
    "**Must use $p_0$ instead of sample proportion.**"
   ]
  },
  {
   "cell_type": "markdown",
   "id": "e1e5104a",
   "metadata": {},
   "source": [
    "**c)** Calculate the test statistic and corresponding *p*-value for this test."
   ]
  },
  {
   "cell_type": "markdown",
   "id": "d8122f3f",
   "metadata": {},
   "source": [
    "Formula of calculaitng test statistics:\n",
    "$z = \\frac{\\hat{p} - p_0}{SE} = \\frac{\\hat{p} - p_0}{\\sqrt{p_0(1-p_0)/n}}$"
   ]
  },
  {
   "cell_type": "code",
   "execution_count": 8,
   "id": "91421122",
   "metadata": {},
   "outputs": [
    {
     "data": {
      "text/plain": [
       "0.203125"
      ]
     },
     "execution_count": 8,
     "metadata": {},
     "output_type": "execute_result"
    }
   ],
   "source": [
    "# 计算sample proportion\n",
    "p_hat = df.majority_pt.mean()\n",
    "p_hat"
   ]
  },
  {
   "cell_type": "code",
   "execution_count": 9,
   "id": "87c67d38",
   "metadata": {},
   "outputs": [
    {
     "name": "stdout",
     "output_type": "stream",
     "text": [
      "test statistic: 1.6832508230603465\n"
     ]
    }
   ],
   "source": [
    "# 计算test_statistics\n",
    "test_statistic = np.abs(p_hat - p_0) / se\n",
    "print(\"test statistic:\",test_statistic)"
   ]
  },
  {
   "cell_type": "code",
   "execution_count": 10,
   "id": "60d40f4f",
   "metadata": {},
   "outputs": [
    {
     "name": "stdout",
     "output_type": "stream",
     "text": [
      "p-value 0.09232654595631029\n"
     ]
    }
   ],
   "source": [
    "# 计算p-value, two-tailed, 记得 *2\n",
    "p_value = 2 * (1 - norm.cdf(test_statistic))\n",
    "print(\"p-value\", p_value)"
   ]
  },
  {
   "cell_type": "markdown",
   "id": "72fe1d72",
   "metadata": {},
   "source": [
    "**d)** Based on your hypothesis test results, what **decision** would you make about our hypotheses at a significance level of $0.10$?"
   ]
  },
  {
   "cell_type": "markdown",
   "id": "6883cd4c",
   "metadata": {},
   "source": [
    "P-value is 0.09232654595631029, which is less than 0.10.\n",
    "\n",
    "So, we reject our null hypothesis. \n",
    "\n",
    "The proportion of colleges that serve a majority of part-time students $\\ne$ 15%"
   ]
  },
  {
   "cell_type": "markdown",
   "id": "6ededd1e",
   "metadata": {},
   "source": [
    "**e)**  Which of the following statements is correct about what our significance level represents?\n",
    "\n",
    "- Statement 1: The significance level is the probability that the null hypothesis is true.\n",
    "- Statement 2: The significance level is the probability of getting a test statistic as extreme or more extreme than observed, assuming the null hypothesis is true.\n",
    "- Statement 3: The significance level is the proportion of experiments that we would reject the null hypothesis when the null hypothesis is true.\n",
    "- Statement 4: The significance level is the proportion of times that the alternative hypothesis is true."
   ]
  },
  {
   "cell_type": "markdown",
   "id": "d4257be8",
   "metadata": {},
   "source": [
    "**Replace the X with a number below.**\n",
    "\n",
    "Statement 3 is correct.\n",
    "Note that statement 2 is definition of p-value."
   ]
  },
  {
   "cell_type": "markdown",
   "id": "d4e1f2d2",
   "metadata": {},
   "source": [
    "## 3. College and University Employees [12 points] (Hypothesis test for mean)\n",
    "\n",
    "Because many colleges are small, I believe that the average number of employees of all post-secondary educational facilities (schools) will be less than 481 people.  I want to make a decision about this claim using data.  Help me to perform an appropriate hypothesis test to test my theories.\n",
    "\n",
    "For this question, I'll use a significance level of $\\alpha = 0.01$.\n",
    "\n",
    "**a)** Write out your hypotheses.  Be sure to use appropriate notation and to define the parameter of interest."
   ]
  },
  {
   "cell_type": "markdown",
   "id": "e9fdd76e",
   "metadata": {},
   "source": [
    "$H_0:$ Average number of employees of all post-secondary educaitonal facilities is 481 $(\\mu = 481)$.\n",
    "\n",
    "$H_a:$ Average number of employees of all post-secondary educaitonal facilities is less than 481 $(\\mu < 481)$.\n",
    "\n",
    "Paremeter of interst$(\\mu)$: the population mean of employees of all schools"
   ]
  },
  {
   "cell_type": "markdown",
   "id": "1463b7dd",
   "metadata": {},
   "source": [
    "**b)** State & check the necessary assumptions for the hypothesis test to be valid.  "
   ]
  },
  {
   "cell_type": "markdown",
   "id": "948ebb91",
   "metadata": {},
   "source": [
    "1. We have a random sample of colleges and universities. (told in the background)\n",
    "2. n(128) < 10% of N (by google search, the number of colleges in the US is more than 1280)\n",
    "3. sample size n > 30, so normality is met."
   ]
  },
  {
   "cell_type": "code",
   "execution_count": 11,
   "id": "17aeaa41",
   "metadata": {},
   "outputs": [
    {
     "data": {
      "text/plain": [
       "<AxesSubplot: >"
      ]
     },
     "execution_count": 11,
     "metadata": {},
     "output_type": "execute_result"
    },
    {
     "data": {
      "image/png": "[encoded data removed]",
      "text/plain": [
       "<Figure size 640x480 with 1 Axes>"
      ]
     },
     "metadata": {},
     "output_type": "display_data"
    }
   ],
   "source": [
    "df.TOT_EMPLOY.hist()"
   ]
  },
  {
   "cell_type": "markdown",
   "id": "a38f1c0a",
   "metadata": {},
   "source": [
    "**c)** Calculate the test statistic and corresponding *p*-value based on the provided sample of colleges."
   ]
  },
  {
   "cell_type": "code",
   "execution_count": 12,
   "id": "472ba23c",
   "metadata": {},
   "outputs": [
    {
     "name": "stdout",
     "output_type": "stream",
     "text": [
      "sample mean: 438.2890625\n",
      "sample std: 1055.30537545773\n",
      "sample size: 128\n"
     ]
    }
   ],
   "source": [
    "n_sample = 128\n",
    "mean_sample = df.TOT_EMPLOY.mean()\n",
    "std_sample = df.TOT_EMPLOY.std()\n",
    "se = std_sample / np.sqrt(n_sample)\n",
    "print(\"sample mean:\", mean_sample)\n",
    "print(\"sample std:\", std_sample)\n",
    "print(\"sample size:\", n_sample)"
   ]
  },
  {
   "cell_type": "code",
   "execution_count": 13,
   "id": "188e259f",
   "metadata": {},
   "outputs": [
    {
     "name": "stdout",
     "output_type": "stream",
     "text": [
      "test statistics: -0.4578950395128658\n"
     ]
    }
   ],
   "source": [
    "# 计算test statistics\n",
    "test_statistic = (mean_sample - 481) / se\n",
    "print(\"test statistics:\", test_statistic)"
   ]
  },
  {
   "cell_type": "code",
   "execution_count": 14,
   "id": "184d15bc",
   "metadata": {},
   "outputs": [
    {
     "name": "stdout",
     "output_type": "stream",
     "text": [
      "p-value: 0.3239051588757881\n"
     ]
    }
   ],
   "source": [
    "# 计算p-value, 因为不知道population std， 所以使用t distribution\n",
    "p_value = t.cdf(test_statistic, df = n_sample - 1)\n",
    "print(\"p-value:\", p_value)"
   ]
  },
  {
   "cell_type": "markdown",
   "id": "6b46ba7a",
   "metadata": {},
   "source": [
    "**d)** Based on the evidence calculated so far, what can you say about our theory of interest?  Be sure to give a complete conclusion in the context of the problem."
   ]
  },
  {
   "cell_type": "markdown",
   "id": "5da04564",
   "metadata": {},
   "source": [
    "We fail to reject our null hypothesis, since p-value is 0.324 > 0.01.\n",
    "\n",
    "Therefore, I do not have sufficient evidence to convince the skeptics who believe that the mean number of employees is less than 481."
   ]
  },
  {
   "cell_type": "markdown",
   "id": "a02d06b1",
   "metadata": {},
   "source": [
    "**e)** Interpret the *p*-value.  That is, explain what the specific *p*-value that you calculated means."
   ]
  },
  {
   "cell_type": "markdown",
   "id": "f111123c",
   "metadata": {},
   "source": [
    "The probability of the sample mean goes less than 481(what we assued to be true in null hypothesis) is about 0.324.\n",
    "\n",
    "The specific, formal interpretation of the p‑value is: If the population mean number of employees for the\n",
    "population of all post‑secondary schools really is 481 (the null hypothesis is true), I would expect to have a\n",
    "sample of 128 schools with a sample mean of what I observed from this sample (438) or less in about\n",
    "32.4% of my possible samples."
   ]
  },
  {
   "cell_type": "markdown",
   "id": "2e606086",
   "metadata": {},
   "source": [
    "<hr>\n",
    "\n",
    "## <u>Case Study 2</u>: U.S. County Unemployment Rate and Metropolitan Areas\n",
    "\n",
    "In this case study, we will explore the statistical concepts that we've learned this week while also exploring the relationship between the **unemployment rate** of U.S. counties and whether the county is a **metropolitan area** or not. In this analysis, our cleaned U.S. counties dataset will serve as our population of all U.S. counties.  Other than those counties that have been removed, this dataset is in fact the population of U.S. coutnies.  While we usually do not have the whole population at our disposal when we conduct inference, we will use this population to \"check\" our answers so we can gain a deeper understanding of what is going on \"behind the scenes\" when we conduct inference on a population parameter.\n",
    "\n",
    "## 4. Read and prepare the data [3 points] \n",
    "\n",
    "We will be analyzing just the **unemployment_rate** and **metro** variables from the **county.csv** dataframe.\n",
    "\n",
    "1. Read the county.csv into a dataframe, call it df, and display the first five rows.\n",
    " - *This dataset has missing values! Specifically, the phrase 'data unavailable' represents missing values in this csv. Make sure you encode these values as NaN when you read the data in.*\n",
    "2. Create a pandas dataframe that is comprised of just the **unemployment_rate** and the **metro** columns. Then drop all rows in this dataframe that have missing values."
   ]
  },
  {
   "cell_type": "code",
   "execution_count": 15,
   "id": "a5632fdc",
   "metadata": {},
   "outputs": [],
   "source": [
    "df = pd.read_csv(\"county.csv\", na_values = [\"data unavailable\"])"
   ]
  },
  {
   "cell_type": "code",
   "execution_count": 16,
   "id": "9ff71408",
   "metadata": {},
   "outputs": [
    {
     "data": {
      "text/html": [
       "<div>\n",
       "<style scoped>\n",
       "    .dataframe tbody tr th:only-of-type {\n",
       "        vertical-align: middle;\n",
       "    }\n",
       "\n",
       "    .dataframe tbody tr th {\n",
       "        vertical-align: top;\n",
       "    }\n",
       "\n",
       "    .dataframe thead th {\n",
       "        text-align: right;\n",
       "    }\n",
       "</style>\n",
       "<table border=\"1\" class=\"dataframe\">\n",
       "  <thead>\n",
       "    <tr style=\"text-align: right;\">\n",
       "      <th></th>\n",
       "      <th>name</th>\n",
       "      <th>state</th>\n",
       "      <th>pop2000</th>\n",
       "      <th>pop2010</th>\n",
       "      <th>pop2017</th>\n",
       "      <th>pop_change</th>\n",
       "      <th>poverty</th>\n",
       "      <th>homeownership</th>\n",
       "      <th>multi_unit</th>\n",
       "      <th>unemployment_rate</th>\n",
       "      <th>metro</th>\n",
       "      <th>median_edu</th>\n",
       "      <th>per_capita_income</th>\n",
       "      <th>median_hh_income</th>\n",
       "      <th>smoking_ban</th>\n",
       "    </tr>\n",
       "  </thead>\n",
       "  <tbody>\n",
       "    <tr>\n",
       "      <th>0</th>\n",
       "      <td>Autauga County</td>\n",
       "      <td>Alabama</td>\n",
       "      <td>43671.0</td>\n",
       "      <td>54571</td>\n",
       "      <td>55504.0</td>\n",
       "      <td>1.48</td>\n",
       "      <td>13.7</td>\n",
       "      <td>77.5</td>\n",
       "      <td>7.2</td>\n",
       "      <td>3.86</td>\n",
       "      <td>yes</td>\n",
       "      <td>some_college</td>\n",
       "      <td>27841.70</td>\n",
       "      <td>55317.0</td>\n",
       "      <td>none</td>\n",
       "    </tr>\n",
       "    <tr>\n",
       "      <th>1</th>\n",
       "      <td>Baldwin County</td>\n",
       "      <td>Alabama</td>\n",
       "      <td>140415.0</td>\n",
       "      <td>182265</td>\n",
       "      <td>212628.0</td>\n",
       "      <td>9.19</td>\n",
       "      <td>11.8</td>\n",
       "      <td>76.7</td>\n",
       "      <td>22.6</td>\n",
       "      <td>3.99</td>\n",
       "      <td>yes</td>\n",
       "      <td>some_college</td>\n",
       "      <td>27779.85</td>\n",
       "      <td>52562.0</td>\n",
       "      <td>none</td>\n",
       "    </tr>\n",
       "    <tr>\n",
       "      <th>2</th>\n",
       "      <td>Barbour County</td>\n",
       "      <td>Alabama</td>\n",
       "      <td>29038.0</td>\n",
       "      <td>27457</td>\n",
       "      <td>25270.0</td>\n",
       "      <td>-6.22</td>\n",
       "      <td>27.2</td>\n",
       "      <td>68.0</td>\n",
       "      <td>11.1</td>\n",
       "      <td>5.90</td>\n",
       "      <td>no</td>\n",
       "      <td>hs_diploma</td>\n",
       "      <td>17891.73</td>\n",
       "      <td>33368.0</td>\n",
       "      <td>partial</td>\n",
       "    </tr>\n",
       "    <tr>\n",
       "      <th>3</th>\n",
       "      <td>Bibb County</td>\n",
       "      <td>Alabama</td>\n",
       "      <td>20826.0</td>\n",
       "      <td>22915</td>\n",
       "      <td>22668.0</td>\n",
       "      <td>0.73</td>\n",
       "      <td>15.2</td>\n",
       "      <td>82.9</td>\n",
       "      <td>6.6</td>\n",
       "      <td>4.39</td>\n",
       "      <td>yes</td>\n",
       "      <td>hs_diploma</td>\n",
       "      <td>20572.05</td>\n",
       "      <td>43404.0</td>\n",
       "      <td>none</td>\n",
       "    </tr>\n",
       "    <tr>\n",
       "      <th>4</th>\n",
       "      <td>Blount County</td>\n",
       "      <td>Alabama</td>\n",
       "      <td>51024.0</td>\n",
       "      <td>57322</td>\n",
       "      <td>58013.0</td>\n",
       "      <td>0.68</td>\n",
       "      <td>15.6</td>\n",
       "      <td>82.0</td>\n",
       "      <td>3.7</td>\n",
       "      <td>4.02</td>\n",
       "      <td>yes</td>\n",
       "      <td>hs_diploma</td>\n",
       "      <td>21367.39</td>\n",
       "      <td>47412.0</td>\n",
       "      <td>none</td>\n",
       "    </tr>\n",
       "  </tbody>\n",
       "</table>\n",
       "</div>"
      ],
      "text/plain": [
       "             name    state   pop2000  pop2010   pop2017  pop_change  poverty  \\\n",
       "0  Autauga County  Alabama   43671.0    54571   55504.0        1.48     13.7   \n",
       "1  Baldwin County  Alabama  140415.0   182265  212628.0        9.19     11.8   \n",
       "2  Barbour County  Alabama   29038.0    27457   25270.0       -6.22     27.2   \n",
       "3     Bibb County  Alabama   20826.0    22915   22668.0        0.73     15.2   \n",
       "4   Blount County  Alabama   51024.0    57322   58013.0        0.68     15.6   \n",
       "\n",
       "   homeownership  multi_unit  unemployment_rate metro    median_edu  \\\n",
       "0           77.5         7.2               3.86   yes  some_college   \n",
       "1           76.7        22.6               3.99   yes  some_college   \n",
       "2           68.0        11.1               5.90    no    hs_diploma   \n",
       "3           82.9         6.6               4.39   yes    hs_diploma   \n",
       "4           82.0         3.7               4.02   yes    hs_diploma   \n",
       "\n",
       "   per_capita_income  median_hh_income smoking_ban  \n",
       "0           27841.70           55317.0        none  \n",
       "1           27779.85           52562.0        none  \n",
       "2           17891.73           33368.0     partial  \n",
       "3           20572.05           43404.0        none  \n",
       "4           21367.39           47412.0        none  "
      ]
     },
     "execution_count": 16,
     "metadata": {},
     "output_type": "execute_result"
    }
   ],
   "source": [
    "df.head()"
   ]
  },
  {
   "cell_type": "code",
   "execution_count": 16,
   "id": "800a0d9a",
   "metadata": {},
   "outputs": [],
   "source": [
    "df = pd.read_csv(\"county.csv\", na_values = [\"data unavailable\"])[['unemployment_rate', 'metro']].dropna()"
   ]
  },
  {
   "cell_type": "code",
   "execution_count": 17,
   "id": "572b9858",
   "metadata": {},
   "outputs": [
    {
     "data": {
      "text/plain": [
       "(3139, 2)"
      ]
     },
     "execution_count": 17,
     "metadata": {},
     "output_type": "execute_result"
    }
   ],
   "source": [
    "df.shape"
   ]
  },
  {
   "cell_type": "code",
   "execution_count": 18,
   "id": "56529099",
   "metadata": {},
   "outputs": [
    {
     "data": {
      "text/html": [
       "<div>\n",
       "<style scoped>\n",
       "    .dataframe tbody tr th:only-of-type {\n",
       "        vertical-align: middle;\n",
       "    }\n",
       "\n",
       "    .dataframe tbody tr th {\n",
       "        vertical-align: top;\n",
       "    }\n",
       "\n",
       "    .dataframe thead th {\n",
       "        text-align: right;\n",
       "    }\n",
       "</style>\n",
       "<table border=\"1\" class=\"dataframe\">\n",
       "  <thead>\n",
       "    <tr style=\"text-align: right;\">\n",
       "      <th></th>\n",
       "      <th>unemployment_rate</th>\n",
       "      <th>metro</th>\n",
       "    </tr>\n",
       "  </thead>\n",
       "  <tbody>\n",
       "    <tr>\n",
       "      <th>0</th>\n",
       "      <td>3.86</td>\n",
       "      <td>yes</td>\n",
       "    </tr>\n",
       "    <tr>\n",
       "      <th>1</th>\n",
       "      <td>3.99</td>\n",
       "      <td>yes</td>\n",
       "    </tr>\n",
       "    <tr>\n",
       "      <th>2</th>\n",
       "      <td>5.90</td>\n",
       "      <td>no</td>\n",
       "    </tr>\n",
       "    <tr>\n",
       "      <th>3</th>\n",
       "      <td>4.39</td>\n",
       "      <td>yes</td>\n",
       "    </tr>\n",
       "    <tr>\n",
       "      <th>4</th>\n",
       "      <td>4.02</td>\n",
       "      <td>yes</td>\n",
       "    </tr>\n",
       "  </tbody>\n",
       "</table>\n",
       "</div>"
      ],
      "text/plain": [
       "   unemployment_rate metro\n",
       "0               3.86   yes\n",
       "1               3.99   yes\n",
       "2               5.90    no\n",
       "3               4.39   yes\n",
       "4               4.02   yes"
      ]
     },
     "execution_count": 18,
     "metadata": {},
     "output_type": "execute_result"
    }
   ],
   "source": [
    "df.head()"
   ]
  },
  {
   "cell_type": "markdown",
   "id": "92a41d0d",
   "metadata": {},
   "source": [
    "## 5. Parameter Information [8 points]\n",
    "\n",
    "In this analysis, we will consider two populations:\n",
    "\n",
    "- the population of counties that are metropolitan areas, and\n",
    "- the population of counties that are not metropolitan areas\n",
    "\n",
    "**a)** First, create two dataframes:\n",
    "* one that is comprised of the unemployment rates of all metropolitan counties, and \n",
    "* one that is comprised of the unemployment rates of all non-metropolitan counties."
   ]
  },
  {
   "cell_type": "code",
   "execution_count": 19,
   "id": "fd413187",
   "metadata": {},
   "outputs": [
    {
     "data": {
      "text/plain": [
       "(1165, 2)"
      ]
     },
     "execution_count": 19,
     "metadata": {},
     "output_type": "execute_result"
    }
   ],
   "source": [
    "df_metro = df[df.metro == 'yes']\n",
    "df_metro.shape"
   ]
  },
  {
   "cell_type": "code",
   "execution_count": 20,
   "id": "f308dac6",
   "metadata": {},
   "outputs": [
    {
     "data": {
      "text/plain": [
       "(1974, 2)"
      ]
     },
     "execution_count": 20,
     "metadata": {},
     "output_type": "execute_result"
    }
   ],
   "source": [
    "df_not_metro = df[df.metro == 'no']\n",
    "df_not_metro.shape"
   ]
  },
  {
   "cell_type": "markdown",
   "id": "19088aa7",
   "metadata": {},
   "source": [
    "**b)** Next, we will calculate two relevant parameters for each population.  For each of these two populations, calculate the population mean unemployment rate and the population standard deviation unemployment rate."
   ]
  },
  {
   "cell_type": "code",
   "execution_count": 21,
   "id": "8efaf82f",
   "metadata": {},
   "outputs": [
    {
     "data": {
      "text/plain": [
       "4.397957081545064"
      ]
     },
     "execution_count": 21,
     "metadata": {},
     "output_type": "execute_result"
    }
   ],
   "source": [
    "metro_pop_mean = df_metro.unemployment_rate.mean()\n",
    "metro_pop_mean"
   ]
  },
  {
   "cell_type": "code",
   "execution_count": 22,
   "id": "a5cd2297",
   "metadata": {},
   "outputs": [
    {
     "data": {
      "text/plain": [
       "4.737436676798379"
      ]
     },
     "execution_count": 22,
     "metadata": {},
     "output_type": "execute_result"
    }
   ],
   "source": [
    "not_metro_pop_mean = df_not_metro.unemployment_rate.mean()\n",
    "not_metro_pop_mean"
   ]
  },
  {
   "cell_type": "code",
   "execution_count": 23,
   "id": "efba431a",
   "metadata": {},
   "outputs": [
    {
     "data": {
      "text/plain": [
       "1.2991800671784013"
      ]
     },
     "execution_count": 23,
     "metadata": {},
     "output_type": "execute_result"
    }
   ],
   "source": [
    "metro_pop_std = df_metro.unemployment_rate.std()\n",
    "metro_pop_std"
   ]
  },
  {
   "cell_type": "code",
   "execution_count": 24,
   "id": "2706de2c",
   "metadata": {},
   "outputs": [
    {
     "data": {
      "text/plain": [
       "1.8124518106510843"
      ]
     },
     "execution_count": 24,
     "metadata": {},
     "output_type": "execute_result"
    }
   ],
   "source": [
    "not_metro_pop_std = df_not_metro.unemployment_rate.std()\n",
    "not_metro_pop_std"
   ]
  },
  {
   "cell_type": "markdown",
   "id": "69fea72f",
   "metadata": {},
   "source": [
    "**c)** What is the difference between the population mean unemployment rate of metropolitan counties and the population mean unemployment rate of non-metropolitan counties (ie. $\\mu_{metro}-\\mu_{nonmetro}$)? \n",
    "\n",
    "Is this a statistic or a parameter?"
   ]
  },
  {
   "cell_type": "code",
   "execution_count": 25,
   "id": "88291530",
   "metadata": {},
   "outputs": [
    {
     "data": {
      "text/plain": [
       "-0.33947959525331495"
      ]
     },
     "execution_count": 25,
     "metadata": {},
     "output_type": "execute_result"
    }
   ],
   "source": [
    "mu_diff = metro_pop_mean - not_metro_pop_mean\n",
    "mu_diff"
   ]
  },
  {
   "cell_type": "markdown",
   "id": "5dd9dd2b",
   "metadata": {},
   "source": [
    "Answer to statistic or parameter: **Parameter**"
   ]
  },
  {
   "cell_type": "markdown",
   "id": "c292143a",
   "metadata": {},
   "source": [
    "**d)** Plot a histogram of distribution of unemployment rates for each of the two types of counties (whether in a metropolitan area or not).  Describe the **shape** for each distribution."
   ]
  },
  {
   "cell_type": "code",
   "execution_count": 26,
   "id": "452c4bd6",
   "metadata": {},
   "outputs": [
    {
     "data": {
      "image/png": "[encoded data removed]",
      "text/plain": [
       "<Figure size 640x480 with 1 Axes>"
      ]
     },
     "metadata": {},
     "output_type": "display_data"
    }
   ],
   "source": [
    "df_metro.unemployment_rate.hist()\n",
    "plt.title(\"unemployment rate of metropolitan area\")\n",
    "plt.xlabel(\"unemployment\")\n",
    "plt.ylabel(\"frequency\")\n",
    "plt.show()"
   ]
  },
  {
   "cell_type": "code",
   "execution_count": 27,
   "id": "aab77973",
   "metadata": {},
   "outputs": [
    {
     "data": {
      "image/png": "[encoded data removed]",
      "text/plain": [
       "<Figure size 640x480 with 1 Axes>"
      ]
     },
     "metadata": {},
     "output_type": "display_data"
    }
   ],
   "source": [
    "df_not_metro.unemployment_rate.hist()\n",
    "plt.title(\"unemployment rate of non-metropolitan area\")\n",
    "plt.xlabel(\"unemployment\")\n",
    "plt.ylabel(\"frequency\")\n",
    "plt.show()"
   ]
  },
  {
   "cell_type": "markdown",
   "id": "ae234aa6",
   "metadata": {},
   "source": [
    "metro unemployment: unimodel and right skewed\n",
    "\n",
    "non-metro unemployment: unimodel and right skewed"
   ]
  },
  {
   "cell_type": "markdown",
   "id": "725d266e",
   "metadata": {},
   "source": [
    "## 6. Sampling Distribution for Difference of Means [14 points]\n",
    "\n",
    "First, *suppose* we were to create a sampling distribution of sample mean unemployment rate differences (ie. a distribution of values of $\\bar{x}_{metro}-\\bar{x}_{nonmetro}$, where $\\bar{x}_{metro}$ is the mean of a random sample of $n_1=50$ metropolitan counties and $\\bar{x}_{nonmetro}$ is the mean of a random sample of $n_2=50$ non-metropolitan counties).\n",
    "\n",
    "**a)**  What would you *expect* the mean and standard deviation of this sampling distribution to be?"
   ]
  },
  {
   "cell_type": "markdown",
   "id": "9512b298",
   "metadata": {},
   "source": [
    "The formula for expecting mu:\n",
    "$E(\\bar{X_1} - \\bar{X_2}) = E(\\bar{X_1}) - E(\\bar{X_2})$\n",
    "\n",
    "The formula for SD:\n",
    "$SD(\\bar{X_1} - \\bar{X_2}) = \\sqrt{Var(X_1) + Var(X_2)} = \\sqrt{(\\frac{\\sigma_1}{\\sqrt{n_1}})^2 + (\\frac{\\sigma_2}{\\sqrt{n_2}})^2} = \\sqrt{\\frac{(\\sigma_1) ^ 2}{n_1} + (\\frac{(\\sigma_2)^2}{n_1}}$"
   ]
  },
  {
   "cell_type": "code",
   "execution_count": 28,
   "id": "b0fa14bd",
   "metadata": {},
   "outputs": [
    {
     "data": {
      "text/plain": [
       "-0.33947959525331495"
      ]
     },
     "execution_count": 28,
     "metadata": {},
     "output_type": "execute_result"
    }
   ],
   "source": [
    "sampling_mean = metro_pop_mean - not_metro_pop_mean\n",
    "sampling_mean"
   ]
  },
  {
   "cell_type": "code",
   "execution_count": 29,
   "id": "bd817f20",
   "metadata": {},
   "outputs": [
    {
     "data": {
      "text/plain": [
       "0.3153680520561989"
      ]
     },
     "execution_count": 29,
     "metadata": {},
     "output_type": "execute_result"
    }
   ],
   "source": [
    "sampling_std = np.sqrt( metro_pop_std**2 / 50 + not_metro_pop_std ** 2 / 50)\n",
    "sampling_std"
   ]
  },
  {
   "cell_type": "markdown",
   "id": "84781cce",
   "metadata": {},
   "source": [
    "Mean: -0.33947959525331495\n",
    "\n",
    "Std:  0.3153680520561989"
   ]
  },
  {
   "cell_type": "markdown",
   "id": "1b8226ce",
   "metadata": {},
   "source": [
    "**b)** Would this sampling distribution of differences of sample means be approximately normal? Explain."
   ]
  },
  {
   "cell_type": "markdown",
   "id": "473b6e48",
   "metadata": {},
   "source": [
    "Yes, due to the following checks:\n",
    "1. sample 1 is randomly selected\n",
    "2. n1 < 10% N1 (500 < 1165)\n",
    "3. sample 2 is randomly selected\n",
    "4. n2 < 10% N2 (500 < 1974)\n",
    "5. n1 > 30\n",
    "6. n2 > 30\n",
    "7. We have independent samples."
   ]
  },
  {
   "cell_type": "markdown",
   "id": "837d88bc",
   "metadata": {},
   "source": [
    "**c)**  Now, we would check your *expectations* in parts **a** and **b** above by *actually* creating a sampling distribution of differences of sample mean unemployment rates (i.e. a distribution of values of $\\bar{x}_{metro}-\\bar{x}_{nonmetro}$, where $\\bar{x}_{metro}$ is the mean of a random sample of $n_1=50$ metropolitan counties and $\\bar{x}_{nonmetro}$ is the mean of a random sample of $n_2=50$ non-metropolitan counties).\n",
    "\n",
    "In the space below, create this sampling distribution with 1000 values of $\\bar{x}_{metro}-\\bar{x}_{nonmetro}$."
   ]
  },
  {
   "cell_type": "code",
   "execution_count": 30,
   "id": "4b731986",
   "metadata": {},
   "outputs": [],
   "source": [
    "from scipy.stats import norm\n",
    "sampling = norm.rvs(sampling_mean, sampling_std, 1000)"
   ]
  },
  {
   "cell_type": "code",
   "execution_count": 31,
   "id": "ddbb3589",
   "metadata": {},
   "outputs": [
    {
     "data": {
      "text/plain": [
       "array([-1.07825056e-01, -6.05127642e-02, -5.44148718e-01,  5.47289088e-02,\n",
       "        3.13891615e-01, -3.73453927e-01, -2.44108267e-01, -3.73710376e-01,\n",
       "        3.38376117e-01, -4.15260803e-01, -1.03269003e+00, -2.41866387e-01,\n",
       "       -6.85117441e-01, -4.81296664e-01, -5.35795011e-01, -5.57778727e-01,\n",
       "        2.46548644e-03, -2.63926349e-01, -4.72286209e-01,  4.90247574e-01,\n",
       "       -8.56390294e-01, -6.76739767e-01, -2.65651840e-01, -3.05719409e-01,\n",
       "       -2.79548859e-01, -4.42368969e-01, -3.52192041e-01,  1.69344277e-01,\n",
       "        3.84715187e-01, -2.54342235e-01, -3.59901857e-01, -5.93810908e-01,\n",
       "       -1.00594007e-01, -8.70118410e-01,  4.09560004e-01,  1.04458812e-01,\n",
       "       -5.03873972e-01, -1.37568675e-01, -4.18978841e-01, -1.23959396e+00,\n",
       "       -5.92572816e-02, -2.23107533e-01, -6.41579404e-01,  7.39237958e-02,\n",
       "       -4.44193701e-01, -1.98154799e-01, -7.96058725e-01, -6.24756953e-01,\n",
       "       -8.40153875e-01, -5.08461475e-01, -2.77176398e-01, -2.17096774e-01,\n",
       "       -6.36734455e-01, -3.56112600e-01, -5.72255999e-01, -4.46735950e-01,\n",
       "       -1.88547660e-01, -6.97621504e-01, -2.43995035e-01, -3.04004261e-01,\n",
       "       -1.88336790e-01, -5.61311160e-01,  6.97067640e-02,  5.11349406e-01,\n",
       "       -1.68086827e-03, -2.16704500e-01, -7.02129824e-01, -3.56620303e-02,\n",
       "       -6.00392011e-01, -2.91592392e-01, -5.43520819e-01, -1.26189179e-01,\n",
       "       -5.05078200e-01, -8.28653160e-01, -7.19048829e-01,  1.20882407e-02,\n",
       "       -4.63843719e-01, -6.70062108e-01, -4.21834570e-01, -6.98316684e-01,\n",
       "       -2.33562013e-01, -1.15094108e-01, -5.93211802e-01,  8.06404338e-03,\n",
       "       -6.02638686e-01, -4.11110332e-01, -8.43044038e-01, -6.03668588e-01,\n",
       "       -5.54885536e-01, -3.10701084e-01, -1.16818937e-01, -9.09490675e-01,\n",
       "       -4.97611982e-01,  4.31615344e-01, -1.06663239e+00,  3.91883416e-01,\n",
       "       -2.35021734e-01,  2.11476527e-01, -8.14838049e-01, -3.46600402e-02,\n",
       "       -4.68751551e-01,  9.42597466e-02, -4.31050667e-01, -4.48034926e-02,\n",
       "       -3.51708815e-01, -2.99954390e-01, -5.84960383e-01, -7.53199921e-01,\n",
       "        3.21284682e-01,  3.22206547e-01, -5.10259896e-01, -7.33983038e-01,\n",
       "       -3.11183763e-01, -6.62627889e-01, -5.40981956e-01, -4.85591716e-01,\n",
       "       -5.16510755e-01, -3.56619700e-01, -3.96121170e-02, -1.73770220e-01,\n",
       "       -3.48628608e-01, -5.93670052e-02, -5.62526706e-03, -6.44493465e-01,\n",
       "       -3.30841854e-01,  1.29240723e-01, -4.52770650e-01, -4.15477849e-01,\n",
       "       -1.13746586e+00, -8.66313595e-01, -3.42970385e-01, -3.74725695e-02,\n",
       "        2.01351784e-02, -5.29673592e-01, -2.73298636e-01, -5.12993244e-01,\n",
       "        1.33750271e-01, -3.61216574e-01,  8.53419710e-02, -4.34284066e-01,\n",
       "       -1.11218302e-01, -9.67782552e-02, -3.71079196e-01, -8.97281467e-01,\n",
       "       -7.47644988e-02, -7.52232543e-01, -5.50147909e-01, -3.20200826e-01,\n",
       "       -2.43160854e-01, -1.10963580e-01, -6.70696562e-01, -2.51944550e-01,\n",
       "        5.48530961e-02, -4.33574422e-01,  1.45927318e-01, -1.11570643e-01,\n",
       "        1.97966111e-01, -8.37497835e-01,  3.09683350e-01, -9.49704563e-03,\n",
       "        4.31422022e-01, -1.89484651e-01, -9.47061711e-01, -6.73210875e-01,\n",
       "       -6.01037988e-01,  1.84763030e-01, -1.83130189e-01, -5.29239384e-01,\n",
       "       -5.45101283e-01, -5.03426890e-01, -5.17182334e-01, -4.12801780e-01,\n",
       "       -5.93148709e-01, -2.87000369e-01,  1.28774705e-01, -1.94723731e-01,\n",
       "       -4.06463165e-01, -3.35443718e-01, -3.01082568e-01, -4.29409009e-01,\n",
       "       -4.81633948e-01, -4.22186347e-01,  2.52397951e-01, -6.70654082e-01,\n",
       "       -7.21702181e-01, -5.92382265e-01, -6.42986690e-01, -4.68470343e-01,\n",
       "       -4.99177479e-01, -1.79822489e-01,  4.22072024e-02, -1.53208559e-01,\n",
       "       -8.22755764e-01, -5.45382474e-01,  4.38037704e-01, -1.13096662e-01,\n",
       "       -1.97100291e-01,  1.88691542e-01, -4.94187461e-01, -7.99888381e-02,\n",
       "       -5.74038853e-01, -2.63830291e-01, -3.33906598e-01,  1.60102732e-01,\n",
       "       -1.07941801e+00, -1.41778189e-02, -3.00450124e-01, -4.91196647e-01,\n",
       "       -2.61509308e-01, -4.61305493e-01, -2.24404431e-02, -5.31650782e-02,\n",
       "       -7.78737575e-01, -4.44092882e-01, -3.29482625e-01, -2.64731815e-01,\n",
       "       -2.68120019e-01,  2.65479753e-01, -7.31632302e-01, -7.60493109e-01,\n",
       "       -5.95144396e-01, -2.37008101e-01, -3.52537488e-01, -2.48763090e-01,\n",
       "       -8.12675599e-01, -1.42800217e-01, -6.09930853e-01, -5.34870189e-01,\n",
       "        3.25637280e-02,  2.76012163e-01, -5.29369798e-01, -6.45562208e-01,\n",
       "       -8.09866985e-02, -3.54921932e-01, -2.11884106e-01, -2.20045852e-01,\n",
       "       -8.17727454e-01, -7.17516584e-01,  4.30172566e-02, -6.07957573e-01,\n",
       "       -3.34426477e-01, -7.53412617e-01, -5.86082328e-01, -8.33890744e-02,\n",
       "       -4.99702447e-01,  3.43535833e-01, -1.82568091e-01, -1.57509020e-01,\n",
       "       -5.24747703e-01, -3.55635451e-01, -3.59746040e-01, -6.93046353e-01,\n",
       "       -6.96202828e-01, -2.58234554e-01, -4.49174171e-01, -9.30956965e-02,\n",
       "       -1.56219729e-01, -1.88444292e-01, -5.00874943e-01, -1.05932514e-01,\n",
       "       -4.36405087e-01,  3.78301523e-02, -4.93710262e-01, -5.24722876e-01,\n",
       "       -5.31476158e-01, -3.89255405e-01, -6.33292597e-01, -3.82504721e-01,\n",
       "        2.36013857e-02, -6.16292560e-01, -7.92080152e-01, -2.14112934e-01,\n",
       "       -4.22479036e-01, -1.05930052e+00, -2.13141793e-01, -5.82341793e-02,\n",
       "       -3.23676424e-01, -8.78025192e-02, -2.73322130e-01, -3.57209490e-01,\n",
       "       -7.74687321e-01, -2.80912754e-01,  1.05451867e-01, -2.08242353e-01,\n",
       "       -3.05686323e-01, -2.00180755e-01, -6.73842670e-01, -3.15141093e-01,\n",
       "       -3.94155234e-01,  1.26459675e-01, -1.44685748e-01, -3.88146830e-01,\n",
       "       -6.37984600e-01, -5.36202738e-01, -7.30933139e-01, -5.66750511e-01,\n",
       "       -7.09469971e-02, -2.19455294e-02, -2.09792443e-01, -1.73087407e-01,\n",
       "       -5.22396282e-01, -5.04835228e-01, -1.23329573e-01,  4.56262975e-02,\n",
       "       -7.02899709e-01,  8.92795115e-02,  6.65476052e-02, -6.71010885e-01,\n",
       "       -5.04307287e-01, -6.54591105e-01, -6.21418439e-01, -5.44576071e-01,\n",
       "       -9.10519555e-01, -8.90973965e-01, -3.65810629e-01,  2.58369523e-02,\n",
       "       -6.81300183e-01, -1.10953091e+00, -2.88530723e-01, -2.19280846e-01,\n",
       "       -1.82898276e-01, -1.23169412e-01, -9.28182707e-01, -5.25303487e-01,\n",
       "       -3.51335693e-01, -6.13671661e-01, -5.60350792e-01, -9.21234154e-01,\n",
       "       -5.95723312e-01, -4.07261329e-01, -2.07611230e-01, -4.07494711e-01,\n",
       "       -6.43257720e-01, -7.70940557e-01, -3.87183512e-01, -5.34675421e-01,\n",
       "       -3.09754449e-01, -4.40253941e-04, -1.96522967e-01, -2.03392315e-01,\n",
       "       -1.61966939e-01, -2.26055577e-01, -9.92021034e-02, -5.46715687e-01,\n",
       "        1.43392975e-01,  4.68308637e-03, -1.77103584e-02, -8.05988090e-01,\n",
       "       -3.99813390e-01, -2.79513251e-01, -2.84214139e-01, -1.05076742e-01,\n",
       "        9.08689732e-03, -1.56705916e-01,  4.50320712e-01, -2.79855339e-01,\n",
       "       -1.89959932e-01, -9.24514242e-01, -8.56379245e-01, -2.46287670e-01,\n",
       "        5.05067125e-01, -4.51911994e-01, -5.89104608e-01, -4.69367047e-01,\n",
       "       -5.34229941e-01, -2.49392785e-01, -3.03815725e-01, -8.43859720e-01,\n",
       "       -4.22589967e-01, -3.05480320e-01, -7.03701782e-01, -6.71177707e-01,\n",
       "       -6.18656502e-01, -1.11789109e-01, -4.81019947e-01, -5.42090300e-01,\n",
       "       -1.52093623e-01,  1.46831189e-02, -1.55135126e-01, -6.95924070e-02,\n",
       "        7.66407756e-02, -3.00056118e-01, -6.94377939e-01, -1.39730336e-01,\n",
       "       -8.11920338e-01, -1.27400696e-01,  9.01661686e-02, -1.96961431e-01,\n",
       "       -8.26348528e-01,  4.46817559e-01, -1.69995929e-01, -3.18531572e-01,\n",
       "       -6.63885927e-02,  1.68572582e-01, -7.15901470e-01,  1.24970954e-01,\n",
       "       -5.28249593e-01, -5.94686379e-01, -4.19906835e-01,  3.34439443e-02,\n",
       "       -3.17449832e-01, -3.12224178e-01, -3.22526616e-01, -1.08779044e+00,\n",
       "       -2.20818536e-01,  5.34204566e-02, -7.65166103e-02,  4.15080794e-01,\n",
       "       -3.46437928e-01, -3.84673803e-01, -2.29134326e-01,  1.62534492e-01,\n",
       "       -1.44612563e-01, -3.78769773e-01, -3.77439365e-01, -8.82867385e-02,\n",
       "        3.30918835e-01,  2.77727426e-01, -1.48309509e-02, -3.63450422e-01,\n",
       "       -2.72490092e-01, -3.81752388e-01, -9.61432108e-02, -1.93330185e-02,\n",
       "       -7.15733476e-01,  3.96978794e-01,  1.44093638e-01,  2.85717753e-01,\n",
       "       -3.03092290e-01, -3.08643027e-01, -1.92963929e-01, -5.00741424e-01,\n",
       "       -1.66949749e-01, -1.11011251e+00, -5.44791165e-01, -4.06600978e-01,\n",
       "       -2.17890283e-01, -8.87688555e-01,  4.11302555e-02, -8.00827194e-01,\n",
       "        6.65195866e-01, -6.66203882e-01, -7.43853577e-01, -7.55095193e-01,\n",
       "       -3.12064955e-01, -2.66867676e-01, -3.40530236e-01, -1.26054313e+00,\n",
       "        3.63301848e-01, -2.50141569e-01, -6.29475382e-02, -7.03552300e-02,\n",
       "       -3.46485451e-01, -1.42952221e-01, -9.13595896e-02, -8.79531043e-01,\n",
       "       -7.75042058e-01,  2.82465424e-01, -3.51716265e-01, -2.39391130e-01,\n",
       "       -2.11689340e-01, -2.04407396e-01, -2.84970089e-01, -4.52501265e-01,\n",
       "       -2.23197409e-01,  5.66815206e-02, -3.78895954e-01, -2.32437115e-01,\n",
       "       -2.85473376e-02, -5.18949157e-01, -2.11057956e-01, -1.90849553e-01,\n",
       "       -4.51776825e-01,  1.60188006e-02, -4.25038168e-01, -4.26614182e-01,\n",
       "       -2.72633100e-01, -8.90613138e-02, -5.03845128e-01, -5.11271584e-01,\n",
       "       -8.99822281e-01,  2.12231456e-02, -1.83294803e-01, -7.11451132e-01,\n",
       "       -3.25233127e-01,  2.57956968e-02,  4.74607284e-01,  6.89070706e-02,\n",
       "        1.01454689e-01, -3.58165842e-01, -3.61229835e-02,  1.25357267e-02,\n",
       "       -4.22200518e-01,  1.59752215e-02, -1.96526079e-01, -3.78795293e-01,\n",
       "        2.50339423e-01, -5.64290449e-01,  6.20887582e-02, -2.46356069e-01,\n",
       "       -5.64942511e-01, -4.97115406e-01, -2.20449475e-01, -2.14919389e-01,\n",
       "       -5.96410906e-01, -2.09328020e-01,  2.33375140e-01, -7.12033461e-01,\n",
       "       -6.05236301e-01,  5.19517794e-02, -8.41356078e-01, -3.42527211e-01,\n",
       "       -2.74211831e-01, -5.19360496e-01, -7.21230892e-02, -3.42943144e-01,\n",
       "       -1.53303142e-01, -1.64199376e-01, -3.30027981e-01, -2.90109886e-01,\n",
       "       -9.08030658e-01, -2.27344701e-01, -5.91475306e-01, -1.92069259e-01,\n",
       "       -4.28719125e-01, -4.51307937e-01, -3.42181476e-01,  6.40953743e-01,\n",
       "       -1.02173317e-01, -3.15772293e-01, -7.69699239e-01, -4.47987087e-01,\n",
       "       -6.03838650e-01, -2.02376587e-01, -3.40771733e-01, -4.00240970e-01,\n",
       "       -2.23819451e-01, -1.10466365e-01, -1.29248742e-01, -1.45822648e+00,\n",
       "       -2.55689494e-01, -4.48422588e-01, -4.00249095e-01,  3.80754277e-01,\n",
       "       -3.20381141e-01, -4.79783851e-01, -3.15041968e-01, -5.34087548e-01,\n",
       "       -2.97331782e-01, -4.37487389e-01, -1.15785926e-02,  9.71243045e-04,\n",
       "       -9.04886836e-03, -6.71224185e-01, -7.41749574e-01, -4.68500103e-01,\n",
       "       -3.92448259e-01, -5.07308326e-01, -2.12026661e-01, -1.99363648e-01,\n",
       "       -4.30030722e-01,  3.05773267e-02,  2.38863906e-01, -6.43638883e-01,\n",
       "       -2.10307459e-01, -7.71650575e-01, -6.89821366e-03, -4.07289208e-01,\n",
       "       -2.90025093e-01, -9.00919470e-01, -6.45440739e-01, -5.45222700e-01,\n",
       "       -5.26900840e-01, -2.38115440e-01, -5.22520129e-01, -1.40109945e-01,\n",
       "       -1.34007079e-01,  1.90785492e-01, -2.60742065e-01, -5.85922613e-01,\n",
       "       -1.47645296e-01, -2.29049393e-02, -2.46481387e-01, -9.91786423e-01,\n",
       "       -2.45719751e-01, -3.16382759e-01,  1.50695763e-02, -5.01844501e-01,\n",
       "       -2.92049876e-02,  1.31161314e-01, -7.41003795e-01, -6.94038474e-01,\n",
       "       -7.04512908e-01, -5.21851336e-01, -4.56002722e-01,  7.21950475e-03,\n",
       "       -2.71693387e-01, -8.31366062e-01, -5.10208811e-01, -4.89131295e-01,\n",
       "       -3.14604305e-01, -3.15169490e-01, -5.08531758e-01, -5.74392834e-01,\n",
       "       -5.38966125e-01,  4.25094935e-01, -1.21280461e-01,  3.62496385e-02,\n",
       "       -2.61505240e-01, -7.08715632e-01, -7.35955373e-02, -1.78635097e-01,\n",
       "       -7.12619918e-01, -3.67611300e-01, -4.64102538e-01, -2.24477312e-01,\n",
       "       -5.28771829e-01, -3.10573915e-01, -5.13958779e-01, -5.04747932e-01,\n",
       "       -7.14266811e-01, -6.30870393e-01, -9.42131322e-02, -8.84597582e-02,\n",
       "       -3.72703216e-01,  1.80883831e-04, -3.34107459e-01,  7.32296518e-02,\n",
       "       -8.38122143e-01, -1.12521292e+00, -3.17945967e-01, -2.61788999e-01,\n",
       "       -6.70294780e-01, -3.68062181e-01, -5.61812084e-02,  2.47417606e-01,\n",
       "       -8.61514680e-01, -4.75365011e-01, -2.82638481e-01, -4.21835653e-01,\n",
       "        2.26753055e-01, -3.28016537e-01, -3.61245378e-01, -1.48560187e-01,\n",
       "       -5.98075707e-01, -2.02049444e-01, -3.48665281e-01, -2.12605986e-01,\n",
       "       -1.98986914e-02, -1.55532874e-01,  2.35315166e-01, -9.67360430e-02,\n",
       "        1.30003173e-01, -6.15674981e-01, -5.13358082e-01, -3.90167749e-01,\n",
       "       -2.48179409e-02, -1.19417724e-01, -5.62803684e-01, -1.21912536e+00,\n",
       "        8.14173847e-02, -9.08992712e-01, -4.84359210e-01, -4.98052808e-01,\n",
       "       -2.67790340e-01, -6.29879133e-01, -2.80042863e-01, -1.84942612e-01,\n",
       "       -5.10093801e-01, -5.50908924e-01, -4.62558130e-01,  2.93590939e-02,\n",
       "        2.09051047e-01,  8.38512755e-02, -8.69864091e-01, -4.49955600e-01,\n",
       "       -2.85537445e-01, -8.73767328e-01,  1.34610527e-01, -7.53860267e-01,\n",
       "        1.84155890e-01, -7.40636947e-01,  1.93179193e-01, -4.19252978e-01,\n",
       "       -4.55949828e-01, -3.67788584e-01, -2.26955379e-01, -3.28544252e-01,\n",
       "       -4.14968715e-01, -4.13040157e-01, -7.90100587e-01, -7.01297354e-01,\n",
       "       -2.91844760e-01, -1.04891204e+00, -1.86833656e-01,  1.44646745e-01,\n",
       "       -1.24929432e-01, -1.12997478e-01, -3.40431250e-01, -1.12764958e-01,\n",
       "       -1.38342235e-01, -4.01859418e-01, -4.44208095e-02, -6.83227765e-02,\n",
       "       -6.44352243e-01, -2.46943222e-02, -7.13875698e-01, -9.83407232e-02,\n",
       "       -3.49448402e-02, -3.12899258e-01, -3.96730502e-01, -3.76415279e-01,\n",
       "       -5.41400023e-01, -9.30532266e-01, -4.65824420e-02, -2.60815305e-01,\n",
       "       -4.57466875e-01, -5.39756211e-01, -1.21835322e+00, -5.45748967e-01,\n",
       "       -5.02145885e-01, -2.71120754e-01, -2.84092249e-01, -1.81742450e-01,\n",
       "       -6.00241091e-01, -6.24543999e-01, -3.91987627e-01, -1.05155672e+00,\n",
       "       -5.84475784e-02, -7.73649264e-01, -4.55410503e-01, -2.01631995e-01,\n",
       "       -4.69220706e-01, -1.01947481e-02, -2.72681343e-01, -5.65948172e-01,\n",
       "       -2.95143788e-01, -2.99966105e-01, -1.78308075e-01, -5.65637806e-01,\n",
       "        1.39680484e-01, -4.87712665e-01, -3.27479222e-01, -5.25215224e-01,\n",
       "       -2.48916835e-01, -6.11211418e-01, -2.75419928e-01, -7.25868233e-01,\n",
       "       -3.78516230e-01,  1.08579736e-01, -2.96229043e-01, -6.09018503e-01,\n",
       "       -3.99841707e-02, -3.26200711e-01, -5.77034645e-01, -2.01316333e-01,\n",
       "       -2.98538505e-01,  7.39191289e-02, -1.34738414e-01, -2.69177481e-01,\n",
       "       -5.79443663e-01, -8.68070613e-01, -3.75131806e-01, -9.04308385e-02,\n",
       "       -6.61264488e-01, -1.34395031e-01, -3.09988526e-01, -6.21301799e-01,\n",
       "       -5.14018164e-02, -2.45328236e-01, -3.26498291e-01, -4.60346262e-01,\n",
       "       -3.64727424e-01, -3.24006840e-01,  2.32269027e-01, -4.22107667e-01,\n",
       "       -1.04127881e+00, -3.67696566e-01, -3.06971138e-01, -2.61196813e-02,\n",
       "       -7.08076543e-01,  1.07430098e-01, -7.01940678e-01, -4.86505817e-01,\n",
       "       -8.48248856e-01, -9.44975768e-02, -2.51019439e-01, -8.94924411e-01,\n",
       "        1.01918550e-01,  3.72929055e-01, -4.10400905e-01, -7.56403465e-01,\n",
       "        2.71456504e-01, -4.80513565e-01, -5.21666834e-01, -8.04086451e-01,\n",
       "       -2.95844328e-02, -4.40082459e-01, -9.52556703e-01, -2.71132478e-01,\n",
       "       -4.22588065e-01, -3.49391688e-01, -4.25894990e-01, -3.75350099e-01,\n",
       "       -7.78123674e-01, -2.36322824e-01, -4.21115694e-01, -1.68734661e-01,\n",
       "       -1.64629398e-01, -3.60848146e-01,  1.55766245e-01, -5.00376498e-01,\n",
       "       -4.81310526e-01, -1.53094625e-01, -7.45963600e-02, -7.46371689e-01,\n",
       "       -1.09320439e-01, -3.88415917e-01, -1.46067732e-01, -3.53148158e-01,\n",
       "       -3.23223741e-01, -6.48174786e-01, -2.68268538e-01, -5.42074119e-01,\n",
       "       -3.24312301e-01,  2.01623499e-02, -4.49043456e-01, -6.92752063e-01,\n",
       "        3.01789225e-01, -6.46282990e-01, -3.06665451e-01, -6.56963901e-01,\n",
       "       -4.35543924e-01, -1.93485198e-01, -3.28689841e-01, -2.39989971e-01,\n",
       "       -2.21090183e-01, -3.36912304e-01, -4.79703437e-01, -6.24657527e-01,\n",
       "       -1.51719959e-01,  2.03726414e-01, -2.28256114e-01, -7.34398781e-01,\n",
       "       -3.17864683e-02, -3.79217652e-01, -3.19856785e-01, -7.20273165e-01,\n",
       "       -4.36876302e-01, -3.83329123e-01, -4.38121346e-01, -3.29696551e-01,\n",
       "       -7.61137143e-02, -6.31379496e-01, -3.92522433e-01, -1.54951729e-01,\n",
       "       -2.92527303e-01,  1.44340076e-01, -2.20202693e-01, -1.87624660e-01,\n",
       "       -2.55728073e-01, -5.00467783e-01, -1.69815961e-01, -2.68890309e-01,\n",
       "       -1.43712420e-01,  4.39182745e-01, -4.32264907e-01, -6.30962682e-01,\n",
       "       -2.34643918e-01,  1.86924461e-01,  1.46220129e-01, -7.47161982e-01,\n",
       "       -7.14423845e-03, -1.35817454e-01, -5.78161884e-02, -7.27000910e-01,\n",
       "       -6.11620291e-01, -2.46695766e-01, -6.51643092e-01, -5.33364507e-01,\n",
       "       -7.99096149e-01, -1.56007943e-01, -7.49063194e-02, -5.08904143e-01,\n",
       "       -4.65154209e-01, -1.42810289e-01, -2.47881653e-01, -6.95650898e-01,\n",
       "        1.33881086e-01, -5.89919167e-01, -5.58299001e-01, -7.94925088e-01,\n",
       "        2.76801952e-02, -4.79503489e-02, -5.08124783e-01, -3.49059641e-01,\n",
       "       -6.36532171e-01, -5.18927642e-01, -4.02135880e-01, -6.07631853e-01,\n",
       "        2.16912987e-01, -5.83983858e-01, -1.63279037e-01, -3.14841221e-01,\n",
       "       -6.44468503e-01, -4.69757626e-01, -1.01088372e+00, -3.17222442e-01,\n",
       "       -6.13021348e-01, -7.91543704e-01, -4.73812647e-01, -3.35356973e-01,\n",
       "       -8.23336700e-01, -4.73782559e-01,  1.12299983e-01, -9.42856062e-02,\n",
       "       -5.73262499e-02, -2.38569760e-01, -6.27183575e-01, -3.37175624e-01,\n",
       "       -2.08933060e-01, -1.19889283e+00, -5.84884375e-02, -2.12045515e-01,\n",
       "       -2.98580163e-01, -4.49915862e-01, -1.01638725e+00,  6.70042913e-03,\n",
       "       -9.22863100e-02, -5.44115765e-01,  2.02462662e-01, -9.94989563e-02,\n",
       "       -8.43009881e-02, -7.16842757e-01,  1.24135837e-01,  1.77323896e-01,\n",
       "        2.22121128e-02, -4.71531203e-01, -2.36138380e-01, -5.71646910e-01,\n",
       "       -3.39905377e-01, -7.99667057e-03, -7.78565346e-01, -7.84423856e-01,\n",
       "       -5.43908998e-01, -2.62342764e-01, -4.43452495e-01,  3.23195327e-03,\n",
       "       -1.26839420e-01, -4.13932984e-01, -6.54573152e-01, -3.71949822e-01,\n",
       "       -3.18948951e-01, -3.34235071e-01, -1.37560187e+00, -6.01525256e-01,\n",
       "       -3.81760379e-01, -5.91151483e-02,  9.83240481e-02, -1.44376997e-01,\n",
       "       -6.12019478e-01, -3.03247762e-01, -5.78995073e-01, -1.23046346e-01,\n",
       "       -4.59783670e-01, -2.19079038e-01, -9.52125371e-02, -5.15278382e-01,\n",
       "       -3.75576766e-01, -6.68732866e-03, -2.82668876e-01, -6.63498849e-01,\n",
       "       -5.57306612e-02, -4.87634401e-01, -6.21810844e-02, -8.31236775e-02,\n",
       "       -6.64218060e-01, -3.31828575e-01, -9.69812169e-01, -8.84779196e-01,\n",
       "       -7.43583527e-01, -4.44106802e-01, -2.26502274e-01, -8.95744566e-01,\n",
       "       -9.99862176e-01, -4.65716984e-01,  2.81527973e-02, -7.32020935e-01,\n",
       "       -8.20904134e-01, -5.54414913e-01, -8.22072553e-01,  2.91242281e-01,\n",
       "       -7.56717104e-01, -9.50642186e-01, -1.04029890e+00,  7.42460852e-02,\n",
       "       -1.04278103e+00, -1.27682779e-01, -1.12068764e+00, -1.87467388e-02])"
      ]
     },
     "execution_count": 31,
     "metadata": {},
     "output_type": "execute_result"
    }
   ],
   "source": [
    "sampling"
   ]
  },
  {
   "cell_type": "markdown",
   "id": "06b2c46e",
   "metadata": {},
   "source": [
    "**d)**  Calculate the mean of the simulated sampling distribution we just created.  This is an *estimate* of the mean for the sampling distribution.  Compare this to the *theoretical* sampling distribution mean that you calculated in part **a**."
   ]
  },
  {
   "cell_type": "code",
   "execution_count": 32,
   "id": "9b50270b",
   "metadata": {},
   "outputs": [
    {
     "data": {
      "text/plain": [
       "-0.3393530355726933"
      ]
     },
     "execution_count": 32,
     "metadata": {},
     "output_type": "execute_result"
    }
   ],
   "source": [
    "sampling.mean()"
   ]
  },
  {
   "cell_type": "markdown",
   "id": "03ef00af",
   "metadata": {},
   "source": [
    "Sampling: -0.3497822926106574\n",
    "\n",
    "Theoretical: -0.33947959525331495\n",
    "\n",
    "Sampling and theoretical mean are quite close, sampling one is a little bit smaller."
   ]
  },
  {
   "cell_type": "markdown",
   "id": "26107f9a",
   "metadata": {},
   "source": [
    "**e)** Calculate the standard deviation of the simulated sampling distribution we just created.  This is an *estimate* of the standard deviation (or standard error) for the sampling distribution.  Compare this to the *theoretical* sampling distribution standard deviation that you calculated in part **a**."
   ]
  },
  {
   "cell_type": "code",
   "execution_count": 33,
   "id": "8107d80a",
   "metadata": {},
   "outputs": [
    {
     "data": {
      "text/plain": [
       "0.3237104141898477"
      ]
     },
     "execution_count": 33,
     "metadata": {},
     "output_type": "execute_result"
    }
   ],
   "source": [
    "sampling.std()"
   ]
  },
  {
   "cell_type": "markdown",
   "id": "09348d42",
   "metadata": {},
   "source": [
    "sampling: 0.31409259602969547\n",
    "\n",
    "theoretical: 0.3153680520561989\n",
    "\n",
    "Sampling and theoretical std are quite close, sampling one is a little bit smaller."
   ]
  },
  {
   "cell_type": "markdown",
   "id": "ac0a6773",
   "metadata": {},
   "source": [
    "**f)** Finally, plot a histogram of this sampling distribution that you just created. Make sure that you appropriately label the x-axis, the y-axis, and the title of this plot.  Describe the shape."
   ]
  },
  {
   "cell_type": "code",
   "execution_count": 34,
   "id": "760f4f79",
   "metadata": {},
   "outputs": [
    {
     "data": {
      "image/png": "[encoded data removed]",
      "text/plain": [
       "<Figure size 640x480 with 1 Axes>"
      ]
     },
     "metadata": {},
     "output_type": "display_data"
    }
   ],
   "source": [
    "df_sampling = pd.DataFrame(sampling)\n",
    "df_sampling[0].hist()\n",
    "plt.title(\"Distribution of sampling differences of means\")\n",
    "plt.xlabel(\"difference of mean\")\n",
    "plt.ylabel('frequency')\n",
    "plt.show()"
   ]
  },
  {
   "cell_type": "markdown",
   "id": "8b842e2e",
   "metadata": {},
   "source": [
    "The distribution is normally shaped.\n",
    "\n",
    "With a center of mean of approximately -0.5."
   ]
  },
  {
   "cell_type": "markdown",
   "id": "f02327ec",
   "metadata": {},
   "source": [
    "Remember to keep all your cells and hit the save icon above periodically to checkpoint (save) your results on your local computer. Once you are satisified with your results restart the kernel and run all (Kernel -> Restart & Run All). **Make sure nothing has changed**. Checkpoint and exit (File -> Save and Checkpoint + File -> Close and Halt). Follow the instructions on the Homework 4 Canvas Assignment to submit your notebook to GitHub."
   ]
  }
 ],
 "metadata": {
  "kernelspec": {
   "display_name": "Python 3 (ipykernel)",
   "language": "python",
   "name": "python3"
  },
  "language_info": {
   "codemirror_mode": {
    "name": "ipython",
    "version": 3
   },
   "file_extension": ".py",
   "mimetype": "text/x-python",
   "name": "python",
   "nbconvert_exporter": "python",
   "pygments_lexer": "ipython3",
   "version": "3.10.8"
  }
 },
 "nbformat": 4,
 "nbformat_minor": 5
}
