{
 "cells": [
  {
   "cell_type": "markdown",
   "id": "e746da0e",
   "metadata": {},
   "source": [
    "# STAT 207 Homework 3 [50 points]\n",
    "\n",
    "## Data Frame Cleaning and Quantitative Variable Descriptive Analytics"
   ]
  },
  {
   "cell_type": "markdown",
   "id": "6fef820a",
   "metadata": {},
   "source": [
    "Due: Friday, February 3 by noon (11:59 am) CST*\n",
    "\n",
    "*No late submissions accepted\n",
    "<hr>"
   ]
  },
  {
   "cell_type": "markdown",
   "id": "bf7fc583",
   "metadata": {},
   "source": [
    "## <u>Case Study</u>: Steam Game Play and Purchase Analysis\n",
    "Steam is the world's most popular PC Gaming hub. With a massive collection that includes everything from AAA blockbusters to small indie titles, great discovery tools can be super valuable for Steam. What can we learn about Steam gaming behavior?\n",
    "\n",
    "The dataset we will be analyzing is comprised of a random sample of 500 steam users and their game play and purchase behaviors. It has the following columns:\n",
    "* user_id\n",
    "* game_name,\n",
    "* activity:\n",
    "    - purchase: indicating that the user has *purchased* the corresponding game\n",
    "    - play: indicating that the user has *played* the corresponding game (for at least some amount of time.) \n",
    "* hours_played_if_play:\n",
    "    - if the row corresponds to a 'play' activity, this number represents the number of hours the user has played the game\n",
    "    - if the row corresponds to a 'purchase' activity, this number is always a 1 (and means nothing... it's a placeholder).\n",
    "    \n",
    "This is the same data that you worked with in Lab 2.\n",
    "\n",
    "<hr>"
   ]
  },
  {
   "cell_type": "markdown",
   "id": "c4d94493",
   "metadata": {},
   "source": [
    "## Package Imports\n",
    "\n",
    "We'll import four Python packages that we've used so far and will need for this assignment.  Those packages are pandas, numpy, matplotlib.pyplot, and seaborn.  \n",
    "\n",
    "Run the cell provided below to access the functions in these packages."
   ]
  },
  {
   "cell_type": "code",
   "execution_count": null,
   "id": "25c92b96",
   "metadata": {},
   "outputs": [],
   "source": [
    "import pandas as pd\n",
    "import numpy as np\n",
    "import seaborn as sns\n",
    "import matplotlib.pyplot as plt"
   ]
  },
  {
   "cell_type": "markdown",
   "id": "849447fc",
   "metadata": {},
   "source": [
    "## Tutorial\n",
    "\n",
    "*Hint*: we can index the output of the shape attribute like a list.  See the Tutorial provided below for an example.\n",
    "\n",
    "You may find this helpful as you work on this Homework assignment."
   ]
  },
  {
   "cell_type": "code",
   "execution_count": null,
   "id": "e871b95c",
   "metadata": {},
   "outputs": [],
   "source": [
    "#Tutorial\n",
    "import pandas as pd\n",
    "demo_df=pd.DataFrame({'a': [1,2,3], 'b': [4,5,6]})\n",
    "demo_df"
   ]
  },
  {
   "cell_type": "code",
   "execution_count": null,
   "id": "4ecd91e6",
   "metadata": {},
   "outputs": [],
   "source": [
    "#Tutorial\n",
    "print(demo_df.shape)\n",
    "print(demo_df.shape[0])\n",
    "print(demo_df.shape[1])"
   ]
  },
  {
   "cell_type": "markdown",
   "id": "ac088395",
   "metadata": {},
   "source": [
    "*Note*: you may have already completed Steps 1 & 2 below in Lab 2.  Be sure to repeat this analysis here, showing the full process so that we can follow your logic and thought process.\n",
    "\n",
    "## 1. Read in the Data [1 point]\n",
    "\n",
    "Read in the steam_sample.csv data."
   ]
  },
  {
   "cell_type": "code",
   "execution_count": null,
   "id": "02bbc6be",
   "metadata": {},
   "outputs": [],
   "source": []
  },
  {
   "cell_type": "markdown",
   "id": "2e606086",
   "metadata": {},
   "source": [
    "## 2. Cleaning the Data [5 points]\n",
    "\n",
    "We plan to analyze the \"hours_played_if_play\" variable from the steam data.\n",
    "\n",
    "Before beginning our analysis, we need to prepare the data.  To do so, one step is to check for missing data.  While doing so, be sure to pay careful attention to our variable of interest.\n",
    "\n",
    "Complete the following steps to clean the data:\n",
    "\n",
    "1. Identify values (if any) that have been encoded in the csv to represent a **missing value**.\n",
    "2. Read in the csv file so that the missing values are written as NaN in the data.\n",
    "3. Confirm that the \"hours_played_if_play\" is recognized as numerical values (either float64 or int64 type).\n",
    "4. Delete any rows from your data that have missing values.\n",
    "5. Report the number of observations dropped from the data."
   ]
  },
  {
   "cell_type": "code",
   "execution_count": null,
   "id": "a31615f1",
   "metadata": {},
   "outputs": [],
   "source": []
  },
  {
   "cell_type": "code",
   "execution_count": null,
   "id": "43844085",
   "metadata": {},
   "outputs": [],
   "source": []
  },
  {
   "cell_type": "code",
   "execution_count": null,
   "id": "9357138e",
   "metadata": {},
   "outputs": [],
   "source": []
  },
  {
   "cell_type": "code",
   "execution_count": null,
   "id": "f90a4106",
   "metadata": {},
   "outputs": [],
   "source": []
  },
  {
   "cell_type": "code",
   "execution_count": null,
   "id": "a1266c03",
   "metadata": {},
   "outputs": [],
   "source": []
  },
  {
   "cell_type": "code",
   "execution_count": null,
   "id": "01840b4c",
   "metadata": {},
   "outputs": [],
   "source": []
  },
  {
   "cell_type": "code",
   "execution_count": null,
   "id": "f432ef31",
   "metadata": {},
   "outputs": [],
   "source": []
  },
  {
   "cell_type": "markdown",
   "id": "f4baf91a",
   "metadata": {},
   "source": [
    "## 3. Purchases & Played Games [4 points]\n",
    "\n",
    "**a)** Separate the Steam data into two different data frames:\n",
    "\n",
    "- one for the user-game entries that have been played\n",
    "- one for the user-game entries that represent purchases"
   ]
  },
  {
   "cell_type": "code",
   "execution_count": null,
   "id": "ad953733",
   "metadata": {},
   "outputs": [],
   "source": []
  },
  {
   "cell_type": "code",
   "execution_count": null,
   "id": "e251a331",
   "metadata": {},
   "outputs": [],
   "source": []
  },
  {
   "cell_type": "markdown",
   "id": "660ef939",
   "metadata": {},
   "source": [
    "**b)** What proportion of games purchased have been played?"
   ]
  },
  {
   "cell_type": "code",
   "execution_count": null,
   "id": "217033c8",
   "metadata": {},
   "outputs": [],
   "source": []
  },
  {
   "cell_type": "markdown",
   "id": "576d0418",
   "metadata": {},
   "source": [
    "## 4. A High Game User [10 points]\n",
    "\n",
    "**a)** Extract the row, which represents a user-game combination, that has the **sixth** highest amount of total hours played in the dataset.\n",
    "\n",
    "**To get full credit, you should do this in one line of code.**"
   ]
  },
  {
   "cell_type": "code",
   "execution_count": null,
   "id": "113ceae0",
   "metadata": {},
   "outputs": [],
   "source": []
  },
  {
   "cell_type": "markdown",
   "id": "49737e14",
   "metadata": {},
   "source": [
    "**b)** Filter the data to contain only the transactions (purchases and games played) for this user.  Display this data frame."
   ]
  },
  {
   "cell_type": "code",
   "execution_count": null,
   "id": "c7afca30",
   "metadata": {},
   "outputs": [],
   "source": []
  },
  {
   "cell_type": "markdown",
   "id": "c5a6cbac",
   "metadata": {},
   "source": [
    "**c)** Calculate the percentage of purchased games that this user actually played.  \n",
    "\n",
    "**To get full credit, you should do this in one line of code using the dataframe created in part 4b**."
   ]
  },
  {
   "cell_type": "code",
   "execution_count": null,
   "id": "c55d77e6",
   "metadata": {},
   "outputs": [],
   "source": []
  },
  {
   "cell_type": "markdown",
   "id": "3e654ee5",
   "metadata": {},
   "source": [
    "## 5. Distribution of Hours Played [9 points]\n",
    "\n",
    "We will now focus on the time spent playing games.  \n",
    "\n",
    "Generate a **frequency** histogram for the time spent playing an individual game by an individual user.  Make sure to include clear axes labels and titles on your graph.  Then, describe the distribution."
   ]
  },
  {
   "cell_type": "code",
   "execution_count": null,
   "id": "f76cfa19",
   "metadata": {},
   "outputs": [],
   "source": []
  },
  {
   "cell_type": "markdown",
   "id": "9814dc52",
   "metadata": {},
   "source": []
  },
  {
   "cell_type": "markdown",
   "id": "ba9afbf4",
   "metadata": {},
   "source": [
    "## 6. Low and High Game Users [5 points]\n",
    "\n",
    "**a)** Calculate the minimum time spent playing a game in our data.  How many rows represent user-game combinations that were played for the minimum number of hours?"
   ]
  },
  {
   "cell_type": "code",
   "execution_count": null,
   "id": "188341b3",
   "metadata": {},
   "outputs": [],
   "source": []
  },
  {
   "cell_type": "markdown",
   "id": "d785a7dc",
   "metadata": {},
   "source": []
  },
  {
   "cell_type": "markdown",
   "id": "a3a6a97e",
   "metadata": {},
   "source": [
    "**b)** Repeat the calculation from part a for the maximum time spent playing a game."
   ]
  },
  {
   "cell_type": "code",
   "execution_count": null,
   "id": "dc4001d7",
   "metadata": {},
   "outputs": [],
   "source": []
  },
  {
   "cell_type": "markdown",
   "id": "e9cf743a",
   "metadata": {},
   "source": []
  },
  {
   "cell_type": "markdown",
   "id": "6dfc26c3",
   "metadata": {},
   "source": [
    "## 7. Comparing Play Times of Two Games [16 points]\n",
    "\n",
    "We want to compare the play times that users spent with two games of different genres:\n",
    "\n",
    "- Counter-Strike is a first-person shooter game\n",
    "- Sid Meier's Civilization V is a turn-based strategy game\n",
    "\n",
    "**a)** First, filter the data to create two separate data frames that contain the play times for users of these two games.  How many users played each of these two games?  \n",
    "\n",
    "*Note*: calculating the number of users with Python is sufficient; you do not need to report the number of users in a Markdown cell."
   ]
  },
  {
   "cell_type": "code",
   "execution_count": null,
   "id": "1f792bcd",
   "metadata": {},
   "outputs": [],
   "source": []
  },
  {
   "cell_type": "code",
   "execution_count": null,
   "id": "132beadb",
   "metadata": {},
   "outputs": [],
   "source": []
  },
  {
   "cell_type": "code",
   "execution_count": null,
   "id": "a65fbbf4",
   "metadata": {},
   "outputs": [],
   "source": []
  },
  {
   "cell_type": "code",
   "execution_count": null,
   "id": "a8567b7f",
   "metadata": {},
   "outputs": [],
   "source": []
  },
  {
   "cell_type": "markdown",
   "id": "333539a8",
   "metadata": {},
   "source": [
    "**b)** Stack the separate data frames from part **a** into one data frame.  Then, generate a side-by-side box plot of the play times for these two games."
   ]
  },
  {
   "cell_type": "code",
   "execution_count": null,
   "id": "44741d12",
   "metadata": {},
   "outputs": [],
   "source": []
  },
  {
   "cell_type": "code",
   "execution_count": null,
   "id": "4ca1c67b",
   "metadata": {},
   "outputs": [],
   "source": []
  },
  {
   "cell_type": "markdown",
   "id": "168aecb9",
   "metadata": {},
   "source": [
    "**c)** Calculate two sets of summary statistics, one for each game above.  Be sure to include the five number summary, mean, and standard deviation of the play times."
   ]
  },
  {
   "cell_type": "code",
   "execution_count": null,
   "id": "e7e53c65",
   "metadata": {},
   "outputs": [],
   "source": []
  },
  {
   "cell_type": "code",
   "execution_count": null,
   "id": "9df45714",
   "metadata": {},
   "outputs": [],
   "source": []
  },
  {
   "cell_type": "code",
   "execution_count": null,
   "id": "1098aed1",
   "metadata": {},
   "outputs": [],
   "source": []
  },
  {
   "cell_type": "code",
   "execution_count": null,
   "id": "ac1d843a",
   "metadata": {},
   "outputs": [],
   "source": []
  },
  {
   "cell_type": "markdown",
   "id": "a68ab0df",
   "metadata": {},
   "source": [
    "**d)** Finally, do the two distributions for the different games seem to be remarkably different?  Explain."
   ]
  },
  {
   "cell_type": "markdown",
   "id": "3a1e1892",
   "metadata": {},
   "source": []
  },
  {
   "cell_type": "markdown",
   "id": "f02327ec",
   "metadata": {},
   "source": [
    "Remember to keep all your cells and hit the save icon above periodically to checkpoint (save) your results on your local computer. Once you are satisified with your results restart the kernel and run all (Kernel -> Restart & Run All). **Make sure nothing has changed**. Checkpoint and exit (File -> Save and Checkpoint + File -> Close and Halt). Follow the instructions on the Homework 3 Canvas Assignment to submit your notebook to GitHub."
   ]
  }
 ],
 "metadata": {
  "kernelspec": {
   "display_name": "Python 3 (ipykernel)",
   "language": "python",
   "name": "python3"
  },
  "language_info": {
   "codemirror_mode": {
    "name": "ipython",
    "version": 3
   },
   "file_extension": ".py",
   "mimetype": "text/x-python",
   "name": "python",
   "nbconvert_exporter": "python",
   "pygments_lexer": "ipython3",
   "version": "3.8.11"
  }
 },
 "nbformat": 4,
 "nbformat_minor": 5
}
