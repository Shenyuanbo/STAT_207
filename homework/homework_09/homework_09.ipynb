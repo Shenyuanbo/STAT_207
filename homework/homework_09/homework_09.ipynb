{
 "cells": [
  {
   "cell_type": "markdown",
   "id": "e746da0e",
   "metadata": {},
   "source": [
    "# STAT 207 Homework 9 [50 points]\n",
    "\n",
    "## Difference Parameters and Simple Linear Regression"
   ]
  },
  {
   "cell_type": "markdown",
   "id": "6fef820a",
   "metadata": {},
   "source": [
    "Due: Friday, March 31 by noon (11:59 am) CST\n",
    "\n",
    "<hr>"
   ]
  },
  {
   "cell_type": "markdown",
   "id": "c4d94493",
   "metadata": {},
   "source": [
    "**Note:** For this assignment, you may use built-in functions for performing regression, including inference.  You should not use any built-in functions for calculating confidence intervals or performing hypothesis tests for difference parameters.  \n",
    "\n",
    "## Package Imports\n",
    "\n",
    "Add code to the cell below to import packages needed for this assignment.\n",
    "\n",
    "You may also need to read in additional packages later."
   ]
  },
  {
   "cell_type": "code",
   "execution_count": 1,
   "id": "f2de8a3f",
   "metadata": {},
   "outputs": [],
   "source": [
    "import pandas as pd\n",
    "import numpy as np\n",
    "import matplotlib.pyplot as plt\n",
    "import seaborn as sns; sns.set()\n",
    "from scipy.stats import norm\n",
    "from scipy.stats import binom\n",
    "from scipy.stats import t\n",
    "import statsmodels.api as sm\n",
    "import statsmodels.formula.api as smf"
   ]
  },
  {
   "cell_type": "markdown",
   "id": "ac088395",
   "metadata": {},
   "source": [
    "## <u>Case Study 1</u>: College Volleyball （Difference in proportion）\n",
    "\n",
    "One of your classmates posed the following question at the beginning of the semester: Is there a home court advantage for volleyball?  In this case study, we will assess whether the data supports the idea of a home court advantage for the population of all home and all away volleyball matches.\n",
    "\n",
    "We will define our population of interest as **all women's NCAA Division 1 volleyball matches played for the season from this academic year (2022)**.\n",
    "\n",
    "## 1. Home Court Advantage for Winning [11 points]\n",
    "\n",
    "In our recent statistical terms, one way to formalize this question is as: is there an association between winning a match and whether the match is played at home for volleyball matches?\n",
    "\n",
    "We will let $p_1$ represent the proportion of all home volleyball matches that are won and $p_2$ represent the proportion of all away volleyball matches that are won.\n",
    "\n",
    "Recall our question of interest: Is there a home court advantage for volleyball?  In other words, is a team more likely to win if a match is played at home compared to if a match is played away?\n",
    "\n",
    "**a)** Define the hypotheses for this situation.  We will assume a significance level $\\alpha$ of $0.25$."
   ]
  },
  {
   "cell_type": "markdown",
   "id": "3e89c10c",
   "metadata": {},
   "source": [
    "$H_0:p_1 = p_2$\n",
    "\n",
    "$H_a: p_1 > p_2$"
   ]
  },
  {
   "cell_type": "markdown",
   "id": "a9573b85",
   "metadata": {},
   "source": [
    "**b)** The following table provides sample data for women's volleyball matches, where the sample is the results of the current season for the University of Illinois women's volleyball team.\n",
    "\n",
    "| Outcome | Home | Away |\n",
    "| ------- | ---- | ---- |\n",
    "| Wins    | 6    | 7    |\n",
    "| Losses  | 4    | 8    |\n",
    "\n",
    "Check the conditions that would need to be met for the standard hypothesis test procedure to be valid."
   ]
  },
  {
   "cell_type": "code",
   "execution_count": 7,
   "id": "c03030b2",
   "metadata": {},
   "outputs": [
    {
     "name": "stdout",
     "output_type": "stream",
     "text": [
      "n_home 10\n",
      "n_away 15\n",
      "p_common 0.52\n"
     ]
    }
   ],
   "source": [
    "# Because we don't know p_1 and p_2, we will assume p_1 = p_2 = p_common\n",
    "n_home = 6 + 4\n",
    "n_away = 7 + 8\n",
    "p_home = 6 / n_home\n",
    "p_away = 7 / n_away\n",
    "\n",
    "p_common = (6 + 7) / (n_home + n_away)\n",
    "print(\"n_home\", n_home)\n",
    "print(\"n_away\", n_away)\n",
    "print(\"p_common\", p_common)\n"
   ]
  },
  {
   "cell_type": "code",
   "execution_count": 11,
   "id": "0e4ca6d0",
   "metadata": {},
   "outputs": [
    {
     "data": {
      "text/plain": [
       "5.2"
      ]
     },
     "execution_count": 11,
     "metadata": {},
     "output_type": "execute_result"
    }
   ],
   "source": [
    "n_home * p_common"
   ]
  },
  {
   "cell_type": "code",
   "execution_count": 12,
   "id": "8229f6bf",
   "metadata": {},
   "outputs": [
    {
     "data": {
      "text/plain": [
       "4.8"
      ]
     },
     "execution_count": 12,
     "metadata": {},
     "output_type": "execute_result"
    }
   ],
   "source": [
    "n_home * (1 - p_common)"
   ]
  },
  {
   "cell_type": "code",
   "execution_count": 13,
   "id": "a24a473c",
   "metadata": {},
   "outputs": [
    {
     "data": {
      "text/plain": [
       "7.800000000000001"
      ]
     },
     "execution_count": 13,
     "metadata": {},
     "output_type": "execute_result"
    }
   ],
   "source": [
    "n_away * p_common"
   ]
  },
  {
   "cell_type": "code",
   "execution_count": 14,
   "id": "619cce4a",
   "metadata": {},
   "outputs": [
    {
     "data": {
      "text/plain": [
       "4.8"
      ]
     },
     "execution_count": 14,
     "metadata": {},
     "output_type": "execute_result"
    }
   ],
   "source": [
    "n_home * (1 - p_common)"
   ]
  },
  {
   "cell_type": "markdown",
   "id": "77681db2",
   "metadata": {},
   "source": [
    "Conditions: (Because we don't know p_1 and p_2, we will assume p_1 = p_2 = p_common)\n",
    "1. $n_1\\hat{p}$ and $n_1(1-\\hat{p})$ should be at leat 10.\n",
    "2. $n_2\\hat{p}$ and $n_2(1-\\hat{p})$ should be at leat 10.\n",
    "3. Sample is randomly selected.\n",
    "4. $n_1 < 10%N$\n",
    "5. $n_2 < 10%N$\n",
    "\n",
    "Check:\n",
    "1. Not satisfied, accordign to calculation above.\n",
    "2. Not satisfied, accordign to calculation above.\n",
    "3. No, as we selected the volleyball games of UIUC as sample.\n",
    "4. This is met, I searched for the total home matches.\n",
    "5. This is met, I searched for the total away matches."
   ]
  },
  {
   "cell_type": "markdown",
   "id": "f84ac8e7",
   "metadata": {},
   "source": [
    "**c)** Are the conditions in part b met, so that the results of a hypothesis test would be valid?"
   ]
  },
  {
   "cell_type": "markdown",
   "id": "e9a5f48a",
   "metadata": {},
   "source": [
    "1, 2, 3 are not met, and 4, 5 are met.\n",
    "\n",
    "This will cause invalidity to our result."
   ]
  },
  {
   "cell_type": "markdown",
   "id": "c6db6a66",
   "metadata": {},
   "source": [
    "**d)** Regardless of your answer in part b & c, we will perform the hypothesis test according to our standardard (or traditional) procedure.\n",
    "\n",
    "Calculate the test statistic for this scenario.  Then, calculate the *p*-value."
   ]
  },
  {
   "cell_type": "code",
   "execution_count": 136,
   "id": "50d55798",
   "metadata": {},
   "outputs": [
    {
     "data": {
      "text/plain": [
       "0.2039607805437114"
      ]
     },
     "execution_count": 136,
     "metadata": {},
     "output_type": "execute_result"
    }
   ],
   "source": [
    "var_1 = p_common * (1 - p_common) / n_home\n",
    "var_2 = p_common * (1 - p_common) / n_away\n",
    "\n",
    "se = np.sqrt(var_1 + var_2)\n",
    "se"
   ]
  },
  {
   "cell_type": "code",
   "execution_count": 137,
   "id": "86480ac1",
   "metadata": {},
   "outputs": [
    {
     "data": {
      "text/plain": [
       "0.6537204504606133"
      ]
     },
     "execution_count": 137,
     "metadata": {},
     "output_type": "execute_result"
    }
   ],
   "source": [
    "# test statistics\n",
    "test_statistics = (p_home - p_away) / se\n",
    "test_statistics"
   ]
  },
  {
   "cell_type": "code",
   "execution_count": 138,
   "id": "52dae37a",
   "metadata": {},
   "outputs": [
    {
     "data": {
      "text/plain": [
       "0.25664596265164485"
      ]
     },
     "execution_count": 138,
     "metadata": {},
     "output_type": "execute_result"
    }
   ],
   "source": [
    "# p-value\n",
    "p_value = 1 - norm.cdf(test_statistics)\n",
    "p_value"
   ]
  },
  {
   "cell_type": "markdown",
   "id": "b7fa1f49",
   "metadata": {},
   "source": [
    "**e)** Based on your *p*-value, what decision is suggested by the sample data?"
   ]
  },
  {
   "cell_type": "markdown",
   "id": "785180de",
   "metadata": {},
   "source": [
    "Our p-value is 0.2566 which is slightly larger than significance level.\n",
    "\n",
    "Thus, according to the result of hypothesis test, we fail to reject the hypothesis, which means there is no advantage in home court.\n",
    "\n",
    "However, since it is checked that some of the assumptions of the hypothesis test are not met. So, I think the result of this test might be invalid."
   ]
  },
  {
   "cell_type": "markdown",
   "id": "d102aa01",
   "metadata": {},
   "source": [
    "## 2. An Alternate Hypothesis Test Procedure [13 points]\n",
    "\n",
    "Consider the results from parts b and c in Question 1.  Did they introduce any concerns about the validity of your hypothesis test procedure?\n",
    "\n",
    "In case you did have concerns, we will consider an alternate approach that could be taken to hypothesis testing that loosens the distributional requirements.  We can use this regardless of any concerns surrounding the assumptions.\n",
    "\n",
    "**a)** Consider the null hypothesis.  If the null hypothesis were true, what would our estimate for the common population proportion be?"
   ]
  },
  {
   "cell_type": "code",
   "execution_count": 21,
   "id": "fdadfa59",
   "metadata": {},
   "outputs": [
    {
     "data": {
      "text/plain": [
       "0.52"
      ]
     },
     "execution_count": 21,
     "metadata": {},
     "output_type": "execute_result"
    }
   ],
   "source": [
    "p_common"
   ]
  },
  {
   "cell_type": "markdown",
   "id": "5872fff5",
   "metadata": {},
   "source": [
    "**b)** Assuming that the null hypothesis is true, we are going to simulate the possible values for $\\hat{p}_1-\\hat{p}_2$.  \n",
    "\n",
    "To do this, use the appropriate distribution to simulate the number of wins that a team might have out of the number of home matches played.  Then, use the appropriate distribution to simulate the number of wins that a team might have out of the number of away matches.  Using this new data, estimate the difference in proportions for this simulated sample.\n",
    "\n",
    "You should then repeat this process many times, until we have repeated 800 values for the difference in sample proportions.  This is our estimated (or simulated) sampling distribution.\n",
    "\n",
    "*Hint*: You may want to check Case Study 1 of Lab 8 for a hint about simulating a new sample from a hypothesis for parameters."
   ]
  },
  {
   "cell_type": "code",
   "execution_count": 221,
   "id": "e7046521",
   "metadata": {
    "scrolled": false
   },
   "outputs": [
    {
     "data": {
      "text/plain": [
       "0.000708333333333337"
      ]
     },
     "execution_count": 221,
     "metadata": {},
     "output_type": "execute_result"
    }
   ],
   "source": [
    "from scipy.stats import binom\n",
    "data = []\n",
    "for i in range(800):\n",
    "    X1 = binom.rvs(n_home, 0.52)\n",
    "    X2 = binom.rvs(n_away, 0.52)\n",
    "    p1 = X1/n_home\n",
    "    p2 = X2/n_away\n",
    "    diff = p1 - p2\n",
    "    d = {\"difference\" : diff}\n",
    "    data.append(d)\n",
    "\n",
    "df = pd.DataFrame(data)\n",
    "df.difference.mean()\n"
   ]
  },
  {
   "cell_type": "markdown",
   "id": "e1e5104a",
   "metadata": {},
   "source": [
    "**c)** Generate a histogram for the simulated sampling distribution.  Describe this histogram."
   ]
  },
  {
   "cell_type": "code",
   "execution_count": 222,
   "id": "87c67d38",
   "metadata": {},
   "outputs": [
    {
     "data": {
      "image/png": "[encoded data removed]",
      "text/plain": [
       "<Figure size 640x480 with 1 Axes>"
      ]
     },
     "metadata": {},
     "output_type": "display_data"
    }
   ],
   "source": [
    "df.hist()\n",
    "plt.title(\"Distribution of proportion difference\")\n",
    "plt.xlabel(\"Difference in proportion\")\n",
    "plt.ylabel(\"Frequency\")\n",
    "plt.show()"
   ]
  },
  {
   "cell_type": "markdown",
   "id": "86e028a6",
   "metadata": {},
   "source": [
    "The distribution is unimodel and is closely normal."
   ]
  },
  {
   "cell_type": "markdown",
   "id": "77a5ffd4",
   "metadata": {},
   "source": [
    "**d)** From the simulated sampling distribution, obtain a *p*-value.  That is, what proportion of simulated values from our simulated sampling distribution are as extreme or more extreme than what we observed from our real sample, assuming that the null hypothesis is true?"
   ]
  },
  {
   "cell_type": "code",
   "execution_count": 223,
   "id": "6e86e9d7",
   "metadata": {},
   "outputs": [
    {
     "data": {
      "text/plain": [
       "0.22875"
      ]
     },
     "execution_count": 223,
     "metadata": {},
     "output_type": "execute_result"
    }
   ],
   "source": [
    "p_value = len(df[df.difference > (p_home - p_away)])/800\n",
    "p_value"
   ]
  },
  {
   "cell_type": "markdown",
   "id": "72fe1d72",
   "metadata": {},
   "source": [
    "**e)** Based on your hypothesis test results, what **conclusion** would you make about our hypotheses at a significance level of $0.25$?"
   ]
  },
  {
   "cell_type": "markdown",
   "id": "6883cd4c",
   "metadata": {},
   "source": [
    "The p-value we get is 0.22875, which is larger than 0.25. We reject the null hypothesis, which means there is advantage in home court."
   ]
  },
  {
   "cell_type": "markdown",
   "id": "6ededd1e",
   "metadata": {},
   "source": [
    "**f)**  Compare your *p*-values from 1e (the traditional method) and from 2d (the simulation-based method).  How similar are they?"
   ]
  },
  {
   "cell_type": "markdown",
   "id": "d4257be8",
   "metadata": {},
   "source": [
    "p-value from 2d(0.22875) is less than but similar to 1e(0.254)."
   ]
  },
  {
   "cell_type": "markdown",
   "id": "d4e1f2d2",
   "metadata": {},
   "source": [
    "## 3. Volleyball Points Scored [9 points]\n",
    "\n",
    "In Questions 1 and 2, you explored whether we have data to support a home court advantage for winning a match for NCAA D1 women's volleyball.  Can we think of the home court advantage as applying only to winning a match, or does it also affect game play on a play-by-play basis?  To answer this question, we will explore if or how home court advantage extends to the number of kills, which can be thought of as \"earned points\" by a volleyball team.\n",
    "\n",
    "Our population of interest will be all NCAA Division 1 women's volleyball sets for the 2022 season.  \n",
    "\n",
    "To answer this question, we will calculate a 99% confidence interval for the difference in population means, $\\mu_1 - \\mu_2$, where $\\mu_1$ is defined as the population mean kills for home volleyball sets, and $\\mu_2$ is defined as the population mean kills for away volleyball sets.\n",
    "\n",
    "**a)** Read in the data in the vball.csv file included with this assignment.  \n",
    "\n",
    "There are no missing values for our variables of interest.\n",
    "\n",
    "Each row contains information about a set of volleyball played by Illinois for the 2022 season.  We will use the variables \"Location\" and \"K\" for our analysis.  Location records whether the set was played at an Away, Home, or Neutral location.  K records the number of kills by Illinois for that set. "
   ]
  },
  {
   "cell_type": "code",
   "execution_count": 227,
   "id": "7ed315c8",
   "metadata": {},
   "outputs": [
    {
     "data": {
      "text/plain": [
       "(109, 2)"
      ]
     },
     "execution_count": 227,
     "metadata": {},
     "output_type": "execute_result"
    }
   ],
   "source": [
    "df = pd.read_csv(\"vball.csv\")[[\"Location\", \"K\"]]\n",
    "df.shape"
   ]
  },
  {
   "cell_type": "code",
   "execution_count": 229,
   "id": "ceddebe0",
   "metadata": {},
   "outputs": [
    {
     "data": {
      "text/html": [
       "<div>\n",
       "<style scoped>\n",
       "    .dataframe tbody tr th:only-of-type {\n",
       "        vertical-align: middle;\n",
       "    }\n",
       "\n",
       "    .dataframe tbody tr th {\n",
       "        vertical-align: top;\n",
       "    }\n",
       "\n",
       "    .dataframe thead th {\n",
       "        text-align: right;\n",
       "    }\n",
       "</style>\n",
       "<table border=\"1\" class=\"dataframe\">\n",
       "  <thead>\n",
       "    <tr style=\"text-align: right;\">\n",
       "      <th></th>\n",
       "      <th>Location</th>\n",
       "      <th>K</th>\n",
       "    </tr>\n",
       "  </thead>\n",
       "  <tbody>\n",
       "    <tr>\n",
       "      <th>0</th>\n",
       "      <td>Neutral</td>\n",
       "      <td>14</td>\n",
       "    </tr>\n",
       "    <tr>\n",
       "      <th>1</th>\n",
       "      <td>Neutral</td>\n",
       "      <td>13</td>\n",
       "    </tr>\n",
       "    <tr>\n",
       "      <th>2</th>\n",
       "      <td>Neutral</td>\n",
       "      <td>9</td>\n",
       "    </tr>\n",
       "    <tr>\n",
       "      <th>3</th>\n",
       "      <td>Away</td>\n",
       "      <td>13</td>\n",
       "    </tr>\n",
       "    <tr>\n",
       "      <th>4</th>\n",
       "      <td>Away</td>\n",
       "      <td>17</td>\n",
       "    </tr>\n",
       "  </tbody>\n",
       "</table>\n",
       "</div>"
      ],
      "text/plain": [
       "  Location   K\n",
       "0  Neutral  14\n",
       "1  Neutral  13\n",
       "2  Neutral   9\n",
       "3     Away  13\n",
       "4     Away  17"
      ]
     },
     "execution_count": 229,
     "metadata": {},
     "output_type": "execute_result"
    }
   ],
   "source": [
    "df.head()"
   ]
  },
  {
   "cell_type": "code",
   "execution_count": 231,
   "id": "5a7d6017",
   "metadata": {},
   "outputs": [
    {
     "data": {
      "text/plain": [
       "array(['Neutral', 'Away', 'Home'], dtype=object)"
      ]
     },
     "execution_count": 231,
     "metadata": {},
     "output_type": "execute_result"
    }
   ],
   "source": [
    "df.Location.unique()"
   ]
  },
  {
   "cell_type": "code",
   "execution_count": 233,
   "id": "cffebd06",
   "metadata": {},
   "outputs": [],
   "source": [
    "df_home = df[df.Location == \"Home\"]\n",
    "df_away = df[df.Location == \"Away\"]"
   ]
  },
  {
   "cell_type": "code",
   "execution_count": 235,
   "id": "0036c241",
   "metadata": {},
   "outputs": [
    {
     "data": {
      "text/plain": [
       "(37, 2)"
      ]
     },
     "execution_count": 235,
     "metadata": {},
     "output_type": "execute_result"
    }
   ],
   "source": [
    "df_home.shape"
   ]
  },
  {
   "cell_type": "code",
   "execution_count": 236,
   "id": "e9fa6f8b",
   "metadata": {},
   "outputs": [
    {
     "data": {
      "text/plain": [
       "(53, 2)"
      ]
     },
     "execution_count": 236,
     "metadata": {},
     "output_type": "execute_result"
    }
   ],
   "source": [
    "df_away.shape"
   ]
  },
  {
   "cell_type": "markdown",
   "id": "1463b7dd",
   "metadata": {},
   "source": [
    "**b)** We will assume that all conditions for this confidence interval are met, and thus that the confidence interval we calculate will be valid.\n",
    "\n",
    "Calculate by hand the 99% confidence interval for $\\mu_1 - \\mu_2$."
   ]
  },
  {
   "cell_type": "code",
   "execution_count": 250,
   "id": "17aeaa41",
   "metadata": {},
   "outputs": [
    {
     "name": "stdout",
     "output_type": "stream",
     "text": [
      "home: 13.027027027027026 2.9766357453273256\n",
      "away: 12.830188679245284 3.5231970242108006\n"
     ]
    }
   ],
   "source": [
    "mu_1 = df_home.K.mean()\n",
    "std_1 = df_home.K.std()\n",
    "n1 = 37\n",
    "mu_2 = df_away.K.mean()\n",
    "std_2 = df_away.K.std()\n",
    "n2 = 53\n",
    "print(\"home:\", mu_1, std_1)\n",
    "print(\"away:\", mu_2, std_2)"
   ]
  },
  {
   "cell_type": "code",
   "execution_count": 253,
   "id": "773f8362",
   "metadata": {},
   "outputs": [
    {
     "data": {
      "text/plain": [
       "0.6882406448195548"
      ]
     },
     "execution_count": 253,
     "metadata": {},
     "output_type": "execute_result"
    }
   ],
   "source": [
    "se = np.sqrt((std_1**2)/n1 + (std_2**2)/n2)\n",
    "se"
   ]
  },
  {
   "cell_type": "code",
   "execution_count": 254,
   "id": "74a18618",
   "metadata": {},
   "outputs": [
    {
     "data": {
      "text/plain": [
       "2.719484630449974"
      ]
     },
     "execution_count": 254,
     "metadata": {},
     "output_type": "execute_result"
    }
   ],
   "source": [
    "multiplier = t.ppf(0.995, df = 36)\n",
    "multiplier"
   ]
  },
  {
   "cell_type": "code",
   "execution_count": 256,
   "id": "25e0d2e9",
   "metadata": {},
   "outputs": [
    {
     "data": {
      "text/plain": [
       "0.19683834778174258"
      ]
     },
     "execution_count": 256,
     "metadata": {},
     "output_type": "execute_result"
    }
   ],
   "source": [
    "point_estimate = mu_1 - mu_2\n",
    "point_estimate"
   ]
  },
  {
   "cell_type": "code",
   "execution_count": 259,
   "id": "36d3df90",
   "metadata": {},
   "outputs": [
    {
     "name": "stdout",
     "output_type": "stream",
     "text": [
      "-1.6748215078560162 , 2.0684982034195016\n"
     ]
    }
   ],
   "source": [
    "lower = point_estimate - multiplier * se\n",
    "upper = point_estimate + multiplier * se\n",
    "print(lower, \",\", upper)"
   ]
  },
  {
   "cell_type": "markdown",
   "id": "a38f1c0a",
   "metadata": {},
   "source": [
    "**c)** Interpret your confidence interval.  That is, put your confidence interval into words."
   ]
  },
  {
   "cell_type": "markdown",
   "id": "383e6a6d",
   "metadata": {},
   "source": [
    "We are 99% confident that the difference between average kills at home matches and mean kills at away matches falls in the interval of (-1.6748215078560162, 2.0684982034195016)."
   ]
  },
  {
   "cell_type": "markdown",
   "id": "2e606086",
   "metadata": {},
   "source": [
    "<hr>\n",
    "\n",
    "## <u>Case Study 2</u>: Real Instagram Accounts\n",
    "\n",
    "In our next case study we would like to explore the relationship between the number of accounts that *real accounts* follow and the number of accounts that follow them. We will use the **fake_insta_cleaned.csv** dataframe for this analysis. This csv file is very similar to the fake_insta.csv file that we have been using in the past, except we have removed many of the outlier observations ahead of time.\n",
    "\n",
    "### Installation Note\n",
    "\n",
    "You may need to run the following command in your anaconda command prompt in order to use the **statsmodel** packages that were discussed in class.\n",
    "\n",
    "    conda install -c conda-forge statsmodels\n",
    "\n",
    "\n",
    "## 4. A First Look at Our Data [7 points] \n",
    "\n",
    "**a)** First, read the fake_insta_cleaned.csv file into a dataframe. Then create a dataframe that is comprised of just the real accounts."
   ]
  },
  {
   "cell_type": "code",
   "execution_count": 260,
   "id": "a5632fdc",
   "metadata": {},
   "outputs": [],
   "source": [
    "import statsmodels.api as sm\n",
    "import statsmodels.formula.api as smf"
   ]
  },
  {
   "cell_type": "code",
   "execution_count": 266,
   "id": "9ff71408",
   "metadata": {},
   "outputs": [
    {
     "data": {
      "text/plain": [
       "(54, 7)"
      ]
     },
     "execution_count": 266,
     "metadata": {},
     "output_type": "execute_result"
    }
   ],
   "source": [
    "df_real = pd.read_csv(\"fake_insta_cleaned.csv\")\n",
    "df_real = df_real[df_real.account_type == \"real\"]\n",
    "df_real.shape"
   ]
  },
  {
   "cell_type": "code",
   "execution_count": 267,
   "id": "9d0b7d95",
   "metadata": {},
   "outputs": [
    {
     "data": {
      "text/html": [
       "<div>\n",
       "<style scoped>\n",
       "    .dataframe tbody tr th:only-of-type {\n",
       "        vertical-align: middle;\n",
       "    }\n",
       "\n",
       "    .dataframe tbody tr th {\n",
       "        vertical-align: top;\n",
       "    }\n",
       "\n",
       "    .dataframe thead th {\n",
       "        text-align: right;\n",
       "    }\n",
       "</style>\n",
       "<table border=\"1\" class=\"dataframe\">\n",
       "  <thead>\n",
       "    <tr style=\"text-align: right;\">\n",
       "      <th></th>\n",
       "      <th>has_a_profile_pic</th>\n",
       "      <th>number_of_words_in_name</th>\n",
       "      <th>num_characters_in_bio</th>\n",
       "      <th>number_of_posts</th>\n",
       "      <th>number_of_followers</th>\n",
       "      <th>number_of_follows</th>\n",
       "      <th>account_type</th>\n",
       "    </tr>\n",
       "  </thead>\n",
       "  <tbody>\n",
       "    <tr>\n",
       "      <th>0</th>\n",
       "      <td>yes</td>\n",
       "      <td>1</td>\n",
       "      <td>30</td>\n",
       "      <td>35</td>\n",
       "      <td>488</td>\n",
       "      <td>604</td>\n",
       "      <td>real</td>\n",
       "    </tr>\n",
       "    <tr>\n",
       "      <th>1</th>\n",
       "      <td>yes</td>\n",
       "      <td>5</td>\n",
       "      <td>64</td>\n",
       "      <td>3</td>\n",
       "      <td>35</td>\n",
       "      <td>6</td>\n",
       "      <td>real</td>\n",
       "    </tr>\n",
       "    <tr>\n",
       "      <th>2</th>\n",
       "      <td>yes</td>\n",
       "      <td>2</td>\n",
       "      <td>82</td>\n",
       "      <td>319</td>\n",
       "      <td>328</td>\n",
       "      <td>668</td>\n",
       "      <td>real</td>\n",
       "    </tr>\n",
       "    <tr>\n",
       "      <th>3</th>\n",
       "      <td>yes</td>\n",
       "      <td>1</td>\n",
       "      <td>76</td>\n",
       "      <td>6</td>\n",
       "      <td>225</td>\n",
       "      <td>356</td>\n",
       "      <td>real</td>\n",
       "    </tr>\n",
       "    <tr>\n",
       "      <th>4</th>\n",
       "      <td>yes</td>\n",
       "      <td>1</td>\n",
       "      <td>0</td>\n",
       "      <td>6</td>\n",
       "      <td>362</td>\n",
       "      <td>424</td>\n",
       "      <td>real</td>\n",
       "    </tr>\n",
       "  </tbody>\n",
       "</table>\n",
       "</div>"
      ],
      "text/plain": [
       "  has_a_profile_pic  number_of_words_in_name  num_characters_in_bio  \\\n",
       "0               yes                        1                     30   \n",
       "1               yes                        5                     64   \n",
       "2               yes                        2                     82   \n",
       "3               yes                        1                     76   \n",
       "4               yes                        1                      0   \n",
       "\n",
       "   number_of_posts  number_of_followers  number_of_follows account_type  \n",
       "0               35                  488                604         real  \n",
       "1                3                   35                  6         real  \n",
       "2              319                  328                668         real  \n",
       "3                6                  225                356         real  \n",
       "4                6                  362                424         real  "
      ]
     },
     "execution_count": 267,
     "metadata": {},
     "output_type": "execute_result"
    }
   ],
   "source": [
    "df_real.head()"
   ]
  },
  {
   "cell_type": "markdown",
   "id": "92a41d0d",
   "metadata": {},
   "source": [
    "**b)** Next, create a scatterplot that visualizes the relationship between the number of followers and number of follows of real accounts in this dataset. Have this plot display a best fit line for the points as well."
   ]
  },
  {
   "cell_type": "code",
   "execution_count": 269,
   "id": "fd413187",
   "metadata": {},
   "outputs": [
    {
     "data": {
      "text/plain": [
       "<AxesSubplot: xlabel='number_of_followers', ylabel='number_of_follows'>"
      ]
     },
     "execution_count": 269,
     "metadata": {},
     "output_type": "execute_result"
    },
    {
     "data": {
      "image/png": "[encoded data removed]",
      "text/plain": [
       "<Figure size 640x480 with 1 Axes>"
      ]
     },
     "metadata": {},
     "output_type": "display_data"
    }
   ],
   "source": [
    "sns.regplot(x = 'number_of_followers', y = 'number_of_follows', data = df_real, ci = False)"
   ]
  },
  {
   "cell_type": "markdown",
   "id": "19088aa7",
   "metadata": {},
   "source": [
    "**c)** Calculate the covariance and the correlation of these two numerical variables."
   ]
  },
  {
   "cell_type": "code",
   "execution_count": 299,
   "id": "8efaf82f",
   "metadata": {},
   "outputs": [
    {
     "name": "stdout",
     "output_type": "stream",
     "text": [
      "covariance 103036.0286512928\n"
     ]
    }
   ],
   "source": [
    "print('covariance', df_real[[\"number_of_follows\", \"number_of_followers\"]].cov().iloc[0,1])"
   ]
  },
  {
   "cell_type": "code",
   "execution_count": 300,
   "id": "a5cd2297",
   "metadata": {},
   "outputs": [
    {
     "name": "stdout",
     "output_type": "stream",
     "text": [
      "correlation 0.36353514994524344\n"
     ]
    }
   ],
   "source": [
    "print('correlation', df_real[[\"number_of_follows\", \"number_of_followers\"]].corr().iloc[0,1])"
   ]
  },
  {
   "cell_type": "markdown",
   "id": "725d266e",
   "metadata": {},
   "source": [
    "## 5. Simple Linear Regression - Model Fitting [10 points]\n",
    "\n",
    "We would like to fit a simple linear regression model that predicts the number of accounts that a **real** Instagram account will be *followed by* (i.e. number of followers) given the number of accounts that they *follow* (i.e. number of follows).\n",
    "\n",
    "**a)**  First, fit this simple linear regression model and display the summary output tables."
   ]
  },
  {
   "cell_type": "code",
   "execution_count": 306,
   "id": "b0fa14bd",
   "metadata": {},
   "outputs": [],
   "source": [
    "results = smf.ols('number_of_followers ~ number_of_follows', data=df_real).fit()"
   ]
  },
  {
   "cell_type": "code",
   "execution_count": 307,
   "id": "2d47e603",
   "metadata": {},
   "outputs": [
    {
     "data": {
      "text/html": [
       "<table class=\"simpletable\">\n",
       "<caption>OLS Regression Results</caption>\n",
       "<tr>\n",
       "  <th>Dep. Variable:</th>    <td>number_of_followers</td> <th>  R-squared:         </th> <td>   0.132</td>\n",
       "</tr>\n",
       "<tr>\n",
       "  <th>Model:</th>                    <td>OLS</td>         <th>  Adj. R-squared:    </th> <td>   0.115</td>\n",
       "</tr>\n",
       "<tr>\n",
       "  <th>Method:</th>              <td>Least Squares</td>    <th>  F-statistic:       </th> <td>   7.919</td>\n",
       "</tr>\n",
       "<tr>\n",
       "  <th>Date:</th>              <td>Fri, 31 Mar 2023</td>   <th>  Prob (F-statistic):</th>  <td>0.00689</td>\n",
       "</tr>\n",
       "<tr>\n",
       "  <th>Time:</th>                  <td>00:23:44</td>       <th>  Log-Likelihood:    </th> <td> -416.46</td>\n",
       "</tr>\n",
       "<tr>\n",
       "  <th>No. Observations:</th>       <td>    54</td>        <th>  AIC:               </th> <td>   836.9</td>\n",
       "</tr>\n",
       "<tr>\n",
       "  <th>Df Residuals:</th>           <td>    52</td>        <th>  BIC:               </th> <td>   840.9</td>\n",
       "</tr>\n",
       "<tr>\n",
       "  <th>Df Model:</th>               <td>     1</td>        <th>                     </th>     <td> </td>   \n",
       "</tr>\n",
       "<tr>\n",
       "  <th>Covariance Type:</th>       <td>nonrobust</td>      <th>                     </th>     <td> </td>   \n",
       "</tr>\n",
       "</table>\n",
       "<table class=\"simpletable\">\n",
       "<tr>\n",
       "          <td></td>             <th>coef</th>     <th>std err</th>      <th>t</th>      <th>P>|t|</th>  <th>[0.025</th>    <th>0.975]</th>  \n",
       "</tr>\n",
       "<tr>\n",
       "  <th>Intercept</th>         <td>  343.3059</td> <td>  106.893</td> <td>    3.212</td> <td> 0.002</td> <td>  128.809</td> <td>  557.803</td>\n",
       "</tr>\n",
       "<tr>\n",
       "  <th>number_of_follows</th> <td>    0.4407</td> <td>    0.157</td> <td>    2.814</td> <td> 0.007</td> <td>    0.126</td> <td>    0.755</td>\n",
       "</tr>\n",
       "</table>\n",
       "<table class=\"simpletable\">\n",
       "<tr>\n",
       "  <th>Omnibus:</th>       <td>50.398</td> <th>  Durbin-Watson:     </th> <td>   1.823</td>\n",
       "</tr>\n",
       "<tr>\n",
       "  <th>Prob(Omnibus):</th> <td> 0.000</td> <th>  Jarque-Bera (JB):  </th> <td> 191.558</td>\n",
       "</tr>\n",
       "<tr>\n",
       "  <th>Skew:</th>          <td> 2.687</td> <th>  Prob(JB):          </th> <td>2.53e-42</td>\n",
       "</tr>\n",
       "<tr>\n",
       "  <th>Kurtosis:</th>      <td>10.500</td> <th>  Cond. No.          </th> <td>    973.</td>\n",
       "</tr>\n",
       "</table><br/><br/>Notes:<br/>[1] Standard Errors assume that the covariance matrix of the errors is correctly specified."
      ],
      "text/plain": [
       "<class 'statsmodels.iolib.summary.Summary'>\n",
       "\"\"\"\n",
       "                             OLS Regression Results                            \n",
       "===============================================================================\n",
       "Dep. Variable:     number_of_followers   R-squared:                       0.132\n",
       "Model:                             OLS   Adj. R-squared:                  0.115\n",
       "Method:                  Least Squares   F-statistic:                     7.919\n",
       "Date:                 Fri, 31 Mar 2023   Prob (F-statistic):            0.00689\n",
       "Time:                         00:23:44   Log-Likelihood:                -416.46\n",
       "No. Observations:                   54   AIC:                             836.9\n",
       "Df Residuals:                       52   BIC:                             840.9\n",
       "Df Model:                            1                                         \n",
       "Covariance Type:             nonrobust                                         \n",
       "=====================================================================================\n",
       "                        coef    std err          t      P>|t|      [0.025      0.975]\n",
       "-------------------------------------------------------------------------------------\n",
       "Intercept           343.3059    106.893      3.212      0.002     128.809     557.803\n",
       "number_of_follows     0.4407      0.157      2.814      0.007       0.126       0.755\n",
       "==============================================================================\n",
       "Omnibus:                       50.398   Durbin-Watson:                   1.823\n",
       "Prob(Omnibus):                  0.000   Jarque-Bera (JB):              191.558\n",
       "Skew:                           2.687   Prob(JB):                     2.53e-42\n",
       "Kurtosis:                      10.500   Cond. No.                         973.\n",
       "==============================================================================\n",
       "\n",
       "Notes:\n",
       "[1] Standard Errors assume that the covariance matrix of the errors is correctly specified.\n",
       "\"\"\""
      ]
     },
     "execution_count": 307,
     "metadata": {},
     "output_type": "execute_result"
    }
   ],
   "source": [
    "results.summary()"
   ]
  },
  {
   "cell_type": "markdown",
   "id": "1b8226ce",
   "metadata": {},
   "source": [
    "**b)** Next, write out your ordinary least squares simple linear regression equation. Make sure you use the appropriate notation discussed in class. Put your variables into words."
   ]
  },
  {
   "cell_type": "markdown",
   "id": "473b6e48",
   "metadata": {},
   "source": [
    "$\\hat{y} = \\hat{\\beta_0} + \\hat{\\beta_1} x$\n",
    "\n",
    "number_of_followers = $\\hat{\\beta_0}$ + $\\hat{\\beta_1}$ * number_of_follows = 343.3059 + 0.4407\t * number_of_follows"
   ]
  },
  {
   "cell_type": "markdown",
   "id": "837d88bc",
   "metadata": {},
   "source": [
    "**c)**  Put your fitted slope into words.  That is, interpret your slope."
   ]
  },
  {
   "cell_type": "markdown",
   "id": "91cd2203",
   "metadata": {},
   "source": [
    "Slope is 0.4407\t. This means for each increment unit of number_of_follows, number_of_followers of his account will incease by 0.4407\t."
   ]
  },
  {
   "cell_type": "markdown",
   "id": "26107f9a",
   "metadata": {},
   "source": [
    "**d)** Kim Kardashian follows 153 people on Instagram. Predict how many followers she has."
   ]
  },
  {
   "cell_type": "code",
   "execution_count": 330,
   "id": "8107d80a",
   "metadata": {},
   "outputs": [
    {
     "data": {
      "text/plain": [
       "0    410.7254\n",
       "dtype: float64"
      ]
     },
     "execution_count": 330,
     "metadata": {},
     "output_type": "execute_result"
    }
   ],
   "source": [
    "results.predict(exog = dict(number_of_follows = 153))\n"
   ]
  },
  {
   "cell_type": "markdown",
   "id": "1c68d65c",
   "metadata": {},
   "source": [
    "The prediction is 410.7254"
   ]
  },
  {
   "cell_type": "markdown",
   "id": "ac0a6773",
   "metadata": {},
   "source": [
    "**e)** Kim Kardashian *actually* has about 258,000,000 followers. Calculate the residual of our prediction for Kim Kardashian."
   ]
  },
  {
   "cell_type": "code",
   "execution_count": 331,
   "id": "760f4f79",
   "metadata": {},
   "outputs": [
    {
     "data": {
      "text/plain": [
       "257999589.2746"
      ]
     },
     "execution_count": 331,
     "metadata": {},
     "output_type": "execute_result"
    }
   ],
   "source": [
    "258000000 - 410.7254"
   ]
  },
  {
   "cell_type": "markdown",
   "id": "f02327ec",
   "metadata": {},
   "source": [
    "Remember to keep all your cells and hit the save icon above periodically to checkpoint (save) your results on your local computer. Once you are satisified with your results restart the kernel and run all (Kernel -> Restart & Run All). **Make sure nothing has changed**. Checkpoint and exit (File -> Save and Checkpoint + File -> Close and Halt). Follow the instructions on the Homework 4 Canvas Assignment to submit your notebook to GitHub."
   ]
  }
 ],
 "metadata": {
  "kernelspec": {
   "display_name": "Python 3 (ipykernel)",
   "language": "python",
   "name": "python3"
  },
  "language_info": {
   "codemirror_mode": {
    "name": "ipython",
    "version": 3
   },
   "file_extension": ".py",
   "mimetype": "text/x-python",
   "name": "python",
   "nbconvert_exporter": "python",
   "pygments_lexer": "ipython3",
   "version": "3.10.8"
  }
 },
 "nbformat": 4,
 "nbformat_minor": 5
}
