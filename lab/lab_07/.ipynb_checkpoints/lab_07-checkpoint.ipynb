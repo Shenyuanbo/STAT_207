{
 "cells": [
  {
   "cell_type": "markdown",
   "metadata": {},
   "source": [
    "# STAT 207 Group Lab Assignment 7 - [10 total points]\n",
    "\n",
    "## Hypothesis Testing with Simulations & Distributions"
   ]
  },
  {
   "cell_type": "markdown",
   "metadata": {},
   "source": [
    "Due: Wednesday, March 22, 11:59pm CST\n",
    "\n",
    "No Late Submissions Accepted\n",
    "\n",
    "<hr>\n"
   ]
  },
  {
   "cell_type": "markdown",
   "metadata": {},
   "source": [
    "## <u>Purpose</u>:\n",
    "You should work in groups of 2-3 on this report. The purpose of this group lab assignment is to calculate properties of random variables and to explore properties of confidence intervals.\n",
    "<hr>"
   ]
  },
  {
   "cell_type": "markdown",
   "metadata": {},
   "source": [
    "## <u>Assignment Instructions</u>:\n"
   ]
  },
  {
   "cell_type": "markdown",
   "metadata": {},
   "source": [
    "### Contribution Report\n",
    "These contribution reports should be included in all group lab assignments. In this contribution report below you should list of the following:\n",
    "1. The netID for the lab submission to be graded.  (Some groups have each member create their own version of the document, but only one needs to be submitted for grading.  Other groups have only one member compose and submit the lab.)\n",
    "2. Names and netIDs of each team member.\n",
    "3. Contributions of each team member to report.\n",
    "\n",
    "*For example:*\n",
    "\n",
    "*<u>Teammates:</u>*\n",
    "\n",
    "*doe105 should be graded.  John Smith (smith92) & Jane Doe (doe105) worked together on all parts of this lab assignment*, \n",
    "\n",
    "OR\n",
    "\n",
    "*doe105 should be graded*\n",
    "\n",
    "*1. John Smith (smith92): did number 1,2 and 3*\n",
    "\n",
    "*2. Jane Doe (doe105): did number 4, and 5*"
   ]
  },
  {
   "cell_type": "markdown",
   "metadata": {},
   "source": [
    "Advait(advaitr3) should be graded.\n",
    "1. Yuanbo Shen(yuanbo3)\n",
    "2. Advait Renduchintala (advaitr3)\n",
    "3. Damian Makowski (damianm4)"
   ]
  },
  {
   "cell_type": "markdown",
   "metadata": {},
   "source": [
    "### Group Roles\n",
    "\n",
    "You are expected to work in groups of 2-3 on this report.  Since you are working in groups, you may find it helpful to have specified roles.  Below, I provide roles that can be used for groups of 2 and for groups of 3.  I encourage you to switch roles within this lab report, as possible.  I also encourage you to switch roles for each subsequent lab, as possible, based on your group membership.  You may have established a different process for completing labs in the first few labs, and you can continue to use this process if you've found it to be effective.\n",
    "\n",
    "#### Groups of 2\n",
    "\n",
    "* **Driver**: This student will type the report.  While typing the report, you may be the one who is selecting the functions to apply to the data.\n",
    "* **Navigator**: This student will guide the process of answering the question.  Specific ways to help may include: outlining the general steps needed to solve a question (providing the overview), locating examples within the course notes, and reviewing each line of code as it is typed.\n",
    "\n",
    "#### Groups of 3\n",
    "\n",
    "* **Driver**: This student will type the report.  They may also be the one to select the functions to apply to the data.\n",
    "* **Navigator**: This student will guide the process of answering the question.  They may select the general approach to answering the question and/or a few steps to be completed along the way. \n",
    "* **Communicator**: This student will review the report (as it is typed) to ensure that it is clear and concise.  This student may also locate relevant examples within the course notes that may help complete the assignment.\n",
    "\n",
    "<hr>\n",
    "\n",
    "### Imports"
   ]
  },
  {
   "cell_type": "code",
   "execution_count": 3,
   "metadata": {},
   "outputs": [],
   "source": [
    "import pandas as pd\n",
    "import seaborn as sns\n",
    "import matplotlib.pyplot as plt\n",
    "import numpy as np\n",
    "from scipy.stats import t\n",
    "from scipy.stats import norm\n",
    "sns.set()"
   ]
  },
  {
   "cell_type": "code",
   "execution_count": 13,
   "metadata": {},
   "outputs": [
    {
     "data": {
      "text/plain": [
       "(24, 10)"
      ]
     },
     "execution_count": 13,
     "metadata": {},
     "output_type": "execute_result"
    }
   ],
   "source": [
    "df = pd.read_csv('lab7data.csv')\n",
    "df.shape"
   ]
  },
  {
   "cell_type": "code",
   "execution_count": 14,
   "metadata": {},
   "outputs": [
    {
     "data": {
      "text/plain": [
       "Coke     21\n",
       "Pepsi     3\n",
       "Name: Do you prefer Coke or Pepsi?, dtype: int64"
      ]
     },
     "execution_count": 14,
     "metadata": {},
     "output_type": "execute_result"
    }
   ],
   "source": [
    "df[\"Do you prefer Coke or Pepsi?\"].value_counts()"
   ]
  },
  {
   "cell_type": "markdown",
   "metadata": {},
   "source": [
    "<hr>\n",
    "\n",
    "## <u>Case Study</u>: Former STAT107 Student Analysis\n",
    "\n",
    "Starting this year, STAT107 and STAT207 (along with other courses) count as requirements towards a new suite of majors called \"X+Data Science\" majors.  Thus, we are interested in learning more about the type of students that enroll in courses like STAT107.  From Fall 2019-Fall 2022, 1059 students enrolled in STAT107.  Rather than track down and ask each of these 1059 students questions, we will use the students in *this lab section* (who have presumably taken STAT107) in an attempt to learn more about the larger population of **all students who have taken STAT107 in the last seven semesters.**\n",
    "\n",
    "### 1. [1 pt] Pose a Question\n",
    "\n",
    "As a group, brainstorm theories that *you* have about all former STAT107 students or questions that *you* would be interested in asking all former STAT107 students (from the last seven semesters).\n",
    "\n",
    "Make sure that your questions meet the following characteristics:\n",
    "\n",
    "- the question could be answered or the theory could be evaluated using inference techniques that we have learned so far\n",
    "- you can define a parameter of interest\n",
    "- you can write competing theories about your parameter of interest\n",
    "\n",
    "Let your lab TA know your question to pose to the broader class.  Most (or all) questions will be posed to the whole class.  If your question is not selected, select one of the other questions to analyze for the remainder of this Group Lab Assignment.\n",
    "\n",
    "- <u>Example Theory 1</u>: I believe that more than half of former STAT107 students prefer to drink through a cup or water bottle with a straw than with an open lip or with a pour spout.\n",
    "- <u>Example Theory 2</u>: We think that the average number of textbooks that former STAT107 students were required to buy for Spring 2023 classes is less than 4.\n",
    "\n",
    "**Note: Don't use these example theories.  You should come up with your own.**\n",
    "\n",
    "**a)** Write your *own* question of interest below:"
   ]
  },
  {
   "cell_type": "markdown",
   "metadata": {},
   "source": [
    "We believe that more than half of stat107 students will like Coke more than Pepsi."
   ]
  },
  {
   "cell_type": "markdown",
   "metadata": {},
   "source": [
    "**b)** What variable would you record for each student?  What type of variable (quantitative vs. categorical) is this variable?  How might you phrase the question to obtain this variable from a sample of previous STAT107 students?"
   ]
  },
  {
   "cell_type": "markdown",
   "metadata": {},
   "source": [
    "- Coke or Pepsi\n",
    "\n",
    "- Categorical variable\n",
    "\n",
    "- Do you prefer Coke or Pepsi?"
   ]
  },
  {
   "cell_type": "markdown",
   "metadata": {},
   "source": [
    "### 2. [1.5 pt] Hypotheses\n",
    "\n",
    "Now that you've defined a theory and began gathering data about it from our current STAT207 students, let's formalize up our theories for testing.\n",
    "\n",
    "Write your null and alternative hypotheses to evaluate these claims.  You should use appropriate notation to write these hypotheses.  For any population parameter terms that you use, be sure to define what this parameter refers to.\n",
    "\n",
    "We will set our significance level to 10% for this Case Study."
   ]
  },
  {
   "cell_type": "markdown",
   "metadata": {},
   "source": [
    "$p$ = proportion that perfers drinking Coke\n",
    "\n",
    "$H_0$: Half of students from stat107 like drinking Coke. (p = 0.5)\n",
    "\n",
    "$H_a$: More than half of students from stat107 like drinking Coke (p > 0.5)\n",
    "\n",
    "$\\alpha = 0.1$"
   ]
  },
  {
   "cell_type": "markdown",
   "metadata": {},
   "source": [
    "## Distributional Hypothesis Testing Procedure\n",
    "\n",
    "### 3. [1 pt] Checking Assumptions\n",
    "\n",
    "Check the appropriate conditions for conducting your hypothesis test.\n",
    "\n",
    "**Note**: even if your conditions are not met in this part, you should proceed with your hypothesis testing scenario."
   ]
  },
  {
   "cell_type": "code",
   "execution_count": 12,
   "metadata": {},
   "outputs": [
    {
     "data": {
      "text/plain": [
       "0.0226628895184136"
      ]
     },
     "execution_count": 12,
     "metadata": {},
     "output_type": "execute_result"
    }
   ],
   "source": [
    "24/1059"
   ]
  },
  {
   "cell_type": "code",
   "execution_count": 24,
   "metadata": {},
   "outputs": [
    {
     "data": {
      "text/plain": [
       "12.0"
      ]
     },
     "execution_count": 24,
     "metadata": {},
     "output_type": "execute_result"
    }
   ],
   "source": [
    "n = 24\n",
    "p = 0.5 #Since we don't know p, so we will choose p0\n",
    "n*(1 - p)"
   ]
  },
  {
   "cell_type": "code",
   "execution_count": 25,
   "metadata": {},
   "outputs": [
    {
     "data": {
      "text/plain": [
       "12.0"
      ]
     },
     "execution_count": 25,
     "metadata": {},
     "output_type": "execute_result"
    }
   ],
   "source": [
    "n*p"
   ]
  },
  {
   "cell_type": "markdown",
   "metadata": {},
   "source": [
    "- Independence of observation is met, due to the following reasons.\n",
    "    - sample is randomly selected\n",
    "    - n < 10% N\n",
    "- Normality is met\n",
    "    - np > 10\n",
    "    - n(1-p) > 10\n",
    "    \n",
    "We can say that the hypothesis is valid."
   ]
  },
  {
   "cell_type": "markdown",
   "metadata": {},
   "source": [
    "### 4. [1.5 pt] Calculate the test statistic and *p*-value\n",
    "\n",
    "Using the information from our sample, calculate and report the test statistic and *p*-value.\n",
    "\n",
    "**Note**: you may need to read in the class data here for your analysis."
   ]
  },
  {
   "cell_type": "code",
   "execution_count": 32,
   "metadata": {},
   "outputs": [
    {
     "data": {
      "text/plain": [
       "0.10206207261596575"
      ]
     },
     "execution_count": 32,
     "metadata": {},
     "output_type": "execute_result"
    }
   ],
   "source": [
    "sample_std = np.sqrt(p*(1-p)/n)\n",
    "sample_std"
   ]
  },
  {
   "cell_type": "code",
   "execution_count": 39,
   "metadata": {},
   "outputs": [
    {
     "data": {
      "text/plain": [
       "0.375"
      ]
     },
     "execution_count": 39,
     "metadata": {},
     "output_type": "execute_result"
    }
   ],
   "source": [
    "dist = abs(21/24 - 0.5)\n",
    "dist"
   ]
  },
  {
   "cell_type": "code",
   "execution_count": 40,
   "metadata": {},
   "outputs": [
    {
     "data": {
      "text/plain": [
       "3.6742346141747673"
      ]
     },
     "execution_count": 40,
     "metadata": {},
     "output_type": "execute_result"
    }
   ],
   "source": [
    "test_statistics = dist/sample_std\n",
    "test_statistics"
   ]
  },
  {
   "cell_type": "code",
   "execution_count": 41,
   "metadata": {},
   "outputs": [
    {
     "data": {
      "text/plain": [
       "0.00011928172701436424"
      ]
     },
     "execution_count": 41,
     "metadata": {},
     "output_type": "execute_result"
    }
   ],
   "source": [
    "p_value = 1 - norm.cdf(3.6742346141747673)\n",
    "p_value"
   ]
  },
  {
   "cell_type": "markdown",
   "metadata": {},
   "source": [
    "**Report** your values here:\n",
    "\n",
    "- test statistic: 3.6742346141747673\n",
    "- *p*-value:  0.00011928172701436424"
   ]
  },
  {
   "cell_type": "markdown",
   "metadata": {},
   "source": [
    "### 5. [1.5 pt] Evaluate your *p*-value\n",
    "\n",
    "Finally, use your calculated *p*-value from Question 4 and $\\alpha$ from Question 2 to make a decision and write a conclusion about your hypotheses and theories."
   ]
  },
  {
   "cell_type": "markdown",
   "metadata": {},
   "source": [
    "Since, p-value is less than the significance level, so we reject the null hypothesis, that half of student like drinking Coke more than Coke(p = 0.5).\n",
    "\n",
    "And more than half of students like drinking Coke(p > 0.5)."
   ]
  },
  {
   "cell_type": "markdown",
   "metadata": {},
   "source": [
    "## Simulation-Based Hypothesis Testing Procedure\n",
    "\n",
    "In Questions 3-5, we applied approaches specific to hypothesis testing that depend on assumptions being met and an underlying distribution for the sampling distribution being valid.  Your results in Question 3 allowed you to assess whether the distributional assumptions are valid.\n",
    "\n",
    "What might you do if your distributional results are not valid?  We can then rely on simulation-based procedures.  Below, you will explore the simulation-based approach to hypothesis testing.\n",
    "\n",
    "### 6. [1.5 pts] Generating a Bootstrapped Distribution\n",
    "\n",
    "**For a quantitative variable**: Since we are not relying on any underlying distributions, we need to generate a simulated sampling distribution.  Because we don't have a population, we will rely on our sample to serve as an approximate population.  Therefore, our generated sampling distribution below will be called a **bootstrapped** distribution.\n",
    "\n",
    "1. Generate 10,000 repetitions of random samples\n",
    "2. For each repetition, generate a random sample from your lab's data.  The random sample should be generated with replacement and be of the same size as the data.\n",
    "3. For each random sample, calculate the record the estimated test statistic.  The estimated test statistic will be calculated with the **full sample** statistic value as the **null value**.\n",
    "\n",
    "You may wish to save your bootstrapped distribution as a data frame for further analysis.\n",
    "\n",
    "**For a categorical variable**: For a categorical variable, we can rely on an underlying distribution without requiring distributional assumptions for the sampling distribution.  We can think of our population as being comprised of Bernoulli trials with each trial having a $p_0$ probability of success.  We can then approximate a sampling distribution using this underlying idea.\n",
    "\n",
    "1. Generate 10,000 repetitions of random samples\n",
    "2. For each repetition, generate a random sample of the same size as your lab's data.  The random sample should be generated from Bernoulli trials.  We'll allow sampling with replacement for this assignment, but think about how this may be different if we instead wanted to sample without replacement.\n",
    "3. For each random sample, calculate and record the estimated test statistic.\n",
    "\n",
    "You may wish to save your simulated distribution as a data frame for further analysis."
   ]
  },
  {
   "cell_type": "code",
   "execution_count": 51,
   "metadata": {},
   "outputs": [],
   "source": [
    "from scipy.stats import bernoulli"
   ]
  },
  {
   "cell_type": "code",
   "execution_count": 60,
   "metadata": {},
   "outputs": [
    {
     "data": {
      "text/plain": [
       "array([1, 1, 1, 1, 1, 1, 1, 0, 1, 1, 1, 1, 1, 1, 1, 1, 1, 1, 1, 1, 1, 1,\n",
       "       1, 1])"
      ]
     },
     "execution_count": 60,
     "metadata": {},
     "output_type": "execute_result"
    }
   ],
   "source": [
    "D = bernoulli(21/24)\n",
    "D.rvs(size = 24)\n"
   ]
  },
  {
   "cell_type": "code",
   "execution_count": 83,
   "metadata": {},
   "outputs": [
    {
     "data": {
      "text/html": [
       "<div>\n",
       "<style scoped>\n",
       "    .dataframe tbody tr th:only-of-type {\n",
       "        vertical-align: middle;\n",
       "    }\n",
       "\n",
       "    .dataframe tbody tr th {\n",
       "        vertical-align: top;\n",
       "    }\n",
       "\n",
       "    .dataframe thead th {\n",
       "        text-align: right;\n",
       "    }\n",
       "</style>\n",
       "<table border=\"1\" class=\"dataframe\">\n",
       "  <thead>\n",
       "    <tr style=\"text-align: right;\">\n",
       "      <th></th>\n",
       "      <th>test_stat</th>\n",
       "    </tr>\n",
       "  </thead>\n",
       "  <tbody>\n",
       "    <tr>\n",
       "      <th>0</th>\n",
       "      <td>1.234427</td>\n",
       "    </tr>\n",
       "    <tr>\n",
       "      <th>1</th>\n",
       "      <td>-0.617213</td>\n",
       "    </tr>\n",
       "    <tr>\n",
       "      <th>2</th>\n",
       "      <td>-1.234427</td>\n",
       "    </tr>\n",
       "    <tr>\n",
       "      <th>3</th>\n",
       "      <td>0.000000</td>\n",
       "    </tr>\n",
       "    <tr>\n",
       "      <th>4</th>\n",
       "      <td>0.617213</td>\n",
       "    </tr>\n",
       "  </tbody>\n",
       "</table>\n",
       "</div>"
      ],
      "text/plain": [
       "   test_stat\n",
       "0   1.234427\n",
       "1  -0.617213\n",
       "2  -1.234427\n",
       "3   0.000000\n",
       "4   0.617213"
      ]
     },
     "execution_count": 83,
     "metadata": {},
     "output_type": "execute_result"
    }
   ],
   "source": [
    "data = []\n",
    "for i in range(10000):\n",
    "    p_hat = D.rvs(size = 24).sum() / 24\n",
    "    p0 = 21/24\n",
    "    test_stat = (p_hat - p0) / np.sqrt(p0 *(1- p0)/24)\n",
    "    d = {\"test_stat\" : test_stat}\n",
    "    data.append(d)\n",
    "    \n",
    "df_est = pd.DataFrame(data)\n",
    "df_est.head()\n",
    "    "
   ]
  },
  {
   "cell_type": "markdown",
   "metadata": {},
   "source": [
    "### 7. [1 pts] Assessing Theories with a *p*-value\n",
    "\n",
    "Based on your theories as defined in Question 2, your observed test statistic from Question 4, and the bootstrapped distribution in Question 6, what is your simulation-based *p*-value?  Compare your simulation-based *p*-value to the one that you calculated in Question 4 from your distribution-based approach. "
   ]
  },
  {
   "cell_type": "code",
   "execution_count": 84,
   "metadata": {},
   "outputs": [
    {
     "data": {
      "text/plain": [
       "(0, 1)"
      ]
     },
     "execution_count": 84,
     "metadata": {},
     "output_type": "execute_result"
    }
   ],
   "source": [
    "df_est[df_est.test_stat > 3.6742346141747673].shape"
   ]
  },
  {
   "cell_type": "markdown",
   "metadata": {},
   "source": [
    "The simulation p-value is 0, which makes a lot of sense(our previous p-value is 0.00011928172701436424)."
   ]
  },
  {
   "cell_type": "markdown",
   "metadata": {},
   "source": [
    "## Concluding Thoughts\n",
    "\n",
    "### 8. [1 pt] Think About Your Data\n",
    "\n",
    "Think critically about the data that you used to address your theories (or that other students in your lab used).  What else do you wonder about your data?  Do you have any concerns about your data?\n",
    "\n",
    "You may address this question by answering any of the following questions:\n",
    "\n",
    "- What variables might you want to add to your analysis to help you further understand the implications of your analysis?\n",
    "- What observations might be missing from the data?  Is this concerning to you?\n",
    "- What ethical constraints might apply to the data?\n",
    "- Were there any questions posed by other lab groups that were unclear?  How could they have been clarified?"
   ]
  },
  {
   "cell_type": "markdown",
   "metadata": {},
   "source": []
  }
 ],
 "metadata": {
  "kernelspec": {
   "display_name": "Python 3 (ipykernel)",
   "language": "python",
   "name": "python3"
  },
  "language_info": {
   "codemirror_mode": {
    "name": "ipython",
    "version": 3
   },
   "file_extension": ".py",
   "mimetype": "text/x-python",
   "name": "python",
   "nbconvert_exporter": "python",
   "pygments_lexer": "ipython3",
   "version": "3.10.8"
  }
 },
 "nbformat": 4,
 "nbformat_minor": 2
}
