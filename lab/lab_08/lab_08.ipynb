{
 "cells": [
  {
   "cell_type": "markdown",
   "metadata": {},
   "source": [
    "# STAT 207 Group Lab Assignment 8 - [10 total points]\n",
    "\n",
    "## Inference for Difference Parameters"
   ]
  },
  {
   "cell_type": "markdown",
   "metadata": {},
   "source": [
    "Due: Wednesday, March 29, 11:59pm CST\n",
    "\n",
    "No Late Submissions Accepted\n",
    "\n",
    "<hr>\n"
   ]
  },
  {
   "cell_type": "markdown",
   "metadata": {},
   "source": [
    "## <u>Purpose</u>:\n",
    "You should work in groups of 2-3 on this report. The purpose of this group lab assignment is to perform inference for parameters from two groups, often called difference parameters.  You will additionally explore properties of *p*-values and significance levels.\n",
    "<hr>"
   ]
  },
  {
   "cell_type": "markdown",
   "metadata": {},
   "source": [
    "## <u>Assignment Instructions</u>:\n"
   ]
  },
  {
   "cell_type": "markdown",
   "metadata": {},
   "source": [
    "### Contribution Report\n",
    "These contribution reports should be included in all group lab assignments. In this contribution report below you should list of the following:\n",
    "1. The netID for the lab submission to be graded.  (Some groups have each member create their own version of the document, but only one needs to be submitted for grading.  Other groups have only one member compose and submit the lab.)\n",
    "2. Names and netIDs of each team member.\n",
    "3. Contributions of each team member to report.\n",
    "\n",
    "*For example:*\n",
    "\n",
    "*<u>Teammates:</u>*\n",
    "\n",
    "*doe105 should be graded.  John Smith (smith92) & Jane Doe (doe105) worked together on all parts of this lab assignment*, \n",
    "\n",
    "OR\n",
    "\n",
    "*doe105 should be graded*\n",
    "\n",
    "*1. John Smith (smith92): did number 1,2 and 3*\n",
    "\n",
    "*2. Jane Doe (doe105): did number 4, and 5*"
   ]
  },
  {
   "cell_type": "markdown",
   "metadata": {},
   "source": [
    "Damian Makowski (damianm4) should be graded.\n",
    "1. Yuanbo Shen(yuanbo3)\n",
    "2. Advait Renduchintala (advaitr3)\n",
    "3. Damian Makowski (damianm4)"
   ]
  },
  {
   "cell_type": "markdown",
   "metadata": {},
   "source": [
    "### Group Roles\n",
    "\n",
    "You are expected to work in groups of 2-3 on this report.  Since you are working in groups, you may find it helpful to have specified roles.  Below, I provide roles that can be used for groups of 2 and for groups of 3.  I encourage you to switch roles within this lab report, as possible.  I also encourage you to switch roles for each subsequent lab, as possible, based on your group membership.  You may have established a different process for completing labs in the first few labs, and you can continue to use this process if you've found it to be effective.\n",
    "\n",
    "#### Groups of 2\n",
    "\n",
    "* **Driver**: This student will type the report.  While typing the report, you may be the one who is selecting the functions to apply to the data.\n",
    "* **Navigator**: This student will guide the process of answering the question.  Specific ways to help may include: outlining the general steps needed to solve a question (providing the overview), locating examples within the course notes, and reviewing each line of code as it is typed.\n",
    "\n",
    "#### Groups of 3\n",
    "\n",
    "* **Driver**: This student will type the report.  They may also be the one to select the functions to apply to the data.\n",
    "* **Navigator**: This student will guide the process of answering the question.  They may select the general approach to answering the question and/or a few steps to be completed along the way. \n",
    "* **Communicator**: This student will review the report (as it is typed) to ensure that it is clear and concise.  This student may also locate relevant examples within the course notes that may help complete the assignment.\n",
    "\n",
    "<hr>\n",
    "\n",
    "### Imports"
   ]
  },
  {
   "cell_type": "code",
   "execution_count": 4,
   "metadata": {},
   "outputs": [],
   "source": [
    "import pandas as pd\n",
    "import seaborn as sns\n",
    "import matplotlib.pyplot as plt\n",
    "import numpy as np\n",
    "from scipy.stats import t\n",
    "from scipy.stats import norm\n",
    "sns.set()"
   ]
  },
  {
   "cell_type": "markdown",
   "metadata": {},
   "source": [
    "<hr>\n",
    "\n",
    "## Downloading Python Packages for the Rest of the Semester\n",
    "\n",
    "Starting with Homework 9, you will need access to some additional packages in Python.  Take a moment to install those packages now.\n",
    "\n",
    "To install these packages, you should open up your command line interface.  You can then type in the following two lines of code:\n",
    "\n",
    "`conda install -c conda-forge statsmodels`\n",
    "\n",
    "`conda install scikit-learn`\n",
    "\n",
    "Once you have installed these two packages, you should not need any additional packages for the remainder of the semester.\n",
    "\n",
    "You may delete the cell below this one once you have installed these packages."
   ]
  },
  {
   "cell_type": "markdown",
   "metadata": {},
   "source": [
    "<hr>\n",
    "\n",
    "## <u>Case Study 1</u>: Buying Girl Scout Cookies\n",
    "\n",
    "The underlying assumption of the hypothesis testing framework is that the null hypothesis is true.  This premise serves as the primary support for hypothesis testing being successful.  We'll explore this idea for this Case Study.\n",
    "\n",
    "Suppose that the proportion of all undergraduate students who will buy Girl Scout Cookies this year is 0.375 (3/8).  Suppose that the proportion of all graduate students who will buy Girl Scout Cookies this year is also 0.375 (3/8).  Typically, we wouldn't know this value and would instead rely on our sample to perform inference.  For the sake of this exercise, we will be omniscient (all-knowing).  \n",
    "\n",
    "We will generate sample data from this information.  Based on sample data, we'd like to assess if the population proportions for all undergraduate students and all graduate students who will buy Girl Scout Cookies this year is equal.\n",
    "\n",
    "In other words, we'll explore the hypotheses:\n",
    "\n",
    "$H_0: p_1 = p_2$ vs. $H_a: p_1 \\neq p_2$\n",
    "\n",
    "### 1. [1 pt] Specify a Distribution\n",
    "\n",
    "Imagine that we take a random sample of 80 undergraduate students and a second random sample of 45 graduate students.  For each of these samples, we first count the number of students who bought Girl Scout Cookies this year (and are considered a successful trial), $X_1$ (the number of undergraduate students from a random sample who bought Girl Scout Cookies) and $X_2$ (the number of graduate students  from a random sample who bought girl scout cookies).  The random variables $X_1$ and $X_2$ follow specific theoretical distributions.  **Completely** specify these distributions."
   ]
  },
  {
   "attachments": {},
   "cell_type": "markdown",
   "metadata": {},
   "source": [
    "$X_1$ ~ $Bin(80, 0.375)$\n",
    "\n",
    "$X_2$ ~ $Bin(45, 0.375)$"
   ]
  },
  {
   "cell_type": "markdown",
   "metadata": {},
   "source": [
    "### 2. [2 pts] Single Sample\n",
    "\n",
    "Using the distribution from part 2, generate a random sample of 80 undergraduate students and a second random sample of 45 graduate students.  Specify a random state of 80 and 45 for these two samples, respectively.\n",
    "\n",
    "**a)** Using this sample information, calculate the sample proportions of students who order Girl Scout Cookies for each of the two groups."
   ]
  },
  {
   "cell_type": "code",
   "execution_count": 5,
   "metadata": {},
   "outputs": [
    {
     "name": "stdout",
     "output_type": "stream",
     "text": [
      "30 24\n",
      "0.375 0.5333333333333333\n"
     ]
    }
   ],
   "source": [
    "from scipy.stats import binom\n",
    "x_1 = binom.rvs(80, 0.375, random_state = 80)\n",
    "x_2 =binom.rvs(45, 0.375, random_state = 45)\n",
    "print(x_1, x_2)\n",
    "\n",
    "p_1 = x_1 / 80\n",
    "p_2 = x_2 / 45\n",
    "print(p_1, p_2)"
   ]
  },
  {
   "cell_type": "markdown",
   "metadata": {},
   "source": [
    "**b)** Using this sample information, calculate the estimated common sample proportion under the null hypothesis."
   ]
  },
  {
   "cell_type": "code",
   "execution_count": 6,
   "metadata": {},
   "outputs": [
    {
     "data": {
      "text/plain": [
       "0.432"
      ]
     },
     "execution_count": 6,
     "metadata": {},
     "output_type": "execute_result"
    }
   ],
   "source": [
    "p_common = (x_1 + x_2) / (80 + 45)\n",
    "p_common"
   ]
  },
  {
   "cell_type": "markdown",
   "metadata": {},
   "source": [
    "**c)** Calculate the test statistic for your simulated samples."
   ]
  },
  {
   "cell_type": "code",
   "execution_count": 7,
   "metadata": {},
   "outputs": [
    {
     "data": {
      "text/plain": [
       "-1.7153492521523646"
      ]
     },
     "execution_count": 7,
     "metadata": {},
     "output_type": "execute_result"
    }
   ],
   "source": [
    "test_statistics = (p_1 - p_2) / np.sqrt(p_common * (1 - p_common) * (1/80 + 1/45))\n",
    "test_statistics"
   ]
  },
  {
   "cell_type": "markdown",
   "metadata": {},
   "source": [
    "**d)** Calculate the *p*-value for your sample data."
   ]
  },
  {
   "cell_type": "code",
   "execution_count": 8,
   "metadata": {},
   "outputs": [
    {
     "data": {
      "text/plain": [
       "0.08628121363245422"
      ]
     },
     "execution_count": 8,
     "metadata": {},
     "output_type": "execute_result"
    }
   ],
   "source": [
    "p_value = 2 * (1 - norm.cdf(abs(test_statistics)))\n",
    "p_value"
   ]
  },
  {
   "cell_type": "markdown",
   "metadata": {},
   "source": [
    "### 3. [2 pts] Sampling Distribution\n",
    "\n",
    "**a)** Now, instead of just a single sample, we want to understand the value of all possible test statistics.  Repeat the calculation from Question 2 1000 times, recording the value of the test statistic and the *p*-value for each set of random samples.  \n",
    "\n",
    "**Note: For this question, you do not need to record the sample proportions or the common sample proportion in your output.**"
   ]
  },
  {
   "cell_type": "code",
   "execution_count": 23,
   "metadata": {},
   "outputs": [],
   "source": [
    "data = []\n",
    "for i in range(10000):\n",
    "    x_1 = binom.rvs(80, 0.375)\n",
    "    x_2 =binom.rvs(45, 0.375)\n",
    "    p_1 = x_1 / 80\n",
    "    p_2 = x_2 / 45\n",
    "    p_common = (x_1 + x_2) / (80 + 45)\n",
    "    test_statistics = (p_1 - p_2) / np.sqrt(p_common * (1 - p_common) * (1/80 + 1/45))\n",
    "    p_value = 2 * (1 - norm.cdf(abs(test_statistics)))\n",
    "    d = {'test_statistics' : test_statistics, 'p_value': p_value}\n",
    "    data.append(d)\n",
    "df_simulation = pd.DataFrame(data)"
   ]
  },
  {
   "cell_type": "code",
   "execution_count": 24,
   "metadata": {},
   "outputs": [
    {
     "data": {
      "text/html": [
       "<div>\n",
       "<style scoped>\n",
       "    .dataframe tbody tr th:only-of-type {\n",
       "        vertical-align: middle;\n",
       "    }\n",
       "\n",
       "    .dataframe tbody tr th {\n",
       "        vertical-align: top;\n",
       "    }\n",
       "\n",
       "    .dataframe thead th {\n",
       "        text-align: right;\n",
       "    }\n",
       "</style>\n",
       "<table border=\"1\" class=\"dataframe\">\n",
       "  <thead>\n",
       "    <tr style=\"text-align: right;\">\n",
       "      <th></th>\n",
       "      <th>test_statistics</th>\n",
       "      <th>p_value</th>\n",
       "    </tr>\n",
       "  </thead>\n",
       "  <tbody>\n",
       "    <tr>\n",
       "      <th>0</th>\n",
       "      <td>-1.240008</td>\n",
       "      <td>0.214972</td>\n",
       "    </tr>\n",
       "    <tr>\n",
       "      <th>1</th>\n",
       "      <td>-0.275855</td>\n",
       "      <td>0.782660</td>\n",
       "    </tr>\n",
       "    <tr>\n",
       "      <th>2</th>\n",
       "      <td>-0.689466</td>\n",
       "      <td>0.490530</td>\n",
       "    </tr>\n",
       "    <tr>\n",
       "      <th>3</th>\n",
       "      <td>-0.095256</td>\n",
       "      <td>0.924111</td>\n",
       "    </tr>\n",
       "    <tr>\n",
       "      <th>4</th>\n",
       "      <td>0.301645</td>\n",
       "      <td>0.762923</td>\n",
       "    </tr>\n",
       "    <tr>\n",
       "      <th>...</th>\n",
       "      <td>...</td>\n",
       "      <td>...</td>\n",
       "    </tr>\n",
       "    <tr>\n",
       "      <th>9995</th>\n",
       "      <td>-0.310565</td>\n",
       "      <td>0.756131</td>\n",
       "    </tr>\n",
       "    <tr>\n",
       "      <th>9996</th>\n",
       "      <td>-0.596233</td>\n",
       "      <td>0.551019</td>\n",
       "    </tr>\n",
       "    <tr>\n",
       "      <th>9997</th>\n",
       "      <td>1.630466</td>\n",
       "      <td>0.103003</td>\n",
       "    </tr>\n",
       "    <tr>\n",
       "      <th>9998</th>\n",
       "      <td>-0.788294</td>\n",
       "      <td>0.430525</td>\n",
       "    </tr>\n",
       "    <tr>\n",
       "      <th>9999</th>\n",
       "      <td>0.380363</td>\n",
       "      <td>0.703676</td>\n",
       "    </tr>\n",
       "  </tbody>\n",
       "</table>\n",
       "<p>10000 rows × 2 columns</p>\n",
       "</div>"
      ],
      "text/plain": [
       "      test_statistics   p_value\n",
       "0           -1.240008  0.214972\n",
       "1           -0.275855  0.782660\n",
       "2           -0.689466  0.490530\n",
       "3           -0.095256  0.924111\n",
       "4            0.301645  0.762923\n",
       "...               ...       ...\n",
       "9995        -0.310565  0.756131\n",
       "9996        -0.596233  0.551019\n",
       "9997         1.630466  0.103003\n",
       "9998        -0.788294  0.430525\n",
       "9999         0.380363  0.703676\n",
       "\n",
       "[10000 rows x 2 columns]"
      ]
     },
     "execution_count": 24,
     "metadata": {},
     "output_type": "execute_result"
    }
   ],
   "source": [
    "df_simulation"
   ]
  },
  {
   "cell_type": "markdown",
   "metadata": {},
   "source": [
    "**b)** Using the data generated in Question 3a, generate a histogram for the simulated test statistics."
   ]
  },
  {
   "cell_type": "code",
   "execution_count": 25,
   "metadata": {},
   "outputs": [
    {
     "data": {
      "text/plain": [
       "<AxesSubplot: >"
      ]
     },
     "execution_count": 25,
     "metadata": {},
     "output_type": "execute_result"
    },
    {
     "data": {
      "image/png": "[encoded data removed]",
      "text/plain": [
       "<Figure size 640x480 with 1 Axes>"
      ]
     },
     "metadata": {},
     "output_type": "display_data"
    }
   ],
   "source": [
    "df_simulation['test_statistics'].hist()"
   ]
  },
  {
   "cell_type": "markdown",
   "metadata": {},
   "source": [
    "**c)** Using the data generated in Question 3a, generate a histogram for the simulated *p*-values."
   ]
  },
  {
   "cell_type": "code",
   "execution_count": 26,
   "metadata": {},
   "outputs": [
    {
     "data": {
      "text/plain": [
       "<AxesSubplot: >"
      ]
     },
     "execution_count": 26,
     "metadata": {},
     "output_type": "execute_result"
    },
    {
     "data": {
      "image/png": "[encoded data removed]",
      "text/plain": [
       "<Figure size 640x480 with 1 Axes>"
      ]
     },
     "metadata": {},
     "output_type": "display_data"
    }
   ],
   "source": [
    "df_simulation.p_value.hist()"
   ]
  },
  {
   "cell_type": "markdown",
   "metadata": {},
   "source": [
    "**d)** Describe the shape of the distribution for the simulated test statistics and of the distribution for the simulated *p*-values."
   ]
  },
  {
   "cell_type": "markdown",
   "metadata": {},
   "source": [
    "The shape of distribution of test statistics is close to normal.\n",
    "\n",
    "The shape of distribution of p_values is close to uniform."
   ]
  },
  {
   "cell_type": "markdown",
   "metadata": {},
   "source": [
    "### 4. [1 pt] Significance Level\n",
    "\n",
    "Our significance level is the proportion of times that we would reject the null hypothesis if the null hypothesis is really true.  In other words, it's the probability of making a specific kind of mistake when performing a hypothesis test.\n",
    "\n",
    "We have assumed the null hypothesis is true when generating our random samples, so we have met that condition from our definition of the significance level.\n",
    "\n",
    "We'll consider two different significance levels: $\\alpha = 0.2$ and $\\alpha = 0.05$.\n",
    "\n",
    "Using the simulated p-values from Question 3, what proportion of the time would we decide to reject the null hypothesis at a significance level of 0.2?  What about for a significance level of 0.05?"
   ]
  },
  {
   "cell_type": "code",
   "execution_count": 27,
   "metadata": {},
   "outputs": [
    {
     "data": {
      "text/plain": [
       "0.2048"
      ]
     },
     "execution_count": 27,
     "metadata": {},
     "output_type": "execute_result"
    }
   ],
   "source": [
    "(df_simulation.p_value <= 0.2).mean()"
   ]
  },
  {
   "cell_type": "code",
   "execution_count": 28,
   "metadata": {},
   "outputs": [
    {
     "data": {
      "text/plain": [
       "0.0497"
      ]
     },
     "execution_count": 28,
     "metadata": {},
     "output_type": "execute_result"
    }
   ],
   "source": [
    "(df_simulation.p_value <= 0.05).mean()"
   ]
  },
  {
   "attachments": {},
   "cell_type": "markdown",
   "metadata": {},
   "source": [
    "Because the hypothesis is true, we find that about 20% of our samples will have p-value less than or equal to 0.2 and about 5% of our sample will have a p-value less than or equal to 0.05. This is expected based on the definition of significance level."
   ]
  },
  {
   "cell_type": "markdown",
   "metadata": {},
   "source": [
    "<hr>\n",
    "\n",
    "## <u>Case Study 2</u>: Revisiting Groundhog Day\n",
    "\n",
    "Recall that we previously explored the results of Groundhog Day, where tradition claims that weather in February and March is influenced by whether a groundhog named Phil sees his shadow in Pennsylvania.  In Homework 4, we explored how the temperatures in the Midwest varied based on whether Phil saw his shadow descriptively.  Now, we'll consider what we can say about the behavior of possible average temperatures using the principles of statistical inference.\n",
    "\n",
    "Specifically, we'll use the variables Phil, which records the results of Phil's experiment, and February Average Temperature to assess if there is evidence that supports that Phil's results are accurate as measured by February Average Temperatures.\n",
    "\n",
    "### 5. [2.5 pts] Simulated Sampling Distributions\n",
    "\n",
    "Rather than rely on traditional hypothesis testing approaches (where the distributional assumptions may not be met), we'll rely on simulations through a resampling approach in order to generate a sampling distribution for our test statistic if the null hypothesis of no difference between the population parameters is correct, or if the tradition is correct (that the mean of the average February temperature when Phil sees his shadow (full shadow) is less than the mean of the average February temperature when Phil doesn't see his shadow (no shadow)). \n",
    "\n",
    "**a)** First, read in the cleaned version of the groundhog data."
   ]
  },
  {
   "cell_type": "code",
   "execution_count": 29,
   "metadata": {},
   "outputs": [
    {
     "data": {
      "text/plain": [
       "(115, 10)"
      ]
     },
     "execution_count": 29,
     "metadata": {},
     "output_type": "execute_result"
    }
   ],
   "source": [
    "df = pd.read_csv(\"groundhog_cleaned.csv\")\n",
    "df.shape"
   ]
  },
  {
   "cell_type": "code",
   "execution_count": 30,
   "metadata": {},
   "outputs": [
    {
     "data": {
      "text/html": [
       "<div>\n",
       "<style scoped>\n",
       "    .dataframe tbody tr th:only-of-type {\n",
       "        vertical-align: middle;\n",
       "    }\n",
       "\n",
       "    .dataframe tbody tr th {\n",
       "        vertical-align: top;\n",
       "    }\n",
       "\n",
       "    .dataframe thead th {\n",
       "        text-align: right;\n",
       "    }\n",
       "</style>\n",
       "<table border=\"1\" class=\"dataframe\">\n",
       "  <thead>\n",
       "    <tr style=\"text-align: right;\">\n",
       "      <th></th>\n",
       "      <th>Year</th>\n",
       "      <th>Phil</th>\n",
       "      <th>February Average Temperature</th>\n",
       "      <th>February Average Temperature (Northeast)</th>\n",
       "      <th>February Average Temperature (Midwest)</th>\n",
       "      <th>February Average Temperature (Pennsylvania)</th>\n",
       "      <th>March Average Temperature</th>\n",
       "      <th>March Average Temperature (Northeast)</th>\n",
       "      <th>March Average Temperature (Midwest)</th>\n",
       "      <th>March Average Temperature (Pennsylvania)</th>\n",
       "    </tr>\n",
       "  </thead>\n",
       "  <tbody>\n",
       "    <tr>\n",
       "      <th>0</th>\n",
       "      <td>1898</td>\n",
       "      <td>Full Shadow</td>\n",
       "      <td>35.37</td>\n",
       "      <td>24.8</td>\n",
       "      <td>33.3</td>\n",
       "      <td>26.7</td>\n",
       "      <td>41.05</td>\n",
       "      <td>38.0</td>\n",
       "      <td>46.0</td>\n",
       "      <td>42.0</td>\n",
       "    </tr>\n",
       "    <tr>\n",
       "      <th>1</th>\n",
       "      <td>1900</td>\n",
       "      <td>Full Shadow</td>\n",
       "      <td>30.76</td>\n",
       "      <td>21.4</td>\n",
       "      <td>27.5</td>\n",
       "      <td>24.1</td>\n",
       "      <td>41.27</td>\n",
       "      <td>26.0</td>\n",
       "      <td>37.9</td>\n",
       "      <td>29.3</td>\n",
       "    </tr>\n",
       "    <tr>\n",
       "      <th>2</th>\n",
       "      <td>1901</td>\n",
       "      <td>Full Shadow</td>\n",
       "      <td>29.86</td>\n",
       "      <td>16.0</td>\n",
       "      <td>26.2</td>\n",
       "      <td>18.9</td>\n",
       "      <td>40.71</td>\n",
       "      <td>30.8</td>\n",
       "      <td>41.9</td>\n",
       "      <td>35.1</td>\n",
       "    </tr>\n",
       "    <tr>\n",
       "      <th>3</th>\n",
       "      <td>1903</td>\n",
       "      <td>Full Shadow</td>\n",
       "      <td>28.42</td>\n",
       "      <td>24.5</td>\n",
       "      <td>31.3</td>\n",
       "      <td>28.0</td>\n",
       "      <td>42.21</td>\n",
       "      <td>40.4</td>\n",
       "      <td>47.7</td>\n",
       "      <td>44.5</td>\n",
       "    </tr>\n",
       "    <tr>\n",
       "      <th>4</th>\n",
       "      <td>1904</td>\n",
       "      <td>Full Shadow</td>\n",
       "      <td>31.59</td>\n",
       "      <td>15.0</td>\n",
       "      <td>28.2</td>\n",
       "      <td>19.2</td>\n",
       "      <td>41.76</td>\n",
       "      <td>29.8</td>\n",
       "      <td>42.8</td>\n",
       "      <td>34.0</td>\n",
       "    </tr>\n",
       "  </tbody>\n",
       "</table>\n",
       "</div>"
      ],
      "text/plain": [
       "   Year         Phil  February Average Temperature  \\\n",
       "0  1898  Full Shadow                         35.37   \n",
       "1  1900  Full Shadow                         30.76   \n",
       "2  1901  Full Shadow                         29.86   \n",
       "3  1903  Full Shadow                         28.42   \n",
       "4  1904  Full Shadow                         31.59   \n",
       "\n",
       "   February Average Temperature (Northeast)  \\\n",
       "0                                      24.8   \n",
       "1                                      21.4   \n",
       "2                                      16.0   \n",
       "3                                      24.5   \n",
       "4                                      15.0   \n",
       "\n",
       "   February Average Temperature (Midwest)  \\\n",
       "0                                    33.3   \n",
       "1                                    27.5   \n",
       "2                                    26.2   \n",
       "3                                    31.3   \n",
       "4                                    28.2   \n",
       "\n",
       "   February Average Temperature (Pennsylvania)  March Average Temperature  \\\n",
       "0                                         26.7                      41.05   \n",
       "1                                         24.1                      41.27   \n",
       "2                                         18.9                      40.71   \n",
       "3                                         28.0                      42.21   \n",
       "4                                         19.2                      41.76   \n",
       "\n",
       "   March Average Temperature (Northeast)  March Average Temperature (Midwest)  \\\n",
       "0                                   38.0                                 46.0   \n",
       "1                                   26.0                                 37.9   \n",
       "2                                   30.8                                 41.9   \n",
       "3                                   40.4                                 47.7   \n",
       "4                                   29.8                                 42.8   \n",
       "\n",
       "   March Average Temperature (Pennsylvania)  \n",
       "0                                      42.0  \n",
       "1                                      29.3  \n",
       "2                                      35.1  \n",
       "3                                      44.5  \n",
       "4                                      34.0  "
      ]
     },
     "execution_count": 30,
     "metadata": {},
     "output_type": "execute_result"
    }
   ],
   "source": [
    "df.head()"
   ]
  },
  {
   "cell_type": "markdown",
   "metadata": {},
   "source": [
    "**b)** We'll use simulation to perform a resampling approach to hypothesis testing.  In essence, we will reshuffle whether Phil saw his shadow or not for each year.\n",
    "\n",
    "To do this, \n",
    "- Sample the results of Phil's experiment without replacement.  Use a sample size equal to the full sample size.  Be sure to ignore the original indices.  \n",
    "- Create a new data frame that combines your reshuffled results of Phil with the original temperatures (in their original order).\n",
    "- Calculate the difference in the means of the average February temperatures (full shadow minus no shadow).  Record this value.\n",
    "- Repeat this process 300 times."
   ]
  },
  {
   "cell_type": "code",
   "execution_count": 135,
   "metadata": {},
   "outputs": [
    {
     "data": {
      "text/html": [
       "<div>\n",
       "<style scoped>\n",
       "    .dataframe tbody tr th:only-of-type {\n",
       "        vertical-align: middle;\n",
       "    }\n",
       "\n",
       "    .dataframe tbody tr th {\n",
       "        vertical-align: top;\n",
       "    }\n",
       "\n",
       "    .dataframe thead th {\n",
       "        text-align: right;\n",
       "    }\n",
       "</style>\n",
       "<table border=\"1\" class=\"dataframe\">\n",
       "  <thead>\n",
       "    <tr style=\"text-align: right;\">\n",
       "      <th></th>\n",
       "      <th>result</th>\n",
       "      <th>temp</th>\n",
       "    </tr>\n",
       "  </thead>\n",
       "  <tbody>\n",
       "    <tr>\n",
       "      <th>0</th>\n",
       "      <td>Full Shadow</td>\n",
       "      <td>35.37</td>\n",
       "    </tr>\n",
       "    <tr>\n",
       "      <th>1</th>\n",
       "      <td>Full Shadow</td>\n",
       "      <td>30.76</td>\n",
       "    </tr>\n",
       "    <tr>\n",
       "      <th>2</th>\n",
       "      <td>Full Shadow</td>\n",
       "      <td>29.86</td>\n",
       "    </tr>\n",
       "    <tr>\n",
       "      <th>3</th>\n",
       "      <td>Full Shadow</td>\n",
       "      <td>28.42</td>\n",
       "    </tr>\n",
       "    <tr>\n",
       "      <th>4</th>\n",
       "      <td>Full Shadow</td>\n",
       "      <td>31.59</td>\n",
       "    </tr>\n",
       "  </tbody>\n",
       "</table>\n",
       "</div>"
      ],
      "text/plain": [
       "        result   temp\n",
       "0  Full Shadow  35.37\n",
       "1  Full Shadow  30.76\n",
       "2  Full Shadow  29.86\n",
       "3  Full Shadow  28.42\n",
       "4  Full Shadow  31.59"
      ]
     },
     "metadata": {},
     "output_type": "display_data"
    },
    {
     "name": "stdout",
     "output_type": "stream",
     "text": [
      "Mean Difference: -0.047733333333333405\n"
     ]
    }
   ],
   "source": [
    "# Do it once\n",
    "shuffled_sample = df.Phil.sample(115, replace = False, ignore_index=True) # 数据还是原来的，但是顺序打乱\n",
    "feb_temp = df['February Average Temperature']\n",
    "reshuffled_df = pd.DataFrame({\"result\":shuffled_sample, 'temp' : feb_temp}) # 重构\n",
    "display(reshuffled_df.head())\n",
    "\n",
    "\n",
    "print('Mean Difference:', reshuffled_df[reshuffled_df.result == 'Full Shadow'].temp.mean() - reshuffled_df[reshuffled_df.result == 'No Shadow'].temp.mean())\n"
   ]
  },
  {
   "cell_type": "code",
   "execution_count": 130,
   "metadata": {},
   "outputs": [],
   "source": [
    "# Do it 300 times\n",
    "data = []\n",
    "for i in range(300):\n",
    "    shuffled_sample = df.Phil.sample(115, replace = False, ignore_index=True)\n",
    "    reshuffled_df = pd.DataFrame({\"result\":shuffled_sample, 'temp' : feb_temp})\n",
    "    new_df_full = reshuffled_df[reshuffled_df.result == 'Full Shadow']\n",
    "    new_df_no = reshuffled_df[reshuffled_df.result == 'No Shadow']\n",
    "    mean_diff = new_df_full.temp.mean() - new_df_no.temp.mean()\n",
    "    d = {'mean_diff':mean_diff}\n",
    "    data.append(d)\n",
    "\n",
    "diff_simulation = pd.DataFrame(data)"
   ]
  },
  {
   "cell_type": "code",
   "execution_count": 131,
   "metadata": {},
   "outputs": [
    {
     "data": {
      "text/html": [
       "<div>\n",
       "<style scoped>\n",
       "    .dataframe tbody tr th:only-of-type {\n",
       "        vertical-align: middle;\n",
       "    }\n",
       "\n",
       "    .dataframe tbody tr th {\n",
       "        vertical-align: top;\n",
       "    }\n",
       "\n",
       "    .dataframe thead th {\n",
       "        text-align: right;\n",
       "    }\n",
       "</style>\n",
       "<table border=\"1\" class=\"dataframe\">\n",
       "  <thead>\n",
       "    <tr style=\"text-align: right;\">\n",
       "      <th></th>\n",
       "      <th>mean_diff</th>\n",
       "    </tr>\n",
       "  </thead>\n",
       "  <tbody>\n",
       "    <tr>\n",
       "      <th>0</th>\n",
       "      <td>-0.335233</td>\n",
       "    </tr>\n",
       "    <tr>\n",
       "      <th>1</th>\n",
       "      <td>0.064967</td>\n",
       "    </tr>\n",
       "    <tr>\n",
       "      <th>2</th>\n",
       "      <td>-0.980000</td>\n",
       "    </tr>\n",
       "    <tr>\n",
       "      <th>3</th>\n",
       "      <td>1.316167</td>\n",
       "    </tr>\n",
       "    <tr>\n",
       "      <th>4</th>\n",
       "      <td>-0.674867</td>\n",
       "    </tr>\n",
       "  </tbody>\n",
       "</table>\n",
       "</div>"
      ],
      "text/plain": [
       "   mean_diff\n",
       "0  -0.335233\n",
       "1   0.064967\n",
       "2  -0.980000\n",
       "3   1.316167\n",
       "4  -0.674867"
      ]
     },
     "execution_count": 131,
     "metadata": {},
     "output_type": "execute_result"
    }
   ],
   "source": [
    "diff_simulation.head()"
   ]
  },
  {
   "cell_type": "markdown",
   "metadata": {},
   "source": [
    "### 6. [1.5 pts] Evaluating Your Sample\n",
    "\n",
    "**a)** Calculate your observed sample statistic.  This would be the observed difference in the means of the average February temperatures (full shadow minus no shadow)."
   ]
  },
  {
   "cell_type": "code",
   "execution_count": 132,
   "metadata": {},
   "outputs": [
    {
     "data": {
      "text/plain": [
       "-1.8654999999999973"
      ]
     },
     "execution_count": 132,
     "metadata": {},
     "output_type": "execute_result"
    }
   ],
   "source": [
    "# Observed sample statistic，即原数据\n",
    "obs_no_shadow = df[df.Phil == \"No Shadow\"]\n",
    "obs_full_shadow = df[df.Phil == 'Full Shadow']\n",
    "obs_diff = obs_full_shadow['February Average Temperature'].mean() - obs_no_shadow['February Average Temperature'].mean()\n",
    "obs_diff"
   ]
  },
  {
   "cell_type": "markdown",
   "metadata": {},
   "source": [
    "**b)** Using your simulated sampling distribution from Question 5b, determine how often you would get an observed statistic as extreme or more extreme than what we observed. "
   ]
  },
  {
   "cell_type": "code",
   "execution_count": 133,
   "metadata": {},
   "outputs": [
    {
     "data": {
      "text/plain": [
       "0.006666666666666667"
      ]
     },
     "execution_count": 133,
     "metadata": {},
     "output_type": "execute_result"
    }
   ],
   "source": [
    "(diff_simulation['mean_diff'] <= obs_diff).mean()"
   ]
  },
  {
   "cell_type": "markdown",
   "metadata": {},
   "source": [
    "**c)** What does this tell you about the original tradition of Groundhog Day?"
   ]
  },
  {
   "attachments": {},
   "cell_type": "markdown",
   "metadata": {},
   "source": [
    "Only in about 0.6% of reshuffled samples did I get the observed difference. This means that the event with very low probability occurs assuming our null hypothesis is true.\n",
    "\n",
    "Therefore, it indicates that we have a strong evidence to reject the null hypothesis. |"
   ]
  }
 ],
 "metadata": {
  "kernelspec": {
   "display_name": "Python 3 (ipykernel)",
   "language": "python",
   "name": "python3"
  },
  "language_info": {
   "codemirror_mode": {
    "name": "ipython",
    "version": 3
   },
   "file_extension": ".py",
   "mimetype": "text/x-python",
   "name": "python",
   "nbconvert_exporter": "python",
   "pygments_lexer": "ipython3",
   "version": "3.10.6"
  }
 },
 "nbformat": 4,
 "nbformat_minor": 2
}
