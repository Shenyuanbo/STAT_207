{
 "cells": [
  {
   "cell_type": "markdown",
   "metadata": {},
   "source": [
    "# STAT 207 Group Lab Assignment 9 - [10 total points]\n",
    "\n",
    "## Simple Linear Regression"
   ]
  },
  {
   "cell_type": "markdown",
   "metadata": {},
   "source": [
    "Due: Wednesday, April 5, 11:59pm CST\n",
    "\n",
    "No Late Submissions Accepted\n",
    "\n",
    "<hr>\n"
   ]
  },
  {
   "cell_type": "markdown",
   "metadata": {},
   "source": [
    "## <u>Purpose</u>:\n",
    "You should work in groups of 2-3 on this report. The purpose of this group lab assignment is to explore regression, both descriptively and with inference.\n",
    "<hr>"
   ]
  },
  {
   "cell_type": "markdown",
   "metadata": {},
   "source": [
    "## <u>Assignment Instructions</u>:\n"
   ]
  },
  {
   "cell_type": "markdown",
   "metadata": {},
   "source": [
    "### Contribution Report\n",
    "These contribution reports should be included in all group lab assignments. In this contribution report below you should list of the following:\n",
    "1. The netID for the lab submission to be graded.  (Some groups have each member create their own version of the document, but only one needs to be submitted for grading.  Other groups have only one member compose and submit the lab.)\n",
    "2. Names and netIDs of each team member.\n",
    "3. Contributions of each team member to report.\n",
    "\n",
    "*For example:*\n",
    "\n",
    "*<u>Teammates:</u>*\n",
    "\n",
    "*doe105 should be graded.  John Smith (smith92) & Jane Doe (doe105) worked together on all parts of this lab assignment*, \n",
    "\n",
    "OR\n",
    "\n",
    "*doe105 should be graded*\n",
    "\n",
    "*1. John Smith (smith92): did number 1,2 and 3*\n",
    "\n",
    "*2. Jane Doe (doe105): did number 4, and 5*"
   ]
  },
  {
   "cell_type": "markdown",
   "metadata": {},
   "source": [
    "Advait Renduchintala (advaitr3) should be graded.\n",
    "1. Yuanbo Shen(yuanbo3)\n",
    "2. Advait Renduchintala (advaitr3)\n",
    "3. Damian Makowski (damianm4)"
   ]
  },
  {
   "cell_type": "markdown",
   "metadata": {},
   "source": [
    "### Group Roles\n",
    "\n",
    "You are expected to work in groups of 2-3 on this report.  Since you are working in groups, you may find it helpful to have specified roles.  Below, I provide roles that can be used for groups of 2 and for groups of 3.  I encourage you to switch roles within this lab report, as possible.  I also encourage you to switch roles for each subsequent lab, as possible, based on your group membership.  You may have established a different process for completing labs in the first few labs, and you can continue to use this process if you've found it to be effective.\n",
    "\n",
    "#### Groups of 2\n",
    "\n",
    "* **Driver**: This student will type the report.  While typing the report, you may be the one who is selecting the functions to apply to the data.\n",
    "* **Navigator**: This student will guide the process of answering the question.  Specific ways to help may include: outlining the general steps needed to solve a question (providing the overview), locating examples within the course notes, and reviewing each line of code as it is typed.\n",
    "\n",
    "#### Groups of 3\n",
    "\n",
    "* **Driver**: This student will type the report.  They may also be the one to select the functions to apply to the data.\n",
    "* **Navigator**: This student will guide the process of answering the question.  They may select the general approach to answering the question and/or a few steps to be completed along the way. \n",
    "* **Communicator**: This student will review the report (as it is typed) to ensure that it is clear and concise.  This student may also locate relevant examples within the course notes that may help complete the assignment.\n",
    "\n",
    "<hr>\n",
    "\n",
    "### Imports"
   ]
  },
  {
   "cell_type": "code",
   "execution_count": 1,
   "metadata": {},
   "outputs": [],
   "source": [
    "import pandas as pd\n",
    "import numpy as np\n",
    "import matplotlib.pyplot as plt\n",
    "import seaborn as sns; sns.set()\n",
    "from scipy.stats import t\n",
    "import statsmodels.api as sm\n",
    "import statsmodels.formula.api as smf"
   ]
  },
  {
   "cell_type": "markdown",
   "metadata": {},
   "source": [
    "<hr>\n",
    "\n",
    "## <u>Part 1</u>: Concept-Based Questions\n",
    "\n",
    "### 1. [1 pt] Guess the Correlation Game\n",
    "\n",
    "As a team, play the game on this website (http://guessthecorrelation.com/) and get at least 20 coins (as shown below). The point of the game is to accurately guess the correlation coefficients $r$ of the scatterplots that they show you. Once you have earned 20 coins, take a screenshot of the screen and save it as an image in the folder that this ipynb file is saved in (ie. the one that you will push to your Github repository.)\n",
    "\n",
    "\n",
    "![title](game_20.png)\n",
    "\n",
    "\n",
    "### 2. [2 pts] Name That Scenario: Mail Time\n",
    "\n",
    "We've seen many different scenarios, so let's practice identifying our parameter of interest.  Write the appropriate symbol for the parameter of interest for each of the following inference procedures.  While not required, you may also think about what type of inference procedure (confidence interval or hypothesis test) would be most appropriate.\n",
    "\n",
    "**a)** A dorm manager would like to estimate the percentage of all mail items received at the dorm that are considered packages, defined as an item that cannot fit in the dorm mailbox."
   ]
  },
  {
   "cell_type": "markdown",
   "metadata": {},
   "source": [
    "$p$, the proportion of all mail items recerived at the dorm that are considerence."
   ]
  },
  {
   "cell_type": "markdown",
   "metadata": {},
   "source": [
    "**b)** A FedEx warehouse manager would like to assess if the average number of packages sent from online retailers to a neighborhood in Champaign is greater than the average number of packages sent from online retailers to a neighborhood in Urbana."
   ]
  },
  {
   "cell_type": "markdown",
   "metadata": {},
   "source": [
    "$\\mu_1 - \\mu_2$, the difference between the average number of packages sent from online retailers in Champaign between the average number of packages sent from online retailers to a neighborhood in Urbana"
   ]
  },
  {
   "cell_type": "markdown",
   "metadata": {},
   "source": [
    "**c)** A bakery sells many products, including cookies & cakes.  The bakery offers both shipping and store pick-up on the products.  The bakery manager would like to estimate the difference in store pick-up rates between all cookies and all cakes sold by the bakery."
   ]
  },
  {
   "cell_type": "markdown",
   "metadata": {},
   "source": [
    "$p_1 - p_2$"
   ]
  },
  {
   "cell_type": "markdown",
   "metadata": {},
   "source": [
    "**d)** How long does mail delivery take?  In a review of a mail delivery company, the reviewers would like to examine if there is an association between the weight of the package and the delivery time (the time for the package from pickup to delivery)."
   ]
  },
  {
   "cell_type": "markdown",
   "metadata": {},
   "source": [
    "$\\beta$"
   ]
  },
  {
   "cell_type": "markdown",
   "metadata": {},
   "source": [
    "## <u>Part 2</u>: Instagram Dataset Analysis\n",
    "\n",
    "For this part, we will return to the Instagram data example.  \n",
    "\n",
    "### 3. [3 points] Summarizing a Relationship\n",
    "\n",
    "**a)** Read in the *pre-cleaned* Instagram dataset in this folder (ie. fake_insta_cleaned.csv).  Pick two numerical variables that you are interested in learning more about.  (Note: you should not use the combination of number of follows and number of followers, which are used in Case Study 2 of Homework 9.)  \n",
    "\n",
    "Create a scatterplot of these two numerical variables, and add a best fit line.  Be sure to include appropriate axis and main titles."
   ]
  },
  {
   "cell_type": "code",
   "execution_count": 5,
   "metadata": {},
   "outputs": [
    {
     "data": {
      "text/plain": [
       "(112, 7)"
      ]
     },
     "execution_count": 5,
     "metadata": {},
     "output_type": "execute_result"
    }
   ],
   "source": [
    "df = pd.read_csv('fake_insta_cleaned.csv')\n",
    "df.shape"
   ]
  },
  {
   "cell_type": "code",
   "execution_count": 9,
   "metadata": {},
   "outputs": [
    {
     "data": {
      "text/html": [
       "<div>\n",
       "<style scoped>\n",
       "    .dataframe tbody tr th:only-of-type {\n",
       "        vertical-align: middle;\n",
       "    }\n",
       "\n",
       "    .dataframe tbody tr th {\n",
       "        vertical-align: top;\n",
       "    }\n",
       "\n",
       "    .dataframe thead th {\n",
       "        text-align: right;\n",
       "    }\n",
       "</style>\n",
       "<table border=\"1\" class=\"dataframe\">\n",
       "  <thead>\n",
       "    <tr style=\"text-align: right;\">\n",
       "      <th></th>\n",
       "      <th>has_a_profile_pic</th>\n",
       "      <th>number_of_words_in_name</th>\n",
       "      <th>num_characters_in_bio</th>\n",
       "      <th>number_of_posts</th>\n",
       "      <th>number_of_followers</th>\n",
       "      <th>number_of_follows</th>\n",
       "      <th>account_type</th>\n",
       "    </tr>\n",
       "  </thead>\n",
       "  <tbody>\n",
       "    <tr>\n",
       "      <th>0</th>\n",
       "      <td>yes</td>\n",
       "      <td>1</td>\n",
       "      <td>30</td>\n",
       "      <td>35</td>\n",
       "      <td>488</td>\n",
       "      <td>604</td>\n",
       "      <td>real</td>\n",
       "    </tr>\n",
       "    <tr>\n",
       "      <th>1</th>\n",
       "      <td>yes</td>\n",
       "      <td>5</td>\n",
       "      <td>64</td>\n",
       "      <td>3</td>\n",
       "      <td>35</td>\n",
       "      <td>6</td>\n",
       "      <td>real</td>\n",
       "    </tr>\n",
       "    <tr>\n",
       "      <th>2</th>\n",
       "      <td>yes</td>\n",
       "      <td>2</td>\n",
       "      <td>82</td>\n",
       "      <td>319</td>\n",
       "      <td>328</td>\n",
       "      <td>668</td>\n",
       "      <td>real</td>\n",
       "    </tr>\n",
       "    <tr>\n",
       "      <th>3</th>\n",
       "      <td>yes</td>\n",
       "      <td>1</td>\n",
       "      <td>76</td>\n",
       "      <td>6</td>\n",
       "      <td>225</td>\n",
       "      <td>356</td>\n",
       "      <td>real</td>\n",
       "    </tr>\n",
       "    <tr>\n",
       "      <th>4</th>\n",
       "      <td>yes</td>\n",
       "      <td>1</td>\n",
       "      <td>0</td>\n",
       "      <td>6</td>\n",
       "      <td>362</td>\n",
       "      <td>424</td>\n",
       "      <td>real</td>\n",
       "    </tr>\n",
       "  </tbody>\n",
       "</table>\n",
       "</div>"
      ],
      "text/plain": [
       "  has_a_profile_pic  number_of_words_in_name  num_characters_in_bio  \\\n",
       "0               yes                        1                     30   \n",
       "1               yes                        5                     64   \n",
       "2               yes                        2                     82   \n",
       "3               yes                        1                     76   \n",
       "4               yes                        1                      0   \n",
       "\n",
       "   number_of_posts  number_of_followers  number_of_follows account_type  \n",
       "0               35                  488                604         real  \n",
       "1                3                   35                  6         real  \n",
       "2              319                  328                668         real  \n",
       "3                6                  225                356         real  \n",
       "4                6                  362                424         real  "
      ]
     },
     "execution_count": 9,
     "metadata": {},
     "output_type": "execute_result"
    }
   ],
   "source": [
    "df.head()"
   ]
  },
  {
   "cell_type": "code",
   "execution_count": 14,
   "metadata": {},
   "outputs": [
    {
     "data": {
      "image/png": "[encoded data removed]",
      "text/plain": [
       "<Figure size 640x480 with 1 Axes>"
      ]
     },
     "metadata": {},
     "output_type": "display_data"
    }
   ],
   "source": [
    "# number_of_posts & number_of_followers\n",
    "sns.regplot(x = df.number_of_posts, y = df.number_of_followers, data=df, ci = False)\n",
    "plt.show()"
   ]
  },
  {
   "cell_type": "markdown",
   "metadata": {},
   "source": [
    "**b)** In your scatterplot, you selected one variable to plot on the x-axis and one variable to plot on the y-axis.  Explain how you made this decision."
   ]
  },
  {
   "cell_type": "markdown",
   "metadata": {},
   "source": [
    "We want to see whether more posts will cause more followers."
   ]
  },
  {
   "cell_type": "markdown",
   "metadata": {},
   "source": [
    "**c)** Describe the scatterplot."
   ]
  },
  {
   "cell_type": "markdown",
   "metadata": {},
   "source": [
    "The form is not very linear. It's more like a cluster.\n",
    "\n",
    "There are several obvious outliers, that may be the fake account.\n",
    "\n",
    "The strength of relation is weak.\n",
    "\n",
    "Still it's positive, though it's weak."
   ]
  },
  {
   "cell_type": "markdown",
   "metadata": {},
   "source": [
    "**d)** Is it appropriate to use the best fit line to summarize/model the data?"
   ]
  },
  {
   "cell_type": "markdown",
   "metadata": {},
   "source": []
  },
  {
   "cell_type": "markdown",
   "metadata": {},
   "source": [
    "### 4. [4 pts] Performing Inference\n",
    "\n",
    "Next, we will assume that this dataset of Instagram accounts is a random sample of ALL Instagram accounts. We would like to learn more about the relationship between the two variables that you selected in Question 3 for ALL Instagram accounts. Specifically, we would like to determine if we have sufficient evidence to suggest that there is a linear relationship between these numerical variables *for all Instagram accounts*. More specifically, we would like to test if we have sufficient evidence to suggest that slope of the simple linear regression model is non-zero.\n",
    "\n",
    "**To do this, we will create a 90% confidence interval for this population slope.**\n",
    "\n",
    "**a)** Construct the 90% confidence interval below."
   ]
  },
  {
   "cell_type": "code",
   "execution_count": 20,
   "metadata": {},
   "outputs": [],
   "source": [
    "model = smf.ols('df.number_of_followers ~ df.number_of_posts', df).fit()"
   ]
  },
  {
   "cell_type": "code",
   "execution_count": 21,
   "metadata": {},
   "outputs": [
    {
     "data": {
      "text/html": [
       "<table class=\"simpletable\">\n",
       "<caption>OLS Regression Results</caption>\n",
       "<tr>\n",
       "  <th>Dep. Variable:</th>    <td>df.number_of_followers</td> <th>  R-squared:         </th> <td>   0.099</td>\n",
       "</tr>\n",
       "<tr>\n",
       "  <th>Model:</th>                      <td>OLS</td>          <th>  Adj. R-squared:    </th> <td>   0.091</td>\n",
       "</tr>\n",
       "<tr>\n",
       "  <th>Method:</th>                <td>Least Squares</td>     <th>  F-statistic:       </th> <td>   12.10</td>\n",
       "</tr>\n",
       "<tr>\n",
       "  <th>Date:</th>                <td>Wed, 29 Mar 2023</td>    <th>  Prob (F-statistic):</th> <td>0.000724</td>\n",
       "</tr>\n",
       "<tr>\n",
       "  <th>Time:</th>                    <td>17:51:42</td>        <th>  Log-Likelihood:    </th> <td> -869.60</td>\n",
       "</tr>\n",
       "<tr>\n",
       "  <th>No. Observations:</th>         <td>   112</td>         <th>  AIC:               </th> <td>   1743.</td>\n",
       "</tr>\n",
       "<tr>\n",
       "  <th>Df Residuals:</th>             <td>   110</td>         <th>  BIC:               </th> <td>   1749.</td>\n",
       "</tr>\n",
       "<tr>\n",
       "  <th>Df Model:</th>                 <td>     1</td>         <th>                     </th>     <td> </td>   \n",
       "</tr>\n",
       "<tr>\n",
       "  <th>Covariance Type:</th>         <td>nonrobust</td>       <th>                     </th>     <td> </td>   \n",
       "</tr>\n",
       "</table>\n",
       "<table class=\"simpletable\">\n",
       "<tr>\n",
       "           <td></td>             <th>coef</th>     <th>std err</th>      <th>t</th>      <th>P>|t|</th>  <th>[0.025</th>    <th>0.975]</th>  \n",
       "</tr>\n",
       "<tr>\n",
       "  <th>Intercept</th>          <td>  338.6792</td> <td>   60.047</td> <td>    5.640</td> <td> 0.000</td> <td>  219.680</td> <td>  457.679</td>\n",
       "</tr>\n",
       "<tr>\n",
       "  <th>df.number_of_posts</th> <td>    1.8455</td> <td>    0.531</td> <td>    3.478</td> <td> 0.001</td> <td>    0.794</td> <td>    2.897</td>\n",
       "</tr>\n",
       "</table>\n",
       "<table class=\"simpletable\">\n",
       "<tr>\n",
       "  <th>Omnibus:</th>       <td>71.388</td> <th>  Durbin-Watson:     </th> <td>   1.686</td>\n",
       "</tr>\n",
       "<tr>\n",
       "  <th>Prob(Omnibus):</th> <td> 0.000</td> <th>  Jarque-Bera (JB):  </th> <td> 285.340</td>\n",
       "</tr>\n",
       "<tr>\n",
       "  <th>Skew:</th>          <td> 2.326</td> <th>  Prob(JB):          </th> <td>1.09e-62</td>\n",
       "</tr>\n",
       "<tr>\n",
       "  <th>Kurtosis:</th>      <td> 9.284</td> <th>  Cond. No.          </th> <td>    125.</td>\n",
       "</tr>\n",
       "</table><br/><br/>Notes:<br/>[1] Standard Errors assume that the covariance matrix of the errors is correctly specified."
      ],
      "text/plain": [
       "<class 'statsmodels.iolib.summary.Summary'>\n",
       "\"\"\"\n",
       "                              OLS Regression Results                              \n",
       "==================================================================================\n",
       "Dep. Variable:     df.number_of_followers   R-squared:                       0.099\n",
       "Model:                                OLS   Adj. R-squared:                  0.091\n",
       "Method:                     Least Squares   F-statistic:                     12.10\n",
       "Date:                    Wed, 29 Mar 2023   Prob (F-statistic):           0.000724\n",
       "Time:                            17:51:42   Log-Likelihood:                -869.60\n",
       "No. Observations:                     112   AIC:                             1743.\n",
       "Df Residuals:                         110   BIC:                             1749.\n",
       "Df Model:                               1                                         \n",
       "Covariance Type:                nonrobust                                         \n",
       "======================================================================================\n",
       "                         coef    std err          t      P>|t|      [0.025      0.975]\n",
       "--------------------------------------------------------------------------------------\n",
       "Intercept            338.6792     60.047      5.640      0.000     219.680     457.679\n",
       "df.number_of_posts     1.8455      0.531      3.478      0.001       0.794       2.897\n",
       "==============================================================================\n",
       "Omnibus:                       71.388   Durbin-Watson:                   1.686\n",
       "Prob(Omnibus):                  0.000   Jarque-Bera (JB):              285.340\n",
       "Skew:                           2.326   Prob(JB):                     1.09e-62\n",
       "Kurtosis:                       9.284   Cond. No.                         125.\n",
       "==============================================================================\n",
       "\n",
       "Notes:\n",
       "[1] Standard Errors assume that the covariance matrix of the errors is correctly specified.\n",
       "\"\"\""
      ]
     },
     "execution_count": 21,
     "metadata": {},
     "output_type": "execute_result"
    }
   ],
   "source": [
    "model.summary()"
   ]
  },
  {
   "cell_type": "code",
   "execution_count": 22,
   "metadata": {},
   "outputs": [
    {
     "data": {
      "text/plain": [
       "1.6588241874019427"
      ]
     },
     "execution_count": 22,
     "metadata": {},
     "output_type": "execute_result"
    }
   ],
   "source": [
    "t_star = t.ppf(0.95, 110)\n",
    "t_star"
   ]
  },
  {
   "cell_type": "code",
   "execution_count": 25,
   "metadata": {},
   "outputs": [
    {
     "name": "stdout",
     "output_type": "stream",
     "text": [
      "0.9646643564895683 2.7263356435104313\n"
     ]
    }
   ],
   "source": [
    "upper = 1.8455 + t_star * 0.531\n",
    "lower = 1.8455 - t_star * 0.531\n",
    "print(lower, upper)"
   ]
  },
  {
   "cell_type": "markdown",
   "metadata": {},
   "source": [
    "**b)** Based on the confidence interval, is it reasonable to say that the slope of your simple linear regression model is non-zero.  Explain."
   ]
  },
  {
   "cell_type": "code",
   "execution_count": null,
   "metadata": {},
   "outputs": [],
   "source": []
  },
  {
   "cell_type": "markdown",
   "metadata": {},
   "source": [
    "**c)** Check the assumptions for the simple linear regression model."
   ]
  },
  {
   "cell_type": "code",
   "execution_count": 26,
   "metadata": {},
   "outputs": [
    {
     "data": {
      "image/png": "[encoded data removed]",
      "text/plain": [
       "<Figure size 640x480 with 1 Axes>"
      ]
     },
     "metadata": {},
     "output_type": "display_data"
    }
   ],
   "source": [
    "sns.regplot(x=model.fittedvalues, y=model.resid, ci=None)\n",
    "plt.ylabel('Residual')\n",
    "plt.xlabel('Fitted Value')\n",
    "plt.show()"
   ]
  },
  {
   "cell_type": "code",
   "execution_count": null,
   "metadata": {},
   "outputs": [],
   "source": []
  },
  {
   "cell_type": "markdown",
   "metadata": {},
   "source": [
    "Condition 1: Because the distribution of points in the plot below are roughly evenly distributed above and below the line as we move from left to right, we can say the linearity condition is met.\n",
    "\n",
    "Condition 2:Because the y‑axis spread of points in the plot below slightly change as we move from left to right, we can say that this condition is slightly not met."
   ]
  },
  {
   "cell_type": "code",
   "execution_count": null,
   "metadata": {},
   "outputs": [],
   "source": []
  }
 ],
 "metadata": {
  "kernelspec": {
   "display_name": "Python 3 (ipykernel)",
   "language": "python",
   "name": "python3"
  },
  "language_info": {
   "codemirror_mode": {
    "name": "ipython",
    "version": 3
   },
   "file_extension": ".py",
   "mimetype": "text/x-python",
   "name": "python",
   "nbconvert_exporter": "python",
   "pygments_lexer": "ipython3",
   "version": "3.10.8"
  }
 },
 "nbformat": 4,
 "nbformat_minor": 2
}
