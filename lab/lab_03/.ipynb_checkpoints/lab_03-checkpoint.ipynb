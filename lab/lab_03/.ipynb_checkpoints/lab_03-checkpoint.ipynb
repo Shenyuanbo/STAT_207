{
 "cells": [
  {
   "cell_type": "markdown",
   "metadata": {},
   "source": [
    "# STAT 207 Group Lab Assignment 3 - [10 total points]\n",
    "\n",
    "## Cleaning & Preparing Data for Future Analysis"
   ]
  },
  {
   "cell_type": "markdown",
   "metadata": {},
   "source": [
    "Due: Wednesday, February 8, 11:59pm CST\n",
    "\n",
    "No Late Submissions Accepted\n",
    "\n",
    "<hr>\n"
   ]
  },
  {
   "cell_type": "markdown",
   "metadata": {},
   "source": [
    "## <u>Purpose</u>:\n",
    "You should work in groups of 2-3 on this report. The purpose of this group lab assignment is to understand the importance of and future impact of data cleaning.  You will also consider how communication relates to this step.\n",
    "<hr>"
   ]
  },
  {
   "cell_type": "markdown",
   "metadata": {},
   "source": [
    "## <u>Assignment Instructions</u>:\n"
   ]
  },
  {
   "cell_type": "markdown",
   "metadata": {},
   "source": [
    "### Contribution Report\n",
    "These contribution reports should be included in all group lab assignments. In this contribution report below you should list of the following:\n",
    "1. The netID for the lab submission to be graded.  (Some groups have each member create their own version of the document, but only one needs to be submitted for grading.  Other groups have only one member compose and submit the lab.)\n",
    "2. Names and netIDs of each team member.\n",
    "3. Contributions of each team member to report.\n",
    "\n",
    "*For example:*\n",
    "\n",
    "*<u>Teammates:</u>*\n",
    "\n",
    "*doe105 should be graded.  John Smith (smith92) & Jane Doe (doe105) worked together on all parts of this lab assignment*, \n",
    "\n",
    "OR\n",
    "\n",
    "*doe105 should be graded*\n",
    "\n",
    "*1. John Smith (smith92): did number 1,2 and 3*\n",
    "\n",
    "*2. Jane Doe (doe105): did number 4, and 5*"
   ]
  },
  {
   "cell_type": "markdown",
   "metadata": {},
   "source": [
    "damianm4 should be graded.\n",
    "1. Yuanbo Shen(yuanbo3)\n",
    "2. Advait Renduchintala (advait3)\n",
    "3. Damian Makowski (damianm4)"
   ]
  },
  {
   "cell_type": "code",
   "execution_count": 2,
   "metadata": {},
   "outputs": [],
   "source": [
    "#Run this\n",
    "import pandas as pd                    # imports pandas and calls the imported version 'pd'\n",
    "import matplotlib.pyplot as plt        # imports the package and calls it 'plt'\n",
    "import seaborn as sns                  # imports the seaborn package with the imported name 'sns'\n",
    "sns.set()  "
   ]
  },
  {
   "cell_type": "markdown",
   "metadata": {},
   "source": [
    "### Steam Data\n",
    "\n",
    "Steam is the world's most popular PC Gaming hub. With a massive collection that includes everything from AAA blockbusters to small indie titles, great discovery tools can be super valuable for Steam. What can we learn about Steam gaming behavior?\n",
    "\n",
    "The dataset we will be analyzing is comprised of a random sample of 500 steam users and their game play and purchase behaviors. It has the following columns:\n",
    "* user_id\n",
    "* game_name,\n",
    "* activity:\n",
    "    - purchase: indicating that the user has *purchased* the corresponding game\n",
    "    - play: indicating that the user has *played* the corresponding game (for at least some amount of time.) \n",
    "* hours_played_if_play:\n",
    "    - if the row corresponds to a 'play' activity, this number represents the number of hours the user has played the game\n",
    "    - if the row corresponds to a 'purchase' activity, this number is always a 1 (and means nothing... it's a placeholder).\n",
    "\n",
    "Observational units in this data frame are defined by the user-game combination.\n",
    "\n",
    "For this lab, you will be preparing the dataset for future analysis.  To do this, you will need to clean the data as requested below.  \n",
    "\n",
    "### 1. Preparing in the Data [1 pt]\n",
    "\n",
    "We will again be analyzing the steam data, using the same data as Lab 2 and Homework 3.\n",
    "\n",
    "First, read in a cleaned version of the steam_sample.csv file into a dataframe.  You do not need to show all steps used to prepare the data, but you should prepare your data by having all **missing values** correctly identified as missing by Python and dropping all rows with a missing value."
   ]
  },
  {
   "cell_type": "code",
   "execution_count": 3,
   "metadata": {},
   "outputs": [
    {
     "data": {
      "text/plain": [
       "(7806, 4)"
      ]
     },
     "execution_count": 3,
     "metadata": {},
     "output_type": "execute_result"
    }
   ],
   "source": [
    "df_ini = pd.read_csv('steam_sample.csv', na_values = ['unknown'])\n",
    "df_ini.shape"
   ]
  },
  {
   "cell_type": "code",
   "execution_count": 6,
   "metadata": {},
   "outputs": [
    {
     "data": {
      "text/plain": [
       "(7800, 4)"
      ]
     },
     "execution_count": 6,
     "metadata": {},
     "output_type": "execute_result"
    }
   ],
   "source": [
    "df1 = df_ini.dropna()\n",
    "df1.shape"
   ]
  },
  {
   "cell_type": "code",
   "execution_count": 7,
   "metadata": {},
   "outputs": [
    {
     "data": {
      "text/html": [
       "<div>\n",
       "<style scoped>\n",
       "    .dataframe tbody tr th:only-of-type {\n",
       "        vertical-align: middle;\n",
       "    }\n",
       "\n",
       "    .dataframe tbody tr th {\n",
       "        vertical-align: top;\n",
       "    }\n",
       "\n",
       "    .dataframe thead th {\n",
       "        text-align: right;\n",
       "    }\n",
       "</style>\n",
       "<table border=\"1\" class=\"dataframe\">\n",
       "  <thead>\n",
       "    <tr style=\"text-align: right;\">\n",
       "      <th></th>\n",
       "      <th>user_id</th>\n",
       "      <th>game_name</th>\n",
       "      <th>activity</th>\n",
       "      <th>hours_played_if_play</th>\n",
       "    </tr>\n",
       "  </thead>\n",
       "  <tbody>\n",
       "    <tr>\n",
       "      <th>0</th>\n",
       "      <td>308653033</td>\n",
       "      <td>Unturned</td>\n",
       "      <td>purchase</td>\n",
       "      <td>1.0</td>\n",
       "    </tr>\n",
       "    <tr>\n",
       "      <th>1</th>\n",
       "      <td>308653033</td>\n",
       "      <td>Unturned</td>\n",
       "      <td>play</td>\n",
       "      <td>0.6</td>\n",
       "    </tr>\n",
       "    <tr>\n",
       "      <th>2</th>\n",
       "      <td>308653033</td>\n",
       "      <td>theHunter</td>\n",
       "      <td>purchase</td>\n",
       "      <td>1.0</td>\n",
       "    </tr>\n",
       "    <tr>\n",
       "      <th>3</th>\n",
       "      <td>144004384</td>\n",
       "      <td>Dota 2</td>\n",
       "      <td>purchase</td>\n",
       "      <td>1.0</td>\n",
       "    </tr>\n",
       "    <tr>\n",
       "      <th>4</th>\n",
       "      <td>144004384</td>\n",
       "      <td>Dota 2</td>\n",
       "      <td>play</td>\n",
       "      <td>22.0</td>\n",
       "    </tr>\n",
       "  </tbody>\n",
       "</table>\n",
       "</div>"
      ],
      "text/plain": [
       "     user_id  game_name  activity  hours_played_if_play\n",
       "0  308653033   Unturned  purchase                   1.0\n",
       "1  308653033   Unturned      play                   0.6\n",
       "2  308653033  theHunter  purchase                   1.0\n",
       "3  144004384     Dota 2  purchase                   1.0\n",
       "4  144004384     Dota 2      play                  22.0"
      ]
     },
     "execution_count": 7,
     "metadata": {},
     "output_type": "execute_result"
    }
   ],
   "source": [
    "df1.head()"
   ]
  },
  {
   "cell_type": "markdown",
   "metadata": {},
   "source": [
    "### 2. Pick Two Games [5 pts]\n",
    "\n",
    "Select two games of your choosing from the data other than Counter-Strike and Sid Meier's Civilization V, which are analyzed in Homework 3.  Perform the following steps to analyze the amount of time users played each game.\n",
    "\n",
    "**a)** Plot two histograms, one for the number of hours played for each of these two games.  Make sure your histograms have clear labels and titles."
   ]
  },
  {
   "cell_type": "code",
   "execution_count": 22,
   "metadata": {},
   "outputs": [
    {
     "data": {
      "text/plain": [
       "(197, 4)"
      ]
     },
     "execution_count": 22,
     "metadata": {},
     "output_type": "execute_result"
    }
   ],
   "source": [
    "df = df1[df1.activity == 'play']\n",
    "\n",
    "df_dota = df[(df['game_name'] == 'Dota 2')]\n",
    "df_dota.shape"
   ]
  },
  {
   "cell_type": "code",
   "execution_count": 23,
   "metadata": {},
   "outputs": [
    {
     "data": {
      "text/plain": [
       "(43, 4)"
      ]
     },
     "execution_count": 23,
     "metadata": {},
     "output_type": "execute_result"
    }
   ],
   "source": [
    "df_unturned = df[(df['game_name'] == 'Unturned')]\n",
    "df_unturned.shape"
   ]
  },
  {
   "cell_type": "code",
   "execution_count": 28,
   "metadata": {},
   "outputs": [
    {
     "data": {
      "image/png": "[encoded data removed]",
      "text/plain": [
       "<Figure size 640x480 with 1 Axes>"
      ]
     },
     "metadata": {},
     "output_type": "display_data"
    }
   ],
   "source": [
    "df_unturned['hours_played_if_play'].hist()\n",
    "plt.xlabel('Hours played')\n",
    "plt.ylabel('Number of players')\n",
    "plt.title('Hour played disparity of Unturned')\n",
    "plt.show()"
   ]
  },
  {
   "cell_type": "code",
   "execution_count": 29,
   "metadata": {},
   "outputs": [
    {
     "data": {
      "image/png": "[encoded data removed]",
      "text/plain": [
       "<Figure size 640x480 with 1 Axes>"
      ]
     },
     "metadata": {},
     "output_type": "display_data"
    }
   ],
   "source": [
    "df_dota['hours_played_if_play'].hist()\n",
    "plt.xlabel('Hours played')\n",
    "plt.ylabel('Number of players')\n",
    "plt.title('Hour played disparity of Dota')\n",
    "plt.show()"
   ]
  },
  {
   "cell_type": "markdown",
   "metadata": {},
   "source": [
    "**b)** Describe and compare the shapes of these histograms."
   ]
  },
  {
   "cell_type": "markdown",
   "metadata": {},
   "source": [
    "Dota 2 has a higher standard deviation for its hours played.\n",
    "\n",
    "It has a high outlier."
   ]
  },
  {
   "cell_type": "markdown",
   "metadata": {},
   "source": [
    "**c)** Calculate and compare a measure of center for the number of hours played for each of these two games.  Explain why you chose your particular measure of center."
   ]
  },
  {
   "cell_type": "code",
   "execution_count": 30,
   "metadata": {},
   "outputs": [],
   "source": [
    "def summary_stat(df):\n",
    "    mean_center = df['hours_played_if_play'].mean()\n",
    "    mdedian_center = df['hours_played_if_play'].median()\n",
    "    std = df['hours_played_if_play'].std()\n",
    "    "
   ]
  },
  {
   "cell_type": "code",
   "execution_count": 33,
   "metadata": {},
   "outputs": [
    {
     "name": "stdout",
     "output_type": "stream",
     "text": [
      "Median of unturned:\n",
      "4.5\n",
      "Meidan of dota 2:\n",
      "4.8\n"
     ]
    }
   ],
   "source": [
    "median_unturned = df_unturned['hours_played_if_play'].median()\n",
    "median_dota = df_dota['hours_played_if_play'].median()\n",
    "print('Median of unturned:')\n",
    "print(median_unturned)\n",
    "print('Meidan of dota 2:')\n",
    "print(median_dota)"
   ]
  },
  {
   "cell_type": "markdown",
   "metadata": {},
   "source": [
    "We chose to use median as the center, because it will not be affected by outlier."
   ]
  },
  {
   "cell_type": "markdown",
   "metadata": {},
   "source": [
    "**d)** Calculate and compare a measure of spread for the number of hours played for each of these two games.  Explain why you chose your particular measure of spread."
   ]
  },
  {
   "cell_type": "code",
   "execution_count": 34,
   "metadata": {},
   "outputs": [
    {
     "name": "stdout",
     "output_type": "stream",
     "text": [
      "standard deviation of unturned:\n",
      "23.08324863755846\n",
      "standard deviation of dota 2:\n",
      "430.4688471478012\n"
     ]
    }
   ],
   "source": [
    "std_unturned = df_unturned['hours_played_if_play'].std()\n",
    "std_dota = df_dota['hours_played_if_play'].std()\n",
    "print('standard deviation of unturned:')\n",
    "print(std_unturned)\n",
    "print('standard deviation of dota 2:')\n",
    "print(std_dota)"
   ]
  },
  {
   "cell_type": "markdown",
   "metadata": {},
   "source": [
    "Compare to variance, standard deviation is less affected by the outliers."
   ]
  },
  {
   "cell_type": "markdown",
   "metadata": {},
   "source": [
    "**e)** Calculate the cutoff points for observations to be considered an outlier for each of these two games.  Would you consider the set of cutoff points to be similar or different?"
   ]
  },
  {
   "cell_type": "code",
   "execution_count": 35,
   "metadata": {},
   "outputs": [],
   "source": [
    "Q1_dota = df_dota['hours_played_if_play'].quantile(q = 0.25)\n",
    "Q3_dota = df_dota['hours_played_if_play'].quantile(q = 0.75)\n",
    "Q1_unturned = df_unturned['hours_played_if_play'].quantile(q = 0.25)\n",
    "Q3_unturned = df_unturned['hours_played_if_play'].quantile(q = 0.75)"
   ]
  },
  {
   "cell_type": "code",
   "execution_count": 48,
   "metadata": {},
   "outputs": [],
   "source": [
    "IQR_dota = (Q3_dota - Q1_dota)\n",
    "IQR_unturned = (Q3_unturned - Q1_unturned)"
   ]
  },
  {
   "cell_type": "code",
   "execution_count": 49,
   "metadata": {},
   "outputs": [
    {
     "name": "stdout",
     "output_type": "stream",
     "text": [
      "IQR of Dota 2 is:\n",
      "67.8\n",
      "IQR of Unturned is:\n",
      "17.300000000000004\n"
     ]
    }
   ],
   "source": [
    "print('IQR of Dota 2 is:')\n",
    "print(IQR_dota)\n",
    "print('IQR of Unturned is:')\n",
    "print(IQR_unturned)"
   ]
  },
  {
   "cell_type": "code",
   "execution_count": 51,
   "metadata": {},
   "outputs": [
    {
     "name": "stdout",
     "output_type": "stream",
     "text": [
      "-100.49999999999999 170.7\n"
     ]
    }
   ],
   "source": [
    "upper_dota = Q3_dota + 1.5 * IQR_dota\n",
    "lower_dota = Q1_dota - 1.5 * IQR_dota\n",
    "print(lower_dota, upper_dota)"
   ]
  },
  {
   "cell_type": "code",
   "execution_count": 52,
   "metadata": {},
   "outputs": [
    {
     "name": "stdout",
     "output_type": "stream",
     "text": [
      "-24.300000000000008 44.900000000000006\n"
     ]
    }
   ],
   "source": [
    "upper_unturned = Q3_unturned + 1.5 * IQR_unturned\n",
    "lower_unturned = Q1_unturned - 1.5 * IQR_unturned\n",
    "print(lower_unturned, upper_unturned)"
   ]
  },
  {
   "cell_type": "code",
   "execution_count": 56,
   "metadata": {},
   "outputs": [
    {
     "data": {
      "text/plain": [
       "(38, 4)"
      ]
     },
     "execution_count": 56,
     "metadata": {},
     "output_type": "execute_result"
    }
   ],
   "source": [
    "df_dota[df_dota.hours_played_if_play > upper_dota].shape"
   ]
  },
  {
   "cell_type": "code",
   "execution_count": 57,
   "metadata": {},
   "outputs": [
    {
     "data": {
      "text/plain": [
       "(2, 4)"
      ]
     },
     "execution_count": 57,
     "metadata": {},
     "output_type": "execute_result"
    }
   ],
   "source": [
    "df_unturned[df_unturned.hours_played_if_play > upper_unturned].shape"
   ]
  },
  {
   "cell_type": "markdown",
   "metadata": {},
   "source": [
    "upper bound for dota 2 is 170.7 hours.\n",
    "upper bound of unturned is 44.9 hours.\n",
    "\n",
    "38 outliers in Dota 2\n",
    "\n",
    "2 outliers in Unturned"
   ]
  },
  {
   "cell_type": "markdown",
   "metadata": {},
   "source": []
  },
  {
   "cell_type": "markdown",
   "metadata": {},
   "source": [
    "### 3. Probability Calculation [4 pts]\n",
    "\n",
    "Select one of the games from the two games you selected in Question 2 to further explore how popular that game is.  We will work to determine how popular that game is, based on how often the game is purchased and based on if the game has been played for our Steam users.\n",
    "\n",
    "**a)** If a single game were to be randomly selected from the games (rows) that were purchased in this dataset, what is the probability that it is your selected game?"
   ]
  },
  {
   "cell_type": "code",
   "execution_count": 58,
   "metadata": {},
   "outputs": [
    {
     "data": {
      "text/plain": [
       "0.050512820512820515"
      ]
     },
     "execution_count": 58,
     "metadata": {},
     "output_type": "execute_result"
    }
   ],
   "source": [
    "len(df1[df1.game_name == 'Dota 2']) / len(df1)"
   ]
  },
  {
   "cell_type": "markdown",
   "metadata": {},
   "source": [
    "The probability of getting dota 2 is 0.0505128."
   ]
  },
  {
   "cell_type": "markdown",
   "metadata": {},
   "source": [
    "**b)** Now, take a random sample of the user-game combinations (rows) of games that have been purchased of size 1000 with replacement.  Be sure to set the random_state beforehand, so that this sampling is replicable; you may choose any value for your random state.  Based on this random sample, what proportion of the games are your selected game."
   ]
  },
  {
   "cell_type": "code",
   "execution_count": 78,
   "metadata": {},
   "outputs": [
    {
     "data": {
      "text/html": [
       "<div>\n",
       "<style scoped>\n",
       "    .dataframe tbody tr th:only-of-type {\n",
       "        vertical-align: middle;\n",
       "    }\n",
       "\n",
       "    .dataframe tbody tr th {\n",
       "        vertical-align: top;\n",
       "    }\n",
       "\n",
       "    .dataframe thead th {\n",
       "        text-align: right;\n",
       "    }\n",
       "</style>\n",
       "<table border=\"1\" class=\"dataframe\">\n",
       "  <thead>\n",
       "    <tr style=\"text-align: right;\">\n",
       "      <th></th>\n",
       "      <th>user_id</th>\n",
       "      <th>game_name</th>\n",
       "      <th>activity</th>\n",
       "      <th>hours_played_if_play</th>\n",
       "    </tr>\n",
       "  </thead>\n",
       "  <tbody>\n",
       "    <tr>\n",
       "      <th>0</th>\n",
       "      <td>308653033</td>\n",
       "      <td>Unturned</td>\n",
       "      <td>purchase</td>\n",
       "      <td>1.0</td>\n",
       "    </tr>\n",
       "    <tr>\n",
       "      <th>2</th>\n",
       "      <td>308653033</td>\n",
       "      <td>theHunter</td>\n",
       "      <td>purchase</td>\n",
       "      <td>1.0</td>\n",
       "    </tr>\n",
       "    <tr>\n",
       "      <th>3</th>\n",
       "      <td>144004384</td>\n",
       "      <td>Dota 2</td>\n",
       "      <td>purchase</td>\n",
       "      <td>1.0</td>\n",
       "    </tr>\n",
       "    <tr>\n",
       "      <th>5</th>\n",
       "      <td>54103616</td>\n",
       "      <td>Counter-Strike Global Offensive</td>\n",
       "      <td>purchase</td>\n",
       "      <td>1.0</td>\n",
       "    </tr>\n",
       "    <tr>\n",
       "      <th>7</th>\n",
       "      <td>54103616</td>\n",
       "      <td>Counter-Strike</td>\n",
       "      <td>purchase</td>\n",
       "      <td>1.0</td>\n",
       "    </tr>\n",
       "    <tr>\n",
       "      <th>...</th>\n",
       "      <td>...</td>\n",
       "      <td>...</td>\n",
       "      <td>...</td>\n",
       "      <td>...</td>\n",
       "    </tr>\n",
       "    <tr>\n",
       "      <th>7800</th>\n",
       "      <td>99096740</td>\n",
       "      <td>SimCity 4 Deluxe</td>\n",
       "      <td>purchase</td>\n",
       "      <td>1.0</td>\n",
       "    </tr>\n",
       "    <tr>\n",
       "      <th>7802</th>\n",
       "      <td>99096740</td>\n",
       "      <td>BioShock Infinite Burial at Sea - Episode 2</td>\n",
       "      <td>purchase</td>\n",
       "      <td>1.0</td>\n",
       "    </tr>\n",
       "    <tr>\n",
       "      <th>7803</th>\n",
       "      <td>99096740</td>\n",
       "      <td>The Elder Scrolls V Skyrim - Dawnguard</td>\n",
       "      <td>purchase</td>\n",
       "      <td>1.0</td>\n",
       "    </tr>\n",
       "    <tr>\n",
       "      <th>7804</th>\n",
       "      <td>99096740</td>\n",
       "      <td>The Elder Scrolls V Skyrim - Dragonborn</td>\n",
       "      <td>purchase</td>\n",
       "      <td>1.0</td>\n",
       "    </tr>\n",
       "    <tr>\n",
       "      <th>7805</th>\n",
       "      <td>99096740</td>\n",
       "      <td>The Elder Scrolls V Skyrim - Hearthfire</td>\n",
       "      <td>purchase</td>\n",
       "      <td>1.0</td>\n",
       "    </tr>\n",
       "  </tbody>\n",
       "</table>\n",
       "<p>4928 rows × 4 columns</p>\n",
       "</div>"
      ],
      "text/plain": [
       "        user_id                                    game_name  activity  \\\n",
       "0     308653033                                     Unturned  purchase   \n",
       "2     308653033                                    theHunter  purchase   \n",
       "3     144004384                                       Dota 2  purchase   \n",
       "5      54103616              Counter-Strike Global Offensive  purchase   \n",
       "7      54103616                               Counter-Strike  purchase   \n",
       "...         ...                                          ...       ...   \n",
       "7800   99096740                             SimCity 4 Deluxe  purchase   \n",
       "7802   99096740  BioShock Infinite Burial at Sea - Episode 2  purchase   \n",
       "7803   99096740       The Elder Scrolls V Skyrim - Dawnguard  purchase   \n",
       "7804   99096740      The Elder Scrolls V Skyrim - Dragonborn  purchase   \n",
       "7805   99096740      The Elder Scrolls V Skyrim - Hearthfire  purchase   \n",
       "\n",
       "      hours_played_if_play  \n",
       "0                      1.0  \n",
       "2                      1.0  \n",
       "3                      1.0  \n",
       "5                      1.0  \n",
       "7                      1.0  \n",
       "...                    ...  \n",
       "7800                   1.0  \n",
       "7802                   1.0  \n",
       "7803                   1.0  \n",
       "7804                   1.0  \n",
       "7805                   1.0  \n",
       "\n",
       "[4928 rows x 4 columns]"
      ]
     },
     "execution_count": 78,
     "metadata": {},
     "output_type": "execute_result"
    }
   ],
   "source": [
    "df_puch = df1[(df1.activity == 'purchase')]\n",
    "df_puch"
   ]
  },
  {
   "cell_type": "code",
   "execution_count": 79,
   "metadata": {},
   "outputs": [
    {
     "data": {
      "text/html": [
       "<div>\n",
       "<style scoped>\n",
       "    .dataframe tbody tr th:only-of-type {\n",
       "        vertical-align: middle;\n",
       "    }\n",
       "\n",
       "    .dataframe tbody tr th {\n",
       "        vertical-align: top;\n",
       "    }\n",
       "\n",
       "    .dataframe thead th {\n",
       "        text-align: right;\n",
       "    }\n",
       "</style>\n",
       "<table border=\"1\" class=\"dataframe\">\n",
       "  <thead>\n",
       "    <tr style=\"text-align: right;\">\n",
       "      <th></th>\n",
       "      <th>user_id</th>\n",
       "      <th>game_name</th>\n",
       "      <th>activity</th>\n",
       "      <th>hours_played_if_play</th>\n",
       "    </tr>\n",
       "  </thead>\n",
       "  <tbody>\n",
       "    <tr>\n",
       "      <th>4860</th>\n",
       "      <td>48798067</td>\n",
       "      <td>Impire</td>\n",
       "      <td>purchase</td>\n",
       "      <td>1.0</td>\n",
       "    </tr>\n",
       "    <tr>\n",
       "      <th>6545</th>\n",
       "      <td>118971362</td>\n",
       "      <td>Left 4 Dead 2</td>\n",
       "      <td>purchase</td>\n",
       "      <td>1.0</td>\n",
       "    </tr>\n",
       "    <tr>\n",
       "      <th>6312</th>\n",
       "      <td>100719181</td>\n",
       "      <td>Everlasting Summer</td>\n",
       "      <td>purchase</td>\n",
       "      <td>1.0</td>\n",
       "    </tr>\n",
       "    <tr>\n",
       "      <th>5420</th>\n",
       "      <td>154330480</td>\n",
       "      <td>Dota 2</td>\n",
       "      <td>purchase</td>\n",
       "      <td>1.0</td>\n",
       "    </tr>\n",
       "    <tr>\n",
       "      <th>1869</th>\n",
       "      <td>43684632</td>\n",
       "      <td>NASCAR '14</td>\n",
       "      <td>purchase</td>\n",
       "      <td>1.0</td>\n",
       "    </tr>\n",
       "    <tr>\n",
       "      <th>...</th>\n",
       "      <td>...</td>\n",
       "      <td>...</td>\n",
       "      <td>...</td>\n",
       "      <td>...</td>\n",
       "    </tr>\n",
       "    <tr>\n",
       "      <th>7216</th>\n",
       "      <td>79155765</td>\n",
       "      <td>Serious Sam 3 BFE</td>\n",
       "      <td>purchase</td>\n",
       "      <td>1.0</td>\n",
       "    </tr>\n",
       "    <tr>\n",
       "      <th>5309</th>\n",
       "      <td>19696244</td>\n",
       "      <td>Goat Simulator</td>\n",
       "      <td>purchase</td>\n",
       "      <td>1.0</td>\n",
       "    </tr>\n",
       "    <tr>\n",
       "      <th>4631</th>\n",
       "      <td>48798067</td>\n",
       "      <td>Long Live The Queen</td>\n",
       "      <td>purchase</td>\n",
       "      <td>1.0</td>\n",
       "    </tr>\n",
       "    <tr>\n",
       "      <th>4703</th>\n",
       "      <td>48798067</td>\n",
       "      <td>Stranded Deep</td>\n",
       "      <td>purchase</td>\n",
       "      <td>1.0</td>\n",
       "    </tr>\n",
       "    <tr>\n",
       "      <th>2338</th>\n",
       "      <td>108950666</td>\n",
       "      <td>Tropico 5</td>\n",
       "      <td>purchase</td>\n",
       "      <td>1.0</td>\n",
       "    </tr>\n",
       "  </tbody>\n",
       "</table>\n",
       "<p>1000 rows × 4 columns</p>\n",
       "</div>"
      ],
      "text/plain": [
       "        user_id            game_name  activity  hours_played_if_play\n",
       "4860   48798067               Impire  purchase                   1.0\n",
       "6545  118971362        Left 4 Dead 2  purchase                   1.0\n",
       "6312  100719181   Everlasting Summer  purchase                   1.0\n",
       "5420  154330480               Dota 2  purchase                   1.0\n",
       "1869   43684632           NASCAR '14  purchase                   1.0\n",
       "...         ...                  ...       ...                   ...\n",
       "7216   79155765    Serious Sam 3 BFE  purchase                   1.0\n",
       "5309   19696244       Goat Simulator  purchase                   1.0\n",
       "4631   48798067  Long Live The Queen  purchase                   1.0\n",
       "4703   48798067        Stranded Deep  purchase                   1.0\n",
       "2338  108950666            Tropico 5  purchase                   1.0\n",
       "\n",
       "[1000 rows x 4 columns]"
      ]
     },
     "execution_count": 79,
     "metadata": {},
     "output_type": "execute_result"
    }
   ],
   "source": [
    "df_puch_sample = df_puch.sample(1000, replace = True, random_state = 12347)\n",
    "df_puch_sample"
   ]
  },
  {
   "cell_type": "code",
   "execution_count": 82,
   "metadata": {},
   "outputs": [
    {
     "data": {
      "text/plain": [
       "Dota 2                             36\n",
       "Counter-Strike Global Offensive    22\n",
       "Team Fortress 2                    18\n",
       "Counter-Strike                     14\n",
       "Day of Defeat                      11\n",
       "                                   ..\n",
       "Thief - Opportunist                 1\n",
       "Dogs of War Online - Beta           1\n",
       "Happy Wars                          1\n",
       "Frontline Tactics - Golden Guns     1\n",
       "Tropico 5                           1\n",
       "Name: game_name, Length: 511, dtype: int64"
      ]
     },
     "execution_count": 82,
     "metadata": {},
     "output_type": "execute_result"
    }
   ],
   "source": [
    "df_puch_sample['game_name'].value_counts()"
   ]
  },
  {
   "cell_type": "code",
   "execution_count": 83,
   "metadata": {},
   "outputs": [
    {
     "data": {
      "text/plain": [
       "0.036"
      ]
     },
     "execution_count": 83,
     "metadata": {},
     "output_type": "execute_result"
    }
   ],
   "source": [
    "36/1000"
   ]
  },
  {
   "cell_type": "markdown",
   "metadata": {},
   "source": [
    "The proportion is 0.036."
   ]
  },
  {
   "cell_type": "markdown",
   "metadata": {},
   "source": [
    "**c)** We'll continue examining the same game's popularity, now based on if that game is played.  If a single game were to be randomly selected from the user-game combination (rows) that have been played, what is the probability that it is your selected game?"
   ]
  },
  {
   "cell_type": "code",
   "execution_count": 85,
   "metadata": {},
   "outputs": [
    {
     "data": {
      "text/html": [
       "<div>\n",
       "<style scoped>\n",
       "    .dataframe tbody tr th:only-of-type {\n",
       "        vertical-align: middle;\n",
       "    }\n",
       "\n",
       "    .dataframe tbody tr th {\n",
       "        vertical-align: top;\n",
       "    }\n",
       "\n",
       "    .dataframe thead th {\n",
       "        text-align: right;\n",
       "    }\n",
       "</style>\n",
       "<table border=\"1\" class=\"dataframe\">\n",
       "  <thead>\n",
       "    <tr style=\"text-align: right;\">\n",
       "      <th></th>\n",
       "      <th>user_id</th>\n",
       "      <th>game_name</th>\n",
       "      <th>activity</th>\n",
       "      <th>hours_played_if_play</th>\n",
       "    </tr>\n",
       "  </thead>\n",
       "  <tbody>\n",
       "    <tr>\n",
       "      <th>1</th>\n",
       "      <td>308653033</td>\n",
       "      <td>Unturned</td>\n",
       "      <td>play</td>\n",
       "      <td>0.6</td>\n",
       "    </tr>\n",
       "    <tr>\n",
       "      <th>4</th>\n",
       "      <td>144004384</td>\n",
       "      <td>Dota 2</td>\n",
       "      <td>play</td>\n",
       "      <td>22.0</td>\n",
       "    </tr>\n",
       "    <tr>\n",
       "      <th>6</th>\n",
       "      <td>54103616</td>\n",
       "      <td>Counter-Strike Global Offensive</td>\n",
       "      <td>play</td>\n",
       "      <td>1028.0</td>\n",
       "    </tr>\n",
       "    <tr>\n",
       "      <th>8</th>\n",
       "      <td>54103616</td>\n",
       "      <td>Counter-Strike</td>\n",
       "      <td>play</td>\n",
       "      <td>1008.0</td>\n",
       "    </tr>\n",
       "    <tr>\n",
       "      <th>10</th>\n",
       "      <td>54103616</td>\n",
       "      <td>Left 4 Dead</td>\n",
       "      <td>play</td>\n",
       "      <td>148.0</td>\n",
       "    </tr>\n",
       "    <tr>\n",
       "      <th>...</th>\n",
       "      <td>...</td>\n",
       "      <td>...</td>\n",
       "      <td>...</td>\n",
       "      <td>...</td>\n",
       "    </tr>\n",
       "    <tr>\n",
       "      <th>7793</th>\n",
       "      <td>99096740</td>\n",
       "      <td>Crysis</td>\n",
       "      <td>play</td>\n",
       "      <td>5.3</td>\n",
       "    </tr>\n",
       "    <tr>\n",
       "      <th>7795</th>\n",
       "      <td>99096740</td>\n",
       "      <td>Assassin's Creed II</td>\n",
       "      <td>play</td>\n",
       "      <td>2.7</td>\n",
       "    </tr>\n",
       "    <tr>\n",
       "      <th>7797</th>\n",
       "      <td>99096740</td>\n",
       "      <td>Hitman Blood Money</td>\n",
       "      <td>play</td>\n",
       "      <td>1.3</td>\n",
       "    </tr>\n",
       "    <tr>\n",
       "      <th>7799</th>\n",
       "      <td>99096740</td>\n",
       "      <td>The Binding of Isaac Rebirth</td>\n",
       "      <td>play</td>\n",
       "      <td>0.7</td>\n",
       "    </tr>\n",
       "    <tr>\n",
       "      <th>7801</th>\n",
       "      <td>99096740</td>\n",
       "      <td>SimCity 4 Deluxe</td>\n",
       "      <td>play</td>\n",
       "      <td>0.2</td>\n",
       "    </tr>\n",
       "  </tbody>\n",
       "</table>\n",
       "<p>2872 rows × 4 columns</p>\n",
       "</div>"
      ],
      "text/plain": [
       "        user_id                        game_name activity  \\\n",
       "1     308653033                         Unturned     play   \n",
       "4     144004384                           Dota 2     play   \n",
       "6      54103616  Counter-Strike Global Offensive     play   \n",
       "8      54103616                   Counter-Strike     play   \n",
       "10     54103616                      Left 4 Dead     play   \n",
       "...         ...                              ...      ...   \n",
       "7793   99096740                           Crysis     play   \n",
       "7795   99096740              Assassin's Creed II     play   \n",
       "7797   99096740               Hitman Blood Money     play   \n",
       "7799   99096740     The Binding of Isaac Rebirth     play   \n",
       "7801   99096740                 SimCity 4 Deluxe     play   \n",
       "\n",
       "      hours_played_if_play  \n",
       "1                      0.6  \n",
       "4                     22.0  \n",
       "6                   1028.0  \n",
       "8                   1008.0  \n",
       "10                   148.0  \n",
       "...                    ...  \n",
       "7793                   5.3  \n",
       "7795                   2.7  \n",
       "7797                   1.3  \n",
       "7799                   0.7  \n",
       "7801                   0.2  \n",
       "\n",
       "[2872 rows x 4 columns]"
      ]
     },
     "execution_count": 85,
     "metadata": {},
     "output_type": "execute_result"
    }
   ],
   "source": [
    "df_play = df1[(df1.activity == 'play')]\n",
    "df_play"
   ]
  },
  {
   "cell_type": "code",
   "execution_count": 89,
   "metadata": {},
   "outputs": [
    {
     "data": {
      "text/plain": [
       "Dota 2                             197\n",
       "Team Fortress 2                     94\n",
       "Counter-Strike Global Offensive     62\n",
       "Unturned                            43\n",
       "Counter-Strike Source               37\n",
       "                                  ... \n",
       "Total Annihilation                   1\n",
       "Guilty Gear X2 #Reload               1\n",
       "Cubemen                              1\n",
       "Towns                                1\n",
       "Assassin's Creed                     1\n",
       "Name: game_name, Length: 920, dtype: int64"
      ]
     },
     "execution_count": 89,
     "metadata": {},
     "output_type": "execute_result"
    }
   ],
   "source": [
    "df_play['game_name'].value_counts()"
   ]
  },
  {
   "cell_type": "code",
   "execution_count": 90,
   "metadata": {},
   "outputs": [
    {
     "data": {
      "text/plain": [
       "0.0685933147632312"
      ]
     },
     "execution_count": 90,
     "metadata": {},
     "output_type": "execute_result"
    }
   ],
   "source": [
    "197/2872"
   ]
  },
  {
   "cell_type": "markdown",
   "metadata": {},
   "source": [
    "The probability is 0.0685."
   ]
  },
  {
   "cell_type": "markdown",
   "metadata": {},
   "source": [
    "**d)** Finally, take a random sample of the user-game combinations (rows) of games that have been played of size 1000 with replacement.  Be sure to set the random_state beforehand, so that this sampling is replicable; you may choose any random state.  Based on this random sample, what proportion of the games are your selected game."
   ]
  },
  {
   "cell_type": "code",
   "execution_count": 91,
   "metadata": {},
   "outputs": [
    {
     "data": {
      "text/html": [
       "<div>\n",
       "<style scoped>\n",
       "    .dataframe tbody tr th:only-of-type {\n",
       "        vertical-align: middle;\n",
       "    }\n",
       "\n",
       "    .dataframe tbody tr th {\n",
       "        vertical-align: top;\n",
       "    }\n",
       "\n",
       "    .dataframe thead th {\n",
       "        text-align: right;\n",
       "    }\n",
       "</style>\n",
       "<table border=\"1\" class=\"dataframe\">\n",
       "  <thead>\n",
       "    <tr style=\"text-align: right;\">\n",
       "      <th></th>\n",
       "      <th>user_id</th>\n",
       "      <th>game_name</th>\n",
       "      <th>activity</th>\n",
       "      <th>hours_played_if_play</th>\n",
       "    </tr>\n",
       "  </thead>\n",
       "  <tbody>\n",
       "    <tr>\n",
       "      <th>5274</th>\n",
       "      <td>19696244</td>\n",
       "      <td>Red Orchestra 2 Heroes of Stalingrad - Single ...</td>\n",
       "      <td>play</td>\n",
       "      <td>8.8</td>\n",
       "    </tr>\n",
       "    <tr>\n",
       "      <th>72</th>\n",
       "      <td>171847029</td>\n",
       "      <td>DayZ</td>\n",
       "      <td>play</td>\n",
       "      <td>479.0</td>\n",
       "    </tr>\n",
       "    <tr>\n",
       "      <th>2893</th>\n",
       "      <td>102016550</td>\n",
       "      <td>Team Fortress 2</td>\n",
       "      <td>play</td>\n",
       "      <td>13.8</td>\n",
       "    </tr>\n",
       "    <tr>\n",
       "      <th>4991</th>\n",
       "      <td>99484728</td>\n",
       "      <td>Killing Floor</td>\n",
       "      <td>play</td>\n",
       "      <td>29.0</td>\n",
       "    </tr>\n",
       "    <tr>\n",
       "      <th>5354</th>\n",
       "      <td>19696244</td>\n",
       "      <td>Thief Gold</td>\n",
       "      <td>play</td>\n",
       "      <td>0.1</td>\n",
       "    </tr>\n",
       "    <tr>\n",
       "      <th>...</th>\n",
       "      <td>...</td>\n",
       "      <td>...</td>\n",
       "      <td>...</td>\n",
       "      <td>...</td>\n",
       "    </tr>\n",
       "    <tr>\n",
       "      <th>4646</th>\n",
       "      <td>48798067</td>\n",
       "      <td>Two Worlds Epic Edition</td>\n",
       "      <td>play</td>\n",
       "      <td>2.1</td>\n",
       "    </tr>\n",
       "    <tr>\n",
       "      <th>1618</th>\n",
       "      <td>43684632</td>\n",
       "      <td>METAL GEAR SOLID V THE PHANTOM PAIN</td>\n",
       "      <td>play</td>\n",
       "      <td>95.0</td>\n",
       "    </tr>\n",
       "    <tr>\n",
       "      <th>634</th>\n",
       "      <td>35729292</td>\n",
       "      <td>Unturned</td>\n",
       "      <td>play</td>\n",
       "      <td>6.7</td>\n",
       "    </tr>\n",
       "    <tr>\n",
       "      <th>6710</th>\n",
       "      <td>94195027</td>\n",
       "      <td>Counter-Strike Source</td>\n",
       "      <td>play</td>\n",
       "      <td>230.0</td>\n",
       "    </tr>\n",
       "    <tr>\n",
       "      <th>2184</th>\n",
       "      <td>174287424</td>\n",
       "      <td>Serious Sam HD The First Encounter</td>\n",
       "      <td>play</td>\n",
       "      <td>1.7</td>\n",
       "    </tr>\n",
       "  </tbody>\n",
       "</table>\n",
       "<p>1000 rows × 4 columns</p>\n",
       "</div>"
      ],
      "text/plain": [
       "        user_id                                          game_name activity  \\\n",
       "5274   19696244  Red Orchestra 2 Heroes of Stalingrad - Single ...     play   \n",
       "72    171847029                                               DayZ     play   \n",
       "2893  102016550                                    Team Fortress 2     play   \n",
       "4991   99484728                                      Killing Floor     play   \n",
       "5354   19696244                                         Thief Gold     play   \n",
       "...         ...                                                ...      ...   \n",
       "4646   48798067                            Two Worlds Epic Edition     play   \n",
       "1618   43684632                METAL GEAR SOLID V THE PHANTOM PAIN     play   \n",
       "634    35729292                                           Unturned     play   \n",
       "6710   94195027                              Counter-Strike Source     play   \n",
       "2184  174287424                 Serious Sam HD The First Encounter     play   \n",
       "\n",
       "      hours_played_if_play  \n",
       "5274                   8.8  \n",
       "72                   479.0  \n",
       "2893                  13.8  \n",
       "4991                  29.0  \n",
       "5354                   0.1  \n",
       "...                    ...  \n",
       "4646                   2.1  \n",
       "1618                  95.0  \n",
       "634                    6.7  \n",
       "6710                 230.0  \n",
       "2184                   1.7  \n",
       "\n",
       "[1000 rows x 4 columns]"
      ]
     },
     "execution_count": 91,
     "metadata": {},
     "output_type": "execute_result"
    }
   ],
   "source": [
    "df_play_sample = df_play.sample(1000, replace = True, random_state = 12347)\n",
    "df_play_sample"
   ]
  },
  {
   "cell_type": "code",
   "execution_count": 93,
   "metadata": {},
   "outputs": [
    {
     "data": {
      "text/plain": [
       "Dota 2                                67\n",
       "Team Fortress 2                       41\n",
       "Counter-Strike Global Offensive       21\n",
       "Portal 2                              14\n",
       "The Elder Scrolls V Skyrim            14\n",
       "                                      ..\n",
       "This War of Mine                       1\n",
       "Echo of Soul                           1\n",
       "Metro 2033                             1\n",
       "Sniper Ghost Warrior 2                 1\n",
       "Serious Sam HD The First Encounter     1\n",
       "Name: game_name, Length: 436, dtype: int64"
      ]
     },
     "execution_count": 93,
     "metadata": {},
     "output_type": "execute_result"
    }
   ],
   "source": [
    "df_play_sample['game_name'].value_counts()"
   ]
  },
  {
   "cell_type": "code",
   "execution_count": 94,
   "metadata": {},
   "outputs": [
    {
     "data": {
      "text/plain": [
       "0.067"
      ]
     },
     "execution_count": 94,
     "metadata": {},
     "output_type": "execute_result"
    }
   ],
   "source": [
    "67/1000"
   ]
  },
  {
   "cell_type": "markdown",
   "metadata": {},
   "source": [
    "The proportion is 0.067."
   ]
  },
  {
   "cell_type": "markdown",
   "metadata": {},
   "source": [
    "**e)** Does the popularity of your game of interest differ based on whether it is played or purchased?  Explain your answer."
   ]
  },
  {
   "cell_type": "markdown",
   "metadata": {},
   "source": [
    "Yes, the popularity is higher for those who play, because Dota 2 is a well-known moba game. A lot of people would prefer to try this game."
   ]
  },
  {
   "cell_type": "code",
   "execution_count": null,
   "metadata": {},
   "outputs": [],
   "source": []
  }
 ],
 "metadata": {
  "kernelspec": {
   "display_name": "Python 3 (ipykernel)",
   "language": "python",
   "name": "python3"
  },
  "language_info": {
   "codemirror_mode": {
    "name": "ipython",
    "version": 3
   },
   "file_extension": ".py",
   "mimetype": "text/x-python",
   "name": "python",
   "nbconvert_exporter": "python",
   "pygments_lexer": "ipython3",
   "version": "3.10.8"
  }
 },
 "nbformat": 4,
 "nbformat_minor": 2
}
