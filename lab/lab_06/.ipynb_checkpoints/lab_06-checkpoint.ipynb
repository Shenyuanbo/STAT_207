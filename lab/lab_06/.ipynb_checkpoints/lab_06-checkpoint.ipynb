{
 "cells": [
  {
   "cell_type": "markdown",
   "metadata": {},
   "source": [
    "# STAT 207 Group Lab Assignment 6 - [10 total points]\n",
    "\n",
    "## Random Variables & Confidence Interval Properties"
   ]
  },
  {
   "cell_type": "markdown",
   "metadata": {},
   "source": [
    "Due: Wednesday, March 8, 11:59pm CST\n",
    "\n",
    "No Late Submissions Accepted\n",
    "\n",
    "<hr>\n"
   ]
  },
  {
   "cell_type": "markdown",
   "metadata": {},
   "source": [
    "## <u>Purpose</u>:\n",
    "You should work in groups of 2-3 on this report. The purpose of this group lab assignment is to calculate properties of random variables and to explore properties of confidence intervals.\n",
    "<hr>"
   ]
  },
  {
   "cell_type": "markdown",
   "metadata": {},
   "source": [
    "## <u>Assignment Instructions</u>:\n"
   ]
  },
  {
   "cell_type": "markdown",
   "metadata": {},
   "source": [
    "### Contribution Report\n",
    "These contribution reports should be included in all group lab assignments. In this contribution report below you should list of the following:\n",
    "1. The netID for the lab submission to be graded.  (Some groups have each member create their own version of the document, but only one needs to be submitted for grading.  Other groups have only one member compose and submit the lab.)\n",
    "2. Names and netIDs of each team member.\n",
    "3. Contributions of each team member to report.\n",
    "\n",
    "*For example:*\n",
    "\n",
    "*<u>Teammates:</u>*\n",
    "\n",
    "*doe105 should be graded.  John Smith (smith92) & Jane Doe (doe105) worked together on all parts of this lab assignment*, \n",
    "\n",
    "OR\n",
    "\n",
    "*doe105 should be graded*\n",
    "\n",
    "*1. John Smith (smith92): did number 1,2 and 3*\n",
    "\n",
    "*2. Jane Doe (doe105): did number 4, and 5*"
   ]
  },
  {
   "cell_type": "markdown",
   "metadata": {},
   "source": [
    "Yuanbo Shen(yuanbo3) should be graded.\n",
    "1. Yuanbo Shen(yuanbo3)\n",
    "2. Advait Renduchintala (advaitr3)\n",
    "3. Damian Makowski (damianm4)"
   ]
  },
  {
   "cell_type": "markdown",
   "metadata": {},
   "source": [
    "### Group Roles\n",
    "\n",
    "You are expected to work in groups of 2-3 on this report.  Since you are working in groups, you may find it helpful to have specified roles.  Below, I provide roles that can be used for groups of 2 and for groups of 3.  I encourage you to switch roles within this lab report, as possible.  I also encourage you to switch roles for each subsequent lab, as possible, based on your group membership.  You may have established a different process for completing labs in the first few labs, and you can continue to use this process if you've found it to be effective.\n",
    "\n",
    "#### Groups of 2\n",
    "\n",
    "* **Driver**: This student will type the report.  While typing the report, you may be the one who is selecting the functions to apply to the data.\n",
    "* **Navigator**: This student will guide the process of answering the question.  Specific ways to help may include: outlining the general steps needed to solve a question (providing the overview), locating examples within the course notes, and reviewing each line of code as it is typed.\n",
    "\n",
    "#### Groups of 3\n",
    "\n",
    "* **Driver**: This student will type the report.  They may also be the one to select the functions to apply to the data.\n",
    "* **Navigator**: This student will guide the process of answering the question.  They may select the general approach to answering the question and/or a few steps to be completed along the way. \n",
    "* **Communicator**: This student will review the report (as it is typed) to ensure that it is clear and concise.  This student may also locate relevant examples within the course notes that may help complete the assignment.\n",
    "\n",
    "<hr>\n",
    "\n",
    "### Imports"
   ]
  },
  {
   "cell_type": "code",
   "execution_count": 1,
   "metadata": {},
   "outputs": [],
   "source": [
    "import pandas as pd\n",
    "import seaborn as sns\n",
    "import matplotlib.pyplot as plt\n",
    "import numpy as np\n",
    "from scipy.stats import geom\n",
    "from scipy.stats import norm"
   ]
  },
  {
   "cell_type": "markdown",
   "metadata": {},
   "source": [
    "<hr>\n",
    "\n",
    "## <u>Case Study 1</u>: Properties of the Binomial Random Variable\n",
    "\n",
    "Recall that a Binomial random variable can be considered as a sum of $n$ Bernoulli random variables corresponding to each of the independent trials (see Day 10's lecture material).\n",
    "\n",
    "We derived the properties of Bernoulli random variables in this lecture, as well.\n",
    "\n",
    "Suppose that we have a Binomial random variable that consists of 4 trials.  That is, suppose $n = 4$.\n",
    "\n",
    "Combining the properties of Bernoulli random variables, derive the properties of a Binomial random variable.\n",
    "\n",
    "### 1. [1 pt] Calculating $E(X)$\n",
    "\n",
    "Let $X$ represent the Binomial random variable with $4$ trials & $p$ probability of success.  X consists of the sum of 4 Bernoulli random variables: $Y_1$, $Y_2$, $Y_3$, and $Y_4$.\n",
    "\n",
    "Using the properties of expected values from Day 12's lecture material, derive the $E(X)$.  \n",
    "\n",
    "**This is a proof, so show your work!**"
   ]
  },
  {
   "cell_type": "markdown",
   "metadata": {},
   "source": [
    "$E(X)$ = $E(Y_1)$ + $E(Y_2)$ + $E(Y_3)$ + $E(Y_4)$ = $p$ + $p$ + $p$ + $p$ = $4p$"
   ]
  },
  {
   "cell_type": "markdown",
   "metadata": {},
   "source": [
    "### 2. [1 pt] Calculating $Var(X)$\n",
    "\n",
    "Using the properties of variances from Day 12's lecture material, derive the $Var(X)$.  \n",
    "\n",
    "**Again, this is a proof, so show your work!**"
   ]
  },
  {
   "cell_type": "markdown",
   "metadata": {},
   "source": [
    "$Var(X) = Var(Y_1) + Var(Y_2) + Var(Y_3) + Var(Y_4) = p(1-p) + p(1-p) + p(1-p) + p(1-p) = 4p(1-p)$"
   ]
  },
  {
   "cell_type": "markdown",
   "metadata": {},
   "source": [
    "### 3. [1.5 pts] Distribution Properties for a Specific $X$\n",
    "\n",
    "Now, let's apply what you've demonstrated in **1** and **2** above to a situation.\n",
    "\n",
    "In a previous year (2020), the acceptance rate at UIUC was 59%.  Suppose we conduct an experiment where we randomly select 4 UIUC applicants from the previous year with replacement and observe whether each applicant was accepted into UIUC or not.\n",
    "\n",
    "Let $X$ represent the number of applicants who were accepted into UIUC from our random sample of size 4.\n",
    "\n",
    "What distribution does $X$ follow.  Be sure to define this distribution completely. \n",
    "\n",
    "Based on the formulas calculated in **1** and **2**, calculate and report the theoretical mean, variance, and standard deviation of $X$.\n",
    "\n",
    "**We're looking for actual numbers here and not a proof or algebraic statements.**"
   ]
  },
  {
   "cell_type": "markdown",
   "metadata": {},
   "source": [
    "It's a Binomial Distribution with a success probability 0.59, n = 4.\n",
    "- $ Mean = np = 0.59 \\times 4 = 2.36$\n",
    "- $ Var = np(1-p) = 4 \\times 0.59 \\times (1 - 0.59) = 0.9676$\n",
    "- $Std = \\sqrt{Var} = \\sqrt{0.9676} = 0.98367$"
   ]
  },
  {
   "cell_type": "markdown",
   "metadata": {},
   "source": [
    "<hr>\n",
    "\n",
    "## <u>Case Study 2</u>: Death Rates from Firearms\n",
    "\n",
    "The death rates for US states (calculated per 100,000 individuals in the population) from firearms are recorded in the firearms.csv dataset.\n",
    "\n",
    "### 4. [0.5 pts] Population Information\n",
    "\n",
    "For the population of all US state-years, calculate the mean death rate from firearms."
   ]
  },
  {
   "cell_type": "code",
   "execution_count": 2,
   "metadata": {},
   "outputs": [
    {
     "data": {
      "text/plain": [
       "(350, 5)"
      ]
     },
     "execution_count": 2,
     "metadata": {},
     "output_type": "execute_result"
    }
   ],
   "source": [
    "df = pd.read_csv('firearms.csv')\n",
    "df.shape"
   ]
  },
  {
   "cell_type": "code",
   "execution_count": 5,
   "metadata": {},
   "outputs": [
    {
     "data": {
      "text/html": [
       "<div>\n",
       "<style scoped>\n",
       "    .dataframe tbody tr th:only-of-type {\n",
       "        vertical-align: middle;\n",
       "    }\n",
       "\n",
       "    .dataframe tbody tr th {\n",
       "        vertical-align: top;\n",
       "    }\n",
       "\n",
       "    .dataframe thead th {\n",
       "        text-align: right;\n",
       "    }\n",
       "</style>\n",
       "<table border=\"1\" class=\"dataframe\">\n",
       "  <thead>\n",
       "    <tr style=\"text-align: right;\">\n",
       "      <th></th>\n",
       "      <th>YEAR</th>\n",
       "      <th>STATE</th>\n",
       "      <th>RATE</th>\n",
       "      <th>DEATHS</th>\n",
       "      <th>URL</th>\n",
       "    </tr>\n",
       "  </thead>\n",
       "  <tbody>\n",
       "    <tr>\n",
       "      <th>0</th>\n",
       "      <td>2019</td>\n",
       "      <td>AL</td>\n",
       "      <td>22.2</td>\n",
       "      <td>1076</td>\n",
       "      <td>/nchs/pressroom/states/alabama/al.htm</td>\n",
       "    </tr>\n",
       "    <tr>\n",
       "      <th>1</th>\n",
       "      <td>2019</td>\n",
       "      <td>AK</td>\n",
       "      <td>24.4</td>\n",
       "      <td>179</td>\n",
       "      <td>/nchs/pressroom/states/alaska/ak.htm</td>\n",
       "    </tr>\n",
       "    <tr>\n",
       "      <th>2</th>\n",
       "      <td>2019</td>\n",
       "      <td>AZ</td>\n",
       "      <td>15.1</td>\n",
       "      <td>1136</td>\n",
       "      <td>/nchs/pressroom/states/arizona/az.htm</td>\n",
       "    </tr>\n",
       "    <tr>\n",
       "      <th>3</th>\n",
       "      <td>2019</td>\n",
       "      <td>AR</td>\n",
       "      <td>19.3</td>\n",
       "      <td>580</td>\n",
       "      <td>/nchs/pressroom/states/arkansas/ar.htm</td>\n",
       "    </tr>\n",
       "    <tr>\n",
       "      <th>4</th>\n",
       "      <td>2019</td>\n",
       "      <td>CA</td>\n",
       "      <td>7.2</td>\n",
       "      <td>2945</td>\n",
       "      <td>/nchs/pressroom/states/california/ca.htm</td>\n",
       "    </tr>\n",
       "  </tbody>\n",
       "</table>\n",
       "</div>"
      ],
      "text/plain": [
       "   YEAR STATE  RATE  DEATHS                                       URL\n",
       "0  2019    AL  22.2    1076     /nchs/pressroom/states/alabama/al.htm\n",
       "1  2019    AK  24.4     179      /nchs/pressroom/states/alaska/ak.htm\n",
       "2  2019    AZ  15.1    1136     /nchs/pressroom/states/arizona/az.htm\n",
       "3  2019    AR  19.3     580    /nchs/pressroom/states/arkansas/ar.htm\n",
       "4  2019    CA   7.2    2945  /nchs/pressroom/states/california/ca.htm"
      ]
     },
     "execution_count": 5,
     "metadata": {},
     "output_type": "execute_result"
    }
   ],
   "source": [
    "df.head()"
   ]
  },
  {
   "cell_type": "code",
   "execution_count": 8,
   "metadata": {},
   "outputs": [
    {
     "name": "stdout",
     "output_type": "stream",
     "text": [
      "<class 'pandas.core.frame.DataFrame'>\n",
      "RangeIndex: 350 entries, 0 to 349\n",
      "Data columns (total 5 columns):\n",
      " #   Column  Non-Null Count  Dtype  \n",
      "---  ------  --------------  -----  \n",
      " 0   YEAR    350 non-null    int64  \n",
      " 1   STATE   350 non-null    object \n",
      " 2   RATE    350 non-null    float64\n",
      " 3   DEATHS  350 non-null    int64  \n",
      " 4   URL     350 non-null    object \n",
      "dtypes: float64(1), int64(2), object(2)\n",
      "memory usage: 13.8+ KB\n"
     ]
    }
   ],
   "source": [
    "df.info()"
   ]
  },
  {
   "cell_type": "code",
   "execution_count": 9,
   "metadata": {},
   "outputs": [
    {
     "data": {
      "text/plain": [
       "12.58257142857143"
      ]
     },
     "execution_count": 9,
     "metadata": {},
     "output_type": "execute_result"
    }
   ],
   "source": [
    "df.RATE.mean()"
   ]
  },
  {
   "cell_type": "markdown",
   "metadata": {},
   "source": [
    "### 5. [2 pts] Creating a Confidence Interval\n",
    "\n",
    "While we technically have the population of all US states (and therefore can-and have-calculated the population mean death rates from firearms), we would still like to calculate confidence intervals for the population mean to learn more about how confidence intervals behave.  By having the population, we can then \"check\" our confidence intervals to see how well they perform.\n",
    "\n",
    "Perform the following tasks:\n",
    "\n",
    "- Generate a random sample of size 40 without replacement from the population of all US states\n",
    "- Calculate the sample mean and sample standard deviation for each sample\n",
    "- Calculate a 85% confidence interval around the sample mean\n",
    "\n",
    "For this process, assume that we do not have any of the corresponding population characteristics (mean or standard deviation) available.\n",
    "\n",
    "Print the resulting confidence interval."
   ]
  },
  {
   "cell_type": "code",
   "execution_count": 12,
   "metadata": {},
   "outputs": [
    {
     "data": {
      "text/plain": [
       "(40, 5)"
      ]
     },
     "execution_count": 12,
     "metadata": {},
     "output_type": "execute_result"
    }
   ],
   "source": [
    "df_sample = df.sample(40, replace = False, random_state = 12345)\n",
    "df_sample.shape"
   ]
  },
  {
   "cell_type": "code",
   "execution_count": 13,
   "metadata": {},
   "outputs": [
    {
     "data": {
      "text/plain": [
       "12.675"
      ]
     },
     "execution_count": 13,
     "metadata": {},
     "output_type": "execute_result"
    }
   ],
   "source": [
    "x_bar = df_sample.RATE.mean()\n",
    "x_bar"
   ]
  },
  {
   "cell_type": "code",
   "execution_count": 14,
   "metadata": {},
   "outputs": [
    {
     "data": {
      "text/plain": [
       "5.227822510867044"
      ]
     },
     "execution_count": 14,
     "metadata": {},
     "output_type": "execute_result"
    }
   ],
   "source": [
    "s = df_sample.RATE.std()\n",
    "s"
   ]
  },
  {
   "cell_type": "code",
   "execution_count": 18,
   "metadata": {},
   "outputs": [
    {
     "data": {
      "text/plain": [
       "1.2138144669631943"
      ]
     },
     "execution_count": 18,
     "metadata": {},
     "output_type": "execute_result"
    }
   ],
   "source": [
    "import scipy.stats\n",
    "critical_value = scipy.stats.t.ppf(0.925, df= 39)\n",
    "margin_error = critical_value * s / np.sqrt(40)\n",
    "margin_error"
   ]
  },
  {
   "cell_type": "code",
   "execution_count": 29,
   "metadata": {},
   "outputs": [
    {
     "name": "stdout",
     "output_type": "stream",
     "text": [
      "Lower bound is 11.461185533036806 \n",
      "Upper bound is 13.888814466963195\n"
     ]
    }
   ],
   "source": [
    "print(\"Lower bound is\",x_bar - margin_error, \"\\nUpper bound is\", x_bar + margin_error)"
   ]
  },
  {
   "cell_type": "markdown",
   "metadata": {},
   "source": [
    "### 6. [2 pts] Create a Function to Record our Parameter\n",
    "\n",
    "Write a function that does the following:\n",
    "\n",
    "- <u>Input</u> Your function should take as inputs\n",
    "    - a lower bound of a confidence interval\n",
    "    - an upper bound of a confidence interval\n",
    "    - a population parameter value\n",
    "- <u>Perfomance</u> Your function should \n",
    "    - Check whether $lower \\: bound \\le \\mu \\le upper \\: bound$\n",
    "    - Return True if the parameter is contained by the confidence interval\n",
    "    - Return False if the parameter is not contained by the confidence interval\n",
    "\n",
    "Test your function using your confidence interval and parameter value from above."
   ]
  },
  {
   "cell_type": "markdown",
   "metadata": {},
   "source": [
    "#### <u> Tutorial</u> ANDS and ORS in if-statements\n",
    "\n",
    "We can check multiple conditions in an if-statement by using the 'and' and the 'or' operators as shown below."
   ]
  },
  {
   "cell_type": "code",
   "execution_count": 35,
   "metadata": {},
   "outputs": [
    {
     "name": "stdout",
     "output_type": "stream",
     "text": [
      "a is between 10 and 30\n"
     ]
    }
   ],
   "source": [
    "a=20\n",
    "\n",
    "if a < 30 and a>10:\n",
    "    print('a is between 10 and 30')\n",
    "else:\n",
    "    print('otherwise')"
   ]
  },
  {
   "cell_type": "code",
   "execution_count": 36,
   "metadata": {},
   "outputs": [
    {
     "name": "stdout",
     "output_type": "stream",
     "text": [
      "otherwise\n"
     ]
    }
   ],
   "source": [
    "if a >= 30 or a <=10:\n",
    "    print('a is at most 10 or at least 30')\n",
    "else:\n",
    "    print('otherwise')"
   ]
  },
  {
   "cell_type": "code",
   "execution_count": 66,
   "metadata": {},
   "outputs": [],
   "source": [
    "def check_bound(lower, upper , mean):\n",
    "    if lower <= mean <= upper:     # This is pythonic\n",
    "        return True\n",
    "    else:\n",
    "        return False"
   ]
  },
  {
   "cell_type": "code",
   "execution_count": 67,
   "metadata": {},
   "outputs": [
    {
     "data": {
      "text/plain": [
       "True"
      ]
     },
     "execution_count": 67,
     "metadata": {},
     "output_type": "execute_result"
    }
   ],
   "source": [
    "# Test\n",
    "check_bound(11.461185533036806, 13.888814466963195, 12.58257142857143)"
   ]
  },
  {
   "cell_type": "markdown",
   "metadata": {},
   "source": [
    "### 7. [1 pt] Creating Repeated Confidence Intervals\n",
    "\n",
    "Using the code pieces that you've written above, do the following:\n",
    "\n",
    "- Generate 1000 random samples (each of size 40 without replacement) from the population of all US states\n",
    "- Calculate the 85% confidence interval for each random sample\n",
    "- Record whether the confidence interval contains the population parameter\n",
    "\n",
    "Be sure to record whether the confidence interval contains the population parameter.  You may also record the other information, although this is not required."
   ]
  },
  {
   "cell_type": "code",
   "execution_count": 68,
   "metadata": {},
   "outputs": [
    {
     "name": "stdout",
     "output_type": "stream",
     "text": [
      "11.82758383254304 13.987416167456958\n"
     ]
    }
   ],
   "source": [
    "\n",
    "def interval(s, n, x_bar):\n",
    "    t = scipy.stats.t.ppf(0.925, df= n - 1)\n",
    "    margin_error = t * s / 40 ** (1/2)\n",
    "    lower = x_bar - margin_error\n",
    "    upper = x_bar + margin_error\n",
    "    return lower, upper\n",
    "\n",
    "#Test\n",
    "a,b = interval(s, 40, x_bar)\n",
    "print(a, b)"
   ]
  },
  {
   "cell_type": "code",
   "execution_count": 85,
   "metadata": {},
   "outputs": [],
   "source": [
    "data = []\n",
    "for i in range(1000):\n",
    "    df_s = df.sample(40, replace = True)\n",
    "    x_bar = df_s.RATE.mean()\n",
    "    s = df_s.RATE.std()\n",
    "    n = 40\n",
    "    a, b = interval(s, n, x_bar)\n",
    "    t_o_f = check_bound(a, b, 12.58257142857143 )\n",
    "    d = {\"contains_or_not\" : t_o_f}\n",
    "    data.append(d)"
   ]
  },
  {
   "cell_type": "code",
   "execution_count": 86,
   "metadata": {},
   "outputs": [
    {
     "data": {
      "text/html": [
       "<div>\n",
       "<style scoped>\n",
       "    .dataframe tbody tr th:only-of-type {\n",
       "        vertical-align: middle;\n",
       "    }\n",
       "\n",
       "    .dataframe tbody tr th {\n",
       "        vertical-align: top;\n",
       "    }\n",
       "\n",
       "    .dataframe thead th {\n",
       "        text-align: right;\n",
       "    }\n",
       "</style>\n",
       "<table border=\"1\" class=\"dataframe\">\n",
       "  <thead>\n",
       "    <tr style=\"text-align: right;\">\n",
       "      <th></th>\n",
       "      <th>contains_or_not</th>\n",
       "    </tr>\n",
       "  </thead>\n",
       "  <tbody>\n",
       "    <tr>\n",
       "      <th>0</th>\n",
       "      <td>True</td>\n",
       "    </tr>\n",
       "    <tr>\n",
       "      <th>1</th>\n",
       "      <td>False</td>\n",
       "    </tr>\n",
       "    <tr>\n",
       "      <th>2</th>\n",
       "      <td>True</td>\n",
       "    </tr>\n",
       "    <tr>\n",
       "      <th>3</th>\n",
       "      <td>True</td>\n",
       "    </tr>\n",
       "    <tr>\n",
       "      <th>4</th>\n",
       "      <td>True</td>\n",
       "    </tr>\n",
       "  </tbody>\n",
       "</table>\n",
       "</div>"
      ],
      "text/plain": [
       "   contains_or_not\n",
       "0             True\n",
       "1            False\n",
       "2             True\n",
       "3             True\n",
       "4             True"
      ]
     },
     "execution_count": 86,
     "metadata": {},
     "output_type": "execute_result"
    }
   ],
   "source": [
    "df_result = pd.DataFrame(data)\n",
    "df_result.head()"
   ]
  },
  {
   "cell_type": "code",
   "execution_count": 87,
   "metadata": {},
   "outputs": [
    {
     "data": {
      "text/plain": [
       "True     861\n",
       "False    139\n",
       "Name: contains_or_not, dtype: int64"
      ]
     },
     "execution_count": 87,
     "metadata": {},
     "output_type": "execute_result"
    }
   ],
   "source": [
    "df_result.contains_or_not.value_counts()"
   ]
  },
  {
   "cell_type": "markdown",
   "metadata": {},
   "source": [
    "### 8. [0.5 pts] Calculating the Proportion of Confidence Intervals Contained in Our Parameter\n",
    "\n",
    "From the output of the 1000 random samples, calculate the proportion of confidence intervals that contain our parameter."
   ]
  },
  {
   "cell_type": "code",
   "execution_count": 88,
   "metadata": {},
   "outputs": [
    {
     "data": {
      "text/plain": [
       "0.861"
      ]
     },
     "execution_count": 88,
     "metadata": {},
     "output_type": "execute_result"
    }
   ],
   "source": [
    "861 / 1000"
   ]
  },
  {
   "cell_type": "markdown",
   "metadata": {},
   "source": [
    "0.861"
   ]
  },
  {
   "cell_type": "markdown",
   "metadata": {},
   "source": [
    "### 9. [0.5 pts] Confidence Interval Assumptions\n",
    "\n",
    "The assumptions for generating a confidence interval are not met for this situation.  Which condition(s) is/are not met?  Explain.\n",
    "\n",
    "What are the implications of the assumptions not being met?"
   ]
  },
  {
   "cell_type": "markdown",
   "metadata": {},
   "source": [
    "n = 40 and the population is 350, so n is not < 10% of N, so the observations are not independent.\n",
    "\n",
    "This may cause the invalidity of confidence interval."
   ]
  },
  {
   "cell_type": "code",
   "execution_count": null,
   "metadata": {},
   "outputs": [],
   "source": []
  },
  {
   "cell_type": "code",
   "execution_count": null,
   "metadata": {},
   "outputs": [],
   "source": []
  }
 ],
 "metadata": {
  "kernelspec": {
   "display_name": "Python 3 (ipykernel)",
   "language": "python",
   "name": "python3"
  },
  "language_info": {
   "codemirror_mode": {
    "name": "ipython",
    "version": 3
   },
   "file_extension": ".py",
   "mimetype": "text/x-python",
   "name": "python",
   "nbconvert_exporter": "python",
   "pygments_lexer": "ipython3",
   "version": "3.10.8"
  }
 },
 "nbformat": 4,
 "nbformat_minor": 2
}
