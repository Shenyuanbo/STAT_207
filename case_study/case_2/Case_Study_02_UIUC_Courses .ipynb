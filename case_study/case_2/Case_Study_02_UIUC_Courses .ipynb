{
 "cells": [
  {
   "cell_type": "markdown",
   "id": "4c3f79af",
   "metadata": {},
   "source": [
    "# <u>Case Study 2</u>: Artificial UIUC Course Catalog\n",
    "\n",
    "We have seen that pandas data frames have a spreadsheet-like structure with the following characteristics:\n",
    "\n",
    "- **columns** correspond to different variables and have a single type, either numerical (integer, floating point, complex) or categorical (character strings or boolean)\n",
    "- **rows** are labeled by an **index** that identifies individual elements, which may be subjects, different time points, subject visits at different time points, products, or any other basic unit under study.  We call these units observational units.\n",
    "\n",
    "We have alaso seen that there are functions that operate on data frames to extract their attributes, like pandas.head() or perform operations like counting, summing, averaging, or graphing.\n",
    "\n",
    "In this notebook, we will continue to work with data frame structures by creating and analyzing the data frame about courses at UIUC.  We will investigate:\n",
    "\n",
    "- how to create simple objects\n",
    "- how to build a data frame from simpler objects\n",
    "- how to import and export data files\n",
    "- how to extract subsets of the data and refer to individual elements in a data frame\n",
    "- how to add new data\n",
    "- how to combine data from multiple sources\n",
    "- how to sort data by specific variables in a data frame\n",
    "- how missing data are represented, and how we can process them"
   ]
  },
  {
   "cell_type": "markdown",
   "id": "e952f998",
   "metadata": {},
   "source": [
    "At the beginning of most notebooks, you will find the necessary packages imported into your workspace.  This is similar to place a book onto your desk, so that you can easily reference any information contained in that book.\n",
    "\n",
    "We'll do this below with the **pandas package**, as the package contains many useful tools for **manipulating** and **cleaning** **dataframes**, which are pandas objects."
   ]
  },
  {
   "cell_type": "code",
   "execution_count": 1,
   "id": "9fb32bd2",
   "metadata": {},
   "outputs": [],
   "source": [
    "import pandas as pd"
   ]
  },
  {
   "cell_type": "markdown",
   "id": "af3998ce",
   "metadata": {},
   "source": [
    "## 1. Types of Python Objects\n",
    "\n",
    "There are many types of python objects.  In our first Case Study, we used python to print the type of object created.  You may review that document to see some of the object types that were created.  We'll continue exploring some of the object types here.\n",
    "\n",
    "First, we'll **create** two **list** objects."
   ]
  },
  {
   "cell_type": "code",
   "execution_count": 2,
   "id": "a92da7eb",
   "metadata": {},
   "outputs": [
    {
     "data": {
      "text/plain": [
       "['cs105', 'stat107', 'stat207', 'ansc307', 'hist407']"
      ]
     },
     "execution_count": 2,
     "metadata": {},
     "output_type": "execute_result"
    }
   ],
   "source": [
    "courses = ['cs105', 'stat107', 'stat207', 'ansc307', 'hist407']\n",
    "courses"
   ]
  },
  {
   "cell_type": "code",
   "execution_count": 3,
   "id": "52805021",
   "metadata": {},
   "outputs": [
    {
     "data": {
      "text/plain": [
       "list"
      ]
     },
     "execution_count": 3,
     "metadata": {},
     "output_type": "execute_result"
    }
   ],
   "source": [
    "type(courses)"
   ]
  },
  {
   "cell_type": "code",
   "execution_count": 4,
   "id": "acc6bca0",
   "metadata": {},
   "outputs": [
    {
     "data": {
      "text/plain": [
       "[479, 343, 226, 55, 22]"
      ]
     },
     "execution_count": 4,
     "metadata": {},
     "output_type": "execute_result"
    }
   ],
   "source": [
    "enrollment = [479, 343, 226, 55, 22]\n",
    "enrollment"
   ]
  },
  {
   "cell_type": "code",
   "execution_count": 5,
   "id": "4f34d7f9",
   "metadata": {},
   "outputs": [
    {
     "data": {
      "text/plain": [
       "list"
      ]
     },
     "execution_count": 5,
     "metadata": {},
     "output_type": "execute_result"
    }
   ],
   "source": [
    "type(enrollment)"
   ]
  },
  {
   "cell_type": "markdown",
   "id": "2264dee2",
   "metadata": {},
   "source": [
    "By using the **`type()`** function we verified that these are both lists.  A list is a one-dimensional sequence of values or objects.  A **list** can contain any combination of objects and is always enclosed in square **brackets** when we create one.  Remember to use commas to separate the entries in the list.  \n",
    "\n",
    "We can observe what type of objects are contained within each of these two lists.\n",
    "\n",
    "In order to do this, we need to extract individual entries in python.  Note that Python starts counting from 0, so the first entry will have an index of 0, the second of 1, and so forth."
   ]
  },
  {
   "cell_type": "code",
   "execution_count": 6,
   "id": "9dad6b3c",
   "metadata": {},
   "outputs": [
    {
     "data": {
      "text/plain": [
       "'cs105'"
      ]
     },
     "execution_count": 6,
     "metadata": {},
     "output_type": "execute_result"
    }
   ],
   "source": [
    "courses[0]"
   ]
  },
  {
   "cell_type": "code",
   "execution_count": 7,
   "id": "ada736ab",
   "metadata": {},
   "outputs": [
    {
     "data": {
      "text/plain": [
       "'stat107'"
      ]
     },
     "execution_count": 7,
     "metadata": {},
     "output_type": "execute_result"
    }
   ],
   "source": [
    "courses[1]"
   ]
  },
  {
   "cell_type": "code",
   "execution_count": 8,
   "id": "dd9be222",
   "metadata": {},
   "outputs": [
    {
     "data": {
      "text/plain": [
       "'stat207'"
      ]
     },
     "execution_count": 8,
     "metadata": {},
     "output_type": "execute_result"
    }
   ],
   "source": [
    "courses[2]"
   ]
  },
  {
   "cell_type": "code",
   "execution_count": 9,
   "id": "a5c4eb95",
   "metadata": {},
   "outputs": [
    {
     "data": {
      "text/plain": [
       "str"
      ]
     },
     "execution_count": 9,
     "metadata": {},
     "output_type": "execute_result"
    }
   ],
   "source": [
    "type(courses[0])"
   ]
  },
  {
   "cell_type": "markdown",
   "id": "2beb4160",
   "metadata": {},
   "source": [
    "We can see that the entries in the courses are listed as **string objects**, shortened as str.  This indicates that an entry contains characters."
   ]
  },
  {
   "cell_type": "code",
   "execution_count": 10,
   "id": "b589b57d",
   "metadata": {},
   "outputs": [
    {
     "data": {
      "text/plain": [
       "int"
      ]
     },
     "execution_count": 10,
     "metadata": {},
     "output_type": "execute_result"
    }
   ],
   "source": [
    "type(enrollment[4])"
   ]
  },
  {
   "cell_type": "markdown",
   "id": "662cc38e",
   "metadata": {},
   "source": [
    "We can see that the entries in the enrollment list are **integer objects**.\n",
    "\n",
    "We can also create a **dictionary object**.  A dictionary is a set of **ordered pairs** of **keys** and **values**.  For instance, \n",
    "- the 'course' key in course_dictionary below corresponds to the courses value and\n",
    "- the 'enrolled' key in course_dictionary below corresponds to the enrollment value.\n",
    "\n",
    "The structure for creating a dictionary is:\n",
    "\n",
    "{'key1': value1, 'key2': value2, 'key3': value3, ...}"
   ]
  },
  {
   "cell_type": "code",
   "execution_count": 11,
   "id": "6908657b",
   "metadata": {},
   "outputs": [
    {
     "data": {
      "text/plain": [
       "{'course': ['cs105', 'stat107', 'stat207', 'ansc307', 'hist407'],\n",
       " 'enrolled': [479, 343, 226, 55, 22]}"
      ]
     },
     "execution_count": 11,
     "metadata": {},
     "output_type": "execute_result"
    }
   ],
   "source": [
    "course_dictionary = {'course': courses, 'enrolled': enrollment}\n",
    "course_dictionary"
   ]
  },
  {
   "cell_type": "code",
   "execution_count": 12,
   "id": "d161fcf4",
   "metadata": {},
   "outputs": [
    {
     "data": {
      "text/plain": [
       "dict"
      ]
     },
     "execution_count": 12,
     "metadata": {},
     "output_type": "execute_result"
    }
   ],
   "source": [
    "type(course_dictionary)"
   ]
  },
  {
   "cell_type": "markdown",
   "id": "49fb3712",
   "metadata": {},
   "source": [
    "Pay close attention to the different types of brackets:\n",
    "\n",
    "- '( )' enclose function arguments\n",
    "- '[ ]' enclose elements in a *list* or *array*\n",
    "- '{ }' enclose elements in a *dictionary*"
   ]
  },
  {
   "cell_type": "markdown",
   "id": "5bb9acb0",
   "metadata": {},
   "source": [
    "## 2. Creating a dataframe\n",
    "\n",
    "We can use the objects that we've created to build a new dataframe.  We saw in Case Study 1 that we can also create a dataframe with an existing data file on our computer.\n",
    "\n",
    "We can use the pandas **`DataFrame()`** function to create a dataframe from a dictionary.\n",
    "\n",
    "Notice how each of the **keys become a column name** and each of the **values become a column of data**."
   ]
  },
  {
   "cell_type": "code",
   "execution_count": 13,
   "id": "d9375053",
   "metadata": {},
   "outputs": [
    {
     "data": {
      "text/html": [
       "<div>\n",
       "<style scoped>\n",
       "    .dataframe tbody tr th:only-of-type {\n",
       "        vertical-align: middle;\n",
       "    }\n",
       "\n",
       "    .dataframe tbody tr th {\n",
       "        vertical-align: top;\n",
       "    }\n",
       "\n",
       "    .dataframe thead th {\n",
       "        text-align: right;\n",
       "    }\n",
       "</style>\n",
       "<table border=\"1\" class=\"dataframe\">\n",
       "  <thead>\n",
       "    <tr style=\"text-align: right;\">\n",
       "      <th></th>\n",
       "      <th>course</th>\n",
       "      <th>enrolled</th>\n",
       "    </tr>\n",
       "  </thead>\n",
       "  <tbody>\n",
       "    <tr>\n",
       "      <th>0</th>\n",
       "      <td>cs105</td>\n",
       "      <td>479</td>\n",
       "    </tr>\n",
       "    <tr>\n",
       "      <th>1</th>\n",
       "      <td>stat107</td>\n",
       "      <td>343</td>\n",
       "    </tr>\n",
       "    <tr>\n",
       "      <th>2</th>\n",
       "      <td>stat207</td>\n",
       "      <td>226</td>\n",
       "    </tr>\n",
       "    <tr>\n",
       "      <th>3</th>\n",
       "      <td>ansc307</td>\n",
       "      <td>55</td>\n",
       "    </tr>\n",
       "    <tr>\n",
       "      <th>4</th>\n",
       "      <td>hist407</td>\n",
       "      <td>22</td>\n",
       "    </tr>\n",
       "  </tbody>\n",
       "</table>\n",
       "</div>"
      ],
      "text/plain": [
       "    course  enrolled\n",
       "0    cs105       479\n",
       "1  stat107       343\n",
       "2  stat207       226\n",
       "3  ansc307        55\n",
       "4  hist407        22"
      ]
     },
     "execution_count": 13,
     "metadata": {},
     "output_type": "execute_result"
    }
   ],
   "source": [
    "# Both of the first two lines of code do the same thing.\n",
    "littledf = pd.DataFrame(course_dictionary)\n",
    "littledf = pd.DataFrame({'course': courses, 'enrolled': enrollment})\n",
    "littledf"
   ]
  },
  {
   "cell_type": "markdown",
   "id": "ab09824d",
   "metadata": {},
   "source": [
    "## 3. Select a column from a dataframe\n",
    "\n",
    "We saw in the previous Case Study that we can use square brackets to isolate a single variable/column from our dataframe.  We use the following syntax to do so:\n",
    "\n",
    "**`dataframe_name['column_name']`**"
   ]
  },
  {
   "cell_type": "code",
   "execution_count": 14,
   "id": "be85371c",
   "metadata": {},
   "outputs": [
    {
     "data": {
      "text/plain": [
       "0    479\n",
       "1    343\n",
       "2    226\n",
       "3     55\n",
       "4     22\n",
       "Name: enrolled, dtype: int64"
      ]
     },
     "execution_count": 14,
     "metadata": {},
     "output_type": "execute_result"
    }
   ],
   "source": [
    "littledf['enrolled']"
   ]
  },
  {
   "cell_type": "markdown",
   "id": "6eb38cc3",
   "metadata": {},
   "source": [
    "## 4. Add a column to a dataframe\n",
    "\n",
    "We can **create a new column in a dataframe** by using brackets and the name of the column we want to create on the left, and then an object with the new data for the column on the right.  We use the following syntax to do so:\n",
    "\n",
    "**`dataframe_name['column_name'] = new_data`**"
   ]
  },
  {
   "cell_type": "code",
   "execution_count": 15,
   "id": "d6fd2447",
   "metadata": {
    "scrolled": true
   },
   "outputs": [
    {
     "data": {
      "text/html": [
       "<div>\n",
       "<style scoped>\n",
       "    .dataframe tbody tr th:only-of-type {\n",
       "        vertical-align: middle;\n",
       "    }\n",
       "\n",
       "    .dataframe tbody tr th {\n",
       "        vertical-align: top;\n",
       "    }\n",
       "\n",
       "    .dataframe thead th {\n",
       "        text-align: right;\n",
       "    }\n",
       "</style>\n",
       "<table border=\"1\" class=\"dataframe\">\n",
       "  <thead>\n",
       "    <tr style=\"text-align: right;\">\n",
       "      <th></th>\n",
       "      <th>course</th>\n",
       "      <th>enrolled</th>\n",
       "      <th>college</th>\n",
       "    </tr>\n",
       "  </thead>\n",
       "  <tbody>\n",
       "    <tr>\n",
       "      <th>0</th>\n",
       "      <td>cs105</td>\n",
       "      <td>479</td>\n",
       "      <td>ENGR</td>\n",
       "    </tr>\n",
       "    <tr>\n",
       "      <th>1</th>\n",
       "      <td>stat107</td>\n",
       "      <td>343</td>\n",
       "      <td>LAS</td>\n",
       "    </tr>\n",
       "    <tr>\n",
       "      <th>2</th>\n",
       "      <td>stat207</td>\n",
       "      <td>226</td>\n",
       "      <td>LAS</td>\n",
       "    </tr>\n",
       "    <tr>\n",
       "      <th>3</th>\n",
       "      <td>ansc307</td>\n",
       "      <td>55</td>\n",
       "      <td>ACES</td>\n",
       "    </tr>\n",
       "    <tr>\n",
       "      <th>4</th>\n",
       "      <td>hist407</td>\n",
       "      <td>22</td>\n",
       "      <td>LAS</td>\n",
       "    </tr>\n",
       "  </tbody>\n",
       "</table>\n",
       "</div>"
      ],
      "text/plain": [
       "    course  enrolled college\n",
       "0    cs105       479    ENGR\n",
       "1  stat107       343     LAS\n",
       "2  stat207       226     LAS\n",
       "3  ansc307        55    ACES\n",
       "4  hist407        22     LAS"
      ]
     },
     "execution_count": 15,
     "metadata": {},
     "output_type": "execute_result"
    }
   ],
   "source": [
    "littledf['college'] = ['ENGR', 'LAS', 'LAS', 'ACES', 'LAS']\n",
    "littledf"
   ]
  },
  {
   "cell_type": "markdown",
   "id": "fe504447",
   "metadata": {},
   "source": [
    "## 5. Writing a dataframe to a csv\n",
    "\n",
    "We often start a data analysis by reading in data from an external file source.  We saw an example of this in Case Study 1 using `pd.read_csv()`.\n",
    "\n",
    "After data processing and/or manipulation, we may be interested in the reverse operation: saving our current, internal dataframe to a transportable data file.  Here, we'll export the 'littledf' data to an external csv file using the **`pandas.DataFrame:to_csv`** function. "
   ]
  },
  {
   "cell_type": "code",
   "execution_count": 16,
   "id": "3833852d",
   "metadata": {},
   "outputs": [],
   "source": [
    "littledf.to_csv('courses.csv')"
   ]
  },
  {
   "cell_type": "markdown",
   "id": "6baf9939",
   "metadata": {},
   "source": [
    "If you navigate to the folder that this Jupyter notebook is saved in, you should see a **new csv** file created called 'courses.csv' that contains the data from littledf."
   ]
  },
  {
   "cell_type": "markdown",
   "id": "f5d22a79",
   "metadata": {},
   "source": [
    "## Try It Tutorial!\n",
    "\n",
    "Suppose that you wanted to add another variable to littledf, indicating whether each course had reached its enrollment capacity.\n",
    "\n",
    "Of the courses, only ANSC305 has reached its capacity.\n",
    "\n",
    "To prevent any later issues, we'll make a copy of the dataframe.  For this tutorial, use the tryit dataframe created below.\n",
    "\n",
    "1. Add an appropriate variable titled 'isfull' to the dataframe.  \n",
    "2. Check the object type of the first entry.\n",
    "3. What type of variable is 'isfull'?\n",
    "4. Use python tools to calculate the percent of classes in our littledf that are at capacity?"
   ]
  },
  {
   "cell_type": "code",
   "execution_count": 17,
   "id": "845e9f91",
   "metadata": {},
   "outputs": [],
   "source": [
    "tryit = littledf.copy()"
   ]
  },
  {
   "cell_type": "code",
   "execution_count": null,
   "id": "3647e9e8",
   "metadata": {},
   "outputs": [],
   "source": []
  },
  {
   "cell_type": "markdown",
   "id": "6d0dbfe4",
   "metadata": {},
   "source": [
    "## 6. Subsetting a Dataframe with Index Numbers\n",
    "\n",
    "For various reasons, we may be interested in reducing our data.  We may look to subset our data to only include specific instances within a dataframe.  We'll see examples below.\n",
    "\n",
    "If you know the specific location of the dataframe that you are targeting, you can use the **`iloc`** attribute.  We can use this to refer to specific elements or \"slices\" of elements in the dataframe.\n",
    "\n",
    "We can select a **single entry** as below.  Here, we are targeting the upper left entry:"
   ]
  },
  {
   "cell_type": "code",
   "execution_count": 18,
   "id": "8570ec92",
   "metadata": {},
   "outputs": [
    {
     "data": {
      "text/plain": [
       "'cs105'"
      ]
     },
     "execution_count": 18,
     "metadata": {},
     "output_type": "execute_result"
    }
   ],
   "source": [
    "littledf.iloc[0,0]"
   ]
  },
  {
   "cell_type": "markdown",
   "id": "71adbf35",
   "metadata": {},
   "source": [
    "We can extract the element with row index 3, column index 2 as:"
   ]
  },
  {
   "cell_type": "code",
   "execution_count": 19,
   "id": "670d66d6",
   "metadata": {},
   "outputs": [
    {
     "data": {
      "text/plain": [
       "'ACES'"
      ]
     },
     "execution_count": 19,
     "metadata": {},
     "output_type": "execute_result"
    }
   ],
   "source": [
    "littledf.iloc[3,2]"
   ]
  },
  {
   "cell_type": "markdown",
   "id": "fb032e1b",
   "metadata": {},
   "source": [
    "Note: because Python starts counting at 0, you might describe this as the element visually appearing in the 4th row and the 3rd column.\n",
    "\n",
    "Another way to get this same information is to extract the column (using the name) first, and then select the index of the entry in the row you want."
   ]
  },
  {
   "cell_type": "code",
   "execution_count": 20,
   "id": "97327b43",
   "metadata": {},
   "outputs": [
    {
     "data": {
      "text/plain": [
       "'ACES'"
      ]
     },
     "execution_count": 20,
     "metadata": {},
     "output_type": "execute_result"
    }
   ],
   "source": [
    "littledf['college'][3]"
   ]
  },
  {
   "cell_type": "code",
   "execution_count": 21,
   "id": "6db3abc3",
   "metadata": {},
   "outputs": [
    {
     "data": {
      "text/plain": [
       "0    ENGR\n",
       "1     LAS\n",
       "2     LAS\n",
       "3    ACES\n",
       "4     LAS\n",
       "Name: college, dtype: object"
      ]
     },
     "execution_count": 21,
     "metadata": {},
     "output_type": "execute_result"
    }
   ],
   "source": [
    "littledf['college']"
   ]
  },
  {
   "cell_type": "markdown",
   "id": "6c4bd2a6",
   "metadata": {},
   "source": [
    "We can also select **ranges of entries** using row and/or column indices.\n",
    "\n",
    "With a two-dimensional dataframe, our row indices are provided first, followed by a comma and then our column indices.\n",
    "\n",
    "We can extract a slice of more than one element using the sequence notation i:j:k to refer to indices running from i to j using step-size k.  The default k is assumed to be 1.  If we do not provide i and j, then it is assumed that we'd like to use the whole range.\n",
    "\n",
    "Here's an example where we extract the middle three rows of the dataframe.  Note that '1:4' results in the inclusion of rows 1, 2, and 3 but not 4!"
   ]
  },
  {
   "cell_type": "code",
   "execution_count": 22,
   "id": "0fd6fc8d",
   "metadata": {},
   "outputs": [
    {
     "data": {
      "text/html": [
       "<div>\n",
       "<style scoped>\n",
       "    .dataframe tbody tr th:only-of-type {\n",
       "        vertical-align: middle;\n",
       "    }\n",
       "\n",
       "    .dataframe tbody tr th {\n",
       "        vertical-align: top;\n",
       "    }\n",
       "\n",
       "    .dataframe thead th {\n",
       "        text-align: right;\n",
       "    }\n",
       "</style>\n",
       "<table border=\"1\" class=\"dataframe\">\n",
       "  <thead>\n",
       "    <tr style=\"text-align: right;\">\n",
       "      <th></th>\n",
       "      <th>course</th>\n",
       "      <th>enrolled</th>\n",
       "      <th>college</th>\n",
       "    </tr>\n",
       "  </thead>\n",
       "  <tbody>\n",
       "    <tr>\n",
       "      <th>1</th>\n",
       "      <td>stat107</td>\n",
       "      <td>343</td>\n",
       "      <td>LAS</td>\n",
       "    </tr>\n",
       "    <tr>\n",
       "      <th>2</th>\n",
       "      <td>stat207</td>\n",
       "      <td>226</td>\n",
       "      <td>LAS</td>\n",
       "    </tr>\n",
       "    <tr>\n",
       "      <th>3</th>\n",
       "      <td>ansc307</td>\n",
       "      <td>55</td>\n",
       "      <td>ACES</td>\n",
       "    </tr>\n",
       "  </tbody>\n",
       "</table>\n",
       "</div>"
      ],
      "text/plain": [
       "    course  enrolled college\n",
       "1  stat107       343     LAS\n",
       "2  stat207       226     LAS\n",
       "3  ansc307        55    ACES"
      ]
     },
     "execution_count": 22,
     "metadata": {},
     "output_type": "execute_result"
    }
   ],
   "source": [
    "littledf.iloc[1:4,:]"
   ]
  },
  {
   "cell_type": "markdown",
   "id": "f5c74590",
   "metadata": {},
   "source": [
    "If we wanted to include rows 0-3, we can use the sequence ':4', which includes all rows before the row with index=4."
   ]
  },
  {
   "cell_type": "code",
   "execution_count": 23,
   "id": "722e4cf8",
   "metadata": {},
   "outputs": [
    {
     "data": {
      "text/html": [
       "<div>\n",
       "<style scoped>\n",
       "    .dataframe tbody tr th:only-of-type {\n",
       "        vertical-align: middle;\n",
       "    }\n",
       "\n",
       "    .dataframe tbody tr th {\n",
       "        vertical-align: top;\n",
       "    }\n",
       "\n",
       "    .dataframe thead th {\n",
       "        text-align: right;\n",
       "    }\n",
       "</style>\n",
       "<table border=\"1\" class=\"dataframe\">\n",
       "  <thead>\n",
       "    <tr style=\"text-align: right;\">\n",
       "      <th></th>\n",
       "      <th>course</th>\n",
       "      <th>enrolled</th>\n",
       "      <th>college</th>\n",
       "    </tr>\n",
       "  </thead>\n",
       "  <tbody>\n",
       "    <tr>\n",
       "      <th>0</th>\n",
       "      <td>cs105</td>\n",
       "      <td>479</td>\n",
       "      <td>ENGR</td>\n",
       "    </tr>\n",
       "    <tr>\n",
       "      <th>1</th>\n",
       "      <td>stat107</td>\n",
       "      <td>343</td>\n",
       "      <td>LAS</td>\n",
       "    </tr>\n",
       "    <tr>\n",
       "      <th>2</th>\n",
       "      <td>stat207</td>\n",
       "      <td>226</td>\n",
       "      <td>LAS</td>\n",
       "    </tr>\n",
       "    <tr>\n",
       "      <th>3</th>\n",
       "      <td>ansc307</td>\n",
       "      <td>55</td>\n",
       "      <td>ACES</td>\n",
       "    </tr>\n",
       "  </tbody>\n",
       "</table>\n",
       "</div>"
      ],
      "text/plain": [
       "    course  enrolled college\n",
       "0    cs105       479    ENGR\n",
       "1  stat107       343     LAS\n",
       "2  stat207       226     LAS\n",
       "3  ansc307        55    ACES"
      ]
     },
     "execution_count": 23,
     "metadata": {},
     "output_type": "execute_result"
    }
   ],
   "source": [
    "littledf.iloc[:4,:]"
   ]
  },
  {
   "cell_type": "markdown",
   "id": "4ec3df13",
   "metadata": {},
   "source": [
    "If, on the other hand, we wished to include all rows after rows 0 and 1, the sequence ':2' will do this."
   ]
  },
  {
   "cell_type": "code",
   "execution_count": 24,
   "id": "5d1332a0",
   "metadata": {},
   "outputs": [
    {
     "data": {
      "text/html": [
       "<div>\n",
       "<style scoped>\n",
       "    .dataframe tbody tr th:only-of-type {\n",
       "        vertical-align: middle;\n",
       "    }\n",
       "\n",
       "    .dataframe tbody tr th {\n",
       "        vertical-align: top;\n",
       "    }\n",
       "\n",
       "    .dataframe thead th {\n",
       "        text-align: right;\n",
       "    }\n",
       "</style>\n",
       "<table border=\"1\" class=\"dataframe\">\n",
       "  <thead>\n",
       "    <tr style=\"text-align: right;\">\n",
       "      <th></th>\n",
       "      <th>course</th>\n",
       "      <th>enrolled</th>\n",
       "      <th>college</th>\n",
       "    </tr>\n",
       "  </thead>\n",
       "  <tbody>\n",
       "    <tr>\n",
       "      <th>2</th>\n",
       "      <td>stat207</td>\n",
       "      <td>226</td>\n",
       "      <td>LAS</td>\n",
       "    </tr>\n",
       "    <tr>\n",
       "      <th>3</th>\n",
       "      <td>ansc307</td>\n",
       "      <td>55</td>\n",
       "      <td>ACES</td>\n",
       "    </tr>\n",
       "    <tr>\n",
       "      <th>4</th>\n",
       "      <td>hist407</td>\n",
       "      <td>22</td>\n",
       "      <td>LAS</td>\n",
       "    </tr>\n",
       "  </tbody>\n",
       "</table>\n",
       "</div>"
      ],
      "text/plain": [
       "    course  enrolled college\n",
       "2  stat207       226     LAS\n",
       "3  ansc307        55    ACES\n",
       "4  hist407        22     LAS"
      ]
     },
     "execution_count": 24,
     "metadata": {},
     "output_type": "execute_result"
    }
   ],
   "source": [
    "littledf.iloc[2:,:]"
   ]
  },
  {
   "cell_type": "markdown",
   "id": "21659f19",
   "metadata": {},
   "source": [
    "We can also specify lists of the **specific row and/or column indices** that we want to select, even if those entries are not in subsequent order.  For example, we may wish to print only the first, second, and fourth rows, or only the zeroth and second columns."
   ]
  },
  {
   "cell_type": "code",
   "execution_count": 25,
   "id": "4413f54f",
   "metadata": {},
   "outputs": [
    {
     "data": {
      "text/html": [
       "<div>\n",
       "<style scoped>\n",
       "    .dataframe tbody tr th:only-of-type {\n",
       "        vertical-align: middle;\n",
       "    }\n",
       "\n",
       "    .dataframe tbody tr th {\n",
       "        vertical-align: top;\n",
       "    }\n",
       "\n",
       "    .dataframe thead th {\n",
       "        text-align: right;\n",
       "    }\n",
       "</style>\n",
       "<table border=\"1\" class=\"dataframe\">\n",
       "  <thead>\n",
       "    <tr style=\"text-align: right;\">\n",
       "      <th></th>\n",
       "      <th>course</th>\n",
       "      <th>enrolled</th>\n",
       "      <th>college</th>\n",
       "    </tr>\n",
       "  </thead>\n",
       "  <tbody>\n",
       "    <tr>\n",
       "      <th>1</th>\n",
       "      <td>stat107</td>\n",
       "      <td>343</td>\n",
       "      <td>LAS</td>\n",
       "    </tr>\n",
       "    <tr>\n",
       "      <th>2</th>\n",
       "      <td>stat207</td>\n",
       "      <td>226</td>\n",
       "      <td>LAS</td>\n",
       "    </tr>\n",
       "    <tr>\n",
       "      <th>4</th>\n",
       "      <td>hist407</td>\n",
       "      <td>22</td>\n",
       "      <td>LAS</td>\n",
       "    </tr>\n",
       "  </tbody>\n",
       "</table>\n",
       "</div>"
      ],
      "text/plain": [
       "    course  enrolled college\n",
       "1  stat107       343     LAS\n",
       "2  stat207       226     LAS\n",
       "4  hist407        22     LAS"
      ]
     },
     "execution_count": 25,
     "metadata": {},
     "output_type": "execute_result"
    }
   ],
   "source": [
    "littledf.iloc[[1,2,4],:]"
   ]
  },
  {
   "cell_type": "code",
   "execution_count": 26,
   "id": "9f2e6de2",
   "metadata": {},
   "outputs": [
    {
     "data": {
      "text/html": [
       "<div>\n",
       "<style scoped>\n",
       "    .dataframe tbody tr th:only-of-type {\n",
       "        vertical-align: middle;\n",
       "    }\n",
       "\n",
       "    .dataframe tbody tr th {\n",
       "        vertical-align: top;\n",
       "    }\n",
       "\n",
       "    .dataframe thead th {\n",
       "        text-align: right;\n",
       "    }\n",
       "</style>\n",
       "<table border=\"1\" class=\"dataframe\">\n",
       "  <thead>\n",
       "    <tr style=\"text-align: right;\">\n",
       "      <th></th>\n",
       "      <th>course</th>\n",
       "      <th>college</th>\n",
       "    </tr>\n",
       "  </thead>\n",
       "  <tbody>\n",
       "    <tr>\n",
       "      <th>0</th>\n",
       "      <td>cs105</td>\n",
       "      <td>ENGR</td>\n",
       "    </tr>\n",
       "    <tr>\n",
       "      <th>1</th>\n",
       "      <td>stat107</td>\n",
       "      <td>LAS</td>\n",
       "    </tr>\n",
       "    <tr>\n",
       "      <th>2</th>\n",
       "      <td>stat207</td>\n",
       "      <td>LAS</td>\n",
       "    </tr>\n",
       "    <tr>\n",
       "      <th>3</th>\n",
       "      <td>ansc307</td>\n",
       "      <td>ACES</td>\n",
       "    </tr>\n",
       "    <tr>\n",
       "      <th>4</th>\n",
       "      <td>hist407</td>\n",
       "      <td>LAS</td>\n",
       "    </tr>\n",
       "  </tbody>\n",
       "</table>\n",
       "</div>"
      ],
      "text/plain": [
       "    course college\n",
       "0    cs105    ENGR\n",
       "1  stat107     LAS\n",
       "2  stat207     LAS\n",
       "3  ansc307    ACES\n",
       "4  hist407     LAS"
      ]
     },
     "execution_count": 26,
     "metadata": {},
     "output_type": "execute_result"
    }
   ],
   "source": [
    "littledf.iloc[:,[0,2]]"
   ]
  },
  {
   "cell_type": "code",
   "execution_count": 27,
   "id": "7ef9a39b",
   "metadata": {},
   "outputs": [
    {
     "data": {
      "text/html": [
       "<div>\n",
       "<style scoped>\n",
       "    .dataframe tbody tr th:only-of-type {\n",
       "        vertical-align: middle;\n",
       "    }\n",
       "\n",
       "    .dataframe tbody tr th {\n",
       "        vertical-align: top;\n",
       "    }\n",
       "\n",
       "    .dataframe thead th {\n",
       "        text-align: right;\n",
       "    }\n",
       "</style>\n",
       "<table border=\"1\" class=\"dataframe\">\n",
       "  <thead>\n",
       "    <tr style=\"text-align: right;\">\n",
       "      <th></th>\n",
       "      <th>college</th>\n",
       "    </tr>\n",
       "  </thead>\n",
       "  <tbody>\n",
       "    <tr>\n",
       "      <th>0</th>\n",
       "      <td>ENGR</td>\n",
       "    </tr>\n",
       "    <tr>\n",
       "      <th>3</th>\n",
       "      <td>ACES</td>\n",
       "    </tr>\n",
       "  </tbody>\n",
       "</table>\n",
       "</div>"
      ],
      "text/plain": [
       "  college\n",
       "0    ENGR\n",
       "3    ACES"
      ]
     },
     "execution_count": 27,
     "metadata": {},
     "output_type": "execute_result"
    }
   ],
   "source": [
    "littledf.iloc[[0,3],[2]]"
   ]
  },
  {
   "cell_type": "markdown",
   "id": "e994ca25",
   "metadata": {},
   "source": [
    "## 7. Subsetting a Dataframe with Conditions\n",
    "\n",
    "### 7.1. Filtering rows by a column condition\n",
    "\n",
    "Three cells above this, we printed all of the rows in our littledf dataframe that are in the college of LAS.  We could easily find these indices in our small dataframe, but how would we select just these rows without tediously having to look up the row indices?  This would be especially helpful if we had a larger dataframe of all courses on campus.\n",
    "\n",
    "First, we'll want to create a series that 'checks' whether a *given condition* is true.  I will often refer to this as a \"logical statement\"."
   ]
  },
  {
   "cell_type": "code",
   "execution_count": 28,
   "id": "80485925",
   "metadata": {},
   "outputs": [
    {
     "data": {
      "text/plain": [
       "0    False\n",
       "1     True\n",
       "2     True\n",
       "3    False\n",
       "4     True\n",
       "Name: college, dtype: bool"
      ]
     },
     "execution_count": 28,
     "metadata": {},
     "output_type": "execute_result"
    }
   ],
   "source": [
    "# Logical Statement: Is the entry = 'LAS'?\n",
    "littledf['college']=='LAS'"
   ]
  },
  {
   "cell_type": "code",
   "execution_count": 29,
   "id": "f937d16c",
   "metadata": {},
   "outputs": [
    {
     "data": {
      "text/plain": [
       "pandas.core.series.Series"
      ]
     },
     "execution_count": 29,
     "metadata": {},
     "output_type": "execute_result"
    }
   ],
   "source": [
    "type(littledf['college']=='LAS')"
   ]
  },
  {
   "cell_type": "markdown",
   "id": "8786703a",
   "metadata": {},
   "source": [
    "Once we have our condition checked, we can then filter our rows based on the column condition.  This takes the syntax below\n",
    "\n",
    "**`dataframe_name[column entry condition]`**"
   ]
  },
  {
   "cell_type": "code",
   "execution_count": 30,
   "id": "675f761f",
   "metadata": {},
   "outputs": [
    {
     "data": {
      "text/html": [
       "<div>\n",
       "<style scoped>\n",
       "    .dataframe tbody tr th:only-of-type {\n",
       "        vertical-align: middle;\n",
       "    }\n",
       "\n",
       "    .dataframe tbody tr th {\n",
       "        vertical-align: top;\n",
       "    }\n",
       "\n",
       "    .dataframe thead th {\n",
       "        text-align: right;\n",
       "    }\n",
       "</style>\n",
       "<table border=\"1\" class=\"dataframe\">\n",
       "  <thead>\n",
       "    <tr style=\"text-align: right;\">\n",
       "      <th></th>\n",
       "      <th>course</th>\n",
       "      <th>enrolled</th>\n",
       "      <th>college</th>\n",
       "    </tr>\n",
       "  </thead>\n",
       "  <tbody>\n",
       "    <tr>\n",
       "      <th>1</th>\n",
       "      <td>stat107</td>\n",
       "      <td>343</td>\n",
       "      <td>LAS</td>\n",
       "    </tr>\n",
       "    <tr>\n",
       "      <th>2</th>\n",
       "      <td>stat207</td>\n",
       "      <td>226</td>\n",
       "      <td>LAS</td>\n",
       "    </tr>\n",
       "    <tr>\n",
       "      <th>4</th>\n",
       "      <td>hist407</td>\n",
       "      <td>22</td>\n",
       "      <td>LAS</td>\n",
       "    </tr>\n",
       "  </tbody>\n",
       "</table>\n",
       "</div>"
      ],
      "text/plain": [
       "    course  enrolled college\n",
       "1  stat107       343     LAS\n",
       "2  stat207       226     LAS\n",
       "4  hist407        22     LAS"
      ]
     },
     "execution_count": 30,
     "metadata": {},
     "output_type": "execute_result"
    }
   ],
   "source": [
    "littledf[littledf['college']=='LAS']"
   ]
  },
  {
   "cell_type": "markdown",
   "id": "81a8636d",
   "metadata": {},
   "source": [
    "What if we want only the enrollment of the LAS courses?\n",
    "\n",
    "In this case, we want to combine filtering based on a condition and column selection.  There are many ways to combine our tools to accomplish this.  We can do this step-by-step or all at once."
   ]
  },
  {
   "cell_type": "code",
   "execution_count": 31,
   "id": "cbe5298e",
   "metadata": {},
   "outputs": [
    {
     "data": {
      "text/html": [
       "<div>\n",
       "<style scoped>\n",
       "    .dataframe tbody tr th:only-of-type {\n",
       "        vertical-align: middle;\n",
       "    }\n",
       "\n",
       "    .dataframe tbody tr th {\n",
       "        vertical-align: top;\n",
       "    }\n",
       "\n",
       "    .dataframe thead th {\n",
       "        text-align: right;\n",
       "    }\n",
       "</style>\n",
       "<table border=\"1\" class=\"dataframe\">\n",
       "  <thead>\n",
       "    <tr style=\"text-align: right;\">\n",
       "      <th></th>\n",
       "      <th>course</th>\n",
       "      <th>enrolled</th>\n",
       "      <th>college</th>\n",
       "    </tr>\n",
       "  </thead>\n",
       "  <tbody>\n",
       "    <tr>\n",
       "      <th>1</th>\n",
       "      <td>stat107</td>\n",
       "      <td>343</td>\n",
       "      <td>LAS</td>\n",
       "    </tr>\n",
       "    <tr>\n",
       "      <th>2</th>\n",
       "      <td>stat207</td>\n",
       "      <td>226</td>\n",
       "      <td>LAS</td>\n",
       "    </tr>\n",
       "    <tr>\n",
       "      <th>4</th>\n",
       "      <td>hist407</td>\n",
       "      <td>22</td>\n",
       "      <td>LAS</td>\n",
       "    </tr>\n",
       "  </tbody>\n",
       "</table>\n",
       "</div>"
      ],
      "text/plain": [
       "    course  enrolled college\n",
       "1  stat107       343     LAS\n",
       "2  stat207       226     LAS\n",
       "4  hist407        22     LAS"
      ]
     },
     "execution_count": 31,
     "metadata": {},
     "output_type": "execute_result"
    }
   ],
   "source": [
    "# Approach 1\n",
    "smallerdf = littledf[littledf['college']=='LAS']\n",
    "smallerdf"
   ]
  },
  {
   "cell_type": "code",
   "execution_count": 32,
   "id": "3b63c151",
   "metadata": {},
   "outputs": [
    {
     "data": {
      "text/plain": [
       "1    343\n",
       "2    226\n",
       "4     22\n",
       "Name: enrolled, dtype: int64"
      ]
     },
     "execution_count": 32,
     "metadata": {},
     "output_type": "execute_result"
    }
   ],
   "source": [
    "smallerdf['enrolled']"
   ]
  },
  {
   "cell_type": "code",
   "execution_count": 33,
   "id": "42f3b168",
   "metadata": {},
   "outputs": [
    {
     "data": {
      "text/plain": [
       "1    343\n",
       "2    226\n",
       "4     22\n",
       "Name: enrolled, dtype: int64"
      ]
     },
     "execution_count": 33,
     "metadata": {},
     "output_type": "execute_result"
    }
   ],
   "source": [
    "# Approach 2\n",
    "littledf[littledf['college']=='LAS']['enrolled']"
   ]
  },
  {
   "cell_type": "markdown",
   "id": "e1f880ad",
   "metadata": {},
   "source": [
    "Above, we see that we first extracted the three rows assocaciated with LAS courses.  We can then refer to the 'enrolled' column of this smaller dataframe.\n",
    "\n",
    "We could switch the order, by first extracting the enrollments and then filtering."
   ]
  },
  {
   "cell_type": "code",
   "execution_count": 34,
   "id": "c4a3886e",
   "metadata": {},
   "outputs": [
    {
     "data": {
      "text/plain": [
       "0    479\n",
       "1    343\n",
       "2    226\n",
       "3     55\n",
       "4     22\n",
       "Name: enrolled, dtype: int64"
      ]
     },
     "execution_count": 34,
     "metadata": {},
     "output_type": "execute_result"
    }
   ],
   "source": [
    "# Approach 3\n",
    "enrolled_column = littledf['enrolled']\n",
    "enrolled_column"
   ]
  },
  {
   "cell_type": "code",
   "execution_count": 35,
   "id": "1fe210eb",
   "metadata": {},
   "outputs": [
    {
     "data": {
      "text/plain": [
       "1    343\n",
       "2    226\n",
       "4     22\n",
       "Name: enrolled, dtype: int64"
      ]
     },
     "execution_count": 35,
     "metadata": {},
     "output_type": "execute_result"
    }
   ],
   "source": [
    "enrolled_column[littledf['college']=='LAS']"
   ]
  },
  {
   "cell_type": "code",
   "execution_count": 36,
   "id": "ce732e26",
   "metadata": {},
   "outputs": [
    {
     "data": {
      "text/plain": [
       "1    343\n",
       "2    226\n",
       "4     22\n",
       "Name: enrolled, dtype: int64"
      ]
     },
     "execution_count": 36,
     "metadata": {},
     "output_type": "execute_result"
    }
   ],
   "source": [
    "# Approach 4\n",
    "littledf['enrolled'][littledf['college']=='LAS']"
   ]
  },
  {
   "cell_type": "markdown",
   "id": "492b7267",
   "metadata": {},
   "source": [
    "### 7.2. Syntax for checking conditions\n",
    "\n",
    "Notice that when we wanted to test if an entry in the 'college' column was **equal to** 'LAS', we use \"==\" rather than \"=\".  The distinction between the two is:\n",
    "\n",
    "- we use \"==\" when we are setting a condition in Python\n",
    "- we use \"=\" when we are assigning a value in Python.  That is, when we are defining a variable or parameter.\n",
    "\n",
    "There are additional **operators** that we can use to define other types of **conditions*:\n",
    "\n",
    "- equal to: ==\n",
    "- greater than or equal to: >=\n",
    "- greater than: >\n",
    "- less than: <\n",
    "- less than or equal to: <=\n",
    "\n",
    "Using this, we can extract all the courses with enrollemnts of at least 50:"
   ]
  },
  {
   "cell_type": "code",
   "execution_count": 37,
   "id": "3fda9f55",
   "metadata": {},
   "outputs": [
    {
     "data": {
      "text/html": [
       "<div>\n",
       "<style scoped>\n",
       "    .dataframe tbody tr th:only-of-type {\n",
       "        vertical-align: middle;\n",
       "    }\n",
       "\n",
       "    .dataframe tbody tr th {\n",
       "        vertical-align: top;\n",
       "    }\n",
       "\n",
       "    .dataframe thead th {\n",
       "        text-align: right;\n",
       "    }\n",
       "</style>\n",
       "<table border=\"1\" class=\"dataframe\">\n",
       "  <thead>\n",
       "    <tr style=\"text-align: right;\">\n",
       "      <th></th>\n",
       "      <th>course</th>\n",
       "      <th>enrolled</th>\n",
       "      <th>college</th>\n",
       "    </tr>\n",
       "  </thead>\n",
       "  <tbody>\n",
       "    <tr>\n",
       "      <th>0</th>\n",
       "      <td>cs105</td>\n",
       "      <td>479</td>\n",
       "      <td>ENGR</td>\n",
       "    </tr>\n",
       "    <tr>\n",
       "      <th>1</th>\n",
       "      <td>stat107</td>\n",
       "      <td>343</td>\n",
       "      <td>LAS</td>\n",
       "    </tr>\n",
       "    <tr>\n",
       "      <th>2</th>\n",
       "      <td>stat207</td>\n",
       "      <td>226</td>\n",
       "      <td>LAS</td>\n",
       "    </tr>\n",
       "    <tr>\n",
       "      <th>3</th>\n",
       "      <td>ansc307</td>\n",
       "      <td>55</td>\n",
       "      <td>ACES</td>\n",
       "    </tr>\n",
       "  </tbody>\n",
       "</table>\n",
       "</div>"
      ],
      "text/plain": [
       "    course  enrolled college\n",
       "0    cs105       479    ENGR\n",
       "1  stat107       343     LAS\n",
       "2  stat207       226     LAS\n",
       "3  ansc307        55    ACES"
      ]
     },
     "execution_count": 37,
     "metadata": {},
     "output_type": "execute_result"
    }
   ],
   "source": [
    "littledf[littledf['enrolled']>=50]"
   ]
  },
  {
   "cell_type": "markdown",
   "id": "965df118",
   "metadata": {},
   "source": [
    "We can extract the courses with enrollments less than 50:"
   ]
  },
  {
   "cell_type": "code",
   "execution_count": 38,
   "id": "2899c309",
   "metadata": {},
   "outputs": [
    {
     "data": {
      "text/html": [
       "<div>\n",
       "<style scoped>\n",
       "    .dataframe tbody tr th:only-of-type {\n",
       "        vertical-align: middle;\n",
       "    }\n",
       "\n",
       "    .dataframe tbody tr th {\n",
       "        vertical-align: top;\n",
       "    }\n",
       "\n",
       "    .dataframe thead th {\n",
       "        text-align: right;\n",
       "    }\n",
       "</style>\n",
       "<table border=\"1\" class=\"dataframe\">\n",
       "  <thead>\n",
       "    <tr style=\"text-align: right;\">\n",
       "      <th></th>\n",
       "      <th>course</th>\n",
       "      <th>enrolled</th>\n",
       "      <th>college</th>\n",
       "    </tr>\n",
       "  </thead>\n",
       "  <tbody>\n",
       "    <tr>\n",
       "      <th>4</th>\n",
       "      <td>hist407</td>\n",
       "      <td>22</td>\n",
       "      <td>LAS</td>\n",
       "    </tr>\n",
       "  </tbody>\n",
       "</table>\n",
       "</div>"
      ],
      "text/plain": [
       "    course  enrolled college\n",
       "4  hist407        22     LAS"
      ]
     },
     "execution_count": 38,
     "metadata": {},
     "output_type": "execute_result"
    }
   ],
   "source": [
    "littledf[littledf['enrolled']<50]"
   ]
  },
  {
   "cell_type": "markdown",
   "id": "270d0953",
   "metadata": {},
   "source": [
    "We can extract the record corresponding to a particular course:"
   ]
  },
  {
   "cell_type": "code",
   "execution_count": 39,
   "id": "0ddfd9be",
   "metadata": {},
   "outputs": [
    {
     "data": {
      "text/html": [
       "<div>\n",
       "<style scoped>\n",
       "    .dataframe tbody tr th:only-of-type {\n",
       "        vertical-align: middle;\n",
       "    }\n",
       "\n",
       "    .dataframe tbody tr th {\n",
       "        vertical-align: top;\n",
       "    }\n",
       "\n",
       "    .dataframe thead th {\n",
       "        text-align: right;\n",
       "    }\n",
       "</style>\n",
       "<table border=\"1\" class=\"dataframe\">\n",
       "  <thead>\n",
       "    <tr style=\"text-align: right;\">\n",
       "      <th></th>\n",
       "      <th>course</th>\n",
       "      <th>enrolled</th>\n",
       "      <th>college</th>\n",
       "    </tr>\n",
       "  </thead>\n",
       "  <tbody>\n",
       "    <tr>\n",
       "      <th>3</th>\n",
       "      <td>ansc307</td>\n",
       "      <td>55</td>\n",
       "      <td>ACES</td>\n",
       "    </tr>\n",
       "  </tbody>\n",
       "</table>\n",
       "</div>"
      ],
      "text/plain": [
       "    course  enrolled college\n",
       "3  ansc307        55    ACES"
      ]
     },
     "execution_count": 39,
     "metadata": {},
     "output_type": "execute_result"
    }
   ],
   "source": [
    "littledf[littledf['course']=='ansc307']"
   ]
  },
  {
   "cell_type": "markdown",
   "id": "752afb00",
   "metadata": {},
   "source": [
    "## 8. Summarizing Columns of a Dataframe\n",
    "\n",
    "### 8.1. Aggregating a Column\n",
    "\n",
    "Suppose, first, we want the total enrollment of all classes in our dataframe.  Below is one way to calculate that information, using the **`.sum()`** function."
   ]
  },
  {
   "cell_type": "code",
   "execution_count": 40,
   "id": "38bc6271",
   "metadata": {},
   "outputs": [
    {
     "data": {
      "text/plain": [
       "1125"
      ]
     },
     "execution_count": 40,
     "metadata": {},
     "output_type": "execute_result"
    }
   ],
   "source": [
    "littledf['enrolled'].sum()"
   ]
  },
  {
   "cell_type": "markdown",
   "id": "4629256b",
   "metadata": {},
   "source": [
    "There are many other column aggregation functions like the following:\n",
    "\n",
    "- **`.min()`**\n",
    "- **`.max()`**\n",
    "\n",
    "We'll learn additional functions later."
   ]
  },
  {
   "cell_type": "code",
   "execution_count": 41,
   "id": "f43e6715",
   "metadata": {},
   "outputs": [
    {
     "data": {
      "text/plain": [
       "479"
      ]
     },
     "execution_count": 41,
     "metadata": {},
     "output_type": "execute_result"
    }
   ],
   "source": [
    "littledf['enrolled'].max()"
   ]
  },
  {
   "cell_type": "code",
   "execution_count": 42,
   "id": "f7e2622a",
   "metadata": {},
   "outputs": [
    {
     "data": {
      "text/plain": [
       "22"
      ]
     },
     "execution_count": 42,
     "metadata": {},
     "output_type": "execute_result"
    }
   ],
   "source": [
    "littledf['enrolled'].min()"
   ]
  },
  {
   "cell_type": "markdown",
   "id": "1dfa8155",
   "metadata": {},
   "source": [
    "### 8.2. Aggregating a Filtered Dataframe\n",
    "\n",
    "We can combine filtering a data with summarizing a column.  Suppose that we want to find the total enrollment of JUST LAS classes in our dataframe.  We can do this with the following steps:\n",
    "\n",
    "1. First create a dataframe filtered with only 'LAS' classes\n",
    "2. Extract just the 'enrolled' column\n",
    "3. Take the sum of the column from step 2"
   ]
  },
  {
   "cell_type": "code",
   "execution_count": 43,
   "id": "fe7fc2d0",
   "metadata": {},
   "outputs": [
    {
     "name": "stdout",
     "output_type": "stream",
     "text": [
      "Total LAS Enrollment\n"
     ]
    },
    {
     "data": {
      "text/plain": [
       "591"
      ]
     },
     "execution_count": 43,
     "metadata": {},
     "output_type": "execute_result"
    }
   ],
   "source": [
    "# In one cell\n",
    "print('Total LAS Enrollment')\n",
    "littledf[littledf['college']=='LAS']['enrolled'].sum()"
   ]
  },
  {
   "cell_type": "code",
   "execution_count": 44,
   "id": "1b1cbe52",
   "metadata": {},
   "outputs": [
    {
     "data": {
      "text/html": [
       "<div>\n",
       "<style scoped>\n",
       "    .dataframe tbody tr th:only-of-type {\n",
       "        vertical-align: middle;\n",
       "    }\n",
       "\n",
       "    .dataframe tbody tr th {\n",
       "        vertical-align: top;\n",
       "    }\n",
       "\n",
       "    .dataframe thead th {\n",
       "        text-align: right;\n",
       "    }\n",
       "</style>\n",
       "<table border=\"1\" class=\"dataframe\">\n",
       "  <thead>\n",
       "    <tr style=\"text-align: right;\">\n",
       "      <th></th>\n",
       "      <th>course</th>\n",
       "      <th>enrolled</th>\n",
       "      <th>college</th>\n",
       "    </tr>\n",
       "  </thead>\n",
       "  <tbody>\n",
       "    <tr>\n",
       "      <th>1</th>\n",
       "      <td>stat107</td>\n",
       "      <td>343</td>\n",
       "      <td>LAS</td>\n",
       "    </tr>\n",
       "    <tr>\n",
       "      <th>2</th>\n",
       "      <td>stat207</td>\n",
       "      <td>226</td>\n",
       "      <td>LAS</td>\n",
       "    </tr>\n",
       "    <tr>\n",
       "      <th>4</th>\n",
       "      <td>hist407</td>\n",
       "      <td>22</td>\n",
       "      <td>LAS</td>\n",
       "    </tr>\n",
       "  </tbody>\n",
       "</table>\n",
       "</div>"
      ],
      "text/plain": [
       "    course  enrolled college\n",
       "1  stat107       343     LAS\n",
       "2  stat207       226     LAS\n",
       "4  hist407        22     LAS"
      ]
     },
     "execution_count": 44,
     "metadata": {},
     "output_type": "execute_result"
    }
   ],
   "source": [
    "# Step 1 completed\n",
    "littledf[littledf['college']=='LAS']"
   ]
  },
  {
   "cell_type": "code",
   "execution_count": 45,
   "id": "2848d741",
   "metadata": {},
   "outputs": [
    {
     "data": {
      "text/plain": [
       "1    343\n",
       "2    226\n",
       "4     22\n",
       "Name: enrolled, dtype: int64"
      ]
     },
     "execution_count": 45,
     "metadata": {},
     "output_type": "execute_result"
    }
   ],
   "source": [
    "# Step 2 completed\n",
    "littledf[littledf['college']=='LAS']['enrolled']"
   ]
  },
  {
   "cell_type": "code",
   "execution_count": 46,
   "id": "564e620e",
   "metadata": {},
   "outputs": [
    {
     "data": {
      "text/plain": [
       "591"
      ]
     },
     "execution_count": 46,
     "metadata": {},
     "output_type": "execute_result"
    }
   ],
   "source": [
    "# Step 3 completed\n",
    "littledf[littledf['college']=='LAS']['enrolled'].sum()"
   ]
  },
  {
   "cell_type": "markdown",
   "id": "7736f9d2",
   "metadata": {},
   "source": [
    "### 8.3. Using a Summary Measure as a Condition\n",
    "\n",
    "Suppose now we want to extract the **row** from littledf that has the maximum enrollment.  We can first find this largest enrollment size and then use the number directly."
   ]
  },
  {
   "cell_type": "code",
   "execution_count": 47,
   "id": "576467d4",
   "metadata": {},
   "outputs": [
    {
     "name": "stdout",
     "output_type": "stream",
     "text": [
      "Maximum Enrollment\n"
     ]
    },
    {
     "data": {
      "text/plain": [
       "479"
      ]
     },
     "execution_count": 47,
     "metadata": {},
     "output_type": "execute_result"
    }
   ],
   "source": [
    "print('Maximum Enrollment')\n",
    "littledf['enrolled'].max()"
   ]
  },
  {
   "cell_type": "code",
   "execution_count": 48,
   "id": "adff3b43",
   "metadata": {},
   "outputs": [
    {
     "data": {
      "text/html": [
       "<div>\n",
       "<style scoped>\n",
       "    .dataframe tbody tr th:only-of-type {\n",
       "        vertical-align: middle;\n",
       "    }\n",
       "\n",
       "    .dataframe tbody tr th {\n",
       "        vertical-align: top;\n",
       "    }\n",
       "\n",
       "    .dataframe thead th {\n",
       "        text-align: right;\n",
       "    }\n",
       "</style>\n",
       "<table border=\"1\" class=\"dataframe\">\n",
       "  <thead>\n",
       "    <tr style=\"text-align: right;\">\n",
       "      <th></th>\n",
       "      <th>course</th>\n",
       "      <th>enrolled</th>\n",
       "      <th>college</th>\n",
       "    </tr>\n",
       "  </thead>\n",
       "  <tbody>\n",
       "    <tr>\n",
       "      <th>0</th>\n",
       "      <td>cs105</td>\n",
       "      <td>479</td>\n",
       "      <td>ENGR</td>\n",
       "    </tr>\n",
       "  </tbody>\n",
       "</table>\n",
       "</div>"
      ],
      "text/plain": [
       "  course  enrolled college\n",
       "0  cs105       479    ENGR"
      ]
     },
     "execution_count": 48,
     "metadata": {},
     "output_type": "execute_result"
    }
   ],
   "source": [
    "littledf[littledf['enrolled']==479]"
   ]
  },
  {
   "cell_type": "markdown",
   "id": "c86d40c8",
   "metadata": {},
   "source": [
    "We can also combine these steps directly by using the 'littledf['enrolled'].max()' value directly in the condition.  This can be done in one line of code and is more efficient from a coding perspective."
   ]
  },
  {
   "cell_type": "code",
   "execution_count": 49,
   "id": "64537a11",
   "metadata": {},
   "outputs": [
    {
     "data": {
      "text/html": [
       "<div>\n",
       "<style scoped>\n",
       "    .dataframe tbody tr th:only-of-type {\n",
       "        vertical-align: middle;\n",
       "    }\n",
       "\n",
       "    .dataframe tbody tr th {\n",
       "        vertical-align: top;\n",
       "    }\n",
       "\n",
       "    .dataframe thead th {\n",
       "        text-align: right;\n",
       "    }\n",
       "</style>\n",
       "<table border=\"1\" class=\"dataframe\">\n",
       "  <thead>\n",
       "    <tr style=\"text-align: right;\">\n",
       "      <th></th>\n",
       "      <th>course</th>\n",
       "      <th>enrolled</th>\n",
       "      <th>college</th>\n",
       "    </tr>\n",
       "  </thead>\n",
       "  <tbody>\n",
       "    <tr>\n",
       "      <th>0</th>\n",
       "      <td>cs105</td>\n",
       "      <td>479</td>\n",
       "      <td>ENGR</td>\n",
       "    </tr>\n",
       "  </tbody>\n",
       "</table>\n",
       "</div>"
      ],
      "text/plain": [
       "  course  enrolled college\n",
       "0  cs105       479    ENGR"
      ]
     },
     "execution_count": 49,
     "metadata": {},
     "output_type": "execute_result"
    }
   ],
   "source": [
    "littledf[littledf['enrolled']==littledf['enrolled'].max()]"
   ]
  },
  {
   "cell_type": "markdown",
   "id": "55a736b9",
   "metadata": {},
   "source": [
    "## 9. Concatenate (\"stack\") Two Dataframes\n",
    "\n",
    "Suppose we had more enrollment data for additional courses to add to the dataframe.  We can use the pandas **concat()** function to combine the original dataframe with a new dataframe containing the additional records/observational units.  Here we create a new dataframe with the hypothetical new data."
   ]
  },
  {
   "cell_type": "code",
   "execution_count": 50,
   "id": "cf290739",
   "metadata": {},
   "outputs": [],
   "source": [
    "moredf = pd.DataFrame({'course': ['math227', 'is457'],\n",
    "                      'enrolled': [59, 58], \n",
    "                      'college': ['LAS', 'IS']})"
   ]
  },
  {
   "cell_type": "code",
   "execution_count": 51,
   "id": "44b0f741",
   "metadata": {},
   "outputs": [
    {
     "data": {
      "text/html": [
       "<div>\n",
       "<style scoped>\n",
       "    .dataframe tbody tr th:only-of-type {\n",
       "        vertical-align: middle;\n",
       "    }\n",
       "\n",
       "    .dataframe tbody tr th {\n",
       "        vertical-align: top;\n",
       "    }\n",
       "\n",
       "    .dataframe thead th {\n",
       "        text-align: right;\n",
       "    }\n",
       "</style>\n",
       "<table border=\"1\" class=\"dataframe\">\n",
       "  <thead>\n",
       "    <tr style=\"text-align: right;\">\n",
       "      <th></th>\n",
       "      <th>course</th>\n",
       "      <th>enrolled</th>\n",
       "      <th>college</th>\n",
       "    </tr>\n",
       "  </thead>\n",
       "  <tbody>\n",
       "    <tr>\n",
       "      <th>0</th>\n",
       "      <td>cs105</td>\n",
       "      <td>479</td>\n",
       "      <td>ENGR</td>\n",
       "    </tr>\n",
       "    <tr>\n",
       "      <th>1</th>\n",
       "      <td>stat107</td>\n",
       "      <td>343</td>\n",
       "      <td>LAS</td>\n",
       "    </tr>\n",
       "    <tr>\n",
       "      <th>2</th>\n",
       "      <td>stat207</td>\n",
       "      <td>226</td>\n",
       "      <td>LAS</td>\n",
       "    </tr>\n",
       "    <tr>\n",
       "      <th>3</th>\n",
       "      <td>ansc307</td>\n",
       "      <td>55</td>\n",
       "      <td>ACES</td>\n",
       "    </tr>\n",
       "    <tr>\n",
       "      <th>4</th>\n",
       "      <td>hist407</td>\n",
       "      <td>22</td>\n",
       "      <td>LAS</td>\n",
       "    </tr>\n",
       "  </tbody>\n",
       "</table>\n",
       "</div>"
      ],
      "text/plain": [
       "    course  enrolled college\n",
       "0    cs105       479    ENGR\n",
       "1  stat107       343     LAS\n",
       "2  stat207       226     LAS\n",
       "3  ansc307        55    ACES\n",
       "4  hist407        22     LAS"
      ]
     },
     "metadata": {},
     "output_type": "display_data"
    },
    {
     "data": {
      "text/html": [
       "<div>\n",
       "<style scoped>\n",
       "    .dataframe tbody tr th:only-of-type {\n",
       "        vertical-align: middle;\n",
       "    }\n",
       "\n",
       "    .dataframe tbody tr th {\n",
       "        vertical-align: top;\n",
       "    }\n",
       "\n",
       "    .dataframe thead th {\n",
       "        text-align: right;\n",
       "    }\n",
       "</style>\n",
       "<table border=\"1\" class=\"dataframe\">\n",
       "  <thead>\n",
       "    <tr style=\"text-align: right;\">\n",
       "      <th></th>\n",
       "      <th>course</th>\n",
       "      <th>enrolled</th>\n",
       "      <th>college</th>\n",
       "    </tr>\n",
       "  </thead>\n",
       "  <tbody>\n",
       "    <tr>\n",
       "      <th>0</th>\n",
       "      <td>math227</td>\n",
       "      <td>59</td>\n",
       "      <td>LAS</td>\n",
       "    </tr>\n",
       "    <tr>\n",
       "      <th>1</th>\n",
       "      <td>is457</td>\n",
       "      <td>58</td>\n",
       "      <td>IS</td>\n",
       "    </tr>\n",
       "  </tbody>\n",
       "</table>\n",
       "</div>"
      ],
      "text/plain": [
       "    course  enrolled college\n",
       "0  math227        59     LAS\n",
       "1    is457        58      IS"
      ]
     },
     "metadata": {},
     "output_type": "display_data"
    }
   ],
   "source": [
    "display(littledf, moredf)"
   ]
  },
  {
   "cell_type": "markdown",
   "id": "ec40c63d",
   "metadata": {},
   "source": [
    "Next, we combine them.  In this example, we will tell python to ignore the original index values and create a new index for the combined data."
   ]
  },
  {
   "cell_type": "code",
   "execution_count": 52,
   "id": "ae744793",
   "metadata": {},
   "outputs": [
    {
     "data": {
      "text/html": [
       "<div>\n",
       "<style scoped>\n",
       "    .dataframe tbody tr th:only-of-type {\n",
       "        vertical-align: middle;\n",
       "    }\n",
       "\n",
       "    .dataframe tbody tr th {\n",
       "        vertical-align: top;\n",
       "    }\n",
       "\n",
       "    .dataframe thead th {\n",
       "        text-align: right;\n",
       "    }\n",
       "</style>\n",
       "<table border=\"1\" class=\"dataframe\">\n",
       "  <thead>\n",
       "    <tr style=\"text-align: right;\">\n",
       "      <th></th>\n",
       "      <th>course</th>\n",
       "      <th>enrolled</th>\n",
       "      <th>college</th>\n",
       "    </tr>\n",
       "  </thead>\n",
       "  <tbody>\n",
       "    <tr>\n",
       "      <th>0</th>\n",
       "      <td>cs105</td>\n",
       "      <td>479</td>\n",
       "      <td>ENGR</td>\n",
       "    </tr>\n",
       "    <tr>\n",
       "      <th>1</th>\n",
       "      <td>stat107</td>\n",
       "      <td>343</td>\n",
       "      <td>LAS</td>\n",
       "    </tr>\n",
       "    <tr>\n",
       "      <th>2</th>\n",
       "      <td>stat207</td>\n",
       "      <td>226</td>\n",
       "      <td>LAS</td>\n",
       "    </tr>\n",
       "    <tr>\n",
       "      <th>3</th>\n",
       "      <td>ansc307</td>\n",
       "      <td>55</td>\n",
       "      <td>ACES</td>\n",
       "    </tr>\n",
       "    <tr>\n",
       "      <th>4</th>\n",
       "      <td>hist407</td>\n",
       "      <td>22</td>\n",
       "      <td>LAS</td>\n",
       "    </tr>\n",
       "    <tr>\n",
       "      <th>5</th>\n",
       "      <td>math227</td>\n",
       "      <td>59</td>\n",
       "      <td>LAS</td>\n",
       "    </tr>\n",
       "    <tr>\n",
       "      <th>6</th>\n",
       "      <td>is457</td>\n",
       "      <td>58</td>\n",
       "      <td>IS</td>\n",
       "    </tr>\n",
       "  </tbody>\n",
       "</table>\n",
       "</div>"
      ],
      "text/plain": [
       "    course  enrolled college\n",
       "0    cs105       479    ENGR\n",
       "1  stat107       343     LAS\n",
       "2  stat207       226     LAS\n",
       "3  ansc307        55    ACES\n",
       "4  hist407        22     LAS\n",
       "5  math227        59     LAS\n",
       "6    is457        58      IS"
      ]
     },
     "execution_count": 52,
     "metadata": {},
     "output_type": "execute_result"
    }
   ],
   "source": [
    "fulldf = pd.concat([littledf, moredf], ignore_index=True)\n",
    "fulldf"
   ]
  },
  {
   "cell_type": "markdown",
   "id": "d61865c1",
   "metadata": {},
   "source": [
    "What would happen if we didn't ask python to create a new set of row indices?"
   ]
  },
  {
   "cell_type": "code",
   "execution_count": 53,
   "id": "e8c5f8b4",
   "metadata": {},
   "outputs": [
    {
     "data": {
      "text/html": [
       "<div>\n",
       "<style scoped>\n",
       "    .dataframe tbody tr th:only-of-type {\n",
       "        vertical-align: middle;\n",
       "    }\n",
       "\n",
       "    .dataframe tbody tr th {\n",
       "        vertical-align: top;\n",
       "    }\n",
       "\n",
       "    .dataframe thead th {\n",
       "        text-align: right;\n",
       "    }\n",
       "</style>\n",
       "<table border=\"1\" class=\"dataframe\">\n",
       "  <thead>\n",
       "    <tr style=\"text-align: right;\">\n",
       "      <th></th>\n",
       "      <th>course</th>\n",
       "      <th>enrolled</th>\n",
       "      <th>college</th>\n",
       "    </tr>\n",
       "  </thead>\n",
       "  <tbody>\n",
       "    <tr>\n",
       "      <th>0</th>\n",
       "      <td>cs105</td>\n",
       "      <td>479</td>\n",
       "      <td>ENGR</td>\n",
       "    </tr>\n",
       "    <tr>\n",
       "      <th>1</th>\n",
       "      <td>stat107</td>\n",
       "      <td>343</td>\n",
       "      <td>LAS</td>\n",
       "    </tr>\n",
       "    <tr>\n",
       "      <th>2</th>\n",
       "      <td>stat207</td>\n",
       "      <td>226</td>\n",
       "      <td>LAS</td>\n",
       "    </tr>\n",
       "    <tr>\n",
       "      <th>3</th>\n",
       "      <td>ansc307</td>\n",
       "      <td>55</td>\n",
       "      <td>ACES</td>\n",
       "    </tr>\n",
       "    <tr>\n",
       "      <th>4</th>\n",
       "      <td>hist407</td>\n",
       "      <td>22</td>\n",
       "      <td>LAS</td>\n",
       "    </tr>\n",
       "    <tr>\n",
       "      <th>0</th>\n",
       "      <td>math227</td>\n",
       "      <td>59</td>\n",
       "      <td>LAS</td>\n",
       "    </tr>\n",
       "    <tr>\n",
       "      <th>1</th>\n",
       "      <td>is457</td>\n",
       "      <td>58</td>\n",
       "      <td>IS</td>\n",
       "    </tr>\n",
       "  </tbody>\n",
       "</table>\n",
       "</div>"
      ],
      "text/plain": [
       "    course  enrolled college\n",
       "0    cs105       479    ENGR\n",
       "1  stat107       343     LAS\n",
       "2  stat207       226     LAS\n",
       "3  ansc307        55    ACES\n",
       "4  hist407        22     LAS\n",
       "0  math227        59     LAS\n",
       "1    is457        58      IS"
      ]
     },
     "execution_count": 53,
     "metadata": {},
     "output_type": "execute_result"
    }
   ],
   "source": [
    "pd.concat([littledf, moredf])"
   ]
  },
  {
   "cell_type": "markdown",
   "id": "ed198eb4",
   "metadata": {},
   "source": [
    "Note that we now have two rows with index 0, and two rows with index 1.  This is not preferred and could cause later challenges with analysis.\n",
    "\n",
    "A quick way to add new records is with the **`append()`** function.  Row indices are also handled nicely with this function."
   ]
  },
  {
   "cell_type": "code",
   "execution_count": 54,
   "id": "28d78bee",
   "metadata": {},
   "outputs": [
    {
     "data": {
      "text/html": [
       "<div>\n",
       "<style scoped>\n",
       "    .dataframe tbody tr th:only-of-type {\n",
       "        vertical-align: middle;\n",
       "    }\n",
       "\n",
       "    .dataframe tbody tr th {\n",
       "        vertical-align: top;\n",
       "    }\n",
       "\n",
       "    .dataframe thead th {\n",
       "        text-align: right;\n",
       "    }\n",
       "</style>\n",
       "<table border=\"1\" class=\"dataframe\">\n",
       "  <thead>\n",
       "    <tr style=\"text-align: right;\">\n",
       "      <th></th>\n",
       "      <th>course</th>\n",
       "      <th>enrolled</th>\n",
       "      <th>college</th>\n",
       "    </tr>\n",
       "  </thead>\n",
       "  <tbody>\n",
       "    <tr>\n",
       "      <th>0</th>\n",
       "      <td>badm210</td>\n",
       "      <td>388</td>\n",
       "      <td>BUSN</td>\n",
       "    </tr>\n",
       "  </tbody>\n",
       "</table>\n",
       "</div>"
      ],
      "text/plain": [
       "    course  enrolled college\n",
       "0  badm210       388    BUSN"
      ]
     },
     "execution_count": 54,
     "metadata": {},
     "output_type": "execute_result"
    }
   ],
   "source": [
    "newdf = pd.DataFrame({'course': ['badm210'],\n",
    "                     'enrolled': [388],\n",
    "                     'college': ['BUSN']})\n",
    "newdf"
   ]
  },
  {
   "cell_type": "code",
   "execution_count": 55,
   "id": "e4d62d9c",
   "metadata": {},
   "outputs": [
    {
     "data": {
      "text/html": [
       "<div>\n",
       "<style scoped>\n",
       "    .dataframe tbody tr th:only-of-type {\n",
       "        vertical-align: middle;\n",
       "    }\n",
       "\n",
       "    .dataframe tbody tr th {\n",
       "        vertical-align: top;\n",
       "    }\n",
       "\n",
       "    .dataframe thead th {\n",
       "        text-align: right;\n",
       "    }\n",
       "</style>\n",
       "<table border=\"1\" class=\"dataframe\">\n",
       "  <thead>\n",
       "    <tr style=\"text-align: right;\">\n",
       "      <th></th>\n",
       "      <th>course</th>\n",
       "      <th>enrolled</th>\n",
       "      <th>college</th>\n",
       "    </tr>\n",
       "  </thead>\n",
       "  <tbody>\n",
       "    <tr>\n",
       "      <th>0</th>\n",
       "      <td>cs105</td>\n",
       "      <td>479</td>\n",
       "      <td>ENGR</td>\n",
       "    </tr>\n",
       "    <tr>\n",
       "      <th>1</th>\n",
       "      <td>stat107</td>\n",
       "      <td>343</td>\n",
       "      <td>LAS</td>\n",
       "    </tr>\n",
       "    <tr>\n",
       "      <th>2</th>\n",
       "      <td>stat207</td>\n",
       "      <td>226</td>\n",
       "      <td>LAS</td>\n",
       "    </tr>\n",
       "    <tr>\n",
       "      <th>3</th>\n",
       "      <td>ansc307</td>\n",
       "      <td>55</td>\n",
       "      <td>ACES</td>\n",
       "    </tr>\n",
       "    <tr>\n",
       "      <th>4</th>\n",
       "      <td>hist407</td>\n",
       "      <td>22</td>\n",
       "      <td>LAS</td>\n",
       "    </tr>\n",
       "    <tr>\n",
       "      <th>5</th>\n",
       "      <td>math227</td>\n",
       "      <td>59</td>\n",
       "      <td>LAS</td>\n",
       "    </tr>\n",
       "    <tr>\n",
       "      <th>6</th>\n",
       "      <td>is457</td>\n",
       "      <td>58</td>\n",
       "      <td>IS</td>\n",
       "    </tr>\n",
       "    <tr>\n",
       "      <th>7</th>\n",
       "      <td>badm210</td>\n",
       "      <td>388</td>\n",
       "      <td>BUSN</td>\n",
       "    </tr>\n",
       "  </tbody>\n",
       "</table>\n",
       "</div>"
      ],
      "text/plain": [
       "    course  enrolled college\n",
       "0    cs105       479    ENGR\n",
       "1  stat107       343     LAS\n",
       "2  stat207       226     LAS\n",
       "3  ansc307        55    ACES\n",
       "4  hist407        22     LAS\n",
       "5  math227        59     LAS\n",
       "6    is457        58      IS\n",
       "7  badm210       388    BUSN"
      ]
     },
     "execution_count": 55,
     "metadata": {},
     "output_type": "execute_result"
    }
   ],
   "source": [
    "updateddf = fulldf.append(newdf, ignore_index=True)\n",
    "updateddf"
   ]
  },
  {
   "cell_type": "markdown",
   "id": "b671e422",
   "metadata": {},
   "source": [
    "## 10. Merge (\"join\") Two Dataframes\n",
    "\n",
    "Another common scenario is to have more than one source of data with different variables, and we wish to combined data sets for further analysis.  As an example, suppose in the previous course list example we had another source with the credit hours for each class.  We'd like to add this information."
   ]
  },
  {
   "cell_type": "code",
   "execution_count": 56,
   "id": "cdfd9a83",
   "metadata": {},
   "outputs": [
    {
     "data": {
      "text/html": [
       "<div>\n",
       "<style scoped>\n",
       "    .dataframe tbody tr th:only-of-type {\n",
       "        vertical-align: middle;\n",
       "    }\n",
       "\n",
       "    .dataframe tbody tr th {\n",
       "        vertical-align: top;\n",
       "    }\n",
       "\n",
       "    .dataframe thead th {\n",
       "        text-align: right;\n",
       "    }\n",
       "</style>\n",
       "<table border=\"1\" class=\"dataframe\">\n",
       "  <thead>\n",
       "    <tr style=\"text-align: right;\">\n",
       "      <th></th>\n",
       "      <th>course</th>\n",
       "      <th>credit</th>\n",
       "    </tr>\n",
       "  </thead>\n",
       "  <tbody>\n",
       "    <tr>\n",
       "      <th>0</th>\n",
       "      <td>ansc307</td>\n",
       "      <td>3.0</td>\n",
       "    </tr>\n",
       "    <tr>\n",
       "      <th>1</th>\n",
       "      <td>cs105</td>\n",
       "      <td>3.0</td>\n",
       "    </tr>\n",
       "    <tr>\n",
       "      <th>2</th>\n",
       "      <td>stat107</td>\n",
       "      <td>4.0</td>\n",
       "    </tr>\n",
       "    <tr>\n",
       "      <th>3</th>\n",
       "      <td>stat207</td>\n",
       "      <td>4.0</td>\n",
       "    </tr>\n",
       "    <tr>\n",
       "      <th>4</th>\n",
       "      <td>hist407</td>\n",
       "      <td>2.0</td>\n",
       "    </tr>\n",
       "    <tr>\n",
       "      <th>5</th>\n",
       "      <td>math227</td>\n",
       "      <td>3.0</td>\n",
       "    </tr>\n",
       "    <tr>\n",
       "      <th>6</th>\n",
       "      <td>is457</td>\n",
       "      <td>3.0</td>\n",
       "    </tr>\n",
       "    <tr>\n",
       "      <th>7</th>\n",
       "      <td>badm210</td>\n",
       "      <td>3.0</td>\n",
       "    </tr>\n",
       "  </tbody>\n",
       "</table>\n",
       "</div>"
      ],
      "text/plain": [
       "    course  credit\n",
       "0  ansc307     3.0\n",
       "1    cs105     3.0\n",
       "2  stat107     4.0\n",
       "3  stat207     4.0\n",
       "4  hist407     2.0\n",
       "5  math227     3.0\n",
       "6    is457     3.0\n",
       "7  badm210     3.0"
      ]
     },
     "execution_count": 56,
     "metadata": {},
     "output_type": "execute_result"
    }
   ],
   "source": [
    "creditdf = pd.DataFrame({'course': ['ansc307', 'cs105', 'stat107', 'stat207', \n",
    "                                   'hist407', 'math227', 'is457', 'badm210'],\n",
    "                        'credit': [3.0, 3.0, 4.0, 4.0, 2.0, 3.0, 3.0, 3.0]})\n",
    "creditdf"
   ]
  },
  {
   "cell_type": "markdown",
   "id": "7ef005a4",
   "metadata": {},
   "source": [
    "In this case, we can do a one-to-one join between the two data frames using the python **`merge()`** function.  Notice that the order of courses does not need to be the same; the records are matched based on the shared course name."
   ]
  },
  {
   "cell_type": "code",
   "execution_count": 57,
   "id": "56b795bc",
   "metadata": {},
   "outputs": [
    {
     "data": {
      "text/html": [
       "<div>\n",
       "<style scoped>\n",
       "    .dataframe tbody tr th:only-of-type {\n",
       "        vertical-align: middle;\n",
       "    }\n",
       "\n",
       "    .dataframe tbody tr th {\n",
       "        vertical-align: top;\n",
       "    }\n",
       "\n",
       "    .dataframe thead th {\n",
       "        text-align: right;\n",
       "    }\n",
       "</style>\n",
       "<table border=\"1\" class=\"dataframe\">\n",
       "  <thead>\n",
       "    <tr style=\"text-align: right;\">\n",
       "      <th></th>\n",
       "      <th>course</th>\n",
       "      <th>enrolled</th>\n",
       "      <th>college</th>\n",
       "      <th>credit</th>\n",
       "    </tr>\n",
       "  </thead>\n",
       "  <tbody>\n",
       "    <tr>\n",
       "      <th>0</th>\n",
       "      <td>cs105</td>\n",
       "      <td>479</td>\n",
       "      <td>ENGR</td>\n",
       "      <td>3.0</td>\n",
       "    </tr>\n",
       "    <tr>\n",
       "      <th>1</th>\n",
       "      <td>stat107</td>\n",
       "      <td>343</td>\n",
       "      <td>LAS</td>\n",
       "      <td>4.0</td>\n",
       "    </tr>\n",
       "    <tr>\n",
       "      <th>2</th>\n",
       "      <td>stat207</td>\n",
       "      <td>226</td>\n",
       "      <td>LAS</td>\n",
       "      <td>4.0</td>\n",
       "    </tr>\n",
       "    <tr>\n",
       "      <th>3</th>\n",
       "      <td>ansc307</td>\n",
       "      <td>55</td>\n",
       "      <td>ACES</td>\n",
       "      <td>3.0</td>\n",
       "    </tr>\n",
       "    <tr>\n",
       "      <th>4</th>\n",
       "      <td>hist407</td>\n",
       "      <td>22</td>\n",
       "      <td>LAS</td>\n",
       "      <td>2.0</td>\n",
       "    </tr>\n",
       "    <tr>\n",
       "      <th>5</th>\n",
       "      <td>math227</td>\n",
       "      <td>59</td>\n",
       "      <td>LAS</td>\n",
       "      <td>3.0</td>\n",
       "    </tr>\n",
       "    <tr>\n",
       "      <th>6</th>\n",
       "      <td>is457</td>\n",
       "      <td>58</td>\n",
       "      <td>IS</td>\n",
       "      <td>3.0</td>\n",
       "    </tr>\n",
       "    <tr>\n",
       "      <th>7</th>\n",
       "      <td>badm210</td>\n",
       "      <td>388</td>\n",
       "      <td>BUSN</td>\n",
       "      <td>3.0</td>\n",
       "    </tr>\n",
       "  </tbody>\n",
       "</table>\n",
       "</div>"
      ],
      "text/plain": [
       "    course  enrolled college  credit\n",
       "0    cs105       479    ENGR     3.0\n",
       "1  stat107       343     LAS     4.0\n",
       "2  stat207       226     LAS     4.0\n",
       "3  ansc307        55    ACES     3.0\n",
       "4  hist407        22     LAS     2.0\n",
       "5  math227        59     LAS     3.0\n",
       "6    is457        58      IS     3.0\n",
       "7  badm210       388    BUSN     3.0"
      ]
     },
     "execution_count": 57,
     "metadata": {},
     "output_type": "execute_result"
    }
   ],
   "source": [
    "fullerdf = pd.merge(updateddf, creditdf)\n",
    "fullerdf"
   ]
  },
  {
   "cell_type": "markdown",
   "id": "6b5140af",
   "metadata": {},
   "source": [
    "Often, the two data sources will not be in a one-to-one correspondence between their records.  Then we might need to perform a \"many-to-one\" merge.\n",
    "\n",
    "**Example**: In one data source, we have courses and section enrollments.  In the other data source, we have courses and credit hours.  Let's combine them.  First, we'll create a dataframe with the section information. "
   ]
  },
  {
   "cell_type": "code",
   "execution_count": 58,
   "id": "84a5d265",
   "metadata": {},
   "outputs": [
    {
     "data": {
      "text/html": [
       "<div>\n",
       "<style scoped>\n",
       "    .dataframe tbody tr th:only-of-type {\n",
       "        vertical-align: middle;\n",
       "    }\n",
       "\n",
       "    .dataframe tbody tr th {\n",
       "        vertical-align: top;\n",
       "    }\n",
       "\n",
       "    .dataframe thead th {\n",
       "        text-align: right;\n",
       "    }\n",
       "</style>\n",
       "<table border=\"1\" class=\"dataframe\">\n",
       "  <thead>\n",
       "    <tr style=\"text-align: right;\">\n",
       "      <th></th>\n",
       "      <th>course</th>\n",
       "      <th>section</th>\n",
       "      <th>enrolled</th>\n",
       "    </tr>\n",
       "  </thead>\n",
       "  <tbody>\n",
       "    <tr>\n",
       "      <th>0</th>\n",
       "      <td>cs105</td>\n",
       "      <td>A</td>\n",
       "      <td>479</td>\n",
       "    </tr>\n",
       "    <tr>\n",
       "      <th>1</th>\n",
       "      <td>stat207</td>\n",
       "      <td>A</td>\n",
       "      <td>103</td>\n",
       "    </tr>\n",
       "    <tr>\n",
       "      <th>2</th>\n",
       "      <td>stat207</td>\n",
       "      <td>B</td>\n",
       "      <td>123</td>\n",
       "    </tr>\n",
       "    <tr>\n",
       "      <th>3</th>\n",
       "      <td>badm210</td>\n",
       "      <td>A</td>\n",
       "      <td>216</td>\n",
       "    </tr>\n",
       "    <tr>\n",
       "      <th>4</th>\n",
       "      <td>badm210</td>\n",
       "      <td>B</td>\n",
       "      <td>172</td>\n",
       "    </tr>\n",
       "  </tbody>\n",
       "</table>\n",
       "</div>"
      ],
      "text/plain": [
       "    course section  enrolled\n",
       "0    cs105       A       479\n",
       "1  stat207       A       103\n",
       "2  stat207       B       123\n",
       "3  badm210       A       216\n",
       "4  badm210       B       172"
      ]
     },
     "execution_count": 58,
     "metadata": {},
     "output_type": "execute_result"
    }
   ],
   "source": [
    "courses = ['cs105', 'stat207', 'stat207', 'badm210', 'badm210']\n",
    "sections = ['A', 'A', 'B', 'A', 'B']\n",
    "enrollments = [479, 103, 123, 216, 172]\n",
    "sectdf = pd.DataFrame({'course': courses,\n",
    "                      'section': sections,\n",
    "                      'enrolled': enrollments})\n",
    "sectdf"
   ]
  },
  {
   "cell_type": "markdown",
   "id": "35447db0",
   "metadata": {},
   "source": [
    "We'd like to merge this with the credit information."
   ]
  },
  {
   "cell_type": "code",
   "execution_count": 59,
   "id": "72fd3b58",
   "metadata": {},
   "outputs": [
    {
     "data": {
      "text/html": [
       "<div>\n",
       "<style scoped>\n",
       "    .dataframe tbody tr th:only-of-type {\n",
       "        vertical-align: middle;\n",
       "    }\n",
       "\n",
       "    .dataframe tbody tr th {\n",
       "        vertical-align: top;\n",
       "    }\n",
       "\n",
       "    .dataframe thead th {\n",
       "        text-align: right;\n",
       "    }\n",
       "</style>\n",
       "<table border=\"1\" class=\"dataframe\">\n",
       "  <thead>\n",
       "    <tr style=\"text-align: right;\">\n",
       "      <th></th>\n",
       "      <th>course</th>\n",
       "      <th>credit</th>\n",
       "    </tr>\n",
       "  </thead>\n",
       "  <tbody>\n",
       "    <tr>\n",
       "      <th>0</th>\n",
       "      <td>ansc307</td>\n",
       "      <td>3.0</td>\n",
       "    </tr>\n",
       "    <tr>\n",
       "      <th>1</th>\n",
       "      <td>cs105</td>\n",
       "      <td>3.0</td>\n",
       "    </tr>\n",
       "    <tr>\n",
       "      <th>2</th>\n",
       "      <td>stat107</td>\n",
       "      <td>4.0</td>\n",
       "    </tr>\n",
       "    <tr>\n",
       "      <th>3</th>\n",
       "      <td>stat207</td>\n",
       "      <td>4.0</td>\n",
       "    </tr>\n",
       "    <tr>\n",
       "      <th>4</th>\n",
       "      <td>hist407</td>\n",
       "      <td>2.0</td>\n",
       "    </tr>\n",
       "    <tr>\n",
       "      <th>5</th>\n",
       "      <td>math227</td>\n",
       "      <td>3.0</td>\n",
       "    </tr>\n",
       "    <tr>\n",
       "      <th>6</th>\n",
       "      <td>is457</td>\n",
       "      <td>3.0</td>\n",
       "    </tr>\n",
       "    <tr>\n",
       "      <th>7</th>\n",
       "      <td>badm210</td>\n",
       "      <td>3.0</td>\n",
       "    </tr>\n",
       "  </tbody>\n",
       "</table>\n",
       "</div>"
      ],
      "text/plain": [
       "    course  credit\n",
       "0  ansc307     3.0\n",
       "1    cs105     3.0\n",
       "2  stat107     4.0\n",
       "3  stat207     4.0\n",
       "4  hist407     2.0\n",
       "5  math227     3.0\n",
       "6    is457     3.0\n",
       "7  badm210     3.0"
      ]
     },
     "execution_count": 59,
     "metadata": {},
     "output_type": "execute_result"
    }
   ],
   "source": [
    "creditdf"
   ]
  },
  {
   "cell_type": "markdown",
   "id": "03f5c346",
   "metadata": {},
   "source": [
    "We can try a \"default\" merge and see what we get:"
   ]
  },
  {
   "cell_type": "code",
   "execution_count": 60,
   "id": "b63ab318",
   "metadata": {},
   "outputs": [
    {
     "data": {
      "text/html": [
       "<div>\n",
       "<style scoped>\n",
       "    .dataframe tbody tr th:only-of-type {\n",
       "        vertical-align: middle;\n",
       "    }\n",
       "\n",
       "    .dataframe tbody tr th {\n",
       "        vertical-align: top;\n",
       "    }\n",
       "\n",
       "    .dataframe thead th {\n",
       "        text-align: right;\n",
       "    }\n",
       "</style>\n",
       "<table border=\"1\" class=\"dataframe\">\n",
       "  <thead>\n",
       "    <tr style=\"text-align: right;\">\n",
       "      <th></th>\n",
       "      <th>course</th>\n",
       "      <th>section</th>\n",
       "      <th>enrolled</th>\n",
       "      <th>credit</th>\n",
       "    </tr>\n",
       "  </thead>\n",
       "  <tbody>\n",
       "    <tr>\n",
       "      <th>0</th>\n",
       "      <td>cs105</td>\n",
       "      <td>A</td>\n",
       "      <td>479</td>\n",
       "      <td>3.0</td>\n",
       "    </tr>\n",
       "    <tr>\n",
       "      <th>1</th>\n",
       "      <td>stat207</td>\n",
       "      <td>A</td>\n",
       "      <td>103</td>\n",
       "      <td>4.0</td>\n",
       "    </tr>\n",
       "    <tr>\n",
       "      <th>2</th>\n",
       "      <td>stat207</td>\n",
       "      <td>B</td>\n",
       "      <td>123</td>\n",
       "      <td>4.0</td>\n",
       "    </tr>\n",
       "    <tr>\n",
       "      <th>3</th>\n",
       "      <td>badm210</td>\n",
       "      <td>A</td>\n",
       "      <td>216</td>\n",
       "      <td>3.0</td>\n",
       "    </tr>\n",
       "    <tr>\n",
       "      <th>4</th>\n",
       "      <td>badm210</td>\n",
       "      <td>B</td>\n",
       "      <td>172</td>\n",
       "      <td>3.0</td>\n",
       "    </tr>\n",
       "  </tbody>\n",
       "</table>\n",
       "</div>"
      ],
      "text/plain": [
       "    course section  enrolled  credit\n",
       "0    cs105       A       479     3.0\n",
       "1  stat207       A       103     4.0\n",
       "2  stat207       B       123     4.0\n",
       "3  badm210       A       216     3.0\n",
       "4  badm210       B       172     3.0"
      ]
     },
     "execution_count": 60,
     "metadata": {},
     "output_type": "execute_result"
    }
   ],
   "source": [
    "pd.merge(sectdf, creditdf)"
   ]
  },
  {
   "cell_type": "markdown",
   "id": "f0c87151",
   "metadata": {},
   "source": [
    "Did it work?  Yes, in the sense that all course sections in the first dataframe have now been assigned credit hours.  Any course that appears in both data sources gets matched.  The courses missing from one or the other were not included.\n",
    "\n",
    "In some cases, we need to specify which variable to use as the matching **key** using the **on=** option:"
   ]
  },
  {
   "cell_type": "code",
   "execution_count": 61,
   "id": "5abd2c7e",
   "metadata": {},
   "outputs": [
    {
     "data": {
      "text/html": [
       "<div>\n",
       "<style scoped>\n",
       "    .dataframe tbody tr th:only-of-type {\n",
       "        vertical-align: middle;\n",
       "    }\n",
       "\n",
       "    .dataframe tbody tr th {\n",
       "        vertical-align: top;\n",
       "    }\n",
       "\n",
       "    .dataframe thead th {\n",
       "        text-align: right;\n",
       "    }\n",
       "</style>\n",
       "<table border=\"1\" class=\"dataframe\">\n",
       "  <thead>\n",
       "    <tr style=\"text-align: right;\">\n",
       "      <th></th>\n",
       "      <th>course</th>\n",
       "      <th>section</th>\n",
       "      <th>enrolled</th>\n",
       "      <th>credit</th>\n",
       "    </tr>\n",
       "  </thead>\n",
       "  <tbody>\n",
       "    <tr>\n",
       "      <th>0</th>\n",
       "      <td>cs105</td>\n",
       "      <td>A</td>\n",
       "      <td>479</td>\n",
       "      <td>3.0</td>\n",
       "    </tr>\n",
       "    <tr>\n",
       "      <th>1</th>\n",
       "      <td>stat207</td>\n",
       "      <td>A</td>\n",
       "      <td>103</td>\n",
       "      <td>4.0</td>\n",
       "    </tr>\n",
       "    <tr>\n",
       "      <th>2</th>\n",
       "      <td>stat207</td>\n",
       "      <td>B</td>\n",
       "      <td>123</td>\n",
       "      <td>4.0</td>\n",
       "    </tr>\n",
       "    <tr>\n",
       "      <th>3</th>\n",
       "      <td>badm210</td>\n",
       "      <td>A</td>\n",
       "      <td>216</td>\n",
       "      <td>3.0</td>\n",
       "    </tr>\n",
       "    <tr>\n",
       "      <th>4</th>\n",
       "      <td>badm210</td>\n",
       "      <td>B</td>\n",
       "      <td>172</td>\n",
       "      <td>3.0</td>\n",
       "    </tr>\n",
       "  </tbody>\n",
       "</table>\n",
       "</div>"
      ],
      "text/plain": [
       "    course section  enrolled  credit\n",
       "0    cs105       A       479     3.0\n",
       "1  stat207       A       103     4.0\n",
       "2  stat207       B       123     4.0\n",
       "3  badm210       A       216     3.0\n",
       "4  badm210       B       172     3.0"
      ]
     },
     "execution_count": 61,
     "metadata": {},
     "output_type": "execute_result"
    }
   ],
   "source": [
    "pd.merge(sectdf, creditdf, on='course')"
   ]
  },
  {
   "cell_type": "markdown",
   "id": "8a59761d",
   "metadata": {},
   "source": [
    "## 11. Sorting a Dataframe\n",
    "\n",
    "In the examples we've been considering, the course names are in no particular order.  What if we want the courses to be in alphanumeric order?  pandas has a function for that: **`.sort_values`**.  For the syntax, see https://pandas.pydata.org/docs/reference/api/pandas.DataFrame.sort_values.html\n",
    "\n",
    "To select a specific column on which to sort, we use the **by=** option.  "
   ]
  },
  {
   "cell_type": "code",
   "execution_count": 62,
   "id": "4e937139",
   "metadata": {},
   "outputs": [
    {
     "data": {
      "text/html": [
       "<div>\n",
       "<style scoped>\n",
       "    .dataframe tbody tr th:only-of-type {\n",
       "        vertical-align: middle;\n",
       "    }\n",
       "\n",
       "    .dataframe tbody tr th {\n",
       "        vertical-align: top;\n",
       "    }\n",
       "\n",
       "    .dataframe thead th {\n",
       "        text-align: right;\n",
       "    }\n",
       "</style>\n",
       "<table border=\"1\" class=\"dataframe\">\n",
       "  <thead>\n",
       "    <tr style=\"text-align: right;\">\n",
       "      <th></th>\n",
       "      <th>course</th>\n",
       "      <th>credit</th>\n",
       "    </tr>\n",
       "  </thead>\n",
       "  <tbody>\n",
       "    <tr>\n",
       "      <th>0</th>\n",
       "      <td>ansc307</td>\n",
       "      <td>3.0</td>\n",
       "    </tr>\n",
       "    <tr>\n",
       "      <th>7</th>\n",
       "      <td>badm210</td>\n",
       "      <td>3.0</td>\n",
       "    </tr>\n",
       "    <tr>\n",
       "      <th>1</th>\n",
       "      <td>cs105</td>\n",
       "      <td>3.0</td>\n",
       "    </tr>\n",
       "    <tr>\n",
       "      <th>4</th>\n",
       "      <td>hist407</td>\n",
       "      <td>2.0</td>\n",
       "    </tr>\n",
       "    <tr>\n",
       "      <th>6</th>\n",
       "      <td>is457</td>\n",
       "      <td>3.0</td>\n",
       "    </tr>\n",
       "    <tr>\n",
       "      <th>5</th>\n",
       "      <td>math227</td>\n",
       "      <td>3.0</td>\n",
       "    </tr>\n",
       "    <tr>\n",
       "      <th>2</th>\n",
       "      <td>stat107</td>\n",
       "      <td>4.0</td>\n",
       "    </tr>\n",
       "    <tr>\n",
       "      <th>3</th>\n",
       "      <td>stat207</td>\n",
       "      <td>4.0</td>\n",
       "    </tr>\n",
       "  </tbody>\n",
       "</table>\n",
       "</div>"
      ],
      "text/plain": [
       "    course  credit\n",
       "0  ansc307     3.0\n",
       "7  badm210     3.0\n",
       "1    cs105     3.0\n",
       "4  hist407     2.0\n",
       "6    is457     3.0\n",
       "5  math227     3.0\n",
       "2  stat107     4.0\n",
       "3  stat207     4.0"
      ]
     },
     "execution_count": 62,
     "metadata": {},
     "output_type": "execute_result"
    }
   ],
   "source": [
    "creditdf.sort_values(by='course')"
   ]
  },
  {
   "cell_type": "code",
   "execution_count": 63,
   "id": "2ff1aa01",
   "metadata": {},
   "outputs": [
    {
     "data": {
      "text/html": [
       "<div>\n",
       "<style scoped>\n",
       "    .dataframe tbody tr th:only-of-type {\n",
       "        vertical-align: middle;\n",
       "    }\n",
       "\n",
       "    .dataframe tbody tr th {\n",
       "        vertical-align: top;\n",
       "    }\n",
       "\n",
       "    .dataframe thead th {\n",
       "        text-align: right;\n",
       "    }\n",
       "</style>\n",
       "<table border=\"1\" class=\"dataframe\">\n",
       "  <thead>\n",
       "    <tr style=\"text-align: right;\">\n",
       "      <th></th>\n",
       "      <th>course</th>\n",
       "      <th>credit</th>\n",
       "    </tr>\n",
       "  </thead>\n",
       "  <tbody>\n",
       "    <tr>\n",
       "      <th>0</th>\n",
       "      <td>ansc307</td>\n",
       "      <td>3.0</td>\n",
       "    </tr>\n",
       "    <tr>\n",
       "      <th>1</th>\n",
       "      <td>cs105</td>\n",
       "      <td>3.0</td>\n",
       "    </tr>\n",
       "    <tr>\n",
       "      <th>2</th>\n",
       "      <td>stat107</td>\n",
       "      <td>4.0</td>\n",
       "    </tr>\n",
       "    <tr>\n",
       "      <th>3</th>\n",
       "      <td>stat207</td>\n",
       "      <td>4.0</td>\n",
       "    </tr>\n",
       "    <tr>\n",
       "      <th>4</th>\n",
       "      <td>hist407</td>\n",
       "      <td>2.0</td>\n",
       "    </tr>\n",
       "    <tr>\n",
       "      <th>5</th>\n",
       "      <td>math227</td>\n",
       "      <td>3.0</td>\n",
       "    </tr>\n",
       "    <tr>\n",
       "      <th>6</th>\n",
       "      <td>is457</td>\n",
       "      <td>3.0</td>\n",
       "    </tr>\n",
       "    <tr>\n",
       "      <th>7</th>\n",
       "      <td>badm210</td>\n",
       "      <td>3.0</td>\n",
       "    </tr>\n",
       "  </tbody>\n",
       "</table>\n",
       "</div>"
      ],
      "text/plain": [
       "    course  credit\n",
       "0  ansc307     3.0\n",
       "1    cs105     3.0\n",
       "2  stat107     4.0\n",
       "3  stat207     4.0\n",
       "4  hist407     2.0\n",
       "5  math227     3.0\n",
       "6    is457     3.0\n",
       "7  badm210     3.0"
      ]
     },
     "execution_count": 63,
     "metadata": {},
     "output_type": "execute_result"
    }
   ],
   "source": [
    "creditdf"
   ]
  },
  {
   "cell_type": "markdown",
   "id": "8035e767",
   "metadata": {},
   "source": [
    "Notice that while the first dataframe is sorted by course name, it did not permanently sort the creditdf dataframe.\n",
    "\n",
    "**Remarks:**\n",
    "\n",
    "1. We can specify more than one variable for sorting, and we can also select various other options such as \"ascending=False\" (default is \"ascending=True\"), where to put NaNs in the ordering (\"na_position='last'\"), and whether to sort in-place (overwriting the original object).\n",
    "2. This operation did **not** replace the original data with sorted data.  It merely displayed the sorted data.  If we wanted to save the sorted results, we can assign them to a new pandas object or we can sort \"in place\", which is illustrated below.\n",
    "\n",
    "Sorting \"in place\" will sort the data and have it remain sorted."
   ]
  },
  {
   "cell_type": "code",
   "execution_count": 64,
   "id": "811a263b",
   "metadata": {},
   "outputs": [
    {
     "data": {
      "text/html": [
       "<div>\n",
       "<style scoped>\n",
       "    .dataframe tbody tr th:only-of-type {\n",
       "        vertical-align: middle;\n",
       "    }\n",
       "\n",
       "    .dataframe tbody tr th {\n",
       "        vertical-align: top;\n",
       "    }\n",
       "\n",
       "    .dataframe thead th {\n",
       "        text-align: right;\n",
       "    }\n",
       "</style>\n",
       "<table border=\"1\" class=\"dataframe\">\n",
       "  <thead>\n",
       "    <tr style=\"text-align: right;\">\n",
       "      <th></th>\n",
       "      <th>course</th>\n",
       "      <th>credit</th>\n",
       "    </tr>\n",
       "  </thead>\n",
       "  <tbody>\n",
       "    <tr>\n",
       "      <th>0</th>\n",
       "      <td>ansc307</td>\n",
       "      <td>3.0</td>\n",
       "    </tr>\n",
       "    <tr>\n",
       "      <th>7</th>\n",
       "      <td>badm210</td>\n",
       "      <td>3.0</td>\n",
       "    </tr>\n",
       "    <tr>\n",
       "      <th>1</th>\n",
       "      <td>cs105</td>\n",
       "      <td>3.0</td>\n",
       "    </tr>\n",
       "    <tr>\n",
       "      <th>4</th>\n",
       "      <td>hist407</td>\n",
       "      <td>2.0</td>\n",
       "    </tr>\n",
       "    <tr>\n",
       "      <th>6</th>\n",
       "      <td>is457</td>\n",
       "      <td>3.0</td>\n",
       "    </tr>\n",
       "    <tr>\n",
       "      <th>5</th>\n",
       "      <td>math227</td>\n",
       "      <td>3.0</td>\n",
       "    </tr>\n",
       "    <tr>\n",
       "      <th>2</th>\n",
       "      <td>stat107</td>\n",
       "      <td>4.0</td>\n",
       "    </tr>\n",
       "    <tr>\n",
       "      <th>3</th>\n",
       "      <td>stat207</td>\n",
       "      <td>4.0</td>\n",
       "    </tr>\n",
       "  </tbody>\n",
       "</table>\n",
       "</div>"
      ],
      "text/plain": [
       "    course  credit\n",
       "0  ansc307     3.0\n",
       "7  badm210     3.0\n",
       "1    cs105     3.0\n",
       "4  hist407     2.0\n",
       "6    is457     3.0\n",
       "5  math227     3.0\n",
       "2  stat107     4.0\n",
       "3  stat207     4.0"
      ]
     },
     "execution_count": 64,
     "metadata": {},
     "output_type": "execute_result"
    }
   ],
   "source": [
    "creditdf.sort_values(by='course', inplace=True)\n",
    "creditdf"
   ]
  },
  {
   "cell_type": "code",
   "execution_count": 65,
   "id": "44292ac7",
   "metadata": {},
   "outputs": [
    {
     "data": {
      "text/html": [
       "<div>\n",
       "<style scoped>\n",
       "    .dataframe tbody tr th:only-of-type {\n",
       "        vertical-align: middle;\n",
       "    }\n",
       "\n",
       "    .dataframe tbody tr th {\n",
       "        vertical-align: top;\n",
       "    }\n",
       "\n",
       "    .dataframe thead th {\n",
       "        text-align: right;\n",
       "    }\n",
       "</style>\n",
       "<table border=\"1\" class=\"dataframe\">\n",
       "  <thead>\n",
       "    <tr style=\"text-align: right;\">\n",
       "      <th></th>\n",
       "      <th>course</th>\n",
       "      <th>credit</th>\n",
       "    </tr>\n",
       "  </thead>\n",
       "  <tbody>\n",
       "    <tr>\n",
       "      <th>0</th>\n",
       "      <td>ansc307</td>\n",
       "      <td>3.0</td>\n",
       "    </tr>\n",
       "    <tr>\n",
       "      <th>7</th>\n",
       "      <td>badm210</td>\n",
       "      <td>3.0</td>\n",
       "    </tr>\n",
       "    <tr>\n",
       "      <th>1</th>\n",
       "      <td>cs105</td>\n",
       "      <td>3.0</td>\n",
       "    </tr>\n",
       "    <tr>\n",
       "      <th>4</th>\n",
       "      <td>hist407</td>\n",
       "      <td>2.0</td>\n",
       "    </tr>\n",
       "    <tr>\n",
       "      <th>6</th>\n",
       "      <td>is457</td>\n",
       "      <td>3.0</td>\n",
       "    </tr>\n",
       "    <tr>\n",
       "      <th>5</th>\n",
       "      <td>math227</td>\n",
       "      <td>3.0</td>\n",
       "    </tr>\n",
       "    <tr>\n",
       "      <th>2</th>\n",
       "      <td>stat107</td>\n",
       "      <td>4.0</td>\n",
       "    </tr>\n",
       "    <tr>\n",
       "      <th>3</th>\n",
       "      <td>stat207</td>\n",
       "      <td>4.0</td>\n",
       "    </tr>\n",
       "  </tbody>\n",
       "</table>\n",
       "</div>"
      ],
      "text/plain": [
       "    course  credit\n",
       "0  ansc307     3.0\n",
       "7  badm210     3.0\n",
       "1    cs105     3.0\n",
       "4  hist407     2.0\n",
       "6    is457     3.0\n",
       "5  math227     3.0\n",
       "2  stat107     4.0\n",
       "3  stat207     4.0"
      ]
     },
     "execution_count": 65,
     "metadata": {},
     "output_type": "execute_result"
    }
   ],
   "source": [
    "# overwriting the original data\n",
    "creditdf = creditdf.sort_values(by='course')\n",
    "creditdf"
   ]
  },
  {
   "cell_type": "markdown",
   "id": "75d6244b",
   "metadata": {},
   "source": [
    "We could also sort the class sections by their enrollments, from lowest to highest."
   ]
  },
  {
   "cell_type": "code",
   "execution_count": 66,
   "id": "5d8fe4a3",
   "metadata": {},
   "outputs": [
    {
     "data": {
      "text/html": [
       "<div>\n",
       "<style scoped>\n",
       "    .dataframe tbody tr th:only-of-type {\n",
       "        vertical-align: middle;\n",
       "    }\n",
       "\n",
       "    .dataframe tbody tr th {\n",
       "        vertical-align: top;\n",
       "    }\n",
       "\n",
       "    .dataframe thead th {\n",
       "        text-align: right;\n",
       "    }\n",
       "</style>\n",
       "<table border=\"1\" class=\"dataframe\">\n",
       "  <thead>\n",
       "    <tr style=\"text-align: right;\">\n",
       "      <th></th>\n",
       "      <th>course</th>\n",
       "      <th>section</th>\n",
       "      <th>enrolled</th>\n",
       "    </tr>\n",
       "  </thead>\n",
       "  <tbody>\n",
       "    <tr>\n",
       "      <th>1</th>\n",
       "      <td>stat207</td>\n",
       "      <td>A</td>\n",
       "      <td>103</td>\n",
       "    </tr>\n",
       "    <tr>\n",
       "      <th>2</th>\n",
       "      <td>stat207</td>\n",
       "      <td>B</td>\n",
       "      <td>123</td>\n",
       "    </tr>\n",
       "    <tr>\n",
       "      <th>4</th>\n",
       "      <td>badm210</td>\n",
       "      <td>B</td>\n",
       "      <td>172</td>\n",
       "    </tr>\n",
       "    <tr>\n",
       "      <th>3</th>\n",
       "      <td>badm210</td>\n",
       "      <td>A</td>\n",
       "      <td>216</td>\n",
       "    </tr>\n",
       "    <tr>\n",
       "      <th>0</th>\n",
       "      <td>cs105</td>\n",
       "      <td>A</td>\n",
       "      <td>479</td>\n",
       "    </tr>\n",
       "  </tbody>\n",
       "</table>\n",
       "</div>"
      ],
      "text/plain": [
       "    course section  enrolled\n",
       "1  stat207       A       103\n",
       "2  stat207       B       123\n",
       "4  badm210       B       172\n",
       "3  badm210       A       216\n",
       "0    cs105       A       479"
      ]
     },
     "execution_count": 66,
     "metadata": {},
     "output_type": "execute_result"
    }
   ],
   "source": [
    "sectdf.sort_values(by='enrolled', ascending=True)"
   ]
  },
  {
   "cell_type": "markdown",
   "id": "6750374c",
   "metadata": {},
   "source": [
    "## Try It Tutorial!\n",
    "\n",
    "Suppose that we'd like to analyze our fullerdf dataframe with the following steps.\n",
    "\n",
    "We've started by making a copy of the fullerdf dataframe as tryit2, which you should use for this tutorial.  This preserves the original data, should you need to reference it.\n",
    "\n",
    "1. Filter the dataset to contain only courses that have small enrollment, defined as having enrollments less than 100.\n",
    "2. Sort the dataset by the college.\n",
    "3. What is the sum of the credit hours for the smaller enrollment courses?\n",
    "4. **Review**: Make a table summarizing the number of courses with smaller enrollments that are in each college type.  How many small enrollment courses are from ACES?\n",
    "\n",
    "Repeat this process with the larger enrollment courses, or those courses that have enrollments of at least 100.  How many credit hours are associated with the larger enrollment courses?  What proportion of larger enrollment courses are from LAS?"
   ]
  },
  {
   "cell_type": "code",
   "execution_count": 67,
   "id": "04d1410e",
   "metadata": {},
   "outputs": [],
   "source": [
    "tryit2 = fullerdf.copy()"
   ]
  },
  {
   "cell_type": "code",
   "execution_count": null,
   "id": "bf9322fc",
   "metadata": {},
   "outputs": [],
   "source": []
  },
  {
   "cell_type": "markdown",
   "id": "67fdfe3b",
   "metadata": {},
   "source": [
    "## 12. Overwriting a Single Entry\n",
    "\n",
    "Let's pretend that we are now unsure about the enrollment of section B of badm210.  We could overwrite the enrollment entry by replacing 172 with the string 'unknown'.  However, we see below that by adding a string to a column comprised of numbers, we receive an error when we try to apply a function that only applied to numbers, like .sum()."
   ]
  },
  {
   "cell_type": "code",
   "execution_count": 68,
   "id": "830f8777",
   "metadata": {},
   "outputs": [
    {
     "data": {
      "text/html": [
       "<div>\n",
       "<style scoped>\n",
       "    .dataframe tbody tr th:only-of-type {\n",
       "        vertical-align: middle;\n",
       "    }\n",
       "\n",
       "    .dataframe tbody tr th {\n",
       "        vertical-align: top;\n",
       "    }\n",
       "\n",
       "    .dataframe thead th {\n",
       "        text-align: right;\n",
       "    }\n",
       "</style>\n",
       "<table border=\"1\" class=\"dataframe\">\n",
       "  <thead>\n",
       "    <tr style=\"text-align: right;\">\n",
       "      <th></th>\n",
       "      <th>course</th>\n",
       "      <th>section</th>\n",
       "      <th>enrolled</th>\n",
       "    </tr>\n",
       "  </thead>\n",
       "  <tbody>\n",
       "    <tr>\n",
       "      <th>0</th>\n",
       "      <td>cs105</td>\n",
       "      <td>A</td>\n",
       "      <td>479</td>\n",
       "    </tr>\n",
       "    <tr>\n",
       "      <th>1</th>\n",
       "      <td>stat207</td>\n",
       "      <td>A</td>\n",
       "      <td>103</td>\n",
       "    </tr>\n",
       "    <tr>\n",
       "      <th>2</th>\n",
       "      <td>stat207</td>\n",
       "      <td>B</td>\n",
       "      <td>123</td>\n",
       "    </tr>\n",
       "    <tr>\n",
       "      <th>3</th>\n",
       "      <td>badm210</td>\n",
       "      <td>A</td>\n",
       "      <td>216</td>\n",
       "    </tr>\n",
       "    <tr>\n",
       "      <th>4</th>\n",
       "      <td>badm210</td>\n",
       "      <td>B</td>\n",
       "      <td>172</td>\n",
       "    </tr>\n",
       "  </tbody>\n",
       "</table>\n",
       "</div>"
      ],
      "text/plain": [
       "    course section  enrolled\n",
       "0    cs105       A       479\n",
       "1  stat207       A       103\n",
       "2  stat207       B       123\n",
       "3  badm210       A       216\n",
       "4  badm210       B       172"
      ]
     },
     "execution_count": 68,
     "metadata": {},
     "output_type": "execute_result"
    }
   ],
   "source": [
    "tmp = sectdf.copy() # copy of data frame\n",
    "tmp"
   ]
  },
  {
   "cell_type": "code",
   "execution_count": 69,
   "id": "091b8ff7",
   "metadata": {},
   "outputs": [
    {
     "data": {
      "text/plain": [
       "172"
      ]
     },
     "execution_count": 69,
     "metadata": {},
     "output_type": "execute_result"
    }
   ],
   "source": [
    "tmp['enrolled'][4] # Access the enrollment for badm210 section B"
   ]
  },
  {
   "cell_type": "code",
   "execution_count": 70,
   "id": "1708c1c5",
   "metadata": {},
   "outputs": [
    {
     "data": {
      "text/plain": [
       "172"
      ]
     },
     "execution_count": 70,
     "metadata": {},
     "output_type": "execute_result"
    }
   ],
   "source": [
    "tmp.iloc[4,2] # another option to access"
   ]
  },
  {
   "cell_type": "code",
   "execution_count": 71,
   "id": "fd517b3a",
   "metadata": {},
   "outputs": [
    {
     "data": {
      "text/html": [
       "<div>\n",
       "<style scoped>\n",
       "    .dataframe tbody tr th:only-of-type {\n",
       "        vertical-align: middle;\n",
       "    }\n",
       "\n",
       "    .dataframe tbody tr th {\n",
       "        vertical-align: top;\n",
       "    }\n",
       "\n",
       "    .dataframe thead th {\n",
       "        text-align: right;\n",
       "    }\n",
       "</style>\n",
       "<table border=\"1\" class=\"dataframe\">\n",
       "  <thead>\n",
       "    <tr style=\"text-align: right;\">\n",
       "      <th></th>\n",
       "      <th>course</th>\n",
       "      <th>section</th>\n",
       "      <th>enrolled</th>\n",
       "    </tr>\n",
       "  </thead>\n",
       "  <tbody>\n",
       "    <tr>\n",
       "      <th>0</th>\n",
       "      <td>cs105</td>\n",
       "      <td>A</td>\n",
       "      <td>479</td>\n",
       "    </tr>\n",
       "    <tr>\n",
       "      <th>1</th>\n",
       "      <td>stat207</td>\n",
       "      <td>A</td>\n",
       "      <td>103</td>\n",
       "    </tr>\n",
       "    <tr>\n",
       "      <th>2</th>\n",
       "      <td>stat207</td>\n",
       "      <td>B</td>\n",
       "      <td>123</td>\n",
       "    </tr>\n",
       "    <tr>\n",
       "      <th>3</th>\n",
       "      <td>badm210</td>\n",
       "      <td>A</td>\n",
       "      <td>216</td>\n",
       "    </tr>\n",
       "    <tr>\n",
       "      <th>4</th>\n",
       "      <td>badm210</td>\n",
       "      <td>B</td>\n",
       "      <td>unknown</td>\n",
       "    </tr>\n",
       "  </tbody>\n",
       "</table>\n",
       "</div>"
      ],
      "text/plain": [
       "    course section enrolled\n",
       "0    cs105       A      479\n",
       "1  stat207       A      103\n",
       "2  stat207       B      123\n",
       "3  badm210       A      216\n",
       "4  badm210       B  unknown"
      ]
     },
     "execution_count": 71,
     "metadata": {},
     "output_type": "execute_result"
    }
   ],
   "source": [
    "tmp.iloc[4,2] = 'unknown' # coding this element as something else\n",
    "tmp"
   ]
  },
  {
   "cell_type": "code",
   "execution_count": 72,
   "id": "d5c4a6e3",
   "metadata": {},
   "outputs": [
    {
     "ename": "TypeError",
     "evalue": "unsupported operand type(s) for +: 'int' and 'str'",
     "output_type": "error",
     "traceback": [
      "\u001b[0;31m---------------------------------------------------------------------------\u001b[0m",
      "\u001b[0;31mTypeError\u001b[0m                                 Traceback (most recent call last)",
      "\u001b[0;32m/var/folders/8n/vcl88k4x7qnddbqbz4ljfx780000gn/T/ipykernel_96950/1824853949.py\u001b[0m in \u001b[0;36m<module>\u001b[0;34m\u001b[0m\n\u001b[0;32m----> 1\u001b[0;31m \u001b[0mtmp\u001b[0m\u001b[0;34m[\u001b[0m\u001b[0;34m'enrolled'\u001b[0m\u001b[0;34m]\u001b[0m\u001b[0;34m.\u001b[0m\u001b[0msum\u001b[0m\u001b[0;34m(\u001b[0m\u001b[0;34m)\u001b[0m\u001b[0;34m\u001b[0m\u001b[0;34m\u001b[0m\u001b[0m\n\u001b[0m",
      "\u001b[0;32m~/miniconda3/lib/python3.8/site-packages/pandas/core/generic.py\u001b[0m in \u001b[0;36msum\u001b[0;34m(self, axis, skipna, level, numeric_only, min_count, **kwargs)\u001b[0m\n\u001b[1;32m  10706\u001b[0m             \u001b[0;34m**\u001b[0m\u001b[0mkwargs\u001b[0m\u001b[0;34m,\u001b[0m\u001b[0;34m\u001b[0m\u001b[0;34m\u001b[0m\u001b[0m\n\u001b[1;32m  10707\u001b[0m         ):\n\u001b[0;32m> 10708\u001b[0;31m             return NDFrame.sum(\n\u001b[0m\u001b[1;32m  10709\u001b[0m                 \u001b[0mself\u001b[0m\u001b[0;34m,\u001b[0m \u001b[0maxis\u001b[0m\u001b[0;34m,\u001b[0m \u001b[0mskipna\u001b[0m\u001b[0;34m,\u001b[0m \u001b[0mlevel\u001b[0m\u001b[0;34m,\u001b[0m \u001b[0mnumeric_only\u001b[0m\u001b[0;34m,\u001b[0m \u001b[0mmin_count\u001b[0m\u001b[0;34m,\u001b[0m \u001b[0;34m**\u001b[0m\u001b[0mkwargs\u001b[0m\u001b[0;34m\u001b[0m\u001b[0;34m\u001b[0m\u001b[0m\n\u001b[1;32m  10710\u001b[0m             )\n",
      "\u001b[0;32m~/miniconda3/lib/python3.8/site-packages/pandas/core/generic.py\u001b[0m in \u001b[0;36msum\u001b[0;34m(self, axis, skipna, level, numeric_only, min_count, **kwargs)\u001b[0m\n\u001b[1;32m  10444\u001b[0m         \u001b[0;34m**\u001b[0m\u001b[0mkwargs\u001b[0m\u001b[0;34m,\u001b[0m\u001b[0;34m\u001b[0m\u001b[0;34m\u001b[0m\u001b[0m\n\u001b[1;32m  10445\u001b[0m     ):\n\u001b[0;32m> 10446\u001b[0;31m         return self._min_count_stat_function(\n\u001b[0m\u001b[1;32m  10447\u001b[0m             \u001b[0;34m\"sum\"\u001b[0m\u001b[0;34m,\u001b[0m \u001b[0mnanops\u001b[0m\u001b[0;34m.\u001b[0m\u001b[0mnansum\u001b[0m\u001b[0;34m,\u001b[0m \u001b[0maxis\u001b[0m\u001b[0;34m,\u001b[0m \u001b[0mskipna\u001b[0m\u001b[0;34m,\u001b[0m \u001b[0mlevel\u001b[0m\u001b[0;34m,\u001b[0m \u001b[0mnumeric_only\u001b[0m\u001b[0;34m,\u001b[0m \u001b[0mmin_count\u001b[0m\u001b[0;34m,\u001b[0m \u001b[0;34m**\u001b[0m\u001b[0mkwargs\u001b[0m\u001b[0;34m\u001b[0m\u001b[0;34m\u001b[0m\u001b[0m\n\u001b[1;32m  10448\u001b[0m         )\n",
      "\u001b[0;32m~/miniconda3/lib/python3.8/site-packages/pandas/core/generic.py\u001b[0m in \u001b[0;36m_min_count_stat_function\u001b[0;34m(self, name, func, axis, skipna, level, numeric_only, min_count, **kwargs)\u001b[0m\n\u001b[1;32m  10426\u001b[0m                 \u001b[0mnumeric_only\u001b[0m\u001b[0;34m=\u001b[0m\u001b[0mnumeric_only\u001b[0m\u001b[0;34m,\u001b[0m\u001b[0;34m\u001b[0m\u001b[0;34m\u001b[0m\u001b[0m\n\u001b[1;32m  10427\u001b[0m             )\n\u001b[0;32m> 10428\u001b[0;31m         return self._reduce(\n\u001b[0m\u001b[1;32m  10429\u001b[0m             \u001b[0mfunc\u001b[0m\u001b[0;34m,\u001b[0m\u001b[0;34m\u001b[0m\u001b[0;34m\u001b[0m\u001b[0m\n\u001b[1;32m  10430\u001b[0m             \u001b[0mname\u001b[0m\u001b[0;34m=\u001b[0m\u001b[0mname\u001b[0m\u001b[0;34m,\u001b[0m\u001b[0;34m\u001b[0m\u001b[0;34m\u001b[0m\u001b[0m\n",
      "\u001b[0;32m~/miniconda3/lib/python3.8/site-packages/pandas/core/series.py\u001b[0m in \u001b[0;36m_reduce\u001b[0;34m(self, op, name, axis, skipna, numeric_only, filter_type, **kwds)\u001b[0m\n\u001b[1;32m   4390\u001b[0m                 )\n\u001b[1;32m   4391\u001b[0m             \u001b[0;32mwith\u001b[0m \u001b[0mnp\u001b[0m\u001b[0;34m.\u001b[0m\u001b[0merrstate\u001b[0m\u001b[0;34m(\u001b[0m\u001b[0mall\u001b[0m\u001b[0;34m=\u001b[0m\u001b[0;34m\"ignore\"\u001b[0m\u001b[0;34m)\u001b[0m\u001b[0;34m:\u001b[0m\u001b[0;34m\u001b[0m\u001b[0;34m\u001b[0m\u001b[0m\n\u001b[0;32m-> 4392\u001b[0;31m                 \u001b[0;32mreturn\u001b[0m \u001b[0mop\u001b[0m\u001b[0;34m(\u001b[0m\u001b[0mdelegate\u001b[0m\u001b[0;34m,\u001b[0m \u001b[0mskipna\u001b[0m\u001b[0;34m=\u001b[0m\u001b[0mskipna\u001b[0m\u001b[0;34m,\u001b[0m \u001b[0;34m**\u001b[0m\u001b[0mkwds\u001b[0m\u001b[0;34m)\u001b[0m\u001b[0;34m\u001b[0m\u001b[0;34m\u001b[0m\u001b[0m\n\u001b[0m\u001b[1;32m   4393\u001b[0m \u001b[0;34m\u001b[0m\u001b[0m\n\u001b[1;32m   4394\u001b[0m     def _reindex_indexer(\n",
      "\u001b[0;32m~/miniconda3/lib/python3.8/site-packages/pandas/core/nanops.py\u001b[0m in \u001b[0;36m_f\u001b[0;34m(*args, **kwargs)\u001b[0m\n\u001b[1;32m     92\u001b[0m             \u001b[0;32mtry\u001b[0m\u001b[0;34m:\u001b[0m\u001b[0;34m\u001b[0m\u001b[0;34m\u001b[0m\u001b[0m\n\u001b[1;32m     93\u001b[0m                 \u001b[0;32mwith\u001b[0m \u001b[0mnp\u001b[0m\u001b[0;34m.\u001b[0m\u001b[0merrstate\u001b[0m\u001b[0;34m(\u001b[0m\u001b[0minvalid\u001b[0m\u001b[0;34m=\u001b[0m\u001b[0;34m\"ignore\"\u001b[0m\u001b[0;34m)\u001b[0m\u001b[0;34m:\u001b[0m\u001b[0;34m\u001b[0m\u001b[0;34m\u001b[0m\u001b[0m\n\u001b[0;32m---> 94\u001b[0;31m                     \u001b[0;32mreturn\u001b[0m \u001b[0mf\u001b[0m\u001b[0;34m(\u001b[0m\u001b[0;34m*\u001b[0m\u001b[0margs\u001b[0m\u001b[0;34m,\u001b[0m \u001b[0;34m**\u001b[0m\u001b[0mkwargs\u001b[0m\u001b[0;34m)\u001b[0m\u001b[0;34m\u001b[0m\u001b[0;34m\u001b[0m\u001b[0m\n\u001b[0m\u001b[1;32m     95\u001b[0m             \u001b[0;32mexcept\u001b[0m \u001b[0mValueError\u001b[0m \u001b[0;32mas\u001b[0m \u001b[0me\u001b[0m\u001b[0;34m:\u001b[0m\u001b[0;34m\u001b[0m\u001b[0;34m\u001b[0m\u001b[0m\n\u001b[1;32m     96\u001b[0m                 \u001b[0;31m# we want to transform an object array\u001b[0m\u001b[0;34m\u001b[0m\u001b[0;34m\u001b[0m\u001b[0;34m\u001b[0m\u001b[0m\n",
      "\u001b[0;32m~/miniconda3/lib/python3.8/site-packages/pandas/core/nanops.py\u001b[0m in \u001b[0;36mnew_func\u001b[0;34m(values, axis, skipna, mask, **kwargs)\u001b[0m\n\u001b[1;32m    409\u001b[0m             \u001b[0mmask\u001b[0m \u001b[0;34m=\u001b[0m \u001b[0misna\u001b[0m\u001b[0;34m(\u001b[0m\u001b[0mvalues\u001b[0m\u001b[0;34m)\u001b[0m\u001b[0;34m\u001b[0m\u001b[0;34m\u001b[0m\u001b[0m\n\u001b[1;32m    410\u001b[0m \u001b[0;34m\u001b[0m\u001b[0m\n\u001b[0;32m--> 411\u001b[0;31m         \u001b[0mresult\u001b[0m \u001b[0;34m=\u001b[0m \u001b[0mfunc\u001b[0m\u001b[0;34m(\u001b[0m\u001b[0mvalues\u001b[0m\u001b[0;34m,\u001b[0m \u001b[0maxis\u001b[0m\u001b[0;34m=\u001b[0m\u001b[0maxis\u001b[0m\u001b[0;34m,\u001b[0m \u001b[0mskipna\u001b[0m\u001b[0;34m=\u001b[0m\u001b[0mskipna\u001b[0m\u001b[0;34m,\u001b[0m \u001b[0mmask\u001b[0m\u001b[0;34m=\u001b[0m\u001b[0mmask\u001b[0m\u001b[0;34m,\u001b[0m \u001b[0;34m**\u001b[0m\u001b[0mkwargs\u001b[0m\u001b[0;34m)\u001b[0m\u001b[0;34m\u001b[0m\u001b[0;34m\u001b[0m\u001b[0m\n\u001b[0m\u001b[1;32m    412\u001b[0m \u001b[0;34m\u001b[0m\u001b[0m\n\u001b[1;32m    413\u001b[0m         \u001b[0;32mif\u001b[0m \u001b[0mdatetimelike\u001b[0m\u001b[0;34m:\u001b[0m\u001b[0;34m\u001b[0m\u001b[0;34m\u001b[0m\u001b[0m\n",
      "\u001b[0;32m~/miniconda3/lib/python3.8/site-packages/pandas/core/nanops.py\u001b[0m in \u001b[0;36mnansum\u001b[0;34m(values, axis, skipna, min_count, mask)\u001b[0m\n\u001b[1;32m    589\u001b[0m         \u001b[0mdtype_sum\u001b[0m \u001b[0;34m=\u001b[0m \u001b[0mnp\u001b[0m\u001b[0;34m.\u001b[0m\u001b[0mfloat64\u001b[0m  \u001b[0;31m# type: ignore[assignment]\u001b[0m\u001b[0;34m\u001b[0m\u001b[0;34m\u001b[0m\u001b[0m\n\u001b[1;32m    590\u001b[0m \u001b[0;34m\u001b[0m\u001b[0m\n\u001b[0;32m--> 591\u001b[0;31m     \u001b[0mthe_sum\u001b[0m \u001b[0;34m=\u001b[0m \u001b[0mvalues\u001b[0m\u001b[0;34m.\u001b[0m\u001b[0msum\u001b[0m\u001b[0;34m(\u001b[0m\u001b[0maxis\u001b[0m\u001b[0;34m,\u001b[0m \u001b[0mdtype\u001b[0m\u001b[0;34m=\u001b[0m\u001b[0mdtype_sum\u001b[0m\u001b[0;34m)\u001b[0m\u001b[0;34m\u001b[0m\u001b[0;34m\u001b[0m\u001b[0m\n\u001b[0m\u001b[1;32m    592\u001b[0m     \u001b[0mthe_sum\u001b[0m \u001b[0;34m=\u001b[0m \u001b[0m_maybe_null_out\u001b[0m\u001b[0;34m(\u001b[0m\u001b[0mthe_sum\u001b[0m\u001b[0;34m,\u001b[0m \u001b[0maxis\u001b[0m\u001b[0;34m,\u001b[0m \u001b[0mmask\u001b[0m\u001b[0;34m,\u001b[0m \u001b[0mvalues\u001b[0m\u001b[0;34m.\u001b[0m\u001b[0mshape\u001b[0m\u001b[0;34m,\u001b[0m \u001b[0mmin_count\u001b[0m\u001b[0;34m=\u001b[0m\u001b[0mmin_count\u001b[0m\u001b[0;34m)\u001b[0m\u001b[0;34m\u001b[0m\u001b[0;34m\u001b[0m\u001b[0m\n\u001b[1;32m    593\u001b[0m \u001b[0;34m\u001b[0m\u001b[0m\n",
      "\u001b[0;32m~/miniconda3/lib/python3.8/site-packages/numpy/core/_methods.py\u001b[0m in \u001b[0;36m_sum\u001b[0;34m(a, axis, dtype, out, keepdims, initial, where)\u001b[0m\n\u001b[1;32m     45\u001b[0m def _sum(a, axis=None, dtype=None, out=None, keepdims=False,\n\u001b[1;32m     46\u001b[0m          initial=_NoValue, where=True):\n\u001b[0;32m---> 47\u001b[0;31m     \u001b[0;32mreturn\u001b[0m \u001b[0mumr_sum\u001b[0m\u001b[0;34m(\u001b[0m\u001b[0ma\u001b[0m\u001b[0;34m,\u001b[0m \u001b[0maxis\u001b[0m\u001b[0;34m,\u001b[0m \u001b[0mdtype\u001b[0m\u001b[0;34m,\u001b[0m \u001b[0mout\u001b[0m\u001b[0;34m,\u001b[0m \u001b[0mkeepdims\u001b[0m\u001b[0;34m,\u001b[0m \u001b[0minitial\u001b[0m\u001b[0;34m,\u001b[0m \u001b[0mwhere\u001b[0m\u001b[0;34m)\u001b[0m\u001b[0;34m\u001b[0m\u001b[0;34m\u001b[0m\u001b[0m\n\u001b[0m\u001b[1;32m     48\u001b[0m \u001b[0;34m\u001b[0m\u001b[0m\n\u001b[1;32m     49\u001b[0m def _prod(a, axis=None, dtype=None, out=None, keepdims=False,\n",
      "\u001b[0;31mTypeError\u001b[0m: unsupported operand type(s) for +: 'int' and 'str'"
     ]
    }
   ],
   "source": [
    "tmp['enrolled'].sum()"
   ]
  },
  {
   "cell_type": "code",
   "execution_count": 73,
   "id": "5409cb10",
   "metadata": {},
   "outputs": [
    {
     "data": {
      "text/plain": [
       "1093"
      ]
     },
     "execution_count": 73,
     "metadata": {},
     "output_type": "execute_result"
    }
   ],
   "source": [
    "sectdf['enrolled'].sum()"
   ]
  },
  {
   "cell_type": "markdown",
   "id": "e3330379",
   "metadata": {},
   "source": [
    "## 13. NaN Objects\n",
    "\n",
    "We see that we have an error when we try to sum the enrolled variable in our new dataframe, but we don't see the same error when we try to sum from our original dataframe.  The only difference is the 'unknown' entry, so that must be the cause of our error!\n",
    "\n",
    "Missing data are very common in real data applications.  How can we handle them at a basic level?  What is a better way to indicate to Python that we do not know the enrollment of section B of badm210?  We can overwrite the enrollment for this class using another type of filter for unknown or missing values."
   ]
  },
  {
   "cell_type": "code",
   "execution_count": 74,
   "id": "422fb056",
   "metadata": {},
   "outputs": [
    {
     "data": {
      "text/html": [
       "<div>\n",
       "<style scoped>\n",
       "    .dataframe tbody tr th:only-of-type {\n",
       "        vertical-align: middle;\n",
       "    }\n",
       "\n",
       "    .dataframe tbody tr th {\n",
       "        vertical-align: top;\n",
       "    }\n",
       "\n",
       "    .dataframe thead th {\n",
       "        text-align: right;\n",
       "    }\n",
       "</style>\n",
       "<table border=\"1\" class=\"dataframe\">\n",
       "  <thead>\n",
       "    <tr style=\"text-align: right;\">\n",
       "      <th></th>\n",
       "      <th>course</th>\n",
       "      <th>section</th>\n",
       "      <th>enrolled</th>\n",
       "    </tr>\n",
       "  </thead>\n",
       "  <tbody>\n",
       "    <tr>\n",
       "      <th>0</th>\n",
       "      <td>cs105</td>\n",
       "      <td>A</td>\n",
       "      <td>479</td>\n",
       "    </tr>\n",
       "    <tr>\n",
       "      <th>1</th>\n",
       "      <td>stat207</td>\n",
       "      <td>A</td>\n",
       "      <td>103</td>\n",
       "    </tr>\n",
       "    <tr>\n",
       "      <th>2</th>\n",
       "      <td>stat207</td>\n",
       "      <td>B</td>\n",
       "      <td>123</td>\n",
       "    </tr>\n",
       "    <tr>\n",
       "      <th>3</th>\n",
       "      <td>badm210</td>\n",
       "      <td>A</td>\n",
       "      <td>216</td>\n",
       "    </tr>\n",
       "    <tr>\n",
       "      <th>4</th>\n",
       "      <td>badm210</td>\n",
       "      <td>B</td>\n",
       "      <td>172</td>\n",
       "    </tr>\n",
       "  </tbody>\n",
       "</table>\n",
       "</div>"
      ],
      "text/plain": [
       "    course section  enrolled\n",
       "0    cs105       A       479\n",
       "1  stat207       A       103\n",
       "2  stat207       B       123\n",
       "3  badm210       A       216\n",
       "4  badm210       B       172"
      ]
     },
     "execution_count": 74,
     "metadata": {},
     "output_type": "execute_result"
    }
   ],
   "source": [
    "tmp = sectdf.copy() # copy of data frame\n",
    "tmp"
   ]
  },
  {
   "cell_type": "code",
   "execution_count": 75,
   "id": "cff0045f",
   "metadata": {},
   "outputs": [
    {
     "data": {
      "text/html": [
       "<div>\n",
       "<style scoped>\n",
       "    .dataframe tbody tr th:only-of-type {\n",
       "        vertical-align: middle;\n",
       "    }\n",
       "\n",
       "    .dataframe tbody tr th {\n",
       "        vertical-align: top;\n",
       "    }\n",
       "\n",
       "    .dataframe thead th {\n",
       "        text-align: right;\n",
       "    }\n",
       "</style>\n",
       "<table border=\"1\" class=\"dataframe\">\n",
       "  <thead>\n",
       "    <tr style=\"text-align: right;\">\n",
       "      <th></th>\n",
       "      <th>course</th>\n",
       "      <th>section</th>\n",
       "      <th>enrolled</th>\n",
       "    </tr>\n",
       "  </thead>\n",
       "  <tbody>\n",
       "    <tr>\n",
       "      <th>0</th>\n",
       "      <td>cs105</td>\n",
       "      <td>A</td>\n",
       "      <td>479.0</td>\n",
       "    </tr>\n",
       "    <tr>\n",
       "      <th>1</th>\n",
       "      <td>stat207</td>\n",
       "      <td>A</td>\n",
       "      <td>103.0</td>\n",
       "    </tr>\n",
       "    <tr>\n",
       "      <th>2</th>\n",
       "      <td>stat207</td>\n",
       "      <td>B</td>\n",
       "      <td>123.0</td>\n",
       "    </tr>\n",
       "    <tr>\n",
       "      <th>3</th>\n",
       "      <td>badm210</td>\n",
       "      <td>A</td>\n",
       "      <td>216.0</td>\n",
       "    </tr>\n",
       "    <tr>\n",
       "      <th>4</th>\n",
       "      <td>badm210</td>\n",
       "      <td>B</td>\n",
       "      <td>NaN</td>\n",
       "    </tr>\n",
       "  </tbody>\n",
       "</table>\n",
       "</div>"
      ],
      "text/plain": [
       "    course section  enrolled\n",
       "0    cs105       A     479.0\n",
       "1  stat207       A     103.0\n",
       "2  stat207       B     123.0\n",
       "3  badm210       A     216.0\n",
       "4  badm210       B       NaN"
      ]
     },
     "execution_count": 75,
     "metadata": {},
     "output_type": "execute_result"
    }
   ],
   "source": [
    "tmp.iloc[4,2] = None # coding this element as NaN\n",
    "tmp"
   ]
  },
  {
   "cell_type": "code",
   "execution_count": 76,
   "id": "d4c8ff21",
   "metadata": {},
   "outputs": [
    {
     "data": {
      "text/plain": [
       "nan"
      ]
     },
     "execution_count": 76,
     "metadata": {},
     "output_type": "execute_result"
    }
   ],
   "source": [
    "tmp.iloc[4,2]"
   ]
  },
  {
   "cell_type": "code",
   "execution_count": 77,
   "id": "e36e2be8",
   "metadata": {},
   "outputs": [
    {
     "data": {
      "text/plain": [
       "921.0"
      ]
     },
     "execution_count": 77,
     "metadata": {},
     "output_type": "execute_result"
    }
   ],
   "source": [
    "tmp['enrolled'].sum()"
   ]
  },
  {
   "cell_type": "markdown",
   "id": "7104f581",
   "metadata": {},
   "source": [
    "We can now sum the enrollment numbers without an error!  \n",
    "\n",
    "Our missing value is encoded as NaN (not a number).  Python knows how to handle NaNs when performing calculations or other data frame manipulations.  \n",
    "\n",
    "By default, many functions will skip data with missing values.  This is what happened with the sum function.  Often this makes sense, but not always!  The question of what this sum now represents is one that we won't answer now.\n",
    "\n",
    "What if we wanted to sort by enrollment?  We need to specify whether missing values should go first or last on the list."
   ]
  },
  {
   "cell_type": "code",
   "execution_count": 78,
   "id": "781a91cf",
   "metadata": {},
   "outputs": [
    {
     "data": {
      "text/html": [
       "<div>\n",
       "<style scoped>\n",
       "    .dataframe tbody tr th:only-of-type {\n",
       "        vertical-align: middle;\n",
       "    }\n",
       "\n",
       "    .dataframe tbody tr th {\n",
       "        vertical-align: top;\n",
       "    }\n",
       "\n",
       "    .dataframe thead th {\n",
       "        text-align: right;\n",
       "    }\n",
       "</style>\n",
       "<table border=\"1\" class=\"dataframe\">\n",
       "  <thead>\n",
       "    <tr style=\"text-align: right;\">\n",
       "      <th></th>\n",
       "      <th>course</th>\n",
       "      <th>section</th>\n",
       "      <th>enrolled</th>\n",
       "    </tr>\n",
       "  </thead>\n",
       "  <tbody>\n",
       "    <tr>\n",
       "      <th>4</th>\n",
       "      <td>badm210</td>\n",
       "      <td>B</td>\n",
       "      <td>NaN</td>\n",
       "    </tr>\n",
       "    <tr>\n",
       "      <th>1</th>\n",
       "      <td>stat207</td>\n",
       "      <td>A</td>\n",
       "      <td>103.0</td>\n",
       "    </tr>\n",
       "    <tr>\n",
       "      <th>2</th>\n",
       "      <td>stat207</td>\n",
       "      <td>B</td>\n",
       "      <td>123.0</td>\n",
       "    </tr>\n",
       "    <tr>\n",
       "      <th>3</th>\n",
       "      <td>badm210</td>\n",
       "      <td>A</td>\n",
       "      <td>216.0</td>\n",
       "    </tr>\n",
       "    <tr>\n",
       "      <th>0</th>\n",
       "      <td>cs105</td>\n",
       "      <td>A</td>\n",
       "      <td>479.0</td>\n",
       "    </tr>\n",
       "  </tbody>\n",
       "</table>\n",
       "</div>"
      ],
      "text/plain": [
       "    course section  enrolled\n",
       "4  badm210       B       NaN\n",
       "1  stat207       A     103.0\n",
       "2  stat207       B     123.0\n",
       "3  badm210       A     216.0\n",
       "0    cs105       A     479.0"
      ]
     },
     "execution_count": 78,
     "metadata": {},
     "output_type": "execute_result"
    }
   ],
   "source": [
    "tmp.sort_values(by='enrolled', na_position='first')"
   ]
  },
  {
   "cell_type": "markdown",
   "id": "5748f4fb",
   "metadata": {},
   "source": [
    "## 14. Finding Missing Values in a Dataframe (Basic)\n",
    "\n",
    "The **`DataFrame.isna`** function can scan a dataframe for missing values.  **`DataFrame.notna`** scans for non-missing values."
   ]
  },
  {
   "cell_type": "code",
   "execution_count": 79,
   "id": "a82fa3a5",
   "metadata": {},
   "outputs": [
    {
     "data": {
      "text/html": [
       "<div>\n",
       "<style scoped>\n",
       "    .dataframe tbody tr th:only-of-type {\n",
       "        vertical-align: middle;\n",
       "    }\n",
       "\n",
       "    .dataframe tbody tr th {\n",
       "        vertical-align: top;\n",
       "    }\n",
       "\n",
       "    .dataframe thead th {\n",
       "        text-align: right;\n",
       "    }\n",
       "</style>\n",
       "<table border=\"1\" class=\"dataframe\">\n",
       "  <thead>\n",
       "    <tr style=\"text-align: right;\">\n",
       "      <th></th>\n",
       "      <th>course</th>\n",
       "      <th>section</th>\n",
       "      <th>enrolled</th>\n",
       "    </tr>\n",
       "  </thead>\n",
       "  <tbody>\n",
       "    <tr>\n",
       "      <th>0</th>\n",
       "      <td>False</td>\n",
       "      <td>False</td>\n",
       "      <td>False</td>\n",
       "    </tr>\n",
       "    <tr>\n",
       "      <th>1</th>\n",
       "      <td>False</td>\n",
       "      <td>False</td>\n",
       "      <td>False</td>\n",
       "    </tr>\n",
       "    <tr>\n",
       "      <th>2</th>\n",
       "      <td>False</td>\n",
       "      <td>False</td>\n",
       "      <td>False</td>\n",
       "    </tr>\n",
       "    <tr>\n",
       "      <th>3</th>\n",
       "      <td>False</td>\n",
       "      <td>False</td>\n",
       "      <td>False</td>\n",
       "    </tr>\n",
       "    <tr>\n",
       "      <th>4</th>\n",
       "      <td>False</td>\n",
       "      <td>False</td>\n",
       "      <td>True</td>\n",
       "    </tr>\n",
       "  </tbody>\n",
       "</table>\n",
       "</div>"
      ],
      "text/plain": [
       "   course  section  enrolled\n",
       "0   False    False     False\n",
       "1   False    False     False\n",
       "2   False    False     False\n",
       "3   False    False     False\n",
       "4   False    False      True"
      ]
     },
     "execution_count": 79,
     "metadata": {},
     "output_type": "execute_result"
    }
   ],
   "source": [
    "tmp.isna()"
   ]
  },
  {
   "cell_type": "markdown",
   "id": "43e14a06",
   "metadata": {},
   "source": [
    "We can take the sum of each column above.  When we sum a column of boolean values, Python automatically translates a True to a 1 and a False to a 0.\n",
    "\n",
    "Therefore, the **`.sum()`** function counted 1 True (i.e. a missing value) in the enrolled column and 0 Trues (i.e., no missing values) in the other columns."
   ]
  },
  {
   "cell_type": "code",
   "execution_count": 80,
   "id": "cf00fecd",
   "metadata": {},
   "outputs": [
    {
     "data": {
      "text/plain": [
       "course      0\n",
       "section     0\n",
       "enrolled    1\n",
       "dtype: int64"
      ]
     },
     "execution_count": 80,
     "metadata": {},
     "output_type": "execute_result"
    }
   ],
   "source": [
    "tmp.isna().sum()"
   ]
  },
  {
   "cell_type": "markdown",
   "id": "d8f2fad8",
   "metadata": {},
   "source": [
    "## 15. Dropping Rows with Missing Values\n",
    "\n",
    "There are many ways that we might want to handle missing data.  Deciding how to handle missing data requires care, and may depend on the specific situation.\n",
    "\n",
    "One method (not always the best, but often the easiest) is to only analyze the observations with complete information.  For that analysis, we can use the **`DataFrame.dropna`** function, which extracts complete data for us."
   ]
  },
  {
   "cell_type": "code",
   "execution_count": 81,
   "id": "75a14ec5",
   "metadata": {},
   "outputs": [
    {
     "data": {
      "text/html": [
       "<div>\n",
       "<style scoped>\n",
       "    .dataframe tbody tr th:only-of-type {\n",
       "        vertical-align: middle;\n",
       "    }\n",
       "\n",
       "    .dataframe tbody tr th {\n",
       "        vertical-align: top;\n",
       "    }\n",
       "\n",
       "    .dataframe thead th {\n",
       "        text-align: right;\n",
       "    }\n",
       "</style>\n",
       "<table border=\"1\" class=\"dataframe\">\n",
       "  <thead>\n",
       "    <tr style=\"text-align: right;\">\n",
       "      <th></th>\n",
       "      <th>course</th>\n",
       "      <th>section</th>\n",
       "      <th>enrolled</th>\n",
       "    </tr>\n",
       "  </thead>\n",
       "  <tbody>\n",
       "    <tr>\n",
       "      <th>0</th>\n",
       "      <td>cs105</td>\n",
       "      <td>A</td>\n",
       "      <td>479.0</td>\n",
       "    </tr>\n",
       "    <tr>\n",
       "      <th>1</th>\n",
       "      <td>stat207</td>\n",
       "      <td>A</td>\n",
       "      <td>103.0</td>\n",
       "    </tr>\n",
       "    <tr>\n",
       "      <th>2</th>\n",
       "      <td>stat207</td>\n",
       "      <td>B</td>\n",
       "      <td>123.0</td>\n",
       "    </tr>\n",
       "    <tr>\n",
       "      <th>3</th>\n",
       "      <td>badm210</td>\n",
       "      <td>A</td>\n",
       "      <td>216.0</td>\n",
       "    </tr>\n",
       "  </tbody>\n",
       "</table>\n",
       "</div>"
      ],
      "text/plain": [
       "    course section  enrolled\n",
       "0    cs105       A     479.0\n",
       "1  stat207       A     103.0\n",
       "2  stat207       B     123.0\n",
       "3  badm210       A     216.0"
      ]
     },
     "execution_count": 81,
     "metadata": {},
     "output_type": "execute_result"
    }
   ],
   "source": [
    "tmp.dropna()"
   ]
  },
  {
   "cell_type": "markdown",
   "id": "74098c78",
   "metadata": {},
   "source": [
    "<hr>\n",
    "\n",
    "STAT 207: Julie Deeke, Victoria Ellison, and Douglas Simpson.  University of Illinois at Urbana-Champaign"
   ]
  }
 ],
 "metadata": {
  "kernelspec": {
   "display_name": "Python 3 (ipykernel)",
   "language": "python",
   "name": "python3"
  },
  "language_info": {
   "codemirror_mode": {
    "name": "ipython",
    "version": 3
   },
   "file_extension": ".py",
   "mimetype": "text/x-python",
   "name": "python",
   "nbconvert_exporter": "python",
   "pygments_lexer": "ipython3",
   "version": "3.8.11"
  }
 },
 "nbformat": 4,
 "nbformat_minor": 5
}
