{
 "cells": [
  {
   "cell_type": "markdown",
   "metadata": {},
   "source": [
    "# <u>Case Study 13</u>: Analysis of Variance (ANOVA)\n",
    "\n",
    "This Case Study contains analyses to answer the question:\n",
    "\n",
    "Is there an association or relationship between age and political affiliation?\n",
    "\n",
    "The approach used to address these questions can be thought of in two different ways:\n",
    "\n",
    "- As an extension of the inference procedures for two population means ($\\mu_1 - \\mu_2$) to more than two populations\n",
    "- As a special case of linear regression models when there is one categorical explanatory variable\n",
    "\n",
    "Our goal is to determine if the **mean response** is significantly different between categories of the explanatory variable, where the variable can take more than two values.\n",
    "\n",
    "The specific benefit of ANOVA is that we can compare 2 or more populations at the same time."
   ]
  },
  {
   "cell_type": "code",
   "execution_count": 1,
   "metadata": {},
   "outputs": [],
   "source": [
    "import pandas as pd\n",
    "import numpy as np\n",
    "import seaborn as sns\n",
    "import matplotlib.pyplot as plt\n",
    "\n",
    "import statsmodels.api as sm\n",
    "import statsmodels.formula.api as smf"
   ]
  },
  {
   "cell_type": "markdown",
   "metadata": {},
   "source": [
    "## Preparing Our Data\n",
    "\n",
    "Let's again examine our random sample of adults living in the U.S. (from 2017) from Pew Research."
   ]
  },
  {
   "cell_type": "code",
   "execution_count": 2,
   "metadata": {},
   "outputs": [
    {
     "data": {
      "text/html": [
       "<div>\n",
       "<style scoped>\n",
       "    .dataframe tbody tr th:only-of-type {\n",
       "        vertical-align: middle;\n",
       "    }\n",
       "\n",
       "    .dataframe tbody tr th {\n",
       "        vertical-align: top;\n",
       "    }\n",
       "\n",
       "    .dataframe thead th {\n",
       "        text-align: right;\n",
       "    }\n",
       "</style>\n",
       "<table border=\"1\" class=\"dataframe\">\n",
       "  <thead>\n",
       "    <tr style=\"text-align: right;\">\n",
       "      <th></th>\n",
       "      <th>age</th>\n",
       "      <th>party</th>\n",
       "    </tr>\n",
       "  </thead>\n",
       "  <tbody>\n",
       "    <tr>\n",
       "      <th>0</th>\n",
       "      <td>80.0</td>\n",
       "      <td>Independent</td>\n",
       "    </tr>\n",
       "    <tr>\n",
       "      <th>1</th>\n",
       "      <td>70.0</td>\n",
       "      <td>Democrat</td>\n",
       "    </tr>\n",
       "    <tr>\n",
       "      <th>2</th>\n",
       "      <td>69.0</td>\n",
       "      <td>Independent</td>\n",
       "    </tr>\n",
       "    <tr>\n",
       "      <th>3</th>\n",
       "      <td>50.0</td>\n",
       "      <td>Republican</td>\n",
       "    </tr>\n",
       "    <tr>\n",
       "      <th>4</th>\n",
       "      <td>70.0</td>\n",
       "      <td>Democrat</td>\n",
       "    </tr>\n",
       "  </tbody>\n",
       "</table>\n",
       "</div>"
      ],
      "text/plain": [
       "    age        party\n",
       "0  80.0  Independent\n",
       "1  70.0     Democrat\n",
       "2  69.0  Independent\n",
       "3  50.0   Republican\n",
       "4  70.0     Democrat"
      ]
     },
     "execution_count": 2,
     "metadata": {},
     "output_type": "execute_result"
    }
   ],
   "source": [
    "missing_values = [\"NaN\", \"nan\", \"Don't know/Refused (VOL.)\"]\n",
    "pew = pd.read_csv('Feb17public.csv', \n",
    "                   na_values=missing_values)[['age', 'party']].dropna()\n",
    "pew.head()"
   ]
  },
  {
   "cell_type": "code",
   "execution_count": 3,
   "metadata": {},
   "outputs": [
    {
     "data": {
      "text/plain": [
       "(1465, 2)"
      ]
     },
     "execution_count": 3,
     "metadata": {},
     "output_type": "execute_result"
    }
   ],
   "source": [
    "pew.shape"
   ]
  },
  {
   "cell_type": "markdown",
   "metadata": {},
   "source": [
    "How many of each political affiliation are there in this sample?"
   ]
  },
  {
   "cell_type": "code",
   "execution_count": 4,
   "metadata": {},
   "outputs": [
    {
     "data": {
      "text/plain": [
       "Democrat                527\n",
       "Independent             525\n",
       "Republican              367\n",
       "No preference (VOL.)     41\n",
       "Other party (VOL.)        5\n",
       "Name: party, dtype: int64"
      ]
     },
     "execution_count": 4,
     "metadata": {},
     "output_type": "execute_result"
    }
   ],
   "source": [
    "pew['party'].value_counts()"
   ]
  },
  {
   "cell_type": "markdown",
   "metadata": {},
   "source": [
    "Let's rename the party categories so they are easier to label in graphs. We can do this as follows."
   ]
  },
  {
   "cell_type": "code",
   "execution_count": 5,
   "metadata": {},
   "outputs": [],
   "source": [
    "# rename categories so they display better\n",
    "party = pd.Categorical(pew['party'])\n",
    "party.rename_categories({'Democrat': 'Dem', \n",
    "                         'Independent': 'Ind', \n",
    "                         'Republican': 'Rep',\n",
    "                         'No preference (VOL.)': 'No_Pref',\n",
    "                         'Other party (VOL.)': 'Other'\n",
    "                        }, inplace=True)\n",
    "pew['party']=party"
   ]
  },
  {
   "cell_type": "code",
   "execution_count": 6,
   "metadata": {},
   "outputs": [
    {
     "data": {
      "text/plain": [
       "Dem        527\n",
       "Ind        525\n",
       "Rep        367\n",
       "No_Pref     41\n",
       "Other        5\n",
       "Name: party, dtype: int64"
      ]
     },
     "execution_count": 6,
     "metadata": {},
     "output_type": "execute_result"
    }
   ],
   "source": [
    "pew['party'].value_counts()"
   ]
  },
  {
   "cell_type": "markdown",
   "metadata": {},
   "source": [
    "Next, let's fit our multiple linear regression model for the sample, where age is our response variable and party is our explanatory variable."
   ]
  },
  {
   "cell_type": "code",
   "execution_count": 7,
   "metadata": {},
   "outputs": [
    {
     "data": {
      "text/html": [
       "<table class=\"simpletable\">\n",
       "<caption>OLS Regression Results</caption>\n",
       "<tr>\n",
       "  <th>Dep. Variable:</th>           <td>age</td>       <th>  R-squared:         </th> <td>   0.052</td> \n",
       "</tr>\n",
       "<tr>\n",
       "  <th>Model:</th>                   <td>OLS</td>       <th>  Adj. R-squared:    </th> <td>   0.049</td> \n",
       "</tr>\n",
       "<tr>\n",
       "  <th>Method:</th>             <td>Least Squares</td>  <th>  F-statistic:       </th> <td>   19.82</td> \n",
       "</tr>\n",
       "<tr>\n",
       "  <th>Date:</th>             <td>Mon, 05 Apr 2021</td> <th>  Prob (F-statistic):</th> <td>6.66e-16</td> \n",
       "</tr>\n",
       "<tr>\n",
       "  <th>Time:</th>                 <td>17:29:42</td>     <th>  Log-Likelihood:    </th> <td> -6261.1</td> \n",
       "</tr>\n",
       "<tr>\n",
       "  <th>No. Observations:</th>      <td>  1465</td>      <th>  AIC:               </th> <td>1.253e+04</td>\n",
       "</tr>\n",
       "<tr>\n",
       "  <th>Df Residuals:</th>          <td>  1460</td>      <th>  BIC:               </th> <td>1.256e+04</td>\n",
       "</tr>\n",
       "<tr>\n",
       "  <th>Df Model:</th>              <td>     4</td>      <th>                     </th>     <td> </td>    \n",
       "</tr>\n",
       "<tr>\n",
       "  <th>Covariance Type:</th>      <td>nonrobust</td>    <th>                     </th>     <td> </td>    \n",
       "</tr>\n",
       "</table>\n",
       "<table class=\"simpletable\">\n",
       "<tr>\n",
       "          <td></td>            <th>coef</th>     <th>std err</th>      <th>t</th>      <th>P>|t|</th>  <th>[0.025</th>    <th>0.975]</th>  \n",
       "</tr>\n",
       "<tr>\n",
       "  <th>Intercept</th>        <td>   50.4991</td> <td>    0.758</td> <td>   66.618</td> <td> 0.000</td> <td>   49.012</td> <td>   51.986</td>\n",
       "</tr>\n",
       "<tr>\n",
       "  <th>party[T.Ind]</th>     <td>   -3.6914</td> <td>    1.073</td> <td>   -3.440</td> <td> 0.001</td> <td>   -5.796</td> <td>   -1.587</td>\n",
       "</tr>\n",
       "<tr>\n",
       "  <th>party[T.No_Pref]</th> <td>   -7.3527</td> <td>    2.821</td> <td>   -2.606</td> <td> 0.009</td> <td>  -12.887</td> <td>   -1.818</td>\n",
       "</tr>\n",
       "<tr>\n",
       "  <th>party[T.Other]</th>   <td>   -5.8991</td> <td>    7.819</td> <td>   -0.754</td> <td> 0.451</td> <td>  -21.237</td> <td>    9.439</td>\n",
       "</tr>\n",
       "<tr>\n",
       "  <th>party[T.Rep]</th>     <td>    6.2775</td> <td>    1.183</td> <td>    5.306</td> <td> 0.000</td> <td>    3.957</td> <td>    8.598</td>\n",
       "</tr>\n",
       "</table>\n",
       "<table class=\"simpletable\">\n",
       "<tr>\n",
       "  <th>Omnibus:</th>       <td>130.613</td> <th>  Durbin-Watson:     </th> <td>   1.725</td>\n",
       "</tr>\n",
       "<tr>\n",
       "  <th>Prob(Omnibus):</th> <td> 0.000</td>  <th>  Jarque-Bera (JB):  </th> <td>  40.798</td>\n",
       "</tr>\n",
       "<tr>\n",
       "  <th>Skew:</th>          <td>-0.017</td>  <th>  Prob(JB):          </th> <td>1.38e-09</td>\n",
       "</tr>\n",
       "<tr>\n",
       "  <th>Kurtosis:</th>      <td> 2.183</td>  <th>  Cond. No.          </th> <td>    19.0</td>\n",
       "</tr>\n",
       "</table><br/><br/>Notes:<br/>[1] Standard Errors assume that the covariance matrix of the errors is correctly specified."
      ],
      "text/plain": [
       "<class 'statsmodels.iolib.summary.Summary'>\n",
       "\"\"\"\n",
       "                            OLS Regression Results                            \n",
       "==============================================================================\n",
       "Dep. Variable:                    age   R-squared:                       0.052\n",
       "Model:                            OLS   Adj. R-squared:                  0.049\n",
       "Method:                 Least Squares   F-statistic:                     19.82\n",
       "Date:                Mon, 05 Apr 2021   Prob (F-statistic):           6.66e-16\n",
       "Time:                        17:29:42   Log-Likelihood:                -6261.1\n",
       "No. Observations:                1465   AIC:                         1.253e+04\n",
       "Df Residuals:                    1460   BIC:                         1.256e+04\n",
       "Df Model:                           4                                         \n",
       "Covariance Type:            nonrobust                                         \n",
       "====================================================================================\n",
       "                       coef    std err          t      P>|t|      [0.025      0.975]\n",
       "------------------------------------------------------------------------------------\n",
       "Intercept           50.4991      0.758     66.618      0.000      49.012      51.986\n",
       "party[T.Ind]        -3.6914      1.073     -3.440      0.001      -5.796      -1.587\n",
       "party[T.No_Pref]    -7.3527      2.821     -2.606      0.009     -12.887      -1.818\n",
       "party[T.Other]      -5.8991      7.819     -0.754      0.451     -21.237       9.439\n",
       "party[T.Rep]         6.2775      1.183      5.306      0.000       3.957       8.598\n",
       "==============================================================================\n",
       "Omnibus:                      130.613   Durbin-Watson:                   1.725\n",
       "Prob(Omnibus):                  0.000   Jarque-Bera (JB):               40.798\n",
       "Skew:                          -0.017   Prob(JB):                     1.38e-09\n",
       "Kurtosis:                       2.183   Cond. No.                         19.0\n",
       "==============================================================================\n",
       "\n",
       "Notes:\n",
       "[1] Standard Errors assume that the covariance matrix of the errors is correctly specified.\n",
       "\"\"\""
      ]
     },
     "execution_count": 7,
     "metadata": {},
     "output_type": "execute_result"
    }
   ],
   "source": [
    "agemod = smf.ols('age ~ party', data=pew).fit()\n",
    "agemod.summary()"
   ]
  },
  {
   "cell_type": "markdown",
   "metadata": {},
   "source": [
    "## Summary Characteristics for the Sample\n",
    "\n",
    "**Is there an association between party and age *in this sample*?** Let's use descriptive analytics to find out."
   ]
  },
  {
   "cell_type": "markdown",
   "metadata": {},
   "source": [
    "### Visualization\n",
    "With several groups we can use side by side boxplots to visualize the age distributions."
   ]
  },
  {
   "cell_type": "code",
   "execution_count": 8,
   "metadata": {
    "scrolled": true
   },
   "outputs": [
    {
     "data": {
      "image/png": "[encoded data removed]",
      "text/plain": [
       "<Figure size 432x288 with 1 Axes>"
      ]
     },
     "metadata": {
      "needs_background": "light"
     },
     "output_type": "display_data"
    }
   ],
   "source": [
    "sns.boxplot(x='party', y='age', data=pew)\n",
    "plt.show()"
   ]
  },
  {
   "cell_type": "markdown",
   "metadata": {},
   "source": [
    "The median age across the five different political affiliation groups is different, so we can say that there is at least some association *in the sample* between political affiliation and age."
   ]
  },
  {
   "cell_type": "markdown",
   "metadata": {},
   "source": [
    "### Summary statistics\n",
    "\n",
    "Using Pandas **groupby()** function to get summary statistics for each political affiliation"
   ]
  },
  {
   "cell_type": "code",
   "execution_count": 9,
   "metadata": {},
   "outputs": [
    {
     "data": {
      "text/html": [
       "<div>\n",
       "<style scoped>\n",
       "    .dataframe tbody tr th:only-of-type {\n",
       "        vertical-align: middle;\n",
       "    }\n",
       "\n",
       "    .dataframe tbody tr th {\n",
       "        vertical-align: top;\n",
       "    }\n",
       "\n",
       "    .dataframe thead th {\n",
       "        text-align: right;\n",
       "    }\n",
       "</style>\n",
       "<table border=\"1\" class=\"dataframe\">\n",
       "  <thead>\n",
       "    <tr style=\"text-align: right;\">\n",
       "      <th></th>\n",
       "      <th>age</th>\n",
       "    </tr>\n",
       "    <tr>\n",
       "      <th>party</th>\n",
       "      <th></th>\n",
       "    </tr>\n",
       "  </thead>\n",
       "  <tbody>\n",
       "    <tr>\n",
       "      <th>Dem</th>\n",
       "      <td>50.499051</td>\n",
       "    </tr>\n",
       "    <tr>\n",
       "      <th>Ind</th>\n",
       "      <td>46.807619</td>\n",
       "    </tr>\n",
       "    <tr>\n",
       "      <th>No_Pref</th>\n",
       "      <td>43.146341</td>\n",
       "    </tr>\n",
       "    <tr>\n",
       "      <th>Other</th>\n",
       "      <td>44.600000</td>\n",
       "    </tr>\n",
       "    <tr>\n",
       "      <th>Rep</th>\n",
       "      <td>56.776567</td>\n",
       "    </tr>\n",
       "  </tbody>\n",
       "</table>\n",
       "</div>"
      ],
      "text/plain": [
       "               age\n",
       "party             \n",
       "Dem      50.499051\n",
       "Ind      46.807619\n",
       "No_Pref  43.146341\n",
       "Other    44.600000\n",
       "Rep      56.776567"
      ]
     },
     "execution_count": 9,
     "metadata": {},
     "output_type": "execute_result"
    }
   ],
   "source": [
    "# within group means\n",
    "pew.groupby('party').mean()"
   ]
  },
  {
   "cell_type": "code",
   "execution_count": 10,
   "metadata": {},
   "outputs": [
    {
     "data": {
      "text/html": [
       "<div>\n",
       "<style scoped>\n",
       "    .dataframe tbody tr th:only-of-type {\n",
       "        vertical-align: middle;\n",
       "    }\n",
       "\n",
       "    .dataframe tbody tr th {\n",
       "        vertical-align: top;\n",
       "    }\n",
       "\n",
       "    .dataframe thead th {\n",
       "        text-align: right;\n",
       "    }\n",
       "</style>\n",
       "<table border=\"1\" class=\"dataframe\">\n",
       "  <thead>\n",
       "    <tr style=\"text-align: right;\">\n",
       "      <th></th>\n",
       "      <th>age</th>\n",
       "    </tr>\n",
       "    <tr>\n",
       "      <th>party</th>\n",
       "      <th></th>\n",
       "    </tr>\n",
       "  </thead>\n",
       "  <tbody>\n",
       "    <tr>\n",
       "      <th>Dem</th>\n",
       "      <td>17.687279</td>\n",
       "    </tr>\n",
       "    <tr>\n",
       "      <th>Ind</th>\n",
       "      <td>17.517144</td>\n",
       "    </tr>\n",
       "    <tr>\n",
       "      <th>No_Pref</th>\n",
       "      <td>17.062475</td>\n",
       "    </tr>\n",
       "    <tr>\n",
       "      <th>Other</th>\n",
       "      <td>13.939153</td>\n",
       "    </tr>\n",
       "    <tr>\n",
       "      <th>Rep</th>\n",
       "      <td>16.885801</td>\n",
       "    </tr>\n",
       "  </tbody>\n",
       "</table>\n",
       "</div>"
      ],
      "text/plain": [
       "               age\n",
       "party             \n",
       "Dem      17.687279\n",
       "Ind      17.517144\n",
       "No_Pref  17.062475\n",
       "Other    13.939153\n",
       "Rep      16.885801"
      ]
     },
     "execution_count": 10,
     "metadata": {},
     "output_type": "execute_result"
    }
   ],
   "source": [
    "# within group sample standard deviations\n",
    "pew.groupby('party').std()"
   ]
  },
  {
   "cell_type": "code",
   "execution_count": 11,
   "metadata": {},
   "outputs": [
    {
     "data": {
      "text/html": [
       "<div>\n",
       "<style scoped>\n",
       "    .dataframe tbody tr th:only-of-type {\n",
       "        vertical-align: middle;\n",
       "    }\n",
       "\n",
       "    .dataframe tbody tr th {\n",
       "        vertical-align: top;\n",
       "    }\n",
       "\n",
       "    .dataframe thead th {\n",
       "        text-align: right;\n",
       "    }\n",
       "</style>\n",
       "<table border=\"1\" class=\"dataframe\">\n",
       "  <thead>\n",
       "    <tr style=\"text-align: right;\">\n",
       "      <th></th>\n",
       "      <th>age</th>\n",
       "    </tr>\n",
       "    <tr>\n",
       "      <th>party</th>\n",
       "      <th></th>\n",
       "    </tr>\n",
       "  </thead>\n",
       "  <tbody>\n",
       "    <tr>\n",
       "      <th>Dem</th>\n",
       "      <td>527</td>\n",
       "    </tr>\n",
       "    <tr>\n",
       "      <th>Ind</th>\n",
       "      <td>525</td>\n",
       "    </tr>\n",
       "    <tr>\n",
       "      <th>No_Pref</th>\n",
       "      <td>41</td>\n",
       "    </tr>\n",
       "    <tr>\n",
       "      <th>Other</th>\n",
       "      <td>5</td>\n",
       "    </tr>\n",
       "    <tr>\n",
       "      <th>Rep</th>\n",
       "      <td>367</td>\n",
       "    </tr>\n",
       "  </tbody>\n",
       "</table>\n",
       "</div>"
      ],
      "text/plain": [
       "         age\n",
       "party       \n",
       "Dem      527\n",
       "Ind      525\n",
       "No_Pref   41\n",
       "Other      5\n",
       "Rep      367"
      ]
     },
     "execution_count": 11,
     "metadata": {},
     "output_type": "execute_result"
    }
   ],
   "source": [
    "# within group sample sizes\n",
    "pew.groupby('party').count()"
   ]
  },
  {
   "cell_type": "code",
   "execution_count": 12,
   "metadata": {},
   "outputs": [
    {
     "data": {
      "image/png": "[encoded data removed]",
      "text/plain": [
       "<Figure size 432x288 with 1 Axes>"
      ]
     },
     "metadata": {
      "needs_background": "light"
     },
     "output_type": "display_data"
    }
   ],
   "source": [
    "pew.groupby('party').mean().sort_values(by='age').plot.bar()\n",
    "plt.ylabel('Mean Age')\n",
    "plt.show()"
   ]
  },
  {
   "cell_type": "markdown",
   "metadata": {},
   "source": [
    "## Inference for our Linear Model\n",
    "\n",
    "**Does it seem reasonable that there is an association between a categorical explanatory variable (with 2 or more levels) and a quantitative response variable *for the population*?**\n",
    "\n",
    "Now let’s think about what the multiple linear regression equation would look like if we modelled the relationship between age (response variable) and political affiliation (explanatory variable) in the population of all adults living in the U.S. \n",
    "\n",
    "$\\hat{age}=\\beta_0+\\beta_1 party[T.Ind]+\\beta_2 party[T.Ind]+\\beta_3 party[T.No pref]+\\beta_4 party[T.Rep]$\n",
    "\n",
    "### Significance of Regression Test\n",
    "\n",
    "**Do we have sufficient evidence to suggest that at least one of the four population slopes is non-zero?**\n",
    "\n",
    "This sounds like our significance of regression test.\n",
    "\n",
    "1. First let’s formulate the hypotheses.\n",
    "\n",
    "$H_0: \\beta_1=\\beta_2=\\beta_3=\\beta_4=0$\n",
    "\n",
    "$H_A:$ At least one $\\beta_i\\neq0$ (for i=1,2,3,4)\n",
    "\n",
    "2. Next, let’s check the conditions for conducting inference.\n",
    "\n",
    "a.) <u>Linearity Condition</u>\n",
    "\n",
    "It appears that there is an even distribution of points above and below the line in the fitted values vs. residuals plot as we move from left to right. So we can say that this condition is met.\n"
   ]
  },
  {
   "cell_type": "code",
   "execution_count": 13,
   "metadata": {},
   "outputs": [
    {
     "data": {
      "image/png": "[encoded data removed]",
      "text/plain": [
       "<Figure size 432x288 with 1 Axes>"
      ]
     },
     "metadata": {
      "needs_background": "light"
     },
     "output_type": "display_data"
    }
   ],
   "source": [
    "sns.regplot(x=agemod.fittedvalues, y=agemod.resid, ci=None)\n",
    "plt.ylabel('Residual')\n",
    "plt.xlabel('Fitted Value')\n",
    "plt.show()"
   ]
  },
  {
   "cell_type": "markdown",
   "metadata": {},
   "source": [
    "b.) <u>Constant Variance of Residuals Condition</u>\n",
    "\n",
    "It appears that the spread of the residuals (ie. the y-axis spread) in the fitted values vs. residuals plot changes as we move from left to right. So we cannot say that this condition is met."
   ]
  },
  {
   "cell_type": "code",
   "execution_count": 14,
   "metadata": {},
   "outputs": [
    {
     "data": {
      "image/png": "[encoded data removed]",
      "text/plain": [
       "<Figure size 432x288 with 1 Axes>"
      ]
     },
     "metadata": {
      "needs_background": "light"
     },
     "output_type": "display_data"
    }
   ],
   "source": [
    "sns.regplot(x=agemod.fittedvalues, y=agemod.resid, ci=None)\n",
    "plt.ylabel('Residual')\n",
    "plt.xlabel('Fitted Value')\n",
    "plt.show()"
   ]
  },
  {
   "cell_type": "markdown",
   "metadata": {},
   "source": [
    "c.) <u>Normality of Residuals (with Mean 0) Condition</u>\n",
    "\n",
    "It appears that the residuals are slightly skewed to the right. So because the histogram of residuals is not quite symmetric and unimodal, this condition is somewhat not met."
   ]
  },
  {
   "cell_type": "code",
   "execution_count": 15,
   "metadata": {},
   "outputs": [
    {
     "data": {
      "image/png": "[encoded data removed]",
      "text/plain": [
       "<Figure size 432x288 with 1 Axes>"
      ]
     },
     "metadata": {
      "needs_background": "light"
     },
     "output_type": "display_data"
    }
   ],
   "source": [
    "plt.hist(agemod.resid)\n",
    "plt.xlabel('Residuals')\n",
    "plt.show()"
   ]
  },
  {
   "cell_type": "markdown",
   "metadata": {},
   "source": [
    "d.) <u>Independence of Residuals Condition</u>\n",
    "\n",
    "While we cannot know for sure if this condition is met (using the methods that we know so far in this class), we know that this condition will NOT be met if the sample is not random or $n\\geq 10$% of the population.\n",
    "\n",
    "But, we do know that:\n",
    "* this sample is random and \n",
    "* $n=1465<10$% of all adults living in the U.S..\n",
    "\n",
    "So this tells us that this condition is not violated *in this particular way*."
   ]
  },
  {
   "cell_type": "markdown",
   "metadata": {},
   "source": [
    "<u>e.) No Multicollinearity Condition</u>\n",
    "\n",
    "This linear regression model involves only one explanatory variable and it is categorical, so we do not need to check this condition."
   ]
  },
  {
   "cell_type": "markdown",
   "metadata": {},
   "source": [
    "**So not all of the conditions for conducting inference on a population slope or intercept are quite met**. Thus some of the conclusions that we make about our hypotheses may be slightly off, but we will proceed with caution with that in mind."
   ]
  },
  {
   "cell_type": "markdown",
   "metadata": {},
   "source": [
    "3. Find the test statistic and the *p*-value that correspond to these hypotheses."
   ]
  },
  {
   "cell_type": "code",
   "execution_count": 16,
   "metadata": {},
   "outputs": [
    {
     "data": {
      "text/html": [
       "<table class=\"simpletable\">\n",
       "<caption>OLS Regression Results</caption>\n",
       "<tr>\n",
       "  <th>Dep. Variable:</th>           <td>age</td>       <th>  R-squared:         </th> <td>   0.052</td> \n",
       "</tr>\n",
       "<tr>\n",
       "  <th>Model:</th>                   <td>OLS</td>       <th>  Adj. R-squared:    </th> <td>   0.049</td> \n",
       "</tr>\n",
       "<tr>\n",
       "  <th>Method:</th>             <td>Least Squares</td>  <th>  F-statistic:       </th> <td>   19.82</td> \n",
       "</tr>\n",
       "<tr>\n",
       "  <th>Date:</th>             <td>Mon, 05 Apr 2021</td> <th>  Prob (F-statistic):</th> <td>6.66e-16</td> \n",
       "</tr>\n",
       "<tr>\n",
       "  <th>Time:</th>                 <td>17:29:43</td>     <th>  Log-Likelihood:    </th> <td> -6261.1</td> \n",
       "</tr>\n",
       "<tr>\n",
       "  <th>No. Observations:</th>      <td>  1465</td>      <th>  AIC:               </th> <td>1.253e+04</td>\n",
       "</tr>\n",
       "<tr>\n",
       "  <th>Df Residuals:</th>          <td>  1460</td>      <th>  BIC:               </th> <td>1.256e+04</td>\n",
       "</tr>\n",
       "<tr>\n",
       "  <th>Df Model:</th>              <td>     4</td>      <th>                     </th>     <td> </td>    \n",
       "</tr>\n",
       "<tr>\n",
       "  <th>Covariance Type:</th>      <td>nonrobust</td>    <th>                     </th>     <td> </td>    \n",
       "</tr>\n",
       "</table>\n",
       "<table class=\"simpletable\">\n",
       "<tr>\n",
       "          <td></td>            <th>coef</th>     <th>std err</th>      <th>t</th>      <th>P>|t|</th>  <th>[0.025</th>    <th>0.975]</th>  \n",
       "</tr>\n",
       "<tr>\n",
       "  <th>Intercept</th>        <td>   50.4991</td> <td>    0.758</td> <td>   66.618</td> <td> 0.000</td> <td>   49.012</td> <td>   51.986</td>\n",
       "</tr>\n",
       "<tr>\n",
       "  <th>party[T.Ind]</th>     <td>   -3.6914</td> <td>    1.073</td> <td>   -3.440</td> <td> 0.001</td> <td>   -5.796</td> <td>   -1.587</td>\n",
       "</tr>\n",
       "<tr>\n",
       "  <th>party[T.No_Pref]</th> <td>   -7.3527</td> <td>    2.821</td> <td>   -2.606</td> <td> 0.009</td> <td>  -12.887</td> <td>   -1.818</td>\n",
       "</tr>\n",
       "<tr>\n",
       "  <th>party[T.Other]</th>   <td>   -5.8991</td> <td>    7.819</td> <td>   -0.754</td> <td> 0.451</td> <td>  -21.237</td> <td>    9.439</td>\n",
       "</tr>\n",
       "<tr>\n",
       "  <th>party[T.Rep]</th>     <td>    6.2775</td> <td>    1.183</td> <td>    5.306</td> <td> 0.000</td> <td>    3.957</td> <td>    8.598</td>\n",
       "</tr>\n",
       "</table>\n",
       "<table class=\"simpletable\">\n",
       "<tr>\n",
       "  <th>Omnibus:</th>       <td>130.613</td> <th>  Durbin-Watson:     </th> <td>   1.725</td>\n",
       "</tr>\n",
       "<tr>\n",
       "  <th>Prob(Omnibus):</th> <td> 0.000</td>  <th>  Jarque-Bera (JB):  </th> <td>  40.798</td>\n",
       "</tr>\n",
       "<tr>\n",
       "  <th>Skew:</th>          <td>-0.017</td>  <th>  Prob(JB):          </th> <td>1.38e-09</td>\n",
       "</tr>\n",
       "<tr>\n",
       "  <th>Kurtosis:</th>      <td> 2.183</td>  <th>  Cond. No.          </th> <td>    19.0</td>\n",
       "</tr>\n",
       "</table><br/><br/>Notes:<br/>[1] Standard Errors assume that the covariance matrix of the errors is correctly specified."
      ],
      "text/plain": [
       "<class 'statsmodels.iolib.summary.Summary'>\n",
       "\"\"\"\n",
       "                            OLS Regression Results                            \n",
       "==============================================================================\n",
       "Dep. Variable:                    age   R-squared:                       0.052\n",
       "Model:                            OLS   Adj. R-squared:                  0.049\n",
       "Method:                 Least Squares   F-statistic:                     19.82\n",
       "Date:                Mon, 05 Apr 2021   Prob (F-statistic):           6.66e-16\n",
       "Time:                        17:29:43   Log-Likelihood:                -6261.1\n",
       "No. Observations:                1465   AIC:                         1.253e+04\n",
       "Df Residuals:                    1460   BIC:                         1.256e+04\n",
       "Df Model:                           4                                         \n",
       "Covariance Type:            nonrobust                                         \n",
       "====================================================================================\n",
       "                       coef    std err          t      P>|t|      [0.025      0.975]\n",
       "------------------------------------------------------------------------------------\n",
       "Intercept           50.4991      0.758     66.618      0.000      49.012      51.986\n",
       "party[T.Ind]        -3.6914      1.073     -3.440      0.001      -5.796      -1.587\n",
       "party[T.No_Pref]    -7.3527      2.821     -2.606      0.009     -12.887      -1.818\n",
       "party[T.Other]      -5.8991      7.819     -0.754      0.451     -21.237       9.439\n",
       "party[T.Rep]         6.2775      1.183      5.306      0.000       3.957       8.598\n",
       "==============================================================================\n",
       "Omnibus:                      130.613   Durbin-Watson:                   1.725\n",
       "Prob(Omnibus):                  0.000   Jarque-Bera (JB):               40.798\n",
       "Skew:                          -0.017   Prob(JB):                     1.38e-09\n",
       "Kurtosis:                       2.183   Cond. No.                         19.0\n",
       "==============================================================================\n",
       "\n",
       "Notes:\n",
       "[1] Standard Errors assume that the covariance matrix of the errors is correctly specified.\n",
       "\"\"\""
      ]
     },
     "execution_count": 16,
     "metadata": {},
     "output_type": "execute_result"
    }
   ],
   "source": [
    "agemod.summary()"
   ]
  },
  {
   "cell_type": "markdown",
   "metadata": {},
   "source": [
    "The test statistic for this test is 19.82 and the p-value for this test is $6.66\\times 10^{-16}$."
   ]
  },
  {
   "cell_type": "markdown",
   "metadata": {},
   "source": [
    "4. Use the p-value (and a significance level of α=0.05) to make a conclusion about your hypotheses.\n",
    "\n",
    "Because *p*-value$=6.66\\times10^{-16}\\leq \\alpha=0.05$, we reject the null hypothesis. Thus there is sufficient evidence to suggest that at least one of the population slopes in this model is non-zero. "
   ]
  },
  {
   "cell_type": "markdown",
   "metadata": {},
   "source": [
    "### Extension of Two Population Means for ANOVA\n",
    "\n",
    "At the beginning of this Case Study, I mentioned that there are two alternate ways of thinking about ANOVA.  So far, we have described the special case of a regression model.  Now, we will consider how this relates to an extension of the procedures for the difference in two population means.\n",
    "\n",
    "Recall, our question of interest is **Do we have sufficient evidence to suggest that at least one pair of political affiliations (Democrat, Republican, Independent, No preference, Other party) have average ages out of all adults living in the U.S. that are different?**\n",
    "\n",
    "1. First let's formulate the hypotheses.\n",
    "\n",
    "$H_0:\\quad \\mu_{Dem} = \\mu_{Ind} = \\mu_{Other} = \\mu_{No_Pref}= \\mu_{Rep}$\n",
    "\n",
    "$H_A:$ At least one pair of groups has population mean values that are different from each other.\n",
    "\n",
    "How does this relate to the previous inference setting?  Let's consider the fitted models for our different levels of political party **for our population**.\n",
    "\n",
    "$\\hat{age}=\\beta_0+\\beta_1 party[T.Ind]+\\beta_2 party[T.Ind]+\\beta_3 party[T.No pref]+\\beta_4 party[T.Rep]$, where $\\hat{age}$ is the expected age for all people with a specific political affiliation.\n",
    "\n",
    "The baseline level is Democrat.  Therefore $\\hat{age}_\\text{Dem} = \\beta_0 = \\mu_{Dem}$.\n",
    "\n",
    "For another level, say Republican, $\\hat{age}_\\text{Rep} = \\beta_0 + \\beta_4 \\times party[T.Rep] = \\beta_0 + \\beta_4 = \\mu_{Rep}$.\n",
    "\n",
    "Therefore, testing if $\\beta_4 = 0$ is equivalent to testing if $\\mu_{Dem} = \\mu_{Rep}$."
   ]
  },
  {
   "cell_type": "markdown",
   "metadata": {},
   "source": [
    "With this in mind, the hypotheses are the same and the corresponding test procedures will be the same.\n",
    "\n",
    "An equivalent conclusion for this hypothesis test is:\n",
    "\n",
    "Because *p*-value$=6.66\\times10^{-16}\\leq \\alpha=0.05$, we reject the null hypothesis. Thus there is sufficient evidence to at least one pair of <u>population mean ages</u> (out of the five political affiliation groups) <u> are not equal to each other</u>."
   ]
  },
  {
   "cell_type": "markdown",
   "metadata": {},
   "source": [
    "---\n",
    "STAT 207, Julie Deeke, Victoria Ellison, and Douglas Simpson, University of Illinois at Urbana-Champaign"
   ]
  }
 ],
 "metadata": {
  "kernelspec": {
   "display_name": "Python 3 (ipykernel)",
   "language": "python",
   "name": "python3"
  },
  "language_info": {
   "codemirror_mode": {
    "name": "ipython",
    "version": 3
   },
   "file_extension": ".py",
   "mimetype": "text/x-python",
   "name": "python",
   "nbconvert_exporter": "python",
   "pygments_lexer": "ipython3",
   "version": "3.8.11"
  }
 },
 "nbformat": 4,
 "nbformat_minor": 2
}
