{
 "cells": [
  {
   "cell_type": "markdown",
   "metadata": {},
   "source": [
    "<script>\n",
    "    document.querySelector('head').innerHTML += '<style>.slides { zoom: 1.0 !important; }</style>';\n",
    "</script>\n",
    "<!--# STAT 207: Data Science Exploration-->"
   ]
  },
  {
   "cell_type": "markdown",
   "metadata": {},
   "source": [
    "# <u>Case Study 15</u>: Classification Accuracy of Classifier Models\n",
    "\n",
    "In this Case Study, we will again model approval of the President's Foreign Policy with Age and Sex\n",
    "\n",
    "**<u>Model 1</u>**\n",
    "In the beginning of this analysis we will model the following response variable with the following explanatory variable.\n",
    "* <u>response</u>: approval of the president's foreign policy (approve vs. disapprove)\n",
    "    - age\n",
    "\n",
    "In attempt to improve our classification accuracy of the previous model, we will introduce a new model with more explanatory variables.\n",
    "**<u>Model 2</u>**\n",
    "* <u>response</u>: approval of the president's foreign policy (approve vs. disapprove)\n",
    "* <u>explanatory</u>:\n",
    "    - sex\n",
    "    - age\n",
    "    - party\n",
    "\n",
    "Will model 2 outperform model 1 in terms of classification accuracy? How do we measure how well each of these models classified the observations in the sample?"
   ]
  },
  {
   "cell_type": "code",
   "execution_count": 1,
   "metadata": {},
   "outputs": [],
   "source": [
    "import numpy as np\n",
    "import pandas as pd\n",
    "import seaborn as sns\n",
    "import matplotlib.pyplot as plt\n",
    "\n",
    "import statsmodels.api as sm\n",
    "import statsmodels.formula.api as smf"
   ]
  },
  {
   "cell_type": "markdown",
   "metadata": {},
   "source": [
    "## Preparing our Data\n",
    "\n",
    "Let's again examine our random sample of adults living in the U.S. (from 2017) from Pew Research. We will just use three variables for this analysis, so we will just create a dataframe using these three variables."
   ]
  },
  {
   "cell_type": "code",
   "execution_count": 2,
   "metadata": {},
   "outputs": [
    {
     "data": {
      "text/html": [
       "<div>\n",
       "<style scoped>\n",
       "    .dataframe tbody tr th:only-of-type {\n",
       "        vertical-align: middle;\n",
       "    }\n",
       "\n",
       "    .dataframe tbody tr th {\n",
       "        vertical-align: top;\n",
       "    }\n",
       "\n",
       "    .dataframe thead th {\n",
       "        text-align: right;\n",
       "    }\n",
       "</style>\n",
       "<table border=\"1\" class=\"dataframe\">\n",
       "  <thead>\n",
       "    <tr style=\"text-align: right;\">\n",
       "      <th></th>\n",
       "      <th>age</th>\n",
       "      <th>sex</th>\n",
       "      <th>q5cf1</th>\n",
       "    </tr>\n",
       "  </thead>\n",
       "  <tbody>\n",
       "    <tr>\n",
       "      <th>0</th>\n",
       "      <td>80.0</td>\n",
       "      <td>Female</td>\n",
       "      <td>NaN</td>\n",
       "    </tr>\n",
       "    <tr>\n",
       "      <th>1</th>\n",
       "      <td>70.0</td>\n",
       "      <td>Female</td>\n",
       "      <td>Disapprove</td>\n",
       "    </tr>\n",
       "    <tr>\n",
       "      <th>2</th>\n",
       "      <td>69.0</td>\n",
       "      <td>Female</td>\n",
       "      <td>Disapprove</td>\n",
       "    </tr>\n",
       "    <tr>\n",
       "      <th>3</th>\n",
       "      <td>50.0</td>\n",
       "      <td>Male</td>\n",
       "      <td>NaN</td>\n",
       "    </tr>\n",
       "    <tr>\n",
       "      <th>4</th>\n",
       "      <td>70.0</td>\n",
       "      <td>Female</td>\n",
       "      <td>Disapprove</td>\n",
       "    </tr>\n",
       "  </tbody>\n",
       "</table>\n",
       "</div>"
      ],
      "text/plain": [
       "    age     sex       q5cf1\n",
       "0  80.0  Female         NaN\n",
       "1  70.0  Female  Disapprove\n",
       "2  69.0  Female  Disapprove\n",
       "3  50.0    Male         NaN\n",
       "4  70.0  Female  Disapprove"
      ]
     },
     "execution_count": 2,
     "metadata": {},
     "output_type": "execute_result"
    }
   ],
   "source": [
    "missing_values = [\"NaN\", \"nan\", \"Don't know/Refused (VOL.)\"]\n",
    "#\n",
    "df = pd.read_csv('Feb17public.csv', na_values=missing_values)[['age','sex','q5cf1']]\n",
    "df.head()"
   ]
  },
  {
   "cell_type": "code",
   "execution_count": 3,
   "metadata": {},
   "outputs": [
    {
     "data": {
      "text/plain": [
       "(1503, 3)"
      ]
     },
     "execution_count": 3,
     "metadata": {},
     "output_type": "execute_result"
    }
   ],
   "source": [
    "df.shape"
   ]
  },
  {
   "cell_type": "code",
   "execution_count": 4,
   "metadata": {},
   "outputs": [
    {
     "data": {
      "text/html": [
       "<div>\n",
       "<style scoped>\n",
       "    .dataframe tbody tr th:only-of-type {\n",
       "        vertical-align: middle;\n",
       "    }\n",
       "\n",
       "    .dataframe tbody tr th {\n",
       "        vertical-align: top;\n",
       "    }\n",
       "\n",
       "    .dataframe thead th {\n",
       "        text-align: right;\n",
       "    }\n",
       "</style>\n",
       "<table border=\"1\" class=\"dataframe\">\n",
       "  <thead>\n",
       "    <tr style=\"text-align: right;\">\n",
       "      <th></th>\n",
       "      <th>age</th>\n",
       "      <th>sex</th>\n",
       "      <th>q5cf1</th>\n",
       "    </tr>\n",
       "  </thead>\n",
       "  <tbody>\n",
       "    <tr>\n",
       "      <th>1</th>\n",
       "      <td>70.0</td>\n",
       "      <td>Female</td>\n",
       "      <td>Disapprove</td>\n",
       "    </tr>\n",
       "    <tr>\n",
       "      <th>2</th>\n",
       "      <td>69.0</td>\n",
       "      <td>Female</td>\n",
       "      <td>Disapprove</td>\n",
       "    </tr>\n",
       "    <tr>\n",
       "      <th>4</th>\n",
       "      <td>70.0</td>\n",
       "      <td>Female</td>\n",
       "      <td>Disapprove</td>\n",
       "    </tr>\n",
       "    <tr>\n",
       "      <th>6</th>\n",
       "      <td>89.0</td>\n",
       "      <td>Female</td>\n",
       "      <td>Disapprove</td>\n",
       "    </tr>\n",
       "    <tr>\n",
       "      <th>7</th>\n",
       "      <td>92.0</td>\n",
       "      <td>Female</td>\n",
       "      <td>Approve</td>\n",
       "    </tr>\n",
       "  </tbody>\n",
       "</table>\n",
       "</div>"
      ],
      "text/plain": [
       "    age     sex       q5cf1\n",
       "1  70.0  Female  Disapprove\n",
       "2  69.0  Female  Disapprove\n",
       "4  70.0  Female  Disapprove\n",
       "6  89.0  Female  Disapprove\n",
       "7  92.0  Female     Approve"
      ]
     },
     "execution_count": 4,
     "metadata": {},
     "output_type": "execute_result"
    }
   ],
   "source": [
    "df=df.dropna()\n",
    "df.head()"
   ]
  },
  {
   "cell_type": "code",
   "execution_count": 5,
   "metadata": {},
   "outputs": [
    {
     "data": {
      "text/plain": [
       "(691, 3)"
      ]
     },
     "execution_count": 5,
     "metadata": {},
     "output_type": "execute_result"
    }
   ],
   "source": [
    "df.shape"
   ]
  },
  {
   "cell_type": "code",
   "execution_count": 6,
   "metadata": {
    "scrolled": true
   },
   "outputs": [
    {
     "data": {
      "text/html": [
       "<div>\n",
       "<style scoped>\n",
       "    .dataframe tbody tr th:only-of-type {\n",
       "        vertical-align: middle;\n",
       "    }\n",
       "\n",
       "    .dataframe tbody tr th {\n",
       "        vertical-align: top;\n",
       "    }\n",
       "\n",
       "    .dataframe thead th {\n",
       "        text-align: right;\n",
       "    }\n",
       "</style>\n",
       "<table border=\"1\" class=\"dataframe\">\n",
       "  <thead>\n",
       "    <tr style=\"text-align: right;\">\n",
       "      <th></th>\n",
       "      <th>age</th>\n",
       "      <th>sex</th>\n",
       "      <th>q5cf1</th>\n",
       "      <th>y</th>\n",
       "    </tr>\n",
       "  </thead>\n",
       "  <tbody>\n",
       "    <tr>\n",
       "      <th>1</th>\n",
       "      <td>70.0</td>\n",
       "      <td>Female</td>\n",
       "      <td>Disapprove</td>\n",
       "      <td>0</td>\n",
       "    </tr>\n",
       "    <tr>\n",
       "      <th>2</th>\n",
       "      <td>69.0</td>\n",
       "      <td>Female</td>\n",
       "      <td>Disapprove</td>\n",
       "      <td>0</td>\n",
       "    </tr>\n",
       "    <tr>\n",
       "      <th>4</th>\n",
       "      <td>70.0</td>\n",
       "      <td>Female</td>\n",
       "      <td>Disapprove</td>\n",
       "      <td>0</td>\n",
       "    </tr>\n",
       "    <tr>\n",
       "      <th>6</th>\n",
       "      <td>89.0</td>\n",
       "      <td>Female</td>\n",
       "      <td>Disapprove</td>\n",
       "      <td>0</td>\n",
       "    </tr>\n",
       "    <tr>\n",
       "      <th>7</th>\n",
       "      <td>92.0</td>\n",
       "      <td>Female</td>\n",
       "      <td>Approve</td>\n",
       "      <td>1</td>\n",
       "    </tr>\n",
       "  </tbody>\n",
       "</table>\n",
       "</div>"
      ],
      "text/plain": [
       "    age     sex       q5cf1  y\n",
       "1  70.0  Female  Disapprove  0\n",
       "2  69.0  Female  Disapprove  0\n",
       "4  70.0  Female  Disapprove  0\n",
       "6  89.0  Female  Disapprove  0\n",
       "7  92.0  Female     Approve  1"
      ]
     },
     "execution_count": 6,
     "metadata": {},
     "output_type": "execute_result"
    }
   ],
   "source": [
    "df['y']=df['q5cf1'].map({'Disapprove':0,'Approve':1})\n",
    "df.head()"
   ]
  },
  {
   "cell_type": "markdown",
   "metadata": {},
   "source": [
    "## Fitting Our Model\n",
    "\n",
    "Let's first fit a logistic regression model to predict the probability of a person in the sample approving of the president's foreign policy based on age."
   ]
  },
  {
   "cell_type": "markdown",
   "metadata": {},
   "source": [
    "Because we only have an explanatory variable (age) and a response variable (y), we can plot the logistic regression curve over the scatterplot of these observations in the sample."
   ]
  },
  {
   "cell_type": "code",
   "execution_count": 7,
   "metadata": {},
   "outputs": [
    {
     "data": {
      "image/png": "[encoded data removed]",
      "text/plain": [
       "<Figure size 360x360 with 1 Axes>"
      ]
     },
     "metadata": {
      "needs_background": "light"
     },
     "output_type": "display_data"
    }
   ],
   "source": [
    "sns.lmplot(x=\"age\", y='y',data=df, logistic=True)\n",
    "plt.ylabel('1=approve, 0=disapprove')\n",
    "plt.show()"
   ]
  },
  {
   "cell_type": "markdown",
   "metadata": {},
   "source": [
    "The equation for this logistic regression model is the following:\n",
    "\n",
    "$log⁡(\\frac{\\hat{p}}{1-\\hat{p}}   )=-1.7872+0.0236(age)$.\n",
    "\n",
    "And we can rewrite this equation in another way as well to directly show us the predictive probability for a given age:\n",
    "\n",
    "$\\hat{p} = \\frac{e^{-1.7872+0.0236(age)}}{e^{-1.7872+0.0236(age)}+1}$"
   ]
  },
  {
   "cell_type": "code",
   "execution_count": 8,
   "metadata": {
    "scrolled": false
   },
   "outputs": [
    {
     "name": "stdout",
     "output_type": "stream",
     "text": [
      "Optimization terminated successfully.\n",
      "         Current function value: 0.633703\n",
      "         Iterations 5\n"
     ]
    },
    {
     "data": {
      "text/html": [
       "<table class=\"simpletable\">\n",
       "<caption>Logit Regression Results</caption>\n",
       "<tr>\n",
       "  <th>Dep. Variable:</th>           <td>y</td>        <th>  No. Observations:  </th>  <td>   691</td>  \n",
       "</tr>\n",
       "<tr>\n",
       "  <th>Model:</th>                 <td>Logit</td>      <th>  Df Residuals:      </th>  <td>   689</td>  \n",
       "</tr>\n",
       "<tr>\n",
       "  <th>Method:</th>                 <td>MLE</td>       <th>  Df Model:          </th>  <td>     1</td>  \n",
       "</tr>\n",
       "<tr>\n",
       "  <th>Date:</th>            <td>Thu, 08 Apr 2021</td> <th>  Pseudo R-squ.:     </th>  <td>0.03047</td> \n",
       "</tr>\n",
       "<tr>\n",
       "  <th>Time:</th>                <td>13:28:06</td>     <th>  Log-Likelihood:    </th> <td> -437.89</td> \n",
       "</tr>\n",
       "<tr>\n",
       "  <th>converged:</th>             <td>True</td>       <th>  LL-Null:           </th> <td> -451.65</td> \n",
       "</tr>\n",
       "<tr>\n",
       "  <th>Covariance Type:</th>     <td>nonrobust</td>    <th>  LLR p-value:       </th> <td>1.553e-07</td>\n",
       "</tr>\n",
       "</table>\n",
       "<table class=\"simpletable\">\n",
       "<tr>\n",
       "      <td></td>         <th>coef</th>     <th>std err</th>      <th>z</th>      <th>P>|z|</th>  <th>[0.025</th>    <th>0.975]</th>  \n",
       "</tr>\n",
       "<tr>\n",
       "  <th>Intercept</th> <td>   -1.7872</td> <td>    0.254</td> <td>   -7.023</td> <td> 0.000</td> <td>   -2.286</td> <td>   -1.288</td>\n",
       "</tr>\n",
       "<tr>\n",
       "  <th>age</th>       <td>    0.0236</td> <td>    0.005</td> <td>    5.128</td> <td> 0.000</td> <td>    0.015</td> <td>    0.033</td>\n",
       "</tr>\n",
       "</table>"
      ],
      "text/plain": [
       "<class 'statsmodels.iolib.summary.Summary'>\n",
       "\"\"\"\n",
       "                           Logit Regression Results                           \n",
       "==============================================================================\n",
       "Dep. Variable:                      y   No. Observations:                  691\n",
       "Model:                          Logit   Df Residuals:                      689\n",
       "Method:                           MLE   Df Model:                            1\n",
       "Date:                Thu, 08 Apr 2021   Pseudo R-squ.:                 0.03047\n",
       "Time:                        13:28:06   Log-Likelihood:                -437.89\n",
       "converged:                       True   LL-Null:                       -451.65\n",
       "Covariance Type:            nonrobust   LLR p-value:                 1.553e-07\n",
       "==============================================================================\n",
       "                 coef    std err          z      P>|z|      [0.025      0.975]\n",
       "------------------------------------------------------------------------------\n",
       "Intercept     -1.7872      0.254     -7.023      0.000      -2.286      -1.288\n",
       "age            0.0236      0.005      5.128      0.000       0.015       0.033\n",
       "==============================================================================\n",
       "\"\"\""
      ]
     },
     "execution_count": 8,
     "metadata": {},
     "output_type": "execute_result"
    }
   ],
   "source": [
    "mod1 = smf.logit(formula='y ~ age', data=df).fit()\n",
    "mod1.summary()"
   ]
  },
  {
   "cell_type": "markdown",
   "metadata": {},
   "source": [
    "### Predictive Probability Calculations\n",
    "\n",
    "What is the predictive probability of a 70-year-old approving of the president's foreign policy (using this fitted logistic regression model)?"
   ]
  },
  {
   "cell_type": "code",
   "execution_count": 9,
   "metadata": {},
   "outputs": [
    {
     "data": {
      "text/plain": [
       "0    0.466859\n",
       "dtype: float64"
      ]
     },
     "execution_count": 9,
     "metadata": {},
     "output_type": "execute_result"
    }
   ],
   "source": [
    "mod1.predict(exog=dict(age=70))"
   ]
  },
  {
   "cell_type": "markdown",
   "metadata": {},
   "source": [
    "The probability that a 70 year old approves of the president's foreign policy (in this random sample of adults living in the U.S. in 2017) is 0.466859."
   ]
  },
  {
   "cell_type": "markdown",
   "metadata": {},
   "source": [
    "## Classifying Observations\n",
    "\n",
    "We know that we can calculate a predictive probability for an individual observation using a logistic regression model.  How can we use that <u>predictive probability</u> to <u>classify</u> a given observation using a logistic regression model?\n",
    "\n",
    "We'll need a threshold in order to separate our predictive probability into two classes.\n",
    "\n",
    "If we use a predictive probability threshold of $p_0=0.5$ for this given logistic regression model (ie. classifier model), what opinion will we classifiy this 70-year-old as having?"
   ]
  },
  {
   "cell_type": "markdown",
   "metadata": {},
   "source": [
    "Because $0.466859\\leq p_0=0.5$, we classify this person with y=0 (or that they disapprove of the president's foreign policy)."
   ]
  },
  {
   "cell_type": "markdown",
   "metadata": {},
   "source": [
    "Using this predictive probability threshold of p_0=0.5, what is the **minimum age** that a person needs to be in order to be classified as approving the president’s foreign policy in this sample?"
   ]
  },
  {
   "cell_type": "markdown",
   "metadata": {},
   "source": [
    "What value of age satisfies this inequality?\n",
    "$\\hat{p}=\\frac{e^{-1.7872+0.0236(age)}}{e^{-1.7872+0.0236(age)}+1}>0.5$.\n",
    "\n",
    "\n",
    "$log⁡(\\frac{0.5}{1-0.5}   )< -1.7872+0.0236(age)$.\n",
    "\n",
    "$age>75.7288$."
   ]
  },
  {
   "cell_type": "code",
   "execution_count": 10,
   "metadata": {},
   "outputs": [
    {
     "data": {
      "text/plain": [
       "75.72881355932203"
      ]
     },
     "execution_count": 10,
     "metadata": {},
     "output_type": "execute_result"
    }
   ],
   "source": [
    "#Plug in 0.5 into your logistic regression equation and solve for age.\n",
    "threshold_age=(np.log(.5/(1-.5))+1.7872)/.0236\n",
    "threshold_age"
   ]
  },
  {
   "cell_type": "markdown",
   "metadata": {},
   "source": [
    "## Misclassifications and Correct Classifications\n",
    "\n",
    "Let's classify ALL of the observations in the sample using this predictive probability threshold of $p_0$ and the logistic regression model.\n",
    "\n",
    "First we need to get the predictive probabilities for all of the observations in our df dataframe.\n",
    "\n",
    "We can use the **.predict()** function and simply just input the whole dataframe into the **dict()** function for the **exog** parameter. While the df dataframe has more columns than just **age** in it (ie. our only explanatory variable at the moment in this logistic regression model) the predict function is intelligent enough to know that we only want to extract just the columns values that correspond to the given logistic regression model (mod1).\n",
    "\n",
    "We add these predictive probabilities as a column in our dataframe."
   ]
  },
  {
   "cell_type": "code",
   "execution_count": 11,
   "metadata": {},
   "outputs": [
    {
     "data": {
      "text/html": [
       "<div>\n",
       "<style scoped>\n",
       "    .dataframe tbody tr th:only-of-type {\n",
       "        vertical-align: middle;\n",
       "    }\n",
       "\n",
       "    .dataframe tbody tr th {\n",
       "        vertical-align: top;\n",
       "    }\n",
       "\n",
       "    .dataframe thead th {\n",
       "        text-align: right;\n",
       "    }\n",
       "</style>\n",
       "<table border=\"1\" class=\"dataframe\">\n",
       "  <thead>\n",
       "    <tr style=\"text-align: right;\">\n",
       "      <th></th>\n",
       "      <th>age</th>\n",
       "      <th>sex</th>\n",
       "      <th>q5cf1</th>\n",
       "      <th>y</th>\n",
       "      <th>predictive_prob</th>\n",
       "    </tr>\n",
       "  </thead>\n",
       "  <tbody>\n",
       "    <tr>\n",
       "      <th>1</th>\n",
       "      <td>70.0</td>\n",
       "      <td>Female</td>\n",
       "      <td>Disapprove</td>\n",
       "      <td>0</td>\n",
       "      <td>0.466859</td>\n",
       "    </tr>\n",
       "    <tr>\n",
       "      <th>2</th>\n",
       "      <td>69.0</td>\n",
       "      <td>Female</td>\n",
       "      <td>Disapprove</td>\n",
       "      <td>0</td>\n",
       "      <td>0.460982</td>\n",
       "    </tr>\n",
       "    <tr>\n",
       "      <th>4</th>\n",
       "      <td>70.0</td>\n",
       "      <td>Female</td>\n",
       "      <td>Disapprove</td>\n",
       "      <td>0</td>\n",
       "      <td>0.466859</td>\n",
       "    </tr>\n",
       "    <tr>\n",
       "      <th>6</th>\n",
       "      <td>89.0</td>\n",
       "      <td>Female</td>\n",
       "      <td>Disapprove</td>\n",
       "      <td>0</td>\n",
       "      <td>0.578423</td>\n",
       "    </tr>\n",
       "    <tr>\n",
       "      <th>7</th>\n",
       "      <td>92.0</td>\n",
       "      <td>Female</td>\n",
       "      <td>Approve</td>\n",
       "      <td>1</td>\n",
       "      <td>0.595610</td>\n",
       "    </tr>\n",
       "    <tr>\n",
       "      <th>...</th>\n",
       "      <td>...</td>\n",
       "      <td>...</td>\n",
       "      <td>...</td>\n",
       "      <td>...</td>\n",
       "      <td>...</td>\n",
       "    </tr>\n",
       "    <tr>\n",
       "      <th>1494</th>\n",
       "      <td>23.0</td>\n",
       "      <td>Female</td>\n",
       "      <td>Approve</td>\n",
       "      <td>1</td>\n",
       "      <td>0.223812</td>\n",
       "    </tr>\n",
       "    <tr>\n",
       "      <th>1498</th>\n",
       "      <td>37.0</td>\n",
       "      <td>Male</td>\n",
       "      <td>Approve</td>\n",
       "      <td>1</td>\n",
       "      <td>0.286448</td>\n",
       "    </tr>\n",
       "    <tr>\n",
       "      <th>1499</th>\n",
       "      <td>30.0</td>\n",
       "      <td>Female</td>\n",
       "      <td>Approve</td>\n",
       "      <td>1</td>\n",
       "      <td>0.253858</td>\n",
       "    </tr>\n",
       "    <tr>\n",
       "      <th>1501</th>\n",
       "      <td>67.0</td>\n",
       "      <td>Male</td>\n",
       "      <td>Disapprove</td>\n",
       "      <td>0</td>\n",
       "      <td>0.449260</td>\n",
       "    </tr>\n",
       "    <tr>\n",
       "      <th>1502</th>\n",
       "      <td>35.0</td>\n",
       "      <td>Female</td>\n",
       "      <td>Approve</td>\n",
       "      <td>1</td>\n",
       "      <td>0.276884</td>\n",
       "    </tr>\n",
       "  </tbody>\n",
       "</table>\n",
       "<p>691 rows × 5 columns</p>\n",
       "</div>"
      ],
      "text/plain": [
       "       age     sex       q5cf1  y  predictive_prob\n",
       "1     70.0  Female  Disapprove  0         0.466859\n",
       "2     69.0  Female  Disapprove  0         0.460982\n",
       "4     70.0  Female  Disapprove  0         0.466859\n",
       "6     89.0  Female  Disapprove  0         0.578423\n",
       "7     92.0  Female     Approve  1         0.595610\n",
       "...    ...     ...         ... ..              ...\n",
       "1494  23.0  Female     Approve  1         0.223812\n",
       "1498  37.0    Male     Approve  1         0.286448\n",
       "1499  30.0  Female     Approve  1         0.253858\n",
       "1501  67.0    Male  Disapprove  0         0.449260\n",
       "1502  35.0  Female     Approve  1         0.276884\n",
       "\n",
       "[691 rows x 5 columns]"
      ]
     },
     "execution_count": 11,
     "metadata": {},
     "output_type": "execute_result"
    }
   ],
   "source": [
    "pred_probabilities=mod1.predict(exog=dict(df)) \n",
    "df['predictive_prob']=pred_probabilities\n",
    "df"
   ]
  },
  {
   "cell_type": "markdown",
   "metadata": {},
   "source": [
    "Then we can create another column in our dataframe that is our classification (or predicted value for y) for each of the observations. To do this we can set up a row condition on the inside of some parantheses.\n",
    "\n",
    "This (row condition for a dataframe) by itself will produce a series of True or False values depending on whether the condition for that particular row is true or not.\n",
    "\n",
    "Then by using 1*(row condition for a dataframe), we translate each True to a 1 and each False to a 0."
   ]
  },
  {
   "cell_type": "code",
   "execution_count": 12,
   "metadata": {},
   "outputs": [
    {
     "data": {
      "text/html": [
       "<div>\n",
       "<style scoped>\n",
       "    .dataframe tbody tr th:only-of-type {\n",
       "        vertical-align: middle;\n",
       "    }\n",
       "\n",
       "    .dataframe tbody tr th {\n",
       "        vertical-align: top;\n",
       "    }\n",
       "\n",
       "    .dataframe thead th {\n",
       "        text-align: right;\n",
       "    }\n",
       "</style>\n",
       "<table border=\"1\" class=\"dataframe\">\n",
       "  <thead>\n",
       "    <tr style=\"text-align: right;\">\n",
       "      <th></th>\n",
       "      <th>age</th>\n",
       "      <th>sex</th>\n",
       "      <th>q5cf1</th>\n",
       "      <th>y</th>\n",
       "      <th>predictive_prob</th>\n",
       "      <th>yhat</th>\n",
       "    </tr>\n",
       "  </thead>\n",
       "  <tbody>\n",
       "    <tr>\n",
       "      <th>1</th>\n",
       "      <td>70.0</td>\n",
       "      <td>Female</td>\n",
       "      <td>Disapprove</td>\n",
       "      <td>0</td>\n",
       "      <td>0.466859</td>\n",
       "      <td>0</td>\n",
       "    </tr>\n",
       "    <tr>\n",
       "      <th>2</th>\n",
       "      <td>69.0</td>\n",
       "      <td>Female</td>\n",
       "      <td>Disapprove</td>\n",
       "      <td>0</td>\n",
       "      <td>0.460982</td>\n",
       "      <td>0</td>\n",
       "    </tr>\n",
       "    <tr>\n",
       "      <th>4</th>\n",
       "      <td>70.0</td>\n",
       "      <td>Female</td>\n",
       "      <td>Disapprove</td>\n",
       "      <td>0</td>\n",
       "      <td>0.466859</td>\n",
       "      <td>0</td>\n",
       "    </tr>\n",
       "    <tr>\n",
       "      <th>6</th>\n",
       "      <td>89.0</td>\n",
       "      <td>Female</td>\n",
       "      <td>Disapprove</td>\n",
       "      <td>0</td>\n",
       "      <td>0.578423</td>\n",
       "      <td>1</td>\n",
       "    </tr>\n",
       "    <tr>\n",
       "      <th>7</th>\n",
       "      <td>92.0</td>\n",
       "      <td>Female</td>\n",
       "      <td>Approve</td>\n",
       "      <td>1</td>\n",
       "      <td>0.595610</td>\n",
       "      <td>1</td>\n",
       "    </tr>\n",
       "    <tr>\n",
       "      <th>...</th>\n",
       "      <td>...</td>\n",
       "      <td>...</td>\n",
       "      <td>...</td>\n",
       "      <td>...</td>\n",
       "      <td>...</td>\n",
       "      <td>...</td>\n",
       "    </tr>\n",
       "    <tr>\n",
       "      <th>1494</th>\n",
       "      <td>23.0</td>\n",
       "      <td>Female</td>\n",
       "      <td>Approve</td>\n",
       "      <td>1</td>\n",
       "      <td>0.223812</td>\n",
       "      <td>0</td>\n",
       "    </tr>\n",
       "    <tr>\n",
       "      <th>1498</th>\n",
       "      <td>37.0</td>\n",
       "      <td>Male</td>\n",
       "      <td>Approve</td>\n",
       "      <td>1</td>\n",
       "      <td>0.286448</td>\n",
       "      <td>0</td>\n",
       "    </tr>\n",
       "    <tr>\n",
       "      <th>1499</th>\n",
       "      <td>30.0</td>\n",
       "      <td>Female</td>\n",
       "      <td>Approve</td>\n",
       "      <td>1</td>\n",
       "      <td>0.253858</td>\n",
       "      <td>0</td>\n",
       "    </tr>\n",
       "    <tr>\n",
       "      <th>1501</th>\n",
       "      <td>67.0</td>\n",
       "      <td>Male</td>\n",
       "      <td>Disapprove</td>\n",
       "      <td>0</td>\n",
       "      <td>0.449260</td>\n",
       "      <td>0</td>\n",
       "    </tr>\n",
       "    <tr>\n",
       "      <th>1502</th>\n",
       "      <td>35.0</td>\n",
       "      <td>Female</td>\n",
       "      <td>Approve</td>\n",
       "      <td>1</td>\n",
       "      <td>0.276884</td>\n",
       "      <td>0</td>\n",
       "    </tr>\n",
       "  </tbody>\n",
       "</table>\n",
       "<p>691 rows × 6 columns</p>\n",
       "</div>"
      ],
      "text/plain": [
       "       age     sex       q5cf1  y  predictive_prob  yhat\n",
       "1     70.0  Female  Disapprove  0         0.466859     0\n",
       "2     69.0  Female  Disapprove  0         0.460982     0\n",
       "4     70.0  Female  Disapprove  0         0.466859     0\n",
       "6     89.0  Female  Disapprove  0         0.578423     1\n",
       "7     92.0  Female     Approve  1         0.595610     1\n",
       "...    ...     ...         ... ..              ...   ...\n",
       "1494  23.0  Female     Approve  1         0.223812     0\n",
       "1498  37.0    Male     Approve  1         0.286448     0\n",
       "1499  30.0  Female     Approve  1         0.253858     0\n",
       "1501  67.0    Male  Disapprove  0         0.449260     0\n",
       "1502  35.0  Female     Approve  1         0.276884     0\n",
       "\n",
       "[691 rows x 6 columns]"
      ]
     },
     "execution_count": 12,
     "metadata": {},
     "output_type": "execute_result"
    }
   ],
   "source": [
    "df['yhat']=1*(df['predictive_prob']>0.5)\n",
    "df"
   ]
  },
  {
   "cell_type": "markdown",
   "metadata": {},
   "source": [
    "### Visualizing our Classifications\n",
    "\n",
    "Let's plot our predicted (classified) y-values for the observations (shown in blue and orange) as well as our actual values for y (shown on the y-axis.) "
   ]
  },
  {
   "cell_type": "code",
   "execution_count": 13,
   "metadata": {},
   "outputs": [
    {
     "data": {
      "image/png": "[encoded data removed]",
      "text/plain": [
       "<Figure size 432x288 with 1 Axes>"
      ]
     },
     "metadata": {
      "needs_background": "light"
     },
     "output_type": "display_data"
    }
   ],
   "source": [
    "x=np.arange(18,95,.1)\n",
    "p=np.exp(-1.7872+0.0236*x)/(1+np.exp(-1.7872+0.0236*x))\n",
    "sns.scatterplot(x=\"age\", y='y',data=df, hue='yhat')\n",
    "plt.plot(x,p, color='black', label='Logistic Regression Curve')\n",
    "plt.hlines(y=0.5, xmin=18, xmax=95, color='red', label='Threshold')\n",
    "plt.ylabel('Actual Values: 1=approve, 0=disapprove')\n",
    "plt.legend(bbox_to_anchor=(1,1))\n",
    "plt.show()"
   ]
  },
  {
   "cell_type": "markdown",
   "metadata": {},
   "source": [
    "### Confusion Matrix\n",
    "\n",
    "Next, let's create a confusion matrix for this classifier model and the given threshold.  This records a combination of predicted and actual classifications for the observations in our data."
   ]
  },
  {
   "cell_type": "code",
   "execution_count": 14,
   "metadata": {},
   "outputs": [],
   "source": [
    "# This import requires that you already \n",
    "# installed the scikit-learn library \n",
    "# as described earlier in the course.\n",
    "#\n",
    "from sklearn.metrics import confusion_matrix, roc_curve, roc_auc_score"
   ]
  },
  {
   "cell_type": "code",
   "execution_count": 15,
   "metadata": {},
   "outputs": [
    {
     "data": {
      "text/plain": [
       "array([[420,  22],\n",
       "       [221,  28]], dtype=int64)"
      ]
     },
     "execution_count": 15,
     "metadata": {},
     "output_type": "execute_result"
    }
   ],
   "source": [
    "confusion_matrix(y_true=df['y'], y_pred=df['yhat'])"
   ]
  },
  {
   "cell_type": "markdown",
   "metadata": {},
   "source": [
    "### Measures of Classification"
   ]
  },
  {
   "cell_type": "code",
   "execution_count": 16,
   "metadata": {},
   "outputs": [
    {
     "data": {
      "text/plain": [
       "(420, 22, 221, 28)"
      ]
     },
     "execution_count": 16,
     "metadata": {},
     "output_type": "execute_result"
    }
   ],
   "source": [
    "tn, fp, fn, tp = confusion_matrix(y_true=df['y'], \n",
    "                                  y_pred=df['yhat']).ravel()\n",
    "(tn, fp, fn, tp)"
   ]
  },
  {
   "cell_type": "markdown",
   "metadata": {},
   "source": [
    "What is the **number of true positive, false positive, true negative, and false negative** observations in the sample using the logistic regression model and the predictive threshold of $p_0=0.5$?"
   ]
  },
  {
   "cell_type": "markdown",
   "metadata": {},
   "source": [
    "What is the **sensitivity** of the logistic regression model with the predictive threshold of $p_0=0.5$ using the sample data?"
   ]
  },
  {
   "cell_type": "code",
   "execution_count": 17,
   "metadata": {},
   "outputs": [
    {
     "name": "stdout",
     "output_type": "stream",
     "text": [
      "sensitivity: 0.11244979919678715\n"
     ]
    }
   ],
   "source": [
    "sensitivity=tp/(tp+fn)\n",
    "print('sensitivity:', sensitivity)"
   ]
  },
  {
   "cell_type": "markdown",
   "metadata": {},
   "source": [
    "This is quite low, which indicates that the logistic regression model with $p_0=0.05$ did not do well at correctly classifying people that actually approved of the president's foreign policy."
   ]
  },
  {
   "cell_type": "markdown",
   "metadata": {},
   "source": [
    "What is the **specificity** of the logistic regression model with the predictive threshold of $p_0=0.5$ using the sample data?"
   ]
  },
  {
   "cell_type": "code",
   "execution_count": 18,
   "metadata": {},
   "outputs": [
    {
     "name": "stdout",
     "output_type": "stream",
     "text": [
      "specificity: 0.9502262443438914\n"
     ]
    }
   ],
   "source": [
    "specificity=tn/(tn+fp)\n",
    "print('specificity:', specificity)"
   ]
  },
  {
   "cell_type": "markdown",
   "metadata": {},
   "source": [
    "This is quite high, which indicates that the logistic regression model with $p_0=0.05$ did a pretty good job at correctly classifying people that actually disapproved of the president's foreign policy."
   ]
  },
  {
   "cell_type": "markdown",
   "metadata": {},
   "source": [
    "What is the **false positive rate** of the logistic regression model with the predictive threshold of $p_0=0.5$ using the sample data?"
   ]
  },
  {
   "cell_type": "code",
   "execution_count": 19,
   "metadata": {},
   "outputs": [
    {
     "name": "stdout",
     "output_type": "stream",
     "text": [
      "false positive rate: 0.049773755656108594\n"
     ]
    }
   ],
   "source": [
    "false_positive_rate=fp/(tn+fp)\n",
    "print('false positive rate:', false_positive_rate)"
   ]
  },
  {
   "cell_type": "markdown",
   "metadata": {},
   "source": [
    "This is quite low, which indicates that the logistic regression model with $p_0=0.05$ did a pretty good job at correctly classifying people that actually disapproved of the president's foreign policy."
   ]
  },
  {
   "cell_type": "markdown",
   "metadata": {},
   "source": [
    "Ideally, both sensitivity and specificity would be high, as we hope that we accurately classify most observations.  However, sensitivity and specificity have an inverse relationship with each other, based on the threshold used for classification."
   ]
  },
  {
   "cell_type": "markdown",
   "metadata": {},
   "source": [
    "### Adjusting the Classifier Threshold\n",
    "\n",
    "Using the same logistic regression model as before, and now a predictive probability threshold of $p_0=0.3$ to classify all of the observations in the sample."
   ]
  },
  {
   "cell_type": "markdown",
   "metadata": {},
   "source": [
    "Let's first re-classify our observations in our dataframe with our new threshold of $p_0=0.3$."
   ]
  },
  {
   "cell_type": "code",
   "execution_count": 20,
   "metadata": {},
   "outputs": [
    {
     "data": {
      "text/html": [
       "<div>\n",
       "<style scoped>\n",
       "    .dataframe tbody tr th:only-of-type {\n",
       "        vertical-align: middle;\n",
       "    }\n",
       "\n",
       "    .dataframe tbody tr th {\n",
       "        vertical-align: top;\n",
       "    }\n",
       "\n",
       "    .dataframe thead th {\n",
       "        text-align: right;\n",
       "    }\n",
       "</style>\n",
       "<table border=\"1\" class=\"dataframe\">\n",
       "  <thead>\n",
       "    <tr style=\"text-align: right;\">\n",
       "      <th></th>\n",
       "      <th>age</th>\n",
       "      <th>sex</th>\n",
       "      <th>q5cf1</th>\n",
       "      <th>y</th>\n",
       "      <th>predictive_prob</th>\n",
       "      <th>yhat</th>\n",
       "    </tr>\n",
       "  </thead>\n",
       "  <tbody>\n",
       "    <tr>\n",
       "      <th>1</th>\n",
       "      <td>70.0</td>\n",
       "      <td>Female</td>\n",
       "      <td>Disapprove</td>\n",
       "      <td>0</td>\n",
       "      <td>0.466859</td>\n",
       "      <td>1</td>\n",
       "    </tr>\n",
       "    <tr>\n",
       "      <th>2</th>\n",
       "      <td>69.0</td>\n",
       "      <td>Female</td>\n",
       "      <td>Disapprove</td>\n",
       "      <td>0</td>\n",
       "      <td>0.460982</td>\n",
       "      <td>1</td>\n",
       "    </tr>\n",
       "    <tr>\n",
       "      <th>4</th>\n",
       "      <td>70.0</td>\n",
       "      <td>Female</td>\n",
       "      <td>Disapprove</td>\n",
       "      <td>0</td>\n",
       "      <td>0.466859</td>\n",
       "      <td>1</td>\n",
       "    </tr>\n",
       "    <tr>\n",
       "      <th>6</th>\n",
       "      <td>89.0</td>\n",
       "      <td>Female</td>\n",
       "      <td>Disapprove</td>\n",
       "      <td>0</td>\n",
       "      <td>0.578423</td>\n",
       "      <td>1</td>\n",
       "    </tr>\n",
       "    <tr>\n",
       "      <th>7</th>\n",
       "      <td>92.0</td>\n",
       "      <td>Female</td>\n",
       "      <td>Approve</td>\n",
       "      <td>1</td>\n",
       "      <td>0.595610</td>\n",
       "      <td>1</td>\n",
       "    </tr>\n",
       "    <tr>\n",
       "      <th>...</th>\n",
       "      <td>...</td>\n",
       "      <td>...</td>\n",
       "      <td>...</td>\n",
       "      <td>...</td>\n",
       "      <td>...</td>\n",
       "      <td>...</td>\n",
       "    </tr>\n",
       "    <tr>\n",
       "      <th>1494</th>\n",
       "      <td>23.0</td>\n",
       "      <td>Female</td>\n",
       "      <td>Approve</td>\n",
       "      <td>1</td>\n",
       "      <td>0.223812</td>\n",
       "      <td>0</td>\n",
       "    </tr>\n",
       "    <tr>\n",
       "      <th>1498</th>\n",
       "      <td>37.0</td>\n",
       "      <td>Male</td>\n",
       "      <td>Approve</td>\n",
       "      <td>1</td>\n",
       "      <td>0.286448</td>\n",
       "      <td>0</td>\n",
       "    </tr>\n",
       "    <tr>\n",
       "      <th>1499</th>\n",
       "      <td>30.0</td>\n",
       "      <td>Female</td>\n",
       "      <td>Approve</td>\n",
       "      <td>1</td>\n",
       "      <td>0.253858</td>\n",
       "      <td>0</td>\n",
       "    </tr>\n",
       "    <tr>\n",
       "      <th>1501</th>\n",
       "      <td>67.0</td>\n",
       "      <td>Male</td>\n",
       "      <td>Disapprove</td>\n",
       "      <td>0</td>\n",
       "      <td>0.449260</td>\n",
       "      <td>1</td>\n",
       "    </tr>\n",
       "    <tr>\n",
       "      <th>1502</th>\n",
       "      <td>35.0</td>\n",
       "      <td>Female</td>\n",
       "      <td>Approve</td>\n",
       "      <td>1</td>\n",
       "      <td>0.276884</td>\n",
       "      <td>0</td>\n",
       "    </tr>\n",
       "  </tbody>\n",
       "</table>\n",
       "<p>691 rows × 6 columns</p>\n",
       "</div>"
      ],
      "text/plain": [
       "       age     sex       q5cf1  y  predictive_prob  yhat\n",
       "1     70.0  Female  Disapprove  0         0.466859     1\n",
       "2     69.0  Female  Disapprove  0         0.460982     1\n",
       "4     70.0  Female  Disapprove  0         0.466859     1\n",
       "6     89.0  Female  Disapprove  0         0.578423     1\n",
       "7     92.0  Female     Approve  1         0.595610     1\n",
       "...    ...     ...         ... ..              ...   ...\n",
       "1494  23.0  Female     Approve  1         0.223812     0\n",
       "1498  37.0    Male     Approve  1         0.286448     0\n",
       "1499  30.0  Female     Approve  1         0.253858     0\n",
       "1501  67.0    Male  Disapprove  0         0.449260     1\n",
       "1502  35.0  Female     Approve  1         0.276884     0\n",
       "\n",
       "[691 rows x 6 columns]"
      ]
     },
     "execution_count": 20,
     "metadata": {},
     "output_type": "execute_result"
    }
   ],
   "source": [
    "df['yhat']=1*(df['predictive_prob']>0.3)\n",
    "df"
   ]
  },
  {
   "cell_type": "code",
   "execution_count": 21,
   "metadata": {},
   "outputs": [
    {
     "data": {
      "image/png": "[encoded data removed]",
      "text/plain": [
       "<Figure size 432x288 with 1 Axes>"
      ]
     },
     "metadata": {
      "needs_background": "light"
     },
     "output_type": "display_data"
    }
   ],
   "source": [
    "x=np.arange(18,95,.1)\n",
    "p=np.exp(-1.7872+0.0236*x)/(1+np.exp(-1.7872+0.0236*x))\n",
    "sns.scatterplot(x=\"age\", y='y',data=df, hue='yhat')\n",
    "plt.plot(x,p, color='black', label='Logistic Regression Curve')\n",
    "plt.hlines(y=0.3, xmin=18, xmax=95, color='red', label='Threshold')\n",
    "plt.ylabel('Actual Values: 1=approve, 0=disapprove')\n",
    "plt.legend(bbox_to_anchor=(1,1))\n",
    "plt.show()"
   ]
  },
  {
   "cell_type": "markdown",
   "metadata": {},
   "source": [
    "#### Classification Measure Classifications\n",
    "\n",
    "Find the sensitivity and specificity for this threshold and classifier. "
   ]
  },
  {
   "cell_type": "code",
   "execution_count": 22,
   "metadata": {},
   "outputs": [
    {
     "data": {
      "text/plain": [
       "(172, 270, 51, 198)"
      ]
     },
     "execution_count": 22,
     "metadata": {},
     "output_type": "execute_result"
    }
   ],
   "source": [
    "tn, fp, fn, tp = confusion_matrix(y_true=df['y'], \n",
    "                                  y_pred=df['yhat']).ravel()\n",
    "(tn, fp, fn, tp)"
   ]
  },
  {
   "cell_type": "code",
   "execution_count": 23,
   "metadata": {},
   "outputs": [
    {
     "name": "stdout",
     "output_type": "stream",
     "text": [
      "sensitivity: 0.7951807228915663\n"
     ]
    }
   ],
   "source": [
    "sensitivity=tp/(tp+fn)\n",
    "print('sensitivity:', sensitivity)"
   ]
  },
  {
   "cell_type": "code",
   "execution_count": 24,
   "metadata": {},
   "outputs": [
    {
     "name": "stdout",
     "output_type": "stream",
     "text": [
      "specificity: 0.3891402714932127\n"
     ]
    }
   ],
   "source": [
    "specificity=tn/(tn+fp)\n",
    "print('specificity:', specificity)"
   ]
  },
  {
   "cell_type": "markdown",
   "metadata": {},
   "source": [
    "## Comparing Classification Thresholds\n",
    "\n",
    "Which predictive probability threshold yielded better results? $p_0=0.5$ or $p_0=0.3$?"
   ]
  },
  {
   "cell_type": "markdown",
   "metadata": {},
   "source": [
    "Ideally, we would like both our sensitivty and specificity to be high. However, we know that generally when one of these increases, the other will decrease (based on us changing our predictive probability threshold).\n",
    "\n",
    "Which of these results is best is dependent on how much we care accurately classifying people that actually approve vs. accurately classifying people that disapprove.\n",
    "\n",
    "* If we care more about accurately classifying people that actually approve (ie. actually have y=1), we would want to pick the threshold of $p_0=0.3$ that yields a higher sensitivity of 0.795.\n",
    "\n",
    "* If we care more about accurately classifying people that actually disapprove (ie. actually have y=0), we would want to pick the threshold of $p_0=0.5$ that yields a higher specificity of 0.950."
   ]
  },
  {
   "cell_type": "markdown",
   "metadata": {},
   "source": [
    "While we compared only two possible thresholds above, you may consider the situation where we want to determine the *classifier* that will give us the best combination of false positive rate & true positive rate for all sets of thresholds.  We can accomplish this using the <u>ROC and AUC</u>."
   ]
  },
  {
   "cell_type": "markdown",
   "metadata": {},
   "source": [
    "### <u>Model 1</u>: Age Model\n",
    "\n",
    "Using the logistic regression model that predicts approval of presidential foreign policy given age, graph the **ROC curve**"
   ]
  },
  {
   "cell_type": "code",
   "execution_count": 25,
   "metadata": {},
   "outputs": [
    {
     "name": "stdout",
     "output_type": "stream",
     "text": [
      "0.6178832978974722\n"
     ]
    }
   ],
   "source": [
    "fprs, tprs, thresholds = roc_curve(y_true=df['y'], \n",
    "                            y_score=mod1.fittedvalues)\n",
    "auc = roc_auc_score(y_true=df['y'], \n",
    "                    y_score=mod1.fittedvalues)\n",
    "print(auc)"
   ]
  },
  {
   "cell_type": "code",
   "execution_count": 26,
   "metadata": {},
   "outputs": [],
   "source": [
    "def plot_roc(fpr, tpr, auc, lw=2):\n",
    "    plt.plot(fpr, tpr, color='darkorange', lw=lw,\n",
    "             label='ROC curve (area = '+str(round(auc,3))+')')\n",
    "    plt.plot([0, 1], [0, 1], color='navy', lw=lw, linestyle='--')\n",
    "    plt.xlabel('False Positive Rate')\n",
    "    plt.ylabel('True Positive Rate')\n",
    "    plt.title('ROC Curve')\n",
    "    plt.legend(loc=\"lower right\")\n",
    "    plt.show()"
   ]
  },
  {
   "cell_type": "code",
   "execution_count": 27,
   "metadata": {},
   "outputs": [
    {
     "data": {
      "image/png": "[encoded data removed]",
      "text/plain": [
       "<Figure size 432x288 with 1 Axes>"
      ]
     },
     "metadata": {
      "needs_background": "light"
     },
     "output_type": "display_data"
    }
   ],
   "source": [
    "plot_roc(fprs, tprs, auc)"
   ]
  },
  {
   "cell_type": "markdown",
   "metadata": {},
   "source": [
    "### <u>Model 2</u>: Age and Sex\n",
    "\n",
    "We will now fit our second model, a logistic regression model that predicts approval of presidential foreign policy from age and sex.\n",
    "\n",
    "Let's reread the data in again, as we would now like to model approval for the president's foreign policy with age, sex, and party."
   ]
  },
  {
   "cell_type": "code",
   "execution_count": 28,
   "metadata": {},
   "outputs": [
    {
     "data": {
      "text/html": [
       "<div>\n",
       "<style scoped>\n",
       "    .dataframe tbody tr th:only-of-type {\n",
       "        vertical-align: middle;\n",
       "    }\n",
       "\n",
       "    .dataframe tbody tr th {\n",
       "        vertical-align: top;\n",
       "    }\n",
       "\n",
       "    .dataframe thead th {\n",
       "        text-align: right;\n",
       "    }\n",
       "</style>\n",
       "<table border=\"1\" class=\"dataframe\">\n",
       "  <thead>\n",
       "    <tr style=\"text-align: right;\">\n",
       "      <th></th>\n",
       "      <th>age</th>\n",
       "      <th>sex</th>\n",
       "      <th>q5cf1</th>\n",
       "      <th>party</th>\n",
       "    </tr>\n",
       "  </thead>\n",
       "  <tbody>\n",
       "    <tr>\n",
       "      <th>0</th>\n",
       "      <td>80.0</td>\n",
       "      <td>Female</td>\n",
       "      <td>NaN</td>\n",
       "      <td>Independent</td>\n",
       "    </tr>\n",
       "    <tr>\n",
       "      <th>1</th>\n",
       "      <td>70.0</td>\n",
       "      <td>Female</td>\n",
       "      <td>Disapprove</td>\n",
       "      <td>Democrat</td>\n",
       "    </tr>\n",
       "    <tr>\n",
       "      <th>2</th>\n",
       "      <td>69.0</td>\n",
       "      <td>Female</td>\n",
       "      <td>Disapprove</td>\n",
       "      <td>Independent</td>\n",
       "    </tr>\n",
       "    <tr>\n",
       "      <th>3</th>\n",
       "      <td>50.0</td>\n",
       "      <td>Male</td>\n",
       "      <td>NaN</td>\n",
       "      <td>Republican</td>\n",
       "    </tr>\n",
       "    <tr>\n",
       "      <th>4</th>\n",
       "      <td>70.0</td>\n",
       "      <td>Female</td>\n",
       "      <td>Disapprove</td>\n",
       "      <td>Democrat</td>\n",
       "    </tr>\n",
       "  </tbody>\n",
       "</table>\n",
       "</div>"
      ],
      "text/plain": [
       "    age     sex       q5cf1        party\n",
       "0  80.0  Female         NaN  Independent\n",
       "1  70.0  Female  Disapprove     Democrat\n",
       "2  69.0  Female  Disapprove  Independent\n",
       "3  50.0    Male         NaN   Republican\n",
       "4  70.0  Female  Disapprove     Democrat"
      ]
     },
     "execution_count": 28,
     "metadata": {},
     "output_type": "execute_result"
    }
   ],
   "source": [
    "missing_values = [\"NaN\", \"nan\", \"Don't know/Refused (VOL.)\"]\n",
    "#\n",
    "df = pd.read_csv('Feb17public.csv', na_values=missing_values)[['age','sex','q5cf1','party']]\n",
    "df.head()"
   ]
  },
  {
   "cell_type": "code",
   "execution_count": 29,
   "metadata": {},
   "outputs": [
    {
     "data": {
      "text/html": [
       "<div>\n",
       "<style scoped>\n",
       "    .dataframe tbody tr th:only-of-type {\n",
       "        vertical-align: middle;\n",
       "    }\n",
       "\n",
       "    .dataframe tbody tr th {\n",
       "        vertical-align: top;\n",
       "    }\n",
       "\n",
       "    .dataframe thead th {\n",
       "        text-align: right;\n",
       "    }\n",
       "</style>\n",
       "<table border=\"1\" class=\"dataframe\">\n",
       "  <thead>\n",
       "    <tr style=\"text-align: right;\">\n",
       "      <th></th>\n",
       "      <th>age</th>\n",
       "      <th>sex</th>\n",
       "      <th>q5cf1</th>\n",
       "      <th>party</th>\n",
       "    </tr>\n",
       "  </thead>\n",
       "  <tbody>\n",
       "    <tr>\n",
       "      <th>1</th>\n",
       "      <td>70.0</td>\n",
       "      <td>Female</td>\n",
       "      <td>Disapprove</td>\n",
       "      <td>Democrat</td>\n",
       "    </tr>\n",
       "    <tr>\n",
       "      <th>2</th>\n",
       "      <td>69.0</td>\n",
       "      <td>Female</td>\n",
       "      <td>Disapprove</td>\n",
       "      <td>Independent</td>\n",
       "    </tr>\n",
       "    <tr>\n",
       "      <th>4</th>\n",
       "      <td>70.0</td>\n",
       "      <td>Female</td>\n",
       "      <td>Disapprove</td>\n",
       "      <td>Democrat</td>\n",
       "    </tr>\n",
       "    <tr>\n",
       "      <th>6</th>\n",
       "      <td>89.0</td>\n",
       "      <td>Female</td>\n",
       "      <td>Disapprove</td>\n",
       "      <td>Independent</td>\n",
       "    </tr>\n",
       "    <tr>\n",
       "      <th>7</th>\n",
       "      <td>92.0</td>\n",
       "      <td>Female</td>\n",
       "      <td>Approve</td>\n",
       "      <td>Republican</td>\n",
       "    </tr>\n",
       "  </tbody>\n",
       "</table>\n",
       "</div>"
      ],
      "text/plain": [
       "    age     sex       q5cf1        party\n",
       "1  70.0  Female  Disapprove     Democrat\n",
       "2  69.0  Female  Disapprove  Independent\n",
       "4  70.0  Female  Disapprove     Democrat\n",
       "6  89.0  Female  Disapprove  Independent\n",
       "7  92.0  Female     Approve   Republican"
      ]
     },
     "execution_count": 29,
     "metadata": {},
     "output_type": "execute_result"
    }
   ],
   "source": [
    "df=df.dropna()\n",
    "df.head()"
   ]
  },
  {
   "cell_type": "code",
   "execution_count": 30,
   "metadata": {},
   "outputs": [
    {
     "data": {
      "text/html": [
       "<div>\n",
       "<style scoped>\n",
       "    .dataframe tbody tr th:only-of-type {\n",
       "        vertical-align: middle;\n",
       "    }\n",
       "\n",
       "    .dataframe tbody tr th {\n",
       "        vertical-align: top;\n",
       "    }\n",
       "\n",
       "    .dataframe thead th {\n",
       "        text-align: right;\n",
       "    }\n",
       "</style>\n",
       "<table border=\"1\" class=\"dataframe\">\n",
       "  <thead>\n",
       "    <tr style=\"text-align: right;\">\n",
       "      <th></th>\n",
       "      <th>age</th>\n",
       "      <th>sex</th>\n",
       "      <th>q5cf1</th>\n",
       "      <th>party</th>\n",
       "      <th>y</th>\n",
       "    </tr>\n",
       "  </thead>\n",
       "  <tbody>\n",
       "    <tr>\n",
       "      <th>1</th>\n",
       "      <td>70.0</td>\n",
       "      <td>Female</td>\n",
       "      <td>Disapprove</td>\n",
       "      <td>Democrat</td>\n",
       "      <td>0</td>\n",
       "    </tr>\n",
       "    <tr>\n",
       "      <th>2</th>\n",
       "      <td>69.0</td>\n",
       "      <td>Female</td>\n",
       "      <td>Disapprove</td>\n",
       "      <td>Independent</td>\n",
       "      <td>0</td>\n",
       "    </tr>\n",
       "    <tr>\n",
       "      <th>4</th>\n",
       "      <td>70.0</td>\n",
       "      <td>Female</td>\n",
       "      <td>Disapprove</td>\n",
       "      <td>Democrat</td>\n",
       "      <td>0</td>\n",
       "    </tr>\n",
       "    <tr>\n",
       "      <th>6</th>\n",
       "      <td>89.0</td>\n",
       "      <td>Female</td>\n",
       "      <td>Disapprove</td>\n",
       "      <td>Independent</td>\n",
       "      <td>0</td>\n",
       "    </tr>\n",
       "    <tr>\n",
       "      <th>7</th>\n",
       "      <td>92.0</td>\n",
       "      <td>Female</td>\n",
       "      <td>Approve</td>\n",
       "      <td>Republican</td>\n",
       "      <td>1</td>\n",
       "    </tr>\n",
       "  </tbody>\n",
       "</table>\n",
       "</div>"
      ],
      "text/plain": [
       "    age     sex       q5cf1        party  y\n",
       "1  70.0  Female  Disapprove     Democrat  0\n",
       "2  69.0  Female  Disapprove  Independent  0\n",
       "4  70.0  Female  Disapprove     Democrat  0\n",
       "6  89.0  Female  Disapprove  Independent  0\n",
       "7  92.0  Female     Approve   Republican  1"
      ]
     },
     "execution_count": 30,
     "metadata": {},
     "output_type": "execute_result"
    }
   ],
   "source": [
    "df['y']=df['q5cf1'].map({'Disapprove':0,'Approve':1})\n",
    "df.head()"
   ]
  },
  {
   "cell_type": "code",
   "execution_count": 31,
   "metadata": {},
   "outputs": [
    {
     "name": "stdout",
     "output_type": "stream",
     "text": [
      "Optimization terminated successfully.\n",
      "         Current function value: 0.419649\n",
      "         Iterations 7\n"
     ]
    },
    {
     "data": {
      "text/html": [
       "<table class=\"simpletable\">\n",
       "<caption>Logit Regression Results</caption>\n",
       "<tr>\n",
       "  <th>Dep. Variable:</th>           <td>y</td>        <th>  No. Observations:  </th>  <td>   679</td>  \n",
       "</tr>\n",
       "<tr>\n",
       "  <th>Model:</th>                 <td>Logit</td>      <th>  Df Residuals:      </th>  <td>   672</td>  \n",
       "</tr>\n",
       "<tr>\n",
       "  <th>Method:</th>                 <td>MLE</td>       <th>  Df Model:          </th>  <td>     6</td>  \n",
       "</tr>\n",
       "<tr>\n",
       "  <th>Date:</th>            <td>Thu, 08 Apr 2021</td> <th>  Pseudo R-squ.:     </th>  <td>0.3614</td>  \n",
       "</tr>\n",
       "<tr>\n",
       "  <th>Time:</th>                <td>13:28:07</td>     <th>  Log-Likelihood:    </th> <td> -284.94</td> \n",
       "</tr>\n",
       "<tr>\n",
       "  <th>converged:</th>             <td>True</td>       <th>  LL-Null:           </th> <td> -446.23</td> \n",
       "</tr>\n",
       "<tr>\n",
       "  <th>Covariance Type:</th>     <td>nonrobust</td>    <th>  LLR p-value:       </th> <td>1.185e-66</td>\n",
       "</tr>\n",
       "</table>\n",
       "<table class=\"simpletable\">\n",
       "<tr>\n",
       "                <td></td>                   <th>coef</th>     <th>std err</th>      <th>z</th>      <th>P>|z|</th>  <th>[0.025</th>    <th>0.975]</th>  \n",
       "</tr>\n",
       "<tr>\n",
       "  <th>Intercept</th>                     <td>   -4.5635</td> <td>    0.465</td> <td>   -9.807</td> <td> 0.000</td> <td>   -5.475</td> <td>   -3.651</td>\n",
       "</tr>\n",
       "<tr>\n",
       "  <th>sex[T.Male]</th>                   <td>    0.7288</td> <td>    0.217</td> <td>    3.363</td> <td> 0.001</td> <td>    0.304</td> <td>    1.154</td>\n",
       "</tr>\n",
       "<tr>\n",
       "  <th>party[T.Independent]</th>          <td>    2.2604</td> <td>    0.312</td> <td>    7.236</td> <td> 0.000</td> <td>    1.648</td> <td>    2.873</td>\n",
       "</tr>\n",
       "<tr>\n",
       "  <th>party[T.No preference (VOL.)]</th> <td>    2.5881</td> <td>    0.680</td> <td>    3.808</td> <td> 0.000</td> <td>    1.256</td> <td>    3.920</td>\n",
       "</tr>\n",
       "<tr>\n",
       "  <th>party[T.Other party (VOL.)]</th>   <td>    4.0865</td> <td>    1.212</td> <td>    3.372</td> <td> 0.001</td> <td>    1.711</td> <td>    6.462</td>\n",
       "</tr>\n",
       "<tr>\n",
       "  <th>party[T.Republican]</th>           <td>    4.2985</td> <td>    0.341</td> <td>   12.592</td> <td> 0.000</td> <td>    3.629</td> <td>    4.968</td>\n",
       "</tr>\n",
       "<tr>\n",
       "  <th>age</th>                           <td>    0.0272</td> <td>    0.006</td> <td>    4.443</td> <td> 0.000</td> <td>    0.015</td> <td>    0.039</td>\n",
       "</tr>\n",
       "</table>"
      ],
      "text/plain": [
       "<class 'statsmodels.iolib.summary.Summary'>\n",
       "\"\"\"\n",
       "                           Logit Regression Results                           \n",
       "==============================================================================\n",
       "Dep. Variable:                      y   No. Observations:                  679\n",
       "Model:                          Logit   Df Residuals:                      672\n",
       "Method:                           MLE   Df Model:                            6\n",
       "Date:                Thu, 08 Apr 2021   Pseudo R-squ.:                  0.3614\n",
       "Time:                        13:28:07   Log-Likelihood:                -284.94\n",
       "converged:                       True   LL-Null:                       -446.23\n",
       "Covariance Type:            nonrobust   LLR p-value:                 1.185e-66\n",
       "=================================================================================================\n",
       "                                    coef    std err          z      P>|z|      [0.025      0.975]\n",
       "-------------------------------------------------------------------------------------------------\n",
       "Intercept                        -4.5635      0.465     -9.807      0.000      -5.475      -3.651\n",
       "sex[T.Male]                       0.7288      0.217      3.363      0.001       0.304       1.154\n",
       "party[T.Independent]              2.2604      0.312      7.236      0.000       1.648       2.873\n",
       "party[T.No preference (VOL.)]     2.5881      0.680      3.808      0.000       1.256       3.920\n",
       "party[T.Other party (VOL.)]       4.0865      1.212      3.372      0.001       1.711       6.462\n",
       "party[T.Republican]               4.2985      0.341     12.592      0.000       3.629       4.968\n",
       "age                               0.0272      0.006      4.443      0.000       0.015       0.039\n",
       "=================================================================================================\n",
       "\"\"\""
      ]
     },
     "execution_count": 31,
     "metadata": {},
     "output_type": "execute_result"
    }
   ],
   "source": [
    "mod2 = smf.logit(formula='y ~ age+sex+party', data=df).fit()\n",
    "mod2.summary()"
   ]
  },
  {
   "cell_type": "code",
   "execution_count": 32,
   "metadata": {},
   "outputs": [
    {
     "name": "stdout",
     "output_type": "stream",
     "text": [
      "0.8750863920799477\n"
     ]
    }
   ],
   "source": [
    "fprs, tprs, thresholds = roc_curve(y_true=df['y'], \n",
    "                            y_score=mod2.fittedvalues)\n",
    "auc = roc_auc_score(y_true=df['y'], \n",
    "                    y_score=mod2.fittedvalues)\n",
    "print(auc)"
   ]
  },
  {
   "cell_type": "code",
   "execution_count": 33,
   "metadata": {},
   "outputs": [
    {
     "data": {
      "image/png": "[encoded data removed]",
      "text/plain": [
       "<Figure size 432x288 with 1 Axes>"
      ]
     },
     "metadata": {
      "needs_background": "light"
     },
     "output_type": "display_data"
    }
   ],
   "source": [
    "plot_roc(fprs, tprs, auc)"
   ]
  },
  {
   "cell_type": "markdown",
   "metadata": {},
   "source": [
    "---\n",
    "STAT 207, Julie Deeke, Victoria Ellison, and Douglas Simpson, University of Illinois at Urbana-Champaign"
   ]
  }
 ],
 "metadata": {
  "kernelspec": {
   "display_name": "Python 3 (ipykernel)",
   "language": "python",
   "name": "python3"
  },
  "language_info": {
   "codemirror_mode": {
    "name": "ipython",
    "version": 3
   },
   "file_extension": ".py",
   "mimetype": "text/x-python",
   "name": "python",
   "nbconvert_exporter": "python",
   "pygments_lexer": "ipython3",
   "version": "3.8.11"
  }
 },
 "nbformat": 4,
 "nbformat_minor": 2
}
