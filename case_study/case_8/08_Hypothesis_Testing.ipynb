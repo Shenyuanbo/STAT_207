{
 "cells": [
  {
   "cell_type": "markdown",
   "metadata": {},
   "source": [
    "<!--# STAT 207: Data Science Exploration-->\n",
    "\n",
    "# <u>Case Study 8 Notebook</u>: Introduction to Inference – Hypothesis Testing for Population Means (µ) and Population Proportions (p)\n",
    "\n",
    "This Case Study contains analyses to answer two questions from Pew Survey data:\n",
    "\n",
    "- Is there sufficient evidence to suggest that the average age of an adult living in the U.S (in 2017) is NOT equal to 50?\n",
    "- Is there sufficient evidence to suggest that the proportion of adults living in the U.S. that approve of the way things are going in the country (in 2017) is NOT equal to 0.75?"
   ]
  },
  {
   "cell_type": "code",
   "execution_count": 1,
   "metadata": {},
   "outputs": [],
   "source": [
    "import pandas as pd\n",
    "import numpy as np\n",
    "import matplotlib.pyplot as plt\n",
    "import seaborn as sns; sns.set()"
   ]
  },
  {
   "cell_type": "markdown",
   "metadata": {},
   "source": [
    "## Preliminary Dataset Cleaning and Inspection\n",
    "\n",
    "The February 2017 Pew Research Center random phone number dialing survey had 1,503 respondents in total.  We'll be focusing on the age variable for this analysis.\n",
    "\n",
    "First, let's learn a little more about this dataset."
   ]
  },
  {
   "cell_type": "code",
   "execution_count": 2,
   "metadata": {},
   "outputs": [
    {
     "data": {
      "text/html": [
       "<div>\n",
       "<style scoped>\n",
       "    .dataframe tbody tr th:only-of-type {\n",
       "        vertical-align: middle;\n",
       "    }\n",
       "\n",
       "    .dataframe tbody tr th {\n",
       "        vertical-align: top;\n",
       "    }\n",
       "\n",
       "    .dataframe thead th {\n",
       "        text-align: right;\n",
       "    }\n",
       "</style>\n",
       "<table border=\"1\" class=\"dataframe\">\n",
       "  <thead>\n",
       "    <tr style=\"text-align: right;\">\n",
       "      <th></th>\n",
       "      <th>psraid</th>\n",
       "      <th>sample</th>\n",
       "      <th>int_date</th>\n",
       "      <th>fcall</th>\n",
       "      <th>version</th>\n",
       "      <th>attempts</th>\n",
       "      <th>refusal</th>\n",
       "      <th>ilang</th>\n",
       "      <th>cregion</th>\n",
       "      <th>state</th>\n",
       "      <th>...</th>\n",
       "      <th>ql1a</th>\n",
       "      <th>qc1</th>\n",
       "      <th>money2</th>\n",
       "      <th>money3</th>\n",
       "      <th>iphoneuse</th>\n",
       "      <th>hphoneuse</th>\n",
       "      <th>ll</th>\n",
       "      <th>cp</th>\n",
       "      <th>cellweight</th>\n",
       "      <th>weight</th>\n",
       "    </tr>\n",
       "  </thead>\n",
       "  <tbody>\n",
       "    <tr>\n",
       "      <th>0</th>\n",
       "      <td>100008</td>\n",
       "      <td>Landline</td>\n",
       "      <td>21017</td>\n",
       "      <td>170207</td>\n",
       "      <td>Client changes</td>\n",
       "      <td>4</td>\n",
       "      <td>No</td>\n",
       "      <td>English</td>\n",
       "      <td>Midwest</td>\n",
       "      <td>Illinois</td>\n",
       "      <td>...</td>\n",
       "      <td>NaN</td>\n",
       "      <td>NaN</td>\n",
       "      <td>NaN</td>\n",
       "      <td>NaN</td>\n",
       "      <td>Dual</td>\n",
       "      <td>Dual HH</td>\n",
       "      <td>1</td>\n",
       "      <td>1</td>\n",
       "      <td>NaN</td>\n",
       "      <td>1.733333</td>\n",
       "    </tr>\n",
       "    <tr>\n",
       "      <th>1</th>\n",
       "      <td>100019</td>\n",
       "      <td>Landline</td>\n",
       "      <td>21217</td>\n",
       "      <td>170207</td>\n",
       "      <td>Client changes</td>\n",
       "      <td>4</td>\n",
       "      <td>Yes</td>\n",
       "      <td>English</td>\n",
       "      <td>South</td>\n",
       "      <td>North Carolina</td>\n",
       "      <td>...</td>\n",
       "      <td>NaN</td>\n",
       "      <td>NaN</td>\n",
       "      <td>NaN</td>\n",
       "      <td>NaN</td>\n",
       "      <td>Dual</td>\n",
       "      <td>Dual HH</td>\n",
       "      <td>1</td>\n",
       "      <td>1</td>\n",
       "      <td>NaN</td>\n",
       "      <td>1.500000</td>\n",
       "    </tr>\n",
       "    <tr>\n",
       "      <th>2</th>\n",
       "      <td>100020</td>\n",
       "      <td>Landline</td>\n",
       "      <td>21217</td>\n",
       "      <td>170207</td>\n",
       "      <td>Client changes</td>\n",
       "      <td>4</td>\n",
       "      <td>Yes</td>\n",
       "      <td>English</td>\n",
       "      <td>Northeast</td>\n",
       "      <td>New York</td>\n",
       "      <td>...</td>\n",
       "      <td>NaN</td>\n",
       "      <td>NaN</td>\n",
       "      <td>NaN</td>\n",
       "      <td>NaN</td>\n",
       "      <td>Dual</td>\n",
       "      <td>Dual HH</td>\n",
       "      <td>1</td>\n",
       "      <td>1</td>\n",
       "      <td>NaN</td>\n",
       "      <td>1.533333</td>\n",
       "    </tr>\n",
       "    <tr>\n",
       "      <th>3</th>\n",
       "      <td>100021</td>\n",
       "      <td>Landline</td>\n",
       "      <td>20717</td>\n",
       "      <td>170207</td>\n",
       "      <td>Initial version</td>\n",
       "      <td>1</td>\n",
       "      <td>No</td>\n",
       "      <td>English</td>\n",
       "      <td>Midwest</td>\n",
       "      <td>Minnesota</td>\n",
       "      <td>...</td>\n",
       "      <td>NaN</td>\n",
       "      <td>NaN</td>\n",
       "      <td>NaN</td>\n",
       "      <td>NaN</td>\n",
       "      <td>Dual</td>\n",
       "      <td>Dual HH</td>\n",
       "      <td>1</td>\n",
       "      <td>1</td>\n",
       "      <td>NaN</td>\n",
       "      <td>5.866667</td>\n",
       "    </tr>\n",
       "    <tr>\n",
       "      <th>4</th>\n",
       "      <td>100024</td>\n",
       "      <td>Landline</td>\n",
       "      <td>20717</td>\n",
       "      <td>170207</td>\n",
       "      <td>Initial version</td>\n",
       "      <td>1</td>\n",
       "      <td>No</td>\n",
       "      <td>English</td>\n",
       "      <td>Midwest</td>\n",
       "      <td>Illinois</td>\n",
       "      <td>...</td>\n",
       "      <td>NaN</td>\n",
       "      <td>NaN</td>\n",
       "      <td>NaN</td>\n",
       "      <td>NaN</td>\n",
       "      <td>Dual</td>\n",
       "      <td>Dual HH</td>\n",
       "      <td>1</td>\n",
       "      <td>1</td>\n",
       "      <td>NaN</td>\n",
       "      <td>1.700000</td>\n",
       "    </tr>\n",
       "  </tbody>\n",
       "</table>\n",
       "<p>5 rows × 130 columns</p>\n",
       "</div>"
      ],
      "text/plain": [
       "   psraid    sample  int_date   fcall          version  attempts refusal  \\\n",
       "0  100008  Landline     21017  170207   Client changes         4      No   \n",
       "1  100019  Landline     21217  170207   Client changes         4     Yes   \n",
       "2  100020  Landline     21217  170207   Client changes         4     Yes   \n",
       "3  100021  Landline     20717  170207  Initial version         1      No   \n",
       "4  100024  Landline     20717  170207  Initial version         1      No   \n",
       "\n",
       "     ilang    cregion           state  ... ql1a  qc1 money2  money3 iphoneuse  \\\n",
       "0  English    Midwest        Illinois  ...  NaN  NaN    NaN     NaN      Dual   \n",
       "1  English      South  North Carolina  ...  NaN  NaN    NaN     NaN      Dual   \n",
       "2  English  Northeast        New York  ...  NaN  NaN    NaN     NaN      Dual   \n",
       "3  English    Midwest       Minnesota  ...  NaN  NaN    NaN     NaN      Dual   \n",
       "4  English    Midwest        Illinois  ...  NaN  NaN    NaN     NaN      Dual   \n",
       "\n",
       "  hphoneuse ll cp cellweight    weight  \n",
       "0   Dual HH  1  1        NaN  1.733333  \n",
       "1   Dual HH  1  1        NaN  1.500000  \n",
       "2   Dual HH  1  1        NaN  1.533333  \n",
       "3   Dual HH  1  1        NaN  5.866667  \n",
       "4   Dual HH  1  1        NaN  1.700000  \n",
       "\n",
       "[5 rows x 130 columns]"
      ]
     },
     "execution_count": 2,
     "metadata": {},
     "output_type": "execute_result"
    }
   ],
   "source": [
    "# Read in the data\n",
    "missing_values = [\"NaN\", \"nan\", \"Don't know/Refused (VOL.)\"]\n",
    "df_pew = pd.read_csv('Feb17public.csv', \n",
    "                   na_values=missing_values)\n",
    "df_pew.head()"
   ]
  },
  {
   "cell_type": "markdown",
   "metadata": {},
   "source": [
    "What is the shape of this dataset?"
   ]
  },
  {
   "cell_type": "code",
   "execution_count": 3,
   "metadata": {},
   "outputs": [
    {
     "data": {
      "text/plain": [
       "(1503, 130)"
      ]
     },
     "execution_count": 3,
     "metadata": {},
     "output_type": "execute_result"
    }
   ],
   "source": [
    "df_pew.shape"
   ]
  },
  {
   "cell_type": "markdown",
   "metadata": {},
   "source": [
    "Let's create a pandas series that is just the the age column of this dataframe and drop the missing values from this series."
   ]
  },
  {
   "cell_type": "code",
   "execution_count": 4,
   "metadata": {},
   "outputs": [
    {
     "data": {
      "text/plain": [
       "0       80.0\n",
       "1       70.0\n",
       "2       69.0\n",
       "3       50.0\n",
       "4       70.0\n",
       "        ... \n",
       "1498    37.0\n",
       "1499    30.0\n",
       "1500    72.0\n",
       "1501    67.0\n",
       "1502    35.0\n",
       "Name: age, Length: 1489, dtype: float64"
      ]
     },
     "execution_count": 4,
     "metadata": {},
     "output_type": "execute_result"
    }
   ],
   "source": [
    "df_pew_age=df_pew['age'].dropna()\n",
    "df_pew_age"
   ]
  },
  {
   "cell_type": "markdown",
   "metadata": {},
   "source": [
    "What is the shape of this series?"
   ]
  },
  {
   "cell_type": "code",
   "execution_count": 5,
   "metadata": {},
   "outputs": [
    {
     "data": {
      "text/plain": [
       "(1489,)"
      ]
     },
     "execution_count": 5,
     "metadata": {},
     "output_type": "execute_result"
    }
   ],
   "source": [
    "df_pew_age.shape"
   ]
  },
  {
   "cell_type": "markdown",
   "metadata": {},
   "source": [
    "## Collecting Sample Information"
   ]
  },
  {
   "cell_type": "code",
   "execution_count": 6,
   "metadata": {},
   "outputs": [
    {
     "name": "stdout",
     "output_type": "stream",
     "text": [
      "sample mean age = 50.49 sample std age = 17.84 sample size n = 1489\n",
      "population standard deviation age= 18\n"
     ]
    }
   ],
   "source": [
    "# compute and display sample statistics\n",
    "sample_mean_age = df_pew_age.mean()\n",
    "sample_std_age = df_pew_age.std()\n",
    "n_age = df_pew_age.shape[0]\n",
    "print('sample mean age =', round(sample_mean_age, 2), \n",
    "      'sample std age =', round(sample_std_age,2), \n",
    "      'sample size n =', n_age)\n",
    "\n",
    "pop_std_age=18\n",
    "\n",
    "print('population standard deviation age=',pop_std_age) "
   ]
  },
  {
   "cell_type": "markdown",
   "metadata": {},
   "source": [
    "Above, we calculated some statistics based on our given sample.  Below, we consider the shape of the distribution based on our sample."
   ]
  },
  {
   "cell_type": "code",
   "execution_count": 7,
   "metadata": {},
   "outputs": [
    {
     "data": {
      "image/png": "[encoded data removed]",
      "text/plain": [
       "<Figure size 432x288 with 1 Axes>"
      ]
     },
     "metadata": {},
     "output_type": "display_data"
    }
   ],
   "source": [
    "df_pew_age.hist(color='orange')\n",
    "plt.title('Sample Distribution')\n",
    "plt.xlabel('Age')\n",
    "plt.ylabel('Frequency')\n",
    "plt.show()"
   ]
  },
  {
   "cell_type": "markdown",
   "metadata": {},
   "source": [
    "## Frequentist Hypothesis Testing for a Population Mean $\\mu$ - Using p-values\n",
    "\n",
    "**Has the average age of all adults living in the U.S. changed from 2007 to 2017?**\n",
    "\n",
    "For example, suppose that in 2007 the average age of all adults living in the U.S. was thought to have been 50. In 2017, researchers are skeptical that that is still the case. We would like to conduct hypothesis testing to test these claims. \n",
    "So in 2017, we collect a random sample of size 1489 with an average of 50.49 years and a standard deviation of 17.84 years. Suppose we also know that the standard deviation of ALL adults living in the U.S. in 2017 is σ=18."
   ]
  },
  {
   "cell_type": "markdown",
   "metadata": {},
   "source": [
    "### Set up your hypotheses for this test.\n",
    "\n",
    "$H_0: \\mu=50$.\n",
    "\n",
    "$H_A: \\mu\\neq 50$.\n",
    "\n",
    "Where $\\mu=$ the mean age of ALL adults living in the U.S. in 2017.\n",
    "\n",
    "For this example, we will use a significance level of $\\alpha = 0.05$.\n",
    "\n",
    "\n",
    "### Assumptions: Are the Central Limit Theorem Conditions (for Sample Means) met by this example?\n",
    "\n",
    "Yes, the Central Limit Theorem Conditions (for Sample Means) below are met by this sample.\n",
    "\n",
    "1. <u>Condition: The observations are independent</u>.\n",
    "    - Because the sample is collected via random sampling and $n<10\\%$ of the population of ALL adults living in the U.S.\n",
    "2. <u>Condition: Either n>30 OR the population distribution is normal.</u>.\n",
    "    - It looks like the population distribution of ages is NOT normal. How do we know?\n",
    "        - The sample distribution and the population distribution tend to mirror each other.\n",
    "        - The sample distribution above is NOT symmetric and unimodal, therefore, it is not a good assumption to say that it is normal.\n",
    "    - However, because our sample size $n=1489>30$,this condition is met.\n",
    "\n",
    "### Calculating the p-value\n",
    "\n",
    "**<u>Method 1</u>: Using the sampling distribution of sample means**\n",
    "\n",
    "We know this sampling distribution is a normal distribution with:\n",
    "* $mean = \\mu_0=50$ (because we are assuming the null hypothesis $H_0: \\mu=50$)\n",
    "* $standard \\_deviation = \\frac{\\sigma}{\\sqrt{n}}=\\frac{18}{\\sqrt{1489}}$.\n",
    "\n",
    "We know this sampling distribution is normal, because the Central Limit Theorem for Sample Means conditions are met."
   ]
  },
  {
   "cell_type": "code",
   "execution_count": 8,
   "metadata": {},
   "outputs": [
    {
     "name": "stdout",
     "output_type": "stream",
     "text": [
      "p-value: 0.29351622690913737\n"
     ]
    }
   ],
   "source": [
    "from scipy.stats import norm\n",
    "\n",
    "assumed_pop_mean=50\n",
    "std_error=pop_std_age/np.sqrt(n_age)\n",
    "\n",
    "pvalue=2*(1-norm.cdf(50.49, loc=assumed_pop_mean, scale=std_error))\n",
    "print('p-value:',pvalue)"
   ]
  },
  {
   "cell_type": "markdown",
   "metadata": {},
   "source": [
    "**<u>Method 2</u>: Using the distribution of the z-scores of the sample means in the sampling distribution.**\n",
    "\n",
    "We know that this distribution is the standard normal distribution because the sampling distribution is normal, and the distribution of z-scores of observations from a normal distribution is always the standard normal distribution.\n"
   ]
  },
  {
   "cell_type": "code",
   "execution_count": 9,
   "metadata": {},
   "outputs": [
    {
     "data": {
      "text/plain": [
       "1.0504392085524068"
      ]
     },
     "execution_count": 9,
     "metadata": {},
     "output_type": "execute_result"
    }
   ],
   "source": [
    "test_statistic=(50.49-assumed_pop_mean)/std_error\n",
    "test_statistic"
   ]
  },
  {
   "cell_type": "code",
   "execution_count": 10,
   "metadata": {},
   "outputs": [
    {
     "name": "stdout",
     "output_type": "stream",
     "text": [
      "p-value: 0.29351622690913737\n"
     ]
    }
   ],
   "source": [
    "pvalue=2*(1-norm.cdf(np.abs(test_statistic), loc=0, scale=1))\n",
    "print('p-value:',pvalue)"
   ]
  },
  {
   "cell_type": "markdown",
   "metadata": {},
   "source": [
    "### Using a significance level of α=0.05, make a conclusion about your hypotheses.\n",
    "\n",
    "Because $p-value = 0.29 \\geq \\alpha =0.05$, we **fail to reject the null hypothesis.** Thus, we say that we **DON'T HAVE sufficient evidence to suggest the alternative hypothesis** (that average age of ALL adults in the U.S. is different from 50.)."
   ]
  },
  {
   "cell_type": "markdown",
   "metadata": {},
   "source": [
    "### Complication 1: What do you do if you don't know $\\sigma$?"
   ]
  },
  {
   "cell_type": "markdown",
   "metadata": {},
   "source": [
    "In this situation, we can make adjustments similar to what we saw for confidence intervals.  We can plug in our best estimate for $\\sigma$ from our sample, $s$.  We then also need to make appropriate distributional assumptions, using the $t(df = n-1)$ reference distribution in place of the Normal distribution."
   ]
  },
  {
   "cell_type": "code",
   "execution_count": 11,
   "metadata": {},
   "outputs": [
    {
     "name": "stdout",
     "output_type": "stream",
     "text": [
      "estimated standard error: 0.4624280299786232\n",
      "t test statistic: 1.0558338034957857\n",
      "p-value: 0.29121554367401137\n"
     ]
    }
   ],
   "source": [
    "from scipy.stats import t\n",
    "\n",
    "est_st_err = sample_std_age / np.sqrt(n_age)\n",
    "t_stat = (sample_mean_age - 50) / est_st_err\n",
    "\n",
    "pvalue=2*(1-t.cdf(t_stat, df = n_age - 1))\n",
    "print('estimated standard error:',est_st_err)\n",
    "print('t test statistic:',t_stat)\n",
    "print('p-value:',pvalue)"
   ]
  },
  {
   "cell_type": "markdown",
   "metadata": {},
   "source": [
    "### Complication 2: What do you do if your assumptions aren't met?  (And sometimes even if they are)\n",
    "\n",
    "We can calculate our p-values using simulations without relying on a reference distribution.\n",
    "\n",
    "**<u>p-value calculation with Method 3</u>:  Approximate the p-value using a simulated sampling distribution.**\n",
    "\n",
    "What if we don't want to use the normal distribution approximation, or what if we can't assume that the normal distribution is valid as the distribution for the sample mean?  \n",
    "\n",
    "We previously saw how to approximate a sampling distribution for a sample mean based on some set of data.  Since our sample is our best available approximation of the population, we can let the sample serve as a population.  Then, we can perform the process needed to generate a sampling distribution from our sample.  Since this is based on a sample, we call this a **bootstrapped** sampling distribution.  In this case, our sampling distribution will display the test statistic (t) for each of our **bootstrapped** samples.\n",
    "\n",
    "Once we have our reference **bootstrapped** distribution, we can find the probability of observing a test statistic as extreme or more extreme than what we observed.  To do this, we will center our bootstrapped distribution by our assumed (hypothesized, under the null hypothesis) mean.\n",
    "\n",
    "**Note:** this approach does not rely on any distributional assumptions for the sample mean, which makes it especially helpful if the conditions for the Central Limit Theorem (and required for Methods 1 & 2 above) are not met.\n",
    "\n",
    "**Note 2:** this approach relies on having a reliable sample.  If our sample is not a good sample, we will not be able to calculate a reasonable p-value.  *Garbage in, garbage out.*"
   ]
  },
  {
   "cell_type": "code",
   "execution_count": 12,
   "metadata": {},
   "outputs": [],
   "source": [
    "def MCstats(df, x='', replace=True, n=1, M=1, samp_mean = 0):\n",
    "    #INPUT:\n",
    "    # df is a data frame\n",
    "    # x is a text-valued name for a variable in the data frame\n",
    "    # replace = True or False depending on whether \n",
    "    #    draws are with or without replacement\n",
    "    # n = number of draws per sample\n",
    "    # M = number of samples to draw\n",
    "    MCtstats = []\n",
    "    for i in range(M):\n",
    "        #1. Collect a random sample of size n with replacement\n",
    "        #2. Calculate the t-test statistic of this random sample\n",
    "        #3. Append this random t-stat to the TestStats list \n",
    "        # (which is our BOOTSTRAPPED SAMPLING DISTRIBUTION OF TEST STATS!)\n",
    "        mysample = df[x].sample(n, replace = replace)\n",
    "        xbar = mysample.mean()\n",
    "        s = mysample.std()\n",
    "        tstat = (xbar - samp_mean) / (s / np.sqrt(n))\n",
    "        MCtstats.append(tstat)\n",
    "    #4. returns the sampling distribution in a dataframe format\n",
    "    return pd.DataFrame({x: MCtstats})"
   ]
  },
  {
   "cell_type": "code",
   "execution_count": 13,
   "metadata": {},
   "outputs": [],
   "source": [
    "df_age = pd.DataFrame({'x': df_pew_age})\n",
    "samp_dist = MCstats(df_age, x = 'x', n = n_age, M = 10000, \n",
    "                    samp_mean = sample_mean_age)"
   ]
  },
  {
   "cell_type": "code",
   "execution_count": 14,
   "metadata": {},
   "outputs": [
    {
     "data": {
      "text/plain": [
       "1.0558338034957857"
      ]
     },
     "execution_count": 14,
     "metadata": {},
     "output_type": "execute_result"
    }
   ],
   "source": [
    "# observed test statistic\n",
    "(sample_mean_age - assumed_pop_mean) / (sample_std_age / np.sqrt(n_age))"
   ]
  },
  {
   "cell_type": "code",
   "execution_count": 15,
   "metadata": {},
   "outputs": [
    {
     "data": {
      "image/png": "[encoded data removed]",
      "text/plain": [
       "<Figure size 432x288 with 1 Axes>"
      ]
     },
     "metadata": {},
     "output_type": "display_data"
    }
   ],
   "source": [
    "# bootstrapped distribution\n",
    "samp_dist['x'].hist(density = True)\n",
    "plt.xlabel('Sample Mean - Assumed Population Mean')\n",
    "plt.ylabel('Frequency')\n",
    "plt.title('Histogram of Centered Bootstrapped Sampling Distribution')\n",
    "plt.axvline(1.0558, color = 'rebeccapurple')\n",
    "plt.axvline(-1.0558, color = 'mediumorchid')\n",
    "plt.show()"
   ]
  },
  {
   "cell_type": "code",
   "execution_count": 16,
   "metadata": {},
   "outputs": [
    {
     "data": {
      "text/plain": [
       "0.2943"
      ]
     },
     "execution_count": 16,
     "metadata": {},
     "output_type": "execute_result"
    }
   ],
   "source": [
    "# pvalue approximation\n",
    "((samp_dist['x'] >= 1.0558) + (samp_dist['x'] <= -1.0558)).mean()"
   ]
  },
  {
   "cell_type": "markdown",
   "metadata": {},
   "source": [
    "## Frequentist Hypothesis Testing: for a Population Mean µ - Using a Confidence Interval\n",
    "\n",
    "For example, suppose that in 2007 the average age of all adults living in the U.S. was thought to have been 50. In 2017, researchers are skeptical that that is still the case. We would like to conduct hypothesis testing to test these claims. \n",
    "So in 2017, we collect a random sample of size 1489 with an average of 50.49 years and a standard deviation of 17.84 years. Suppose we don’t know the standard deviation of ALL adults living in the U.S. \n",
    "**Conduct your hypothesis test using a <u>95% confidence interval</u>.**"
   ]
  },
  {
   "cell_type": "markdown",
   "metadata": {},
   "source": [
    "### Set up hypotheses\n",
    "\n",
    "$H_0: \\mu=50$.\n",
    "\n",
    "$H_A: \\mu\\neq 50$.\n",
    "\n",
    "Where $\\mu=$ the mean age of ALL adults living in the U.S. in 2017.\n",
    "\n",
    "**Note**: when using a confidence interval, the simplest case is when we have an alternative hypothesis with a does not equal, $\\neq$ sign.  There are additional steps to consider for other versions of an alternative hypothesis.\n",
    "\n",
    "\n",
    "### Check Central Limit Theorem Conditions (for Sample Means)\n",
    "\n",
    "Yes, the Central Limit Theorem Conditions (for Sample Means) below are met by this sample. **THUS WE CAN PROCEED WITH CONDUCTING THIS HYPOTHESIS TEST.**\n",
    "\n",
    "1. <u>Condition: The observations are independent</u>.\n",
    "    - Because the sample is collected via random sampling and $n<10\\%$ of the population of ALL adults living in the U.S.\n",
    "2. <u>Condition: Either n>30 OR the population distribution is normal.</u>.\n",
    "    - It looks like the population distribution of ages is NOT normal. How do we know?\n",
    "        - The sample distribution and the population distribution tend to mirror each other.\n",
    "        - The sample distribution above is NOT symmetric and unimodal, therefore, it is not a good assumption to say that it is normal.\n",
    "    - However, because our sample size $n=1489>30$,this condition is met.\n",
    "\n",
    "### Create a 95% Confidence Interval:"
   ]
  },
  {
   "cell_type": "code",
   "execution_count": 17,
   "metadata": {},
   "outputs": [
    {
     "name": "stdout",
     "output_type": "stream",
     "text": [
      "Critical Value:  1.959963984540054\n"
     ]
    }
   ],
   "source": [
    "alpha = 0.05\n",
    "critical_value=norm.ppf(1-alpha/2)\n",
    "#Equivalent to...\n",
    "#critical_value=norm.ppf(0.975)\n",
    "\n",
    "print('Critical Value: ',critical_value)"
   ]
  },
  {
   "cell_type": "markdown",
   "metadata": {},
   "source": [
    "\n",
    "$(\\bar{x} - z^*\\frac{\\sigma}{\\sqrt{n}},\\bar{x} + z^*\\frac{\\sigma}{\\sqrt{n}})$\n",
    "\n",
    "$(50.49 - (1.96)\\frac{17.84}{\\sqrt{1489}},50.49  + (1.96)\\frac{17.84}{\\sqrt{1489}})$\n",
    "\n",
    "$(49.58,51.39)$."
   ]
  },
  {
   "cell_type": "code",
   "execution_count": 18,
   "metadata": {},
   "outputs": [
    {
     "name": "stdout",
     "output_type": "stream",
     "text": [
      "49.581904861535484 , 51.3945894299353\n"
     ]
    }
   ],
   "source": [
    "lower_bound=sample_mean_age-critical_value*(sample_std_age/np.sqrt(n_age))\n",
    "upper_bound=sample_mean_age+critical_value*(sample_std_age/np.sqrt(n_age))\n",
    "\n",
    "print(lower_bound,',',upper_bound)"
   ]
  },
  {
   "cell_type": "markdown",
   "metadata": {},
   "source": [
    "### Make a Decision:\n",
    "\n",
    "Because the null value $\\mu_0=50$ is **inside** the confidence interval we **fail to reject the null hypothesis.** Thus, we say that we **DON'T HAVE sufficient evidence to suggest the alternative hypothesis** (that average age of ALL adults in the U.S. is different from 50.).\n",
    "\n",
    "<hr style=\"height:1px;border:none;color:#333;background-color:#333;\" />"
   ]
  },
  {
   "cell_type": "markdown",
   "metadata": {},
   "source": [
    "## Frequentist Hypothesis Testing for a Population Proportion p - Using p-values\n",
    "\n",
    "For example, suppose that a politician claims that 75% of all adults living in the U.S. (in 2017) are satisfied with the way things are going in the country. A team of researchers is skeptical of this claim and would like to test it. They collect a random sample of size n=1435 that has a sample proportion of 0.301 that approve."
   ]
  },
  {
   "cell_type": "markdown",
   "metadata": {},
   "source": [
    "### Dataset Cleaning and Inspection\n",
    "\n",
    "We wil be using the same 2017 Pew dataset as in the previous case study. The 'q2' column contains responses to the following question: 'All in all, are you satisfied or dissatisfied with the way things are going in this country today?'\n",
    "\n",
    "Let's create a pandas series that is just the the q2 column of this dataframe and drop the missing values from this series."
   ]
  },
  {
   "cell_type": "code",
   "execution_count": 19,
   "metadata": {},
   "outputs": [
    {
     "data": {
      "text/plain": [
       "0       Dissatisfied\n",
       "1       Dissatisfied\n",
       "2       Dissatisfied\n",
       "3          Satisfied\n",
       "4       Dissatisfied\n",
       "            ...     \n",
       "1498       Satisfied\n",
       "1499    Dissatisfied\n",
       "1500    Dissatisfied\n",
       "1501    Dissatisfied\n",
       "1502       Satisfied\n",
       "Name: q2, Length: 1435, dtype: object"
      ]
     },
     "execution_count": 19,
     "metadata": {},
     "output_type": "execute_result"
    }
   ],
   "source": [
    "df_pew_q2=df_pew['q2'].dropna()\n",
    "df_pew_q2"
   ]
  },
  {
   "cell_type": "code",
   "execution_count": 20,
   "metadata": {},
   "outputs": [
    {
     "data": {
      "text/plain": [
       "(1435,)"
      ]
     },
     "execution_count": 20,
     "metadata": {},
     "output_type": "execute_result"
    }
   ],
   "source": [
    "df_pew_q2.shape"
   ]
  },
  {
   "cell_type": "markdown",
   "metadata": {},
   "source": [
    "### Collecting Sample Information"
   ]
  },
  {
   "cell_type": "code",
   "execution_count": 21,
   "metadata": {},
   "outputs": [
    {
     "data": {
      "text/plain": [
       "Dissatisfied    1003\n",
       "Satisfied        432\n",
       "Name: q2, dtype: int64"
      ]
     },
     "execution_count": 21,
     "metadata": {},
     "output_type": "execute_result"
    }
   ],
   "source": [
    "q2sum=df_pew_q2.value_counts()\n",
    "q2sum"
   ]
  },
  {
   "cell_type": "markdown",
   "metadata": {},
   "source": [
    "Sample Proportion that are Satisfied: $\\hat{p}=0.301$."
   ]
  },
  {
   "cell_type": "code",
   "execution_count": 22,
   "metadata": {},
   "outputs": [
    {
     "data": {
      "text/plain": [
       "0.301"
      ]
     },
     "execution_count": 22,
     "metadata": {},
     "output_type": "execute_result"
    }
   ],
   "source": [
    "prop = q2sum['Satisfied']/q2sum.sum()\n",
    "round(prop, 4)"
   ]
  },
  {
   "cell_type": "markdown",
   "metadata": {},
   "source": [
    "Sample Size n=1435"
   ]
  },
  {
   "cell_type": "code",
   "execution_count": 23,
   "metadata": {},
   "outputs": [
    {
     "data": {
      "text/plain": [
       "1435"
      ]
     },
     "execution_count": 23,
     "metadata": {},
     "output_type": "execute_result"
    }
   ],
   "source": [
    "n_prop=df_pew_q2.shape[0]\n",
    "n_prop"
   ]
  },
  {
   "cell_type": "markdown",
   "metadata": {},
   "source": [
    "### Set up your hypotheses for this test\n",
    "\n",
    "$H_0: p=0.75$\n",
    "\n",
    "$H_A: p\\neq0.75$\n",
    "\n",
    "p=the proportion of all adults in the U.S. (in 2017) that approve of the way that the country is going\n",
    "\n"
   ]
  },
  {
   "cell_type": "markdown",
   "metadata": {},
   "source": [
    "### Are the Central Limit Theorem Conditions (for Sample Proportions) met by this sample? \n",
    "\n",
    "Yes, the Central Limit Theorem Conditions (for Sample Proportions) below are met by this sample.\n",
    "\n",
    "1. <u>Condition: The observations are independent</u>.\n",
    "    - Because the sample is collected via random sampling and $n<10\\%$ of the population of ALL adults living in the U.S.\n",
    "2. <u>Condition: $np\\geq 10$ and $n(1-p)\\geq 10$.</u>.\n",
    "    - Because we don't know $p$, we plug in $p_0=0.75$ in for $p$ in the conditions above.\n",
    "    - $np_0 = 1435\\cdot 0.75\\geq 10$\n",
    "    - $n(1-p_0)=1435\\cdot(1-0.75)\\geq 10$.\n",
    "\n",
    "### Calculating the p-value\n",
    "\n",
    "**<u>Method 1</u>: Using the sampling distribution of sample proportions**"
   ]
  },
  {
   "cell_type": "code",
   "execution_count": 24,
   "metadata": {},
   "outputs": [
    {
     "data": {
      "text/plain": [
       "0.449"
      ]
     },
     "execution_count": 24,
     "metadata": {},
     "output_type": "execute_result"
    }
   ],
   "source": [
    "dist_samp_prop_is_from_null_value=.75-0.301\n",
    "dist_samp_prop_is_from_null_value"
   ]
  },
  {
   "cell_type": "code",
   "execution_count": 25,
   "metadata": {},
   "outputs": [
    {
     "data": {
      "text/plain": [
       "1.199"
      ]
     },
     "execution_count": 25,
     "metadata": {},
     "output_type": "execute_result"
    }
   ],
   "source": [
    "assumed_pop_prop=0.75\n",
    "\n",
    "assumed_pop_prop+dist_samp_prop_is_from_null_value"
   ]
  },
  {
   "cell_type": "code",
   "execution_count": 26,
   "metadata": {},
   "outputs": [
    {
     "name": "stdout",
     "output_type": "stream",
     "text": [
      "Assumed Population Proportion (ie. null value): 0.75\n",
      "Standard Error: 0.011430748921480313\n",
      "p-value: 0.0\n"
     ]
    }
   ],
   "source": [
    "from scipy.stats import norm\n",
    "\n",
    "assumed_pop_prop=0.75\n",
    "print('Assumed Population Proportion (ie. null value):', assumed_pop_prop)\n",
    "\n",
    "std_error=np.sqrt(assumed_pop_prop*(1-assumed_pop_prop)/n_prop)\n",
    "print('Standard Error:', std_error)\n",
    "\n",
    "pvalue=2*(norm.cdf(0.301, loc=assumed_pop_prop, scale=std_error))\n",
    "print('p-value:',pvalue)"
   ]
  },
  {
   "cell_type": "markdown",
   "metadata": {},
   "source": [
    "###  Use a significance level of α=0.10, make a conclusion about your hypotheses.\n",
    "\n",
    "Because $p-value \\approx 0 < \\alpha =0.10$, we **reject the null hypothesis.** Thus, we say that we **HAVE sufficient evidence to suggest the alternative hypothesis** (that proportion of ALL adults living in the U.S. that approve of the way the country is going is DIFFERENT from 0.75)."
   ]
  },
  {
   "cell_type": "markdown",
   "metadata": {},
   "source": [
    "### What do you do when you need to plug in a 'p' in the conditions and the standard error, but you don't know p?\n",
    "\n",
    "You might think that we'd do something similar to hypothesis tests for means -- plug in our best guess of $p$.\n",
    "\n",
    "But, in this case, there is one condition that is more important than plugging in our best estimate.  Consider the null hypothesis.  We are performing our hypothesis testing under the assumption that the null hypothesis is true, so we will use our hypothesized value of p in the standard error formula."
   ]
  },
  {
   "cell_type": "markdown",
   "metadata": {},
   "source": [
    "## Frequentist Hypothesis Testing: for a Population Mean p - Using a Confidence Interval - Testing Claim: $p\\neq p_0$\n",
    "\n",
    "For example, suppose that a politician claims that 75% of all adults living in the U.S. (in 2017) are satisfied with the way things are going in the country. A team of researchers is skeptical of this claim and would like to test it. They collect a random sample of size n=1435 that has a sample proportion of 0.301 that approve. **Evaluate these hypotheses by using a <u>90% confidence interval</u>.**"
   ]
  },
  {
   "cell_type": "markdown",
   "metadata": {},
   "source": [
    "### Set up Hypotheses\n",
    "\n",
    "$H_0: p=0.75$\n",
    "\n",
    "$H_A: p\\neq0.75$\n",
    "\n",
    "### Check the Central Limit Theorem Conditions (for Sample Proportions)\n",
    "The Central Limit Theorem Conditions (for Sample Proportions) below are met by this sample.\n",
    "\n",
    "1. <u>Condition: The observations are independent</u>.\n",
    "    - Because the sample is collected via random sampling and $n<10\\%$ of the population of ALL adults living in the U.S.\n",
    "2. <u>Condition: $np\\geq 10$ and $n(1-p)\\geq 10$.</u>.\n",
    "    - Because we don't know $p$, we plug in $p_0=0.75$ in for $p$ in the conditions above.\n",
    "    - $np_0 = 1435\\cdot 0.75\\geq 10$\n",
    "    - $n(1-p_0)=1435\\cdot(1-0.75)\\geq 10$.\n",
    "    \n",
    "\n",
    "    "
   ]
  },
  {
   "cell_type": "markdown",
   "metadata": {},
   "source": [
    "### Find the Critical Value for This Confidence Interval\n",
    "\n",
    "Find the POSITIVE z-score $z^*$ in the standard normal distribution in which:\n",
    "* an area of 0.90 is in between $-z^*$ and $z^*$.\n",
    "\n",
    "Put another way: We want to find the POSITIVE z-score $z^*$ in the standard normal distribution in which:\n",
    "* an area of 0.95=0.05+0.90 is to the left of $z^*$ and \n",
    "* an area of 0.05 is to the right of $z^*$. \n",
    "\n",
    "We can find the x-axis value (ie. the z-score) that has a left tail area of 0.95 by using the **norm.ppf()** function."
   ]
  },
  {
   "cell_type": "code",
   "execution_count": 27,
   "metadata": {},
   "outputs": [
    {
     "name": "stdout",
     "output_type": "stream",
     "text": [
      "Critical Value: 1.6448536269514722\n"
     ]
    }
   ],
   "source": [
    "from scipy.stats import norm\n",
    "#critical_value=norm.ppf(0.95)\n",
    "alpha=0.10\n",
    "critical_value=norm.ppf(1-alpha/2)\n",
    "print('Critical Value:',critical_value)"
   ]
  },
  {
   "cell_type": "markdown",
   "metadata": {},
   "source": [
    "### Calculate the 90% Confidence Interval for p\n",
    "\n",
    "$(\\hat{p} - z^*\\sqrt{\\frac{p(1-p)}{n}},\\hat{p} - z^*\\sqrt{\\frac{p(1-p)}{n}})$\n",
    "\n",
    "$\\approx (\\hat{p} - z^*\\sqrt{\\frac{p_0(1-p_0)}{n}},\\hat{p} - z^*\\sqrt{\\frac{p_0(1-p_0)}{n}})$\n",
    "\n",
    "$(0.301 - 1.645\\sqrt{\\frac{0.75(1-0.75)}{1435}},0.301 + 1.645\\sqrt{\\frac{0.75(1-0.75)}{1435}})$\n",
    "\n",
    "$(0.282,0.320)$."
   ]
  },
  {
   "cell_type": "code",
   "execution_count": 28,
   "metadata": {},
   "outputs": [
    {
     "name": "stdout",
     "output_type": "stream",
     "text": [
      "0.2822433873449789 , 0.3198472049895159\n"
     ]
    }
   ],
   "source": [
    "lower_bound=prop-critical_value*np.sqrt(assumed_pop_prop*(1-assumed_pop_prop)/n_prop)\n",
    "upper_bound=prop+critical_value*np.sqrt(assumed_pop_prop*(1-assumed_pop_prop)/n_prop)\n",
    "\n",
    "print(lower_bound,',',upper_bound)"
   ]
  },
  {
   "cell_type": "markdown",
   "metadata": {},
   "source": [
    "### Make a Decision:\n",
    "Because the null value $p_0=0.75$ is **not in the confidence interval**, we **reject the null hypothesis.** Thus, we say that we **HAVE sufficient evidence to suggest the alternative hypothesis** (that proportion of ALL adults living in the U.S. that approve of the way the country is going is DIFFERENT from 0.75)."
   ]
  },
  {
   "cell_type": "markdown",
   "metadata": {},
   "source": [
    "---\n",
    "STAT 207, Julie Deeke, Victoria Ellison, and Douglas Simpson, University of Illinois at Urbana-Champaign"
   ]
  }
 ],
 "metadata": {
  "kernelspec": {
   "display_name": "Python 3 (ipykernel)",
   "language": "python",
   "name": "python3"
  },
  "language_info": {
   "codemirror_mode": {
    "name": "ipython",
    "version": 3
   },
   "file_extension": ".py",
   "mimetype": "text/x-python",
   "name": "python",
   "nbconvert_exporter": "python",
   "pygments_lexer": "ipython3",
   "version": "3.8.11"
  }
 },
 "nbformat": 4,
 "nbformat_minor": 2
}
