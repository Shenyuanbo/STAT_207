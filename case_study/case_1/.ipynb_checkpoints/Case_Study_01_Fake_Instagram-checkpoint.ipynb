{
 "cells": [
  {
   "cell_type": "markdown",
   "id": "25ba5070",
   "metadata": {},
   "source": [
    "# <u>Case Study 1</u>: Fake Instagram Accounts\n",
    "\n",
    "We will demonstrate how to work with data in Python in this Jupyter notebook.  In this case study, we will explore the relationship between categorical variables in a dataset of fake and real Instagram accounts to demonstrate how we might consider the \"full data science pipeline\" approach to making informed, business decisions when it comes to identifying fake and real accounts."
   ]
  },
  {
   "cell_type": "markdown",
   "id": "80006688",
   "metadata": {},
   "source": [
    "## 1. Reading in the data from a csv file in a compressed folder\n",
    "\n",
    "The data that we will be using in this analysis will be in the fake_insta.csv file, which is located in the same folder as this Jupyter notebook.  In order to extract and view the data, we need to import a Python package:\n",
    "\n",
    "- <b>pandas</b> - Python package for reading and processing flat data files.\n",
    "\n",
    "We'll be using <b>pandas</b> regularly throughout out course."
   ]
  },
  {
   "cell_type": "code",
   "execution_count": 64,
   "id": "b49a57bc",
   "metadata": {},
   "outputs": [],
   "source": [
    "import pandas as pd"
   ]
  },
  {
   "cell_type": "markdown",
   "id": "378d074c",
   "metadata": {},
   "source": [
    "We can use the pandas \"read_csv\" function to read the file into a pandas data frame (df)."
   ]
  },
  {
   "cell_type": "code",
   "execution_count": 65,
   "id": "59661d29",
   "metadata": {},
   "outputs": [],
   "source": [
    "# extract data file and read into a data frame\n",
    "df = pd.read_csv('fake_insta.csv')"
   ]
  },
  {
   "cell_type": "markdown",
   "id": "ae54530f",
   "metadata": {},
   "source": [
    "## 2. Learning the scope of the data\n",
    "\n",
    "One of my first steps when I start interacting with a dataset is to learn more about the \"scope\" of the data.  I like to know more about what is in the data, including the size of the data set, what defines a row (observational unit), how many and what variables are recorded, and what types of values those variables take.\n",
    "\n",
    "There are many ways to learn about a data file.  Some require knowledge about the data source.  Others we can answer using our analytical tools."
   ]
  },
  {
   "cell_type": "markdown",
   "id": "fe48c895",
   "metadata": {},
   "source": [
    "### 2.1. Previewing the data\n",
    "\n",
    "First, we could ask python to print the full data frame (which is how Pandas reads and stores the data set)."
   ]
  },
  {
   "cell_type": "code",
   "execution_count": 66,
   "id": "116ccc6b",
   "metadata": {},
   "outputs": [
    {
     "data": {
      "text/html": [
       "<div>\n",
       "<style scoped>\n",
       "    .dataframe tbody tr th:only-of-type {\n",
       "        vertical-align: middle;\n",
       "    }\n",
       "\n",
       "    .dataframe tbody tr th {\n",
       "        vertical-align: top;\n",
       "    }\n",
       "\n",
       "    .dataframe thead th {\n",
       "        text-align: right;\n",
       "    }\n",
       "</style>\n",
       "<table border=\"1\" class=\"dataframe\">\n",
       "  <thead>\n",
       "    <tr style=\"text-align: right;\">\n",
       "      <th></th>\n",
       "      <th>has_a_profile_pic</th>\n",
       "      <th>number_of_words_in_name</th>\n",
       "      <th>num_characters_in_bio</th>\n",
       "      <th>number_of_posts</th>\n",
       "      <th>number_of_followers</th>\n",
       "      <th>number_of_follows</th>\n",
       "      <th>account_type</th>\n",
       "    </tr>\n",
       "  </thead>\n",
       "  <tbody>\n",
       "    <tr>\n",
       "      <th>0</th>\n",
       "      <td>yes</td>\n",
       "      <td>1</td>\n",
       "      <td>30</td>\n",
       "      <td>35</td>\n",
       "      <td>488</td>\n",
       "      <td>604</td>\n",
       "      <td>real</td>\n",
       "    </tr>\n",
       "    <tr>\n",
       "      <th>1</th>\n",
       "      <td>yes</td>\n",
       "      <td>5</td>\n",
       "      <td>64</td>\n",
       "      <td>3</td>\n",
       "      <td>35</td>\n",
       "      <td>6</td>\n",
       "      <td>real</td>\n",
       "    </tr>\n",
       "    <tr>\n",
       "      <th>2</th>\n",
       "      <td>yes</td>\n",
       "      <td>2</td>\n",
       "      <td>82</td>\n",
       "      <td>319</td>\n",
       "      <td>328</td>\n",
       "      <td>668</td>\n",
       "      <td>real</td>\n",
       "    </tr>\n",
       "    <tr>\n",
       "      <th>3</th>\n",
       "      <td>yes</td>\n",
       "      <td>1</td>\n",
       "      <td>143</td>\n",
       "      <td>273</td>\n",
       "      <td>14890</td>\n",
       "      <td>7369</td>\n",
       "      <td>real</td>\n",
       "    </tr>\n",
       "    <tr>\n",
       "      <th>4</th>\n",
       "      <td>yes</td>\n",
       "      <td>1</td>\n",
       "      <td>76</td>\n",
       "      <td>6</td>\n",
       "      <td>225</td>\n",
       "      <td>356</td>\n",
       "      <td>real</td>\n",
       "    </tr>\n",
       "    <tr>\n",
       "      <th>...</th>\n",
       "      <td>...</td>\n",
       "      <td>...</td>\n",
       "      <td>...</td>\n",
       "      <td>...</td>\n",
       "      <td>...</td>\n",
       "      <td>...</td>\n",
       "      <td>...</td>\n",
       "    </tr>\n",
       "    <tr>\n",
       "      <th>115</th>\n",
       "      <td>yes</td>\n",
       "      <td>1</td>\n",
       "      <td>0</td>\n",
       "      <td>13</td>\n",
       "      <td>114</td>\n",
       "      <td>811</td>\n",
       "      <td>fake</td>\n",
       "    </tr>\n",
       "    <tr>\n",
       "      <th>116</th>\n",
       "      <td>yes</td>\n",
       "      <td>1</td>\n",
       "      <td>0</td>\n",
       "      <td>4</td>\n",
       "      <td>150</td>\n",
       "      <td>164</td>\n",
       "      <td>fake</td>\n",
       "    </tr>\n",
       "    <tr>\n",
       "      <th>117</th>\n",
       "      <td>yes</td>\n",
       "      <td>2</td>\n",
       "      <td>0</td>\n",
       "      <td>3</td>\n",
       "      <td>833</td>\n",
       "      <td>3572</td>\n",
       "      <td>fake</td>\n",
       "    </tr>\n",
       "    <tr>\n",
       "      <th>118</th>\n",
       "      <td>no</td>\n",
       "      <td>1</td>\n",
       "      <td>0</td>\n",
       "      <td>1</td>\n",
       "      <td>219</td>\n",
       "      <td>1695</td>\n",
       "      <td>fake</td>\n",
       "    </tr>\n",
       "    <tr>\n",
       "      <th>119</th>\n",
       "      <td>yes</td>\n",
       "      <td>1</td>\n",
       "      <td>0</td>\n",
       "      <td>3</td>\n",
       "      <td>39</td>\n",
       "      <td>68</td>\n",
       "      <td>fake</td>\n",
       "    </tr>\n",
       "  </tbody>\n",
       "</table>\n",
       "<p>120 rows × 7 columns</p>\n",
       "</div>"
      ],
      "text/plain": [
       "    has_a_profile_pic  number_of_words_in_name  num_characters_in_bio  \\\n",
       "0                 yes                        1                     30   \n",
       "1                 yes                        5                     64   \n",
       "2                 yes                        2                     82   \n",
       "3                 yes                        1                    143   \n",
       "4                 yes                        1                     76   \n",
       "..                ...                      ...                    ...   \n",
       "115               yes                        1                      0   \n",
       "116               yes                        1                      0   \n",
       "117               yes                        2                      0   \n",
       "118                no                        1                      0   \n",
       "119               yes                        1                      0   \n",
       "\n",
       "     number_of_posts  number_of_followers  number_of_follows account_type  \n",
       "0                 35                  488                604         real  \n",
       "1                  3                   35                  6         real  \n",
       "2                319                  328                668         real  \n",
       "3                273                14890               7369         real  \n",
       "4                  6                  225                356         real  \n",
       "..               ...                  ...                ...          ...  \n",
       "115               13                  114                811         fake  \n",
       "116                4                  150                164         fake  \n",
       "117                3                  833               3572         fake  \n",
       "118                1                  219               1695         fake  \n",
       "119                3                   39                 68         fake  \n",
       "\n",
       "[120 rows x 7 columns]"
      ]
     },
     "execution_count": 66,
     "metadata": {},
     "output_type": "execute_result"
    }
   ],
   "source": [
    "df"
   ]
  },
  {
   "cell_type": "markdown",
   "id": "a068affc",
   "metadata": {},
   "source": [
    "Because there are so many rows, many of the middle rows are skipped.  We could get similar information using the <b>`head()`</b> function, which prints just the first few lines of data.\n",
    "\n",
    "By default, `head()` prints 5 rows.  We can specify the number of rows that we'd like printed using an argument inside of the head function. "
   ]
  },
  {
   "cell_type": "code",
   "execution_count": 67,
   "id": "8ebebb90",
   "metadata": {},
   "outputs": [
    {
     "data": {
      "text/html": [
       "<div>\n",
       "<style scoped>\n",
       "    .dataframe tbody tr th:only-of-type {\n",
       "        vertical-align: middle;\n",
       "    }\n",
       "\n",
       "    .dataframe tbody tr th {\n",
       "        vertical-align: top;\n",
       "    }\n",
       "\n",
       "    .dataframe thead th {\n",
       "        text-align: right;\n",
       "    }\n",
       "</style>\n",
       "<table border=\"1\" class=\"dataframe\">\n",
       "  <thead>\n",
       "    <tr style=\"text-align: right;\">\n",
       "      <th></th>\n",
       "      <th>has_a_profile_pic</th>\n",
       "      <th>number_of_words_in_name</th>\n",
       "      <th>num_characters_in_bio</th>\n",
       "      <th>number_of_posts</th>\n",
       "      <th>number_of_followers</th>\n",
       "      <th>number_of_follows</th>\n",
       "      <th>account_type</th>\n",
       "    </tr>\n",
       "  </thead>\n",
       "  <tbody>\n",
       "    <tr>\n",
       "      <th>0</th>\n",
       "      <td>yes</td>\n",
       "      <td>1</td>\n",
       "      <td>30</td>\n",
       "      <td>35</td>\n",
       "      <td>488</td>\n",
       "      <td>604</td>\n",
       "      <td>real</td>\n",
       "    </tr>\n",
       "    <tr>\n",
       "      <th>1</th>\n",
       "      <td>yes</td>\n",
       "      <td>5</td>\n",
       "      <td>64</td>\n",
       "      <td>3</td>\n",
       "      <td>35</td>\n",
       "      <td>6</td>\n",
       "      <td>real</td>\n",
       "    </tr>\n",
       "    <tr>\n",
       "      <th>2</th>\n",
       "      <td>yes</td>\n",
       "      <td>2</td>\n",
       "      <td>82</td>\n",
       "      <td>319</td>\n",
       "      <td>328</td>\n",
       "      <td>668</td>\n",
       "      <td>real</td>\n",
       "    </tr>\n",
       "    <tr>\n",
       "      <th>3</th>\n",
       "      <td>yes</td>\n",
       "      <td>1</td>\n",
       "      <td>143</td>\n",
       "      <td>273</td>\n",
       "      <td>14890</td>\n",
       "      <td>7369</td>\n",
       "      <td>real</td>\n",
       "    </tr>\n",
       "    <tr>\n",
       "      <th>4</th>\n",
       "      <td>yes</td>\n",
       "      <td>1</td>\n",
       "      <td>76</td>\n",
       "      <td>6</td>\n",
       "      <td>225</td>\n",
       "      <td>356</td>\n",
       "      <td>real</td>\n",
       "    </tr>\n",
       "  </tbody>\n",
       "</table>\n",
       "</div>"
      ],
      "text/plain": [
       "  has_a_profile_pic  number_of_words_in_name  num_characters_in_bio  \\\n",
       "0               yes                        1                     30   \n",
       "1               yes                        5                     64   \n",
       "2               yes                        2                     82   \n",
       "3               yes                        1                    143   \n",
       "4               yes                        1                     76   \n",
       "\n",
       "   number_of_posts  number_of_followers  number_of_follows account_type  \n",
       "0               35                  488                604         real  \n",
       "1                3                   35                  6         real  \n",
       "2              319                  328                668         real  \n",
       "3              273                14890               7369         real  \n",
       "4                6                  225                356         real  "
      ]
     },
     "execution_count": 67,
     "metadata": {},
     "output_type": "execute_result"
    }
   ],
   "source": [
    "df.head()"
   ]
  },
  {
   "cell_type": "code",
   "execution_count": 68,
   "id": "bb0d4a76",
   "metadata": {},
   "outputs": [
    {
     "data": {
      "text/html": [
       "<div>\n",
       "<style scoped>\n",
       "    .dataframe tbody tr th:only-of-type {\n",
       "        vertical-align: middle;\n",
       "    }\n",
       "\n",
       "    .dataframe tbody tr th {\n",
       "        vertical-align: top;\n",
       "    }\n",
       "\n",
       "    .dataframe thead th {\n",
       "        text-align: right;\n",
       "    }\n",
       "</style>\n",
       "<table border=\"1\" class=\"dataframe\">\n",
       "  <thead>\n",
       "    <tr style=\"text-align: right;\">\n",
       "      <th></th>\n",
       "      <th>has_a_profile_pic</th>\n",
       "      <th>number_of_words_in_name</th>\n",
       "      <th>num_characters_in_bio</th>\n",
       "      <th>number_of_posts</th>\n",
       "      <th>number_of_followers</th>\n",
       "      <th>number_of_follows</th>\n",
       "      <th>account_type</th>\n",
       "    </tr>\n",
       "  </thead>\n",
       "  <tbody>\n",
       "    <tr>\n",
       "      <th>0</th>\n",
       "      <td>yes</td>\n",
       "      <td>1</td>\n",
       "      <td>30</td>\n",
       "      <td>35</td>\n",
       "      <td>488</td>\n",
       "      <td>604</td>\n",
       "      <td>real</td>\n",
       "    </tr>\n",
       "    <tr>\n",
       "      <th>1</th>\n",
       "      <td>yes</td>\n",
       "      <td>5</td>\n",
       "      <td>64</td>\n",
       "      <td>3</td>\n",
       "      <td>35</td>\n",
       "      <td>6</td>\n",
       "      <td>real</td>\n",
       "    </tr>\n",
       "    <tr>\n",
       "      <th>2</th>\n",
       "      <td>yes</td>\n",
       "      <td>2</td>\n",
       "      <td>82</td>\n",
       "      <td>319</td>\n",
       "      <td>328</td>\n",
       "      <td>668</td>\n",
       "      <td>real</td>\n",
       "    </tr>\n",
       "    <tr>\n",
       "      <th>3</th>\n",
       "      <td>yes</td>\n",
       "      <td>1</td>\n",
       "      <td>143</td>\n",
       "      <td>273</td>\n",
       "      <td>14890</td>\n",
       "      <td>7369</td>\n",
       "      <td>real</td>\n",
       "    </tr>\n",
       "    <tr>\n",
       "      <th>4</th>\n",
       "      <td>yes</td>\n",
       "      <td>1</td>\n",
       "      <td>76</td>\n",
       "      <td>6</td>\n",
       "      <td>225</td>\n",
       "      <td>356</td>\n",
       "      <td>real</td>\n",
       "    </tr>\n",
       "    <tr>\n",
       "      <th>5</th>\n",
       "      <td>yes</td>\n",
       "      <td>1</td>\n",
       "      <td>0</td>\n",
       "      <td>6</td>\n",
       "      <td>362</td>\n",
       "      <td>424</td>\n",
       "      <td>real</td>\n",
       "    </tr>\n",
       "    <tr>\n",
       "      <th>6</th>\n",
       "      <td>yes</td>\n",
       "      <td>1</td>\n",
       "      <td>132</td>\n",
       "      <td>9</td>\n",
       "      <td>213</td>\n",
       "      <td>254</td>\n",
       "      <td>real</td>\n",
       "    </tr>\n",
       "    <tr>\n",
       "      <th>7</th>\n",
       "      <td>yes</td>\n",
       "      <td>2</td>\n",
       "      <td>0</td>\n",
       "      <td>19</td>\n",
       "      <td>552</td>\n",
       "      <td>521</td>\n",
       "      <td>real</td>\n",
       "    </tr>\n",
       "    <tr>\n",
       "      <th>8</th>\n",
       "      <td>yes</td>\n",
       "      <td>2</td>\n",
       "      <td>96</td>\n",
       "      <td>17</td>\n",
       "      <td>122</td>\n",
       "      <td>143</td>\n",
       "      <td>real</td>\n",
       "    </tr>\n",
       "    <tr>\n",
       "      <th>9</th>\n",
       "      <td>yes</td>\n",
       "      <td>1</td>\n",
       "      <td>78</td>\n",
       "      <td>9</td>\n",
       "      <td>834</td>\n",
       "      <td>358</td>\n",
       "      <td>real</td>\n",
       "    </tr>\n",
       "    <tr>\n",
       "      <th>10</th>\n",
       "      <td>yes</td>\n",
       "      <td>1</td>\n",
       "      <td>0</td>\n",
       "      <td>53</td>\n",
       "      <td>229</td>\n",
       "      <td>492</td>\n",
       "      <td>real</td>\n",
       "    </tr>\n",
       "    <tr>\n",
       "      <th>11</th>\n",
       "      <td>yes</td>\n",
       "      <td>1</td>\n",
       "      <td>78</td>\n",
       "      <td>97</td>\n",
       "      <td>1913</td>\n",
       "      <td>436</td>\n",
       "      <td>real</td>\n",
       "    </tr>\n",
       "  </tbody>\n",
       "</table>\n",
       "</div>"
      ],
      "text/plain": [
       "   has_a_profile_pic  number_of_words_in_name  num_characters_in_bio  \\\n",
       "0                yes                        1                     30   \n",
       "1                yes                        5                     64   \n",
       "2                yes                        2                     82   \n",
       "3                yes                        1                    143   \n",
       "4                yes                        1                     76   \n",
       "5                yes                        1                      0   \n",
       "6                yes                        1                    132   \n",
       "7                yes                        2                      0   \n",
       "8                yes                        2                     96   \n",
       "9                yes                        1                     78   \n",
       "10               yes                        1                      0   \n",
       "11               yes                        1                     78   \n",
       "\n",
       "    number_of_posts  number_of_followers  number_of_follows account_type  \n",
       "0                35                  488                604         real  \n",
       "1                 3                   35                  6         real  \n",
       "2               319                  328                668         real  \n",
       "3               273                14890               7369         real  \n",
       "4                 6                  225                356         real  \n",
       "5                 6                  362                424         real  \n",
       "6                 9                  213                254         real  \n",
       "7                19                  552                521         real  \n",
       "8                17                  122                143         real  \n",
       "9                 9                  834                358         real  \n",
       "10               53                  229                492         real  \n",
       "11               97                 1913                436         real  "
      ]
     },
     "execution_count": 68,
     "metadata": {},
     "output_type": "execute_result"
    }
   ],
   "source": [
    "df.head(12)"
   ]
  },
  {
   "cell_type": "markdown",
   "id": "9f348953",
   "metadata": {},
   "source": [
    "The result of `head()` is still a dataframe."
   ]
  },
  {
   "cell_type": "code",
   "execution_count": 69,
   "id": "113b7346",
   "metadata": {},
   "outputs": [
    {
     "data": {
      "text/plain": [
       "pandas.core.frame.DataFrame"
      ]
     },
     "execution_count": 69,
     "metadata": {},
     "output_type": "execute_result"
    }
   ],
   "source": [
    "type(df.head(12))"
   ]
  },
  {
   "cell_type": "markdown",
   "id": "1697811e",
   "metadata": {},
   "source": [
    "### 2.2. Understanding Rows & Columns\n",
    "\n",
    "How many rows and columns are there in the data frame?  The <b> `shape`</b> attribute gives us this information."
   ]
  },
  {
   "cell_type": "code",
   "execution_count": 70,
   "id": "49f1b493",
   "metadata": {},
   "outputs": [
    {
     "data": {
      "text/plain": [
       "(120, 7)"
      ]
     },
     "execution_count": 70,
     "metadata": {},
     "output_type": "execute_result"
    }
   ],
   "source": [
    "df.shape"
   ]
  },
  {
   "cell_type": "markdown",
   "id": "792e7f4b",
   "metadata": {},
   "source": [
    "What type of object did we just create?"
   ]
  },
  {
   "cell_type": "code",
   "execution_count": 71,
   "id": "d287d773",
   "metadata": {},
   "outputs": [
    {
     "data": {
      "text/plain": [
       "tuple"
      ]
     },
     "execution_count": 71,
     "metadata": {},
     "output_type": "execute_result"
    }
   ],
   "source": [
    "type(df.shape)"
   ]
  },
  {
   "cell_type": "markdown",
   "id": "6ac4efb3",
   "metadata": {},
   "source": [
    "This tells us that there are 120 rows (observations) and 7 columns (variables) in the dataset.  \n",
    "\n",
    "When we were previewing the data, we see that some of the middle columns were skipped, specifically in the printed version of the data.  \n",
    "\n",
    "We can extract the variables in the dataframe using pandas."
   ]
  },
  {
   "cell_type": "code",
   "execution_count": 72,
   "id": "b860f481",
   "metadata": {},
   "outputs": [
    {
     "name": "stdout",
     "output_type": "stream",
     "text": [
      "['has_a_profile_pic' 'number_of_words_in_name' 'num_characters_in_bio'\n",
      " 'number_of_posts' 'number_of_followers' 'number_of_follows'\n",
      " 'account_type']\n"
     ]
    }
   ],
   "source": [
    "print(df.columns.values)"
   ]
  },
  {
   "cell_type": "markdown",
   "id": "af4fd6a7",
   "metadata": {},
   "source": [
    "What type of object did we just print?"
   ]
  },
  {
   "cell_type": "code",
   "execution_count": 73,
   "id": "421b4d29",
   "metadata": {},
   "outputs": [
    {
     "data": {
      "text/plain": [
       "numpy.ndarray"
      ]
     },
     "execution_count": 73,
     "metadata": {},
     "output_type": "execute_result"
    }
   ],
   "source": [
    "type(df.columns.values)"
   ]
  },
  {
   "cell_type": "markdown",
   "id": "8e029e89",
   "metadata": {},
   "source": [
    "We can also view the column labels & row labels of the dataframe."
   ]
  },
  {
   "cell_type": "code",
   "execution_count": 74,
   "id": "de2a03dd",
   "metadata": {},
   "outputs": [
    {
     "data": {
      "text/plain": [
       "Index(['has_a_profile_pic', 'number_of_words_in_name', 'num_characters_in_bio',\n",
       "       'number_of_posts', 'number_of_followers', 'number_of_follows',\n",
       "       'account_type'],\n",
       "      dtype='object')"
      ]
     },
     "execution_count": 74,
     "metadata": {},
     "output_type": "execute_result"
    }
   ],
   "source": [
    "df.columns"
   ]
  },
  {
   "cell_type": "code",
   "execution_count": 75,
   "id": "62c1c6be",
   "metadata": {},
   "outputs": [
    {
     "data": {
      "text/plain": [
       "pandas.core.indexes.base.Index"
      ]
     },
     "execution_count": 75,
     "metadata": {},
     "output_type": "execute_result"
    }
   ],
   "source": [
    "type(df.columns)"
   ]
  },
  {
   "cell_type": "code",
   "execution_count": 76,
   "id": "18d76a33",
   "metadata": {},
   "outputs": [
    {
     "data": {
      "text/plain": [
       "RangeIndex(start=0, stop=120, step=1)"
      ]
     },
     "execution_count": 76,
     "metadata": {},
     "output_type": "execute_result"
    }
   ],
   "source": [
    "df.index"
   ]
  },
  {
   "cell_type": "code",
   "execution_count": 77,
   "id": "98a93ee2",
   "metadata": {},
   "outputs": [
    {
     "data": {
      "text/plain": [
       "pandas.core.indexes.range.RangeIndex"
      ]
     },
     "execution_count": 77,
     "metadata": {},
     "output_type": "execute_result"
    }
   ],
   "source": [
    "type(df.index)"
   ]
  },
  {
   "cell_type": "markdown",
   "id": "e0861c87",
   "metadata": {},
   "source": [
    "In this case, our row labels are not the most informative.  \n",
    "\n",
    "Looking at our variables in the dataframe, it seems reasonable that each row corresponds to an Instagram account/profile.  An observational unit is an Instagram account."
   ]
  },
  {
   "cell_type": "markdown",
   "id": "1be328e0",
   "metadata": {},
   "source": [
    "Now, let's inspect what types of objects are contained in each of the variables in the dataframe."
   ]
  },
  {
   "cell_type": "code",
   "execution_count": 78,
   "id": "127f25d5",
   "metadata": {},
   "outputs": [
    {
     "data": {
      "text/plain": [
       "has_a_profile_pic          object\n",
       "number_of_words_in_name     int64\n",
       "num_characters_in_bio       int64\n",
       "number_of_posts             int64\n",
       "number_of_followers         int64\n",
       "number_of_follows           int64\n",
       "account_type               object\n",
       "dtype: object"
      ]
     },
     "execution_count": 78,
     "metadata": {},
     "output_type": "execute_result"
    }
   ],
   "source": [
    "df.dtypes"
   ]
  },
  {
   "cell_type": "markdown",
   "id": "b26ef7cf",
   "metadata": {},
   "source": [
    "The `has_a_profile_pic` and the `account_type` columns in df are comprised of 'object' data type observations.  The other columns are comprise of 'int64' data type observations.\n",
    "\n",
    "Looking back at the first few rows of our dataframe, we can understand better what these mean."
   ]
  },
  {
   "cell_type": "code",
   "execution_count": 79,
   "id": "2a2a4109",
   "metadata": {},
   "outputs": [
    {
     "data": {
      "text/html": [
       "<div>\n",
       "<style scoped>\n",
       "    .dataframe tbody tr th:only-of-type {\n",
       "        vertical-align: middle;\n",
       "    }\n",
       "\n",
       "    .dataframe tbody tr th {\n",
       "        vertical-align: top;\n",
       "    }\n",
       "\n",
       "    .dataframe thead th {\n",
       "        text-align: right;\n",
       "    }\n",
       "</style>\n",
       "<table border=\"1\" class=\"dataframe\">\n",
       "  <thead>\n",
       "    <tr style=\"text-align: right;\">\n",
       "      <th></th>\n",
       "      <th>has_a_profile_pic</th>\n",
       "      <th>number_of_words_in_name</th>\n",
       "      <th>num_characters_in_bio</th>\n",
       "      <th>number_of_posts</th>\n",
       "      <th>number_of_followers</th>\n",
       "      <th>number_of_follows</th>\n",
       "      <th>account_type</th>\n",
       "    </tr>\n",
       "  </thead>\n",
       "  <tbody>\n",
       "    <tr>\n",
       "      <th>0</th>\n",
       "      <td>yes</td>\n",
       "      <td>1</td>\n",
       "      <td>30</td>\n",
       "      <td>35</td>\n",
       "      <td>488</td>\n",
       "      <td>604</td>\n",
       "      <td>real</td>\n",
       "    </tr>\n",
       "    <tr>\n",
       "      <th>1</th>\n",
       "      <td>yes</td>\n",
       "      <td>5</td>\n",
       "      <td>64</td>\n",
       "      <td>3</td>\n",
       "      <td>35</td>\n",
       "      <td>6</td>\n",
       "      <td>real</td>\n",
       "    </tr>\n",
       "    <tr>\n",
       "      <th>2</th>\n",
       "      <td>yes</td>\n",
       "      <td>2</td>\n",
       "      <td>82</td>\n",
       "      <td>319</td>\n",
       "      <td>328</td>\n",
       "      <td>668</td>\n",
       "      <td>real</td>\n",
       "    </tr>\n",
       "    <tr>\n",
       "      <th>3</th>\n",
       "      <td>yes</td>\n",
       "      <td>1</td>\n",
       "      <td>143</td>\n",
       "      <td>273</td>\n",
       "      <td>14890</td>\n",
       "      <td>7369</td>\n",
       "      <td>real</td>\n",
       "    </tr>\n",
       "    <tr>\n",
       "      <th>4</th>\n",
       "      <td>yes</td>\n",
       "      <td>1</td>\n",
       "      <td>76</td>\n",
       "      <td>6</td>\n",
       "      <td>225</td>\n",
       "      <td>356</td>\n",
       "      <td>real</td>\n",
       "    </tr>\n",
       "  </tbody>\n",
       "</table>\n",
       "</div>"
      ],
      "text/plain": [
       "  has_a_profile_pic  number_of_words_in_name  num_characters_in_bio  \\\n",
       "0               yes                        1                     30   \n",
       "1               yes                        5                     64   \n",
       "2               yes                        2                     82   \n",
       "3               yes                        1                    143   \n",
       "4               yes                        1                     76   \n",
       "\n",
       "   number_of_posts  number_of_followers  number_of_follows account_type  \n",
       "0               35                  488                604         real  \n",
       "1                3                   35                  6         real  \n",
       "2              319                  328                668         real  \n",
       "3              273                14890               7369         real  \n",
       "4                6                  225                356         real  "
      ]
     },
     "execution_count": 79,
     "metadata": {},
     "output_type": "execute_result"
    }
   ],
   "source": [
    "df.head()"
   ]
  },
  {
   "cell_type": "markdown",
   "id": "30446217",
   "metadata": {},
   "source": [
    "## 3. Summary Statistics for a Categorical Variable\n",
    "\n",
    "Suppose that we'd like to analyze a categorical variable.  We'll look at the `has_a_profile_pic` variable in the Instagram dataframe.\n",
    "\n",
    "### 3.1. Isolating a Variable\n",
    "\n",
    "We can isolate a single column from the dataframe using brackets after the name of the dataframe and including the name of the column we would like to isolate."
   ]
  },
  {
   "cell_type": "code",
   "execution_count": 80,
   "id": "4fa4a42d",
   "metadata": {},
   "outputs": [
    {
     "data": {
      "text/plain": [
       "0      yes\n",
       "1      yes\n",
       "2      yes\n",
       "3      yes\n",
       "4      yes\n",
       "      ... \n",
       "115    yes\n",
       "116    yes\n",
       "117    yes\n",
       "118     no\n",
       "119    yes\n",
       "Name: has_a_profile_pic, Length: 120, dtype: object"
      ]
     },
     "execution_count": 80,
     "metadata": {},
     "output_type": "execute_result"
    }
   ],
   "source": [
    "df['has_a_profile_pic']"
   ]
  },
  {
   "cell_type": "markdown",
   "id": "25496019",
   "metadata": {},
   "source": [
    "What type of object is this column?"
   ]
  },
  {
   "cell_type": "code",
   "execution_count": 81,
   "id": "cc1a57bb",
   "metadata": {},
   "outputs": [
    {
     "data": {
      "text/plain": [
       "pandas.core.series.Series"
      ]
     },
     "execution_count": 81,
     "metadata": {},
     "output_type": "execute_result"
    }
   ],
   "source": [
    "type(df['has_a_profile_pic'])"
   ]
  },
  {
   "cell_type": "markdown",
   "id": "d3cf1579",
   "metadata": {},
   "source": [
    "The single column that we have isolated from df is a <b>pandas series</b> object.  We can think of this as a dataframe with just one column.\n",
    "\n",
    "### 3.2. Count Calculation\n",
    "\n",
    "We can then summarize this variable by counting the number of observations at each level.  We do this with the pandas function <b>`.value_counts()`</b>."
   ]
  },
  {
   "cell_type": "code",
   "execution_count": 82,
   "id": "de4ab863",
   "metadata": {},
   "outputs": [
    {
     "data": {
      "text/plain": [
       "yes    91\n",
       "no     29\n",
       "Name: has_a_profile_pic, dtype: int64"
      ]
     },
     "execution_count": 82,
     "metadata": {},
     "output_type": "execute_result"
    }
   ],
   "source": [
    "df['has_a_profile_pic'].value_counts()"
   ]
  },
  {
   "cell_type": "code",
   "execution_count": 83,
   "id": "d6f64fd2",
   "metadata": {},
   "outputs": [
    {
     "data": {
      "text/plain": [
       "pandas.core.series.Series"
      ]
     },
     "execution_count": 83,
     "metadata": {},
     "output_type": "execute_result"
    }
   ],
   "source": [
    "type(df['has_a_profile_pic'].value_counts())"
   ]
  },
  {
   "cell_type": "code",
   "execution_count": 84,
   "id": "8f190b3a",
   "metadata": {},
   "outputs": [
    {
     "data": {
      "text/plain": [
       "(120,)"
      ]
     },
     "execution_count": 84,
     "metadata": {},
     "output_type": "execute_result"
    }
   ],
   "source": [
    "df['has_a_profile_pic'].shape"
   ]
  },
  {
   "cell_type": "markdown",
   "id": "f5a5aa07",
   "metadata": {},
   "source": [
    "The isolated column is now a series with only one column.  Notice how this affects the results of the `shape` attribute.\n",
    "\n",
    "### 3.3. Percentage/Proportion Calculation\n",
    "\n",
    "Most <b>functions</b> in Python have a series of <b>parameters</b> that can be set within the function.\n",
    "\n",
    "- Some parameters in a given function do not need to be specified.  In this case, the function uses the 'defaul' value prescribed for that parameter.  You can always Google a Python function and read the documentation created for that function to determine what the default value is for eadh parameter.\n",
    "- Some parameters in a given function do need to be specified.  If you do not specify it, Python will throw you an error.\n",
    "\n",
    "By setting the <b>normalize</b> parameter equal to True in the <b>`.value_counts()`</b> function, we can calculate percentages/proportions instead of counts."
   ]
  },
  {
   "cell_type": "code",
   "execution_count": 85,
   "id": "66a3e9eb",
   "metadata": {},
   "outputs": [
    {
     "data": {
      "text/plain": [
       "yes    0.758333\n",
       "no     0.241667\n",
       "Name: has_a_profile_pic, dtype: float64"
      ]
     },
     "execution_count": 85,
     "metadata": {},
     "output_type": "execute_result"
    }
   ],
   "source": [
    "df['has_a_profile_pic'].value_counts(normalize=True)"
   ]
  },
  {
   "cell_type": "code",
   "execution_count": 86,
   "id": "b065ecc6",
   "metadata": {},
   "outputs": [
    {
     "data": {
      "text/plain": [
       "bool"
      ]
     },
     "execution_count": 86,
     "metadata": {},
     "output_type": "execute_result"
    }
   ],
   "source": [
    "type(True)"
   ]
  },
  {
   "cell_type": "code",
   "execution_count": 87,
   "id": "9e6f6822",
   "metadata": {},
   "outputs": [
    {
     "data": {
      "text/plain": [
       "bool"
      ]
     },
     "execution_count": 87,
     "metadata": {},
     "output_type": "execute_result"
    }
   ],
   "source": [
    "type(False)"
   ]
  },
  {
   "cell_type": "markdown",
   "id": "f0d67b6f",
   "metadata": {},
   "source": [
    "The True & False that we use in Python and saw for the normalize parameter are Booleans."
   ]
  },
  {
   "cell_type": "markdown",
   "id": "f12e98bd",
   "metadata": {},
   "source": [
    "## 4. Visualizating a Categorical Variable\n",
    "\n",
    "In order to visualize the data, we import two graphics modules that we will use frequently throughout the course:\n",
    "\n",
    "- <b>matplotlib.pyplot</b> - Basic python graphics functions\n",
    "- <b>seaborn</b> - Enhanced graphics functions with additional styles and capabilities"
   ]
  },
  {
   "cell_type": "code",
   "execution_count": 88,
   "id": "97a6c3bd",
   "metadata": {},
   "outputs": [],
   "source": [
    "import matplotlib.pyplot as plt   # basic graphing package\n",
    "import seaborn as sns; sns.set()  # enhanced graphic package"
   ]
  },
  {
   "cell_type": "markdown",
   "id": "fddb4b03",
   "metadata": {},
   "source": [
    "We can create barplots or bar graphs of a categorical variable using seaborn (abbreviated as sns).  We can choose whether to use the counts or the proportions.\n",
    "\n",
    "First, we create a new series with the summary measures from 3 above.  We can assign (save) this to a named object, as below."
   ]
  },
  {
   "cell_type": "code",
   "execution_count": 89,
   "id": "a14aa6af",
   "metadata": {},
   "outputs": [
    {
     "data": {
      "text/plain": [
       "(2,)"
      ]
     },
     "metadata": {},
     "output_type": "display_data"
    },
    {
     "data": {
      "text/plain": [
       "yes    91\n",
       "no     29\n",
       "Name: has_a_profile_pic, dtype: int64"
      ]
     },
     "metadata": {},
     "output_type": "display_data"
    }
   ],
   "source": [
    "has_pic_counts = df['has_a_profile_pic'].value_counts()\n",
    "display(has_pic_counts.shape, has_pic_counts)"
   ]
  },
  {
   "cell_type": "code",
   "execution_count": 90,
   "id": "db25bfe4",
   "metadata": {},
   "outputs": [
    {
     "data": {
      "image/png": "[encoded data removed]",
      "text/plain": [
       "<Figure size 640x480 with 1 Axes>"
      ]
     },
     "metadata": {},
     "output_type": "display_data"
    }
   ],
   "source": [
    "sns.barplot(x = has_pic_counts.index, y = has_pic_counts)\n",
    "plt.title('Has a profile picture?')\n",
    "plt.ylabel('Frequency')\n",
    "plt.show()"
   ]
  },
  {
   "cell_type": "code",
   "execution_count": 91,
   "id": "7f931989",
   "metadata": {},
   "outputs": [
    {
     "data": {
      "text/plain": [
       "(2,)"
      ]
     },
     "metadata": {},
     "output_type": "display_data"
    },
    {
     "data": {
      "text/plain": [
       "yes    0.758333\n",
       "no     0.241667\n",
       "Name: has_a_profile_pic, dtype: float64"
      ]
     },
     "metadata": {},
     "output_type": "display_data"
    }
   ],
   "source": [
    "has_pic_counts_perc = df['has_a_profile_pic'].value_counts(normalize=True)\n",
    "display(has_pic_counts_perc.shape, has_pic_counts_perc)"
   ]
  },
  {
   "cell_type": "code",
   "execution_count": 92,
   "id": "d4f3e388",
   "metadata": {},
   "outputs": [
    {
     "data": {
      "image/png": "[encoded data removed]",
      "text/plain": [
       "<Figure size 640x480 with 1 Axes>"
      ]
     },
     "metadata": {},
     "output_type": "display_data"
    }
   ],
   "source": [
    "sns.barplot(x = has_pic_counts_perc.index, y = has_pic_counts_perc)\n",
    "plt.xlabel('Has a profile picture?')\n",
    "plt.ylabel('Frequency')\n",
    "plt.title('Has a profile picture?')\n",
    "plt.show()"
   ]
  },
  {
   "cell_type": "markdown",
   "id": "8d19772a",
   "metadata": {},
   "source": [
    "## 5. Summary Statistics for Two Categorical Variables\n",
    "\n",
    "While we may sometimes want to describe a single variable, we often would like to describe the relationship between two variables.  \n",
    "\n",
    "How do the frequencies and relative frequencies of having/not having a profile picture (variable 1) vary based on whether the Instagram account is fake or not (variable 2)?  Let's look at the <b>cross-tabulation</b> of the two variables.\n",
    "\n",
    "### 5.1. Count Calculation\n",
    "\n",
    "Now, we can't simply count for one variable.  Instead, we need to count the number of observations at each combination of level types for the categorical variables.  We can do this with the <b>`crosstab`</b> function."
   ]
  },
  {
   "cell_type": "code",
   "execution_count": 93,
   "id": "59145eb3",
   "metadata": {},
   "outputs": [
    {
     "data": {
      "text/html": [
       "<div>\n",
       "<style scoped>\n",
       "    .dataframe tbody tr th:only-of-type {\n",
       "        vertical-align: middle;\n",
       "    }\n",
       "\n",
       "    .dataframe tbody tr th {\n",
       "        vertical-align: top;\n",
       "    }\n",
       "\n",
       "    .dataframe thead th {\n",
       "        text-align: right;\n",
       "    }\n",
       "</style>\n",
       "<table border=\"1\" class=\"dataframe\">\n",
       "  <thead>\n",
       "    <tr style=\"text-align: right;\">\n",
       "      <th>has_a_profile_pic</th>\n",
       "      <th>no</th>\n",
       "      <th>yes</th>\n",
       "    </tr>\n",
       "    <tr>\n",
       "      <th>account_type</th>\n",
       "      <th></th>\n",
       "      <th></th>\n",
       "    </tr>\n",
       "  </thead>\n",
       "  <tbody>\n",
       "    <tr>\n",
       "      <th>fake</th>\n",
       "      <td>29</td>\n",
       "      <td>31</td>\n",
       "    </tr>\n",
       "    <tr>\n",
       "      <th>real</th>\n",
       "      <td>0</td>\n",
       "      <td>60</td>\n",
       "    </tr>\n",
       "  </tbody>\n",
       "</table>\n",
       "</div>"
      ],
      "text/plain": [
       "has_a_profile_pic  no  yes\n",
       "account_type              \n",
       "fake               29   31\n",
       "real                0   60"
      ]
     },
     "execution_count": 93,
     "metadata": {},
     "output_type": "execute_result"
    }
   ],
   "source": [
    "pd.crosstab(df['account_type'], df['has_a_profile_pic'])"
   ]
  },
  {
   "cell_type": "code",
   "execution_count": 94,
   "id": "445951c4",
   "metadata": {},
   "outputs": [
    {
     "data": {
      "text/html": [
       "<div>\n",
       "<style scoped>\n",
       "    .dataframe tbody tr th:only-of-type {\n",
       "        vertical-align: middle;\n",
       "    }\n",
       "\n",
       "    .dataframe tbody tr th {\n",
       "        vertical-align: top;\n",
       "    }\n",
       "\n",
       "    .dataframe thead th {\n",
       "        text-align: right;\n",
       "    }\n",
       "</style>\n",
       "<table border=\"1\" class=\"dataframe\">\n",
       "  <thead>\n",
       "    <tr style=\"text-align: right;\">\n",
       "      <th>account_type</th>\n",
       "      <th>fake</th>\n",
       "      <th>real</th>\n",
       "    </tr>\n",
       "    <tr>\n",
       "      <th>has_a_profile_pic</th>\n",
       "      <th></th>\n",
       "      <th></th>\n",
       "    </tr>\n",
       "  </thead>\n",
       "  <tbody>\n",
       "    <tr>\n",
       "      <th>no</th>\n",
       "      <td>29</td>\n",
       "      <td>0</td>\n",
       "    </tr>\n",
       "    <tr>\n",
       "      <th>yes</th>\n",
       "      <td>31</td>\n",
       "      <td>60</td>\n",
       "    </tr>\n",
       "  </tbody>\n",
       "</table>\n",
       "</div>"
      ],
      "text/plain": [
       "account_type       fake  real\n",
       "has_a_profile_pic            \n",
       "no                   29     0\n",
       "yes                  31    60"
      ]
     },
     "execution_count": 94,
     "metadata": {},
     "output_type": "execute_result"
    }
   ],
   "source": [
    "pd.crosstab(df['has_a_profile_pic'], df['account_type'])"
   ]
  },
  {
   "cell_type": "code",
   "execution_count": 95,
   "id": "66ace0d3",
   "metadata": {},
   "outputs": [
    {
     "data": {
      "text/html": [
       "<div>\n",
       "<style scoped>\n",
       "    .dataframe tbody tr th:only-of-type {\n",
       "        vertical-align: middle;\n",
       "    }\n",
       "\n",
       "    .dataframe tbody tr th {\n",
       "        vertical-align: top;\n",
       "    }\n",
       "\n",
       "    .dataframe thead th {\n",
       "        text-align: right;\n",
       "    }\n",
       "</style>\n",
       "<table border=\"1\" class=\"dataframe\">\n",
       "  <thead>\n",
       "    <tr style=\"text-align: right;\">\n",
       "      <th>has_a_profile_pic</th>\n",
       "      <th>no</th>\n",
       "      <th>yes</th>\n",
       "    </tr>\n",
       "    <tr>\n",
       "      <th>account_type</th>\n",
       "      <th></th>\n",
       "      <th></th>\n",
       "    </tr>\n",
       "  </thead>\n",
       "  <tbody>\n",
       "    <tr>\n",
       "      <th>fake</th>\n",
       "      <td>29.0</td>\n",
       "      <td>31.0</td>\n",
       "    </tr>\n",
       "    <tr>\n",
       "      <th>real</th>\n",
       "      <td>NaN</td>\n",
       "      <td>60.0</td>\n",
       "    </tr>\n",
       "  </tbody>\n",
       "</table>\n",
       "</div>"
      ],
      "text/plain": [
       "has_a_profile_pic    no   yes\n",
       "account_type                 \n",
       "fake               29.0  31.0\n",
       "real                NaN  60.0"
      ]
     },
     "execution_count": 95,
     "metadata": {},
     "output_type": "execute_result"
    }
   ],
   "source": [
    "#This can also be realized with pivot table\n",
    "pd.pivot_table(df,index = 'account_type',values= 'number_of_follows' ,columns = 'has_a_profile_pic',aggfunc = 'count')"
   ]
  },
  {
   "cell_type": "markdown",
   "id": "04bd7b6a",
   "metadata": {},
   "source": [
    "### 5.2. Percentage Calculation\n",
    "\n",
    "First, we might be interested in calculating the proportion of all respondents that fall into each combination as performed below."
   ]
  },
  {
   "cell_type": "code",
   "execution_count": 96,
   "id": "b3f8432f",
   "metadata": {},
   "outputs": [
    {
     "data": {
      "text/html": [
       "<div>\n",
       "<style scoped>\n",
       "    .dataframe tbody tr th:only-of-type {\n",
       "        vertical-align: middle;\n",
       "    }\n",
       "\n",
       "    .dataframe tbody tr th {\n",
       "        vertical-align: top;\n",
       "    }\n",
       "\n",
       "    .dataframe thead th {\n",
       "        text-align: right;\n",
       "    }\n",
       "</style>\n",
       "<table border=\"1\" class=\"dataframe\">\n",
       "  <thead>\n",
       "    <tr style=\"text-align: right;\">\n",
       "      <th>account_type</th>\n",
       "      <th>fake</th>\n",
       "      <th>real</th>\n",
       "    </tr>\n",
       "    <tr>\n",
       "      <th>has_a_profile_pic</th>\n",
       "      <th></th>\n",
       "      <th></th>\n",
       "    </tr>\n",
       "  </thead>\n",
       "  <tbody>\n",
       "    <tr>\n",
       "      <th>no</th>\n",
       "      <td>0.241667</td>\n",
       "      <td>0.0</td>\n",
       "    </tr>\n",
       "    <tr>\n",
       "      <th>yes</th>\n",
       "      <td>0.258333</td>\n",
       "      <td>0.5</td>\n",
       "    </tr>\n",
       "  </tbody>\n",
       "</table>\n",
       "</div>"
      ],
      "text/plain": [
       "account_type           fake  real\n",
       "has_a_profile_pic                \n",
       "no                 0.241667   0.0\n",
       "yes                0.258333   0.5"
      ]
     },
     "execution_count": 96,
     "metadata": {},
     "output_type": "execute_result"
    }
   ],
   "source": [
    "pd.crosstab(df['has_a_profile_pic'], df['account_type'], normalize=True)"
   ]
  },
  {
   "cell_type": "markdown",
   "id": "8928d742",
   "metadata": {},
   "source": [
    "Often, we might be interested in a more nuanced calculation.  We might want to split our data for the levels of one variable, and then look at the percentage distribution of the other variable.\n",
    "\n",
    "For example, what percent of fake accounts have (or conversely don't have) a profile picture?  What percent of real accounts have a profile picture?"
   ]
  },
  {
   "cell_type": "code",
   "execution_count": 97,
   "id": "d88951ef",
   "metadata": {},
   "outputs": [
    {
     "data": {
      "text/html": [
       "<div>\n",
       "<style scoped>\n",
       "    .dataframe tbody tr th:only-of-type {\n",
       "        vertical-align: middle;\n",
       "    }\n",
       "\n",
       "    .dataframe tbody tr th {\n",
       "        vertical-align: top;\n",
       "    }\n",
       "\n",
       "    .dataframe thead th {\n",
       "        text-align: right;\n",
       "    }\n",
       "</style>\n",
       "<table border=\"1\" class=\"dataframe\">\n",
       "  <thead>\n",
       "    <tr style=\"text-align: right;\">\n",
       "      <th>has_a_profile_pic</th>\n",
       "      <th>no</th>\n",
       "      <th>yes</th>\n",
       "    </tr>\n",
       "    <tr>\n",
       "      <th>account_type</th>\n",
       "      <th></th>\n",
       "      <th></th>\n",
       "    </tr>\n",
       "  </thead>\n",
       "  <tbody>\n",
       "    <tr>\n",
       "      <th>fake</th>\n",
       "      <td>0.483333</td>\n",
       "      <td>0.516667</td>\n",
       "    </tr>\n",
       "    <tr>\n",
       "      <th>real</th>\n",
       "      <td>0.000000</td>\n",
       "      <td>1.000000</td>\n",
       "    </tr>\n",
       "  </tbody>\n",
       "</table>\n",
       "</div>"
      ],
      "text/plain": [
       "has_a_profile_pic        no       yes\n",
       "account_type                         \n",
       "fake               0.483333  0.516667\n",
       "real               0.000000  1.000000"
      ]
     },
     "execution_count": 97,
     "metadata": {},
     "output_type": "execute_result"
    }
   ],
   "source": [
    "pd.crosstab(df['account_type'], df['has_a_profile_pic'], normalize='index')"
   ]
  },
  {
   "cell_type": "markdown",
   "id": "c71d3fd2",
   "metadata": {},
   "source": [
    "What percent of accounts with a profile picture are real (or conversely fake)?  What percent of accounts without a profile picture are real?"
   ]
  },
  {
   "cell_type": "code",
   "execution_count": 98,
   "id": "b372b0d2",
   "metadata": {},
   "outputs": [
    {
     "data": {
      "text/html": [
       "<div>\n",
       "<style scoped>\n",
       "    .dataframe tbody tr th:only-of-type {\n",
       "        vertical-align: middle;\n",
       "    }\n",
       "\n",
       "    .dataframe tbody tr th {\n",
       "        vertical-align: top;\n",
       "    }\n",
       "\n",
       "    .dataframe thead th {\n",
       "        text-align: right;\n",
       "    }\n",
       "</style>\n",
       "<table border=\"1\" class=\"dataframe\">\n",
       "  <thead>\n",
       "    <tr style=\"text-align: right;\">\n",
       "      <th>account_type</th>\n",
       "      <th>fake</th>\n",
       "      <th>real</th>\n",
       "    </tr>\n",
       "    <tr>\n",
       "      <th>has_a_profile_pic</th>\n",
       "      <th></th>\n",
       "      <th></th>\n",
       "    </tr>\n",
       "  </thead>\n",
       "  <tbody>\n",
       "    <tr>\n",
       "      <th>no</th>\n",
       "      <td>1.000000</td>\n",
       "      <td>0.000000</td>\n",
       "    </tr>\n",
       "    <tr>\n",
       "      <th>yes</th>\n",
       "      <td>0.340659</td>\n",
       "      <td>0.659341</td>\n",
       "    </tr>\n",
       "  </tbody>\n",
       "</table>\n",
       "</div>"
      ],
      "text/plain": [
       "account_type           fake      real\n",
       "has_a_profile_pic                    \n",
       "no                 1.000000  0.000000\n",
       "yes                0.340659  0.659341"
      ]
     },
     "execution_count": 98,
     "metadata": {},
     "output_type": "execute_result"
    }
   ],
   "source": [
    "pd.crosstab(df['has_a_profile_pic'], df['account_type'], normalize='index')"
   ]
  },
  {
   "cell_type": "markdown",
   "id": "8af36f6f",
   "metadata": {},
   "source": [
    "## 6. Visualizing Two Categorical Variables\n",
    "\n",
    "Suppose that we want to visualize the relationship between these two categorical variables.  What are our options?\n",
    "\n",
    "### 6.1. Create separate barplots for each level of a variable"
   ]
  },
  {
   "cell_type": "code",
   "execution_count": 99,
   "id": "c57bacd6",
   "metadata": {},
   "outputs": [
    {
     "data": {
      "text/html": [
       "<div>\n",
       "<style scoped>\n",
       "    .dataframe tbody tr th:only-of-type {\n",
       "        vertical-align: middle;\n",
       "    }\n",
       "\n",
       "    .dataframe tbody tr th {\n",
       "        vertical-align: top;\n",
       "    }\n",
       "\n",
       "    .dataframe thead th {\n",
       "        text-align: right;\n",
       "    }\n",
       "</style>\n",
       "<table border=\"1\" class=\"dataframe\">\n",
       "  <thead>\n",
       "    <tr style=\"text-align: right;\">\n",
       "      <th>account_type</th>\n",
       "      <th>fake</th>\n",
       "      <th>real</th>\n",
       "    </tr>\n",
       "    <tr>\n",
       "      <th>has_a_profile_pic</th>\n",
       "      <th></th>\n",
       "      <th></th>\n",
       "    </tr>\n",
       "  </thead>\n",
       "  <tbody>\n",
       "    <tr>\n",
       "      <th>no</th>\n",
       "      <td>1.000000</td>\n",
       "      <td>0.000000</td>\n",
       "    </tr>\n",
       "    <tr>\n",
       "      <th>yes</th>\n",
       "      <td>0.340659</td>\n",
       "      <td>0.659341</td>\n",
       "    </tr>\n",
       "  </tbody>\n",
       "</table>\n",
       "</div>"
      ],
      "text/plain": [
       "account_type           fake      real\n",
       "has_a_profile_pic                    \n",
       "no                 1.000000  0.000000\n",
       "yes                0.340659  0.659341"
      ]
     },
     "execution_count": 99,
     "metadata": {},
     "output_type": "execute_result"
    }
   ],
   "source": [
    "temp = pd.crosstab(df['has_a_profile_pic'], df['account_type'], normalize='index')\n",
    "temp"
   ]
  },
  {
   "cell_type": "code",
   "execution_count": 100,
   "id": "772a12a9",
   "metadata": {},
   "outputs": [
    {
     "data": {
      "image/png": "[encoded data removed]",
      "text/plain": [
       "<Figure size 640x480 with 1 Axes>"
      ]
     },
     "metadata": {},
     "output_type": "display_data"
    }
   ],
   "source": [
    "sns.barplot(x=temp.index, y='real', data=temp)\n",
    "plt.ylabel(\"Proportion that are Real\")\n",
    "plt.xlabel(\"Account has a Profile Picture?\")\n",
    "plt.show()"
   ]
  },
  {
   "cell_type": "code",
   "execution_count": 101,
   "id": "f31b8218",
   "metadata": {},
   "outputs": [
    {
     "data": {
      "image/png": "[encoded data removed]",
      "text/plain": [
       "<Figure size 640x480 with 1 Axes>"
      ]
     },
     "metadata": {},
     "output_type": "display_data"
    }
   ],
   "source": [
    "sns.barplot(x=temp.index, y='fake', data=temp)\n",
    "plt.ylabel(\"Proportion that are Fake\")\n",
    "plt.xlabel(\"Account has a Profile Picture?\")\n",
    "plt.show()"
   ]
  },
  {
   "cell_type": "markdown",
   "id": "37118519",
   "metadata": {},
   "source": [
    "### 6.2. Side-by-Side Barplots\n",
    "\n",
    "We could alternatively combine the information from the two above graphs into one graph.\n",
    "\n",
    "We'll create two groups (having a profile picture or not) and display bars for the proportion of real or fake accounts within each group."
   ]
  },
  {
   "cell_type": "code",
   "execution_count": 102,
   "id": "7c89c9f2",
   "metadata": {},
   "outputs": [
    {
     "data": {
      "image/png": "[encoded data removed]",
      "text/plain": [
       "<Figure size 640x480 with 1 Axes>"
      ]
     },
     "metadata": {},
     "output_type": "display_data"
    }
   ],
   "source": [
    "temp.plot.bar()\n",
    "plt.legend(loc='upper right')\n",
    "plt.xlabel('Has a profile picture?')\n",
    "plt.ylabel('Relative Frequency')\n",
    "plt.ylim([0,1])\n",
    "plt.show()"
   ]
  },
  {
   "cell_type": "code",
   "execution_count": 103,
   "id": "c7a8ee10",
   "metadata": {},
   "outputs": [
    {
     "data": {
      "text/html": [
       "<div>\n",
       "<style scoped>\n",
       "    .dataframe tbody tr th:only-of-type {\n",
       "        vertical-align: middle;\n",
       "    }\n",
       "\n",
       "    .dataframe tbody tr th {\n",
       "        vertical-align: top;\n",
       "    }\n",
       "\n",
       "    .dataframe thead th {\n",
       "        text-align: right;\n",
       "    }\n",
       "</style>\n",
       "<table border=\"1\" class=\"dataframe\">\n",
       "  <thead>\n",
       "    <tr style=\"text-align: right;\">\n",
       "      <th>has_a_profile_pic</th>\n",
       "      <th>no</th>\n",
       "      <th>yes</th>\n",
       "    </tr>\n",
       "    <tr>\n",
       "      <th>account_type</th>\n",
       "      <th></th>\n",
       "      <th></th>\n",
       "    </tr>\n",
       "  </thead>\n",
       "  <tbody>\n",
       "    <tr>\n",
       "      <th>fake</th>\n",
       "      <td>0.483333</td>\n",
       "      <td>0.516667</td>\n",
       "    </tr>\n",
       "    <tr>\n",
       "      <th>real</th>\n",
       "      <td>0.000000</td>\n",
       "      <td>1.000000</td>\n",
       "    </tr>\n",
       "  </tbody>\n",
       "</table>\n",
       "</div>"
      ],
      "text/plain": [
       "has_a_profile_pic        no       yes\n",
       "account_type                         \n",
       "fake               0.483333  0.516667\n",
       "real               0.000000  1.000000"
      ]
     },
     "execution_count": 103,
     "metadata": {},
     "output_type": "execute_result"
    }
   ],
   "source": [
    "temp2 = pd.crosstab(df['account_type'], df['has_a_profile_pic'], normalize='index')\n",
    "temp2"
   ]
  },
  {
   "cell_type": "code",
   "execution_count": 104,
   "id": "a0b78ce4",
   "metadata": {},
   "outputs": [
    {
     "data": {
      "image/png": "[encoded data removed]",
      "text/plain": [
       "<Figure size 640x480 with 1 Axes>"
      ]
     },
     "metadata": {},
     "output_type": "display_data"
    }
   ],
   "source": [
    "temp2.plot.bar()\n",
    "plt.legend(loc='upper center')\n",
    "plt.xlabel('Account type')\n",
    "plt.ylabel('Relative Frequency')\n",
    "plt.show()"
   ]
  },
  {
   "cell_type": "markdown",
   "id": "0a2e3c21",
   "metadata": {},
   "source": [
    "<hr>\n",
    "\n",
    "STAT 207: Julie Deeke, Victoria Ellison, and Douglas Simpson.  University of Illinois at Urbana-Champaign"
   ]
  }
 ],
 "metadata": {
  "kernelspec": {
   "display_name": "Python 3 (ipykernel)",
   "language": "python",
   "name": "python3"
  },
  "language_info": {
   "codemirror_mode": {
    "name": "ipython",
    "version": 3
   },
   "file_extension": ".py",
   "mimetype": "text/x-python",
   "name": "python",
   "nbconvert_exporter": "python",
   "pygments_lexer": "ipython3",
   "version": "3.10.8"
  },
  "vscode": {
   "interpreter": {
    "hash": "aee8b7b246df8f9039afb4144a1f6fd8d2ca17a180786b69acc140d282b71a49"
   }
  }
 },
 "nbformat": 4,
 "nbformat_minor": 5
}
