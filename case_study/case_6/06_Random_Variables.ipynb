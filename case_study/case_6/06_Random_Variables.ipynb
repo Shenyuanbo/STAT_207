{
 "cells": [
  {
   "cell_type": "markdown",
   "metadata": {},
   "source": [
    "<!--# STAT 207: Data Science Exploration-->\n",
    "# <u> Case Study 6</u>: Random Variables - Building Blocks for Inference \n",
    "\n",
    "\n",
    "\n"
   ]
  },
  {
   "cell_type": "markdown",
   "metadata": {},
   "source": [
    "## Goals of this Case Study\n",
    "\n",
    "* Probability rules that work for any type of event\n",
    "* What is a **random variable**?\n",
    "* What are some types of random variable and what are their properties?\n",
    "* How do we calculate probabilities involving a random variable?\n",
    "* How do we calculate summary measures for our full distribution (parameters) and estimates based on a sample (statistics)?"
   ]
  },
  {
   "cell_type": "markdown",
   "metadata": {},
   "source": [
    "## New Tools and Packages in this Case Study\n",
    "\n",
    "* `scipy.stats` package contains many helpful functions for well-defined distributions of random variables\n",
    "* The set of functions that is included for well-defined distributions include the ability to calculate probabilities, report summary measures for the distribution, and randomly generate values.\n",
    "* `while` loops"
   ]
  },
  {
   "cell_type": "markdown",
   "metadata": {},
   "source": [
    "## <u>Discrete Random Variables</u>: Calculating Probabilities\n",
    "\n",
    "<u>Fitting the Definition of a Random Variable</u>: We determined in class that the random variable **X = number of times you flip a coin until you get a head** \"fits the definition\" of being a **geometric random variable** with p=0.5. Thus we say that **X** is a geometric random variable (ie. $X\\sim Geom(p=0.5)$).\n",
    "\n",
    "<u>Distribution Python Objects</u>: Because **geometric random variables** are well-known and well-studied by the statistics community, the **scipy.stats** package in Python has a **geom** <u>object</u> which contains a series of related functions involving **geometric random variables**. "
   ]
  },
  {
   "cell_type": "markdown",
   "metadata": {},
   "source": [
    "### Probability Mass Functions\n",
    "\n",
    "<u>.pmf() Functions</u>: For instance, the **.pmf()** function which is associated with many **distribution scipy objects** calculates the probability that the corresponding random variable is equal to a given value (ie. $P(X=value)$).\n",
    "\n",
    "For instance, the code below calculates $P(X=1)=0.5$, wehere $X$ is a geometric random variable with parameter $p=0.5$ (ie. $X\\sim Geom(p=0.5)$).\n"
   ]
  },
  {
   "cell_type": "code",
   "execution_count": 1,
   "metadata": {},
   "outputs": [],
   "source": [
    "from scipy.stats import geom"
   ]
  },
  {
   "cell_type": "code",
   "execution_count": 2,
   "metadata": {},
   "outputs": [
    {
     "data": {
      "text/plain": [
       "scipy.stats._discrete_distns.geom_gen"
      ]
     },
     "execution_count": 2,
     "metadata": {},
     "output_type": "execute_result"
    }
   ],
   "source": [
    "type(geom)"
   ]
  },
  {
   "cell_type": "code",
   "execution_count": 3,
   "metadata": {},
   "outputs": [
    {
     "data": {
      "text/plain": [
       "0.5"
      ]
     },
     "execution_count": 3,
     "metadata": {},
     "output_type": "execute_result"
    }
   ],
   "source": [
    "geom.pmf(1,p=0.5)"
   ]
  },
  {
   "cell_type": "markdown",
   "metadata": {},
   "source": [
    "$P(X=2)=0.25$"
   ]
  },
  {
   "cell_type": "code",
   "execution_count": 4,
   "metadata": {},
   "outputs": [
    {
     "data": {
      "text/plain": [
       "0.25"
      ]
     },
     "execution_count": 4,
     "metadata": {},
     "output_type": "execute_result"
    }
   ],
   "source": [
    "geom.pmf(2,p=0.5)"
   ]
  },
  {
   "cell_type": "markdown",
   "metadata": {},
   "source": [
    "$P(X=3)=0.125$"
   ]
  },
  {
   "cell_type": "code",
   "execution_count": 5,
   "metadata": {},
   "outputs": [
    {
     "data": {
      "text/plain": [
       "0.125"
      ]
     },
     "execution_count": 5,
     "metadata": {},
     "output_type": "execute_result"
    }
   ],
   "source": [
    "geom.pmf(3,p=0.5)"
   ]
  },
  {
   "cell_type": "markdown",
   "metadata": {},
   "source": [
    "These probability values match what we calculated by hand during lecture."
   ]
  },
  {
   "cell_type": "markdown",
   "metadata": {},
   "source": [
    "### Cumulative Distribution Functions\n",
    "\n",
    "<u>.cdf() Functions</u>: For instance, the **.cdf()** function which is associated with many **distribution scipy objects** (like **geom**) calculates the probability that the corresponding random variable is less than or equal to a given value (ie. $P(X\\leq value)$).\n",
    "\n",
    "For instance, the code below calculates $P(X\\leq 2)=0.75$, wehere $X$ is a geometric random variable with parameter $p=0.5$ (ie. $X\\sim Geom(p=0.5)$)."
   ]
  },
  {
   "cell_type": "code",
   "execution_count": 6,
   "metadata": {},
   "outputs": [
    {
     "data": {
      "text/plain": [
       "0.75"
      ]
     },
     "execution_count": 6,
     "metadata": {},
     "output_type": "execute_result"
    }
   ],
   "source": [
    "geom.cdf(2,p=0.5)"
   ]
  },
  {
   "cell_type": "markdown",
   "metadata": {},
   "source": [
    "Again, this probability value matches what we calculated by hand during lecture."
   ]
  },
  {
   "cell_type": "markdown",
   "metadata": {},
   "source": [
    "## Randomly Generating Values for a Random Variable"
   ]
  },
  {
   "cell_type": "markdown",
   "metadata": {},
   "source": [
    "### Based on the underlying experiment\n",
    "\n",
    "While we have previously said that the random variable $X$ defined above is a random variable that follows the geometric distribution, we may find that you aren't sure how to identify the distribution for other random variables that you encounter or that a random variable cannot easily be categorized according to *well-known* distributions.\n",
    "\n",
    "In this section, we will pretend that we *don't know* that our random variable $X$ \"fits the definition\" of a geometric random variable, which is a *well-known* random variable.\n",
    "\n",
    "<u>Experiment</u> Keep flipping a coin until you get a head. Observe the total number of flips before stopping (including the head).\n",
    "\n",
    "<u>Simulation of Experiment</u>: Let's first design a simulation that will mimic this experiment ourselves (\"from scratch\"). We will simulate the act of flipping a coin until we get a head. After we flip a head, we will define **X** to be the total number of flips in the experiment.\n",
    "\n",
    "<u>Randomly Generating a Value for a Random Variable</u>: Thus we can think of this **X** as a **randomly generated value for the random variable** **X=number of times you flip a coin until you get a head** from the slides."
   ]
  },
  {
   "cell_type": "markdown",
   "metadata": {},
   "source": [
    "#### Simulating Flipping a Coin\n",
    "This is like sampling repeatedly from the following data frame until we get an \"H\"."
   ]
  },
  {
   "cell_type": "code",
   "execution_count": 7,
   "metadata": {},
   "outputs": [],
   "source": [
    "import pandas as pd\n",
    "import numpy as np\n",
    "import matplotlib.pyplot as plt\n",
    "import seaborn as sns; sns.set()"
   ]
  },
  {
   "cell_type": "code",
   "execution_count": 8,
   "metadata": {},
   "outputs": [
    {
     "data": {
      "text/html": [
       "<div>\n",
       "<style scoped>\n",
       "    .dataframe tbody tr th:only-of-type {\n",
       "        vertical-align: middle;\n",
       "    }\n",
       "\n",
       "    .dataframe tbody tr th {\n",
       "        vertical-align: top;\n",
       "    }\n",
       "\n",
       "    .dataframe thead th {\n",
       "        text-align: right;\n",
       "    }\n",
       "</style>\n",
       "<table border=\"1\" class=\"dataframe\">\n",
       "  <thead>\n",
       "    <tr style=\"text-align: right;\">\n",
       "      <th></th>\n",
       "      <th>side</th>\n",
       "    </tr>\n",
       "  </thead>\n",
       "  <tbody>\n",
       "    <tr>\n",
       "      <th>0</th>\n",
       "      <td>T</td>\n",
       "    </tr>\n",
       "    <tr>\n",
       "      <th>1</th>\n",
       "      <td>H</td>\n",
       "    </tr>\n",
       "  </tbody>\n",
       "</table>\n",
       "</div>"
      ],
      "text/plain": [
       "  side\n",
       "0    T\n",
       "1    H"
      ]
     },
     "execution_count": 8,
     "metadata": {},
     "output_type": "execute_result"
    }
   ],
   "source": [
    "coin = pd.DataFrame({'side': ['T', 'H']}, index=[0,1])\n",
    "coin"
   ]
  },
  {
   "cell_type": "markdown",
   "metadata": {},
   "source": [
    "#### Using a \"while loop\" to keep \"flipping\" until we get a head.\n",
    "Here is some code using a **\"while\"** loop to keep flipping our simulated coin until we get 'heads'. Rerun the cell to see how the the count 'X' varies randomly.\n",
    "\n",
    "A **while** loop will continue iterating through the loop (repeating the process) until the provided condition is met.  This is similar to a **for** loop, except in this case there is no definitive number of repetitions that must be completed before the loop concludes.\n",
    "\n",
    "The **.item()** function pulls the value from the generated 1 item Series, so we can check if it equals 'H' or not. "
   ]
  },
  {
   "cell_type": "code",
   "execution_count": 9,
   "metadata": {},
   "outputs": [
    {
     "name": "stdout",
     "output_type": "stream",
     "text": [
      "Flip: T\n",
      "Current Value of X: 1\n",
      "-----------------\n",
      "Flip: T\n",
      "Current Value of X: 2\n",
      "-----------------\n",
      "Flip: H\n",
      "Current Value of X: 3\n",
      "-----------------\n",
      "Final Value of Randomly Generated Value for X: 3\n"
     ]
    }
   ],
   "source": [
    "#This will be your randomly generate value for the random variable X\n",
    "X = 0\n",
    "\n",
    "#Set flop to anything but 'H' so we can \"enter\" the while loop\n",
    "flip='T'\n",
    "\n",
    "#Keep executing the code in this loop WHILE the 'flip' variable is not equal to 'H'\n",
    "while flip != 'H':\n",
    "    \n",
    "    #Draw a random sample (of size n=1) from the population of flip outcomes\n",
    "    flip = coin.sample(1)['side'].item()\n",
    "    print('Flip:',flip)\n",
    "    \n",
    "    #Update the random variable to be one more head\n",
    "    X = X + 1\n",
    "    print('Current Value of X:',X)\n",
    "    print('-----------------')\n",
    "\n",
    "print('Final Value of Randomly Generated Value for X:',X)"
   ]
  },
  {
   "cell_type": "markdown",
   "metadata": {},
   "source": [
    "### Based on the underlying random variable distribution\n",
    "\n",
    "Before, we simulated an experiment in order to understand the behavior of our random variable $X$.  However, we have already identified that $X$ follows a geometric distribution.  If we *know* this information, then it seems only right that we should use it.\n",
    "\n",
    "Here, we will demonstrate how to simulate the values of a random variable when we *know* the random variable \"fits the definition\" of a *well-known* random variable.\n",
    "\n",
    "Because we know that X is a geometric random variable, we can also use the **.rvs()** function to randomly generate values for the random variable. In this case, the **.rvs()** also performs a simulation of conducting a series of \"independent trials\" until we get a \"success\" (where the probability of success in any given trial is always p).\n",
    "\n",
    "<u>.rvs() Function</u>: The **.rvs()** function randomly generates a series of values for a corresponding random variable.\n",
    "\n",
    "Remember that for our coin flip random variable **X**, this $p=0.5$ (where \"success\" is flipping a head)."
   ]
  },
  {
   "cell_type": "markdown",
   "metadata": {},
   "source": [
    "#### One Randomly Generated Value for X"
   ]
  },
  {
   "cell_type": "code",
   "execution_count": 10,
   "metadata": {},
   "outputs": [
    {
     "data": {
      "text/plain": [
       "array([2])"
      ]
     },
     "execution_count": 10,
     "metadata": {},
     "output_type": "execute_result"
    }
   ],
   "source": [
    "X=geom.rvs(p=0.5, size=1)\n",
    "X"
   ]
  },
  {
   "cell_type": "markdown",
   "metadata": {},
   "source": [
    "#### Ten Randomly Generated Values for X"
   ]
  },
  {
   "cell_type": "code",
   "execution_count": 11,
   "metadata": {},
   "outputs": [
    {
     "data": {
      "text/plain": [
       "array([1, 1, 1, 1, 2, 1, 3, 1, 5, 3])"
      ]
     },
     "execution_count": 11,
     "metadata": {},
     "output_type": "execute_result"
    }
   ],
   "source": [
    "X=geom.rvs(p=0.5, size=10)\n",
    "X"
   ]
  },
  {
   "cell_type": "markdown",
   "metadata": {},
   "source": [
    "## <u> Continuous Random Variables</u>: Calculating Probabilities"
   ]
  },
  {
   "cell_type": "markdown",
   "metadata": {},
   "source": [
    "Just like we did for random variables that follow the geometric distribution, we can import a Python object (**norm** from the **scipy.stats** package) which contains a suite of useful functions related to a **normal random variable**. Most of the functions that applied to the **geom** object also can be used for the **norm** object and can be used in the same way. For instance, we can instead use:\n",
    "* **norm.rvs()** to generate random variable values for a normal random variable \n",
    "* **norm.cdf()** to calculate the $P(X\\leq value)$ when X is a normal random variable.\n",
    "\n",
    "When using functions that pertain to the **norm** object there are at least two parameters that we usually always need to specify:\n",
    "* <u>loc</u>: the loc parameter refers to the mean of the normal random variable and determines the location/center of the distribution\n",
    "* <u>scale</u>: the scale parameter refers to the standard deviation of the normal random variable and determines the scale/spread of the distribution.\n",
    "\n",
    "These parameters dictate various aspects of the distribution.  Defining the parameters is crucial to providing a complete definition of any random variable.\n",
    "\n",
    "**Note:** If you don't stipulate these parameter values while using **norm** object functions, Python will assume that the mean of the random variable is 0 and that the standard deviation of the random variable is 1."
   ]
  },
  {
   "cell_type": "code",
   "execution_count": 12,
   "metadata": {},
   "outputs": [],
   "source": [
    "from scipy.stats import norm"
   ]
  },
  {
   "cell_type": "markdown",
   "metadata": {},
   "source": [
    "We can use the cdf to solve for the probability statement above, which is contained within the `norm` suite of tools in the `.cdf()` function.\n",
    "\n",
    "The syntax for the cdf calculation is \n",
    "\n",
    "`norm.cdf(x , loc = mean, scale = standard deviation)` \n",
    "\n",
    "to calculate\n",
    "\n",
    "$P(X\\leq x)=P(X<x)$.\n",
    "\n",
    "<u>Question a</u>:\n",
    "\n",
    "For example, suppose that $X$ is a random variable with mean 68 and standard deviation 3.5.  What is the probability that a randomly selected observation is at most 70?\n",
    "\n",
    "$P(X\\leq 70) = 0.716$"
   ]
  },
  {
   "cell_type": "code",
   "execution_count": 13,
   "metadata": {},
   "outputs": [
    {
     "data": {
      "text/plain": [
       "0.7161454169013237"
      ]
     },
     "execution_count": 13,
     "metadata": {},
     "output_type": "execute_result"
    }
   ],
   "source": [
    "mean = 68\n",
    "sd=3.5\n",
    "norm.cdf(70, loc=mean, scale=sd)"
   ]
  },
  {
   "cell_type": "markdown",
   "metadata": {},
   "source": [
    "<u>Question b</u>:\n",
    "\n",
    "What is the probability that a randomly selected observation is greater than 70?\n",
    "\n",
    "$P(X> 70) =1- P(X\\leq 70) = 1-.716 = 0.284$"
   ]
  },
  {
   "cell_type": "code",
   "execution_count": 14,
   "metadata": {},
   "outputs": [
    {
     "data": {
      "text/plain": [
       "0.2838545830986763"
      ]
     },
     "execution_count": 14,
     "metadata": {},
     "output_type": "execute_result"
    }
   ],
   "source": [
    "mean = 68\n",
    "sd=3.5\n",
    "1-norm.cdf(70, loc=mean, scale=sd)"
   ]
  },
  {
   "cell_type": "markdown",
   "metadata": {},
   "source": [
    "**<u>Important Note</u>**: the **`.cdf()`** always finds areas/probabilies to the LEFT of the observation supplied. To find areas to the right you need to use 1 - .cdf()!"
   ]
  },
  {
   "cell_type": "markdown",
   "metadata": {},
   "source": [
    "<u>Question c</u>:\n",
    "\n",
    "What is the probability that a randomly selected observation is between 60 and 70?\n",
    "\n",
    "$P(66<X\\leq 70) =P(X\\leq 70) - P(X< 65) =.716 - 0.196 = 0.520$"
   ]
  },
  {
   "cell_type": "code",
   "execution_count": 15,
   "metadata": {},
   "outputs": [
    {
     "data": {
      "text/plain": [
       "0.5204624477475477"
      ]
     },
     "execution_count": 15,
     "metadata": {},
     "output_type": "execute_result"
    }
   ],
   "source": [
    "mean = 68\n",
    "sd=3.5\n",
    "norm.cdf(70, loc=mean, scale=sd)-norm.cdf(65, loc=mean, scale=sd)"
   ]
  },
  {
   "cell_type": "markdown",
   "metadata": {},
   "source": [
    "## Calculating Percentiles\n",
    "\n",
    "Calculating probabilities associated with random variables is very helpful.  However, sometimes we want to work \"backwards\" in our calculation.  That is, instead of finding the probability that a random variable is less than some value, we might want to know the value that corresponds to a probability that the random variable takes that value or less of some number.\n",
    "\n",
    "<u> Normal Percentile Function</u>\n",
    "\n",
    "If X is a normal random variable we can use the function\n",
    "\n",
    "**norm.ppf(p , loc = mean, scale = standard deviation)**\n",
    "\n",
    "to calculate the value of x in which\n",
    "\n",
    "$P(X\\leq x)=P(X<x) = p$.\n",
    "\n",
    "**Ex:** The average height of a woman in the U.S. is about 64” with a standard deviation of 2.5”. Assume that the heights of women in the U.S. has a normal distribution. So if we let X = height of a randomly selected woman in the U.S., then we know that X is a normal random variable.\n",
    "\n",
    "How tall does a woman in the U.S. have to be in order to be in the top 10% of women’s heights?\n",
    "\n",
    "<u>Answer</u>:\n",
    "This is equivalent to asking what is the value of x in which $P(X<x) = 0.90$?"
   ]
  },
  {
   "cell_type": "code",
   "execution_count": 16,
   "metadata": {},
   "outputs": [
    {
     "data": {
      "text/plain": [
       "67.2038789138615"
      ]
     },
     "execution_count": 16,
     "metadata": {},
     "output_type": "execute_result"
    }
   ],
   "source": [
    "norm.ppf(0.90, loc=64, scale=2.5)"
   ]
  },
  {
   "cell_type": "markdown",
   "metadata": {},
   "source": [
    "Thus, a woman that is 67.2\" will be taller than 90% of women in the U.S. and shorter than 10% of women in the U.S.\n",
    "\n",
    "**<u>Important Note</u>**: the **`.ppf()`** always finds x-axis values that correspond to the LEFT-TAIL AREA SUPPLIED. To find the x-axis value that corresponds to a RIGHT-TAIL AREA, you should supply the LEFT-TAIL AREA = 1 - RIGHT TAIL AREA to the function."
   ]
  },
  {
   "cell_type": "markdown",
   "metadata": {},
   "source": [
    "## Standard Normal Distribution\n",
    "\n",
    "One special case of a Normal distribution is the Standard Normal distribution.  This is the normal distribution that is provided in Python by default.\n",
    "\n",
    "Because the **standard normal random variable** is just a special kind of **normal random variable**, specifically one in which the mean = 0 and the standard deviation = 1, we use the same **norm** object from **scipy.stats** and the corresponding functions to perform any tasks related to **standard normal random variables** as well.\n",
    "\n",
    "In each of these **norm** functions, we can either:\n",
    "* set **loc = 0** (ie. *explicitly* set the mean to 0) and **scale = 1** (ie. *explicitly* set the standard deviation to 1 OR\n",
    "* NOT specify values for the **loc** and **scale** parameters. (The **default values** for the **norm** object are set to **0** and **1** automatically)."
   ]
  },
  {
   "cell_type": "markdown",
   "metadata": {},
   "source": [
    "**Ex:** What is the probability that a standard normal random variable is between -1.96 and 1.96?\n",
    "\n",
    "<u>Answer</u>:\n",
    "\n",
    "$P(-1.96<Z<1.96) = P(Z<1.96) - P(Z<-1.96) = 0.975 - 0.025 = 0.95$"
   ]
  },
  {
   "cell_type": "code",
   "execution_count": 17,
   "metadata": {},
   "outputs": [
    {
     "data": {
      "text/plain": [
       "0.950004209703559"
      ]
     },
     "execution_count": 17,
     "metadata": {},
     "output_type": "execute_result"
    }
   ],
   "source": [
    "norm.cdf(1.96,loc=0,scale=1) - norm.cdf(-1.96,loc=0,scale=1)"
   ]
  },
  {
   "cell_type": "code",
   "execution_count": 18,
   "metadata": {},
   "outputs": [
    {
     "data": {
      "text/plain": [
       "0.950004209703559"
      ]
     },
     "execution_count": 18,
     "metadata": {},
     "output_type": "execute_result"
    }
   ],
   "source": [
    "norm.cdf(1.96) - norm.cdf(-1.96)"
   ]
  },
  {
   "cell_type": "markdown",
   "metadata": {},
   "source": [
    "**Ex:** What is the value in the standard normal distribution that is greater than 20% of observations?\n",
    "\n",
    "<u>Answer</u>:\n",
    "\n",
    "The value of z in which \n",
    "\n",
    "$P(Z\\geq z) = 0.20$\n",
    "\n",
    "is $z=-0.8416$."
   ]
  },
  {
   "cell_type": "code",
   "execution_count": 19,
   "metadata": {},
   "outputs": [
    {
     "data": {
      "text/plain": [
       "-0.8416212335729142"
      ]
     },
     "execution_count": 19,
     "metadata": {},
     "output_type": "execute_result"
    }
   ],
   "source": [
    "norm.ppf(0.20, loc=0, scale=1)"
   ]
  },
  {
   "cell_type": "code",
   "execution_count": 20,
   "metadata": {},
   "outputs": [
    {
     "data": {
      "text/plain": [
       "-0.8416212335729142"
      ]
     },
     "execution_count": 20,
     "metadata": {},
     "output_type": "execute_result"
    }
   ],
   "source": [
    "norm.ppf(0.20)"
   ]
  },
  {
   "cell_type": "markdown",
   "metadata": {},
   "source": [
    "We can also use the relationship between the standard normal distribution and any normal distribution to solve problems.\n",
    "\n",
    "These two distributions are connected by z-scores and the corresponding z-transformation, where the z-value on a standard normal distribution corresponds to a value $x$ on any normal distribution with mean $\\mu$ and standard deviation $\\sigma$ according to the following equation:\n",
    "\n",
    "$$ z = \\frac{x - \\mu}{\\sigma}$$"
   ]
  },
  {
   "cell_type": "markdown",
   "metadata": {},
   "source": [
    "**Ex:** The average time it took for all seniors at a local high school to finish a race was 8 minutes. The finishing times followed a normal distribution.\n",
    "\n",
    "You ran the race in 7 minutes and your time was in the top 20% (ie. your time was higher than 20% of the participants). What was the standard deviation of the finishing times?\n",
    "\n",
    "<u>Answer</u>:\n",
    "\n",
    "Let X = finishing time of a randomly selected senior from the high school.\n",
    "\n",
    "Because **X is a normal random variable**, the **z-score of X $(Z=\\frac{X-E[X]}{SD[X})$** is a **standard normal random variable**.\n",
    "\n",
    "Two things we know about the z-score of *your* finishing time (x=7).\n",
    "\n",
    "1. The z-score of your finishing time of 7 minutes =$\\frac{7-\\mu}{\\sigma}=\\frac{7-8}{\\sigma}$.\n",
    "2. The z-score of your finishing time of 7 minutes is greater than 20% of other z-scores from the standard normal distribution. Using the ppf function, we know that this value is $z=-0.8416.$\n",
    "\n",
    "So we can set these two pieces of information equal to eachother to get:\n",
    "\n",
    "The z-score of your finishing time of 7 minutes = $-0.8416=\\frac{7-8}{\\sigma}$ and solve for $\\sigma$ to get $\\sigma = 1.188$ minutes."
   ]
  },
  {
   "cell_type": "code",
   "execution_count": 21,
   "metadata": {},
   "outputs": [
    {
     "data": {
      "text/plain": [
       "-0.8416212335729142"
      ]
     },
     "execution_count": 21,
     "metadata": {},
     "output_type": "execute_result"
    }
   ],
   "source": [
    "norm.ppf(0.20)"
   ]
  },
  {
   "cell_type": "code",
   "execution_count": 22,
   "metadata": {},
   "outputs": [
    {
     "data": {
      "text/plain": [
       "1.1881829498938903"
      ]
     },
     "execution_count": 22,
     "metadata": {},
     "output_type": "execute_result"
    }
   ],
   "source": [
    "(7-8) / norm.ppf(0.20)"
   ]
  },
  {
   "cell_type": "markdown",
   "metadata": {},
   "source": [
    "## <u>Distribution Summary Measures</u>: Calculating Parameters\n",
    "\n",
    "Suppose that we'd like to know more about the features of the random variable $X$.  We can use Python to report various summary measures for a distribution.  These would correspond to the parameters, or true values for the population of this random variable.\n",
    "\n",
    "**Example: X=number of flips until getting a head**\n",
    "\n",
    "Remember $X\\sim Geom(p=0.5)$.\n",
    "\n",
    "Using ScyPy functions, we compute the mean, the median, the standard deviation, and the proportion less than 2 flips for this population."
   ]
  },
  {
   "cell_type": "code",
   "execution_count": 23,
   "metadata": {},
   "outputs": [
    {
     "data": {
      "text/html": [
       "<div>\n",
       "<style scoped>\n",
       "    .dataframe tbody tr th:only-of-type {\n",
       "        vertical-align: middle;\n",
       "    }\n",
       "\n",
       "    .dataframe tbody tr th {\n",
       "        vertical-align: top;\n",
       "    }\n",
       "\n",
       "    .dataframe thead th {\n",
       "        text-align: right;\n",
       "    }\n",
       "</style>\n",
       "<table border=\"1\" class=\"dataframe\">\n",
       "  <thead>\n",
       "    <tr style=\"text-align: right;\">\n",
       "      <th></th>\n",
       "      <th>population</th>\n",
       "    </tr>\n",
       "  </thead>\n",
       "  <tbody>\n",
       "    <tr>\n",
       "      <th>mean</th>\n",
       "      <td>2.000000</td>\n",
       "    </tr>\n",
       "    <tr>\n",
       "      <th>median</th>\n",
       "      <td>1.000000</td>\n",
       "    </tr>\n",
       "    <tr>\n",
       "      <th>std</th>\n",
       "      <td>1.414214</td>\n",
       "    </tr>\n",
       "    <tr>\n",
       "      <th>prop</th>\n",
       "      <td>0.750000</td>\n",
       "    </tr>\n",
       "  </tbody>\n",
       "</table>\n",
       "</div>"
      ],
      "text/plain": [
       "        population\n",
       "mean      2.000000\n",
       "median    1.000000\n",
       "std       1.414214\n",
       "prop      0.750000"
      ]
     },
     "execution_count": 23,
     "metadata": {},
     "output_type": "execute_result"
    }
   ],
   "source": [
    "params = ['mean', 'median', 'std', 'prop']\n",
    "pop = [geom.mean(p=0.5),\n",
    "      geom.median(p=0.5),\n",
    "      geom.std(p=0.5),\n",
    "      geom.cdf(2, p=0.5)]\n",
    "pd.DataFrame({'population': pop}, index=params)"
   ]
  },
  {
   "cell_type": "markdown",
   "metadata": {},
   "source": [
    "How does this compare with what we calculated by hand during lecture?"
   ]
  },
  {
   "cell_type": "markdown",
   "metadata": {},
   "source": [
    "## <u>Calculating a Sample Statistic</u> with Multiple Random Variables\n",
    "\n",
    "We were able to calculate true values (parameters) for various summary measures of a well-defined distribution.  We may also want to estimate these values (statistics) based on sample data.  This may be especially helpful if these values do not come from a well-defined distribution.\n",
    "\n",
    "<u>Sample Statistics of the Coin Flip Experiment in Python<u/>:\n",
    "\n",
    "Ex: Consider our coin toss experiment where we keep flipping a coin until we get a head.  Let X=number of flips until stopping.  We found that $X\\sim geom(p=0.5)$.\n",
    "\n",
    "Suppose we decided to repeat this coin flip experiment 20 times.  We can represent\n",
    "$X_i$=number of flips in the ith experiment until stopping.\n",
    "\n",
    "Generate a random value for each $X_i$. Use this sample to generate values for:\n",
    "* $\\bar{X} ̅=(X_1+X_2+⋯+X_{20})/20$: the mean number of flips until stopping from the 20 experiments\n",
    "* $m$: the median number of flips until stopping from the 20 experiments\n",
    "* $s$: the standard deviation number of flips until stopping from the 20 experiments\n",
    "* $P_2$: the proportion of the 20 experiments in which the number of flips (until stopping) was at most 2.\n",
    "\n",
    "Also use these values to visualize the distribution of the random samples.\n",
    "\n",
    "1. First, we randomly generate values for $X_1,X_2,...,X_{20}$."
   ]
  },
  {
   "cell_type": "code",
   "execution_count": 24,
   "metadata": {},
   "outputs": [
    {
     "data": {
      "text/plain": [
       "array([2, 4, 1, 1, 6, 2, 1, 1, 1, 1, 1, 1, 2, 3, 1, 4, 3, 1, 2, 1])"
      ]
     },
     "execution_count": 24,
     "metadata": {},
     "output_type": "execute_result"
    }
   ],
   "source": [
    "sample = geom.rvs(p=0.5, size=20)\n",
    "sample"
   ]
  },
  {
   "cell_type": "code",
   "execution_count": 25,
   "metadata": {},
   "outputs": [
    {
     "data": {
      "text/plain": [
       "0     2\n",
       "1     4\n",
       "2     1\n",
       "3     1\n",
       "4     6\n",
       "5     2\n",
       "6     1\n",
       "7     1\n",
       "8     1\n",
       "9     1\n",
       "10    1\n",
       "11    1\n",
       "12    2\n",
       "13    3\n",
       "14    1\n",
       "15    4\n",
       "16    3\n",
       "17    1\n",
       "18    2\n",
       "19    1\n",
       "dtype: int64"
      ]
     },
     "execution_count": 25,
     "metadata": {},
     "output_type": "execute_result"
    }
   ],
   "source": [
    "# convert the numpy array into a pandas series\n",
    "sample = pd.Series(sample)\n",
    "sample"
   ]
  },
  {
   "cell_type": "markdown",
   "metadata": {},
   "source": [
    "2. Next, we use these randomly generated values to calculate values for the sample statistics described above."
   ]
  },
  {
   "cell_type": "code",
   "execution_count": 26,
   "metadata": {},
   "outputs": [
    {
     "data": {
      "text/html": [
       "<div>\n",
       "<style scoped>\n",
       "    .dataframe tbody tr th:only-of-type {\n",
       "        vertical-align: middle;\n",
       "    }\n",
       "\n",
       "    .dataframe tbody tr th {\n",
       "        vertical-align: top;\n",
       "    }\n",
       "\n",
       "    .dataframe thead th {\n",
       "        text-align: right;\n",
       "    }\n",
       "</style>\n",
       "<table border=\"1\" class=\"dataframe\">\n",
       "  <thead>\n",
       "    <tr style=\"text-align: right;\">\n",
       "      <th></th>\n",
       "      <th>sample</th>\n",
       "    </tr>\n",
       "  </thead>\n",
       "  <tbody>\n",
       "    <tr>\n",
       "      <th>mean</th>\n",
       "      <td>1.950000</td>\n",
       "    </tr>\n",
       "    <tr>\n",
       "      <th>median</th>\n",
       "      <td>1.000000</td>\n",
       "    </tr>\n",
       "    <tr>\n",
       "      <th>std</th>\n",
       "      <td>1.394538</td>\n",
       "    </tr>\n",
       "    <tr>\n",
       "      <th>prop &lt;= 2</th>\n",
       "      <td>0.750000</td>\n",
       "    </tr>\n",
       "  </tbody>\n",
       "</table>\n",
       "</div>"
      ],
      "text/plain": [
       "             sample\n",
       "mean       1.950000\n",
       "median     1.000000\n",
       "std        1.394538\n",
       "prop <= 2  0.750000"
      ]
     },
     "execution_count": 26,
     "metadata": {},
     "output_type": "execute_result"
    }
   ],
   "source": [
    "params = ['mean', 'median', 'std', 'prop <= 2']\n",
    "samp = [sample.mean(), \n",
    "        sample.median(), \n",
    "        sample.std(), \n",
    "        (sample<=2).mean()]\n",
    "pd.DataFrame({'sample': samp}, index=params)"
   ]
  },
  {
   "cell_type": "markdown",
   "metadata": {},
   "source": [
    "3. Finally, we use these randomly generated values to visualize the distribution of the randomly generated sample values."
   ]
  },
  {
   "cell_type": "code",
   "execution_count": 27,
   "metadata": {},
   "outputs": [
    {
     "data": {
      "image/png": "[encoded data removed]",
      "text/plain": [
       "<Figure size 432x288 with 1 Axes>"
      ]
     },
     "metadata": {},
     "output_type": "display_data"
    }
   ],
   "source": [
    "sample.hist(density=True)\n",
    "plt.show()"
   ]
  },
  {
   "cell_type": "markdown",
   "metadata": {},
   "source": [
    "How do the sample statistics compare to the population parameters calculated above?"
   ]
  },
  {
   "cell_type": "markdown",
   "metadata": {},
   "source": [
    "---\n",
    "STAT 207, Julie Deeke, Victoria Ellison, and Douglas Simpson, University of Illinois at Urbana-Champaign"
   ]
  }
 ],
 "metadata": {
  "kernelspec": {
   "display_name": "Python 3 (ipykernel)",
   "language": "python",
   "name": "python3"
  },
  "language_info": {
   "codemirror_mode": {
    "name": "ipython",
    "version": 3
   },
   "file_extension": ".py",
   "mimetype": "text/x-python",
   "name": "python",
   "nbconvert_exporter": "python",
   "pygments_lexer": "ipython3",
   "version": "3.8.11"
  }
 },
 "nbformat": 4,
 "nbformat_minor": 2
}
