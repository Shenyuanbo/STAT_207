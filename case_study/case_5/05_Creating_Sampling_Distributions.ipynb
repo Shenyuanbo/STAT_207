{
 "cells": [
  {
   "cell_type": "markdown",
   "metadata": {},
   "source": [
    "# <u> Unit 5 Notebook</u>: Creating Sampling Distributions - Building Blocks for Inference \n",
    "\n",
    "<hr>\n",
    "\n",
    "## <u> Case Study 1</u>: UIUC Course Enrollment Sampling Distribution of Sample Means\n",
    "\n",
    "Suppose we were to take a random sample of courses from our **population of courses** and then take the **mean enrollment of courses in that sample**. We would like to know how likely would it be for us to get an average course enrollment that is as high as the one that we observed. In order to help us answer this question we will complete the following tasks.\n",
    "\n",
    "### Creating Sampling Distributions of Sample Means\n",
    "* Create a **sampling distribution** of **sample means of course enrollments**. The samples should all be of size <u>n=10</u> and should be drawn with replacement from the artificial UIUC class population.\n",
    "* Create a **sampling distribution** of **sample means of course enrollments**. The samples should all be of size <u>n=100</u> and should be drawn with replacement from the artificial UIUC class population.\n",
    "* Create a **sampling distribution** of **sample means of course enrollments**. The samples should all be of size <u>n=400</u> and should be drawn with replacement from the artificial UIUC class population.\n",
    "\n",
    "### Learning about the Properties of Sampling Distribution of Sample Means\n",
    "* What happens to the mean, spread, and shape of the sampling distribution of sample means as the sizes of the samples (n) in the sampling distribution increases?\n",
    "\n",
    "<hr>\n",
    "\n",
    "\n",
    "## <u> Case Study 2</u>: Coin Flip Outcome Sampling Distribution of Sample Proportions\n",
    "\n",
    "Suppose we were to take a random sample of coin flip outcomes (H or T) from our **population of coin flip outcomes** and then calculate the **proportion of outcomes in that sample that are a head**. We would like to know how likely would it be for us to get an sample proportion of heads that is as high as the one that we observed. In order to help us answer this question we will complete the following tasks.\n",
    "\n",
    "### Creating Sampling Distributions of Sample Proportions\n",
    "\n",
    "* Create a **sampling distribution** of **sample proportion of heads**. The samples should all be of size <u>n=10</u> and should be drawn with replacement from the population of coin flip possibilities (ie. head or tail).\n",
    "* Create a **sampling distribution** of **sample proportion of heads**. The samples should all be of size <u>n=100</u> and should be drawn with replacement from the population of coin flip possibilities (ie. head or tail).\n",
    "* Create a **sampling distribution** of **sample proportion of heads**. The samples should all be of size <u>n=400</u> and should be drawn with replacement from the population of coin flip possibilities (ie. head or tail).\n",
    "\n",
    "### Learning about the Properties of Sampling Distribution of Sample Proportions\n",
    "\n",
    "* What happens to the mean, spread, and shape of the sampling distribution of sample proportion as the sizes of the samples (n) in the sampling distribution increases?\n",
    "\n",
    "<hr>"
   ]
  },
  {
   "cell_type": "markdown",
   "metadata": {},
   "source": [
    "## Python Code Review: <u>More about for loops</u>\n",
    "\n",
    "\n",
    "In order to do simulations we use Python's flow control to allow us to repeatedly draw samples. The **for** loop is fundamental in many programming languages. Here's a simple version. Notice that for Python the **colon (:)** and **indentation** are important. The indentation needs to be 4 characters wide! The notebook formats this automatically. \n",
    "\n",
    "### For loops with a list"
   ]
  },
  {
   "cell_type": "code",
   "execution_count": 1,
   "metadata": {},
   "outputs": [
    {
     "name": "stdout",
     "output_type": "stream",
     "text": [
      "Here Fido!\n",
      "Here Rex!\n",
      "Here Mitzi!\n",
      "Here Fluffy!\n",
      "Here Mr. Lizard!\n"
     ]
    }
   ],
   "source": [
    "for x in [\"Fido\", \"Rex\", \"Mitzi\", \"Fluffy\", \"Mr. Lizard\"]:\n",
    "    print(\"Here \", x, \"!\", sep=\"\")"
   ]
  },
  {
   "cell_type": "markdown",
   "metadata": {},
   "source": [
    "### For loops with a range\n",
    "Here's another example, with the same general principle that the for loop passes through all the values in the \"in\" list."
   ]
  },
  {
   "cell_type": "code",
   "execution_count": 2,
   "metadata": {},
   "outputs": [
    {
     "name": "stdout",
     "output_type": "stream",
     "text": [
      "Hello Fidotron-R0, welcome!\n",
      "Hello Fidotron-R1, welcome!\n",
      "Hello Fidotron-R2, welcome!\n",
      "Hello Fidotron-R3, welcome!\n",
      "Hello Fidotron-R4, welcome!\n"
     ]
    }
   ],
   "source": [
    "for i in range(5):\n",
    "    print(\"Hello Fidotron-R\", i, \", welcome!\", sep=\"\")"
   ]
  },
  {
   "cell_type": "markdown",
   "metadata": {},
   "source": [
    "The for loop allows us to do an operation repeatedly by stepping through a finite list. This is extremely useful for performing computer simulations in which we repeatedly draw samples and study the the effects of random variation on the statistics."
   ]
  },
  {
   "cell_type": "markdown",
   "metadata": {},
   "source": [
    "## <u> Case Study 1</u>: Sampling Distribution of Sample Means\n",
    "\n",
    "### <u> Research Question</u>: What happened to the mean, standard deviation, and shape of the sampling distribution of sample means as we increased the size of the samples n?\n",
    "\n",
    "\n",
    "### Population\n",
    "\n",
    "First let's create our artificial UIUC population again. In this case study we will be considering the population of *enrollments* (ie. a population of *quantitative data*)."
   ]
  },
  {
   "cell_type": "code",
   "execution_count": 3,
   "metadata": {},
   "outputs": [],
   "source": [
    "import pandas as pd\n",
    "import numpy as np\n",
    "import matplotlib.pyplot as plt\n",
    "import seaborn as sns; sns.set()"
   ]
  },
  {
   "cell_type": "code",
   "execution_count": 4,
   "metadata": {},
   "outputs": [
    {
     "data": {
      "text/html": [
       "<div>\n",
       "<style scoped>\n",
       "    .dataframe tbody tr th:only-of-type {\n",
       "        vertical-align: middle;\n",
       "    }\n",
       "\n",
       "    .dataframe tbody tr th {\n",
       "        vertical-align: top;\n",
       "    }\n",
       "\n",
       "    .dataframe thead th {\n",
       "        text-align: right;\n",
       "    }\n",
       "</style>\n",
       "<table border=\"1\" class=\"dataframe\">\n",
       "  <thead>\n",
       "    <tr style=\"text-align: right;\">\n",
       "      <th></th>\n",
       "      <th>course</th>\n",
       "      <th>section</th>\n",
       "      <th>enrolled</th>\n",
       "    </tr>\n",
       "  </thead>\n",
       "  <tbody>\n",
       "    <tr>\n",
       "      <th>0</th>\n",
       "      <td>cs105</td>\n",
       "      <td>B</td>\n",
       "      <td>134</td>\n",
       "    </tr>\n",
       "    <tr>\n",
       "      <th>1</th>\n",
       "      <td>cs105</td>\n",
       "      <td>A</td>\n",
       "      <td>345</td>\n",
       "    </tr>\n",
       "    <tr>\n",
       "      <th>2</th>\n",
       "      <td>stat107</td>\n",
       "      <td>A</td>\n",
       "      <td>343</td>\n",
       "    </tr>\n",
       "    <tr>\n",
       "      <th>3</th>\n",
       "      <td>stat207</td>\n",
       "      <td>A</td>\n",
       "      <td>103</td>\n",
       "    </tr>\n",
       "    <tr>\n",
       "      <th>4</th>\n",
       "      <td>stat207</td>\n",
       "      <td>B</td>\n",
       "      <td>123</td>\n",
       "    </tr>\n",
       "    <tr>\n",
       "      <th>5</th>\n",
       "      <td>badm210</td>\n",
       "      <td>A</td>\n",
       "      <td>172</td>\n",
       "    </tr>\n",
       "    <tr>\n",
       "      <th>6</th>\n",
       "      <td>badm210</td>\n",
       "      <td>B</td>\n",
       "      <td>216</td>\n",
       "    </tr>\n",
       "    <tr>\n",
       "      <th>7</th>\n",
       "      <td>ansc307</td>\n",
       "      <td>A</td>\n",
       "      <td>55</td>\n",
       "    </tr>\n",
       "  </tbody>\n",
       "</table>\n",
       "</div>"
      ],
      "text/plain": [
       "    course section  enrolled\n",
       "0    cs105       B       134\n",
       "1    cs105       A       345\n",
       "2  stat107       A       343\n",
       "3  stat207       A       103\n",
       "4  stat207       B       123\n",
       "5  badm210       A       172\n",
       "6  badm210       B       216\n",
       "7  ansc307       A        55"
      ]
     },
     "execution_count": 4,
     "metadata": {},
     "output_type": "execute_result"
    }
   ],
   "source": [
    "# create a data frame for illustration and testing\n",
    "courses = ['cs105', 'cs105', 'stat107', 'stat207', 'stat207',  \n",
    "           'badm210', 'badm210', 'ansc307']\n",
    "sections = ['B', 'A', 'A', 'A', 'B', 'A', 'B', 'A']\n",
    "enrollments = [134, 345, 343, 103, 123, 172, 216, 55]\n",
    "sectdf = pd.DataFrame({'course': courses,\n",
    "                      'section': sections,\n",
    "                      'enrolled': enrollments})\n",
    "sectdf"
   ]
  },
  {
   "cell_type": "markdown",
   "metadata": {},
   "source": [
    "Then, let's summarize this population by calculating its mean.\n",
    "\n",
    "* The population mean is *usually* unknown, because the population is usually too large to collect.\n",
    "* Thus, the population mean is *usually* a population parameter we are trying to make an inference, *using* a sample drawn from this population.\n",
    "* For now, we will assume we know the population mean so we can explore what happens to the sampling distribution and how it related to the population mean."
   ]
  },
  {
   "cell_type": "code",
   "execution_count": 5,
   "metadata": {},
   "outputs": [
    {
     "data": {
      "text/plain": [
       "186.375"
      ]
     },
     "execution_count": 5,
     "metadata": {},
     "output_type": "execute_result"
    }
   ],
   "source": [
    "sectdf['enrolled'].mean()"
   ]
  },
  {
   "cell_type": "markdown",
   "metadata": {},
   "source": [
    "#### So we will say that $\\mu=186.375."
   ]
  },
  {
   "cell_type": "markdown",
   "metadata": {},
   "source": [
    "We can also summarize this population by calculating its standard deviation.\n",
    "\n",
    "* The population standard deviation is *usually* unknown, because the population is usually too large to collect.\n",
    "* For now, we will assume we know the population standard deviation."
   ]
  },
  {
   "cell_type": "code",
   "execution_count": 6,
   "metadata": {},
   "outputs": [
    {
     "data": {
      "text/plain": [
       "108.06603470629824"
      ]
     },
     "execution_count": 6,
     "metadata": {},
     "output_type": "execute_result"
    }
   ],
   "source": [
    "sectdf['enrolled'].std()"
   ]
  },
  {
   "cell_type": "markdown",
   "metadata": {},
   "source": [
    "#### So we will say that $\\sigma=108.07$."
   ]
  },
  {
   "cell_type": "markdown",
   "metadata": {},
   "source": [
    "We've summarized a little about this population.  We might want to learn more about the distribution, including its shape.  \n",
    "\n",
    "We can examine the distribution in more detail with a histogram."
   ]
  },
  {
   "cell_type": "code",
   "execution_count": 7,
   "metadata": {},
   "outputs": [
    {
     "data": {
      "image/png": "[encoded data removed]",
      "text/plain": [
       "<Figure size 432x288 with 1 Axes>"
      ]
     },
     "metadata": {},
     "output_type": "display_data"
    }
   ],
   "source": [
    "sectdf['enrolled'].hist(density=True, color='green')\n",
    "plt.title('Population Distribution')\n",
    "plt.xlabel('Class Enrollment Size')\n",
    "plt.show()"
   ]
  },
  {
   "cell_type": "markdown",
   "metadata": {},
   "source": [
    "### Sample\n",
    "\n",
    "What happens if instead I start taking samples of the data?\n",
    "\n",
    "I'll start by taking a random sample of size 2.\n",
    "\n",
    "Then, because I know one sample only provides a small picture of the data, I'll take repeated random samples of the same size.  For each random sample, I'll generate the mean to summarize the distribution.  Then, I'll observe what the set of sample means looks like.\n",
    "\n",
    "#### Samples of Size 2\n",
    "\n",
    "To start, I'll consider taking repeated random samples of size 2."
   ]
  },
  {
   "cell_type": "code",
   "execution_count": 8,
   "metadata": {},
   "outputs": [
    {
     "data": {
      "text/plain": [
       "2    343\n",
       "1    345\n",
       "Name: enrolled, dtype: int64"
      ]
     },
     "execution_count": 8,
     "metadata": {},
     "output_type": "execute_result"
    }
   ],
   "source": [
    "rand_sample=sectdf['enrolled'].sample(2, replace=True)\n",
    "rand_sample"
   ]
  },
  {
   "cell_type": "code",
   "execution_count": 9,
   "metadata": {},
   "outputs": [
    {
     "name": "stdout",
     "output_type": "stream",
     "text": [
      "Sampling Distribution of Sample Means (samples of size n=2)\n",
      "      enrolled\n",
      "0         89.0\n",
      "1        280.5\n",
      "2        153.0\n",
      "3         94.5\n",
      "4        128.5\n",
      "...        ...\n",
      "9995     279.5\n",
      "9996     344.0\n",
      "9997     233.0\n",
      "9998     199.0\n",
      "9999     169.5\n",
      "\n",
      "[10000 rows x 1 columns]\n"
     ]
    }
   ],
   "source": [
    "x = 'enrolled'\n",
    "SampleMeans = []\n",
    "for i in range(10000):\n",
    "    \n",
    "    rand_sample=sectdf[x].sample(2, replace=True)\n",
    "    rand_sample_mean=rand_sample.mean()\n",
    "    SampleMeans.append(rand_sample_mean)\n",
    "    \n",
    "print('Sampling Distribution of Sample Means (samples of size n=2)')\n",
    "print(pd.DataFrame({x: SampleMeans}))"
   ]
  },
  {
   "cell_type": "code",
   "execution_count": 10,
   "metadata": {},
   "outputs": [
    {
     "data": {
      "image/png": "[encoded data removed]",
      "text/plain": [
       "<Figure size 432x288 with 1 Axes>"
      ]
     },
     "metadata": {},
     "output_type": "display_data"
    }
   ],
   "source": [
    "sampdist = pd.DataFrame({x: SampleMeans})\n",
    "sampdist['enrolled'].hist(density=True, color='purple')\n",
    "plt.title('Sampling Distribution (n = 2)')\n",
    "plt.xlabel('Sample Mean Enrollment of Samples (of size n = 2)')\n",
    "plt.show()"
   ]
  },
  {
   "cell_type": "code",
   "execution_count": 11,
   "metadata": {},
   "outputs": [
    {
     "data": {
      "text/plain": [
       "enrolled\n",
       "55.0     168\n",
       "79.0     309\n",
       "89.0     336\n",
       "94.5     309\n",
       "103.0    147\n",
       "113.0    320\n",
       "113.5    289\n",
       "118.5    299\n",
       "123.0    157\n",
       "128.5    307\n",
       "134.0    175\n",
       "135.5    306\n",
       "137.5    362\n",
       "147.5    296\n",
       "153.0    306\n",
       "159.5    314\n",
       "169.5    313\n",
       "172.0    170\n",
       "175.0    310\n",
       "194.0    313\n",
       "199.0    299\n",
       "200.0    295\n",
       "216.0    169\n",
       "223.0    333\n",
       "224.0    319\n",
       "233.0    279\n",
       "234.0    292\n",
       "238.5    320\n",
       "239.5    316\n",
       "257.5    325\n",
       "258.5    310\n",
       "279.5    322\n",
       "280.5    302\n",
       "343.0    175\n",
       "344.0    296\n",
       "345.0    142\n",
       "dtype: int64"
      ]
     },
     "execution_count": 11,
     "metadata": {},
     "output_type": "execute_result"
    }
   ],
   "source": [
    "sampdist.sort_values(by = 'enrolled', inplace = True)\n",
    "distcount = sampdist.value_counts()\n",
    "distcount\n",
    "\n",
    "sampdist.groupby('enrolled').size()"
   ]
  },
  {
   "cell_type": "code",
   "execution_count": 12,
   "metadata": {},
   "outputs": [
    {
     "name": "stdout",
     "output_type": "stream",
     "text": [
      "enrolled    185.8993\n",
      "dtype: float64\n",
      "enrolled    71.437789\n",
      "dtype: float64\n"
     ]
    }
   ],
   "source": [
    "print(sampdist.mean())\n",
    "print(sampdist.std())\n"
   ]
  },
  {
   "cell_type": "markdown",
   "metadata": {},
   "source": [
    "#### Repeated Random Samples of Size n = 10\n",
    "\n",
    "Now, create a sampling distribution of sample means with samples of size n=10. What is the mean, standard deviation, and shape of the sample means in this sampling distribution?\n",
    "\n",
    "Let's generate 5 random samples from the data frame and calculate the corresponding sample means. This is a very simple example of a Monte Carlo simulation.\n",
    "\n",
    "We use a for loop where we initialize an empty array, SampleMeans, and then iterate a sepcified number of times. To understand how each step works you might find it helpful to break out the individual steps and run them with different values of the iteration variable i. \n",
    "\n",
    "<u> Step-by-step</u>:  Let's create a sampling distribution with M=5 sample means"
   ]
  },
  {
   "cell_type": "code",
   "execution_count": 13,
   "metadata": {},
   "outputs": [
    {
     "name": "stdout",
     "output_type": "stream",
     "text": [
      "Trial Number: 0\n",
      "Random Sample\n",
      "4    123\n",
      "7     55\n",
      "6    216\n",
      "0    134\n",
      "4    123\n",
      "3    103\n",
      "6    216\n",
      "1    345\n",
      "7     55\n",
      "1    345\n",
      "Name: enrolled, dtype: int64\n",
      "Random Sample Mean\n",
      "171.5\n",
      "Current Sampling Distribution List\n",
      "[171.5]\n",
      "---------\n",
      "Trial Number: 1\n",
      "Random Sample\n",
      "3    103\n",
      "3    103\n",
      "5    172\n",
      "4    123\n",
      "6    216\n",
      "0    134\n",
      "6    216\n",
      "3    103\n",
      "7     55\n",
      "0    134\n",
      "Name: enrolled, dtype: int64\n",
      "Random Sample Mean\n",
      "135.9\n",
      "Current Sampling Distribution List\n",
      "[171.5, 135.9]\n",
      "---------\n",
      "Trial Number: 2\n",
      "Random Sample\n",
      "1    345\n",
      "0    134\n",
      "3    103\n",
      "6    216\n",
      "5    172\n",
      "4    123\n",
      "3    103\n",
      "5    172\n",
      "7     55\n",
      "0    134\n",
      "Name: enrolled, dtype: int64\n",
      "Random Sample Mean\n",
      "155.7\n",
      "Current Sampling Distribution List\n",
      "[171.5, 135.9, 155.7]\n",
      "---------\n",
      "Trial Number: 3\n",
      "Random Sample\n",
      "2    343\n",
      "3    103\n",
      "7     55\n",
      "5    172\n",
      "6    216\n",
      "1    345\n",
      "6    216\n",
      "3    103\n",
      "7     55\n",
      "1    345\n",
      "Name: enrolled, dtype: int64\n",
      "Random Sample Mean\n",
      "195.3\n",
      "Current Sampling Distribution List\n",
      "[171.5, 135.9, 155.7, 195.3]\n",
      "---------\n",
      "Trial Number: 4\n",
      "Random Sample\n",
      "7     55\n",
      "5    172\n",
      "0    134\n",
      "3    103\n",
      "7     55\n",
      "5    172\n",
      "7     55\n",
      "4    123\n",
      "3    103\n",
      "6    216\n",
      "Name: enrolled, dtype: int64\n",
      "Random Sample Mean\n",
      "118.8\n",
      "Current Sampling Distribution List\n",
      "[171.5, 135.9, 155.7, 195.3, 118.8]\n",
      "---------\n",
      "Sampling Distribution of Sample Means (samples of size n=10)\n",
      "   enrolled\n",
      "0     171.5\n",
      "1     135.9\n",
      "2     155.7\n",
      "3     195.3\n",
      "4     118.8\n"
     ]
    }
   ],
   "source": [
    "# iterate 5 times\n",
    "x = 'enrolled'\n",
    "SampleMeans = []\n",
    "for i in range(5):\n",
    "    print('Trial Number:',i)\n",
    "    #1. Collect a random sample of size n=10 with replacement from the population of enrollments\n",
    "    rand_sample=sectdf[x].sample(10, replace=True)\n",
    "    print('Random Sample')\n",
    "    print(rand_sample)\n",
    "    \n",
    "    #2. Take the mean of this random sample\n",
    "    rand_sample_mean=rand_sample.mean()\n",
    "    print('Random Sample Mean')\n",
    "    print(rand_sample_mean)\n",
    "    \n",
    "    #3. Append this random sample mean to the SampleMeans list (which is our SAMPLING DISTRIBUTION OF SAMPLE MEANS!)\n",
    "    SampleMeans.append(rand_sample_mean)\n",
    "    print('Current Sampling Distribution List')\n",
    "    print(SampleMeans)\n",
    "    print('---------')\n",
    "    \n",
    "#4. print out in a dataframe\n",
    "print('Sampling Distribution of Sample Means (samples of size n=10)')\n",
    "print(pd.DataFrame({x: SampleMeans}))"
   ]
  },
  {
   "cell_type": "markdown",
   "metadata": {},
   "source": [
    "<u>More Consise Code</u>: Let's rerun this same code, but write it in a more consise way.\n",
    "\n",
    "**Note:** Remember, this will not give us the same sampling distribution as the code above, because we did not set a random_state and the **.sample()** function returns random results."
   ]
  },
  {
   "cell_type": "code",
   "execution_count": 14,
   "metadata": {},
   "outputs": [
    {
     "name": "stdout",
     "output_type": "stream",
     "text": [
      "Sampling Distribution of Sample Means (samples of size n=10)\n",
      "   enrolled\n",
      "0     220.0\n",
      "1      93.8\n",
      "2     183.7\n",
      "3     141.6\n",
      "4     145.2\n"
     ]
    }
   ],
   "source": [
    "# iterate 5 times\n",
    "x = 'enrolled'\n",
    "SampleMeans = []\n",
    "for i in range(5):\n",
    "    #1. Collect a random sample of size n=10 with replacement\n",
    "    #2. Take the mean of this random sample\n",
    "    #3. Append this random sample mean to the SampleMeans list (which is our SAMPLING DISTRIBUTION OF SAMPLE MEANS!)\n",
    "    SampleMeans.append(sectdf[x].sample(10, replace=True).mean())    \n",
    "    \n",
    "#4. print out in a dataframe\n",
    "print('Sampling Distribution of Sample Means (samples of size n=10)')\n",
    "print(pd.DataFrame({x: SampleMeans}))"
   ]
  },
  {
   "cell_type": "markdown",
   "metadata": {},
   "source": [
    "<u>Sampling Distribution with M=1000 Sample Means</u>: \n",
    "Using M=5 trials (ie. M=5 sample means) to create a sampling distribution is usually not enough to gain a good representation of a sampling distribution's behavior. Let's run the code below using M=1000 trials (ie. M=1000 sample means)."
   ]
  },
  {
   "cell_type": "code",
   "execution_count": 15,
   "metadata": {},
   "outputs": [
    {
     "name": "stdout",
     "output_type": "stream",
     "text": [
      "Sampling Distribution of Sample Means (samples of size n=10)\n"
     ]
    },
    {
     "data": {
      "text/html": [
       "<div>\n",
       "<style scoped>\n",
       "    .dataframe tbody tr th:only-of-type {\n",
       "        vertical-align: middle;\n",
       "    }\n",
       "\n",
       "    .dataframe tbody tr th {\n",
       "        vertical-align: top;\n",
       "    }\n",
       "\n",
       "    .dataframe thead th {\n",
       "        text-align: right;\n",
       "    }\n",
       "</style>\n",
       "<table border=\"1\" class=\"dataframe\">\n",
       "  <thead>\n",
       "    <tr style=\"text-align: right;\">\n",
       "      <th></th>\n",
       "      <th>enrolled</th>\n",
       "    </tr>\n",
       "  </thead>\n",
       "  <tbody>\n",
       "    <tr>\n",
       "      <th>0</th>\n",
       "      <td>134.1</td>\n",
       "    </tr>\n",
       "    <tr>\n",
       "      <th>1</th>\n",
       "      <td>229.5</td>\n",
       "    </tr>\n",
       "    <tr>\n",
       "      <th>2</th>\n",
       "      <td>159.5</td>\n",
       "    </tr>\n",
       "    <tr>\n",
       "      <th>3</th>\n",
       "      <td>179.6</td>\n",
       "    </tr>\n",
       "    <tr>\n",
       "      <th>4</th>\n",
       "      <td>212.2</td>\n",
       "    </tr>\n",
       "    <tr>\n",
       "      <th>...</th>\n",
       "      <td>...</td>\n",
       "    </tr>\n",
       "    <tr>\n",
       "      <th>995</th>\n",
       "      <td>147.9</td>\n",
       "    </tr>\n",
       "    <tr>\n",
       "      <th>996</th>\n",
       "      <td>185.8</td>\n",
       "    </tr>\n",
       "    <tr>\n",
       "      <th>997</th>\n",
       "      <td>211.9</td>\n",
       "    </tr>\n",
       "    <tr>\n",
       "      <th>998</th>\n",
       "      <td>150.4</td>\n",
       "    </tr>\n",
       "    <tr>\n",
       "      <th>999</th>\n",
       "      <td>208.0</td>\n",
       "    </tr>\n",
       "  </tbody>\n",
       "</table>\n",
       "<p>1000 rows × 1 columns</p>\n",
       "</div>"
      ],
      "text/plain": [
       "     enrolled\n",
       "0       134.1\n",
       "1       229.5\n",
       "2       159.5\n",
       "3       179.6\n",
       "4       212.2\n",
       "..        ...\n",
       "995     147.9\n",
       "996     185.8\n",
       "997     211.9\n",
       "998     150.4\n",
       "999     208.0\n",
       "\n",
       "[1000 rows x 1 columns]"
      ]
     },
     "execution_count": 15,
     "metadata": {},
     "output_type": "execute_result"
    }
   ],
   "source": [
    "# iterate 1000 times\n",
    "# parametrize the sample size. number of random samples, \n",
    "# and the variable name\n",
    "x = 'enrolled'\n",
    "n=10\n",
    "M=1000\n",
    "SampleMeans = []\n",
    "for i in range(M):\n",
    "    #1. Collect a random sample of size n=10 with replacement\n",
    "    #2. Take the mean of this random sample\n",
    "    #3. Append this random sample mean to the SampleMeans list (which is our SAMPLING DISTRIBUTION OF SAMPLE MEANS!)\n",
    "    SampleMeans.append(sectdf[x].sample(n, replace=True).mean())\n",
    "\n",
    "#4. print out in a dataframe\n",
    "print('Sampling Distribution of Sample Means (samples of size n=10)')    \n",
    "MonteCarlo = pd.DataFrame({x: SampleMeans})\n",
    "MonteCarlo"
   ]
  },
  {
   "cell_type": "code",
   "execution_count": 16,
   "metadata": {},
   "outputs": [
    {
     "data": {
      "text/plain": [
       "(1000, 1)"
      ]
     },
     "execution_count": 16,
     "metadata": {},
     "output_type": "execute_result"
    }
   ],
   "source": [
    "MonteCarlo.shape"
   ]
  },
  {
   "cell_type": "markdown",
   "metadata": {},
   "source": [
    "<u>Making our own functions to Create a Sampling Distribution of Sample Means</u>\n",
    "\n",
    "If we want to try lots of different values for n and M it gets tedious to keep copying the code and changing the parameters in multiple locations. Instead, we can make our own function to do this kind of task with varying inputs. This saves a lot of redundant effort. It also makes it easier to understand and debug the code. \n",
    "\n",
    "Here's a function to do the Monte carlo simulation of the sample mean for different sample sizes and numbers of Monte Carlo samples. Notice that we input the data frame (or data series), variable name x as a text string, sample size n, and number of Monte Carlo samples M. Here again, the **colon (:)** and **indentation (4 characters)** are important to indicate that the ensuing lines of code are included in the function."
   ]
  },
  {
   "cell_type": "code",
   "execution_count": 17,
   "metadata": {},
   "outputs": [],
   "source": [
    "def MCmeans(df, x='', replace=True, n=1, M=1):\n",
    "    #INPUT:\n",
    "    # df is a data frame\n",
    "    # x is a text-valued name for a variable in the data frame\n",
    "    # replace = True or False depending on whether \n",
    "    #    draws are with or without replacement\n",
    "    # n = number of draws per sample\n",
    "    # M = number of samples to draw\n",
    "    MCstats = []\n",
    "    for i in range(M):\n",
    "        #1. Collect a random sample of size n=10 with replacement\n",
    "        #2. Take the mean of this random sample\n",
    "        #3. Append this random sample mean to the SampleMeans list \n",
    "        # (which is our SAMPLING DISTRIBUTION OF SAMPLE MEANS!)\n",
    "        MCstats.append(df[x].sample(n, replace=replace).mean())\n",
    "    #4. returns the sampling distribution in a dataframe format\n",
    "    return pd.DataFrame({x: MCstats})"
   ]
  },
  {
   "cell_type": "code",
   "execution_count": 18,
   "metadata": {},
   "outputs": [
    {
     "data": {
      "text/html": [
       "<div>\n",
       "<style scoped>\n",
       "    .dataframe tbody tr th:only-of-type {\n",
       "        vertical-align: middle;\n",
       "    }\n",
       "\n",
       "    .dataframe tbody tr th {\n",
       "        vertical-align: top;\n",
       "    }\n",
       "\n",
       "    .dataframe thead th {\n",
       "        text-align: right;\n",
       "    }\n",
       "</style>\n",
       "<table border=\"1\" class=\"dataframe\">\n",
       "  <thead>\n",
       "    <tr style=\"text-align: right;\">\n",
       "      <th></th>\n",
       "      <th>enrolled</th>\n",
       "    </tr>\n",
       "  </thead>\n",
       "  <tbody>\n",
       "    <tr>\n",
       "      <th>0</th>\n",
       "      <td>181.6</td>\n",
       "    </tr>\n",
       "    <tr>\n",
       "      <th>1</th>\n",
       "      <td>219.4</td>\n",
       "    </tr>\n",
       "    <tr>\n",
       "      <th>2</th>\n",
       "      <td>211.4</td>\n",
       "    </tr>\n",
       "    <tr>\n",
       "      <th>3</th>\n",
       "      <td>154.7</td>\n",
       "    </tr>\n",
       "    <tr>\n",
       "      <th>4</th>\n",
       "      <td>189.0</td>\n",
       "    </tr>\n",
       "    <tr>\n",
       "      <th>...</th>\n",
       "      <td>...</td>\n",
       "    </tr>\n",
       "    <tr>\n",
       "      <th>9995</th>\n",
       "      <td>214.7</td>\n",
       "    </tr>\n",
       "    <tr>\n",
       "      <th>9996</th>\n",
       "      <td>153.4</td>\n",
       "    </tr>\n",
       "    <tr>\n",
       "      <th>9997</th>\n",
       "      <td>203.2</td>\n",
       "    </tr>\n",
       "    <tr>\n",
       "      <th>9998</th>\n",
       "      <td>114.7</td>\n",
       "    </tr>\n",
       "    <tr>\n",
       "      <th>9999</th>\n",
       "      <td>226.1</td>\n",
       "    </tr>\n",
       "  </tbody>\n",
       "</table>\n",
       "<p>10000 rows × 1 columns</p>\n",
       "</div>"
      ],
      "text/plain": [
       "      enrolled\n",
       "0        181.6\n",
       "1        219.4\n",
       "2        211.4\n",
       "3        154.7\n",
       "4        189.0\n",
       "...        ...\n",
       "9995     214.7\n",
       "9996     153.4\n",
       "9997     203.2\n",
       "9998     114.7\n",
       "9999     226.1\n",
       "\n",
       "[10000 rows x 1 columns]"
      ]
     },
     "execution_count": 18,
     "metadata": {},
     "output_type": "execute_result"
    }
   ],
   "source": [
    "MonteCarlo = MCmeans(df=sectdf, x=\"enrolled\", n=10, M=10000)\n",
    "\n",
    "MonteCarlo"
   ]
  },
  {
   "cell_type": "markdown",
   "metadata": {},
   "source": [
    "<u>What is the mean, standard deviation, and shape of this sampling distribution of sample means when the size of the samples is n=10? </u>\n",
    "\n",
    "**Mean of the Sampling Distribution Means**"
   ]
  },
  {
   "cell_type": "code",
   "execution_count": 19,
   "metadata": {},
   "outputs": [
    {
     "data": {
      "text/plain": [
       "186.03164999999976"
      ]
     },
     "execution_count": 19,
     "metadata": {},
     "output_type": "execute_result"
    }
   ],
   "source": [
    "MonteCarlo['enrolled'].mean()"
   ]
  },
  {
   "cell_type": "markdown",
   "metadata": {},
   "source": [
    "**Standard Deviation of the Sampling Distribution Means**"
   ]
  },
  {
   "cell_type": "code",
   "execution_count": 20,
   "metadata": {},
   "outputs": [
    {
     "data": {
      "text/plain": [
       "31.831252695147185"
      ]
     },
     "execution_count": 20,
     "metadata": {},
     "output_type": "execute_result"
    }
   ],
   "source": [
    "MonteCarlo['enrolled'].std()"
   ]
  },
  {
   "cell_type": "code",
   "execution_count": 21,
   "metadata": {},
   "outputs": [
    {
     "data": {
      "image/png": "[encoded data removed]",
      "text/plain": [
       "<Figure size 432x288 with 1 Axes>"
      ]
     },
     "metadata": {},
     "output_type": "display_data"
    }
   ],
   "source": [
    "MonteCarlo['enrolled'].hist(density=True)\n",
    "plt.title('Sampling Distribution (n=10)')\n",
    "plt.xlabel('Sample Mean Enrollment of Samples (of size n=10) \\n Drawn from sectdf Population with Replacement')\n",
    "plt.show()"
   ]
  },
  {
   "cell_type": "markdown",
   "metadata": {},
   "source": [
    "#### Sampling Distribution when n = 100\n",
    "\n",
    "Now, let's consider increasing the sample size to n = 100.  Repeat the analysis above for this larger sample size, specifying the mean, standard deviation, and shape of the sample means in this sampling distribution."
   ]
  },
  {
   "cell_type": "code",
   "execution_count": 22,
   "metadata": {},
   "outputs": [
    {
     "data": {
      "text/html": [
       "<div>\n",
       "<style scoped>\n",
       "    .dataframe tbody tr th:only-of-type {\n",
       "        vertical-align: middle;\n",
       "    }\n",
       "\n",
       "    .dataframe tbody tr th {\n",
       "        vertical-align: top;\n",
       "    }\n",
       "\n",
       "    .dataframe thead th {\n",
       "        text-align: right;\n",
       "    }\n",
       "</style>\n",
       "<table border=\"1\" class=\"dataframe\">\n",
       "  <thead>\n",
       "    <tr style=\"text-align: right;\">\n",
       "      <th></th>\n",
       "      <th>enrolled</th>\n",
       "    </tr>\n",
       "  </thead>\n",
       "  <tbody>\n",
       "    <tr>\n",
       "      <th>0</th>\n",
       "      <td>173.68</td>\n",
       "    </tr>\n",
       "    <tr>\n",
       "      <th>1</th>\n",
       "      <td>182.79</td>\n",
       "    </tr>\n",
       "    <tr>\n",
       "      <th>2</th>\n",
       "      <td>192.31</td>\n",
       "    </tr>\n",
       "    <tr>\n",
       "      <th>3</th>\n",
       "      <td>192.67</td>\n",
       "    </tr>\n",
       "    <tr>\n",
       "      <th>4</th>\n",
       "      <td>216.41</td>\n",
       "    </tr>\n",
       "    <tr>\n",
       "      <th>...</th>\n",
       "      <td>...</td>\n",
       "    </tr>\n",
       "    <tr>\n",
       "      <th>9995</th>\n",
       "      <td>188.96</td>\n",
       "    </tr>\n",
       "    <tr>\n",
       "      <th>9996</th>\n",
       "      <td>204.68</td>\n",
       "    </tr>\n",
       "    <tr>\n",
       "      <th>9997</th>\n",
       "      <td>196.84</td>\n",
       "    </tr>\n",
       "    <tr>\n",
       "      <th>9998</th>\n",
       "      <td>175.38</td>\n",
       "    </tr>\n",
       "    <tr>\n",
       "      <th>9999</th>\n",
       "      <td>187.56</td>\n",
       "    </tr>\n",
       "  </tbody>\n",
       "</table>\n",
       "<p>10000 rows × 1 columns</p>\n",
       "</div>"
      ],
      "text/plain": [
       "      enrolled\n",
       "0       173.68\n",
       "1       182.79\n",
       "2       192.31\n",
       "3       192.67\n",
       "4       216.41\n",
       "...        ...\n",
       "9995    188.96\n",
       "9996    204.68\n",
       "9997    196.84\n",
       "9998    175.38\n",
       "9999    187.56\n",
       "\n",
       "[10000 rows x 1 columns]"
      ]
     },
     "execution_count": 22,
     "metadata": {},
     "output_type": "execute_result"
    }
   ],
   "source": [
    "MonteCarlo = MCmeans(df=sectdf, x=\"enrolled\", n=100, M=10000)\n",
    "MonteCarlo"
   ]
  },
  {
   "cell_type": "code",
   "execution_count": 23,
   "metadata": {},
   "outputs": [
    {
     "name": "stdout",
     "output_type": "stream",
     "text": [
      "Sampling Distribution Mean (Samples of Size n=100): 186.4598419999992\n",
      "Sampling Distribution Standard Deviation (Samples of size n=100): 10.243516070040789\n"
     ]
    }
   ],
   "source": [
    "print('Sampling Distribution Mean (Samples of Size n=100):',MonteCarlo['enrolled'].mean())\n",
    "print('Sampling Distribution Standard Deviation (Samples of size n=100):',MonteCarlo['enrolled'].std())"
   ]
  },
  {
   "cell_type": "code",
   "execution_count": 24,
   "metadata": {},
   "outputs": [
    {
     "data": {
      "image/png": "[encoded data removed]",
      "text/plain": [
       "<Figure size 432x288 with 1 Axes>"
      ]
     },
     "metadata": {},
     "output_type": "display_data"
    }
   ],
   "source": [
    "MonteCarlo['enrolled'].hist(density=True)\n",
    "plt.title('Sampling Distribution (n=100)')\n",
    "plt.xlabel('Sample Mean Enrollment of Samples (of size n=100) \\n Drawn from sectdf Population with Replacement')\n",
    "plt.show()"
   ]
  },
  {
   "cell_type": "markdown",
   "metadata": {},
   "source": [
    "#### Sampling Distribution when n = 400\n",
    "\n",
    "Again, we'll repeat this same analysis, now with n = 400.  Create the sampling distribution, and calculate the mean, standard deviation, and shape of the sample means in this sampling distribution."
   ]
  },
  {
   "cell_type": "code",
   "execution_count": 25,
   "metadata": {},
   "outputs": [
    {
     "data": {
      "text/html": [
       "<div>\n",
       "<style scoped>\n",
       "    .dataframe tbody tr th:only-of-type {\n",
       "        vertical-align: middle;\n",
       "    }\n",
       "\n",
       "    .dataframe tbody tr th {\n",
       "        vertical-align: top;\n",
       "    }\n",
       "\n",
       "    .dataframe thead th {\n",
       "        text-align: right;\n",
       "    }\n",
       "</style>\n",
       "<table border=\"1\" class=\"dataframe\">\n",
       "  <thead>\n",
       "    <tr style=\"text-align: right;\">\n",
       "      <th></th>\n",
       "      <th>enrolled</th>\n",
       "    </tr>\n",
       "  </thead>\n",
       "  <tbody>\n",
       "    <tr>\n",
       "      <th>0</th>\n",
       "      <td>184.7850</td>\n",
       "    </tr>\n",
       "    <tr>\n",
       "      <th>1</th>\n",
       "      <td>181.9850</td>\n",
       "    </tr>\n",
       "    <tr>\n",
       "      <th>2</th>\n",
       "      <td>194.5775</td>\n",
       "    </tr>\n",
       "    <tr>\n",
       "      <th>3</th>\n",
       "      <td>191.1325</td>\n",
       "    </tr>\n",
       "    <tr>\n",
       "      <th>4</th>\n",
       "      <td>192.9700</td>\n",
       "    </tr>\n",
       "    <tr>\n",
       "      <th>...</th>\n",
       "      <td>...</td>\n",
       "    </tr>\n",
       "    <tr>\n",
       "      <th>9995</th>\n",
       "      <td>186.2425</td>\n",
       "    </tr>\n",
       "    <tr>\n",
       "      <th>9996</th>\n",
       "      <td>189.0450</td>\n",
       "    </tr>\n",
       "    <tr>\n",
       "      <th>9997</th>\n",
       "      <td>180.2525</td>\n",
       "    </tr>\n",
       "    <tr>\n",
       "      <th>9998</th>\n",
       "      <td>184.2225</td>\n",
       "    </tr>\n",
       "    <tr>\n",
       "      <th>9999</th>\n",
       "      <td>183.8050</td>\n",
       "    </tr>\n",
       "  </tbody>\n",
       "</table>\n",
       "<p>10000 rows × 1 columns</p>\n",
       "</div>"
      ],
      "text/plain": [
       "      enrolled\n",
       "0     184.7850\n",
       "1     181.9850\n",
       "2     194.5775\n",
       "3     191.1325\n",
       "4     192.9700\n",
       "...        ...\n",
       "9995  186.2425\n",
       "9996  189.0450\n",
       "9997  180.2525\n",
       "9998  184.2225\n",
       "9999  183.8050\n",
       "\n",
       "[10000 rows x 1 columns]"
      ]
     },
     "execution_count": 25,
     "metadata": {},
     "output_type": "execute_result"
    }
   ],
   "source": [
    "MonteCarlo = MCmeans(df=sectdf, x=\"enrolled\", n=400, M=10000)\n",
    "MonteCarlo"
   ]
  },
  {
   "cell_type": "code",
   "execution_count": 26,
   "metadata": {},
   "outputs": [
    {
     "name": "stdout",
     "output_type": "stream",
     "text": [
      "Sampling Distribution Mean (Samples of Size n=400): 186.31838750000045\n",
      "Sampling Distribution Standard Deviation (Samples of size n=400): 5.0195315999943615\n"
     ]
    }
   ],
   "source": [
    "print('Sampling Distribution Mean (Samples of Size n=400):',MonteCarlo['enrolled'].mean())\n",
    "print('Sampling Distribution Standard Deviation (Samples of size n=400):',MonteCarlo['enrolled'].std())"
   ]
  },
  {
   "cell_type": "code",
   "execution_count": 27,
   "metadata": {},
   "outputs": [
    {
     "data": {
      "image/png": "[encoded data removed]",
      "text/plain": [
       "<Figure size 432x288 with 1 Axes>"
      ]
     },
     "metadata": {},
     "output_type": "display_data"
    }
   ],
   "source": [
    "MonteCarlo['enrolled'].hist(density=True)\n",
    "plt.title('Sampling Distribution (n=400)')\n",
    "plt.xlabel('Sample Mean Enrollment of Samples (of size n=400) \\n Drawn from sectdf Population with Replacement')\n",
    "plt.show()"
   ]
  },
  {
   "cell_type": "markdown",
   "metadata": {},
   "source": [
    "## <u>Case Study 2</u>: Sampling Distribution of Sample Proportions\n",
    "\n",
    "If we make one draw, i.e., toss the coin once, then the uniform probability principle tells us the probability of a 1 is $p$ = 1/2. What if we draw (flip) 10 times randomly and without replacement? What proportion $\\hat{p}$ of \"heads\" do we expect? How much is it likely to vary from this expectation? What if we toss 100 times, or 400?\n",
    "\n",
    "Let's consider a series of sample sizes and study how the sampling distribution is affected. We'll compute mean and standard deviation of the Monte Carlo values, and look at the histrogram as well to get a picture fo the sample distributions for different sample sizes.\n"
   ]
  },
  {
   "cell_type": "markdown",
   "metadata": {},
   "source": [
    "### <u> Research Question</u>: \n",
    "\n",
    "What happens to the mean, standard deviation, and shape of the sampling distribution of sample proportions as we increased the size of the samples n?\n",
    "\n",
    "### Population Information\n"
   ]
  },
  {
   "cell_type": "markdown",
   "metadata": {},
   "source": [
    "With our function available we can simulate all kinds of things. Here is a \"data frame\" of the possible outcomes when flipping a coin."
   ]
  },
  {
   "cell_type": "code",
   "execution_count": 28,
   "metadata": {},
   "outputs": [
    {
     "data": {
      "text/html": [
       "<div>\n",
       "<style scoped>\n",
       "    .dataframe tbody tr th:only-of-type {\n",
       "        vertical-align: middle;\n",
       "    }\n",
       "\n",
       "    .dataframe tbody tr th {\n",
       "        vertical-align: top;\n",
       "    }\n",
       "\n",
       "    .dataframe thead th {\n",
       "        text-align: right;\n",
       "    }\n",
       "</style>\n",
       "<table border=\"1\" class=\"dataframe\">\n",
       "  <thead>\n",
       "    <tr style=\"text-align: right;\">\n",
       "      <th></th>\n",
       "      <th>toss</th>\n",
       "      <th>value</th>\n",
       "    </tr>\n",
       "  </thead>\n",
       "  <tbody>\n",
       "    <tr>\n",
       "      <th>0</th>\n",
       "      <td>heads</td>\n",
       "      <td>1</td>\n",
       "    </tr>\n",
       "    <tr>\n",
       "      <th>1</th>\n",
       "      <td>tails</td>\n",
       "      <td>0</td>\n",
       "    </tr>\n",
       "  </tbody>\n",
       "</table>\n",
       "</div>"
      ],
      "text/plain": [
       "    toss  value\n",
       "0  heads      1\n",
       "1  tails      0"
      ]
     },
     "execution_count": 28,
     "metadata": {},
     "output_type": "execute_result"
    }
   ],
   "source": [
    "df = pd.DataFrame({'toss':['heads','tails'], 'value': [1, 0]})\n",
    "df"
   ]
  },
  {
   "cell_type": "markdown",
   "metadata": {},
   "source": [
    "**Population Proportion of Heads**"
   ]
  },
  {
   "cell_type": "code",
   "execution_count": 29,
   "metadata": {},
   "outputs": [
    {
     "data": {
      "text/plain": [
       "heads    0.5\n",
       "tails    0.5\n",
       "Name: toss, dtype: float64"
      ]
     },
     "execution_count": 29,
     "metadata": {},
     "output_type": "execute_result"
    }
   ],
   "source": [
    "df['toss'].value_counts(normalize=True)"
   ]
  },
  {
   "cell_type": "markdown",
   "metadata": {},
   "source": [
    "#### The population proportion of heads is $p=0.5$."
   ]
  },
  {
   "cell_type": "markdown",
   "metadata": {},
   "source": [
    "### Sampling Distribution when n = 10\n",
    "\n",
    "Create a sampling distribution of sample proportions with samples of size n=10. What is the mean, standard deviation, and shape of the sample means in this sampling distribution?"
   ]
  },
  {
   "cell_type": "markdown",
   "metadata": {},
   "source": [
    "<u>Step-by-step</u> Let's create a sampling distribution with M=5 sample proportions.\n",
    "\n"
   ]
  },
  {
   "cell_type": "code",
   "execution_count": 30,
   "metadata": {},
   "outputs": [
    {
     "name": "stdout",
     "output_type": "stream",
     "text": [
      "Trial Number: 0\n",
      "Random Sample\n",
      "1    0\n",
      "0    1\n",
      "0    1\n",
      "1    0\n",
      "1    0\n",
      "1    0\n",
      "0    1\n",
      "1    0\n",
      "0    1\n",
      "1    0\n",
      "Name: value, dtype: int64\n",
      "Random Sample Proportion\n",
      "0.4\n",
      "Current Sampling Distribution List\n",
      "[0.4]\n",
      "---------\n",
      "Trial Number: 1\n",
      "Random Sample\n",
      "0    1\n",
      "0    1\n",
      "1    0\n",
      "1    0\n",
      "1    0\n",
      "1    0\n",
      "1    0\n",
      "1    0\n",
      "0    1\n",
      "0    1\n",
      "Name: value, dtype: int64\n",
      "Random Sample Proportion\n",
      "0.4\n",
      "Current Sampling Distribution List\n",
      "[0.4, 0.4]\n",
      "---------\n",
      "Trial Number: 2\n",
      "Random Sample\n",
      "1    0\n",
      "0    1\n",
      "1    0\n",
      "1    0\n",
      "1    0\n",
      "1    0\n",
      "1    0\n",
      "0    1\n",
      "1    0\n",
      "1    0\n",
      "Name: value, dtype: int64\n",
      "Random Sample Proportion\n",
      "0.2\n",
      "Current Sampling Distribution List\n",
      "[0.4, 0.4, 0.2]\n",
      "---------\n",
      "Trial Number: 3\n",
      "Random Sample\n",
      "1    0\n",
      "1    0\n",
      "0    1\n",
      "1    0\n",
      "1    0\n",
      "0    1\n",
      "1    0\n",
      "0    1\n",
      "1    0\n",
      "0    1\n",
      "Name: value, dtype: int64\n",
      "Random Sample Proportion\n",
      "0.4\n",
      "Current Sampling Distribution List\n",
      "[0.4, 0.4, 0.2, 0.4]\n",
      "---------\n",
      "Trial Number: 4\n",
      "Random Sample\n",
      "1    0\n",
      "1    0\n",
      "0    1\n",
      "0    1\n",
      "1    0\n",
      "0    1\n",
      "0    1\n",
      "0    1\n",
      "1    0\n",
      "1    0\n",
      "Name: value, dtype: int64\n",
      "Random Sample Proportion\n",
      "0.5\n",
      "Current Sampling Distribution List\n",
      "[0.4, 0.4, 0.2, 0.4, 0.5]\n",
      "---------\n",
      "Sampling Distribution of Sample Proportions (samples of size n=10)\n",
      "   value\n",
      "0    0.4\n",
      "1    0.4\n",
      "2    0.2\n",
      "3    0.4\n",
      "4    0.5\n"
     ]
    }
   ],
   "source": [
    "# iterate 5 times\n",
    "x = 'value'\n",
    "SampleProportions = []\n",
    "for i in range(5):\n",
    "    print('Trial Number:',i)\n",
    "    #1. Collect a random sample of size n=10 with replacement from the population of enrollments\n",
    "    rand_sample=df[x].sample(10, replace=True)\n",
    "    print('Random Sample')\n",
    "    print(rand_sample)\n",
    "    \n",
    "    #2. Find the sample proportion of heads\n",
    "    # proportion of observations that are equal to 1 (ie. heads) = mean of values in this sample\n",
    "    rand_sample_proportion=rand_sample.mean()\n",
    "    print('Random Sample Proportion')\n",
    "    print(rand_sample_proportion)\n",
    "    \n",
    "    #3. Append this random sample proportions to the SampleProportions list (which is our SAMPLING DISTRIBUTION OF SAMPLE PROPORTIONS!)\n",
    "    SampleProportions.append(rand_sample_proportion)\n",
    "    print('Current Sampling Distribution List')\n",
    "    print(SampleProportions)\n",
    "    print('---------')\n",
    "    \n",
    "#4. print out in a dataframe\n",
    "print('Sampling Distribution of Sample Proportions (samples of size n=10)')\n",
    "print(pd.DataFrame({x: SampleProportions}))"
   ]
  },
  {
   "cell_type": "markdown",
   "metadata": {},
   "source": [
    "<u> Using the Function</u>:\n",
    "\n",
    "Because the **sample proportion of \"1\"'s** in a column of 0/1 values = **sample mean** of the column of 0/1 values, we can create a our sampling distribution of sample proportions the same way (and with the same function) that we used to quickly create a sampling distribution of sample means."
   ]
  },
  {
   "cell_type": "code",
   "execution_count": 31,
   "metadata": {},
   "outputs": [
    {
     "data": {
      "text/html": [
       "<div>\n",
       "<style scoped>\n",
       "    .dataframe tbody tr th:only-of-type {\n",
       "        vertical-align: middle;\n",
       "    }\n",
       "\n",
       "    .dataframe tbody tr th {\n",
       "        vertical-align: top;\n",
       "    }\n",
       "\n",
       "    .dataframe thead th {\n",
       "        text-align: right;\n",
       "    }\n",
       "</style>\n",
       "<table border=\"1\" class=\"dataframe\">\n",
       "  <thead>\n",
       "    <tr style=\"text-align: right;\">\n",
       "      <th></th>\n",
       "      <th>value</th>\n",
       "    </tr>\n",
       "  </thead>\n",
       "  <tbody>\n",
       "    <tr>\n",
       "      <th>0</th>\n",
       "      <td>0.5</td>\n",
       "    </tr>\n",
       "    <tr>\n",
       "      <th>1</th>\n",
       "      <td>0.4</td>\n",
       "    </tr>\n",
       "    <tr>\n",
       "      <th>2</th>\n",
       "      <td>0.3</td>\n",
       "    </tr>\n",
       "    <tr>\n",
       "      <th>3</th>\n",
       "      <td>0.6</td>\n",
       "    </tr>\n",
       "    <tr>\n",
       "      <th>4</th>\n",
       "      <td>0.7</td>\n",
       "    </tr>\n",
       "    <tr>\n",
       "      <th>...</th>\n",
       "      <td>...</td>\n",
       "    </tr>\n",
       "    <tr>\n",
       "      <th>9995</th>\n",
       "      <td>0.3</td>\n",
       "    </tr>\n",
       "    <tr>\n",
       "      <th>9996</th>\n",
       "      <td>0.4</td>\n",
       "    </tr>\n",
       "    <tr>\n",
       "      <th>9997</th>\n",
       "      <td>0.4</td>\n",
       "    </tr>\n",
       "    <tr>\n",
       "      <th>9998</th>\n",
       "      <td>0.4</td>\n",
       "    </tr>\n",
       "    <tr>\n",
       "      <th>9999</th>\n",
       "      <td>0.4</td>\n",
       "    </tr>\n",
       "  </tbody>\n",
       "</table>\n",
       "<p>10000 rows × 1 columns</p>\n",
       "</div>"
      ],
      "text/plain": [
       "      value\n",
       "0       0.5\n",
       "1       0.4\n",
       "2       0.3\n",
       "3       0.6\n",
       "4       0.7\n",
       "...     ...\n",
       "9995    0.3\n",
       "9996    0.4\n",
       "9997    0.4\n",
       "9998    0.4\n",
       "9999    0.4\n",
       "\n",
       "[10000 rows x 1 columns]"
      ]
     },
     "execution_count": 31,
     "metadata": {},
     "output_type": "execute_result"
    }
   ],
   "source": [
    "MonteCarlo = MCmeans(df=df, x=\"value\", n=10, M=10000)\n",
    "MonteCarlo"
   ]
  },
  {
   "cell_type": "markdown",
   "metadata": {},
   "source": [
    "What is the mean, standard deviation, and shape of the sampling distribution of sample proportions?"
   ]
  },
  {
   "cell_type": "code",
   "execution_count": 32,
   "metadata": {},
   "outputs": [
    {
     "name": "stdout",
     "output_type": "stream",
     "text": [
      "Sample size =  10\n",
      "Mean value for sample proportion = 0.49804\n",
      "Standard Deviation for sample proportion = 0.1582\n"
     ]
    }
   ],
   "source": [
    "print('Sample size = ', 10)\n",
    "print('Mean value for sample proportion =', \n",
    "      np.round(MonteCarlo.mean().value, 5))\n",
    "print('Standard Deviation for sample proportion =', \n",
    "      np.round(MonteCarlo.std().value, 5))"
   ]
  },
  {
   "cell_type": "code",
   "execution_count": 33,
   "metadata": {},
   "outputs": [
    {
     "data": {
      "image/png": "[encoded data removed]",
      "text/plain": [
       "<Figure size 432x288 with 1 Axes>"
      ]
     },
     "metadata": {},
     "output_type": "display_data"
    }
   ],
   "source": [
    "MonteCarlo['value'].hist(density=True)\n",
    "plt.title('Sampling Distribution (n=10)')\n",
    "plt.xlabel('Sample Proportion of Heads (of size n=10) \\n Drawn from df Population with Replacement')\n",
    "plt.show()"
   ]
  },
  {
   "cell_type": "markdown",
   "metadata": {},
   "source": [
    "### Sampling Distribution when n = 100\n",
    "\n",
    "Create a sampling distribution of sample proportions with samples of size n=100. What is the mean, standard deviation, and shape of the sample means in this sampling distribution?"
   ]
  },
  {
   "cell_type": "code",
   "execution_count": 34,
   "metadata": {},
   "outputs": [
    {
     "data": {
      "text/html": [
       "<div>\n",
       "<style scoped>\n",
       "    .dataframe tbody tr th:only-of-type {\n",
       "        vertical-align: middle;\n",
       "    }\n",
       "\n",
       "    .dataframe tbody tr th {\n",
       "        vertical-align: top;\n",
       "    }\n",
       "\n",
       "    .dataframe thead th {\n",
       "        text-align: right;\n",
       "    }\n",
       "</style>\n",
       "<table border=\"1\" class=\"dataframe\">\n",
       "  <thead>\n",
       "    <tr style=\"text-align: right;\">\n",
       "      <th></th>\n",
       "      <th>value</th>\n",
       "    </tr>\n",
       "  </thead>\n",
       "  <tbody>\n",
       "    <tr>\n",
       "      <th>0</th>\n",
       "      <td>0.52</td>\n",
       "    </tr>\n",
       "    <tr>\n",
       "      <th>1</th>\n",
       "      <td>0.45</td>\n",
       "    </tr>\n",
       "    <tr>\n",
       "      <th>2</th>\n",
       "      <td>0.57</td>\n",
       "    </tr>\n",
       "    <tr>\n",
       "      <th>3</th>\n",
       "      <td>0.45</td>\n",
       "    </tr>\n",
       "    <tr>\n",
       "      <th>4</th>\n",
       "      <td>0.51</td>\n",
       "    </tr>\n",
       "    <tr>\n",
       "      <th>...</th>\n",
       "      <td>...</td>\n",
       "    </tr>\n",
       "    <tr>\n",
       "      <th>9995</th>\n",
       "      <td>0.43</td>\n",
       "    </tr>\n",
       "    <tr>\n",
       "      <th>9996</th>\n",
       "      <td>0.53</td>\n",
       "    </tr>\n",
       "    <tr>\n",
       "      <th>9997</th>\n",
       "      <td>0.52</td>\n",
       "    </tr>\n",
       "    <tr>\n",
       "      <th>9998</th>\n",
       "      <td>0.51</td>\n",
       "    </tr>\n",
       "    <tr>\n",
       "      <th>9999</th>\n",
       "      <td>0.49</td>\n",
       "    </tr>\n",
       "  </tbody>\n",
       "</table>\n",
       "<p>10000 rows × 1 columns</p>\n",
       "</div>"
      ],
      "text/plain": [
       "      value\n",
       "0      0.52\n",
       "1      0.45\n",
       "2      0.57\n",
       "3      0.45\n",
       "4      0.51\n",
       "...     ...\n",
       "9995   0.43\n",
       "9996   0.53\n",
       "9997   0.52\n",
       "9998   0.51\n",
       "9999   0.49\n",
       "\n",
       "[10000 rows x 1 columns]"
      ]
     },
     "execution_count": 34,
     "metadata": {},
     "output_type": "execute_result"
    }
   ],
   "source": [
    "MonteCarlo = MCmeans(df=df, x=\"value\", n=100, M=10000)\n",
    "MonteCarlo"
   ]
  },
  {
   "cell_type": "code",
   "execution_count": 35,
   "metadata": {},
   "outputs": [
    {
     "name": "stdout",
     "output_type": "stream",
     "text": [
      "Sample size =  100\n",
      "Mean value for sample proportion = 0.49978\n",
      "Standard Deviation for sample proportion = 0.04998\n"
     ]
    }
   ],
   "source": [
    "print('Sample size = ', 100)\n",
    "print('Mean value for sample proportion =', \n",
    "      np.round(MonteCarlo.mean().value, 5))\n",
    "print('Standard Deviation for sample proportion =', \n",
    "      np.round(MonteCarlo.std().value, 5))"
   ]
  },
  {
   "cell_type": "code",
   "execution_count": 36,
   "metadata": {},
   "outputs": [
    {
     "data": {
      "image/png": "[encoded data removed]",
      "text/plain": [
       "<Figure size 432x288 with 1 Axes>"
      ]
     },
     "metadata": {},
     "output_type": "display_data"
    }
   ],
   "source": [
    "MonteCarlo['value'].hist(density=True, bins=15)\n",
    "plt.title('Sampling Distribution (n=100)')\n",
    "plt.xlabel('Sample Proportion of Heads (of size n=100) \\n Drawn from df Population with Replacement')\n",
    "plt.show()"
   ]
  },
  {
   "cell_type": "markdown",
   "metadata": {},
   "source": [
    "### Sampling Distribution when n=400\n",
    "\n",
    "Create a sampling distribution of sample proportions with samples of size n=400. What is the mean, standard deviation, and shape of the sample means in this sampling distribution?"
   ]
  },
  {
   "cell_type": "code",
   "execution_count": 37,
   "metadata": {},
   "outputs": [
    {
     "data": {
      "text/html": [
       "<div>\n",
       "<style scoped>\n",
       "    .dataframe tbody tr th:only-of-type {\n",
       "        vertical-align: middle;\n",
       "    }\n",
       "\n",
       "    .dataframe tbody tr th {\n",
       "        vertical-align: top;\n",
       "    }\n",
       "\n",
       "    .dataframe thead th {\n",
       "        text-align: right;\n",
       "    }\n",
       "</style>\n",
       "<table border=\"1\" class=\"dataframe\">\n",
       "  <thead>\n",
       "    <tr style=\"text-align: right;\">\n",
       "      <th></th>\n",
       "      <th>value</th>\n",
       "    </tr>\n",
       "  </thead>\n",
       "  <tbody>\n",
       "    <tr>\n",
       "      <th>0</th>\n",
       "      <td>0.5400</td>\n",
       "    </tr>\n",
       "    <tr>\n",
       "      <th>1</th>\n",
       "      <td>0.5050</td>\n",
       "    </tr>\n",
       "    <tr>\n",
       "      <th>2</th>\n",
       "      <td>0.5100</td>\n",
       "    </tr>\n",
       "    <tr>\n",
       "      <th>3</th>\n",
       "      <td>0.4650</td>\n",
       "    </tr>\n",
       "    <tr>\n",
       "      <th>4</th>\n",
       "      <td>0.5225</td>\n",
       "    </tr>\n",
       "    <tr>\n",
       "      <th>...</th>\n",
       "      <td>...</td>\n",
       "    </tr>\n",
       "    <tr>\n",
       "      <th>9995</th>\n",
       "      <td>0.4725</td>\n",
       "    </tr>\n",
       "    <tr>\n",
       "      <th>9996</th>\n",
       "      <td>0.5175</td>\n",
       "    </tr>\n",
       "    <tr>\n",
       "      <th>9997</th>\n",
       "      <td>0.5025</td>\n",
       "    </tr>\n",
       "    <tr>\n",
       "      <th>9998</th>\n",
       "      <td>0.5175</td>\n",
       "    </tr>\n",
       "    <tr>\n",
       "      <th>9999</th>\n",
       "      <td>0.4675</td>\n",
       "    </tr>\n",
       "  </tbody>\n",
       "</table>\n",
       "<p>10000 rows × 1 columns</p>\n",
       "</div>"
      ],
      "text/plain": [
       "       value\n",
       "0     0.5400\n",
       "1     0.5050\n",
       "2     0.5100\n",
       "3     0.4650\n",
       "4     0.5225\n",
       "...      ...\n",
       "9995  0.4725\n",
       "9996  0.5175\n",
       "9997  0.5025\n",
       "9998  0.5175\n",
       "9999  0.4675\n",
       "\n",
       "[10000 rows x 1 columns]"
      ]
     },
     "execution_count": 37,
     "metadata": {},
     "output_type": "execute_result"
    }
   ],
   "source": [
    "MonteCarlo = MCmeans(df=df, x=\"value\", n=400, M=10000)\n",
    "MonteCarlo"
   ]
  },
  {
   "cell_type": "code",
   "execution_count": 38,
   "metadata": {},
   "outputs": [
    {
     "name": "stdout",
     "output_type": "stream",
     "text": [
      "Sample size =  400\n",
      "Mean value for sample proportion = 0.50008\n",
      "Standard Deviation for sample proportion = 0.02477\n"
     ]
    }
   ],
   "source": [
    "print('Sample size = ', 400)\n",
    "print('Mean value for sample proportion =', \n",
    "      np.round(MonteCarlo.mean().value, 5))\n",
    "print('Standard Deviation for sample proportion =', \n",
    "      np.round(MonteCarlo.std().value, 5))"
   ]
  },
  {
   "cell_type": "code",
   "execution_count": 39,
   "metadata": {},
   "outputs": [
    {
     "data": {
      "image/png": "[encoded data removed]",
      "text/plain": [
       "<Figure size 432x288 with 1 Axes>"
      ]
     },
     "metadata": {},
     "output_type": "display_data"
    }
   ],
   "source": [
    "MonteCarlo['value'].hist(density=True, bins=20)\n",
    "plt.title('Sampling Distribution (n=400)')\n",
    "plt.xlabel('Sample Proportion of Heads (of size n=400) \\n Drawn from df Population with Replacement')\n",
    "plt.show()"
   ]
  },
  {
   "cell_type": "code",
   "execution_count": 40,
   "metadata": {},
   "outputs": [
    {
     "data": {
      "text/html": [
       "<div>\n",
       "<style scoped>\n",
       "    .dataframe tbody tr th:only-of-type {\n",
       "        vertical-align: middle;\n",
       "    }\n",
       "\n",
       "    .dataframe tbody tr th {\n",
       "        vertical-align: top;\n",
       "    }\n",
       "\n",
       "    .dataframe thead th {\n",
       "        text-align: right;\n",
       "    }\n",
       "</style>\n",
       "<table border=\"1\" class=\"dataframe\">\n",
       "  <thead>\n",
       "    <tr style=\"text-align: right;\">\n",
       "      <th></th>\n",
       "      <th>value</th>\n",
       "    </tr>\n",
       "  </thead>\n",
       "  <tbody>\n",
       "    <tr>\n",
       "      <th>0</th>\n",
       "      <td>1.0</td>\n",
       "    </tr>\n",
       "    <tr>\n",
       "      <th>1</th>\n",
       "      <td>0.5</td>\n",
       "    </tr>\n",
       "    <tr>\n",
       "      <th>2</th>\n",
       "      <td>0.5</td>\n",
       "    </tr>\n",
       "    <tr>\n",
       "      <th>3</th>\n",
       "      <td>1.0</td>\n",
       "    </tr>\n",
       "    <tr>\n",
       "      <th>4</th>\n",
       "      <td>0.5</td>\n",
       "    </tr>\n",
       "    <tr>\n",
       "      <th>...</th>\n",
       "      <td>...</td>\n",
       "    </tr>\n",
       "    <tr>\n",
       "      <th>9995</th>\n",
       "      <td>1.0</td>\n",
       "    </tr>\n",
       "    <tr>\n",
       "      <th>9996</th>\n",
       "      <td>0.5</td>\n",
       "    </tr>\n",
       "    <tr>\n",
       "      <th>9997</th>\n",
       "      <td>0.5</td>\n",
       "    </tr>\n",
       "    <tr>\n",
       "      <th>9998</th>\n",
       "      <td>0.5</td>\n",
       "    </tr>\n",
       "    <tr>\n",
       "      <th>9999</th>\n",
       "      <td>0.5</td>\n",
       "    </tr>\n",
       "  </tbody>\n",
       "</table>\n",
       "<p>10000 rows × 1 columns</p>\n",
       "</div>"
      ],
      "text/plain": [
       "      value\n",
       "0       1.0\n",
       "1       0.5\n",
       "2       0.5\n",
       "3       1.0\n",
       "4       0.5\n",
       "...     ...\n",
       "9995    1.0\n",
       "9996    0.5\n",
       "9997    0.5\n",
       "9998    0.5\n",
       "9999    0.5\n",
       "\n",
       "[10000 rows x 1 columns]"
      ]
     },
     "execution_count": 40,
     "metadata": {},
     "output_type": "execute_result"
    }
   ],
   "source": [
    "MonteCarlo = MCmeans(df=df, x=\"value\", n=2, M=10000)\n",
    "MonteCarlo"
   ]
  },
  {
   "cell_type": "markdown",
   "metadata": {},
   "source": [
    "### Putting it all together as n increases"
   ]
  },
  {
   "cell_type": "code",
   "execution_count": 41,
   "metadata": {},
   "outputs": [
    {
     "name": "stdout",
     "output_type": "stream",
     "text": [
      "Sample size =  2\n",
      "Mean value for sample proportion = 0.50095\n",
      "Standard Deviation for sample proportion = 0.35205\n"
     ]
    }
   ],
   "source": [
    "print('Sample size = ', 2)\n",
    "print('Mean value for sample proportion =', \n",
    "      np.round(MonteCarlo.mean().value, 5))\n",
    "print('Standard Deviation for sample proportion =', \n",
    "      np.round(MonteCarlo.std().value, 5))"
   ]
  },
  {
   "cell_type": "code",
   "execution_count": 42,
   "metadata": {},
   "outputs": [
    {
     "data": {
      "image/png": "[encoded data removed]",
      "text/plain": [
       "<Figure size 432x288 with 1 Axes>"
      ]
     },
     "metadata": {},
     "output_type": "display_data"
    }
   ],
   "source": [
    "MonteCarlo['value'].hist(density=True)\n",
    "plt.title('Sampling Distribution (n=2)')\n",
    "plt.xlabel('Sample Proportion of Heads (of size n=2) \\n Drawn from df Population with Replacement')\n",
    "plt.show()"
   ]
  },
  {
   "cell_type": "code",
   "execution_count": 43,
   "metadata": {},
   "outputs": [
    {
     "data": {
      "text/html": [
       "<div>\n",
       "<style scoped>\n",
       "    .dataframe tbody tr th:only-of-type {\n",
       "        vertical-align: middle;\n",
       "    }\n",
       "\n",
       "    .dataframe tbody tr th {\n",
       "        vertical-align: top;\n",
       "    }\n",
       "\n",
       "    .dataframe thead th {\n",
       "        text-align: right;\n",
       "    }\n",
       "</style>\n",
       "<table border=\"1\" class=\"dataframe\">\n",
       "  <thead>\n",
       "    <tr style=\"text-align: right;\">\n",
       "      <th></th>\n",
       "      <th>Sample</th>\n",
       "      <th>Mean</th>\n",
       "      <th>Standard Deviation</th>\n",
       "    </tr>\n",
       "  </thead>\n",
       "  <tbody>\n",
       "    <tr>\n",
       "      <th>0</th>\n",
       "      <td>Population</td>\n",
       "      <td>177.875</td>\n",
       "      <td>97.11</td>\n",
       "    </tr>\n",
       "    <tr>\n",
       "      <th>1</th>\n",
       "      <td>n=2</td>\n",
       "      <td>177.002</td>\n",
       "      <td>64.14</td>\n",
       "    </tr>\n",
       "    <tr>\n",
       "      <th>2</th>\n",
       "      <td>n=10</td>\n",
       "      <td>178.110</td>\n",
       "      <td>28.70</td>\n",
       "    </tr>\n",
       "    <tr>\n",
       "      <th>3</th>\n",
       "      <td>n=100</td>\n",
       "      <td>177.859</td>\n",
       "      <td>9.04</td>\n",
       "    </tr>\n",
       "    <tr>\n",
       "      <th>4</th>\n",
       "      <td>n=400</td>\n",
       "      <td>177.837</td>\n",
       "      <td>4.57</td>\n",
       "    </tr>\n",
       "  </tbody>\n",
       "</table>\n",
       "</div>"
      ],
      "text/plain": [
       "       Sample     Mean  Standard Deviation\n",
       "0  Population  177.875               97.11\n",
       "1         n=2  177.002               64.14\n",
       "2        n=10  178.110               28.70\n",
       "3       n=100  177.859                9.04\n",
       "4       n=400  177.837                4.57"
      ]
     },
     "execution_count": 43,
     "metadata": {},
     "output_type": "execute_result"
    }
   ],
   "source": [
    "samp_size = ['Population', 'n=2', 'n=10', 'n=100', 'n=400']\n",
    "mean_of_dist = [177.875, 177.002, 178.110, 177.859, 177.837]\n",
    "std_of_dist = [97.11, 64.14, 28.70, 9.04, 4.57]\n",
    "SampDist = pd.DataFrame({'Sample': samp_size, \n",
    "                       'Mean': mean_of_dist,\n",
    "                     'Standard Deviation': std_of_dist})\n",
    "SampDist"
   ]
  },
  {
   "cell_type": "code",
   "execution_count": 44,
   "metadata": {},
   "outputs": [
    {
     "data": {
      "text/html": [
       "<div>\n",
       "<style scoped>\n",
       "    .dataframe tbody tr th:only-of-type {\n",
       "        vertical-align: middle;\n",
       "    }\n",
       "\n",
       "    .dataframe tbody tr th {\n",
       "        vertical-align: top;\n",
       "    }\n",
       "\n",
       "    .dataframe thead th {\n",
       "        text-align: right;\n",
       "    }\n",
       "</style>\n",
       "<table border=\"1\" class=\"dataframe\">\n",
       "  <thead>\n",
       "    <tr style=\"text-align: right;\">\n",
       "      <th></th>\n",
       "      <th>Sample</th>\n",
       "      <th>Mean</th>\n",
       "      <th>Standard Deviation</th>\n",
       "    </tr>\n",
       "  </thead>\n",
       "  <tbody>\n",
       "    <tr>\n",
       "      <th>0</th>\n",
       "      <td>Population</td>\n",
       "      <td>0.50000</td>\n",
       "      <td>NaN</td>\n",
       "    </tr>\n",
       "    <tr>\n",
       "      <th>1</th>\n",
       "      <td>n=2</td>\n",
       "      <td>0.50505</td>\n",
       "      <td>0.35286</td>\n",
       "    </tr>\n",
       "    <tr>\n",
       "      <th>2</th>\n",
       "      <td>n=10</td>\n",
       "      <td>0.49942</td>\n",
       "      <td>0.15771</td>\n",
       "    </tr>\n",
       "    <tr>\n",
       "      <th>3</th>\n",
       "      <td>n=100</td>\n",
       "      <td>0.49947</td>\n",
       "      <td>0.04968</td>\n",
       "    </tr>\n",
       "    <tr>\n",
       "      <th>4</th>\n",
       "      <td>n=400</td>\n",
       "      <td>0.49989</td>\n",
       "      <td>0.02495</td>\n",
       "    </tr>\n",
       "  </tbody>\n",
       "</table>\n",
       "</div>"
      ],
      "text/plain": [
       "       Sample     Mean  Standard Deviation\n",
       "0  Population  0.50000                 NaN\n",
       "1         n=2  0.50505             0.35286\n",
       "2        n=10  0.49942             0.15771\n",
       "3       n=100  0.49947             0.04968\n",
       "4       n=400  0.49989             0.02495"
      ]
     },
     "execution_count": 44,
     "metadata": {},
     "output_type": "execute_result"
    }
   ],
   "source": [
    "# Flipping Heads or Tails\n",
    "samp_size = ['Population', 'n=2', 'n=10', 'n=100', 'n=400']\n",
    "mean_of_dist = [0.5, 0.50505, 0.49942, 0.49947, 0.49989]\n",
    "std_of_dist = [None, 0.35286, 0.15771, 0.04968, 0.02495]\n",
    "SampDist = pd.DataFrame({'Sample': samp_size, \n",
    "                       'Mean': mean_of_dist,\n",
    "                     'Standard Deviation': std_of_dist})\n",
    "SampDist"
   ]
  },
  {
   "cell_type": "code",
   "execution_count": 45,
   "metadata": {},
   "outputs": [
    {
     "data": {
      "image/png": "[encoded data removed]",
      "text/plain": [
       "<Figure size 432x288 with 1 Axes>"
      ]
     },
     "metadata": {},
     "output_type": "display_data"
    }
   ],
   "source": [
    "df['value'].hist()\n",
    "plt.title('Population Distribution')\n",
    "plt.xlabel('Number of Heads (of size n=1)')\n",
    "plt.show()"
   ]
  },
  {
   "cell_type": "code",
   "execution_count": 46,
   "metadata": {},
   "outputs": [],
   "source": [
    "def MCmeans_stats(df, x='', replace=True, n=1, M=1):\n",
    "    #INPUT:\n",
    "    # df is a data frame\n",
    "    # x is a text-valued name for a variable in the data frame\n",
    "    # replace = True or False depending on whether \n",
    "    #    draws are with or without replacement\n",
    "    # n = number of draws per sample\n",
    "    # M = number of samples to draw\n",
    "    MCstats = []\n",
    "    for i in range(M):\n",
    "        #1. Collect a random sample of size n=10 with replacement\n",
    "        #2. Take the mean of this random sample\n",
    "        #3. Append this random sample mean to the SampleMeans list (which is our SAMPLING DISTRIBUTION OF SAMPLE MEANS!)\n",
    "        mysample = df[x].sample(n, replace=replace)\n",
    "        logical = (mysample=='stat107') | (mysample=='stat207')\n",
    "        MCstats.append(logical.mean())\n",
    "    #4. returns the sampling distribution in a dataframe format\n",
    "    return pd.DataFrame({x: MCstats})"
   ]
  },
  {
   "cell_type": "code",
   "execution_count": 47,
   "metadata": {},
   "outputs": [],
   "source": [
    "stats_n2 = MCmeans_stats(sectdf, 'course', n = 2, M = 10000)"
   ]
  },
  {
   "cell_type": "code",
   "execution_count": 48,
   "metadata": {},
   "outputs": [
    {
     "name": "stdout",
     "output_type": "stream",
     "text": [
      "Sample size =  2\n",
      "Mean value for sample proportion = 0.37425\n",
      "Standard Deviation for sample proportion = 0.3415\n"
     ]
    }
   ],
   "source": [
    "print('Sample size = ', 2)\n",
    "print('Mean value for sample proportion =', \n",
    "      np.round(stats_n2.mean().course, 5))\n",
    "print('Standard Deviation for sample proportion =', \n",
    "      np.round(stats_n2.std().course, 5))"
   ]
  },
  {
   "cell_type": "code",
   "execution_count": 49,
   "metadata": {},
   "outputs": [
    {
     "data": {
      "image/png": "[encoded data removed]",
      "text/plain": [
       "<Figure size 432x288 with 1 Axes>"
      ]
     },
     "metadata": {},
     "output_type": "display_data"
    }
   ],
   "source": [
    "stats_n2['course'].hist(density = True)\n",
    "plt.title('Sampling Distribution (n=2)')\n",
    "plt.xlabel('Sample Proportion of Stats Courses (of size n=2) \\n Drawn from Courses Population with Replacement')\n",
    "plt.show()"
   ]
  },
  {
   "cell_type": "code",
   "execution_count": 50,
   "metadata": {},
   "outputs": [
    {
     "name": "stdout",
     "output_type": "stream",
     "text": [
      "Sample size =  10\n",
      "Mean value for sample proportion = 0.37702\n",
      "Standard Deviation for sample proportion = 0.15031\n"
     ]
    }
   ],
   "source": [
    "stats_n10 = MCmeans_stats(sectdf, 'course', n = 10, M = 10000)\n",
    "print('Sample size = ', 10)\n",
    "print('Mean value for sample proportion =', \n",
    "      np.round(stats_n10.mean().course, 5))\n",
    "print('Standard Deviation for sample proportion =', \n",
    "      np.round(stats_n10.std().course, 5))"
   ]
  },
  {
   "cell_type": "code",
   "execution_count": 51,
   "metadata": {},
   "outputs": [
    {
     "name": "stdout",
     "output_type": "stream",
     "text": [
      "Sample size =  100\n",
      "Mean value for sample proportion = 0.3752\n",
      "Standard Deviation for sample proportion = 0.04843\n"
     ]
    }
   ],
   "source": [
    "stats_n100 = MCmeans_stats(sectdf, 'course', n = 100, M = 10000)\n",
    "print('Sample size = ', 100)\n",
    "print('Mean value for sample proportion =', \n",
    "      np.round(stats_n100.mean().course, 5))\n",
    "print('Standard Deviation for sample proportion =', \n",
    "      np.round(stats_n100.std().course, 5))"
   ]
  },
  {
   "cell_type": "code",
   "execution_count": 52,
   "metadata": {},
   "outputs": [
    {
     "name": "stdout",
     "output_type": "stream",
     "text": [
      "Sample size =  400\n",
      "Mean value for sample proportion = 0.37502\n",
      "Standard Deviation for sample proportion = 0.02428\n"
     ]
    }
   ],
   "source": [
    "stats_n400 = MCmeans_stats(sectdf, 'course', n = 400, M = 10000)\n",
    "print('Sample size = ', 400)\n",
    "print('Mean value for sample proportion =', \n",
    "      np.round(stats_n400.mean().course, 5))\n",
    "print('Standard Deviation for sample proportion =', \n",
    "      np.round(stats_n400.std().course, 5))"
   ]
  },
  {
   "cell_type": "code",
   "execution_count": 53,
   "metadata": {},
   "outputs": [
    {
     "data": {
      "text/html": [
       "<div>\n",
       "<style scoped>\n",
       "    .dataframe tbody tr th:only-of-type {\n",
       "        vertical-align: middle;\n",
       "    }\n",
       "\n",
       "    .dataframe tbody tr th {\n",
       "        vertical-align: top;\n",
       "    }\n",
       "\n",
       "    .dataframe thead th {\n",
       "        text-align: right;\n",
       "    }\n",
       "</style>\n",
       "<table border=\"1\" class=\"dataframe\">\n",
       "  <thead>\n",
       "    <tr style=\"text-align: right;\">\n",
       "      <th></th>\n",
       "      <th>Sample</th>\n",
       "      <th>Mean</th>\n",
       "      <th>Standard Deviation</th>\n",
       "    </tr>\n",
       "  </thead>\n",
       "  <tbody>\n",
       "    <tr>\n",
       "      <th>0</th>\n",
       "      <td>Population</td>\n",
       "      <td>0.25000</td>\n",
       "      <td>NaN</td>\n",
       "    </tr>\n",
       "    <tr>\n",
       "      <th>1</th>\n",
       "      <td>n=2</td>\n",
       "      <td>0.24530</td>\n",
       "      <td>0.30420</td>\n",
       "    </tr>\n",
       "    <tr>\n",
       "      <th>2</th>\n",
       "      <td>n=10</td>\n",
       "      <td>0.25274</td>\n",
       "      <td>0.13654</td>\n",
       "    </tr>\n",
       "    <tr>\n",
       "      <th>3</th>\n",
       "      <td>n=100</td>\n",
       "      <td>0.25038</td>\n",
       "      <td>0.04355</td>\n",
       "    </tr>\n",
       "    <tr>\n",
       "      <th>4</th>\n",
       "      <td>n=400</td>\n",
       "      <td>0.24988</td>\n",
       "      <td>0.02163</td>\n",
       "    </tr>\n",
       "  </tbody>\n",
       "</table>\n",
       "</div>"
      ],
      "text/plain": [
       "       Sample     Mean  Standard Deviation\n",
       "0  Population  0.25000                 NaN\n",
       "1         n=2  0.24530             0.30420\n",
       "2        n=10  0.25274             0.13654\n",
       "3       n=100  0.25038             0.04355\n",
       "4       n=400  0.24988             0.02163"
      ]
     },
     "execution_count": 53,
     "metadata": {},
     "output_type": "execute_result"
    }
   ],
   "source": [
    "# Pick Stats Course\n",
    "samp_size = ['Population', 'n=2', 'n=10', 'n=100', 'n=400']\n",
    "mean_of_dist = [0.25, 0.2453, 0.25274, 0.25038, 0.24988]\n",
    "std_of_dist = [None, 0.3042, 0.13654, 0.04355, 0.02163]\n",
    "SampDist = pd.DataFrame({'Sample': samp_size, \n",
    "                       'Mean': mean_of_dist,\n",
    "                     'Standard Deviation': std_of_dist})\n",
    "SampDist"
   ]
  },
  {
   "cell_type": "code",
   "execution_count": 54,
   "metadata": {},
   "outputs": [
    {
     "data": {
      "image/png": "[encoded data removed]",
      "text/plain": [
       "<Figure size 432x288 with 1 Axes>"
      ]
     },
     "metadata": {},
     "output_type": "display_data"
    }
   ],
   "source": [
    "stats_n10['course'].hist(density = True)\n",
    "plt.title('Sampling Distribution (n=10)')\n",
    "plt.xlabel('Sample Proportion of Stats Courses (of size n=10) \\n Drawn from Courses Population with Replacement')\n",
    "plt.show()"
   ]
  },
  {
   "cell_type": "code",
   "execution_count": 55,
   "metadata": {},
   "outputs": [
    {
     "data": {
      "image/png": "[encoded data removed]",
      "text/plain": [
       "<Figure size 432x288 with 1 Axes>"
      ]
     },
     "metadata": {},
     "output_type": "display_data"
    }
   ],
   "source": [
    "stats_n100['course'].hist(density = True)\n",
    "plt.title('Sampling Distribution (n=100)')\n",
    "plt.xlabel('Sample Proportion of Stats Courses (of size n=100) \\n Drawn from Courses Population with Replacement')\n",
    "plt.show()"
   ]
  },
  {
   "cell_type": "code",
   "execution_count": 56,
   "metadata": {},
   "outputs": [
    {
     "data": {
      "image/png": "[encoded data removed]",
      "text/plain": [
       "<Figure size 432x288 with 1 Axes>"
      ]
     },
     "metadata": {},
     "output_type": "display_data"
    }
   ],
   "source": [
    "stats_n400['course'].hist(density = True)\n",
    "plt.title('Sampling Distribution (n=400)')\n",
    "plt.xlabel('Sample Proportion of Stats Courses (of size n=400) \\n Drawn from Courses Population with Replacement')\n",
    "plt.show()"
   ]
  },
  {
   "cell_type": "markdown",
   "metadata": {},
   "source": [
    "<hr>\n",
    "STAT 207, Julie Deeke, Victoria Ellison, and Douglas Simpson, University of Illinois at Urbana-Champaign"
   ]
  }
 ],
 "metadata": {
  "kernelspec": {
   "display_name": "Python 3 (ipykernel)",
   "language": "python",
   "name": "python3"
  },
  "language_info": {
   "codemirror_mode": {
    "name": "ipython",
    "version": 3
   },
   "file_extension": ".py",
   "mimetype": "text/x-python",
   "name": "python",
   "nbconvert_exporter": "python",
   "pygments_lexer": "ipython3",
   "version": "3.8.11"
  }
 },
 "nbformat": 4,
 "nbformat_minor": 2
}
