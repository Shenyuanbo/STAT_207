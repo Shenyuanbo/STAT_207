{
 "cells": [
  {
   "cell_type": "markdown",
   "metadata": {},
   "source": [
    "<!--# STAT 207: Data Science Exploration-->\n",
    "# <u>Case Study 7</u>: Introduction to Inference – The Central Limit Theorem and Confidence Intervals for µ and p\n",
    "\n",
    "This Case Study contains analyses to answer two questions from Pew Survey data:\n",
    "- What is a plausible range of values for the average age of ALL adults living in the U.S.?\n",
    "- What is a plausible range of values for the proportion of ALL adults living in the U.S. that are satisfied with the way things are going in the country at the time of the survey (2017)?"
   ]
  },
  {
   "cell_type": "code",
   "execution_count": 1,
   "metadata": {},
   "outputs": [],
   "source": [
    "import pandas as pd\n",
    "import numpy as np\n",
    "import matplotlib.pyplot as plt\n",
    "import seaborn as sns; sns.set()"
   ]
  },
  {
   "cell_type": "markdown",
   "metadata": {},
   "source": [
    "## Confidence Interval for a Population Mean $\\mu$\n",
    "\n",
    "**What is a plausible range of values for the average age of ALL adults living in the U.S.?**\n",
    "\n",
    "For example, suppose we wanted to calculate a 95% confidence interval (ie. range of plausible values) for μ (the average age of ALL adults living in the U.S.). We have a random sample of size n=1489 that has a mean age of 50.49 years and a standard deviation of 17.84 years. **Suppose we also know that the standard deviation of ALL adults living in the U.S. is σ=18.**"
   ]
  },
  {
   "cell_type": "markdown",
   "metadata": {},
   "source": [
    "### Dataset Cleaning and Inspection\n",
    "The February 2017 Pew Research Center random phone number dialing survey had 1,503 respondents in total.\n",
    "\n",
    "First, let's learn a little more about this dataset."
   ]
  },
  {
   "cell_type": "code",
   "execution_count": 2,
   "metadata": {},
   "outputs": [
    {
     "data": {
      "text/html": [
       "<div>\n",
       "<style scoped>\n",
       "    .dataframe tbody tr th:only-of-type {\n",
       "        vertical-align: middle;\n",
       "    }\n",
       "\n",
       "    .dataframe tbody tr th {\n",
       "        vertical-align: top;\n",
       "    }\n",
       "\n",
       "    .dataframe thead th {\n",
       "        text-align: right;\n",
       "    }\n",
       "</style>\n",
       "<table border=\"1\" class=\"dataframe\">\n",
       "  <thead>\n",
       "    <tr style=\"text-align: right;\">\n",
       "      <th></th>\n",
       "      <th>psraid</th>\n",
       "      <th>sample</th>\n",
       "      <th>int_date</th>\n",
       "      <th>fcall</th>\n",
       "      <th>version</th>\n",
       "      <th>attempts</th>\n",
       "      <th>refusal</th>\n",
       "      <th>ilang</th>\n",
       "      <th>cregion</th>\n",
       "      <th>state</th>\n",
       "      <th>...</th>\n",
       "      <th>ql1a</th>\n",
       "      <th>qc1</th>\n",
       "      <th>money2</th>\n",
       "      <th>money3</th>\n",
       "      <th>iphoneuse</th>\n",
       "      <th>hphoneuse</th>\n",
       "      <th>ll</th>\n",
       "      <th>cp</th>\n",
       "      <th>cellweight</th>\n",
       "      <th>weight</th>\n",
       "    </tr>\n",
       "  </thead>\n",
       "  <tbody>\n",
       "    <tr>\n",
       "      <th>0</th>\n",
       "      <td>100008</td>\n",
       "      <td>Landline</td>\n",
       "      <td>21017</td>\n",
       "      <td>170207</td>\n",
       "      <td>Client changes</td>\n",
       "      <td>4</td>\n",
       "      <td>No</td>\n",
       "      <td>English</td>\n",
       "      <td>Midwest</td>\n",
       "      <td>Illinois</td>\n",
       "      <td>...</td>\n",
       "      <td>NaN</td>\n",
       "      <td>NaN</td>\n",
       "      <td>NaN</td>\n",
       "      <td>NaN</td>\n",
       "      <td>Dual</td>\n",
       "      <td>Dual HH</td>\n",
       "      <td>1</td>\n",
       "      <td>1</td>\n",
       "      <td>NaN</td>\n",
       "      <td>1.733333</td>\n",
       "    </tr>\n",
       "    <tr>\n",
       "      <th>1</th>\n",
       "      <td>100019</td>\n",
       "      <td>Landline</td>\n",
       "      <td>21217</td>\n",
       "      <td>170207</td>\n",
       "      <td>Client changes</td>\n",
       "      <td>4</td>\n",
       "      <td>Yes</td>\n",
       "      <td>English</td>\n",
       "      <td>South</td>\n",
       "      <td>North Carolina</td>\n",
       "      <td>...</td>\n",
       "      <td>NaN</td>\n",
       "      <td>NaN</td>\n",
       "      <td>NaN</td>\n",
       "      <td>NaN</td>\n",
       "      <td>Dual</td>\n",
       "      <td>Dual HH</td>\n",
       "      <td>1</td>\n",
       "      <td>1</td>\n",
       "      <td>NaN</td>\n",
       "      <td>1.500000</td>\n",
       "    </tr>\n",
       "    <tr>\n",
       "      <th>2</th>\n",
       "      <td>100020</td>\n",
       "      <td>Landline</td>\n",
       "      <td>21217</td>\n",
       "      <td>170207</td>\n",
       "      <td>Client changes</td>\n",
       "      <td>4</td>\n",
       "      <td>Yes</td>\n",
       "      <td>English</td>\n",
       "      <td>Northeast</td>\n",
       "      <td>New York</td>\n",
       "      <td>...</td>\n",
       "      <td>NaN</td>\n",
       "      <td>NaN</td>\n",
       "      <td>NaN</td>\n",
       "      <td>NaN</td>\n",
       "      <td>Dual</td>\n",
       "      <td>Dual HH</td>\n",
       "      <td>1</td>\n",
       "      <td>1</td>\n",
       "      <td>NaN</td>\n",
       "      <td>1.533333</td>\n",
       "    </tr>\n",
       "    <tr>\n",
       "      <th>3</th>\n",
       "      <td>100021</td>\n",
       "      <td>Landline</td>\n",
       "      <td>20717</td>\n",
       "      <td>170207</td>\n",
       "      <td>Initial version</td>\n",
       "      <td>1</td>\n",
       "      <td>No</td>\n",
       "      <td>English</td>\n",
       "      <td>Midwest</td>\n",
       "      <td>Minnesota</td>\n",
       "      <td>...</td>\n",
       "      <td>NaN</td>\n",
       "      <td>NaN</td>\n",
       "      <td>NaN</td>\n",
       "      <td>NaN</td>\n",
       "      <td>Dual</td>\n",
       "      <td>Dual HH</td>\n",
       "      <td>1</td>\n",
       "      <td>1</td>\n",
       "      <td>NaN</td>\n",
       "      <td>5.866667</td>\n",
       "    </tr>\n",
       "    <tr>\n",
       "      <th>4</th>\n",
       "      <td>100024</td>\n",
       "      <td>Landline</td>\n",
       "      <td>20717</td>\n",
       "      <td>170207</td>\n",
       "      <td>Initial version</td>\n",
       "      <td>1</td>\n",
       "      <td>No</td>\n",
       "      <td>English</td>\n",
       "      <td>Midwest</td>\n",
       "      <td>Illinois</td>\n",
       "      <td>...</td>\n",
       "      <td>NaN</td>\n",
       "      <td>NaN</td>\n",
       "      <td>NaN</td>\n",
       "      <td>NaN</td>\n",
       "      <td>Dual</td>\n",
       "      <td>Dual HH</td>\n",
       "      <td>1</td>\n",
       "      <td>1</td>\n",
       "      <td>NaN</td>\n",
       "      <td>1.700000</td>\n",
       "    </tr>\n",
       "  </tbody>\n",
       "</table>\n",
       "<p>5 rows × 130 columns</p>\n",
       "</div>"
      ],
      "text/plain": [
       "   psraid    sample  int_date   fcall          version  attempts refusal  \\\n",
       "0  100008  Landline     21017  170207   Client changes         4      No   \n",
       "1  100019  Landline     21217  170207   Client changes         4     Yes   \n",
       "2  100020  Landline     21217  170207   Client changes         4     Yes   \n",
       "3  100021  Landline     20717  170207  Initial version         1      No   \n",
       "4  100024  Landline     20717  170207  Initial version         1      No   \n",
       "\n",
       "     ilang    cregion           state  ... ql1a  qc1 money2  money3 iphoneuse  \\\n",
       "0  English    Midwest        Illinois  ...  NaN  NaN    NaN     NaN      Dual   \n",
       "1  English      South  North Carolina  ...  NaN  NaN    NaN     NaN      Dual   \n",
       "2  English  Northeast        New York  ...  NaN  NaN    NaN     NaN      Dual   \n",
       "3  English    Midwest       Minnesota  ...  NaN  NaN    NaN     NaN      Dual   \n",
       "4  English    Midwest        Illinois  ...  NaN  NaN    NaN     NaN      Dual   \n",
       "\n",
       "  hphoneuse ll cp cellweight    weight  \n",
       "0   Dual HH  1  1        NaN  1.733333  \n",
       "1   Dual HH  1  1        NaN  1.500000  \n",
       "2   Dual HH  1  1        NaN  1.533333  \n",
       "3   Dual HH  1  1        NaN  5.866667  \n",
       "4   Dual HH  1  1        NaN  1.700000  \n",
       "\n",
       "[5 rows x 130 columns]"
      ]
     },
     "execution_count": 2,
     "metadata": {},
     "output_type": "execute_result"
    }
   ],
   "source": [
    "# Read in the data\n",
    "missing_values = [\"NaN\", \"nan\", \"Don't know/Refused (VOL.)\"]\n",
    "df_pew = pd.read_csv('Feb17public.csv', \n",
    "                   na_values=missing_values)\n",
    "df_pew.head()"
   ]
  },
  {
   "cell_type": "markdown",
   "metadata": {},
   "source": [
    "What is the shape of the dataset?"
   ]
  },
  {
   "cell_type": "code",
   "execution_count": 3,
   "metadata": {},
   "outputs": [
    {
     "data": {
      "text/plain": [
       "(1503, 130)"
      ]
     },
     "execution_count": 3,
     "metadata": {},
     "output_type": "execute_result"
    }
   ],
   "source": [
    "df_pew.shape"
   ]
  },
  {
   "cell_type": "markdown",
   "metadata": {},
   "source": [
    "What columns are contained in this dataset?"
   ]
  },
  {
   "cell_type": "code",
   "execution_count": 4,
   "metadata": {},
   "outputs": [
    {
     "data": {
      "text/plain": [
       "Index(['psraid', 'sample', 'int_date', 'fcall', 'version', 'attempts',\n",
       "       'refusal', 'ilang', 'cregion', 'state',\n",
       "       ...\n",
       "       'ql1a', 'qc1', 'money2', 'money3', 'iphoneuse', 'hphoneuse', 'll', 'cp',\n",
       "       'cellweight', 'weight'],\n",
       "      dtype='object', length=130)"
      ]
     },
     "execution_count": 4,
     "metadata": {},
     "output_type": "execute_result"
    }
   ],
   "source": [
    "df_pew.columns"
   ]
  },
  {
   "cell_type": "markdown",
   "metadata": {},
   "source": [
    "We can't see every variable of the data from this output.  Let's use a for-loop so we can inspect all 130 column names."
   ]
  },
  {
   "cell_type": "code",
   "execution_count": 5,
   "metadata": {},
   "outputs": [
    {
     "name": "stdout",
     "output_type": "stream",
     "text": [
      "psraid\n",
      "sample\n",
      "int_date\n",
      "fcall\n",
      "version\n",
      "attempts\n",
      "refusal\n",
      "ilang\n",
      "cregion\n",
      "state\n",
      "density\n",
      "sstate\n",
      "form\n",
      "stimes\n",
      "igender\n",
      "irace\n",
      "llitext0\n",
      "susr\n",
      "usr\n",
      "scregion\n",
      "qs1\n",
      "q1\n",
      "q1a\n",
      "q2\n",
      "q5af1\n",
      "q5bf1\n",
      "q5cf1\n",
      "q5df1\n",
      "q6af2\n",
      "q6bf2\n",
      "q6cf2\n",
      "q6df2\n",
      "q10a\n",
      "q10b\n",
      "q15af1\n",
      "q15b\n",
      "q15cf2\n",
      "q15df1\n",
      "q15ef1\n",
      "q15ff1\n",
      "q15gf2\n",
      "q15hf2\n",
      "q15if2\n",
      "q16\n",
      "q19\n",
      "q35\n",
      "q36\n",
      "q37\n",
      "q39\n",
      "q43\n",
      "q44\n",
      "q45\n",
      "q45vb\n",
      "Q45VB0\n",
      "Q45VB1\n",
      "Q45VB2\n",
      "q45oem1\n",
      "q45oem2\n",
      "q45oem3\n",
      "q52\n",
      "q53\n",
      "q54\n",
      "q55\n",
      "q61a\n",
      "q61b\n",
      "q61c\n",
      "q61d\n",
      "q61e\n",
      "q62f1\n",
      "q63f1\n",
      "q64f2\n",
      "q65\n",
      "q66\n",
      "q68f1\n",
      "q69f2\n",
      "q70f1\n",
      "q71f2\n",
      "q74\n",
      "q75\n",
      "q81\n",
      "q82\n",
      "q84a\n",
      "q84bf1\n",
      "q84cf1\n",
      "q84df1\n",
      "q84ef2\n",
      "q84ff2\n",
      "q84gf2\n",
      "q88\n",
      "q90f1\n",
      "q91f2\n",
      "sex\n",
      "age\n",
      "gen5\n",
      "educ2\n",
      "hisp\n",
      "adults\n",
      "racethn\n",
      "racethn2\n",
      "birth_hisp\n",
      "citizen\n",
      "child\n",
      "relig\n",
      "chr\n",
      "born\n",
      "attend\n",
      "q92\n",
      "q92a\n",
      "income\n",
      "reg\n",
      "party\n",
      "partyln\n",
      "partysum\n",
      "partyideo\n",
      "q93\n",
      "q94\n",
      "ideo\n",
      "hh1\n",
      "hh3\n",
      "ql1\n",
      "ql1a\n",
      "qc1\n",
      "money2\n",
      "money3\n",
      "iphoneuse\n",
      "hphoneuse\n",
      "ll\n",
      "cp\n",
      "cellweight\n",
      "weight\n"
     ]
    }
   ],
   "source": [
    "for col in df_pew.columns:\n",
    "    print(col)"
   ]
  },
  {
   "cell_type": "markdown",
   "metadata": {},
   "source": [
    "How many missing values are in each column?"
   ]
  },
  {
   "cell_type": "code",
   "execution_count": 6,
   "metadata": {},
   "outputs": [
    {
     "data": {
      "text/plain": [
       "psraid          0\n",
       "sample          0\n",
       "int_date        0\n",
       "fcall           0\n",
       "version         0\n",
       "             ... \n",
       "hphoneuse       0\n",
       "ll              0\n",
       "cp              0\n",
       "cellweight    377\n",
       "weight          0\n",
       "Length: 130, dtype: int64"
      ]
     },
     "execution_count": 6,
     "metadata": {},
     "output_type": "execute_result"
    }
   ],
   "source": [
    "df_pew.isna().sum()"
   ]
  },
  {
   "cell_type": "markdown",
   "metadata": {},
   "source": [
    "How many missing values are in the 'age' column?"
   ]
  },
  {
   "cell_type": "code",
   "execution_count": 7,
   "metadata": {},
   "outputs": [
    {
     "data": {
      "text/plain": [
       "14"
      ]
     },
     "execution_count": 7,
     "metadata": {},
     "output_type": "execute_result"
    }
   ],
   "source": [
    "df_pew.isna().sum().loc['age']"
   ]
  },
  {
   "cell_type": "markdown",
   "metadata": {},
   "source": [
    "Let's create a pandas series that is just the the age column of this dataframe and drop the missing values from this series."
   ]
  },
  {
   "cell_type": "code",
   "execution_count": 8,
   "metadata": {},
   "outputs": [
    {
     "data": {
      "text/plain": [
       "0       80.0\n",
       "1       70.0\n",
       "2       69.0\n",
       "3       50.0\n",
       "4       70.0\n",
       "        ... \n",
       "1498    37.0\n",
       "1499    30.0\n",
       "1500    72.0\n",
       "1501    67.0\n",
       "1502    35.0\n",
       "Name: age, Length: 1489, dtype: float64"
      ]
     },
     "execution_count": 8,
     "metadata": {},
     "output_type": "execute_result"
    }
   ],
   "source": [
    "df_pew_age=df_pew['age'].dropna()\n",
    "df_pew_age"
   ]
  },
  {
   "cell_type": "markdown",
   "metadata": {},
   "source": [
    "The code below confirms that we dropped 14 (=1503-1489) entries from this series that had missing values."
   ]
  },
  {
   "cell_type": "code",
   "execution_count": 9,
   "metadata": {},
   "outputs": [
    {
     "data": {
      "text/plain": [
       "(1489,)"
      ]
     },
     "execution_count": 9,
     "metadata": {},
     "output_type": "execute_result"
    }
   ],
   "source": [
    "df_pew_age.shape"
   ]
  },
  {
   "cell_type": "markdown",
   "metadata": {},
   "source": [
    "### Collecting Sample Information\n",
    "\n",
    "If we consider our **population** to be <u>ALL adults living in the U.S.</u> then we can think of this Pew dataset as a **random sample** of size $n=1489$ from this population. Because the sample is **random** we can use this dataset to **make inferences** about our population. "
   ]
  },
  {
   "cell_type": "code",
   "execution_count": 10,
   "metadata": {},
   "outputs": [
    {
     "name": "stdout",
     "output_type": "stream",
     "text": [
      "sample mean age= 50.49 \n",
      "sample std age= 17.84 \n",
      "sample size n= 1489\n",
      "popuolation standard deviation age= 18\n"
     ]
    }
   ],
   "source": [
    "# compute and display sample statistics\n",
    "sample_mean_age = df_pew_age.mean()\n",
    "sample_std_age = df_pew_age.std()\n",
    "n_age = df_pew_age.shape[0]\n",
    "print('sample mean age=', round(sample_mean_age, 2), \n",
    "      '\\nsample std age=', round(sample_std_age,2), \n",
    "      '\\nsample size n=', n_age)\n",
    "\n",
    "pop_std_age=18\n",
    "\n",
    "print('popuolation standard deviation age=',pop_std_age) "
   ]
  },
  {
   "cell_type": "code",
   "execution_count": 11,
   "metadata": {},
   "outputs": [
    {
     "data": {
      "image/png": "[encoded data removed]",
      "text/plain": [
       "<Figure size 640x480 with 1 Axes>"
      ]
     },
     "metadata": {},
     "output_type": "display_data"
    }
   ],
   "source": [
    "df_pew_age.hist(color='orange')\n",
    "plt.title('Sample Distribution')\n",
    "plt.xlabel('Age')\n",
    "plt.ylabel('Frequency')\n",
    "plt.show()"
   ]
  },
  {
   "cell_type": "markdown",
   "metadata": {},
   "source": [
    "### Are we allowed to calculate a confidence interval for $\\mu$ using this sample that was collected and the equations we just learned? Why or why not?\n",
    "\n",
    "Yes, the Central Limit Theorem Conditions (for Sample Means) below are met by this sample.\n",
    "\n",
    "1. <u>Condition: The observations are independent</u>.\n",
    "    - Because the sample is collected via random sampling and $n<10\\%$ of the population of ALL adults living in the U.S.\n",
    "   \n",
    "   \n",
    "2. <u>Condition: At least one of: n>30 OR the population distribution is normal.</u>.\n",
    "    - It looks like the population distribution of ages is NOT normal. How do we know?\n",
    "        - The sample distribution and the population distribution tend to mirror each other.\n",
    "        - The sample distribution above is NOT symmetric and unimodal, therefore, it is not a good assumption to say that it is normal.\n",
    "    - However, because our sample size $n=1489>30$,this condition is met.\n"
   ]
  },
  {
   "cell_type": "markdown",
   "metadata": {},
   "source": [
    "### What if one of the conditions above was not met and we calculated our confidence interval anyway using the given equations? \n",
    "\n",
    "Then our interpretations about the confidence interval may not be valid. For instance, we are calculating a 95% confidence interval. However, if our assumptions are not met, it may (for instance) be the case that we are only 90% confident that our population mean is in the range we produced."
   ]
  },
  {
   "cell_type": "markdown",
   "metadata": {},
   "source": [
    "### What is the critical value for this 95% confidence interval\n",
    "\n",
    "<u>Goal:</u> Find the POSITIVE z-score $z^*$ in the standard normal distribution in which:\n",
    "* an area of 0.95 is in between $-z^*$ and $z^*$.\n",
    "\n",
    "<u>Put another way:</u> We want to find the POSITIVE z-score $z^*$ in the standard normal distribution in which:\n",
    "* an area of 0.975=0.025+0.95 is to the left of $z^*$ and \n",
    "* an area of 0.025 is to the right of $z^*$. \n",
    "\n",
    "We can find the x-axis value (ie. the z-score) that has a left tail area of 0.975 by using the **norm.ppf()** function."
   ]
  },
  {
   "cell_type": "code",
   "execution_count": 17,
   "metadata": {},
   "outputs": [
    {
     "data": {
      "text/plain": [
       "1.959963984540054"
      ]
     },
     "execution_count": 17,
     "metadata": {},
     "output_type": "execute_result"
    }
   ],
   "source": [
    "from scipy.stats import norm\n",
    "critical_value=norm.ppf(0.975)\n",
    "critical_value"
   ]
  },
  {
   "cell_type": "markdown",
   "metadata": {},
   "source": [
    "The us the **critical value** for this 95% confidence interval is **$z^*=1.96$**."
   ]
  },
  {
   "cell_type": "markdown",
   "metadata": {},
   "source": [
    "### Calculate the 95% confidence interval.\n",
    "\n",
    "Thus, using our confidence interval equation we get:\n",
    "\n",
    "$(\\bar{x} - z^*\\frac{\\sigma}{\\sqrt{n}},\\bar{x} + z^*\\frac{\\sigma}{\\sqrt{n}})$\n",
    "\n",
    "$(50.49 - (1.96)\\frac{18}{\\sqrt{1489}},50.49  + (1.96)\\frac{18}{\\sqrt{1489}})$\n",
    "\n",
    "$(49.57,51.40)$."
   ]
  },
  {
   "cell_type": "code",
   "execution_count": 18,
   "metadata": {},
   "outputs": [
    {
     "name": "stdout",
     "output_type": "stream",
     "text": [
      "49.57397971873396 , 51.40251457273683\n"
     ]
    }
   ],
   "source": [
    "lower_bound=sample_mean_age-critical_value*(pop_std_age/np.sqrt(n_age))\n",
    "upper_bound=sample_mean_age+critical_value*(pop_std_age/np.sqrt(n_age))\n",
    "\n",
    "print(lower_bound,',',upper_bound)"
   ]
  },
  {
   "cell_type": "markdown",
   "metadata": {},
   "source": [
    "### Interpret this 95% confidence interval.\n",
    "\n",
    "We are 95% confident that the average age of all adults living in the U.S. (i.e. $\\mu$) is between 49.57 and 51.40."
   ]
  },
  {
   "cell_type": "markdown",
   "metadata": {},
   "source": [
    "## What to do with you don't know $\\sigma$?\n",
    "\n",
    "For example, suppose we wanted to calculate a 95% confidence interval (i.e. range of plausible values) for μ (the average age of ALL adults living in the U.S.). We have a random sample of size n=1503 that has a mean age of 50.49 years and a standard deviation of 17.84 years. Suppose we didn’t know what the population standard deviation was.\n",
    "\n",
    "\n",
    "Because $n>30$ (for now) we can plug in $s$ for $\\sigma$ and still get a relatively valid confidence interval:\n",
    "\n",
    "$(\\bar{x} - z^*\\frac{\\sigma}{\\sqrt{n}},\\bar{x} + z^*\\frac{\\sigma}{\\sqrt{n}})$\n",
    "\n",
    "$(\\bar{x} - z^*\\frac{s}{\\sqrt{n}},\\bar{x} + z^*\\frac{s}{\\sqrt{n}})$\n",
    "\n",
    "$(50.49 - (1.96)\\frac{17.84}{\\sqrt{1489}},50.49  + (1.96)\\frac{17.84}{\\sqrt{1489}})$\n",
    "\n",
    "$(49.58,51.39)$."
   ]
  },
  {
   "cell_type": "code",
   "execution_count": 19,
   "metadata": {},
   "outputs": [
    {
     "name": "stdout",
     "output_type": "stream",
     "text": [
      "49.581904861535484 , 51.3945894299353\n"
     ]
    }
   ],
   "source": [
    "lower_bound=sample_mean_age-critical_value*(sample_std_age/np.sqrt(n_age))\n",
    "upper_bound=sample_mean_age+critical_value*(sample_std_age/np.sqrt(n_age))\n",
    "\n",
    "print(lower_bound,',',upper_bound)"
   ]
  },
  {
   "cell_type": "markdown",
   "metadata": {},
   "source": [
    "We are 95% confident that the average age of all adults living in the U.S. (i.e. $\\mu$) is between 49.58 and 51.39."
   ]
  },
  {
   "cell_type": "markdown",
   "metadata": {},
   "source": [
    "### What does \"95% confident\" mean?\n",
    "\n",
    "If we repeated this process many times, generating repeated random samples of the same size and computing a confidence interval for each random sample, we would expect 95% of the resulting intervals to contain the true population mean age of all adults living in the U.S."
   ]
  },
  {
   "cell_type": "markdown",
   "metadata": {},
   "source": [
    "## Confidence Interval for a Population Proportion *p*\n",
    "\n",
    "**What is a plausible range of values for the proportion of ALL adults living in the U.S. that are satisfied with the way things are going in the coutnry at the time of the survey (2017)?**\n",
    "\n",
    "For example, suppose we wanted to calculate a 99% confidence interval (ie. range of plausible values) for p, the proportion of all adults living in the U.S. that are satisfied with the way things are going in the country at the time of the survey (2017). We collect a sample of size n=1503 that has a sample proportion of __________.\n",
    "\n",
    "### Dataset Cleaning and Inspection\n",
    "We wil be using the same 2017 Pew dataset as in the previous case study. The 'q2' column contains responses to the following question: 'All in all, are you satisfied or dissatisfied with the way things are going in this country today?'"
   ]
  },
  {
   "cell_type": "markdown",
   "metadata": {},
   "source": [
    "Let's create a pandas series that is just the the q2 column of this dataframe and drop the missing values from this series."
   ]
  },
  {
   "cell_type": "code",
   "execution_count": 20,
   "metadata": {},
   "outputs": [
    {
     "data": {
      "text/plain": [
       "0       Dissatisfied\n",
       "1       Dissatisfied\n",
       "2       Dissatisfied\n",
       "3          Satisfied\n",
       "4       Dissatisfied\n",
       "            ...     \n",
       "1498       Satisfied\n",
       "1499    Dissatisfied\n",
       "1500    Dissatisfied\n",
       "1501    Dissatisfied\n",
       "1502       Satisfied\n",
       "Name: q2, Length: 1435, dtype: object"
      ]
     },
     "execution_count": 20,
     "metadata": {},
     "output_type": "execute_result"
    }
   ],
   "source": [
    "df_pew_q2=df_pew['q2'].dropna()\n",
    "df_pew_q2"
   ]
  },
  {
   "cell_type": "markdown",
   "metadata": {},
   "source": [
    "It looks like we ended up dropping 68 = (1503 - 1435) entries in this column with missing values."
   ]
  },
  {
   "cell_type": "code",
   "execution_count": 21,
   "metadata": {},
   "outputs": [
    {
     "data": {
      "text/plain": [
       "(1435,)"
      ]
     },
     "execution_count": 21,
     "metadata": {},
     "output_type": "execute_result"
    }
   ],
   "source": [
    "df_pew_q2.shape"
   ]
  },
  {
   "cell_type": "markdown",
   "metadata": {},
   "source": [
    "### Collect information from the problem."
   ]
  },
  {
   "cell_type": "markdown",
   "metadata": {},
   "source": [
    "How many of each type of response is there in this column?"
   ]
  },
  {
   "cell_type": "code",
   "execution_count": 22,
   "metadata": {},
   "outputs": [
    {
     "data": {
      "text/plain": [
       "Dissatisfied    1003\n",
       "Satisfied        432\n",
       "Name: q2, dtype: int64"
      ]
     },
     "execution_count": 22,
     "metadata": {},
     "output_type": "execute_result"
    }
   ],
   "source": [
    "q2sum=df_pew_q2.value_counts()\n",
    "q2sum"
   ]
  },
  {
   "cell_type": "markdown",
   "metadata": {},
   "source": [
    "Now we can compute the sample proportion that are satisfied as $\\hat{p}=0.301$."
   ]
  },
  {
   "cell_type": "code",
   "execution_count": 23,
   "metadata": {},
   "outputs": [
    {
     "data": {
      "text/plain": [
       "0.301"
      ]
     },
     "execution_count": 23,
     "metadata": {},
     "output_type": "execute_result"
    }
   ],
   "source": [
    "prop = q2sum['Satisfied']/q2sum.sum()\n",
    "round(prop, 4)"
   ]
  },
  {
   "cell_type": "markdown",
   "metadata": {},
   "source": [
    "Sample size n=1435"
   ]
  },
  {
   "cell_type": "code",
   "execution_count": 25,
   "metadata": {},
   "outputs": [
    {
     "data": {
      "text/plain": [
       "1435"
      ]
     },
     "execution_count": 25,
     "metadata": {},
     "output_type": "execute_result"
    }
   ],
   "source": [
    "n_prop=df_pew_q2.shape[0]\n",
    "n_prop"
   ]
  },
  {
   "cell_type": "markdown",
   "metadata": {},
   "source": [
    "### Are we allowed to calculate a confidence interval for p using this sample that was collected and the equations we just learned? Why or why not?\n",
    "\n",
    "Yes, the Central Limit Theorem Conditions (for Sample Proportions) below are met by this sample.\n",
    "\n",
    "1. <u>Condition: The observations are independent</u>.\n",
    "    - Because the sample is collected via random sampling and $n<10\\%$ of the population of ALL adults living in the U.S.\n",
    "\n",
    "\n",
    "2. <u>Condition: $np\\geq 10$ and $n(1-p)\\geq 10$.</u>.\n",
    "    - Because we don't know $p$, we plug in $\\hat{p}=0.301$ in for $p$ in the conditions above.\n",
    "    - $n\\hat{p} = 1435\\cdot 0.301\\geq 10$\n",
    "    - $n(1-\\hat{p})=1435\\cdot(1-0.301)\\geq 10$."
   ]
  },
  {
   "cell_type": "code",
   "execution_count": 26,
   "metadata": {},
   "outputs": [
    {
     "data": {
      "text/plain": [
       "432.0"
      ]
     },
     "execution_count": 26,
     "metadata": {},
     "output_type": "execute_result"
    }
   ],
   "source": [
    "n_prop*prop"
   ]
  },
  {
   "cell_type": "code",
   "execution_count": 27,
   "metadata": {},
   "outputs": [
    {
     "data": {
      "text/plain": [
       "1003.0"
      ]
     },
     "execution_count": 27,
     "metadata": {},
     "output_type": "execute_result"
    }
   ],
   "source": [
    "n_prop*(1-prop)"
   ]
  },
  {
   "cell_type": "markdown",
   "metadata": {},
   "source": [
    "### What is the critical value for this 99% confidence interval?\n",
    "\n",
    "<u>Goal:</u> Find the POSITIVE z-score $z^*$ in the standard normal distribution in which:\n",
    "* an area of 0.99 is in between $-z^*$ and $z^*$.\n",
    "\n",
    "<u>Put another way:</u> We want to find the POSITIVE z-score $z^*$ in the standard normal distribution in which:\n",
    "* an area of 0.995=0.001+0.99 is to the left of $z^*$ and \n",
    "* an area of 0.001 is to the right of $z^*$. \n",
    "\n",
    "\n",
    "We can find the x-axis value (ie. the z-score) that has a left tail area of 0.995 by using the **norm.ppf()** function."
   ]
  },
  {
   "cell_type": "code",
   "execution_count": 28,
   "metadata": {},
   "outputs": [
    {
     "data": {
      "text/plain": [
       "2.5758293035489004"
      ]
     },
     "execution_count": 28,
     "metadata": {},
     "output_type": "execute_result"
    }
   ],
   "source": [
    "from scipy.stats import norm\n",
    "critical_value=norm.ppf(0.995)\n",
    "critical_value"
   ]
  },
  {
   "cell_type": "markdown",
   "metadata": {},
   "source": [
    "The critical value for this 99% confidence interval is $z^*=2.576$."
   ]
  },
  {
   "cell_type": "markdown",
   "metadata": {},
   "source": [
    "### Calculate the 99% confidence interval.\n",
    "\n",
    "$(\\hat{p} - z^*\\sqrt{\\frac{p(1-p)}{n}},\\hat{p} - z^*\\sqrt{\\frac{p(1-p)}{n}})$\n",
    "\n",
    "$(\\hat{p} - z^*\\sqrt{\\frac{\\hat{p}(1-\\hat{p})}{n}},\\hat{p} - z^*\\sqrt{\\frac{\\hat{p}(1-\\hat{p})}{n}})$\n",
    "\n",
    "$(0.301 - 2.576\\sqrt{\\frac{0.301}{(1-0.301)}{1435}},0.301 + 2.576\\sqrt{\\frac{0.301}{(1-0.301)}{1435}})$\n",
    "\n",
    "$(0.27,0.33)$."
   ]
  },
  {
   "cell_type": "code",
   "execution_count": 29,
   "metadata": {},
   "outputs": [
    {
     "name": "stdout",
     "output_type": "stream",
     "text": [
      "0.26985413319300744 , 0.33223645914148736\n"
     ]
    }
   ],
   "source": [
    "lower_bound=prop-critical_value*np.sqrt(prop*(1-prop)/n_prop)\n",
    "upper_bound=prop+critical_value*np.sqrt(prop*(1-prop)/n_prop)\n",
    "\n",
    "print(lower_bound,',',upper_bound)"
   ]
  },
  {
   "cell_type": "markdown",
   "metadata": {},
   "source": [
    "### Interpret this 99% confidence interval.\n",
    "\n",
    "We are 99% confident that the proportion of ALL adults living in the U.S. that approve of the way things are going in the country (in 2017) is between 0.27 and 0.33."
   ]
  },
  {
   "cell_type": "markdown",
   "metadata": {},
   "source": [
    "---\n",
    "STAT 207, Julie Deeke, Victoria Ellison, and Douglas Simpson, University of Illinois at Urbana-Champaign"
   ]
  }
 ],
 "metadata": {
  "kernelspec": {
   "display_name": "Python 3",
   "language": "python",
   "name": "python3"
  },
  "language_info": {
   "codemirror_mode": {
    "name": "ipython",
    "version": 3
   },
   "file_extension": ".py",
   "mimetype": "text/x-python",
   "name": "python",
   "nbconvert_exporter": "python",
   "pygments_lexer": "ipython3",
   "version": "3.10.6"
  },
  "vscode": {
   "interpreter": {
    "hash": "aee8b7b246df8f9039afb4144a1f6fd8d2ca17a180786b69acc140d282b71a49"
   }
  }
 },
 "nbformat": 4,
 "nbformat_minor": 2
}
