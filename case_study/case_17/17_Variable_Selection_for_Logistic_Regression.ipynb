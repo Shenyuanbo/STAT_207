{
 "cells": [
  {
   "cell_type": "markdown",
   "metadata": {},
   "source": [
    "# <u>Case Study 17</u>: Logistic Regression Variable Selection\n",
    "\n",
    "In this Case Study, we'll continue exploring the same context and the same question that motivated Case Study 16.  However, now we'll consider different options for determining an appropriate set of predictors to use in our model.\n",
    "\n",
    "In particular, we are addressing the challenge of **building a model that is *good* at *predicting* approval for the President's foreign policy with age, sex, and political affiliation *with new data***.\n",
    "\n",
    "Suppose we work at a political advertising agency. Rather than seek to **understand the relationship** between approval for the president's foreign policy with sex, age, and political affiliation, we would like build a model that will give us the **best predictions** for adults living in the U.S. in which we *don't know what they think about the president's foreign policy*.\n",
    "\n",
    "We can assume that this agency has the age, sex, political affiliation, and address of all registered voters in the state. So one goal that this political advertising agency might have is to use this data to make predictions about whether a given person that lives at a particular house approves of the president's foreign policy. They could then use that information to decide whether to mail political advertising pamphplets to this address."
   ]
  },
  {
   "cell_type": "markdown",
   "metadata": {},
   "source": [
    "## Preparing the Data"
   ]
  },
  {
   "cell_type": "code",
   "execution_count": 49,
   "metadata": {},
   "outputs": [],
   "source": [
    "import numpy as np\n",
    "import pandas as pd\n",
    "import matplotlib.pyplot as plt\n",
    "import statsmodels.api as sm\n",
    "import statsmodels.formula.api as smf"
   ]
  },
  {
   "cell_type": "code",
   "execution_count": 2,
   "metadata": {},
   "outputs": [],
   "source": [
    "missing_values = [\"NaN\", \"nan\", \"Don't know/Refused (VOL.)\"]\n",
    "df = pd.read_csv('Feb17public.csv', \n",
    "                 na_values=missing_values)[['age', 'sex', 'q5cf1', 'party', 'sample']]"
   ]
  },
  {
   "cell_type": "code",
   "execution_count": 3,
   "metadata": {},
   "outputs": [],
   "source": [
    "# reduce q52 responses to two categories \n",
    "# and create binary reponse variable\n",
    "df['y'] = df['q5cf1'].map({'Disapprove':0,'Approve':1})\n",
    "# use cleaned data without records that have missing values\n",
    "dfclean = df.dropna()"
   ]
  },
  {
   "cell_type": "code",
   "execution_count": 4,
   "metadata": {},
   "outputs": [
    {
     "data": {
      "text/html": [
       "<div>\n",
       "<style scoped>\n",
       "    .dataframe tbody tr th:only-of-type {\n",
       "        vertical-align: middle;\n",
       "    }\n",
       "\n",
       "    .dataframe tbody tr th {\n",
       "        vertical-align: top;\n",
       "    }\n",
       "\n",
       "    .dataframe thead th {\n",
       "        text-align: right;\n",
       "    }\n",
       "</style>\n",
       "<table border=\"1\" class=\"dataframe\">\n",
       "  <thead>\n",
       "    <tr style=\"text-align: right;\">\n",
       "      <th></th>\n",
       "      <th>age</th>\n",
       "      <th>sex</th>\n",
       "      <th>q5cf1</th>\n",
       "      <th>party</th>\n",
       "      <th>sample</th>\n",
       "      <th>y</th>\n",
       "    </tr>\n",
       "  </thead>\n",
       "  <tbody>\n",
       "    <tr>\n",
       "      <th>1</th>\n",
       "      <td>70.0</td>\n",
       "      <td>Female</td>\n",
       "      <td>Disapprove</td>\n",
       "      <td>Democrat</td>\n",
       "      <td>Landline</td>\n",
       "      <td>0.0</td>\n",
       "    </tr>\n",
       "    <tr>\n",
       "      <th>2</th>\n",
       "      <td>69.0</td>\n",
       "      <td>Female</td>\n",
       "      <td>Disapprove</td>\n",
       "      <td>Independent</td>\n",
       "      <td>Landline</td>\n",
       "      <td>0.0</td>\n",
       "    </tr>\n",
       "    <tr>\n",
       "      <th>4</th>\n",
       "      <td>70.0</td>\n",
       "      <td>Female</td>\n",
       "      <td>Disapprove</td>\n",
       "      <td>Democrat</td>\n",
       "      <td>Landline</td>\n",
       "      <td>0.0</td>\n",
       "    </tr>\n",
       "    <tr>\n",
       "      <th>6</th>\n",
       "      <td>89.0</td>\n",
       "      <td>Female</td>\n",
       "      <td>Disapprove</td>\n",
       "      <td>Independent</td>\n",
       "      <td>Landline</td>\n",
       "      <td>0.0</td>\n",
       "    </tr>\n",
       "    <tr>\n",
       "      <th>7</th>\n",
       "      <td>92.0</td>\n",
       "      <td>Female</td>\n",
       "      <td>Approve</td>\n",
       "      <td>Republican</td>\n",
       "      <td>Landline</td>\n",
       "      <td>1.0</td>\n",
       "    </tr>\n",
       "  </tbody>\n",
       "</table>\n",
       "</div>"
      ],
      "text/plain": [
       "    age     sex       q5cf1        party    sample    y\n",
       "1  70.0  Female  Disapprove     Democrat  Landline  0.0\n",
       "2  69.0  Female  Disapprove  Independent  Landline  0.0\n",
       "4  70.0  Female  Disapprove     Democrat  Landline  0.0\n",
       "6  89.0  Female  Disapprove  Independent  Landline  0.0\n",
       "7  92.0  Female     Approve   Republican  Landline  1.0"
      ]
     },
     "execution_count": 4,
     "metadata": {},
     "output_type": "execute_result"
    }
   ],
   "source": [
    "dfclean.head()"
   ]
  },
  {
   "cell_type": "code",
   "execution_count": 5,
   "metadata": {},
   "outputs": [
    {
     "data": {
      "text/plain": [
       "Democrat                256\n",
       "Independent             235\n",
       "Republican              172\n",
       "No preference (VOL.)     12\n",
       "Other party (VOL.)        4\n",
       "Name: party, dtype: int64"
      ]
     },
     "execution_count": 5,
     "metadata": {},
     "output_type": "execute_result"
    }
   ],
   "source": [
    "dfclean['party'].value_counts()"
   ]
  },
  {
   "cell_type": "code",
   "execution_count": 6,
   "metadata": {},
   "outputs": [
    {
     "data": {
      "text/plain": [
       "Female    352\n",
       "Male      327\n",
       "Name: sex, dtype: int64"
      ]
     },
     "execution_count": 6,
     "metadata": {},
     "output_type": "execute_result"
    }
   ],
   "source": [
    "dfclean['sex'].value_counts()"
   ]
  },
  {
   "cell_type": "code",
   "execution_count": 7,
   "metadata": {},
   "outputs": [
    {
     "data": {
      "text/html": [
       "<div>\n",
       "<style scoped>\n",
       "    .dataframe tbody tr th:only-of-type {\n",
       "        vertical-align: middle;\n",
       "    }\n",
       "\n",
       "    .dataframe tbody tr th {\n",
       "        vertical-align: top;\n",
       "    }\n",
       "\n",
       "    .dataframe thead th {\n",
       "        text-align: right;\n",
       "    }\n",
       "</style>\n",
       "<table border=\"1\" class=\"dataframe\">\n",
       "  <thead>\n",
       "    <tr style=\"text-align: right;\">\n",
       "      <th></th>\n",
       "      <th>age</th>\n",
       "      <th>y</th>\n",
       "    </tr>\n",
       "  </thead>\n",
       "  <tbody>\n",
       "    <tr>\n",
       "      <th>count</th>\n",
       "      <td>679.000000</td>\n",
       "      <td>679.000000</td>\n",
       "    </tr>\n",
       "    <tr>\n",
       "      <th>mean</th>\n",
       "      <td>50.338733</td>\n",
       "      <td>0.366716</td>\n",
       "    </tr>\n",
       "    <tr>\n",
       "      <th>std</th>\n",
       "      <td>17.951594</td>\n",
       "      <td>0.482263</td>\n",
       "    </tr>\n",
       "    <tr>\n",
       "      <th>min</th>\n",
       "      <td>18.000000</td>\n",
       "      <td>0.000000</td>\n",
       "    </tr>\n",
       "    <tr>\n",
       "      <th>25%</th>\n",
       "      <td>35.000000</td>\n",
       "      <td>0.000000</td>\n",
       "    </tr>\n",
       "    <tr>\n",
       "      <th>50%</th>\n",
       "      <td>52.000000</td>\n",
       "      <td>0.000000</td>\n",
       "    </tr>\n",
       "    <tr>\n",
       "      <th>75%</th>\n",
       "      <td>65.000000</td>\n",
       "      <td>1.000000</td>\n",
       "    </tr>\n",
       "    <tr>\n",
       "      <th>max</th>\n",
       "      <td>94.000000</td>\n",
       "      <td>1.000000</td>\n",
       "    </tr>\n",
       "  </tbody>\n",
       "</table>\n",
       "</div>"
      ],
      "text/plain": [
       "              age           y\n",
       "count  679.000000  679.000000\n",
       "mean    50.338733    0.366716\n",
       "std     17.951594    0.482263\n",
       "min     18.000000    0.000000\n",
       "25%     35.000000    0.000000\n",
       "50%     52.000000    0.000000\n",
       "75%     65.000000    1.000000\n",
       "max     94.000000    1.000000"
      ]
     },
     "execution_count": 7,
     "metadata": {},
     "output_type": "execute_result"
    }
   ],
   "source": [
    "dfclean.describe()"
   ]
  },
  {
   "cell_type": "markdown",
   "metadata": {},
   "source": [
    "## Log Likelihood Ratio Test\n",
    "\n",
    "If our goal is to find a \"parsimonious\" model, we will be interested in limiting the number of predictor variables in our model.  Then, how do we measure how well a model is fitting.  Similarly, how are the actual values for our fitted coefficients found.  We measure these values using the log-likelihood function.\n",
    "\n",
    "Let's first fit a logistic regression model that predicts the log likelihood that a adult living in the U.S. supports the president's foreign policy given the following explanatory variables:\n",
    "* party,\n",
    "* age, and\n",
    "* sex."
   ]
  },
  {
   "cell_type": "code",
   "execution_count": 8,
   "metadata": {},
   "outputs": [
    {
     "name": "stdout",
     "output_type": "stream",
     "text": [
      "Optimization terminated successfully.\n",
      "         Current function value: 0.419649\n",
      "         Iterations 7\n"
     ]
    },
    {
     "data": {
      "text/html": [
       "<table class=\"simpletable\">\n",
       "<caption>Logit Regression Results</caption>\n",
       "<tr>\n",
       "  <th>Dep. Variable:</th>           <td>y</td>        <th>  No. Observations:  </th>  <td>   679</td>  \n",
       "</tr>\n",
       "<tr>\n",
       "  <th>Model:</th>                 <td>Logit</td>      <th>  Df Residuals:      </th>  <td>   672</td>  \n",
       "</tr>\n",
       "<tr>\n",
       "  <th>Method:</th>                 <td>MLE</td>       <th>  Df Model:          </th>  <td>     6</td>  \n",
       "</tr>\n",
       "<tr>\n",
       "  <th>Date:</th>            <td>Wed, 19 Apr 2023</td> <th>  Pseudo R-squ.:     </th>  <td>0.3614</td>  \n",
       "</tr>\n",
       "<tr>\n",
       "  <th>Time:</th>                <td>00:22:40</td>     <th>  Log-Likelihood:    </th> <td> -284.94</td> \n",
       "</tr>\n",
       "<tr>\n",
       "  <th>converged:</th>             <td>True</td>       <th>  LL-Null:           </th> <td> -446.23</td> \n",
       "</tr>\n",
       "<tr>\n",
       "  <th>Covariance Type:</th>     <td>nonrobust</td>    <th>  LLR p-value:       </th> <td>1.185e-66</td>\n",
       "</tr>\n",
       "</table>\n",
       "<table class=\"simpletable\">\n",
       "<tr>\n",
       "                <td></td>                   <th>coef</th>     <th>std err</th>      <th>z</th>      <th>P>|z|</th>  <th>[0.025</th>    <th>0.975]</th>  \n",
       "</tr>\n",
       "<tr>\n",
       "  <th>Intercept</th>                     <td>   -4.5635</td> <td>    0.465</td> <td>   -9.807</td> <td> 0.000</td> <td>   -5.475</td> <td>   -3.651</td>\n",
       "</tr>\n",
       "<tr>\n",
       "  <th>party[T.Independent]</th>          <td>    2.2604</td> <td>    0.312</td> <td>    7.236</td> <td> 0.000</td> <td>    1.648</td> <td>    2.873</td>\n",
       "</tr>\n",
       "<tr>\n",
       "  <th>party[T.No preference (VOL.)]</th> <td>    2.5881</td> <td>    0.680</td> <td>    3.808</td> <td> 0.000</td> <td>    1.256</td> <td>    3.920</td>\n",
       "</tr>\n",
       "<tr>\n",
       "  <th>party[T.Other party (VOL.)]</th>   <td>    4.0865</td> <td>    1.212</td> <td>    3.372</td> <td> 0.001</td> <td>    1.711</td> <td>    6.462</td>\n",
       "</tr>\n",
       "<tr>\n",
       "  <th>party[T.Republican]</th>           <td>    4.2985</td> <td>    0.341</td> <td>   12.592</td> <td> 0.000</td> <td>    3.629</td> <td>    4.968</td>\n",
       "</tr>\n",
       "<tr>\n",
       "  <th>sex[T.Male]</th>                   <td>    0.7288</td> <td>    0.217</td> <td>    3.363</td> <td> 0.001</td> <td>    0.304</td> <td>    1.154</td>\n",
       "</tr>\n",
       "<tr>\n",
       "  <th>age</th>                           <td>    0.0272</td> <td>    0.006</td> <td>    4.443</td> <td> 0.000</td> <td>    0.015</td> <td>    0.039</td>\n",
       "</tr>\n",
       "</table>"
      ],
      "text/plain": [
       "<class 'statsmodels.iolib.summary.Summary'>\n",
       "\"\"\"\n",
       "                           Logit Regression Results                           \n",
       "==============================================================================\n",
       "Dep. Variable:                      y   No. Observations:                  679\n",
       "Model:                          Logit   Df Residuals:                      672\n",
       "Method:                           MLE   Df Model:                            6\n",
       "Date:                Wed, 19 Apr 2023   Pseudo R-squ.:                  0.3614\n",
       "Time:                        00:22:40   Log-Likelihood:                -284.94\n",
       "converged:                       True   LL-Null:                       -446.23\n",
       "Covariance Type:            nonrobust   LLR p-value:                 1.185e-66\n",
       "=================================================================================================\n",
       "                                    coef    std err          z      P>|z|      [0.025      0.975]\n",
       "-------------------------------------------------------------------------------------------------\n",
       "Intercept                        -4.5635      0.465     -9.807      0.000      -5.475      -3.651\n",
       "party[T.Independent]              2.2604      0.312      7.236      0.000       1.648       2.873\n",
       "party[T.No preference (VOL.)]     2.5881      0.680      3.808      0.000       1.256       3.920\n",
       "party[T.Other party (VOL.)]       4.0865      1.212      3.372      0.001       1.711       6.462\n",
       "party[T.Republican]               4.2985      0.341     12.592      0.000       3.629       4.968\n",
       "sex[T.Male]                       0.7288      0.217      3.363      0.001       0.304       1.154\n",
       "age                               0.0272      0.006      4.443      0.000       0.015       0.039\n",
       "=================================================================================================\n",
       "\"\"\""
      ]
     },
     "execution_count": 8,
     "metadata": {},
     "output_type": "execute_result"
    }
   ],
   "source": [
    "pewmod = smf.logit('y ~ party + age + sex',\\\n",
    "    data=dfclean).fit()\n",
    "pewmod.summary()"
   ]
  },
  {
   "cell_type": "markdown",
   "metadata": {},
   "source": [
    "In an earlier section we considered two models for predicting a favorable opinion of border wall construction in the Pew Research Survey of February 2017. Let's load the data and the two models and first see how we can test between the two models. The idea is analogous to the ANOVA method for comparing two linear regression models. "
   ]
  },
  {
   "cell_type": "markdown",
   "metadata": {},
   "source": [
    "<u> Descriptive Analytics Question:</u> Is the proportion of people that support the president's foreign policy different for at least one pair of political parties *in the sample*?"
   ]
  },
  {
   "cell_type": "code",
   "execution_count": 9,
   "metadata": {},
   "outputs": [
    {
     "data": {
      "text/html": [
       "<div>\n",
       "<style scoped>\n",
       "    .dataframe tbody tr th:only-of-type {\n",
       "        vertical-align: middle;\n",
       "    }\n",
       "\n",
       "    .dataframe tbody tr th {\n",
       "        vertical-align: top;\n",
       "    }\n",
       "\n",
       "    .dataframe thead th {\n",
       "        text-align: right;\n",
       "    }\n",
       "</style>\n",
       "<table border=\"1\" class=\"dataframe\">\n",
       "  <thead>\n",
       "    <tr style=\"text-align: right;\">\n",
       "      <th></th>\n",
       "      <th>age</th>\n",
       "      <th>y</th>\n",
       "    </tr>\n",
       "    <tr>\n",
       "      <th>party</th>\n",
       "      <th></th>\n",
       "      <th></th>\n",
       "    </tr>\n",
       "  </thead>\n",
       "  <tbody>\n",
       "    <tr>\n",
       "      <th>Democrat</th>\n",
       "      <td>51.085938</td>\n",
       "      <td>0.058594</td>\n",
       "    </tr>\n",
       "    <tr>\n",
       "      <th>Independent</th>\n",
       "      <td>45.370213</td>\n",
       "      <td>0.357447</td>\n",
       "    </tr>\n",
       "    <tr>\n",
       "      <th>No preference (VOL.)</th>\n",
       "      <td>45.666667</td>\n",
       "      <td>0.416667</td>\n",
       "    </tr>\n",
       "    <tr>\n",
       "      <th>Other party (VOL.)</th>\n",
       "      <td>39.500000</td>\n",
       "      <td>0.750000</td>\n",
       "    </tr>\n",
       "    <tr>\n",
       "      <th>Republican</th>\n",
       "      <td>56.593023</td>\n",
       "      <td>0.825581</td>\n",
       "    </tr>\n",
       "  </tbody>\n",
       "</table>\n",
       "</div>"
      ],
      "text/plain": [
       "                            age         y\n",
       "party                                    \n",
       "Democrat              51.085938  0.058594\n",
       "Independent           45.370213  0.357447\n",
       "No preference (VOL.)  45.666667  0.416667\n",
       "Other party (VOL.)    39.500000  0.750000\n",
       "Republican            56.593023  0.825581"
      ]
     },
     "execution_count": 9,
     "metadata": {},
     "output_type": "execute_result"
    }
   ],
   "source": [
    "dfclean.groupby('party').mean()"
   ]
  },
  {
   "cell_type": "markdown",
   "metadata": {},
   "source": [
    "We can see that the proportion of 'favor' responses varies quite a bit between party affiliations, by looking at the mean values for 'y'. In each subgroup, the sample mean of y equals the proportion who favored the |president's foreign policy.\n",
    "\n",
    "\n",
    "<u> Inference Question:</u> Is the proportion of people that support the president's foreign policy different for at least one pair of political parties *in the population* of all adults that live in the U.S.?"
   ]
  },
  {
   "cell_type": "markdown",
   "metadata": {},
   "source": [
    "### Models for Comparison\n",
    "\n",
    "We will use a full model and reduced model for the log-likelihood-ratio test.\n",
    "\n",
    "Recall that 'party' is a categorical variable with 5 categories. If we wish to test the null hypothesis of no party effects (after controlling for age and sex), we need a 4 degree of freedom test. For this we can use the log-likelihood-ratio test.\n",
    "\n",
    "<u>Step 1</u>: Set up a full model and a null model.\n",
    "\n",
    "* **Reduced Model (Model 0)**:\n",
    "    * Response = Support for president's foreign policy\n",
    "    * Explanatory Variables:\n",
    "        - age\n",
    "        - sex\n",
    "* **Full Model (Model 1)**:\n",
    "    * Response = Support for president's foreign policy\n",
    "    * Explanatory Variables:\n",
    "        - age\n",
    "        - sex\n",
    "        - party\n",
    "\n",
    "\n",
    "First we fit the reduced and full model:"
   ]
  },
  {
   "cell_type": "code",
   "execution_count": 10,
   "metadata": {},
   "outputs": [
    {
     "name": "stdout",
     "output_type": "stream",
     "text": [
      "Optimization terminated successfully.\n",
      "         Current function value: 0.616503\n",
      "         Iterations 5\n",
      "Optimization terminated successfully.\n",
      "         Current function value: 0.419649\n",
      "         Iterations 7\n"
     ]
    }
   ],
   "source": [
    "mod_red = smf.logit('y ~ age + sex', data=dfclean).fit()\n",
    "mod_full = smf.logit('y ~ party + age + sex', data=dfclean).fit()"
   ]
  },
  {
   "cell_type": "markdown",
   "metadata": {},
   "source": [
    "<u>Step 2</u>: Set up the null and alternative hypotheses.\n",
    "\n",
    "$\n",
    "\\begin{align}\n",
    "H_0: &\\quad \\mbox{Reduced Model is correct},\\\\\n",
    "\\\\\n",
    "H_A: &\\quad \\mbox{Reduced Model is incorrect because at least one of the missing 'party' coefficients in the Reduced Model is not 0}.\\\\\n",
    "\\end{align}\n",
    "$"
   ]
  },
  {
   "cell_type": "markdown",
   "metadata": {},
   "source": [
    "<u>Step 3</u>: Calculate the test statistic."
   ]
  },
  {
   "cell_type": "markdown",
   "metadata": {},
   "source": [
    "We don't need to display the summaries to perform the test, but it is informative to review the model summaries to understand the variables. The maximized log-likelihood is shown in the model summary as 'Log-Likelihood'."
   ]
  },
  {
   "cell_type": "markdown",
   "metadata": {},
   "source": [
    "<u>Step 3a</u>: Extract the log-likelihoods for the two models:"
   ]
  },
  {
   "cell_type": "code",
   "execution_count": 11,
   "metadata": {},
   "outputs": [
    {
     "data": {
      "text/html": [
       "<table class=\"simpletable\">\n",
       "<caption>Logit Regression Results</caption>\n",
       "<tr>\n",
       "  <th>Dep. Variable:</th>           <td>y</td>        <th>  No. Observations:  </th>  <td>   679</td>  \n",
       "</tr>\n",
       "<tr>\n",
       "  <th>Model:</th>                 <td>Logit</td>      <th>  Df Residuals:      </th>  <td>   676</td>  \n",
       "</tr>\n",
       "<tr>\n",
       "  <th>Method:</th>                 <td>MLE</td>       <th>  Df Model:          </th>  <td>     2</td>  \n",
       "</tr>\n",
       "<tr>\n",
       "  <th>Date:</th>            <td>Wed, 19 Apr 2023</td> <th>  Pseudo R-squ.:     </th>  <td>0.06190</td> \n",
       "</tr>\n",
       "<tr>\n",
       "  <th>Time:</th>                <td>00:22:41</td>     <th>  Log-Likelihood:    </th> <td> -418.61</td> \n",
       "</tr>\n",
       "<tr>\n",
       "  <th>converged:</th>             <td>True</td>       <th>  LL-Null:           </th> <td> -446.23</td> \n",
       "</tr>\n",
       "<tr>\n",
       "  <th>Covariance Type:</th>     <td>nonrobust</td>    <th>  LLR p-value:       </th> <td>1.008e-12</td>\n",
       "</tr>\n",
       "</table>\n",
       "<table class=\"simpletable\">\n",
       "<tr>\n",
       "       <td></td>          <th>coef</th>     <th>std err</th>      <th>z</th>      <th>P>|z|</th>  <th>[0.025</th>    <th>0.975]</th>  \n",
       "</tr>\n",
       "<tr>\n",
       "  <th>Intercept</th>   <td>   -2.3139</td> <td>    0.289</td> <td>   -8.017</td> <td> 0.000</td> <td>   -2.880</td> <td>   -1.748</td>\n",
       "</tr>\n",
       "<tr>\n",
       "  <th>sex[T.Male]</th> <td>    0.8720</td> <td>    0.168</td> <td>    5.201</td> <td> 0.000</td> <td>    0.543</td> <td>    1.201</td>\n",
       "</tr>\n",
       "<tr>\n",
       "  <th>age</th>         <td>    0.0258</td> <td>    0.005</td> <td>    5.379</td> <td> 0.000</td> <td>    0.016</td> <td>    0.035</td>\n",
       "</tr>\n",
       "</table>"
      ],
      "text/plain": [
       "<class 'statsmodels.iolib.summary.Summary'>\n",
       "\"\"\"\n",
       "                           Logit Regression Results                           \n",
       "==============================================================================\n",
       "Dep. Variable:                      y   No. Observations:                  679\n",
       "Model:                          Logit   Df Residuals:                      676\n",
       "Method:                           MLE   Df Model:                            2\n",
       "Date:                Wed, 19 Apr 2023   Pseudo R-squ.:                 0.06190\n",
       "Time:                        00:22:41   Log-Likelihood:                -418.61\n",
       "converged:                       True   LL-Null:                       -446.23\n",
       "Covariance Type:            nonrobust   LLR p-value:                 1.008e-12\n",
       "===============================================================================\n",
       "                  coef    std err          z      P>|z|      [0.025      0.975]\n",
       "-------------------------------------------------------------------------------\n",
       "Intercept      -2.3139      0.289     -8.017      0.000      -2.880      -1.748\n",
       "sex[T.Male]     0.8720      0.168      5.201      0.000       0.543       1.201\n",
       "age             0.0258      0.005      5.379      0.000       0.016       0.035\n",
       "===============================================================================\n",
       "\"\"\""
      ]
     },
     "execution_count": 11,
     "metadata": {},
     "output_type": "execute_result"
    }
   ],
   "source": [
    "mod_red.summary()"
   ]
  },
  {
   "cell_type": "code",
   "execution_count": 12,
   "metadata": {},
   "outputs": [
    {
     "data": {
      "text/html": [
       "<table class=\"simpletable\">\n",
       "<caption>Logit Regression Results</caption>\n",
       "<tr>\n",
       "  <th>Dep. Variable:</th>           <td>y</td>        <th>  No. Observations:  </th>  <td>   679</td>  \n",
       "</tr>\n",
       "<tr>\n",
       "  <th>Model:</th>                 <td>Logit</td>      <th>  Df Residuals:      </th>  <td>   672</td>  \n",
       "</tr>\n",
       "<tr>\n",
       "  <th>Method:</th>                 <td>MLE</td>       <th>  Df Model:          </th>  <td>     6</td>  \n",
       "</tr>\n",
       "<tr>\n",
       "  <th>Date:</th>            <td>Wed, 19 Apr 2023</td> <th>  Pseudo R-squ.:     </th>  <td>0.3614</td>  \n",
       "</tr>\n",
       "<tr>\n",
       "  <th>Time:</th>                <td>00:22:41</td>     <th>  Log-Likelihood:    </th> <td> -284.94</td> \n",
       "</tr>\n",
       "<tr>\n",
       "  <th>converged:</th>             <td>True</td>       <th>  LL-Null:           </th> <td> -446.23</td> \n",
       "</tr>\n",
       "<tr>\n",
       "  <th>Covariance Type:</th>     <td>nonrobust</td>    <th>  LLR p-value:       </th> <td>1.185e-66</td>\n",
       "</tr>\n",
       "</table>\n",
       "<table class=\"simpletable\">\n",
       "<tr>\n",
       "                <td></td>                   <th>coef</th>     <th>std err</th>      <th>z</th>      <th>P>|z|</th>  <th>[0.025</th>    <th>0.975]</th>  \n",
       "</tr>\n",
       "<tr>\n",
       "  <th>Intercept</th>                     <td>   -4.5635</td> <td>    0.465</td> <td>   -9.807</td> <td> 0.000</td> <td>   -5.475</td> <td>   -3.651</td>\n",
       "</tr>\n",
       "<tr>\n",
       "  <th>party[T.Independent]</th>          <td>    2.2604</td> <td>    0.312</td> <td>    7.236</td> <td> 0.000</td> <td>    1.648</td> <td>    2.873</td>\n",
       "</tr>\n",
       "<tr>\n",
       "  <th>party[T.No preference (VOL.)]</th> <td>    2.5881</td> <td>    0.680</td> <td>    3.808</td> <td> 0.000</td> <td>    1.256</td> <td>    3.920</td>\n",
       "</tr>\n",
       "<tr>\n",
       "  <th>party[T.Other party (VOL.)]</th>   <td>    4.0865</td> <td>    1.212</td> <td>    3.372</td> <td> 0.001</td> <td>    1.711</td> <td>    6.462</td>\n",
       "</tr>\n",
       "<tr>\n",
       "  <th>party[T.Republican]</th>           <td>    4.2985</td> <td>    0.341</td> <td>   12.592</td> <td> 0.000</td> <td>    3.629</td> <td>    4.968</td>\n",
       "</tr>\n",
       "<tr>\n",
       "  <th>sex[T.Male]</th>                   <td>    0.7288</td> <td>    0.217</td> <td>    3.363</td> <td> 0.001</td> <td>    0.304</td> <td>    1.154</td>\n",
       "</tr>\n",
       "<tr>\n",
       "  <th>age</th>                           <td>    0.0272</td> <td>    0.006</td> <td>    4.443</td> <td> 0.000</td> <td>    0.015</td> <td>    0.039</td>\n",
       "</tr>\n",
       "</table>"
      ],
      "text/plain": [
       "<class 'statsmodels.iolib.summary.Summary'>\n",
       "\"\"\"\n",
       "                           Logit Regression Results                           \n",
       "==============================================================================\n",
       "Dep. Variable:                      y   No. Observations:                  679\n",
       "Model:                          Logit   Df Residuals:                      672\n",
       "Method:                           MLE   Df Model:                            6\n",
       "Date:                Wed, 19 Apr 2023   Pseudo R-squ.:                  0.3614\n",
       "Time:                        00:22:41   Log-Likelihood:                -284.94\n",
       "converged:                       True   LL-Null:                       -446.23\n",
       "Covariance Type:            nonrobust   LLR p-value:                 1.185e-66\n",
       "=================================================================================================\n",
       "                                    coef    std err          z      P>|z|      [0.025      0.975]\n",
       "-------------------------------------------------------------------------------------------------\n",
       "Intercept                        -4.5635      0.465     -9.807      0.000      -5.475      -3.651\n",
       "party[T.Independent]              2.2604      0.312      7.236      0.000       1.648       2.873\n",
       "party[T.No preference (VOL.)]     2.5881      0.680      3.808      0.000       1.256       3.920\n",
       "party[T.Other party (VOL.)]       4.0865      1.212      3.372      0.001       1.711       6.462\n",
       "party[T.Republican]               4.2985      0.341     12.592      0.000       3.629       4.968\n",
       "sex[T.Male]                       0.7288      0.217      3.363      0.001       0.304       1.154\n",
       "age                               0.0272      0.006      4.443      0.000       0.015       0.039\n",
       "=================================================================================================\n",
       "\"\"\""
      ]
     },
     "execution_count": 12,
     "metadata": {},
     "output_type": "execute_result"
    }
   ],
   "source": [
    "mod_full.summary()"
   ]
  },
  {
   "cell_type": "code",
   "execution_count": 13,
   "metadata": {},
   "outputs": [
    {
     "data": {
      "text/plain": [
       "(-418.6053096733376, -284.9418430874059)"
      ]
     },
     "execution_count": 13,
     "metadata": {},
     "output_type": "execute_result"
    }
   ],
   "source": [
    "mod_red.llf, mod_full.llf"
   ]
  },
  {
   "cell_type": "code",
   "execution_count": 14,
   "metadata": {},
   "outputs": [
    {
     "data": {
      "text/plain": [
       "(2.0, 6.0)"
      ]
     },
     "execution_count": 14,
     "metadata": {},
     "output_type": "execute_result"
    }
   ],
   "source": [
    "mod_red.df_model, mod_full.df_model"
   ]
  },
  {
   "cell_type": "markdown",
   "metadata": {},
   "source": [
    "<u>Step 3b</u>: Use these log-likelihoods to calculate the likelihood ratio test statistic.\n",
    "\n",
    "Just be careful to get the multiplier (-2) right so the chi-sqaure approximation works correctly."
   ]
  },
  {
   "cell_type": "code",
   "execution_count": 15,
   "metadata": {},
   "outputs": [
    {
     "data": {
      "text/html": [
       "<div>\n",
       "<style scoped>\n",
       "    .dataframe tbody tr th:only-of-type {\n",
       "        vertical-align: middle;\n",
       "    }\n",
       "\n",
       "    .dataframe tbody tr th {\n",
       "        vertical-align: top;\n",
       "    }\n",
       "\n",
       "    .dataframe thead th {\n",
       "        text-align: right;\n",
       "    }\n",
       "</style>\n",
       "<table border=\"1\" class=\"dataframe\">\n",
       "  <thead>\n",
       "    <tr style=\"text-align: right;\">\n",
       "      <th></th>\n",
       "      <th>-2*llf</th>\n",
       "      <th>df_model</th>\n",
       "    </tr>\n",
       "  </thead>\n",
       "  <tbody>\n",
       "    <tr>\n",
       "      <th>reduced model</th>\n",
       "      <td>837.210619</td>\n",
       "      <td>2.0</td>\n",
       "    </tr>\n",
       "    <tr>\n",
       "      <th>full model</th>\n",
       "      <td>569.883686</td>\n",
       "      <td>6.0</td>\n",
       "    </tr>\n",
       "    <tr>\n",
       "      <th>diff</th>\n",
       "      <td>267.326933</td>\n",
       "      <td>4.0</td>\n",
       "    </tr>\n",
       "  </tbody>\n",
       "</table>\n",
       "</div>"
      ],
      "text/plain": [
       "                   -2*llf  df_model\n",
       "reduced model  837.210619       2.0\n",
       "full model     569.883686       6.0\n",
       "diff           267.326933       4.0"
      ]
     },
     "execution_count": 15,
     "metadata": {},
     "output_type": "execute_result"
    }
   ],
   "source": [
    "# Extract log-likelihood function values \n",
    "# and model degrees of freedom from each model\n",
    "llf_red, df_red = mod_red.llf, mod_red.df_model\n",
    "llf_full, df_full = mod_full.llf, mod_full.df_model\n",
    "# take differences\n",
    "llr, dfdiff = -2*(llf_red - llf_full), df_full - df_red\n",
    "# display results\n",
    "pd.DataFrame({'-2*llf': [-2*llf_red, -2*llf_full, llr], \n",
    "              'df_model': [df_red, df_full, dfdiff]}, \n",
    "             index=['reduced model','full model', 'diff'])"
   ]
  },
  {
   "cell_type": "markdown",
   "metadata": {},
   "source": [
    "<u>Step 4</u>: Calculate the degrees of freedom for the chi-squared distribution that this test statistic is an observation from.\n",
    "\n",
    "Why was df = 4 in this analysis?\n",
    "\n",
    "<u>Step 5 </u>: Calculate the p-value and make a conclusion."
   ]
  },
  {
   "cell_type": "code",
   "execution_count": 16,
   "metadata": {},
   "outputs": [
    {
     "data": {
      "text/plain": [
       "0.0"
      ]
     },
     "execution_count": 16,
     "metadata": {},
     "output_type": "execute_result"
    }
   ],
   "source": [
    "# import chisquare function and compute p-value\n",
    "from scipy.stats import chi2\n",
    "1 - chi2.cdf(llr, df=dfdiff)"
   ]
  },
  {
   "cell_type": "code",
   "execution_count": 17,
   "metadata": {},
   "outputs": [
    {
     "name": "stdout",
     "output_type": "stream",
     "text": [
      "-2*llr: 267.33  df: 4.0  p-value: 0.0\n"
     ]
    }
   ],
   "source": [
    "# summarize test results\n",
    "print('-2*llr:', round(llr, 2), \\\n",
    "      ' df:', dfdiff, ' p-value:', \\\n",
    "      1 - chi2.cdf(llr, df=dfdiff))"
   ]
  },
  {
   "cell_type": "markdown",
   "metadata": {},
   "source": [
    "**Conclusion:** \n",
    "\n",
    "Because the $p-value<0.0001<\\alpha=0.05$, we reject the null hypothesis. Thus there is sufficient evidence to suggest that the reduced Model is incorrect because at least one of the missing 'party' coefficients (for one of the parties) in Reduced Model is not zero.\n",
    "\n",
    "Or in other words, there is sufficient evidence to suggest that party affiliation is a significant factor associated with support for the president's foreign policy."
   ]
  },
  {
   "cell_type": "markdown",
   "metadata": {},
   "source": [
    "## Model Selection with AIC and BIC\n",
    "\n",
    "In the previous section we used a hypothesis test to evaluate whether there was evidence to suggest that the full model with the party slopes (as well as the age and sex slope) was a better fit of the data then the reduced model which just had the age and sex slopes.\n",
    "\n",
    "Now, let's use the AIC and BIC scores of the full and reduced model to see which of the two models is closer to being a parsimonious model.\n",
    "\n",
    "The AIC and BIC both balance the model fit with the model complexity.  In both cases, we prefer a model with the smaller measure."
   ]
  },
  {
   "cell_type": "code",
   "execution_count": 18,
   "metadata": {},
   "outputs": [
    {
     "data": {
      "text/html": [
       "<table class=\"simpletable\">\n",
       "<caption>Logit Regression Results</caption>\n",
       "<tr>\n",
       "  <th>Dep. Variable:</th>           <td>y</td>        <th>  No. Observations:  </th>  <td>   679</td>  \n",
       "</tr>\n",
       "<tr>\n",
       "  <th>Model:</th>                 <td>Logit</td>      <th>  Df Residuals:      </th>  <td>   672</td>  \n",
       "</tr>\n",
       "<tr>\n",
       "  <th>Method:</th>                 <td>MLE</td>       <th>  Df Model:          </th>  <td>     6</td>  \n",
       "</tr>\n",
       "<tr>\n",
       "  <th>Date:</th>            <td>Wed, 19 Apr 2023</td> <th>  Pseudo R-squ.:     </th>  <td>0.3614</td>  \n",
       "</tr>\n",
       "<tr>\n",
       "  <th>Time:</th>                <td>00:22:41</td>     <th>  Log-Likelihood:    </th> <td> -284.94</td> \n",
       "</tr>\n",
       "<tr>\n",
       "  <th>converged:</th>             <td>True</td>       <th>  LL-Null:           </th> <td> -446.23</td> \n",
       "</tr>\n",
       "<tr>\n",
       "  <th>Covariance Type:</th>     <td>nonrobust</td>    <th>  LLR p-value:       </th> <td>1.185e-66</td>\n",
       "</tr>\n",
       "</table>\n",
       "<table class=\"simpletable\">\n",
       "<tr>\n",
       "                <td></td>                   <th>coef</th>     <th>std err</th>      <th>z</th>      <th>P>|z|</th>  <th>[0.025</th>    <th>0.975]</th>  \n",
       "</tr>\n",
       "<tr>\n",
       "  <th>Intercept</th>                     <td>   -4.5635</td> <td>    0.465</td> <td>   -9.807</td> <td> 0.000</td> <td>   -5.475</td> <td>   -3.651</td>\n",
       "</tr>\n",
       "<tr>\n",
       "  <th>party[T.Independent]</th>          <td>    2.2604</td> <td>    0.312</td> <td>    7.236</td> <td> 0.000</td> <td>    1.648</td> <td>    2.873</td>\n",
       "</tr>\n",
       "<tr>\n",
       "  <th>party[T.No preference (VOL.)]</th> <td>    2.5881</td> <td>    0.680</td> <td>    3.808</td> <td> 0.000</td> <td>    1.256</td> <td>    3.920</td>\n",
       "</tr>\n",
       "<tr>\n",
       "  <th>party[T.Other party (VOL.)]</th>   <td>    4.0865</td> <td>    1.212</td> <td>    3.372</td> <td> 0.001</td> <td>    1.711</td> <td>    6.462</td>\n",
       "</tr>\n",
       "<tr>\n",
       "  <th>party[T.Republican]</th>           <td>    4.2985</td> <td>    0.341</td> <td>   12.592</td> <td> 0.000</td> <td>    3.629</td> <td>    4.968</td>\n",
       "</tr>\n",
       "<tr>\n",
       "  <th>sex[T.Male]</th>                   <td>    0.7288</td> <td>    0.217</td> <td>    3.363</td> <td> 0.001</td> <td>    0.304</td> <td>    1.154</td>\n",
       "</tr>\n",
       "<tr>\n",
       "  <th>age</th>                           <td>    0.0272</td> <td>    0.006</td> <td>    4.443</td> <td> 0.000</td> <td>    0.015</td> <td>    0.039</td>\n",
       "</tr>\n",
       "</table>"
      ],
      "text/plain": [
       "<class 'statsmodels.iolib.summary.Summary'>\n",
       "\"\"\"\n",
       "                           Logit Regression Results                           \n",
       "==============================================================================\n",
       "Dep. Variable:                      y   No. Observations:                  679\n",
       "Model:                          Logit   Df Residuals:                      672\n",
       "Method:                           MLE   Df Model:                            6\n",
       "Date:                Wed, 19 Apr 2023   Pseudo R-squ.:                  0.3614\n",
       "Time:                        00:22:41   Log-Likelihood:                -284.94\n",
       "converged:                       True   LL-Null:                       -446.23\n",
       "Covariance Type:            nonrobust   LLR p-value:                 1.185e-66\n",
       "=================================================================================================\n",
       "                                    coef    std err          z      P>|z|      [0.025      0.975]\n",
       "-------------------------------------------------------------------------------------------------\n",
       "Intercept                        -4.5635      0.465     -9.807      0.000      -5.475      -3.651\n",
       "party[T.Independent]              2.2604      0.312      7.236      0.000       1.648       2.873\n",
       "party[T.No preference (VOL.)]     2.5881      0.680      3.808      0.000       1.256       3.920\n",
       "party[T.Other party (VOL.)]       4.0865      1.212      3.372      0.001       1.711       6.462\n",
       "party[T.Republican]               4.2985      0.341     12.592      0.000       3.629       4.968\n",
       "sex[T.Male]                       0.7288      0.217      3.363      0.001       0.304       1.154\n",
       "age                               0.0272      0.006      4.443      0.000       0.015       0.039\n",
       "=================================================================================================\n",
       "\"\"\""
      ]
     },
     "execution_count": 18,
     "metadata": {},
     "output_type": "execute_result"
    }
   ],
   "source": [
    "mod_full.summary()"
   ]
  },
  {
   "cell_type": "code",
   "execution_count": 19,
   "metadata": {},
   "outputs": [
    {
     "data": {
      "text/html": [
       "<table class=\"simpletable\">\n",
       "<caption>Logit Regression Results</caption>\n",
       "<tr>\n",
       "  <th>Dep. Variable:</th>           <td>y</td>        <th>  No. Observations:  </th>  <td>   679</td>  \n",
       "</tr>\n",
       "<tr>\n",
       "  <th>Model:</th>                 <td>Logit</td>      <th>  Df Residuals:      </th>  <td>   676</td>  \n",
       "</tr>\n",
       "<tr>\n",
       "  <th>Method:</th>                 <td>MLE</td>       <th>  Df Model:          </th>  <td>     2</td>  \n",
       "</tr>\n",
       "<tr>\n",
       "  <th>Date:</th>            <td>Wed, 19 Apr 2023</td> <th>  Pseudo R-squ.:     </th>  <td>0.06190</td> \n",
       "</tr>\n",
       "<tr>\n",
       "  <th>Time:</th>                <td>00:22:41</td>     <th>  Log-Likelihood:    </th> <td> -418.61</td> \n",
       "</tr>\n",
       "<tr>\n",
       "  <th>converged:</th>             <td>True</td>       <th>  LL-Null:           </th> <td> -446.23</td> \n",
       "</tr>\n",
       "<tr>\n",
       "  <th>Covariance Type:</th>     <td>nonrobust</td>    <th>  LLR p-value:       </th> <td>1.008e-12</td>\n",
       "</tr>\n",
       "</table>\n",
       "<table class=\"simpletable\">\n",
       "<tr>\n",
       "       <td></td>          <th>coef</th>     <th>std err</th>      <th>z</th>      <th>P>|z|</th>  <th>[0.025</th>    <th>0.975]</th>  \n",
       "</tr>\n",
       "<tr>\n",
       "  <th>Intercept</th>   <td>   -2.3139</td> <td>    0.289</td> <td>   -8.017</td> <td> 0.000</td> <td>   -2.880</td> <td>   -1.748</td>\n",
       "</tr>\n",
       "<tr>\n",
       "  <th>sex[T.Male]</th> <td>    0.8720</td> <td>    0.168</td> <td>    5.201</td> <td> 0.000</td> <td>    0.543</td> <td>    1.201</td>\n",
       "</tr>\n",
       "<tr>\n",
       "  <th>age</th>         <td>    0.0258</td> <td>    0.005</td> <td>    5.379</td> <td> 0.000</td> <td>    0.016</td> <td>    0.035</td>\n",
       "</tr>\n",
       "</table>"
      ],
      "text/plain": [
       "<class 'statsmodels.iolib.summary.Summary'>\n",
       "\"\"\"\n",
       "                           Logit Regression Results                           \n",
       "==============================================================================\n",
       "Dep. Variable:                      y   No. Observations:                  679\n",
       "Model:                          Logit   Df Residuals:                      676\n",
       "Method:                           MLE   Df Model:                            2\n",
       "Date:                Wed, 19 Apr 2023   Pseudo R-squ.:                 0.06190\n",
       "Time:                        00:22:41   Log-Likelihood:                -418.61\n",
       "converged:                       True   LL-Null:                       -446.23\n",
       "Covariance Type:            nonrobust   LLR p-value:                 1.008e-12\n",
       "===============================================================================\n",
       "                  coef    std err          z      P>|z|      [0.025      0.975]\n",
       "-------------------------------------------------------------------------------\n",
       "Intercept      -2.3139      0.289     -8.017      0.000      -2.880      -1.748\n",
       "sex[T.Male]     0.8720      0.168      5.201      0.000       0.543       1.201\n",
       "age             0.0258      0.005      5.379      0.000       0.016       0.035\n",
       "===============================================================================\n",
       "\"\"\""
      ]
     },
     "execution_count": 19,
     "metadata": {},
     "output_type": "execute_result"
    }
   ],
   "source": [
    "mod_red.summary()"
   ]
  },
  {
   "cell_type": "markdown",
   "metadata": {},
   "source": [
    "**Extracing the AIC and BIC**\n",
    "\n",
    "We can extract the AIC from a given model output by using the **`.aic`** parameter."
   ]
  },
  {
   "cell_type": "code",
   "execution_count": 20,
   "metadata": {},
   "outputs": [
    {
     "name": "stdout",
     "output_type": "stream",
     "text": [
      "Full Model AIC: 583.8836861748118\n",
      "Reduced Model AIC: 843.2106193466752\n"
     ]
    }
   ],
   "source": [
    "print('Full Model AIC:',mod_full.aic)\n",
    "print('Reduced Model AIC:',mod_red.aic)"
   ]
  },
  {
   "cell_type": "markdown",
   "metadata": {},
   "source": [
    "Similarly, we can extract the BIC from a given model output by using the **`.bic`** parameter."
   ]
  },
  {
   "cell_type": "code",
   "execution_count": 21,
   "metadata": {},
   "outputs": [
    {
     "name": "stdout",
     "output_type": "stream",
     "text": [
      "Full Model BIC: 615.5280340677227\n",
      "Reduced Model BIC: 856.7724827293513\n"
     ]
    }
   ],
   "source": [
    "print('Full Model BIC:',mod_full.bic)\n",
    "print('Reduced Model BIC:',mod_red.bic)"
   ]
  },
  {
   "cell_type": "markdown",
   "metadata": {},
   "source": [
    "Both AIC and BIC favor the full model. This suggests that the reduced model is too simple, so the bias due to omitted variables is too large for this model compared to the full model.\n",
    "\n",
    "Or in other words, by adding the party explanatory variable to the full model, the improvment (ie. increase) in the optimal log likelihood function value (ie. predictive power) was great enough to counterbalance the addition of another slope (which contributes more to overfitting)."
   ]
  },
  {
   "cell_type": "markdown",
   "metadata": {},
   "source": [
    "## Backward Elimination or Forward Searching\n",
    "\n",
    "Now, we'll consider one more possible predictor variable: the sampling method.  Specifically, we'll consider whether the individual was contacted by Landline or Cell Phone.\n",
    "\n",
    "With backward elimination or forward searching, we will fit many models in the search for the best or optimal model.  However, we will perform this search while making some \"smart\" decisions, allowing us not to touch every single possible model but to pick the most plausible models to touch.\n",
    "\n",
    "For example, let's use a backwards elimination algorithm with <u>BIC</u> to try to find a most parsimonious model that predicts support for the president's foreign policy.\n",
    "\n",
    "Remember, the lower a model's BIC score is, the more parsimonious we consider the model to be. Therefore, our goal for using this algorithm should be to find the model that has the lowest BIC score.\n",
    "\n",
    "<u>Iteration 1 of Backwards Elimination</u>\n",
    "\n",
    "First, let's fit the \"current model\" with ALL four possible explanatory variables and find the BIC score of this \"current model\"."
   ]
  },
  {
   "cell_type": "code",
   "execution_count": 22,
   "metadata": {},
   "outputs": [
    {
     "name": "stdout",
     "output_type": "stream",
     "text": [
      "Optimization terminated successfully.\n",
      "         Current function value: 0.419629\n",
      "         Iterations 7\n",
      "ITERATION 1: BIC of the Current Model 622.021657116503\n"
     ]
    }
   ],
   "source": [
    "current_mod=smf.logit('y~age+sex+party+sample', data=dfclean).fit()\n",
    "print('ITERATION 1: BIC of the Current Model',current_mod.bic)"
   ]
  },
  {
   "cell_type": "markdown",
   "metadata": {},
   "source": [
    "Next, let's fit four test models and calculate the BIC score for that model, for each test model we delete one of the possible explanatory variables from the \"current model\"."
   ]
  },
  {
   "cell_type": "code",
   "execution_count": 23,
   "metadata": {},
   "outputs": [
    {
     "name": "stdout",
     "output_type": "stream",
     "text": [
      "Optimization terminated successfully.\n",
      "         Current function value: 0.616481\n",
      "         Iterations 5\n",
      "BIC of Test Model that Deletes PARTY from the Current Model 863.2637843537823\n"
     ]
    }
   ],
   "source": [
    "#Test model that deletes party\n",
    "test_mod=smf.logit('y~age+sex+sample', data=dfclean).fit()\n",
    "print('BIC of Test Model that Deletes PARTY from the Current Model',test_mod.bic)"
   ]
  },
  {
   "cell_type": "code",
   "execution_count": 24,
   "metadata": {},
   "outputs": [
    {
     "name": "stdout",
     "output_type": "stream",
     "text": [
      "Optimization terminated successfully.\n",
      "         Current function value: 0.427991\n",
      "         Iterations 7\n",
      "BIC of Test Model that Deletes SEX from the Current Model 626.8558806309323\n"
     ]
    }
   ],
   "source": [
    "#Test model that deletes sex\n",
    "test_mod=smf.logit('y~age+party+sample', data=dfclean).fit()\n",
    "print('BIC of Test Model that Deletes SEX from the Current Model',test_mod.bic)"
   ]
  },
  {
   "cell_type": "code",
   "execution_count": 25,
   "metadata": {},
   "outputs": [
    {
     "name": "stdout",
     "output_type": "stream",
     "text": [
      "Optimization terminated successfully.\n",
      "         Current function value: 0.433090\n",
      "         Iterations 7\n",
      "BIC of Test Model that Deletes AGE from the Current Model 633.7801450903343\n"
     ]
    }
   ],
   "source": [
    "#Test model that deletes age\n",
    "test_mod=smf.logit('y~sex+party+sample', data=dfclean).fit()\n",
    "print('BIC of Test Model that Deletes AGE from the Current Model',test_mod.bic)"
   ]
  },
  {
   "cell_type": "code",
   "execution_count": 26,
   "metadata": {},
   "outputs": [
    {
     "name": "stdout",
     "output_type": "stream",
     "text": [
      "Optimization terminated successfully.\n",
      "         Current function value: 0.419649\n",
      "         Iterations 7\n",
      "BIC of Test Model that Deletes SAMPLE from the Current Model 615.5280340677227\n"
     ]
    }
   ],
   "source": [
    "#Test model that deletes sample\n",
    "test_mod=smf.logit('y~age+sex+party', data=dfclean).fit()\n",
    "print('BIC of Test Model that Deletes SAMPLE from the Current Model',test_mod.bic)"
   ]
  },
  {
   "cell_type": "markdown",
   "metadata": {},
   "source": [
    "Because there was at least one \"test model\" that has a BIC score (615.53) that is lower than the BIC score of the current model (622.02), we continue on to step 4 in the algorithm.\n",
    "\n",
    "The \"test model\" (from step 2) that had the lowest BIC score was the one that deleted the \"sample\" explanatory variable from the \"current model\". So we set the new \"current model\" to be the test model that does not include \"sample\" and we go back to step (2). We can call this a new iteration of the algorithm.\n",
    "\n",
    "<u>Iteration 2 of Backwards Elimination</u>"
   ]
  },
  {
   "cell_type": "code",
   "execution_count": 27,
   "metadata": {},
   "outputs": [
    {
     "name": "stdout",
     "output_type": "stream",
     "text": [
      "Optimization terminated successfully.\n",
      "         Current function value: 0.419649\n",
      "         Iterations 7\n",
      "ITERATION 2: BIC of the Current Model 615.5280340677227\n"
     ]
    }
   ],
   "source": [
    "current_mod=smf.logit('y~age+sex+party', data=dfclean).fit()\n",
    "print('ITERATION 2: BIC of the Current Model',current_mod.bic)"
   ]
  },
  {
   "cell_type": "markdown",
   "metadata": {},
   "source": [
    "Next, let's fit three test models and calculate the BIC score for that model, for each test model we delete one of the possible explanatory variables from the \"current model\"."
   ]
  },
  {
   "cell_type": "code",
   "execution_count": 28,
   "metadata": {},
   "outputs": [
    {
     "name": "stdout",
     "output_type": "stream",
     "text": [
      "Optimization terminated successfully.\n",
      "         Current function value: 0.616503\n",
      "         Iterations 5\n",
      "BIC of Test Model that Deletes PARTY from the Current Model 856.7724827293513\n"
     ]
    }
   ],
   "source": [
    "#Test model that deletes party\n",
    "test_mod=smf.logit('y~age+sex', data=dfclean).fit()\n",
    "print('BIC of Test Model that Deletes PARTY from the Current Model',test_mod.bic)"
   ]
  },
  {
   "cell_type": "code",
   "execution_count": 29,
   "metadata": {},
   "outputs": [
    {
     "name": "stdout",
     "output_type": "stream",
     "text": [
      "Optimization terminated successfully.\n",
      "         Current function value: 0.428186\n",
      "         Iterations 7\n",
      "BIC of Test Model that Deletes SEX from the Current Model 620.600002907382\n"
     ]
    }
   ],
   "source": [
    "#Test model that deletes sex\n",
    "test_mod=smf.logit('y~age+party', data=dfclean).fit()\n",
    "print('BIC of Test Model that Deletes SEX from the Current Model',test_mod.bic)"
   ]
  },
  {
   "cell_type": "code",
   "execution_count": 30,
   "metadata": {},
   "outputs": [
    {
     "name": "stdout",
     "output_type": "stream",
     "text": [
      "Optimization terminated successfully.\n",
      "         Current function value: 0.434714\n",
      "         Iterations 7\n",
      "BIC of Test Model that Deletes AGE from the Current Model 629.4647062516452\n"
     ]
    }
   ],
   "source": [
    "#Test model that deletes age\n",
    "test_mod=smf.logit('y~sex+party', data=dfclean).fit()\n",
    "print('BIC of Test Model that Deletes AGE from the Current Model',test_mod.bic)"
   ]
  },
  {
   "cell_type": "markdown",
   "metadata": {},
   "source": [
    "Because there were no \"test models\" that had a lower than the BIC score of the current model (615.53), we STOP THE ALGORITHM and we return the \"current model\" (with age, sex, and party as explanatory variables) as our \"final model.\""
   ]
  },
  {
   "cell_type": "code",
   "execution_count": 31,
   "metadata": {},
   "outputs": [
    {
     "name": "stdout",
     "output_type": "stream",
     "text": [
      "Optimization terminated successfully.\n",
      "         Current function value: 0.419649\n",
      "         Iterations 7\n"
     ]
    },
    {
     "data": {
      "text/html": [
       "<table class=\"simpletable\">\n",
       "<caption>Logit Regression Results</caption>\n",
       "<tr>\n",
       "  <th>Dep. Variable:</th>           <td>y</td>        <th>  No. Observations:  </th>  <td>   679</td>  \n",
       "</tr>\n",
       "<tr>\n",
       "  <th>Model:</th>                 <td>Logit</td>      <th>  Df Residuals:      </th>  <td>   672</td>  \n",
       "</tr>\n",
       "<tr>\n",
       "  <th>Method:</th>                 <td>MLE</td>       <th>  Df Model:          </th>  <td>     6</td>  \n",
       "</tr>\n",
       "<tr>\n",
       "  <th>Date:</th>            <td>Wed, 19 Apr 2023</td> <th>  Pseudo R-squ.:     </th>  <td>0.3614</td>  \n",
       "</tr>\n",
       "<tr>\n",
       "  <th>Time:</th>                <td>00:22:42</td>     <th>  Log-Likelihood:    </th> <td> -284.94</td> \n",
       "</tr>\n",
       "<tr>\n",
       "  <th>converged:</th>             <td>True</td>       <th>  LL-Null:           </th> <td> -446.23</td> \n",
       "</tr>\n",
       "<tr>\n",
       "  <th>Covariance Type:</th>     <td>nonrobust</td>    <th>  LLR p-value:       </th> <td>1.185e-66</td>\n",
       "</tr>\n",
       "</table>\n",
       "<table class=\"simpletable\">\n",
       "<tr>\n",
       "                <td></td>                   <th>coef</th>     <th>std err</th>      <th>z</th>      <th>P>|z|</th>  <th>[0.025</th>    <th>0.975]</th>  \n",
       "</tr>\n",
       "<tr>\n",
       "  <th>Intercept</th>                     <td>   -4.5635</td> <td>    0.465</td> <td>   -9.807</td> <td> 0.000</td> <td>   -5.475</td> <td>   -3.651</td>\n",
       "</tr>\n",
       "<tr>\n",
       "  <th>sex[T.Male]</th>                   <td>    0.7288</td> <td>    0.217</td> <td>    3.363</td> <td> 0.001</td> <td>    0.304</td> <td>    1.154</td>\n",
       "</tr>\n",
       "<tr>\n",
       "  <th>party[T.Independent]</th>          <td>    2.2604</td> <td>    0.312</td> <td>    7.236</td> <td> 0.000</td> <td>    1.648</td> <td>    2.873</td>\n",
       "</tr>\n",
       "<tr>\n",
       "  <th>party[T.No preference (VOL.)]</th> <td>    2.5881</td> <td>    0.680</td> <td>    3.808</td> <td> 0.000</td> <td>    1.256</td> <td>    3.920</td>\n",
       "</tr>\n",
       "<tr>\n",
       "  <th>party[T.Other party (VOL.)]</th>   <td>    4.0865</td> <td>    1.212</td> <td>    3.372</td> <td> 0.001</td> <td>    1.711</td> <td>    6.462</td>\n",
       "</tr>\n",
       "<tr>\n",
       "  <th>party[T.Republican]</th>           <td>    4.2985</td> <td>    0.341</td> <td>   12.592</td> <td> 0.000</td> <td>    3.629</td> <td>    4.968</td>\n",
       "</tr>\n",
       "<tr>\n",
       "  <th>age</th>                           <td>    0.0272</td> <td>    0.006</td> <td>    4.443</td> <td> 0.000</td> <td>    0.015</td> <td>    0.039</td>\n",
       "</tr>\n",
       "</table>"
      ],
      "text/plain": [
       "<class 'statsmodels.iolib.summary.Summary'>\n",
       "\"\"\"\n",
       "                           Logit Regression Results                           \n",
       "==============================================================================\n",
       "Dep. Variable:                      y   No. Observations:                  679\n",
       "Model:                          Logit   Df Residuals:                      672\n",
       "Method:                           MLE   Df Model:                            6\n",
       "Date:                Wed, 19 Apr 2023   Pseudo R-squ.:                  0.3614\n",
       "Time:                        00:22:42   Log-Likelihood:                -284.94\n",
       "converged:                       True   LL-Null:                       -446.23\n",
       "Covariance Type:            nonrobust   LLR p-value:                 1.185e-66\n",
       "=================================================================================================\n",
       "                                    coef    std err          z      P>|z|      [0.025      0.975]\n",
       "-------------------------------------------------------------------------------------------------\n",
       "Intercept                        -4.5635      0.465     -9.807      0.000      -5.475      -3.651\n",
       "sex[T.Male]                       0.7288      0.217      3.363      0.001       0.304       1.154\n",
       "party[T.Independent]              2.2604      0.312      7.236      0.000       1.648       2.873\n",
       "party[T.No preference (VOL.)]     2.5881      0.680      3.808      0.000       1.256       3.920\n",
       "party[T.Other party (VOL.)]       4.0865      1.212      3.372      0.001       1.711       6.462\n",
       "party[T.Republican]               4.2985      0.341     12.592      0.000       3.629       4.968\n",
       "age                               0.0272      0.006      4.443      0.000       0.015       0.039\n",
       "=================================================================================================\n",
       "\"\"\""
      ]
     },
     "execution_count": 31,
     "metadata": {},
     "output_type": "execute_result"
    }
   ],
   "source": [
    "final_mod=smf.logit('y~age+sex+party', data=dfclean).fit()\n",
    "final_mod.summary()"
   ]
  },
  {
   "cell_type": "markdown",
   "metadata": {},
   "source": [
    "<u>Final Interpretation</u>\n",
    "\n",
    "What this means is that the final model with just sex, age, and party as explanatory variables is more parsimonious than the model with sample, sex, age, and party, because this final model had a lower BIC score.\n",
    "\n",
    "**However, we do not know for sure that the model with sex, age, and party has the LOWEST BIC score out of all possible $2^4=16$ possible models combinations that use (or do not use) the four possible explanatory variables that we originally considered!**"
   ]
  },
  {
   "cell_type": "markdown",
   "metadata": {},
   "source": [
    "## Regularization Terms in the Regression Model\n",
    "\n",
    "Up until now, we considered balancing the model complexity with the model fit after the model itself was generated.  However, can we incorporate some of these penalty terms into the model generation itself?  This would help us to adjust out coefficients to take into account some of these considerations.\n",
    "\n",
    "To do so, we will add a penalty term.  There are many different choices of the penalty term, with three that we will focus on here.  Note that determining which of these three options to use is complicated and beyond the scope of our course.\n",
    "\n",
    "Now, let's turn to an example using our data:\n",
    "\n",
    "Let's fit four types of logistic regression models that predicts the likelihood that an adult living in the U.S. supports the president's foreign policy using the following explanatory variables:\n",
    "* age\n",
    "* sex\n",
    "* party\n",
    "* sample (whether they were contacted for the survey via cellphone or landline)\n",
    "\n",
    "Specifically, let's fit the following four types of logistic regression models to the *entire dataframe*.\n",
    "1. Basic (ie. non-regularized) Logistic Regression (ie. no penalty)\n",
    "2. Logistic Regression with L1 penalty (ie. LASSO Logistic Regression)\n",
    "3. Logistic Regression with L2 penalty (ie. Ridge Logistic Regression)\n",
    "4. Elastic Net Logistic Regression (Combination of L1 and L2 penalty)\n",
    "\n",
    "In order to fit **regularized** logistic regression models, we need to use the **LogisticRegression()** function which is from the **sklearn.linear_model** package."
   ]
  },
  {
   "cell_type": "code",
   "execution_count": 32,
   "metadata": {},
   "outputs": [],
   "source": [
    "from sklearn.linear_model import LogisticRegression"
   ]
  },
  {
   "cell_type": "markdown",
   "metadata": {},
   "source": [
    "The **LogisticRegression()** function takes a different type of inputs and has a different format than what the **ols.logit()** function uses.\n",
    "\n",
    "First, we need to separate the explanatory variables into a dataframe by themselves which we call a **features matrix, X**."
   ]
  },
  {
   "cell_type": "code",
   "execution_count": 33,
   "metadata": {},
   "outputs": [
    {
     "data": {
      "text/html": [
       "<div>\n",
       "<style scoped>\n",
       "    .dataframe tbody tr th:only-of-type {\n",
       "        vertical-align: middle;\n",
       "    }\n",
       "\n",
       "    .dataframe tbody tr th {\n",
       "        vertical-align: top;\n",
       "    }\n",
       "\n",
       "    .dataframe thead th {\n",
       "        text-align: right;\n",
       "    }\n",
       "</style>\n",
       "<table border=\"1\" class=\"dataframe\">\n",
       "  <thead>\n",
       "    <tr style=\"text-align: right;\">\n",
       "      <th></th>\n",
       "      <th>age</th>\n",
       "      <th>sex</th>\n",
       "      <th>party</th>\n",
       "      <th>sample</th>\n",
       "    </tr>\n",
       "  </thead>\n",
       "  <tbody>\n",
       "    <tr>\n",
       "      <th>1</th>\n",
       "      <td>70.0</td>\n",
       "      <td>Female</td>\n",
       "      <td>Democrat</td>\n",
       "      <td>Landline</td>\n",
       "    </tr>\n",
       "    <tr>\n",
       "      <th>2</th>\n",
       "      <td>69.0</td>\n",
       "      <td>Female</td>\n",
       "      <td>Independent</td>\n",
       "      <td>Landline</td>\n",
       "    </tr>\n",
       "    <tr>\n",
       "      <th>4</th>\n",
       "      <td>70.0</td>\n",
       "      <td>Female</td>\n",
       "      <td>Democrat</td>\n",
       "      <td>Landline</td>\n",
       "    </tr>\n",
       "    <tr>\n",
       "      <th>6</th>\n",
       "      <td>89.0</td>\n",
       "      <td>Female</td>\n",
       "      <td>Independent</td>\n",
       "      <td>Landline</td>\n",
       "    </tr>\n",
       "    <tr>\n",
       "      <th>7</th>\n",
       "      <td>92.0</td>\n",
       "      <td>Female</td>\n",
       "      <td>Republican</td>\n",
       "      <td>Landline</td>\n",
       "    </tr>\n",
       "  </tbody>\n",
       "</table>\n",
       "</div>"
      ],
      "text/plain": [
       "    age     sex        party    sample\n",
       "1  70.0  Female     Democrat  Landline\n",
       "2  69.0  Female  Independent  Landline\n",
       "4  70.0  Female     Democrat  Landline\n",
       "6  89.0  Female  Independent  Landline\n",
       "7  92.0  Female   Republican  Landline"
      ]
     },
     "execution_count": 33,
     "metadata": {},
     "output_type": "execute_result"
    }
   ],
   "source": [
    "X = dfclean.drop(columns=['y','q5cf1'])\n",
    "X.head()"
   ]
  },
  {
   "cell_type": "markdown",
   "metadata": {},
   "source": [
    "Next, we need to convert the categorical *explanatory variables* to indicator variables \"ourselves\", or by using the pandas **pd.get_dummies()** function.\n",
    "\n",
    "Notice how:\n",
    "* the \"age\" variable remains in the dataframe,\n",
    "* the \"sex\", \"party\", and \"sample\" variables were dropped, \n",
    "* and we now have an indicator variable for all but one of the levels for each of our categorical explanatory variables.\n",
    "\n",
    "The **drop_first=True** parameter, tells the **pd.get_dummies()** function to *not* create an indicator variable for one level of each categorical variable."
   ]
  },
  {
   "cell_type": "code",
   "execution_count": 34,
   "metadata": {},
   "outputs": [
    {
     "data": {
      "text/html": [
       "<div>\n",
       "<style scoped>\n",
       "    .dataframe tbody tr th:only-of-type {\n",
       "        vertical-align: middle;\n",
       "    }\n",
       "\n",
       "    .dataframe tbody tr th {\n",
       "        vertical-align: top;\n",
       "    }\n",
       "\n",
       "    .dataframe thead th {\n",
       "        text-align: right;\n",
       "    }\n",
       "</style>\n",
       "<table border=\"1\" class=\"dataframe\">\n",
       "  <thead>\n",
       "    <tr style=\"text-align: right;\">\n",
       "      <th></th>\n",
       "      <th>age</th>\n",
       "      <th>sex_Male</th>\n",
       "      <th>party_Independent</th>\n",
       "      <th>party_No preference (VOL.)</th>\n",
       "      <th>party_Other party (VOL.)</th>\n",
       "      <th>party_Republican</th>\n",
       "      <th>sample_Landline</th>\n",
       "    </tr>\n",
       "  </thead>\n",
       "  <tbody>\n",
       "    <tr>\n",
       "      <th>1</th>\n",
       "      <td>70.0</td>\n",
       "      <td>0</td>\n",
       "      <td>0</td>\n",
       "      <td>0</td>\n",
       "      <td>0</td>\n",
       "      <td>0</td>\n",
       "      <td>1</td>\n",
       "    </tr>\n",
       "    <tr>\n",
       "      <th>2</th>\n",
       "      <td>69.0</td>\n",
       "      <td>0</td>\n",
       "      <td>1</td>\n",
       "      <td>0</td>\n",
       "      <td>0</td>\n",
       "      <td>0</td>\n",
       "      <td>1</td>\n",
       "    </tr>\n",
       "    <tr>\n",
       "      <th>4</th>\n",
       "      <td>70.0</td>\n",
       "      <td>0</td>\n",
       "      <td>0</td>\n",
       "      <td>0</td>\n",
       "      <td>0</td>\n",
       "      <td>0</td>\n",
       "      <td>1</td>\n",
       "    </tr>\n",
       "    <tr>\n",
       "      <th>6</th>\n",
       "      <td>89.0</td>\n",
       "      <td>0</td>\n",
       "      <td>1</td>\n",
       "      <td>0</td>\n",
       "      <td>0</td>\n",
       "      <td>0</td>\n",
       "      <td>1</td>\n",
       "    </tr>\n",
       "    <tr>\n",
       "      <th>7</th>\n",
       "      <td>92.0</td>\n",
       "      <td>0</td>\n",
       "      <td>0</td>\n",
       "      <td>0</td>\n",
       "      <td>0</td>\n",
       "      <td>1</td>\n",
       "      <td>1</td>\n",
       "    </tr>\n",
       "  </tbody>\n",
       "</table>\n",
       "</div>"
      ],
      "text/plain": [
       "    age  sex_Male  party_Independent  party_No preference (VOL.)  \\\n",
       "1  70.0         0                  0                           0   \n",
       "2  69.0         0                  1                           0   \n",
       "4  70.0         0                  0                           0   \n",
       "6  89.0         0                  1                           0   \n",
       "7  92.0         0                  0                           0   \n",
       "\n",
       "   party_Other party (VOL.)  party_Republican  sample_Landline  \n",
       "1                         0                 0                1  \n",
       "2                         0                 0                1  \n",
       "4                         0                 0                1  \n",
       "6                         0                 0                1  \n",
       "7                         0                 1                1  "
      ]
     },
     "execution_count": 34,
     "metadata": {},
     "output_type": "execute_result"
    }
   ],
   "source": [
    "X=pd.get_dummies(X, drop_first=True)\n",
    "X.head()"
   ]
  },
  {
   "cell_type": "markdown",
   "metadata": {},
   "source": [
    "And finally, we need to separate the 0/1 response variable values into a series by itself, which we calls the **target array, y**."
   ]
  },
  {
   "cell_type": "code",
   "execution_count": 35,
   "metadata": {},
   "outputs": [
    {
     "data": {
      "text/plain": [
       "1       0.0\n",
       "2       0.0\n",
       "4       0.0\n",
       "6       0.0\n",
       "7       1.0\n",
       "       ... \n",
       "1494    1.0\n",
       "1498    1.0\n",
       "1499    1.0\n",
       "1501    0.0\n",
       "1502    1.0\n",
       "Name: y, Length: 679, dtype: float64"
      ]
     },
     "execution_count": 35,
     "metadata": {},
     "output_type": "execute_result"
    }
   ],
   "source": [
    "y=dfclean['y']\n",
    "y"
   ]
  },
  {
   "cell_type": "markdown",
   "metadata": {},
   "source": [
    "### Basic (non-regularized) Logistic Regression (no penalties)\n",
    "\n",
    "First, let's fit a non-regularized logistic regression model with the following additional function parameters.\n",
    "\n",
    "* **penalty**: By selecting 'none' for the penalty, we are indicating that we are just using a basic (non-regularized) logistic regression model.\n",
    "* **solver**: We will use the the 'newton-cg' solver. The newton-cg algorithm is a type of numerical analysis algorithm that goes about finding an optimal solution to a given objective function.\n",
    "* **max_iter**: This algorithm stops after 1000 iterations or when the algorithm has converged.\n",
    "\n",
    "\n",
    "<u>Additional Information</u>: The 'newton-cg' solver only works for: basic logistic regression and ridge regression.\n"
   ]
  },
  {
   "cell_type": "code",
   "execution_count": 36,
   "metadata": {},
   "outputs": [
    {
     "data": {
      "text/plain": [
       "LogisticRegression(max_iter=1000, penalty='none', solver='newton-cg')"
      ]
     },
     "execution_count": 36,
     "metadata": {},
     "output_type": "execute_result"
    }
   ],
   "source": [
    "clf0 = LogisticRegression(penalty='none', solver='newton-cg', \n",
    "                          max_iter=1000)\n",
    "clf0.fit(X,y)"
   ]
  },
  {
   "cell_type": "markdown",
   "metadata": {},
   "source": [
    "### LASSO (L1 penalty) Logistic Regression\n",
    "\n",
    "Next, let's fit a LASSO (L1 penalty) Logistic Regression model with the following additional function parameters.\n",
    "\n",
    "* **penalty**: By selecting 'l1' for the penalty, we are fitting a LASSO (L1 penalty) logistic regression.\n",
    "* **solver**: We will use the the 'liblinear' solver. The liblinear is a tool that solves linear logistic regression optimization problems.\n",
    "* **max_iter**: This algorithm stops after 1000 iterations or when the algorithm has converged.\n",
    "* **C:** This value is set to be $\\frac{1}{\\lambda}$. Thus if we want our $\\lambda=3$ in this model, we need to set $C=\\frac{1}{\\lambda}=\\frac{1}{3}$.\n",
    "\n",
    "<u>Additional Information</u>: The 'liblinear' solver only works for: LASSO logistic regression and logistic ridge regression."
   ]
  },
  {
   "cell_type": "code",
   "execution_count": 37,
   "metadata": {},
   "outputs": [
    {
     "data": {
      "text/plain": [
       "LogisticRegression(C=0.3333333333333333, max_iter=1000, penalty='l1',\n",
       "                   solver='liblinear')"
      ]
     },
     "execution_count": 37,
     "metadata": {},
     "output_type": "execute_result"
    }
   ],
   "source": [
    "clf1 = LogisticRegression('l1', solver='liblinear', \n",
    "                          max_iter=1000, C=1/3)\n",
    "clf1.fit(X,y)"
   ]
  },
  {
   "cell_type": "markdown",
   "metadata": {},
   "source": [
    "### Ridge Regression (L2 penalty) Logistic Regression\n",
    "\n",
    "Next, let's fit a Logistic Ridge Regression (L2 penalty) model with the following additional function parameters.\n",
    "\n",
    "* **penalty**: By selecting 'l2' for the penalty, we are fitting a logistic ridge regression (L2 penalty) model.\n",
    "* **solver**: We will use the the 'liblinear' solver. The liblinear is a tool that solves linear logistic regression optimization problems.\n",
    "* **max_iter**: This algorithm stops after 1000 iterations or when the algorithm has converged.\n",
    "* **C:** This value is set to be $\\frac{1}{\\lambda}$. Thus if we want our $\\lambda=3$ in this model, we need to set $C=\\frac{1}{\\lambda}=\\frac{1}{3}$.\n",
    "\n",
    "<u>Additional Information</u>: The 'liblinear' solver only works for: LASSO logistic regression and logistic ridge regression."
   ]
  },
  {
   "cell_type": "code",
   "execution_count": 38,
   "metadata": {},
   "outputs": [
    {
     "data": {
      "text/plain": [
       "LogisticRegression(C=0.3333333333333333, max_iter=1000, solver='liblinear')"
      ]
     },
     "execution_count": 38,
     "metadata": {},
     "output_type": "execute_result"
    }
   ],
   "source": [
    "clf2 = LogisticRegression('l2', solver='liblinear', \n",
    "                          max_iter=1000, C=1/3)\n",
    "clf2.fit(X,y)"
   ]
  },
  {
   "cell_type": "markdown",
   "metadata": {},
   "source": [
    "### Elastic Net (L1 and L2 penalty combination) Logistic Regression\n",
    "\n",
    "Next, let's fit an Elastic Net Logistic Regression model (L1 and L2 penalty) with the following additional function parameters.\n",
    "\n",
    "* **penalty**: By selecting 'elasticnet' for the penalty, we are fitting an elastic net (L1 and L2 penalty) model.\n",
    "* **solver**: We will use the the 'saga' solver. aga is a numerical optimization method that only works for specific types of objective functions.\n",
    "* **max_iter**: This algorithm stops after 1000 iterations or when the algorithm has converged.\n",
    "* **C:** This value is set to be $\\frac{1}{\\lambda}$. Thus if we want our $\\lambda=3$ in this model, we need to set $C=\\frac{1}{\\lambda}=\\frac{1}{3}$.\n",
    "* The $\\alpha$ in sklearn is represented as the \"l1_ratio\" parameter in the function. With an $\\alpha=$l1_ratio=0.7, this means that this particular elastic net model will favor solutions that more closely resemble the LASSO model results than the ridge regression model results.\n",
    "\n",
    "<u>Additional Information</u>: The 'saga' solver only works for: elastic net logistic regression."
   ]
  },
  {
   "cell_type": "code",
   "execution_count": 39,
   "metadata": {},
   "outputs": [
    {
     "name": "stderr",
     "output_type": "stream",
     "text": [
      "/Users/jdeeke/miniconda3/lib/python3.8/site-packages/sklearn/linear_model/_sag.py:352: ConvergenceWarning: The max_iter was reached which means the coef_ did not converge\n",
      "  warnings.warn(\n"
     ]
    },
    {
     "data": {
      "text/plain": [
       "LogisticRegression(C=0.3333333333333333, l1_ratio=0.7, max_iter=1000,\n",
       "                   penalty='elasticnet', solver='saga')"
      ]
     },
     "execution_count": 39,
     "metadata": {},
     "output_type": "execute_result"
    }
   ],
   "source": [
    "clf3 = LogisticRegression('elasticnet', solver='saga', \n",
    "                          max_iter=1000, l1_ratio=0.7, C=1/3)\n",
    "clf3.fit(X,y)"
   ]
  },
  {
   "cell_type": "markdown",
   "metadata": {},
   "source": [
    "### Comparing the Regularized Models\n",
    "\n",
    "Now, let's extract and examine the 7 resulting slopes for each of the 4 models we just fitted.\n",
    "\n",
    "For instance, below are the slopes for the elastic net model."
   ]
  },
  {
   "cell_type": "code",
   "execution_count": 40,
   "metadata": {},
   "outputs": [
    {
     "data": {
      "text/plain": [
       "array([[0.01387749, 0.56654351, 1.02608062, 0.09264765, 0.02022681,\n",
       "        2.95051831, 0.        ]])"
      ]
     },
     "execution_count": 40,
     "metadata": {},
     "output_type": "execute_result"
    }
   ],
   "source": [
    "clf3.coef_"
   ]
  },
  {
   "cell_type": "markdown",
   "metadata": {},
   "source": [
    "And below is the intercept for the elastic net model."
   ]
  },
  {
   "cell_type": "code",
   "execution_count": 41,
   "metadata": {},
   "outputs": [
    {
     "data": {
      "text/plain": [
       "array([-2.70622844])"
      ]
     },
     "execution_count": 41,
     "metadata": {},
     "output_type": "execute_result"
    }
   ],
   "source": [
    "clf3.intercept_"
   ]
  },
  {
   "cell_type": "code",
   "execution_count": 42,
   "metadata": {},
   "outputs": [
    {
     "data": {
      "text/html": [
       "<div>\n",
       "<style scoped>\n",
       "    .dataframe tbody tr th:only-of-type {\n",
       "        vertical-align: middle;\n",
       "    }\n",
       "\n",
       "    .dataframe tbody tr th {\n",
       "        vertical-align: top;\n",
       "    }\n",
       "\n",
       "    .dataframe thead th {\n",
       "        text-align: right;\n",
       "    }\n",
       "</style>\n",
       "<table border=\"1\" class=\"dataframe\">\n",
       "  <thead>\n",
       "    <tr style=\"text-align: right;\">\n",
       "      <th></th>\n",
       "      <th>Non_Regularized</th>\n",
       "      <th>LASSO</th>\n",
       "      <th>Ridge_Regression</th>\n",
       "      <th>Elastic_Net</th>\n",
       "    </tr>\n",
       "  </thead>\n",
       "  <tbody>\n",
       "    <tr>\n",
       "      <th>age</th>\n",
       "      <td>0.027556</td>\n",
       "      <td>0.017379</td>\n",
       "      <td>0.010142</td>\n",
       "      <td>0.013877</td>\n",
       "    </tr>\n",
       "    <tr>\n",
       "      <th>sex_Male</th>\n",
       "      <td>0.725143</td>\n",
       "      <td>0.586344</td>\n",
       "      <td>0.548167</td>\n",
       "      <td>0.566544</td>\n",
       "    </tr>\n",
       "    <tr>\n",
       "      <th>party_Independent</th>\n",
       "      <td>2.263233</td>\n",
       "      <td>1.377535</td>\n",
       "      <td>1.030012</td>\n",
       "      <td>1.026081</td>\n",
       "    </tr>\n",
       "    <tr>\n",
       "      <th>party_No preference (VOL.)</th>\n",
       "      <td>2.591162</td>\n",
       "      <td>0.410227</td>\n",
       "      <td>0.647457</td>\n",
       "      <td>0.092648</td>\n",
       "    </tr>\n",
       "    <tr>\n",
       "      <th>party_Other party (VOL.)</th>\n",
       "      <td>4.082109</td>\n",
       "      <td>0.000000</td>\n",
       "      <td>0.634710</td>\n",
       "      <td>0.020227</td>\n",
       "    </tr>\n",
       "    <tr>\n",
       "      <th>party_Republican</th>\n",
       "      <td>4.299565</td>\n",
       "      <td>3.381019</td>\n",
       "      <td>2.881765</td>\n",
       "      <td>2.950518</td>\n",
       "    </tr>\n",
       "    <tr>\n",
       "      <th>sample_Landline</th>\n",
       "      <td>-0.042271</td>\n",
       "      <td>0.000000</td>\n",
       "      <td>0.041545</td>\n",
       "      <td>0.000000</td>\n",
       "    </tr>\n",
       "  </tbody>\n",
       "</table>\n",
       "</div>"
      ],
      "text/plain": [
       "                            Non_Regularized     LASSO  Ridge_Regression  \\\n",
       "age                                0.027556  0.017379          0.010142   \n",
       "sex_Male                           0.725143  0.586344          0.548167   \n",
       "party_Independent                  2.263233  1.377535          1.030012   \n",
       "party_No preference (VOL.)         2.591162  0.410227          0.647457   \n",
       "party_Other party (VOL.)           4.082109  0.000000          0.634710   \n",
       "party_Republican                   4.299565  3.381019          2.881765   \n",
       "sample_Landline                   -0.042271  0.000000          0.041545   \n",
       "\n",
       "                            Elastic_Net  \n",
       "age                            0.013877  \n",
       "sex_Male                       0.566544  \n",
       "party_Independent              1.026081  \n",
       "party_No preference (VOL.)     0.092648  \n",
       "party_Other party (VOL.)       0.020227  \n",
       "party_Republican               2.950518  \n",
       "sample_Landline                0.000000  "
      ]
     },
     "execution_count": 42,
     "metadata": {},
     "output_type": "execute_result"
    }
   ],
   "source": [
    "dfcoef = pd.DataFrame(\n",
    "    np.concatenate((clf0.coef_.T, \n",
    "                    clf1.coef_.T, \n",
    "                    clf2.coef_.T, \n",
    "                    clf3.coef_.T), \n",
    "                   axis=1),\n",
    "        columns=['Non_Regularized', 'LASSO', 'Ridge_Regression', 'Elastic_Net'], index=X.columns)\n",
    "dfcoef"
   ]
  },
  {
   "cell_type": "code",
   "execution_count": 43,
   "metadata": {},
   "outputs": [
    {
     "data": {
      "image/png": "[encoded data removed]",
      "text/plain": [
       "<Figure size 1440x720 with 1 Axes>"
      ]
     },
     "metadata": {
      "needs_background": "light"
     },
     "output_type": "display_data"
    }
   ],
   "source": [
    "plt.figure(figsize=(20,10))\n",
    "for i in range(4):\n",
    "    plt.plot(dfcoef.index, dfcoef[dfcoef.columns[i]])\n",
    "plt.xticks(np.arange(0,7,1))\n",
    "plt.xlabel('Coefficient index')\n",
    "plt.ylabel('Slope Estimate')\n",
    "plt.title('Slope Estimates for all Four Models')\n",
    "plt.legend(['Non_Regularized','LASSO','Ridge_Regression','Elastic_Nets'], bbox_to_anchor=(1,1))\n",
    "plt.hlines(y=0, xmin=0, xmax=6, linestyles='--')\n",
    "plt.show()"
   ]
  },
  {
   "cell_type": "code",
   "execution_count": 44,
   "metadata": {},
   "outputs": [
    {
     "data": {
      "text/plain": [
       "Index(['age', 'sex_Male', 'party_Independent', 'party_No preference (VOL.)',\n",
       "       'party_Other party (VOL.)', 'party_Republican', 'sample_Landline'],\n",
       "      dtype='object')"
      ]
     },
     "execution_count": 44,
     "metadata": {},
     "output_type": "execute_result"
    }
   ],
   "source": [
    "X.columns"
   ]
  },
  {
   "cell_type": "markdown",
   "metadata": {},
   "source": [
    "**<u>General  Model Interpretation</u>:**\n",
    "\n",
    "* In general, the slopes in the **non-regularized logistic regression model** were higher than the slopes for the other three models. This is what we would expect as the other three models have a penalty for having slopes that are high.\n",
    "* The **LASSO** model has the most amount of slopes that are set to be *exactly* zero. This is what we would expect from the LASSO model, as this model favors more slopes that are set to be *exactly* 0.\n",
    "* The **elastic net** model has a slope that is exactly 0 and one that is very close to being 0. This is somewhat what we would expect as we set the $\\alpha$ to be closer to 1, so we would expect *this* particular elastic net's slopes to resemble the type of results that we would get with a LASSO model, which tends to have more slopes set exactly equal to 0.\n",
    "* The **ridge regression model** has no slopes that are set to be exactly 0, but has much smaller slopes than the non-regularized model. This is what we expect from a ridge regression model, that does not favor slopes that are set to be exactly equal to 0.\n",
    "\n",
    "**<u>Individual Slope Interpretation</u>:**\n",
    "\n",
    "* The **age** and **sex:Male** slopes do not change dramatically in all four models. This gives us no indication that this model should be deleted in a reduced model.\n",
    "* The **sample_Landline** slope is set to be exactly 0 in the **LASSO** model and the **elastic net model**. This is a large change from the slope that we see in the **non-regularized model**. So this gives us an indication that we should not include the **sample** slope in the reduced model**\n",
    "* Finally, the **party_Other party (VOL.)** slope is set to be exactly 0 in the **LASSO** model and is very close to 0 in the **elastic net model**. This is a large change from the slope that we see in the **non-regularized model**. However, we don't see much change in the other party variables. Because we cannot delete an indicator variable without the other corresponding indicator variables (for a given explanatory variable), we will leave the party slope in the reduced model.\n",
    "\n",
    "### Putting this all together\n",
    "\n",
    "Our analysis from using regularized regression models gave us some indications as to what reduced models we should test. \n",
    "\n",
    "**Full Model**\n",
    "We can go back to using the **smf.logit()** function to learn more about the full logistic regression model (that uses all four explanatory variables we were considering). Unlike the **LogisticRegression()** function, the **smf.logit()** function will give us more information about the model including:\n",
    "* BIC/AIC\n",
    "* p-values for conducting inference on the slopes\n",
    "* the optimal log-likelihood function value of the model."
   ]
  },
  {
   "cell_type": "code",
   "execution_count": 45,
   "metadata": {},
   "outputs": [
    {
     "name": "stdout",
     "output_type": "stream",
     "text": [
      "Optimization terminated successfully.\n",
      "         Current function value: 0.419629\n",
      "         Iterations 7\n"
     ]
    },
    {
     "data": {
      "text/html": [
       "<table class=\"simpletable\">\n",
       "<caption>Logit Regression Results</caption>\n",
       "<tr>\n",
       "  <th>Dep. Variable:</th>           <td>y</td>        <th>  No. Observations:  </th>  <td>   679</td>  \n",
       "</tr>\n",
       "<tr>\n",
       "  <th>Model:</th>                 <td>Logit</td>      <th>  Df Residuals:      </th>  <td>   671</td>  \n",
       "</tr>\n",
       "<tr>\n",
       "  <th>Method:</th>                 <td>MLE</td>       <th>  Df Model:          </th>  <td>     7</td>  \n",
       "</tr>\n",
       "<tr>\n",
       "  <th>Date:</th>            <td>Wed, 19 Apr 2023</td> <th>  Pseudo R-squ.:     </th>  <td>0.3615</td>  \n",
       "</tr>\n",
       "<tr>\n",
       "  <th>Time:</th>                <td>00:22:42</td>     <th>  Log-Likelihood:    </th> <td> -284.93</td> \n",
       "</tr>\n",
       "<tr>\n",
       "  <th>converged:</th>             <td>True</td>       <th>  LL-Null:           </th> <td> -446.23</td> \n",
       "</tr>\n",
       "<tr>\n",
       "  <th>Covariance Type:</th>     <td>nonrobust</td>    <th>  LLR p-value:       </th> <td>8.965e-66</td>\n",
       "</tr>\n",
       "</table>\n",
       "<table class=\"simpletable\">\n",
       "<tr>\n",
       "                <td></td>                   <th>coef</th>     <th>std err</th>      <th>z</th>      <th>P>|z|</th>  <th>[0.025</th>    <th>0.975]</th>  \n",
       "</tr>\n",
       "<tr>\n",
       "  <th>Intercept</th>                     <td>   -4.5713</td> <td>    0.468</td> <td>   -9.771</td> <td> 0.000</td> <td>   -5.488</td> <td>   -3.654</td>\n",
       "</tr>\n",
       "<tr>\n",
       "  <th>sex[T.Male]</th>                   <td>    0.7251</td> <td>    0.218</td> <td>    3.329</td> <td> 0.001</td> <td>    0.298</td> <td>    1.152</td>\n",
       "</tr>\n",
       "<tr>\n",
       "  <th>party[T.Independent]</th>          <td>    2.2632</td> <td>    0.313</td> <td>    7.234</td> <td> 0.000</td> <td>    1.650</td> <td>    2.876</td>\n",
       "</tr>\n",
       "<tr>\n",
       "  <th>party[T.No preference (VOL.)]</th> <td>    2.5912</td> <td>    0.680</td> <td>    3.813</td> <td> 0.000</td> <td>    1.259</td> <td>    3.923</td>\n",
       "</tr>\n",
       "<tr>\n",
       "  <th>party[T.Other party (VOL.)]</th>   <td>    4.0821</td> <td>    1.212</td> <td>    3.367</td> <td> 0.001</td> <td>    1.706</td> <td>    6.458</td>\n",
       "</tr>\n",
       "<tr>\n",
       "  <th>party[T.Republican]</th>           <td>    4.2996</td> <td>    0.341</td> <td>   12.592</td> <td> 0.000</td> <td>    3.630</td> <td>    4.969</td>\n",
       "</tr>\n",
       "<tr>\n",
       "  <th>sample[T.Landline]</th>            <td>   -0.0423</td> <td>    0.257</td> <td>   -0.164</td> <td> 0.870</td> <td>   -0.547</td> <td>    0.462</td>\n",
       "</tr>\n",
       "<tr>\n",
       "  <th>age</th>                           <td>    0.0276</td> <td>    0.007</td> <td>    4.207</td> <td> 0.000</td> <td>    0.015</td> <td>    0.040</td>\n",
       "</tr>\n",
       "</table>"
      ],
      "text/plain": [
       "<class 'statsmodels.iolib.summary.Summary'>\n",
       "\"\"\"\n",
       "                           Logit Regression Results                           \n",
       "==============================================================================\n",
       "Dep. Variable:                      y   No. Observations:                  679\n",
       "Model:                          Logit   Df Residuals:                      671\n",
       "Method:                           MLE   Df Model:                            7\n",
       "Date:                Wed, 19 Apr 2023   Pseudo R-squ.:                  0.3615\n",
       "Time:                        00:22:42   Log-Likelihood:                -284.93\n",
       "converged:                       True   LL-Null:                       -446.23\n",
       "Covariance Type:            nonrobust   LLR p-value:                 8.965e-66\n",
       "=================================================================================================\n",
       "                                    coef    std err          z      P>|z|      [0.025      0.975]\n",
       "-------------------------------------------------------------------------------------------------\n",
       "Intercept                        -4.5713      0.468     -9.771      0.000      -5.488      -3.654\n",
       "sex[T.Male]                       0.7251      0.218      3.329      0.001       0.298       1.152\n",
       "party[T.Independent]              2.2632      0.313      7.234      0.000       1.650       2.876\n",
       "party[T.No preference (VOL.)]     2.5912      0.680      3.813      0.000       1.259       3.923\n",
       "party[T.Other party (VOL.)]       4.0821      1.212      3.367      0.001       1.706       6.458\n",
       "party[T.Republican]               4.2996      0.341     12.592      0.000       3.630       4.969\n",
       "sample[T.Landline]               -0.0423      0.257     -0.164      0.870      -0.547       0.462\n",
       "age                               0.0276      0.007      4.207      0.000       0.015       0.040\n",
       "=================================================================================================\n",
       "\"\"\""
      ]
     },
     "execution_count": 45,
     "metadata": {},
     "output_type": "execute_result"
    }
   ],
   "source": [
    "full_mod=smf.logit('y~age+sex+party+sample', data=dfclean).fit()\n",
    "full_mod.summary()"
   ]
  },
  {
   "cell_type": "code",
   "execution_count": 46,
   "metadata": {},
   "outputs": [
    {
     "name": "stdout",
     "output_type": "stream",
     "text": [
      "Full Model AIC: 585.8566880960334\n",
      "Full Model BIC: 622.021657116503\n"
     ]
    }
   ],
   "source": [
    "print('Full Model AIC:',full_mod.aic)\n",
    "print('Full Model BIC:',full_mod.bic)"
   ]
  },
  {
   "cell_type": "markdown",
   "metadata": {},
   "source": [
    "**Reduced Model**\n",
    "Our regularized models indicated that the **sample** explanatory variable might be a useful variable to leave out of the reduced model for testing. We fit this model below, (now just using a non-regularized logistic regression model), and find the AIC and BIC of this reduced model."
   ]
  },
  {
   "cell_type": "code",
   "execution_count": 47,
   "metadata": {},
   "outputs": [
    {
     "name": "stdout",
     "output_type": "stream",
     "text": [
      "Optimization terminated successfully.\n",
      "         Current function value: 0.419649\n",
      "         Iterations 7\n"
     ]
    },
    {
     "data": {
      "text/html": [
       "<table class=\"simpletable\">\n",
       "<caption>Logit Regression Results</caption>\n",
       "<tr>\n",
       "  <th>Dep. Variable:</th>           <td>y</td>        <th>  No. Observations:  </th>  <td>   679</td>  \n",
       "</tr>\n",
       "<tr>\n",
       "  <th>Model:</th>                 <td>Logit</td>      <th>  Df Residuals:      </th>  <td>   672</td>  \n",
       "</tr>\n",
       "<tr>\n",
       "  <th>Method:</th>                 <td>MLE</td>       <th>  Df Model:          </th>  <td>     6</td>  \n",
       "</tr>\n",
       "<tr>\n",
       "  <th>Date:</th>            <td>Wed, 19 Apr 2023</td> <th>  Pseudo R-squ.:     </th>  <td>0.3614</td>  \n",
       "</tr>\n",
       "<tr>\n",
       "  <th>Time:</th>                <td>00:22:42</td>     <th>  Log-Likelihood:    </th> <td> -284.94</td> \n",
       "</tr>\n",
       "<tr>\n",
       "  <th>converged:</th>             <td>True</td>       <th>  LL-Null:           </th> <td> -446.23</td> \n",
       "</tr>\n",
       "<tr>\n",
       "  <th>Covariance Type:</th>     <td>nonrobust</td>    <th>  LLR p-value:       </th> <td>1.185e-66</td>\n",
       "</tr>\n",
       "</table>\n",
       "<table class=\"simpletable\">\n",
       "<tr>\n",
       "                <td></td>                   <th>coef</th>     <th>std err</th>      <th>z</th>      <th>P>|z|</th>  <th>[0.025</th>    <th>0.975]</th>  \n",
       "</tr>\n",
       "<tr>\n",
       "  <th>Intercept</th>                     <td>   -4.5635</td> <td>    0.465</td> <td>   -9.807</td> <td> 0.000</td> <td>   -5.475</td> <td>   -3.651</td>\n",
       "</tr>\n",
       "<tr>\n",
       "  <th>sex[T.Male]</th>                   <td>    0.7288</td> <td>    0.217</td> <td>    3.363</td> <td> 0.001</td> <td>    0.304</td> <td>    1.154</td>\n",
       "</tr>\n",
       "<tr>\n",
       "  <th>party[T.Independent]</th>          <td>    2.2604</td> <td>    0.312</td> <td>    7.236</td> <td> 0.000</td> <td>    1.648</td> <td>    2.873</td>\n",
       "</tr>\n",
       "<tr>\n",
       "  <th>party[T.No preference (VOL.)]</th> <td>    2.5881</td> <td>    0.680</td> <td>    3.808</td> <td> 0.000</td> <td>    1.256</td> <td>    3.920</td>\n",
       "</tr>\n",
       "<tr>\n",
       "  <th>party[T.Other party (VOL.)]</th>   <td>    4.0865</td> <td>    1.212</td> <td>    3.372</td> <td> 0.001</td> <td>    1.711</td> <td>    6.462</td>\n",
       "</tr>\n",
       "<tr>\n",
       "  <th>party[T.Republican]</th>           <td>    4.2985</td> <td>    0.341</td> <td>   12.592</td> <td> 0.000</td> <td>    3.629</td> <td>    4.968</td>\n",
       "</tr>\n",
       "<tr>\n",
       "  <th>age</th>                           <td>    0.0272</td> <td>    0.006</td> <td>    4.443</td> <td> 0.000</td> <td>    0.015</td> <td>    0.039</td>\n",
       "</tr>\n",
       "</table>"
      ],
      "text/plain": [
       "<class 'statsmodels.iolib.summary.Summary'>\n",
       "\"\"\"\n",
       "                           Logit Regression Results                           \n",
       "==============================================================================\n",
       "Dep. Variable:                      y   No. Observations:                  679\n",
       "Model:                          Logit   Df Residuals:                      672\n",
       "Method:                           MLE   Df Model:                            6\n",
       "Date:                Wed, 19 Apr 2023   Pseudo R-squ.:                  0.3614\n",
       "Time:                        00:22:42   Log-Likelihood:                -284.94\n",
       "converged:                       True   LL-Null:                       -446.23\n",
       "Covariance Type:            nonrobust   LLR p-value:                 1.185e-66\n",
       "=================================================================================================\n",
       "                                    coef    std err          z      P>|z|      [0.025      0.975]\n",
       "-------------------------------------------------------------------------------------------------\n",
       "Intercept                        -4.5635      0.465     -9.807      0.000      -5.475      -3.651\n",
       "sex[T.Male]                       0.7288      0.217      3.363      0.001       0.304       1.154\n",
       "party[T.Independent]              2.2604      0.312      7.236      0.000       1.648       2.873\n",
       "party[T.No preference (VOL.)]     2.5881      0.680      3.808      0.000       1.256       3.920\n",
       "party[T.Other party (VOL.)]       4.0865      1.212      3.372      0.001       1.711       6.462\n",
       "party[T.Republican]               4.2985      0.341     12.592      0.000       3.629       4.968\n",
       "age                               0.0272      0.006      4.443      0.000       0.015       0.039\n",
       "=================================================================================================\n",
       "\"\"\""
      ]
     },
     "execution_count": 47,
     "metadata": {},
     "output_type": "execute_result"
    }
   ],
   "source": [
    "red_mod=smf.logit('y~age+sex+party', data=dfclean).fit()\n",
    "red_mod.summary()"
   ]
  },
  {
   "cell_type": "code",
   "execution_count": 48,
   "metadata": {},
   "outputs": [
    {
     "name": "stdout",
     "output_type": "stream",
     "text": [
      "Reduced Model AIC: 583.8836861748118\n",
      "Reduced Model BIC: 615.5280340677227\n"
     ]
    }
   ],
   "source": [
    "print('Reduced Model AIC:',red_mod.aic)\n",
    "print('Reduced Model BIC:',red_mod.bic)"
   ]
  },
  {
   "cell_type": "markdown",
   "metadata": {},
   "source": [
    "We can see that the reduced model had a lower AIC and BIC score than the full model does. Therefore, the regularized regression models gave us some useful insights as to which explanatory variables to leave out of our reduced model(s).\n",
    "\n",
    "We then compared this reduced model to our full model to verify that this reduced model (without the sample explanatory variable) was more parsimonious than the full model.\n",
    "\n",
    "We might use this insight to make the reduced model, our final model."
   ]
  },
  {
   "cell_type": "markdown",
   "metadata": {},
   "source": [
    "---\n",
    "STAT 207, Julie Deeke, Victoria Ellison and Douglas Simpson, University of Illinois at Urbana-Champaign"
   ]
  }
 ],
 "metadata": {
  "kernelspec": {
   "display_name": "Python 3 (ipykernel)",
   "language": "python",
   "name": "python3"
  },
  "language_info": {
   "codemirror_mode": {
    "name": "ipython",
    "version": 3
   },
   "file_extension": ".py",
   "mimetype": "text/x-python",
   "name": "python",
   "nbconvert_exporter": "python",
   "pygments_lexer": "ipython3",
   "version": "3.8.11"
  }
 },
 "nbformat": 4,
 "nbformat_minor": 2
}
