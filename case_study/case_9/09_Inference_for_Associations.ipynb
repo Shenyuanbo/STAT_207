{
 "cells": [
  {
   "cell_type": "markdown",
   "metadata": {},
   "source": [
    "<!--# STAT 207: Data Science Exploration-->\n",
    "\n",
    "# <u>Case Study 9 Notebook</u>: Inference for $\\mu_1-\\mu_2$ and $p_1-p_2$\n",
    "\n",
    "This Case Study contains analyses to answer the following two questions:\n",
    "\n",
    "- Lead Poisoning and Childhood IQ Analysis: Is there an association between childhood lead exposure and IQ?\n",
    "- Political Affiliation and Approval of the Direction the Country is Going in Analysis: Is there an association between political party and approval for the direction the country is going in (in 2017)?"
   ]
  },
  {
   "cell_type": "code",
   "execution_count": 1,
   "metadata": {},
   "outputs": [],
   "source": [
    "import pandas as pd\n",
    "import numpy as np\n",
    "import matplotlib.pyplot as plt"
   ]
  },
  {
   "cell_type": "markdown",
   "metadata": {},
   "source": [
    "## Review of the t distribution\n",
    "\n",
    "Let's begin by exploring features of the t-distribution that we introduced in Case Studies 7 & 8.\n",
    "\n",
    "Calculate the probability that a t-score (that is an observation from the t-distribution with 20 degrees of freedom) is greater than 1.96. \n",
    "\n",
    "$P(T_{20}>1.96) = 0.032$"
   ]
  },
  {
   "cell_type": "code",
   "execution_count": 2,
   "metadata": {},
   "outputs": [
    {
     "data": {
      "text/plain": [
       "0.03203912650178853"
      ]
     },
     "execution_count": 2,
     "metadata": {},
     "output_type": "execute_result"
    }
   ],
   "source": [
    "from scipy.stats import t\n",
    "\n",
    "1-t.cdf(1.96, df=20)"
   ]
  },
  {
   "cell_type": "markdown",
   "metadata": {},
   "source": [
    "Calculate the t-score that creates a right tail area of 0.025 under the t-distribution with 20 degrees of freedom.\n",
    "\n",
    "What is the value of $t$ in which $P(T_{20}>t)=0.025$?\n",
    "\n",
    "Answer: $t=2.086$."
   ]
  },
  {
   "cell_type": "code",
   "execution_count": 3,
   "metadata": {},
   "outputs": [
    {
     "data": {
      "text/plain": [
       "2.085963447265837"
      ]
     },
     "execution_count": 3,
     "metadata": {},
     "output_type": "execute_result"
    }
   ],
   "source": [
    "t.ppf(0.975, df=20)"
   ]
  },
  {
   "cell_type": "markdown",
   "metadata": {},
   "source": [
    "Suppose we know that the average GPA of ALL UIUC students is 3.3. We then randomly select 20 UIUC students and find that they have a sample mean GPA of 3.5 and a standard deviation of 0.3. Suppose that the distribution of all UIUC student GPAs is approximately normal. Calculate the probability (the most accurate one) of randomly selecting a sample mean that is greater than or equal to the sample mean that we collected.\n",
    "\n",
    "<u>Givens</u>:\n",
    "* $\\mu=3.3$\n",
    "* $n=20$\n",
    "* $\\bar{x}=3.5$\n",
    "* $s=0.3$\n",
    "* $X\\sim N(mean=\\mu=3.3, std=\\sigma=?)$\n",
    "\n",
    "\n",
    "<u>Shape of the Sampling Distribution</u>:\n",
    "We know that the sampling distrbution (of sample means) is normal\n",
    "\n",
    "$\\bar{X}\\sim N(mean=\\mu=3.3, std=\\frac{\\sigma}{\\sqrt{n}}=?)$ because the Central Limit Theorem conditions (for sample means) below hold:\n",
    "1. the sample is randomly collected\n",
    "2. $n=20<10$% of all UIUC population\n",
    "3. <s>n=20>30</s> OR the population distribution is normal (assumption can be assessed with the sample distribution, if needed).\n",
    "\n",
    "<u>Finding the Probability</u>:\n",
    "\n",
    "Because $\\bar{X}$ is normal, then the following holds:\n",
    "\n",
    "$P(\\bar{X}\\geq 3.5)\\approx P(T_{n-1}\\geq \\frac{3.5-\\mu}{\\frac{s}{\\sqrt{n}}})=P(T_{19}\\geq \\frac{3.5-3.3}{\\frac{0.3}{\\sqrt{20}}})=P(T_{19}\\geq 2.98)=0.0038$"
   ]
  },
  {
   "cell_type": "code",
   "execution_count": 4,
   "metadata": {},
   "outputs": [
    {
     "data": {
      "text/plain": [
       "2.9814239699997227"
      ]
     },
     "execution_count": 4,
     "metadata": {},
     "output_type": "execute_result"
    }
   ],
   "source": [
    "tscore=(3.5-3.3)/(0.3/np.sqrt(20))\n",
    "tscore"
   ]
  },
  {
   "cell_type": "code",
   "execution_count": 5,
   "metadata": {},
   "outputs": [
    {
     "data": {
      "text/plain": [
       "0.003847401121239824"
      ]
     },
     "execution_count": 5,
     "metadata": {},
     "output_type": "execute_result"
    }
   ],
   "source": [
    "1-t.cdf(2.98, df=19)"
   ]
  },
  {
   "cell_type": "markdown",
   "metadata": {},
   "source": [
    "<hr>\n",
    "\n",
    "## Frequentist Confidence Intervals for a Difference of Population Means (μ_1-μ_2)"
   ]
  },
  {
   "cell_type": "markdown",
   "metadata": {},
   "source": [
    "**<u>Case Study</u> Lead Poisoning and Childhood IQ Analysis: Is there an association between childhood lead exposure and IQ *in all children*?**\n",
    "\n",
    "To assess this question, we will answer: What is a plausible range of values for $\\mu_{lo}-\\mu_{hi}$,  the difference in the average IQ score of children with low level lead exposure and the average IQ score of children with high level lead exposure?\n",
    "\n",
    "### Preparing the Data and Summary Analyses"
   ]
  },
  {
   "cell_type": "code",
   "execution_count": 6,
   "metadata": {
    "scrolled": true
   },
   "outputs": [],
   "source": [
    "df = pd.read_csv('lead.csv')[['group', 'fulliq']]"
   ]
  },
  {
   "cell_type": "code",
   "execution_count": 7,
   "metadata": {},
   "outputs": [
    {
     "data": {
      "text/html": [
       "<div>\n",
       "<style scoped>\n",
       "    .dataframe tbody tr th:only-of-type {\n",
       "        vertical-align: middle;\n",
       "    }\n",
       "\n",
       "    .dataframe tbody tr th {\n",
       "        vertical-align: top;\n",
       "    }\n",
       "\n",
       "    .dataframe thead th {\n",
       "        text-align: right;\n",
       "    }\n",
       "</style>\n",
       "<table border=\"1\" class=\"dataframe\">\n",
       "  <thead>\n",
       "    <tr style=\"text-align: right;\">\n",
       "      <th></th>\n",
       "      <th>group</th>\n",
       "      <th>fulliq</th>\n",
       "    </tr>\n",
       "  </thead>\n",
       "  <tbody>\n",
       "    <tr>\n",
       "      <th>0</th>\n",
       "      <td>lead &lt; 40</td>\n",
       "      <td>70</td>\n",
       "    </tr>\n",
       "    <tr>\n",
       "      <th>1</th>\n",
       "      <td>lead &lt; 40</td>\n",
       "      <td>85</td>\n",
       "    </tr>\n",
       "    <tr>\n",
       "      <th>2</th>\n",
       "      <td>lead &lt; 40</td>\n",
       "      <td>86</td>\n",
       "    </tr>\n",
       "    <tr>\n",
       "      <th>3</th>\n",
       "      <td>lead &lt; 40</td>\n",
       "      <td>76</td>\n",
       "    </tr>\n",
       "    <tr>\n",
       "      <th>4</th>\n",
       "      <td>lead &lt; 40</td>\n",
       "      <td>84</td>\n",
       "    </tr>\n",
       "  </tbody>\n",
       "</table>\n",
       "</div>"
      ],
      "text/plain": [
       "       group  fulliq\n",
       "0  lead < 40      70\n",
       "1  lead < 40      85\n",
       "2  lead < 40      86\n",
       "3  lead < 40      76\n",
       "4  lead < 40      84"
      ]
     },
     "execution_count": 7,
     "metadata": {},
     "output_type": "execute_result"
    }
   ],
   "source": [
    "df.head()"
   ]
  },
  {
   "cell_type": "markdown",
   "metadata": {},
   "source": [
    "Next, let's create two subsets of this dataframe to create our two separate low and high exposure level samples."
   ]
  },
  {
   "cell_type": "code",
   "execution_count": 8,
   "metadata": {},
   "outputs": [],
   "source": [
    "# Extract the two subgroups from the data\n",
    "low = df['fulliq'][df['group']=='lead < 40']\n",
    "high = df['fulliq'][df['group']=='lead >= 40']"
   ]
  },
  {
   "cell_type": "code",
   "execution_count": 9,
   "metadata": {},
   "outputs": [
    {
     "data": {
      "text/plain": [
       "0    70\n",
       "1    85\n",
       "2    86\n",
       "3    76\n",
       "4    84\n",
       "Name: fulliq, dtype: int64"
      ]
     },
     "execution_count": 9,
     "metadata": {},
     "output_type": "execute_result"
    }
   ],
   "source": [
    "low.head()"
   ]
  },
  {
   "cell_type": "code",
   "execution_count": 10,
   "metadata": {},
   "outputs": [
    {
     "data": {
      "text/plain": [
       "63    82\n",
       "64    93\n",
       "65    85\n",
       "66    75\n",
       "67    85\n",
       "Name: fulliq, dtype: int64"
      ]
     },
     "execution_count": 10,
     "metadata": {},
     "output_type": "execute_result"
    }
   ],
   "source": [
    "high.head()"
   ]
  },
  {
   "cell_type": "markdown",
   "metadata": {},
   "source": [
    "Next, we can collect the sample means, sample standard deviations, and sample sizes."
   ]
  },
  {
   "cell_type": "code",
   "execution_count": 11,
   "metadata": {},
   "outputs": [
    {
     "name": "stdout",
     "output_type": "stream",
     "text": [
      "Sample Size of Low Exposure Children: 78\n",
      "Sample Mean of Low Exposure Children: 92.88461538461539\n",
      "Sample Standard Deviation of Low Exposure Children: 15.344511916449022\n"
     ]
    }
   ],
   "source": [
    "n_lo=len(low)\n",
    "mean_lo=low.mean()\n",
    "std_lo=low.std()\n",
    "\n",
    "print('Sample Size of Low Exposure Children:', n_lo)\n",
    "print('Sample Mean of Low Exposure Children:', mean_lo)\n",
    "print('Sample Standard Deviation of Low Exposure Children:', std_lo)"
   ]
  },
  {
   "cell_type": "code",
   "execution_count": 12,
   "metadata": {},
   "outputs": [
    {
     "name": "stdout",
     "output_type": "stream",
     "text": [
      "Sample Size of High Exposure Children: 46\n",
      "Sample Mean of High Exposure Children: 88.02173913043478\n",
      "Sample Standard Deviation of High Exposure Children: 12.206535827507023\n"
     ]
    }
   ],
   "source": [
    "n_hi=len(high)\n",
    "mean_hi=high.mean()\n",
    "std_hi=high.std()\n",
    "\n",
    "print('Sample Size of High Exposure Children:', n_hi)\n",
    "print('Sample Mean of High Exposure Children:', mean_hi)\n",
    "print('Sample Standard Deviation of High Exposure Children:', std_hi)"
   ]
  },
  {
   "cell_type": "code",
   "execution_count": 13,
   "metadata": {},
   "outputs": [
    {
     "data": {
      "image/png": "[encoded data removed]",
      "text/plain": [
       "<Figure size 432x288 with 1 Axes>"
      ]
     },
     "metadata": {
      "needs_background": "light"
     },
     "output_type": "display_data"
    }
   ],
   "source": [
    "high.hist(color='orange')\n",
    "plt.title('High Exposure Sample')\n",
    "plt.xlabel('IQ score')\n",
    "plt.ylabel('Relative Frequency')\n",
    "plt.show()"
   ]
  },
  {
   "cell_type": "markdown",
   "metadata": {},
   "source": [
    "This sample distribution is not normal (not unimodal and symmetric)."
   ]
  },
  {
   "cell_type": "code",
   "execution_count": 14,
   "metadata": {},
   "outputs": [
    {
     "data": {
      "image/png": "[encoded data removed]",
      "text/plain": [
       "<Figure size 432x288 with 1 Axes>"
      ]
     },
     "metadata": {
      "needs_background": "light"
     },
     "output_type": "display_data"
    }
   ],
   "source": [
    "low.hist(color='orange')\n",
    "plt.title('Low Exposure Sample')\n",
    "plt.xlabel('IQ score')\n",
    "plt.ylabel('Relative Frequency')\n",
    "plt.show()"
   ]
  },
  {
   "cell_type": "markdown",
   "metadata": {},
   "source": [
    "This sample distribution is also not normal (not unimodal and symmetric)."
   ]
  },
  {
   "cell_type": "markdown",
   "metadata": {},
   "source": [
    "### Assumptions\n",
    "\n",
    "Next, let's check the Central Limit Theorem conditions (for differences of sample means) to see if we can make valid interpretations and inferences with our confidence interval\n",
    "\n",
    "1. Sample with low lead exposures children is randomly sampled.\n",
    "2. $n_{lo}=78<10$% of all children who have had low levels of lead exposure.\n",
    "3. Sample with high lead exposures children is randomly sampled.\n",
    "4. $n_{hi}=46<10$% of all children who have had high levels of lead exposure.\n",
    "5. $n_{hi}=78>30$ OR <s>the population (or sample) distribution of low lead level exposure children IQ scores is approximately normal.</s>\n",
    "5. $n_{lo}=46>30$ OR <s>the population (or sample) distribution of high lead level exposure children IQ scores is approximately normal.</s>\n",
    "6. We can assume that there is no pairwise relationship between the children in both groups in this sample.\n",
    "\n",
    "All of the conditions are met, so we can proceed with creating a confidence interval."
   ]
  },
  {
   "cell_type": "markdown",
   "metadata": {},
   "source": [
    "### 95% Confidence Interval Calculation for $\\mu_{lo}-\\mu_{hi}$\n",
    "\n",
    "We don't know $\\sigma_{lo}$ and $\\sigma_{hi}$, so we will use the the **t-distribution** to create our critical value in this case.\n",
    "\n",
    "Specifically we will use a t-score from the t-distribution with $df=min\\{n_{lo}-1,n_{hi}-1\\} =min\\{78-1,46-1\\}=45$.\n",
    "\n",
    "We want this to be the positive t-score $t^*_{45}$ in this distribution that creates an area of 0.95 between $-t^*_{45}$ and $t^*_{45}$.\n",
    "\n",
    "This will provide a conservative confidence interval."
   ]
  },
  {
   "cell_type": "code",
   "execution_count": 15,
   "metadata": {},
   "outputs": [
    {
     "name": "stdout",
     "output_type": "stream",
     "text": [
      "Critical Value:  2.0141033848332923\n"
     ]
    }
   ],
   "source": [
    "critical_value=t.ppf(0.975, df=45)\n",
    "print('Critical Value: ',critical_value)"
   ]
  },
  {
   "cell_type": "code",
   "execution_count": 16,
   "metadata": {},
   "outputs": [
    {
     "name": "stdout",
     "output_type": "stream",
     "text": [
      "Point Estimate:  4.862876254180605\n"
     ]
    }
   ],
   "source": [
    "point_estimate=mean_lo-mean_hi\n",
    "print('Point Estimate: ', point_estimate)"
   ]
  },
  {
   "cell_type": "code",
   "execution_count": 17,
   "metadata": {},
   "outputs": [
    {
     "name": "stdout",
     "output_type": "stream",
     "text": [
      "Standard Error:  2.501551827882583\n"
     ]
    }
   ],
   "source": [
    "standard_error=np.sqrt((std_lo**2)/n_lo + (std_hi**2)/n_hi)\n",
    "print('Standard Error: ', standard_error)"
   ]
  },
  {
   "cell_type": "code",
   "execution_count": 18,
   "metadata": {},
   "outputs": [
    {
     "name": "stdout",
     "output_type": "stream",
     "text": [
      "95% Confidence Interval: -0.17550774969361438 9.901260258054826\n"
     ]
    }
   ],
   "source": [
    "lower_bound=point_estimate-critical_value*standard_error\n",
    "upper_bound=point_estimate+critical_value*standard_error\n",
    "\n",
    "print('95% Confidence Interval:', lower_bound,upper_bound)"
   ]
  },
  {
   "cell_type": "markdown",
   "metadata": {},
   "source": [
    "### Confidence Interval Interpretation\n",
    "\n",
    "We are 95% confident that the population mean IQ for all children with low level lead exposure and the population mean IQ for all children with high level lead exposure ($\\mu_{lo}-\\mu_{hi}$) is contained by -0.1755 and 9.901.\n",
    "\n",
    "In other words, we are 95% confident that the population mean IQ for all children with low level lead exposure is between -0.1755 and 9.901 higher than the population mean IQ for all children with high level lead exposure."
   ]
  },
  {
   "cell_type": "markdown",
   "metadata": {},
   "source": [
    "## Conducting Hypothesis Testing about $\\mu_1-\\mu_2\\neq 0$"
   ]
  },
  {
   "cell_type": "markdown",
   "metadata": {},
   "source": [
    "We would now like to test that claim that **there is an association between lead exposure and childhood IQ score**, which can be represented as the claim $\\mu_{lo}-\\mu_{hi}\\neq 0$.\n",
    "\n",
    "### Hypotheses\n",
    "\n",
    "To test this claim we can first formulate our null and alternative hypotheses.\n",
    "\n",
    "$H_0: \\mu_{lo}-\\mu_{hi}= 0$\n",
    "\n",
    "$H_A: \\mu_{lo}-\\mu_{hi}\\neq 0$"
   ]
  },
  {
   "cell_type": "markdown",
   "metadata": {},
   "source": [
    "### Assumptions\n",
    "\n",
    "We can check the same assumptions for the CLT for each of our two sampling distributions.  These are the same assumptions used for the confidence interval above.\n",
    "\n",
    "1. Sample with low lead exposures children is randomly sampled.\n",
    "2. $n_{lo}=78<10$% of all children who have had low levels of lead exposure.\n",
    "3. Sample with high lead exposures children is randomly sampled.\n",
    "4. $n_{hi}=46<10$% of all children who have had high levels of lead exposure.\n",
    "5. $n_{hi}=78>30$ OR <s>the population (or sample) distribution of low lead level exposure children IQ scores is approximately normal.</s>\n",
    "5. $n_{lo}=46>30$ OR <s>the population (or sample) distribution of high lead level exposure children IQ scores is approximately normal.</s>\n",
    "6. We can assume that there is no pairwise relationship between the children in both groups in this sample.\n",
    "\n",
    "\n",
    "All of the conditions are met, so we can proceed with conducting this hypothesis test."
   ]
  },
  {
   "cell_type": "markdown",
   "metadata": {},
   "source": [
    "### Calculate the *p*-value\n",
    "\n",
    "We don't know $\\sigma_{lo}$ and $\\sigma_{hi}$, so we will calculate the t-score of our point estimate ($\\bar{x}_{lo}-\\bar{x}_{hi}$) and use the **t-distribution**  $df=min\\{n_{lo}-1,n_{hi}-1\\} =min\\{78-1,46-1\\}=45$ to calculate our p-value probability.\n",
    "\n",
    "\n",
    "$p-value=2P(T_{45}\\geq |\\frac{(\\bar{x}_{lo}-\\bar{x}_{hi}) - (\\mu_{lo} - \\mu_{hi})}{    \\sqrt{\\frac{s^2_{lo}}{n_{lo}}  +\\frac{s^2_{hi}}{n_{hi}} }           } |)=2P(T_{45}\\geq |\\frac{(\\bar{x}_{lo}-\\bar{x}_{hi}) - (0)}{    \\sqrt{\\frac{s^2_{lo}}{n_{lo}}  +\\frac{s^2_{hi}}{n_{hi}} }           } |)   =2P(T_{45}\\geq |\\frac{(92.88-88.02) - (0)}{    \\sqrt{\\frac{15.34^2}{78}  +\\frac{12.21^2}{46} }           } |) =2P(T_{45}\\geq 1.944)$"
   ]
  },
  {
   "cell_type": "code",
   "execution_count": 19,
   "metadata": {},
   "outputs": [
    {
     "name": "stdout",
     "output_type": "stream",
     "text": [
      "Test statistic (ie. t-score of the point estimate): 1.9439438351740028\n"
     ]
    }
   ],
   "source": [
    "test_stat=(point_estimate-0)/standard_error\n",
    "print('Test statistic (ie. t-score of the point estimate):',test_stat)"
   ]
  },
  {
   "cell_type": "code",
   "execution_count": 20,
   "metadata": {},
   "outputs": [
    {
     "name": "stdout",
     "output_type": "stream",
     "text": [
      "p-value:  0.05817070511445488\n"
     ]
    }
   ],
   "source": [
    "pvalue=2*(1-t.cdf(np.abs(test_stat), df=45))\n",
    "\n",
    "print('p-value: ',pvalue)"
   ]
  },
  {
   "cell_type": "markdown",
   "metadata": {},
   "source": [
    "### Make a Conclusion with our p-value, using a significance level of $\\alpha=0.05$.\n",
    "\n",
    "Because $p-value=0.058\\geq \\alpha=0.05$, we fail to reject the null hypothesis. Thus, we do not have sufficient evidence to suggest that $\\mu_{lo}-\\mu_{hi}\\neq 0$ (that the population means of IQ levels for all children with low level lead exposure and for all children with high level lead exposure are different, or that there is an association between lead exposure and childhood IQ score)."
   ]
  },
  {
   "cell_type": "markdown",
   "metadata": {},
   "source": [
    "### Perform Hypothesis Testing with our earlier 95% Confidence Interval\n",
    "\n",
    "Let's also use our 95% confidence interval calculated earlier to make an inference for this hypothesis testing framework.\n",
    "\n",
    "Because the null value (0) in our hypotheses is inside our 95% confidence interval (-0.176,9.901), we fail to reject the null hypothesis. Thus, we do not have sufficient evidence to suggest that $\\mu_{lo}-\\mu_{hi}\\neq 0$ (or that there is an association between lead exposure and childhood IQ score)."
   ]
  },
  {
   "cell_type": "markdown",
   "metadata": {},
   "source": [
    "<hr>\n",
    "\n",
    "## Inference on a Difference of Population Proportions ($p_1-p_2$)"
   ]
  },
  {
   "cell_type": "markdown",
   "metadata": {},
   "source": [
    "**<u>Case Study</u> Political Affiliation and Approval of the Direction the Country is Going In: We would like to know if there is an association between political affiliation and opinion on the direction that the country is going in *for all adults living in the U.S.*?**\n",
    "\n",
    "Another way of asking this would be to test the claim $p_{dem}-p_{rep}\\neq 0$ in which:\n",
    "\n",
    "* $p_{dem}=$ proportion of all democrats living in the U.S. that approve of the direction the country is going in\n",
    "* $p_{rep}=$ proportion of all republicans living in the U.S. that approve of the direction the country is going in"
   ]
  },
  {
   "cell_type": "markdown",
   "metadata": {},
   "source": [
    "### Preparing the Data\n",
    "\n",
    "First let's read in the 2017 Pew dataset which contains a random sample of democrats and their opinions on this question and a random sample of republicans and their opinion on this question."
   ]
  },
  {
   "cell_type": "code",
   "execution_count": 21,
   "metadata": {},
   "outputs": [
    {
     "data": {
      "text/html": [
       "<div>\n",
       "<style scoped>\n",
       "    .dataframe tbody tr th:only-of-type {\n",
       "        vertical-align: middle;\n",
       "    }\n",
       "\n",
       "    .dataframe tbody tr th {\n",
       "        vertical-align: top;\n",
       "    }\n",
       "\n",
       "    .dataframe thead th {\n",
       "        text-align: right;\n",
       "    }\n",
       "</style>\n",
       "<table border=\"1\" class=\"dataframe\">\n",
       "  <thead>\n",
       "    <tr style=\"text-align: right;\">\n",
       "      <th></th>\n",
       "      <th>q2</th>\n",
       "      <th>party</th>\n",
       "    </tr>\n",
       "  </thead>\n",
       "  <tbody>\n",
       "    <tr>\n",
       "      <th>0</th>\n",
       "      <td>Dissatisfied</td>\n",
       "      <td>Independent</td>\n",
       "    </tr>\n",
       "    <tr>\n",
       "      <th>1</th>\n",
       "      <td>Dissatisfied</td>\n",
       "      <td>Democrat</td>\n",
       "    </tr>\n",
       "    <tr>\n",
       "      <th>2</th>\n",
       "      <td>Dissatisfied</td>\n",
       "      <td>Independent</td>\n",
       "    </tr>\n",
       "    <tr>\n",
       "      <th>3</th>\n",
       "      <td>Satisfied</td>\n",
       "      <td>Republican</td>\n",
       "    </tr>\n",
       "    <tr>\n",
       "      <th>4</th>\n",
       "      <td>Dissatisfied</td>\n",
       "      <td>Democrat</td>\n",
       "    </tr>\n",
       "    <tr>\n",
       "      <th>5</th>\n",
       "      <td>Dissatisfied</td>\n",
       "      <td>Democrat</td>\n",
       "    </tr>\n",
       "    <tr>\n",
       "      <th>6</th>\n",
       "      <td>Satisfied</td>\n",
       "      <td>Independent</td>\n",
       "    </tr>\n",
       "    <tr>\n",
       "      <th>7</th>\n",
       "      <td>Dissatisfied</td>\n",
       "      <td>Republican</td>\n",
       "    </tr>\n",
       "    <tr>\n",
       "      <th>8</th>\n",
       "      <td>Satisfied</td>\n",
       "      <td>Independent</td>\n",
       "    </tr>\n",
       "    <tr>\n",
       "      <th>9</th>\n",
       "      <td>Dissatisfied</td>\n",
       "      <td>Independent</td>\n",
       "    </tr>\n",
       "  </tbody>\n",
       "</table>\n",
       "</div>"
      ],
      "text/plain": [
       "             q2        party\n",
       "0  Dissatisfied  Independent\n",
       "1  Dissatisfied     Democrat\n",
       "2  Dissatisfied  Independent\n",
       "3     Satisfied   Republican\n",
       "4  Dissatisfied     Democrat\n",
       "5  Dissatisfied     Democrat\n",
       "6     Satisfied  Independent\n",
       "7  Dissatisfied   Republican\n",
       "8     Satisfied  Independent\n",
       "9  Dissatisfied  Independent"
      ]
     },
     "execution_count": 21,
     "metadata": {},
     "output_type": "execute_result"
    }
   ],
   "source": [
    "missing_values = [\"NaN\", \"nan\", \"Don't know/Refused (VOL.)\"]\n",
    "\n",
    "dfpew = pd.read_csv('Feb17public.csv', na_values=missing_values)\n",
    "dfpew[['q2','party']].head(10)"
   ]
  },
  {
   "cell_type": "markdown",
   "metadata": {},
   "source": [
    "Here is how the results breakdown by party affiliation:"
   ]
  },
  {
   "cell_type": "code",
   "execution_count": 22,
   "metadata": {},
   "outputs": [
    {
     "data": {
      "text/html": [
       "<div>\n",
       "<style scoped>\n",
       "    .dataframe tbody tr th:only-of-type {\n",
       "        vertical-align: middle;\n",
       "    }\n",
       "\n",
       "    .dataframe tbody tr th {\n",
       "        vertical-align: top;\n",
       "    }\n",
       "\n",
       "    .dataframe thead th {\n",
       "        text-align: right;\n",
       "    }\n",
       "</style>\n",
       "<table border=\"1\" class=\"dataframe\">\n",
       "  <thead>\n",
       "    <tr style=\"text-align: right;\">\n",
       "      <th>q2</th>\n",
       "      <th>Dissatisfied</th>\n",
       "      <th>Satisfied</th>\n",
       "    </tr>\n",
       "    <tr>\n",
       "      <th>party</th>\n",
       "      <th></th>\n",
       "      <th></th>\n",
       "    </tr>\n",
       "  </thead>\n",
       "  <tbody>\n",
       "    <tr>\n",
       "      <th>Democrat</th>\n",
       "      <td>444</td>\n",
       "      <td>68</td>\n",
       "    </tr>\n",
       "    <tr>\n",
       "      <th>Independent</th>\n",
       "      <td>360</td>\n",
       "      <td>153</td>\n",
       "    </tr>\n",
       "    <tr>\n",
       "      <th>No preference (VOL.)</th>\n",
       "      <td>21</td>\n",
       "      <td>14</td>\n",
       "    </tr>\n",
       "    <tr>\n",
       "      <th>Other party (VOL.)</th>\n",
       "      <td>4</td>\n",
       "      <td>1</td>\n",
       "    </tr>\n",
       "    <tr>\n",
       "      <th>Republican</th>\n",
       "      <td>157</td>\n",
       "      <td>192</td>\n",
       "    </tr>\n",
       "  </tbody>\n",
       "</table>\n",
       "</div>"
      ],
      "text/plain": [
       "q2                    Dissatisfied  Satisfied\n",
       "party                                        \n",
       "Democrat                       444         68\n",
       "Independent                    360        153\n",
       "No preference (VOL.)            21         14\n",
       "Other party (VOL.)               4          1\n",
       "Republican                     157        192"
      ]
     },
     "execution_count": 22,
     "metadata": {},
     "output_type": "execute_result"
    }
   ],
   "source": [
    "pd.crosstab(dfpew['party'], dfpew['q2'])"
   ]
  },
  {
   "cell_type": "markdown",
   "metadata": {},
   "source": [
    "### Summary Analyses\n",
    "\n",
    "We can start by calculating the sample proportions and the sample sizes.\n",
    "\n",
    "We don't need fancy statistics to see that there was an enormous difference between Democrats and Republicans on this issue. Their respective rates of satisfaction of the way things are going in 2017 were:"
   ]
  },
  {
   "cell_type": "code",
   "execution_count": 23,
   "metadata": {},
   "outputs": [],
   "source": [
    "# Extract q1 responses for democrats and republicans\n",
    "dem = dfpew['q2'][dfpew['party']=='Democrat']\n",
    "rep = dfpew['q2'][dfpew['party']=='Republican']"
   ]
  },
  {
   "cell_type": "code",
   "execution_count": 24,
   "metadata": {},
   "outputs": [],
   "source": [
    "# calculate approval proportions\n",
    "p_dem = sum(dem=='Satisfied')/dem.shape[0] \n",
    "p_rep = sum(rep=='Satisfied')/rep.shape[0]"
   ]
  },
  {
   "cell_type": "code",
   "execution_count": 25,
   "metadata": {},
   "outputs": [
    {
     "name": "stdout",
     "output_type": "stream",
     "text": [
      "Democrats:  approval rate = 0.128\n",
      "Republicans:  approval rate = 0.516\n"
     ]
    }
   ],
   "source": [
    "# display results\n",
    "print('Democrats:  approval rate =', round(p_dem, 3))\n",
    "print('Republicans:  approval rate =', round(p_rep, 3))"
   ]
  },
  {
   "cell_type": "code",
   "execution_count": 26,
   "metadata": {},
   "outputs": [],
   "source": [
    "n_dem=dem.shape[0] \n",
    "n_rep=rep.shape[0]"
   ]
  },
  {
   "cell_type": "code",
   "execution_count": 27,
   "metadata": {},
   "outputs": [
    {
     "name": "stdout",
     "output_type": "stream",
     "text": [
      "Democrats:  sample size = 530\n",
      "Republicans:  sample size = 372\n"
     ]
    }
   ],
   "source": [
    "print('Democrats:  sample size =', n_dem)\n",
    "print('Republicans:  sample size =', n_rep)"
   ]
  },
  {
   "cell_type": "code",
   "execution_count": 28,
   "metadata": {},
   "outputs": [
    {
     "name": "stdout",
     "output_type": "stream",
     "text": [
      "Common: approval rate = 0.288\n"
     ]
    }
   ],
   "source": [
    "p_common = (sum(dem=='Satisfied') + sum(rep=='Satisfied'))/(dem.shape[0] + rep.shape[0])\n",
    "print('Common: approval rate =', round(p_common, 3))"
   ]
  },
  {
   "cell_type": "markdown",
   "metadata": {},
   "source": [
    "### Assumptions\n",
    "\n",
    "Next, let's check the Central Limit Theorem conditions (for differences of sample proportion).\n",
    "\n",
    "Note: Because we do not know $p_1$ and $p_2$ we will assume the null hypothesis is true and plug in the corresponding sample proprotion in these conditions.  The common sample proportion is $\\hat{p} = \\frac{X_1 + X_2}{n_1 + n_2}$\n",
    "\n",
    "1. $n_1p_1\\approx n_1\\hat{p}=530(.288)=\\geq 10$ and $n_1(1-p_1)\\approx n_1(1-\\hat{p})=530(1-.288)=\\geq 10$\n",
    "2. $n_2p_2\\approx n_2\\hat{p}=372(.288)=\\geq 10$ and $n_2(1-p_2)\\approx n_2(1-\\hat{p})=372(1-.288)=\\geq 10$\n",
    "3. Sample of democrats is randomly selected and $n_{dem}=530<10$% of all democrats living in the U.S.\n",
    "4. Sample of republicans is randomly selected and $n_{rep}=372<10$% of all republicans living in the U.S.\n",
    "5. Sample of democrats is independent of sample of republicans.\n",
    "\n",
    "\n",
    "All of the conditions hold, so we can proceed with conducting hypothesis testing and creating a confidence interval for $p_{dem}-p_{rep}$."
   ]
  },
  {
   "cell_type": "markdown",
   "metadata": {},
   "source": [
    "### Calculate the *p*-value\n",
    "\n",
    "Note: Because we do not know $p_1$ and $p_2$ we will plug in the corresponding common proportion instead ($\\hat{p}$) JUST IN THE STANDARD ERROR.\n",
    "\n",
    "$p-value=2P(Z\\geq |\\frac{(\\hat{p}_{dem} -\\hat{p}_{rep}) -(p_{dem}-p_{rep})    }{   \\sqrt{   \\frac{p_{dem}(1-p_{dem})}{n_{dem}}   + \\frac{p_{rep}(1-p_{rep})}{n_{rep}}                 }                         }|)$\n",
    "\n",
    "$=2P(Z\\geq |\\frac{(\\hat{p}_{dem} -\\hat{p}_{rep}    ) -(0)}{   \\sqrt{   \\frac{\\hat{p}(1-\\hat{p})}{n_{dem}}   + \\frac{\\hat{p} (1-\\hat{p} )}{n_{rep}}                 }                         }|)$\n",
    "\n",
    "$=2P(Z\\geq |\\frac{(.128 -.516    ) -(0)}{   \\sqrt{   \\frac{.288(1-.288)}{530}   + \\frac{.288 (1-.288 )}{372}                 }                         }|)$\n",
    "\n",
    "$=2P(Z\\geq 12.659)$\n",
    "\n",
    "$\\approx 0$."
   ]
  },
  {
   "cell_type": "code",
   "execution_count": 29,
   "metadata": {},
   "outputs": [
    {
     "name": "stdout",
     "output_type": "stream",
     "text": [
      "Point Estimate: -0.3878271454656117\n"
     ]
    }
   ],
   "source": [
    "point_estimate=p_dem-p_rep\n",
    "print('Point Estimate:', point_estimate)"
   ]
  },
  {
   "cell_type": "code",
   "execution_count": 30,
   "metadata": {},
   "outputs": [
    {
     "name": "stdout",
     "output_type": "stream",
     "text": [
      "Standard Error: 0.0306366668870057\n"
     ]
    }
   ],
   "source": [
    "standard_error = np.sqrt(p_common*(1-p_common)/n_dem + p_common*(1-p_common)/n_rep)\n",
    "print('Standard Error:', standard_error)"
   ]
  },
  {
   "cell_type": "code",
   "execution_count": 31,
   "metadata": {},
   "outputs": [
    {
     "name": "stdout",
     "output_type": "stream",
     "text": [
      "Test Statistic (ie. the z-score of the point estimate): -12.658920988239275\n"
     ]
    }
   ],
   "source": [
    "test_statistic=(point_estimate-0)/standard_error\n",
    "print('Test Statistic (ie. the z-score of the point estimate):', test_statistic)"
   ]
  },
  {
   "cell_type": "code",
   "execution_count": 32,
   "metadata": {},
   "outputs": [
    {
     "name": "stdout",
     "output_type": "stream",
     "text": [
      "p-value: 0.0\n"
     ]
    }
   ],
   "source": [
    "from scipy.stats import norm\n",
    "pvalue=2*(1-norm.cdf(np.abs(test_statistic)))\n",
    "\n",
    "print('p-value:', pvalue)"
   ]
  },
  {
   "cell_type": "markdown",
   "metadata": {},
   "source": [
    "### Evaluate your *p*-value using a significance level of $\\alpha=0.10$\n",
    "\n",
    "Because $p-value\\approx 0<\\alpha=0.10$, we reject the null hypothesis. Thus we do have sufficient evidence to suggest that $p_{dem}-p_{rep}\\neq 0$ (or in other words there is an association between political party and approval for the direction that the country is going in in 2017 for all adults living in the U.S.)"
   ]
  },
  {
   "cell_type": "markdown",
   "metadata": {},
   "source": [
    "## Confidence Interval for $p_{dem}-p_{rep}$\n",
    "\n",
    "Generate a 90% confidence interval for $p_{dem}-p_{rep}$."
   ]
  },
  {
   "cell_type": "markdown",
   "metadata": {},
   "source": [
    "### Assumptions\n",
    "\n",
    "First we need to check the Central Limit theorem conditions (for a difference of sample proportions).\n",
    "\n",
    "Note: Because we do not know $p_1$ and $p_2$ (and no longer have any underlying assumptions about their relationship) we will plug in the corresponding sample proprotions in instead ($\\hat{p}_1$ and $\\hat{p}_2$) in these conditions as well as for the standard error.\n",
    "\n",
    "1. $n_1p_1\\approx n_1\\hat{p}_1=530(.128)=\\geq 10$ and $n_1(1-p_1)\\approx n_1(1-\\hat{p}_1)=530(1-.128)=\\geq 10$\n",
    "2. $n_2p_2\\approx n_2\\hat{p}_2=372(.516)=\\geq 10$ and $n_2(1-p_2)\\approx n_2(1-\\hat{p}_2)=372(1-.516)=\\geq 10$\n",
    "3. Sample of democrats is randomly selected and $n_{dem}=530<10$% of all democrats living in the U.S.\n",
    "4. Sample of republicans is randomly selected and $n_{rep}=372<10$% of all republicans living in the U.S.\n",
    "5. Sample of democrats is independent of sample of republicans.\n",
    "\n",
    "\n",
    "All of the conditions hold, so we can proceed with conducting hypothesis testing and creating a confidence interval for $p_{dem}-p_{rep}$."
   ]
  },
  {
   "cell_type": "markdown",
   "metadata": {},
   "source": [
    "### Confidence Interval Calculation\n",
    "\n",
    "The critical value for this 90% confidence interval is the positive z-score $z^*$ that creates an area of 0.90 between $-z^*$ and $z^*$ under the standard normal distribution."
   ]
  },
  {
   "cell_type": "code",
   "execution_count": 33,
   "metadata": {},
   "outputs": [
    {
     "name": "stdout",
     "output_type": "stream",
     "text": [
      "Critical Value: 1.6448536269514722\n"
     ]
    }
   ],
   "source": [
    "critical_value=norm.ppf(0.95)\n",
    "print('Critical Value:', critical_value)"
   ]
  },
  {
   "cell_type": "code",
   "execution_count": 34,
   "metadata": {},
   "outputs": [
    {
     "name": "stdout",
     "output_type": "stream",
     "text": [
      "Point Estimate: -0.3878271454656117\n"
     ]
    }
   ],
   "source": [
    "point_estimate=p_dem-p_rep\n",
    "print('Point Estimate:', point_estimate)"
   ]
  },
  {
   "cell_type": "code",
   "execution_count": 35,
   "metadata": {},
   "outputs": [
    {
     "name": "stdout",
     "output_type": "stream",
     "text": [
      "Standard Error: 0.029704604517991694\n"
     ]
    }
   ],
   "source": [
    "standard_error = np.sqrt(p_dem*(1-p_dem)/n_dem + p_rep*(1-p_rep)/n_rep)\n",
    "print('Standard Error:', standard_error)"
   ]
  },
  {
   "cell_type": "code",
   "execution_count": 36,
   "metadata": {},
   "outputs": [
    {
     "name": "stdout",
     "output_type": "stream",
     "text": [
      "90% Confidence Interval: -0.4366868719441894 -0.338967418987034\n"
     ]
    }
   ],
   "source": [
    "lower_bound=point_estimate-critical_value*standard_error\n",
    "upper_bound=point_estimate+critical_value*standard_error\n",
    "\n",
    "print('90% Confidence Interval:', lower_bound,upper_bound)"
   ]
  },
  {
   "cell_type": "markdown",
   "metadata": {},
   "source": [
    "### Relationship with Hypothesis Testing\n",
    "\n",
    "Use this 90% confidence interval to make a conclusion about your null and alternative hypotheses."
   ]
  },
  {
   "cell_type": "markdown",
   "metadata": {},
   "source": [
    "Because the null value (0) for these hypothesis is not in the confidence interval range, we reject the null hypothesis. Thus we do have sufficient evidence to suggest that $p_{dem}-p_{rep}\\neq 0$ (or in other words there is an association between political party and approval for the direction that the country is going in in 2017 for all adults living in the U.S.)"
   ]
  },
  {
   "cell_type": "markdown",
   "metadata": {},
   "source": [
    "---\n",
    "STAT 207, Julie Deeke, Victoria Ellison, and Douglas Simpson, University of Illinois at Urbana-Champaign"
   ]
  }
 ],
 "metadata": {
  "kernelspec": {
   "display_name": "Python 3 (ipykernel)",
   "language": "python",
   "name": "python3"
  },
  "language_info": {
   "codemirror_mode": {
    "name": "ipython",
    "version": 3
   },
   "file_extension": ".py",
   "mimetype": "text/x-python",
   "name": "python",
   "nbconvert_exporter": "python",
   "pygments_lexer": "ipython3",
   "version": "3.8.11"
  }
 },
 "nbformat": 4,
 "nbformat_minor": 2
}
