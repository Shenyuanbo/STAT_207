{
 "cells": [
  {
   "cell_type": "markdown",
   "metadata": {},
   "source": [
    "<!--# STAT 207: Data Science Exploration-->\n",
    "\n",
    "# <u>Case Study 10 Notebook</u>: Simple Linear Regression\n",
    "\n",
    "This Case Study contain analyses to address the question:\n",
    "\n",
    "**Is there an association between a mother's height and her daughter's height?**\n",
    "\n",
    "* In the sample?\n",
    "* In the population?\n",
    "* Can we use predict the height of a daughter given the height of her mother?\n",
    "\n",
    "We will explore a dataset or randomly selected pairs of mother and daughter heights.\n",
    "\n",
    "<hr style=\"height:1px;border:none;color:#333;background-color:#333;\" />\n",
    "\n",
    "\n",
    "\n",
    "\n"
   ]
  },
  {
   "cell_type": "markdown",
   "metadata": {},
   "source": [
    "## **Primary modeling package: statsmodels**"
   ]
  },
  {
   "cell_type": "markdown",
   "metadata": {},
   "source": [
    "We will use a new package for regression called statsmodel.\n",
    "\n",
    "To install statsmodels from the anaconda command line:\n",
    "\n",
    "    conda install -c conda-forge statsmodels"
   ]
  },
  {
   "cell_type": "code",
   "execution_count": 1,
   "metadata": {},
   "outputs": [],
   "source": [
    "import pandas as pd\n",
    "import numpy as np\n",
    "import matplotlib.pyplot as plt\n",
    "import seaborn as sns; sns.set()"
   ]
  },
  {
   "cell_type": "markdown",
   "metadata": {},
   "source": [
    "<hr style=\"height:1px;border:none;color:#333;background-color:#333;\" />\n",
    "\n",
    "## Preparing the Data and Summary/Descriptive Analysis\n",
    "\n",
    "To start, we will read in our data of pairs of mother-daughter heights.  We will then explore each of our variables individually."
   ]
  },
  {
   "cell_type": "code",
   "execution_count": 2,
   "metadata": {},
   "outputs": [
    {
     "data": {
      "text/html": [
       "<div>\n",
       "<style scoped>\n",
       "    .dataframe tbody tr th:only-of-type {\n",
       "        vertical-align: middle;\n",
       "    }\n",
       "\n",
       "    .dataframe tbody tr th {\n",
       "        vertical-align: top;\n",
       "    }\n",
       "\n",
       "    .dataframe thead th {\n",
       "        text-align: right;\n",
       "    }\n",
       "</style>\n",
       "<table border=\"1\" class=\"dataframe\">\n",
       "  <thead>\n",
       "    <tr style=\"text-align: right;\">\n",
       "      <th></th>\n",
       "      <th>Mheight</th>\n",
       "      <th>Dheight</th>\n",
       "    </tr>\n",
       "  </thead>\n",
       "  <tbody>\n",
       "    <tr>\n",
       "      <th>0</th>\n",
       "      <td>59.7</td>\n",
       "      <td>55.1</td>\n",
       "    </tr>\n",
       "    <tr>\n",
       "      <th>1</th>\n",
       "      <td>58.2</td>\n",
       "      <td>56.5</td>\n",
       "    </tr>\n",
       "    <tr>\n",
       "      <th>2</th>\n",
       "      <td>60.6</td>\n",
       "      <td>56.0</td>\n",
       "    </tr>\n",
       "    <tr>\n",
       "      <th>3</th>\n",
       "      <td>60.7</td>\n",
       "      <td>56.8</td>\n",
       "    </tr>\n",
       "    <tr>\n",
       "      <th>4</th>\n",
       "      <td>61.8</td>\n",
       "      <td>56.0</td>\n",
       "    </tr>\n",
       "  </tbody>\n",
       "</table>\n",
       "</div>"
      ],
      "text/plain": [
       "   Mheight  Dheight\n",
       "0     59.7     55.1\n",
       "1     58.2     56.5\n",
       "2     60.6     56.0\n",
       "3     60.7     56.8\n",
       "4     61.8     56.0"
      ]
     },
     "execution_count": 2,
     "metadata": {},
     "output_type": "execute_result"
    }
   ],
   "source": [
    "df = pd.read_csv('heights.txt', sep=' ')\n",
    "df.head()"
   ]
  },
  {
   "cell_type": "code",
   "execution_count": 3,
   "metadata": {},
   "outputs": [
    {
     "data": {
      "text/plain": [
       "(1375, 2)"
      ]
     },
     "execution_count": 3,
     "metadata": {},
     "output_type": "execute_result"
    }
   ],
   "source": [
    "df.shape"
   ]
  },
  {
   "cell_type": "code",
   "execution_count": 4,
   "metadata": {},
   "outputs": [
    {
     "data": {
      "text/html": [
       "<div>\n",
       "<style scoped>\n",
       "    .dataframe tbody tr th:only-of-type {\n",
       "        vertical-align: middle;\n",
       "    }\n",
       "\n",
       "    .dataframe tbody tr th {\n",
       "        vertical-align: top;\n",
       "    }\n",
       "\n",
       "    .dataframe thead th {\n",
       "        text-align: right;\n",
       "    }\n",
       "</style>\n",
       "<table border=\"1\" class=\"dataframe\">\n",
       "  <thead>\n",
       "    <tr style=\"text-align: right;\">\n",
       "      <th></th>\n",
       "      <th>Mheight</th>\n",
       "      <th>Dheight</th>\n",
       "    </tr>\n",
       "  </thead>\n",
       "  <tbody>\n",
       "    <tr>\n",
       "      <th>count</th>\n",
       "      <td>1375.000000</td>\n",
       "      <td>1375.000000</td>\n",
       "    </tr>\n",
       "    <tr>\n",
       "      <th>mean</th>\n",
       "      <td>62.452800</td>\n",
       "      <td>63.751055</td>\n",
       "    </tr>\n",
       "    <tr>\n",
       "      <th>std</th>\n",
       "      <td>2.355103</td>\n",
       "      <td>2.600053</td>\n",
       "    </tr>\n",
       "    <tr>\n",
       "      <th>min</th>\n",
       "      <td>55.400000</td>\n",
       "      <td>55.100000</td>\n",
       "    </tr>\n",
       "    <tr>\n",
       "      <th>25%</th>\n",
       "      <td>60.800000</td>\n",
       "      <td>62.000000</td>\n",
       "    </tr>\n",
       "    <tr>\n",
       "      <th>50%</th>\n",
       "      <td>62.400000</td>\n",
       "      <td>63.600000</td>\n",
       "    </tr>\n",
       "    <tr>\n",
       "      <th>75%</th>\n",
       "      <td>63.900000</td>\n",
       "      <td>65.600000</td>\n",
       "    </tr>\n",
       "    <tr>\n",
       "      <th>max</th>\n",
       "      <td>70.800000</td>\n",
       "      <td>73.100000</td>\n",
       "    </tr>\n",
       "  </tbody>\n",
       "</table>\n",
       "</div>"
      ],
      "text/plain": [
       "           Mheight      Dheight\n",
       "count  1375.000000  1375.000000\n",
       "mean     62.452800    63.751055\n",
       "std       2.355103     2.600053\n",
       "min      55.400000    55.100000\n",
       "25%      60.800000    62.000000\n",
       "50%      62.400000    63.600000\n",
       "75%      63.900000    65.600000\n",
       "max      70.800000    73.100000"
      ]
     },
     "execution_count": 4,
     "metadata": {},
     "output_type": "execute_result"
    }
   ],
   "source": [
    "df.describe()"
   ]
  },
  {
   "cell_type": "markdown",
   "metadata": {},
   "source": [
    "### Univariate Visualizations\n",
    "\n",
    "We can explore each of these numerical variables individually using histograms."
   ]
  },
  {
   "cell_type": "code",
   "execution_count": 5,
   "metadata": {},
   "outputs": [
    {
     "data": {
      "image/png": "[encoded data removed]",
      "text/plain": [
       "<Figure size 432x288 with 2 Axes>"
      ]
     },
     "metadata": {},
     "output_type": "display_data"
    }
   ],
   "source": [
    "df.hist()\n",
    "plt.show()"
   ]
  },
  {
   "cell_type": "markdown",
   "metadata": {},
   "source": [
    "## Summary Analysis for Two Quantitative Variables Jointly\n",
    "\n",
    "While we were able to summarize the heights of mothers and daughters separately, we are more interested in their joint behavior.\n",
    "\n",
    "### Visualization: Scatterplot\n",
    "\n",
    "If we want to visually examine the *relationship* between the two categorical variables we can use a scatterplot."
   ]
  },
  {
   "cell_type": "code",
   "execution_count": 6,
   "metadata": {},
   "outputs": [
    {
     "data": {
      "image/png": "[encoded data removed]",
      "text/plain": [
       "<Figure size 432x288 with 1 Axes>"
      ]
     },
     "metadata": {},
     "output_type": "display_data"
    }
   ],
   "source": [
    "df.plot.scatter(x='Mheight', y='Dheight', c='b')\n",
    "plt.show()"
   ]
  },
  {
   "cell_type": "markdown",
   "metadata": {},
   "source": [
    "### Describing the Relationship between two Numerical Variables"
   ]
  },
  {
   "cell_type": "markdown",
   "metadata": {},
   "source": [
    "What can we say about this relationship?\n",
    "\n",
    "When visualizing the relationship between two numerical varibles there are four things that we should be ready to discuss.\n",
    "1. **What is the direction of the relationship?**\n",
    "    - For instance, this relationship is going up and to the right, therefore it is a positive relationship.\n",
    "2. **What is the shape of the relationship?**\n",
    "    - For instance, if we were to draw a \"best fit\" curve running through the points in this plot, it would be linear. Therefore this is a linear relationship.\n",
    "3. **What is the strength of this relationship?**\n",
    "    - For instance, the points in this relationship do not perfectly fall on this \"best fit\" curve that we would have drawn, so it is not a STRONG relationship. However, we do see some pattern to the relationship. So we can say that this is a moderate relationship.\n",
    "4. **Are there any outliers in the data?**\n",
    "    - If there are any points that fall far away from the main cloud of data, then we could classify this as an outlier. In this. However, this particular dataset does not seem to have any outliers.\n",
    "    \n",
    "    \n",
    "### Updating a Scatterplot with a Best Fit Line"
   ]
  },
  {
   "cell_type": "code",
   "execution_count": 7,
   "metadata": {},
   "outputs": [
    {
     "data": {
      "image/png": "[encoded data removed]",
      "text/plain": [
       "<Figure size 432x288 with 1 Axes>"
      ]
     },
     "metadata": {},
     "output_type": "display_data"
    }
   ],
   "source": [
    "sns.regplot(x='Mheight', y='Dheight', data=df, ci=False)\n",
    "plt.show()"
   ]
  },
  {
   "cell_type": "markdown",
   "metadata": {},
   "source": [
    "### Summary Statistics\n",
    "\n",
    "How do we *numerically* quantify the relationship between these two numerical variables?\n",
    "\n",
    "#### Covariance\n",
    "\n",
    "Below is the **covariance matrix** of the two numerical variables.\n",
    "\n",
    "The diagonal entries represent the **covariance between the mother height and daughter height** (3.005). The covariance matrix also gives the **variance for the mother heights** (5.5465) and the **variance for the daughter heights** (6.76).\n",
    "\n",
    "Because the covariance is positive we can see that there is a positive relationship between the two numerical variables."
   ]
  },
  {
   "cell_type": "code",
   "execution_count": 8,
   "metadata": {},
   "outputs": [
    {
     "data": {
      "text/html": [
       "<div>\n",
       "<style scoped>\n",
       "    .dataframe tbody tr th:only-of-type {\n",
       "        vertical-align: middle;\n",
       "    }\n",
       "\n",
       "    .dataframe tbody tr th {\n",
       "        vertical-align: top;\n",
       "    }\n",
       "\n",
       "    .dataframe thead th {\n",
       "        text-align: right;\n",
       "    }\n",
       "</style>\n",
       "<table border=\"1\" class=\"dataframe\">\n",
       "  <thead>\n",
       "    <tr style=\"text-align: right;\">\n",
       "      <th></th>\n",
       "      <th>Mheight</th>\n",
       "      <th>Dheight</th>\n",
       "    </tr>\n",
       "  </thead>\n",
       "  <tbody>\n",
       "    <tr>\n",
       "      <th>Mheight</th>\n",
       "      <td>5.546511</td>\n",
       "      <td>3.004806</td>\n",
       "    </tr>\n",
       "    <tr>\n",
       "      <th>Dheight</th>\n",
       "      <td>3.004806</td>\n",
       "      <td>6.760274</td>\n",
       "    </tr>\n",
       "  </tbody>\n",
       "</table>\n",
       "</div>"
      ],
      "text/plain": [
       "          Mheight   Dheight\n",
       "Mheight  5.546511  3.004806\n",
       "Dheight  3.004806  6.760274"
      ]
     },
     "execution_count": 8,
     "metadata": {},
     "output_type": "execute_result"
    }
   ],
   "source": [
    "df.cov()"
   ]
  },
  {
   "cell_type": "code",
   "execution_count": 9,
   "metadata": {},
   "outputs": [
    {
     "data": {
      "text/plain": [
       "3.0048059970887917"
      ]
     },
     "execution_count": 9,
     "metadata": {},
     "output_type": "execute_result"
    }
   ],
   "source": [
    "cov=df.cov().iloc[0,1]\n",
    "cov"
   ]
  },
  {
   "cell_type": "markdown",
   "metadata": {},
   "source": [
    "#### Correlation\n",
    "\n",
    "Below is the **correlation matrix** of the two numerical variables.\n",
    "\n",
    "The diagonal entries represent the **correlation (r) between the mother height and daughter height** (0.49). \n",
    "\n",
    "Because the correlation is positive we can see that there is a positive relationship between the two numerical variables."
   ]
  },
  {
   "cell_type": "code",
   "execution_count": 10,
   "metadata": {},
   "outputs": [
    {
     "data": {
      "text/html": [
       "<div>\n",
       "<style scoped>\n",
       "    .dataframe tbody tr th:only-of-type {\n",
       "        vertical-align: middle;\n",
       "    }\n",
       "\n",
       "    .dataframe tbody tr th {\n",
       "        vertical-align: top;\n",
       "    }\n",
       "\n",
       "    .dataframe thead th {\n",
       "        text-align: right;\n",
       "    }\n",
       "</style>\n",
       "<table border=\"1\" class=\"dataframe\">\n",
       "  <thead>\n",
       "    <tr style=\"text-align: right;\">\n",
       "      <th></th>\n",
       "      <th>Mheight</th>\n",
       "      <th>Dheight</th>\n",
       "    </tr>\n",
       "  </thead>\n",
       "  <tbody>\n",
       "    <tr>\n",
       "      <th>Mheight</th>\n",
       "      <td>1.000000</td>\n",
       "      <td>0.490709</td>\n",
       "    </tr>\n",
       "    <tr>\n",
       "      <th>Dheight</th>\n",
       "      <td>0.490709</td>\n",
       "      <td>1.000000</td>\n",
       "    </tr>\n",
       "  </tbody>\n",
       "</table>\n",
       "</div>"
      ],
      "text/plain": [
       "          Mheight   Dheight\n",
       "Mheight  1.000000  0.490709\n",
       "Dheight  0.490709  1.000000"
      ]
     },
     "execution_count": 10,
     "metadata": {},
     "output_type": "execute_result"
    }
   ],
   "source": [
    "df.corr()"
   ]
  },
  {
   "cell_type": "code",
   "execution_count": 11,
   "metadata": {},
   "outputs": [
    {
     "data": {
      "text/plain": [
       "0.4907093614575403"
      ]
     },
     "execution_count": 11,
     "metadata": {},
     "output_type": "execute_result"
    }
   ],
   "source": [
    "rxy = df.corr().iloc[0,1]\n",
    "rxy"
   ]
  },
  {
   "cell_type": "markdown",
   "metadata": {},
   "source": [
    "*Should* we use the correlation coefficient above to quantify the strength and direction of the relationship between mother and daughter heights?\n",
    "\n",
    "To answer this question, we would like to consider whether the form of the relationship is in fact linear.\n",
    "\n",
    "If it is, we can interpret the correlation as the strength of the linear relationship between our two variables."
   ]
  },
  {
   "cell_type": "markdown",
   "metadata": {},
   "source": [
    "## Modeling with Simple Linear Regression\n",
    "\n",
    "When we fit a regression line, the most common approach that we use is called ordinary least squares.  This method is well-studied and has many helpful and established properties.\n",
    "\n",
    "For the rest of this Case Study, we will focus on simple linear regression.  Simple Linear Regression indicates that we are predicting one **response** variable using just one **predictor** variable.  We will assume that the predictor variable is quantitative for now.\n",
    "\n",
    "First, we will use the established properties for simple linear regression to calculate our regression line.  Then, we will use the statsmodel package from the beginning of this notebook to confirm our calculation.\n",
    "\n",
    "### By Hand\n",
    "\n",
    "Calculate the slope and intercept of a simple linear regression line \"by hand.\""
   ]
  },
  {
   "cell_type": "code",
   "execution_count": 12,
   "metadata": {},
   "outputs": [
    {
     "data": {
      "text/plain": [
       "Mheight    62.452800\n",
       "Dheight    63.751055\n",
       "dtype: float64"
      ]
     },
     "execution_count": 12,
     "metadata": {},
     "output_type": "execute_result"
    }
   ],
   "source": [
    "df.mean()"
   ]
  },
  {
   "cell_type": "code",
   "execution_count": 13,
   "metadata": {},
   "outputs": [
    {
     "name": "stdout",
     "output_type": "stream",
     "text": [
      "Explanatory Variable Mean: 62.4528\n",
      "Response Variable Mean: 63.75105454545446\n"
     ]
    }
   ],
   "source": [
    "mean_x=df.mean().loc['Mheight']\n",
    "print('Explanatory Variable Mean:',mean_x)\n",
    "\n",
    "mean_y=df.mean().loc['Dheight']\n",
    "print('Response Variable Mean:',mean_y)"
   ]
  },
  {
   "cell_type": "code",
   "execution_count": 14,
   "metadata": {},
   "outputs": [
    {
     "data": {
      "text/plain": [
       "Mheight    2.355103\n",
       "Dheight    2.600053\n",
       "dtype: float64"
      ]
     },
     "execution_count": 14,
     "metadata": {},
     "output_type": "execute_result"
    }
   ],
   "source": [
    "df.std()"
   ]
  },
  {
   "cell_type": "code",
   "execution_count": 15,
   "metadata": {},
   "outputs": [
    {
     "name": "stdout",
     "output_type": "stream",
     "text": [
      "Explanatory Variable Mean: 2.355103276089619\n",
      "Response Variable Mean: 2.6000526210817\n"
     ]
    }
   ],
   "source": [
    "std_x=df.std().loc['Mheight']\n",
    "print('Explanatory Variable Mean:',std_x)\n",
    "\n",
    "std_y=df.std().loc['Dheight']\n",
    "print('Response Variable Mean:',std_y)"
   ]
  },
  {
   "cell_type": "code",
   "execution_count": 16,
   "metadata": {},
   "outputs": [
    {
     "name": "stdout",
     "output_type": "stream",
     "text": [
      "Correlation (R):  0.4907093614575403\n"
     ]
    }
   ],
   "source": [
    "print('Correlation (R): ',rxy)"
   ]
  },
  {
   "cell_type": "markdown",
   "metadata": {},
   "source": [
    "$\\hat{\\beta}_1 = r\\frac{s_y}{s_x}$"
   ]
  },
  {
   "cell_type": "code",
   "execution_count": 17,
   "metadata": {},
   "outputs": [
    {
     "name": "stdout",
     "output_type": "stream",
     "text": [
      "Slope: 0.5417470114369856\n"
     ]
    }
   ],
   "source": [
    "slope=rxy*(std_y/std_x)\n",
    "print('Slope:', slope)"
   ]
  },
  {
   "cell_type": "code",
   "execution_count": 18,
   "metadata": {},
   "outputs": [
    {
     "name": "stdout",
     "output_type": "stream",
     "text": [
      "Intercept: 29.917436789582688\n"
     ]
    }
   ],
   "source": [
    "intercept=mean_y-slope*mean_x\n",
    "print('Intercept:', intercept)"
   ]
  },
  {
   "cell_type": "markdown",
   "metadata": {},
   "source": [
    "### Using Python\n",
    "\n",
    "Finding the slope and intercept of a simple linear regression line with Python output."
   ]
  },
  {
   "cell_type": "markdown",
   "metadata": {},
   "source": [
    "Fitting a regression model and summarizing it\n",
    "\n",
    "We import the formula api from the statsmodels library and then fit a simple linear regression model."
   ]
  },
  {
   "cell_type": "code",
   "execution_count": 19,
   "metadata": {},
   "outputs": [],
   "source": [
    "import statsmodels.api as sm\n",
    "import statsmodels.formula.api as smf"
   ]
  },
  {
   "cell_type": "markdown",
   "metadata": {},
   "source": [
    "This step fits the model and creates an object containing the results."
   ]
  },
  {
   "cell_type": "code",
   "execution_count": 20,
   "metadata": {},
   "outputs": [],
   "source": [
    "results = smf.ols('Dheight ~ Mheight', data=df).fit()"
   ]
  },
  {
   "cell_type": "markdown",
   "metadata": {},
   "source": [
    "Using the `.summary()` function, we can display an organized summary of the fitted model. The summary includes various quantitiative features of the model fit as well as a summary table for the model coefficient estimates, standard errors and coefficient t tests."
   ]
  },
  {
   "cell_type": "code",
   "execution_count": 21,
   "metadata": {},
   "outputs": [
    {
     "data": {
      "text/html": [
       "<table class=\"simpletable\">\n",
       "<caption>OLS Regression Results</caption>\n",
       "<tr>\n",
       "  <th>Dep. Variable:</th>         <td>Dheight</td>     <th>  R-squared:         </th> <td>   0.241</td>\n",
       "</tr>\n",
       "<tr>\n",
       "  <th>Model:</th>                   <td>OLS</td>       <th>  Adj. R-squared:    </th> <td>   0.240</td>\n",
       "</tr>\n",
       "<tr>\n",
       "  <th>Method:</th>             <td>Least Squares</td>  <th>  F-statistic:       </th> <td>   435.5</td>\n",
       "</tr>\n",
       "<tr>\n",
       "  <th>Date:</th>             <td>Mon, 20 Mar 2023</td> <th>  Prob (F-statistic):</th> <td>3.22e-84</td>\n",
       "</tr>\n",
       "<tr>\n",
       "  <th>Time:</th>                 <td>09:42:23</td>     <th>  Log-Likelihood:    </th> <td> -3075.0</td>\n",
       "</tr>\n",
       "<tr>\n",
       "  <th>No. Observations:</th>      <td>  1375</td>      <th>  AIC:               </th> <td>   6154.</td>\n",
       "</tr>\n",
       "<tr>\n",
       "  <th>Df Residuals:</th>          <td>  1373</td>      <th>  BIC:               </th> <td>   6164.</td>\n",
       "</tr>\n",
       "<tr>\n",
       "  <th>Df Model:</th>              <td>     1</td>      <th>                     </th>     <td> </td>   \n",
       "</tr>\n",
       "<tr>\n",
       "  <th>Covariance Type:</th>      <td>nonrobust</td>    <th>                     </th>     <td> </td>   \n",
       "</tr>\n",
       "</table>\n",
       "<table class=\"simpletable\">\n",
       "<tr>\n",
       "      <td></td>         <th>coef</th>     <th>std err</th>      <th>t</th>      <th>P>|t|</th>  <th>[0.025</th>    <th>0.975]</th>  \n",
       "</tr>\n",
       "<tr>\n",
       "  <th>Intercept</th> <td>   29.9174</td> <td>    1.622</td> <td>   18.439</td> <td> 0.000</td> <td>   26.735</td> <td>   33.100</td>\n",
       "</tr>\n",
       "<tr>\n",
       "  <th>Mheight</th>   <td>    0.5417</td> <td>    0.026</td> <td>   20.868</td> <td> 0.000</td> <td>    0.491</td> <td>    0.593</td>\n",
       "</tr>\n",
       "</table>\n",
       "<table class=\"simpletable\">\n",
       "<tr>\n",
       "  <th>Omnibus:</th>       <td> 1.412</td> <th>  Durbin-Watson:     </th> <td>   0.126</td>\n",
       "</tr>\n",
       "<tr>\n",
       "  <th>Prob(Omnibus):</th> <td> 0.494</td> <th>  Jarque-Bera (JB):  </th> <td>   1.353</td>\n",
       "</tr>\n",
       "<tr>\n",
       "  <th>Skew:</th>          <td> 0.002</td> <th>  Prob(JB):          </th> <td>   0.508</td>\n",
       "</tr>\n",
       "<tr>\n",
       "  <th>Kurtosis:</th>      <td> 3.154</td> <th>  Cond. No.          </th> <td>1.66e+03</td>\n",
       "</tr>\n",
       "</table><br/><br/>Notes:<br/>[1] Standard Errors assume that the covariance matrix of the errors is correctly specified.<br/>[2] The condition number is large, 1.66e+03. This might indicate that there are<br/>strong multicollinearity or other numerical problems."
      ],
      "text/plain": [
       "<class 'statsmodels.iolib.summary.Summary'>\n",
       "\"\"\"\n",
       "                            OLS Regression Results                            \n",
       "==============================================================================\n",
       "Dep. Variable:                Dheight   R-squared:                       0.241\n",
       "Model:                            OLS   Adj. R-squared:                  0.240\n",
       "Method:                 Least Squares   F-statistic:                     435.5\n",
       "Date:                Mon, 20 Mar 2023   Prob (F-statistic):           3.22e-84\n",
       "Time:                        09:42:23   Log-Likelihood:                -3075.0\n",
       "No. Observations:                1375   AIC:                             6154.\n",
       "Df Residuals:                    1373   BIC:                             6164.\n",
       "Df Model:                           1                                         \n",
       "Covariance Type:            nonrobust                                         \n",
       "==============================================================================\n",
       "                 coef    std err          t      P>|t|      [0.025      0.975]\n",
       "------------------------------------------------------------------------------\n",
       "Intercept     29.9174      1.622     18.439      0.000      26.735      33.100\n",
       "Mheight        0.5417      0.026     20.868      0.000       0.491       0.593\n",
       "==============================================================================\n",
       "Omnibus:                        1.412   Durbin-Watson:                   0.126\n",
       "Prob(Omnibus):                  0.494   Jarque-Bera (JB):                1.353\n",
       "Skew:                           0.002   Prob(JB):                        0.508\n",
       "Kurtosis:                       3.154   Cond. No.                     1.66e+03\n",
       "==============================================================================\n",
       "\n",
       "Notes:\n",
       "[1] Standard Errors assume that the covariance matrix of the errors is correctly specified.\n",
       "[2] The condition number is large, 1.66e+03. This might indicate that there are\n",
       "strong multicollinearity or other numerical problems.\n",
       "\"\"\""
      ]
     },
     "execution_count": 21,
     "metadata": {},
     "output_type": "execute_result"
    }
   ],
   "source": [
    "results.summary()"
   ]
  },
  {
   "cell_type": "markdown",
   "metadata": {},
   "source": [
    "If we want individual tables from the results summary we can access them as follows:"
   ]
  },
  {
   "cell_type": "code",
   "execution_count": 22,
   "metadata": {},
   "outputs": [
    {
     "data": {
      "text/html": [
       "<table class=\"simpletable\">\n",
       "<caption>OLS Regression Results</caption>\n",
       "<tr>\n",
       "  <th>Dep. Variable:</th>         <td>Dheight</td>     <th>  R-squared:         </th> <td>   0.241</td>\n",
       "</tr>\n",
       "<tr>\n",
       "  <th>Model:</th>                   <td>OLS</td>       <th>  Adj. R-squared:    </th> <td>   0.240</td>\n",
       "</tr>\n",
       "<tr>\n",
       "  <th>Method:</th>             <td>Least Squares</td>  <th>  F-statistic:       </th> <td>   435.5</td>\n",
       "</tr>\n",
       "<tr>\n",
       "  <th>Date:</th>             <td>Mon, 20 Mar 2023</td> <th>  Prob (F-statistic):</th> <td>3.22e-84</td>\n",
       "</tr>\n",
       "<tr>\n",
       "  <th>Time:</th>                 <td>09:42:23</td>     <th>  Log-Likelihood:    </th> <td> -3075.0</td>\n",
       "</tr>\n",
       "<tr>\n",
       "  <th>No. Observations:</th>      <td>  1375</td>      <th>  AIC:               </th> <td>   6154.</td>\n",
       "</tr>\n",
       "<tr>\n",
       "  <th>Df Residuals:</th>          <td>  1373</td>      <th>  BIC:               </th> <td>   6164.</td>\n",
       "</tr>\n",
       "<tr>\n",
       "  <th>Df Model:</th>              <td>     1</td>      <th>                     </th>     <td> </td>   \n",
       "</tr>\n",
       "<tr>\n",
       "  <th>Covariance Type:</th>      <td>nonrobust</td>    <th>                     </th>     <td> </td>   \n",
       "</tr>\n",
       "</table>"
      ],
      "text/plain": [
       "<class 'statsmodels.iolib.table.SimpleTable'>"
      ]
     },
     "execution_count": 22,
     "metadata": {},
     "output_type": "execute_result"
    }
   ],
   "source": [
    "results.summary().tables[0]"
   ]
  },
  {
   "cell_type": "code",
   "execution_count": 23,
   "metadata": {},
   "outputs": [
    {
     "data": {
      "text/html": [
       "<table class=\"simpletable\">\n",
       "<tr>\n",
       "      <td></td>         <th>coef</th>     <th>std err</th>      <th>t</th>      <th>P>|t|</th>  <th>[0.025</th>    <th>0.975]</th>  \n",
       "</tr>\n",
       "<tr>\n",
       "  <th>Intercept</th> <td>   29.9174</td> <td>    1.622</td> <td>   18.439</td> <td> 0.000</td> <td>   26.735</td> <td>   33.100</td>\n",
       "</tr>\n",
       "<tr>\n",
       "  <th>Mheight</th>   <td>    0.5417</td> <td>    0.026</td> <td>   20.868</td> <td> 0.000</td> <td>    0.491</td> <td>    0.593</td>\n",
       "</tr>\n",
       "</table>"
      ],
      "text/plain": [
       "<class 'statsmodels.iolib.table.SimpleTable'>"
      ]
     },
     "execution_count": 23,
     "metadata": {},
     "output_type": "execute_result"
    }
   ],
   "source": [
    "results.summary().tables[1]"
   ]
  },
  {
   "cell_type": "markdown",
   "metadata": {},
   "source": [
    "The following command gives a listing of all the the individual pieces of information we could extract from the ols results object:"
   ]
  },
  {
   "cell_type": "code",
   "execution_count": 24,
   "metadata": {},
   "outputs": [
    {
     "data": {
      "text/plain": [
       "['HC0_se',\n",
       " 'HC1_se',\n",
       " 'HC2_se',\n",
       " 'HC3_se',\n",
       " '_HCCM',\n",
       " '__class__',\n",
       " '__delattr__',\n",
       " '__dict__',\n",
       " '__dir__',\n",
       " '__doc__',\n",
       " '__eq__',\n",
       " '__format__',\n",
       " '__ge__',\n",
       " '__getattribute__',\n",
       " '__gt__',\n",
       " '__hash__',\n",
       " '__init__',\n",
       " '__init_subclass__',\n",
       " '__le__',\n",
       " '__lt__',\n",
       " '__module__',\n",
       " '__ne__',\n",
       " '__new__',\n",
       " '__reduce__',\n",
       " '__reduce_ex__',\n",
       " '__repr__',\n",
       " '__setattr__',\n",
       " '__sizeof__',\n",
       " '__str__',\n",
       " '__subclasshook__',\n",
       " '__weakref__',\n",
       " '_abat_diagonal',\n",
       " '_cache',\n",
       " '_data_attr',\n",
       " '_data_in_cache',\n",
       " '_get_robustcov_results',\n",
       " '_is_nested',\n",
       " '_use_t',\n",
       " '_wexog_singular_values',\n",
       " 'aic',\n",
       " 'bic',\n",
       " 'bse',\n",
       " 'centered_tss',\n",
       " 'compare_f_test',\n",
       " 'compare_lm_test',\n",
       " 'compare_lr_test',\n",
       " 'condition_number',\n",
       " 'conf_int',\n",
       " 'conf_int_el',\n",
       " 'cov_HC0',\n",
       " 'cov_HC1',\n",
       " 'cov_HC2',\n",
       " 'cov_HC3',\n",
       " 'cov_kwds',\n",
       " 'cov_params',\n",
       " 'cov_type',\n",
       " 'df_model',\n",
       " 'df_resid',\n",
       " 'diagn',\n",
       " 'eigenvals',\n",
       " 'el_test',\n",
       " 'ess',\n",
       " 'f_pvalue',\n",
       " 'f_test',\n",
       " 'fittedvalues',\n",
       " 'fvalue',\n",
       " 'get_influence',\n",
       " 'get_prediction',\n",
       " 'get_robustcov_results',\n",
       " 'info_criteria',\n",
       " 'initialize',\n",
       " 'k_constant',\n",
       " 'llf',\n",
       " 'load',\n",
       " 'model',\n",
       " 'mse_model',\n",
       " 'mse_resid',\n",
       " 'mse_total',\n",
       " 'nobs',\n",
       " 'normalized_cov_params',\n",
       " 'outlier_test',\n",
       " 'params',\n",
       " 'predict',\n",
       " 'pvalues',\n",
       " 'remove_data',\n",
       " 'resid',\n",
       " 'resid_pearson',\n",
       " 'rsquared',\n",
       " 'rsquared_adj',\n",
       " 'save',\n",
       " 'scale',\n",
       " 'ssr',\n",
       " 'summary',\n",
       " 'summary2',\n",
       " 't_test',\n",
       " 't_test_pairwise',\n",
       " 'tvalues',\n",
       " 'uncentered_tss',\n",
       " 'use_t',\n",
       " 'wald_test',\n",
       " 'wald_test_terms',\n",
       " 'wresid']"
      ]
     },
     "execution_count": 24,
     "metadata": {},
     "output_type": "execute_result"
    }
   ],
   "source": [
    "dir(results)"
   ]
  },
  {
   "cell_type": "code",
   "execution_count": 25,
   "metadata": {},
   "outputs": [
    {
     "data": {
      "text/html": [
       "<table class=\"simpletable\">\n",
       "<caption>OLS Regression Results</caption>\n",
       "<tr>\n",
       "  <th>Dep. Variable:</th>         <td>Dheight</td>     <th>  R-squared:         </th> <td>   0.241</td>\n",
       "</tr>\n",
       "<tr>\n",
       "  <th>Model:</th>                   <td>OLS</td>       <th>  Adj. R-squared:    </th> <td>   0.240</td>\n",
       "</tr>\n",
       "<tr>\n",
       "  <th>Method:</th>             <td>Least Squares</td>  <th>  F-statistic:       </th> <td>   435.5</td>\n",
       "</tr>\n",
       "<tr>\n",
       "  <th>Date:</th>             <td>Mon, 20 Mar 2023</td> <th>  Prob (F-statistic):</th> <td>3.22e-84</td>\n",
       "</tr>\n",
       "<tr>\n",
       "  <th>Time:</th>                 <td>09:42:23</td>     <th>  Log-Likelihood:    </th> <td> -3075.0</td>\n",
       "</tr>\n",
       "<tr>\n",
       "  <th>No. Observations:</th>      <td>  1375</td>      <th>  AIC:               </th> <td>   6154.</td>\n",
       "</tr>\n",
       "<tr>\n",
       "  <th>Df Residuals:</th>          <td>  1373</td>      <th>  BIC:               </th> <td>   6164.</td>\n",
       "</tr>\n",
       "<tr>\n",
       "  <th>Df Model:</th>              <td>     1</td>      <th>                     </th>     <td> </td>   \n",
       "</tr>\n",
       "<tr>\n",
       "  <th>Covariance Type:</th>      <td>nonrobust</td>    <th>                     </th>     <td> </td>   \n",
       "</tr>\n",
       "</table>\n",
       "<table class=\"simpletable\">\n",
       "<tr>\n",
       "      <td></td>         <th>coef</th>     <th>std err</th>      <th>t</th>      <th>P>|t|</th>  <th>[0.025</th>    <th>0.975]</th>  \n",
       "</tr>\n",
       "<tr>\n",
       "  <th>Intercept</th> <td>   29.9174</td> <td>    1.622</td> <td>   18.439</td> <td> 0.000</td> <td>   26.735</td> <td>   33.100</td>\n",
       "</tr>\n",
       "<tr>\n",
       "  <th>Mheight</th>   <td>    0.5417</td> <td>    0.026</td> <td>   20.868</td> <td> 0.000</td> <td>    0.491</td> <td>    0.593</td>\n",
       "</tr>\n",
       "</table>\n",
       "<table class=\"simpletable\">\n",
       "<tr>\n",
       "  <th>Omnibus:</th>       <td> 1.412</td> <th>  Durbin-Watson:     </th> <td>   0.126</td>\n",
       "</tr>\n",
       "<tr>\n",
       "  <th>Prob(Omnibus):</th> <td> 0.494</td> <th>  Jarque-Bera (JB):  </th> <td>   1.353</td>\n",
       "</tr>\n",
       "<tr>\n",
       "  <th>Skew:</th>          <td> 0.002</td> <th>  Prob(JB):          </th> <td>   0.508</td>\n",
       "</tr>\n",
       "<tr>\n",
       "  <th>Kurtosis:</th>      <td> 3.154</td> <th>  Cond. No.          </th> <td>1.66e+03</td>\n",
       "</tr>\n",
       "</table><br/><br/>Notes:<br/>[1] Standard Errors assume that the covariance matrix of the errors is correctly specified.<br/>[2] The condition number is large, 1.66e+03. This might indicate that there are<br/>strong multicollinearity or other numerical problems."
      ],
      "text/plain": [
       "<class 'statsmodels.iolib.summary.Summary'>\n",
       "\"\"\"\n",
       "                            OLS Regression Results                            \n",
       "==============================================================================\n",
       "Dep. Variable:                Dheight   R-squared:                       0.241\n",
       "Model:                            OLS   Adj. R-squared:                  0.240\n",
       "Method:                 Least Squares   F-statistic:                     435.5\n",
       "Date:                Mon, 20 Mar 2023   Prob (F-statistic):           3.22e-84\n",
       "Time:                        09:42:23   Log-Likelihood:                -3075.0\n",
       "No. Observations:                1375   AIC:                             6154.\n",
       "Df Residuals:                    1373   BIC:                             6164.\n",
       "Df Model:                           1                                         \n",
       "Covariance Type:            nonrobust                                         \n",
       "==============================================================================\n",
       "                 coef    std err          t      P>|t|      [0.025      0.975]\n",
       "------------------------------------------------------------------------------\n",
       "Intercept     29.9174      1.622     18.439      0.000      26.735      33.100\n",
       "Mheight        0.5417      0.026     20.868      0.000       0.491       0.593\n",
       "==============================================================================\n",
       "Omnibus:                        1.412   Durbin-Watson:                   0.126\n",
       "Prob(Omnibus):                  0.494   Jarque-Bera (JB):                1.353\n",
       "Skew:                           0.002   Prob(JB):                        0.508\n",
       "Kurtosis:                       3.154   Cond. No.                     1.66e+03\n",
       "==============================================================================\n",
       "\n",
       "Notes:\n",
       "[1] Standard Errors assume that the covariance matrix of the errors is correctly specified.\n",
       "[2] The condition number is large, 1.66e+03. This might indicate that there are\n",
       "strong multicollinearity or other numerical problems.\n",
       "\"\"\""
      ]
     },
     "execution_count": 25,
     "metadata": {},
     "output_type": "execute_result"
    }
   ],
   "source": [
    "results.summary()"
   ]
  },
  {
   "cell_type": "markdown",
   "metadata": {},
   "source": [
    "## Evaluating the Model Fit\n",
    "\n",
    "For example, use the model output to find the $R^2$ of the model."
   ]
  },
  {
   "cell_type": "code",
   "execution_count": 26,
   "metadata": {},
   "outputs": [
    {
     "data": {
      "text/html": [
       "<table class=\"simpletable\">\n",
       "<caption>OLS Regression Results</caption>\n",
       "<tr>\n",
       "  <th>Dep. Variable:</th>         <td>Dheight</td>     <th>  R-squared:         </th> <td>   0.241</td>\n",
       "</tr>\n",
       "<tr>\n",
       "  <th>Model:</th>                   <td>OLS</td>       <th>  Adj. R-squared:    </th> <td>   0.240</td>\n",
       "</tr>\n",
       "<tr>\n",
       "  <th>Method:</th>             <td>Least Squares</td>  <th>  F-statistic:       </th> <td>   435.5</td>\n",
       "</tr>\n",
       "<tr>\n",
       "  <th>Date:</th>             <td>Mon, 20 Mar 2023</td> <th>  Prob (F-statistic):</th> <td>3.22e-84</td>\n",
       "</tr>\n",
       "<tr>\n",
       "  <th>Time:</th>                 <td>09:42:23</td>     <th>  Log-Likelihood:    </th> <td> -3075.0</td>\n",
       "</tr>\n",
       "<tr>\n",
       "  <th>No. Observations:</th>      <td>  1375</td>      <th>  AIC:               </th> <td>   6154.</td>\n",
       "</tr>\n",
       "<tr>\n",
       "  <th>Df Residuals:</th>          <td>  1373</td>      <th>  BIC:               </th> <td>   6164.</td>\n",
       "</tr>\n",
       "<tr>\n",
       "  <th>Df Model:</th>              <td>     1</td>      <th>                     </th>     <td> </td>   \n",
       "</tr>\n",
       "<tr>\n",
       "  <th>Covariance Type:</th>      <td>nonrobust</td>    <th>                     </th>     <td> </td>   \n",
       "</tr>\n",
       "</table>\n",
       "<table class=\"simpletable\">\n",
       "<tr>\n",
       "      <td></td>         <th>coef</th>     <th>std err</th>      <th>t</th>      <th>P>|t|</th>  <th>[0.025</th>    <th>0.975]</th>  \n",
       "</tr>\n",
       "<tr>\n",
       "  <th>Intercept</th> <td>   29.9174</td> <td>    1.622</td> <td>   18.439</td> <td> 0.000</td> <td>   26.735</td> <td>   33.100</td>\n",
       "</tr>\n",
       "<tr>\n",
       "  <th>Mheight</th>   <td>    0.5417</td> <td>    0.026</td> <td>   20.868</td> <td> 0.000</td> <td>    0.491</td> <td>    0.593</td>\n",
       "</tr>\n",
       "</table>\n",
       "<table class=\"simpletable\">\n",
       "<tr>\n",
       "  <th>Omnibus:</th>       <td> 1.412</td> <th>  Durbin-Watson:     </th> <td>   0.126</td>\n",
       "</tr>\n",
       "<tr>\n",
       "  <th>Prob(Omnibus):</th> <td> 0.494</td> <th>  Jarque-Bera (JB):  </th> <td>   1.353</td>\n",
       "</tr>\n",
       "<tr>\n",
       "  <th>Skew:</th>          <td> 0.002</td> <th>  Prob(JB):          </th> <td>   0.508</td>\n",
       "</tr>\n",
       "<tr>\n",
       "  <th>Kurtosis:</th>      <td> 3.154</td> <th>  Cond. No.          </th> <td>1.66e+03</td>\n",
       "</tr>\n",
       "</table><br/><br/>Notes:<br/>[1] Standard Errors assume that the covariance matrix of the errors is correctly specified.<br/>[2] The condition number is large, 1.66e+03. This might indicate that there are<br/>strong multicollinearity or other numerical problems."
      ],
      "text/plain": [
       "<class 'statsmodels.iolib.summary.Summary'>\n",
       "\"\"\"\n",
       "                            OLS Regression Results                            \n",
       "==============================================================================\n",
       "Dep. Variable:                Dheight   R-squared:                       0.241\n",
       "Model:                            OLS   Adj. R-squared:                  0.240\n",
       "Method:                 Least Squares   F-statistic:                     435.5\n",
       "Date:                Mon, 20 Mar 2023   Prob (F-statistic):           3.22e-84\n",
       "Time:                        09:42:23   Log-Likelihood:                -3075.0\n",
       "No. Observations:                1375   AIC:                             6154.\n",
       "Df Residuals:                    1373   BIC:                             6164.\n",
       "Df Model:                           1                                         \n",
       "Covariance Type:            nonrobust                                         \n",
       "==============================================================================\n",
       "                 coef    std err          t      P>|t|      [0.025      0.975]\n",
       "------------------------------------------------------------------------------\n",
       "Intercept     29.9174      1.622     18.439      0.000      26.735      33.100\n",
       "Mheight        0.5417      0.026     20.868      0.000       0.491       0.593\n",
       "==============================================================================\n",
       "Omnibus:                        1.412   Durbin-Watson:                   0.126\n",
       "Prob(Omnibus):                  0.494   Jarque-Bera (JB):                1.353\n",
       "Skew:                           0.002   Prob(JB):                        0.508\n",
       "Kurtosis:                       3.154   Cond. No.                     1.66e+03\n",
       "==============================================================================\n",
       "\n",
       "Notes:\n",
       "[1] Standard Errors assume that the covariance matrix of the errors is correctly specified.\n",
       "[2] The condition number is large, 1.66e+03. This might indicate that there are\n",
       "strong multicollinearity or other numerical problems.\n",
       "\"\"\""
      ]
     },
     "execution_count": 26,
     "metadata": {},
     "output_type": "execute_result"
    }
   ],
   "source": [
    "results.summary()"
   ]
  },
  {
   "cell_type": "code",
   "execution_count": 27,
   "metadata": {},
   "outputs": [
    {
     "data": {
      "text/plain": [
       "0.24079567742206198"
      ]
     },
     "execution_count": 27,
     "metadata": {},
     "output_type": "execute_result"
    }
   ],
   "source": [
    "results.rsquared"
   ]
  },
  {
   "cell_type": "markdown",
   "metadata": {},
   "source": [
    "What percent of total variability of the daughter heights is explained by the model (or mother heights)?\n",
    "\n",
    "What percent of total variability of the daughter heights is NOT explained by the model (or mother heights)?\n",
    "\n",
    "## Inference for Regression\n",
    "\n",
    "We can fit a regression line for many reasons, although these reasons typically fall into one of two categories: summarizing a relationship or predicting a new value.\n",
    "\n",
    "If we are interested in summarizing a relationship, we often are not satisfied only with the single point estimate of the regression line (the point estimate being the single line that is fit based on our given sample).  We often want to apply inference procedures to make statements about our true but unknown population intercept and population slope.  In this section, we will demonstrate how we can perform this inference.\n",
    "\n",
    "### Checking the Conditions for Population Slope/Coefficient Inference\n",
    "\n",
    "For example, check the conditions for conducting simple linear regression inference on the slope and intercept of our model that predicts daughter height with mother height.\n",
    "\n",
    "#### <u>Condition 1: Linearity Condition</u>"
   ]
  },
  {
   "cell_type": "markdown",
   "metadata": {},
   "source": [
    "**Is a linear model a good fit for the data?**\n",
    "\n",
    "In order for multiple linear regression model to be a good fit of the data as well as for accurate inferences to be made (using the methods we discussed above), the first condition that must be satisfied is that there must be a linear relationship between the explanatory variables and the response variable.\n",
    "\n",
    "We can check this using what is called a residuals versus fitted plot.\n",
    "\n",
    "In the analysis of the heights data, the directory of component methods for the OLS results includes 'resid' and 'fittedvalues' among many others."
   ]
  },
  {
   "cell_type": "code",
   "execution_count": 28,
   "metadata": {},
   "outputs": [
    {
     "data": {
      "text/plain": [
       "0       62.259733\n",
       "1       61.447113\n",
       "2       62.747306\n",
       "3       62.801480\n",
       "4       63.397402\n",
       "          ...    \n",
       "1370    67.352155\n",
       "1371    65.130993\n",
       "1372    65.835264\n",
       "1373    68.273125\n",
       "1374    64.047499\n",
       "Length: 1375, dtype: float64"
      ]
     },
     "execution_count": 28,
     "metadata": {},
     "output_type": "execute_result"
    }
   ],
   "source": [
    "results.fittedvalues"
   ]
  },
  {
   "cell_type": "code",
   "execution_count": 29,
   "metadata": {},
   "outputs": [
    {
     "data": {
      "text/plain": [
       "0      -7.159733\n",
       "1      -4.947113\n",
       "2      -6.747306\n",
       "3      -6.001480\n",
       "4      -7.397402\n",
       "          ...   \n",
       "1370    2.747845\n",
       "1371    6.469007\n",
       "1372    5.564736\n",
       "1373    2.726875\n",
       "1374    9.052501\n",
       "Length: 1375, dtype: float64"
      ]
     },
     "execution_count": 29,
     "metadata": {},
     "output_type": "execute_result"
    }
   ],
   "source": [
    "results.resid"
   ]
  },
  {
   "cell_type": "markdown",
   "metadata": {},
   "source": [
    "**Fitted Values vs. Residuals Plot**"
   ]
  },
  {
   "cell_type": "code",
   "execution_count": 30,
   "metadata": {},
   "outputs": [
    {
     "data": {
      "image/png": "[encoded data removed]",
      "text/plain": [
       "<Figure size 432x288 with 1 Axes>"
      ]
     },
     "metadata": {},
     "output_type": "display_data"
    }
   ],
   "source": [
    "plt.scatter(results.fittedvalues, results.resid)\n",
    "plt.hlines(y=0, xmin=np.min(results.fittedvalues), xmax=np.max(results.fittedvalues))\n",
    "plt.ylabel('Residual')\n",
    "plt.xlabel('Fitted Value')\n",
    "plt.show()"
   ]
  },
  {
   "cell_type": "markdown",
   "metadata": {},
   "source": [
    "**Result for our data:** The points are roughly evenly distributed above and below the x-axis in the fitted values vs. residuals plot (for all ranges along the x-axis). Thus the linearity condition is met."
   ]
  },
  {
   "cell_type": "markdown",
   "metadata": {},
   "source": [
    "#### <u>Condition 2: Constant Variance of Residuals Condition</u>\n",
    "\n",
    "In order for our multiple linear regression model to make accurate inferences (using the methods we discussed above), the next condition that must be satisfied is that the variance of the residuals must remain constant (for all fitted values.\n",
    "\n",
    "To check this condition, we can use the same plot as the one used for checking the linearity condition.\n",
    "\n",
    "**Fitted Values vs. Residuals Plot**"
   ]
  },
  {
   "cell_type": "code",
   "execution_count": 31,
   "metadata": {},
   "outputs": [
    {
     "data": {
      "image/png": "[encoded data removed]",
      "text/plain": [
       "<Figure size 432x288 with 1 Axes>"
      ]
     },
     "metadata": {},
     "output_type": "display_data"
    }
   ],
   "source": [
    "plt.scatter(results.fittedvalues, results.resid)\n",
    "plt.hlines(y=0, xmin=np.min(results.fittedvalues), xmax=np.max(results.fittedvalues))\n",
    "plt.ylabel('Residual')\n",
    "plt.xlabel('Fitted Value')\n",
    "plt.show()"
   ]
  },
  {
   "cell_type": "markdown",
   "metadata": {},
   "source": [
    "#### Interpreting:\n",
    "* The constant variance of the residuals condition is met if the y-axis ranges of the points remains constant as you move from right to left in fitted values vs. residuals plot.\n"
   ]
  },
  {
   "cell_type": "code",
   "execution_count": 32,
   "metadata": {},
   "outputs": [
    {
     "data": {
      "image/png": "[encoded data removed]",
      "text/plain": [
       "<Figure size 432x288 with 1 Axes>"
      ]
     },
     "metadata": {},
     "output_type": "display_data"
    }
   ],
   "source": [
    "plt.scatter(results.fittedvalues, results.resid)\n",
    "plt.hlines(y=0, xmin=np.min(results.fittedvalues), xmax=np.max(results.fittedvalues))\n",
    "plt.ylabel('Residual')\n",
    "plt.xlabel('Fitted Value')\n",
    "plt.show()"
   ]
  },
  {
   "cell_type": "markdown",
   "metadata": {},
   "source": [
    "**Result for our data:** For the most part (except for on the edges) the y-axis ranges of the points in our fitted value vs. residuals plots stays around 10 (ie around [-5,5]). So the consant variance of residuals condition is mostly met."
   ]
  },
  {
   "cell_type": "markdown",
   "metadata": {},
   "source": [
    "#### <u>Condition 3: True Errors are Normal Distributed (with Mean of 0)</u>\n",
    "\n",
    "In order for our multiple linear regression model to make accurate inferences (using the methods we discussed above), the next condition that must be satisfied is that the true errors must be normally distributed and must have a mean of zero.\n",
    "\n",
    "To check this condition, we use the sample that we have available to us to approximate the true errors.  This is done with the residuals.  To assess the shape of the population distribution, we can look at a histogram of the residuals."
   ]
  },
  {
   "cell_type": "code",
   "execution_count": 33,
   "metadata": {},
   "outputs": [
    {
     "data": {
      "image/png": "[encoded data removed]",
      "text/plain": [
       "<Figure size 432x288 with 1 Axes>"
      ]
     },
     "metadata": {},
     "output_type": "display_data"
    }
   ],
   "source": [
    "plt.hist(results.resid)\n",
    "plt.xlabel('Residuals')\n",
    "plt.show()"
   ]
  },
  {
   "cell_type": "markdown",
   "metadata": {},
   "source": [
    "**Interpreting:**\n",
    "* We can assume that this condition is met if the shape of the histogram is roughly symmetric and unimodal and is centered at 0.\n"
   ]
  },
  {
   "cell_type": "markdown",
   "metadata": {},
   "source": [
    "**Result for our data:** Our histogram of residuals is roughly symmetric, unimodal, and centered at 0. Therefore the condition in which the residuals are normally distributed with a mean of 0 is met."
   ]
  },
  {
   "cell_type": "markdown",
   "metadata": {},
   "source": [
    "#### <u>Condition 4: Independence of Residuals</u>\n",
    "\n",
    "At the very least, we verify that:\n",
    "* the data is randomly sampled and\n",
    "* the sample size n=1375<10% of all mother/daughter pairs.\n",
    "\n",
    "Thus the condition for independence of residuals may not be violated in this particular way.\n",
    "\n",
    "However, it may still be the case that these residuals are not independent (for other reasons that you will discuss in later statistics classes)."
   ]
  },
  {
   "cell_type": "markdown",
   "metadata": {},
   "source": [
    "### Creating a $(1-\\alpha)\\cdot100$% Confidence Interval for a Population Slope"
   ]
  },
  {
   "cell_type": "markdown",
   "metadata": {},
   "source": [
    "For example, use the simple linear regression output table from Python to create a 95% confidence interval for the population slope."
   ]
  },
  {
   "cell_type": "code",
   "execution_count": 34,
   "metadata": {},
   "outputs": [
    {
     "data": {
      "text/html": [
       "<table class=\"simpletable\">\n",
       "<tr>\n",
       "      <td></td>         <th>coef</th>     <th>std err</th>      <th>t</th>      <th>P>|t|</th>  <th>[0.025</th>    <th>0.975]</th>  \n",
       "</tr>\n",
       "<tr>\n",
       "  <th>Intercept</th> <td>   29.9174</td> <td>    1.622</td> <td>   18.439</td> <td> 0.000</td> <td>   26.735</td> <td>   33.100</td>\n",
       "</tr>\n",
       "<tr>\n",
       "  <th>Mheight</th>   <td>    0.5417</td> <td>    0.026</td> <td>   20.868</td> <td> 0.000</td> <td>    0.491</td> <td>    0.593</td>\n",
       "</tr>\n",
       "</table>"
      ],
      "text/plain": [
       "<class 'statsmodels.iolib.table.SimpleTable'>"
      ]
     },
     "execution_count": 34,
     "metadata": {},
     "output_type": "execute_result"
    }
   ],
   "source": [
    "results.summary().tables[1]"
   ]
  },
  {
   "cell_type": "markdown",
   "metadata": {},
   "source": [
    "Recall our typical form of a confidence interval.  We will apply this same form to the confidence interval for a population slope.\n",
    "\n",
    "We will need to find our point estimate, standard error, and critical value ($t^*$).  See if you can identify the point estimate and standard error from the Python output above."
   ]
  },
  {
   "cell_type": "code",
   "execution_count": 35,
   "metadata": {},
   "outputs": [
    {
     "data": {
      "text/plain": [
       "1375"
      ]
     },
     "execution_count": 35,
     "metadata": {},
     "output_type": "execute_result"
    }
   ],
   "source": [
    "len(df)"
   ]
  },
  {
   "cell_type": "code",
   "execution_count": 36,
   "metadata": {},
   "outputs": [
    {
     "name": "stdout",
     "output_type": "stream",
     "text": [
      "Critical Value 1.9616932841053176\n"
     ]
    }
   ],
   "source": [
    "from scipy.stats import t\n",
    "#t.ppf(1-alpha/2, df=n-p-1)\n",
    "#n=number of observations\n",
    "#p=number of slopes in the regression equation (1 slope in this case... the one for MHeight)\n",
    "critical_value=t.ppf(1-.05/2, df=1375-1-1)\n",
    "print('Critical Value',critical_value)"
   ]
  },
  {
   "cell_type": "code",
   "execution_count": 37,
   "metadata": {},
   "outputs": [
    {
     "name": "stdout",
     "output_type": "stream",
     "text": [
      "Point Estimate (sample slope): 0.5417\n",
      "Standard Error (of sample slopes): 0.026\n",
      "95% Confidence Interval: 0.4906959746132617 0.5927040253867382\n"
     ]
    }
   ],
   "source": [
    "point_estimate=0.5417\n",
    "print('Point Estimate (sample slope):', point_estimate)\n",
    "standard_error=0.026\n",
    "print('Standard Error (of sample slopes):', standard_error)\n",
    "\n",
    "lower_bound=point_estimate-critical_value*standard_error\n",
    "upper_bound=point_estimate+critical_value*standard_error\n",
    "\n",
    "print('95% Confidence Interval:', lower_bound, upper_bound)"
   ]
  },
  {
   "cell_type": "markdown",
   "metadata": {},
   "source": [
    "Putting this all together, we can create a 95% confidence interval for $\\beta_1$, the POPULATION SLOPE of of the \"Mheight\" explanatory variable?\n",
    "\n",
    "\n",
    "$(\\hat{\\beta}_1-t^*_{n-p-1}SE_{\\hat{\\beta}_1}, \\hat{\\beta}_1+t^*_{n-p-1}SE_{\\hat{\\beta}_1})$\n",
    "\n",
    "$(\\hat{\\beta}_1-t^*_{1375-1-1}SE_{\\hat{\\beta}_1}, \\hat{\\beta}_1+t^*_{1375-1-1}SE_{\\hat{\\beta}_1})$\n",
    "\n",
    "\n",
    "$(0.5417-1.96 (0.026), 0.5417+1.96 (0.026))$\n",
    "\n",
    "$(0.49, 0.59)$"
   ]
  },
  {
   "cell_type": "markdown",
   "metadata": {},
   "source": [
    "In this case, we do not know the true population slope between mother and daughter heights.  We do not have a population of all mothers and daughters, but instead we have a sample of 1375 paired heights.\n",
    "\n",
    "Our confidence interval allows us to say that we estimate, with 95% confidence, that the true population slope to predict daughter heights using mother heights falls in the interval 0.49 to 0.59."
   ]
  },
  {
   "cell_type": "markdown",
   "metadata": {},
   "source": [
    "### Conducting a Hypothesis Test for a Population Slope\n",
    "\n",
    "For this section, we will test the Claim $H_A: \\beta_i\\neq 0$ by calculating a p-value."
   ]
  },
  {
   "cell_type": "markdown",
   "metadata": {},
   "source": [
    "In other words, we would like to test whether there is a linear relationship in the population of ALL mother and daughter heights.\n",
    "\n",
    "We can use the simple linear regression output table to answer the following questions.\n",
    "\n",
    "#### 1.  Write the hypotheses & set the significance level.\n",
    "\n",
    "$H_0: \\beta_i=0$\n",
    "\n",
    "$H_A: \\beta_i\\neq0$.\n",
    "\n",
    "We will use a threshold of $\\alpha = 0.05$ to determine if we have enough evidence to reject the null hypothesis.\n",
    "\n",
    "\n",
    "#### 2. Check the conditions/assumptions.\n",
    "\n",
    "We already checked the conditions for performing inference on $\\beta_i$ above, and we found that they all hold.\n",
    "\n",
    "(i.e. the linearity condition, the constant variance of residuals condition, the normality of residuals (with mean of 0) condition, and we will assume that the condition for the independence of residuals condition is met as well).\n",
    "\n",
    "\n",
    "#### 3. Gather the data.\n",
    "\n",
    "We have already loaded in the data and prepared for this by fitting the model.\n",
    "\n",
    "For regression, we can use information returned to us from the Python output when performing inference for the population slope."
   ]
  },
  {
   "cell_type": "code",
   "execution_count": 38,
   "metadata": {},
   "outputs": [
    {
     "data": {
      "text/html": [
       "<table class=\"simpletable\">\n",
       "<caption>OLS Regression Results</caption>\n",
       "<tr>\n",
       "  <th>Dep. Variable:</th>         <td>Dheight</td>     <th>  R-squared:         </th> <td>   0.241</td>\n",
       "</tr>\n",
       "<tr>\n",
       "  <th>Model:</th>                   <td>OLS</td>       <th>  Adj. R-squared:    </th> <td>   0.240</td>\n",
       "</tr>\n",
       "<tr>\n",
       "  <th>Method:</th>             <td>Least Squares</td>  <th>  F-statistic:       </th> <td>   435.5</td>\n",
       "</tr>\n",
       "<tr>\n",
       "  <th>Date:</th>             <td>Mon, 20 Mar 2023</td> <th>  Prob (F-statistic):</th> <td>3.22e-84</td>\n",
       "</tr>\n",
       "<tr>\n",
       "  <th>Time:</th>                 <td>09:42:23</td>     <th>  Log-Likelihood:    </th> <td> -3075.0</td>\n",
       "</tr>\n",
       "<tr>\n",
       "  <th>No. Observations:</th>      <td>  1375</td>      <th>  AIC:               </th> <td>   6154.</td>\n",
       "</tr>\n",
       "<tr>\n",
       "  <th>Df Residuals:</th>          <td>  1373</td>      <th>  BIC:               </th> <td>   6164.</td>\n",
       "</tr>\n",
       "<tr>\n",
       "  <th>Df Model:</th>              <td>     1</td>      <th>                     </th>     <td> </td>   \n",
       "</tr>\n",
       "<tr>\n",
       "  <th>Covariance Type:</th>      <td>nonrobust</td>    <th>                     </th>     <td> </td>   \n",
       "</tr>\n",
       "</table>\n",
       "<table class=\"simpletable\">\n",
       "<tr>\n",
       "      <td></td>         <th>coef</th>     <th>std err</th>      <th>t</th>      <th>P>|t|</th>  <th>[0.025</th>    <th>0.975]</th>  \n",
       "</tr>\n",
       "<tr>\n",
       "  <th>Intercept</th> <td>   29.9174</td> <td>    1.622</td> <td>   18.439</td> <td> 0.000</td> <td>   26.735</td> <td>   33.100</td>\n",
       "</tr>\n",
       "<tr>\n",
       "  <th>Mheight</th>   <td>    0.5417</td> <td>    0.026</td> <td>   20.868</td> <td> 0.000</td> <td>    0.491</td> <td>    0.593</td>\n",
       "</tr>\n",
       "</table>\n",
       "<table class=\"simpletable\">\n",
       "<tr>\n",
       "  <th>Omnibus:</th>       <td> 1.412</td> <th>  Durbin-Watson:     </th> <td>   0.126</td>\n",
       "</tr>\n",
       "<tr>\n",
       "  <th>Prob(Omnibus):</th> <td> 0.494</td> <th>  Jarque-Bera (JB):  </th> <td>   1.353</td>\n",
       "</tr>\n",
       "<tr>\n",
       "  <th>Skew:</th>          <td> 0.002</td> <th>  Prob(JB):          </th> <td>   0.508</td>\n",
       "</tr>\n",
       "<tr>\n",
       "  <th>Kurtosis:</th>      <td> 3.154</td> <th>  Cond. No.          </th> <td>1.66e+03</td>\n",
       "</tr>\n",
       "</table><br/><br/>Notes:<br/>[1] Standard Errors assume that the covariance matrix of the errors is correctly specified.<br/>[2] The condition number is large, 1.66e+03. This might indicate that there are<br/>strong multicollinearity or other numerical problems."
      ],
      "text/plain": [
       "<class 'statsmodels.iolib.summary.Summary'>\n",
       "\"\"\"\n",
       "                            OLS Regression Results                            \n",
       "==============================================================================\n",
       "Dep. Variable:                Dheight   R-squared:                       0.241\n",
       "Model:                            OLS   Adj. R-squared:                  0.240\n",
       "Method:                 Least Squares   F-statistic:                     435.5\n",
       "Date:                Mon, 20 Mar 2023   Prob (F-statistic):           3.22e-84\n",
       "Time:                        09:42:23   Log-Likelihood:                -3075.0\n",
       "No. Observations:                1375   AIC:                             6154.\n",
       "Df Residuals:                    1373   BIC:                             6164.\n",
       "Df Model:                           1                                         \n",
       "Covariance Type:            nonrobust                                         \n",
       "==============================================================================\n",
       "                 coef    std err          t      P>|t|      [0.025      0.975]\n",
       "------------------------------------------------------------------------------\n",
       "Intercept     29.9174      1.622     18.439      0.000      26.735      33.100\n",
       "Mheight        0.5417      0.026     20.868      0.000       0.491       0.593\n",
       "==============================================================================\n",
       "Omnibus:                        1.412   Durbin-Watson:                   0.126\n",
       "Prob(Omnibus):                  0.494   Jarque-Bera (JB):                1.353\n",
       "Skew:                           0.002   Prob(JB):                        0.508\n",
       "Kurtosis:                       3.154   Cond. No.                     1.66e+03\n",
       "==============================================================================\n",
       "\n",
       "Notes:\n",
       "[1] Standard Errors assume that the covariance matrix of the errors is correctly specified.\n",
       "[2] The condition number is large, 1.66e+03. This might indicate that there are\n",
       "strong multicollinearity or other numerical problems.\n",
       "\"\"\""
      ]
     },
     "execution_count": 38,
     "metadata": {},
     "output_type": "execute_result"
    }
   ],
   "source": [
    "results.summary()"
   ]
  },
  {
   "cell_type": "markdown",
   "metadata": {},
   "source": [
    "#### 4. Calculate the test statistic and *p*-value.\n",
    "\n",
    "Since we are using Python output, we can check the table to identify the test statistic and *p*-value.  The test statistic for the slope is $t = 20.868$ with a two-sided *p*-value of $0.000$, or smaller than 0.000.\n",
    "\n",
    "#### 5. Evaluate your *p*-value.\n",
    "\n",
    "Based on my very small *p*-value, which is much smaller than my significance level (and in fact smaller than almost any reasonable significance level), I would reject the null hypothesis.\n",
    "\n",
    "I can then say that I have sufficient evidence to suggest that the population slope to predict a daughter's height from her mother's height is non-zero.\n",
    "\n",
    "#### Confirm the calculations by hand.\n",
    "\n",
    "Python does report the test statistic and *p*-value directly in the Python output.  However, we can also confirm this calculation using our typical approach."
   ]
  },
  {
   "cell_type": "code",
   "execution_count": 39,
   "metadata": {},
   "outputs": [
    {
     "name": "stdout",
     "output_type": "stream",
     "text": [
      "Test Statistic 20.834615384615383\n"
     ]
    }
   ],
   "source": [
    "test_stat=(.5417-0)/.026\n",
    "print('Test Statistic', test_stat)"
   ]
  },
  {
   "cell_type": "markdown",
   "metadata": {},
   "source": [
    "We can use the t-distribution object in Python to confirm the *p*-value calculation. "
   ]
  },
  {
   "cell_type": "code",
   "execution_count": 40,
   "metadata": {},
   "outputs": [
    {
     "name": "stdout",
     "output_type": "stream",
     "text": [
      "p-value: 0.0\n"
     ]
    }
   ],
   "source": [
    "from scipy.stats import t\n",
    "\n",
    "#Sample size\n",
    "n=1375\n",
    "#Number of slopes in the regression (p=1 just mother height)\n",
    "p=1\n",
    "\n",
    "pvalue=2*(1-t.cdf(test_stat, df=n-p-1))\n",
    "print('p-value:', pvalue)"
   ]
  },
  {
   "cell_type": "markdown",
   "metadata": {},
   "source": [
    "Similarly, we could have continued to use the 95% confidence interval from earlier to assess our theories about the population slope here."
   ]
  },
  {
   "cell_type": "markdown",
   "metadata": {},
   "source": [
    "## Making a prediction with a simple linear regression"
   ]
  },
  {
   "cell_type": "markdown",
   "metadata": {},
   "source": [
    "The second common motivation for fitting a regression model is to help with making a prediction.\n",
    "\n",
    "For example, use your simple linear regression equation to predict the height of a daughter whose mother is 66”. \n",
    "\n",
    "We will first perform this prediction \"by hand\" using the results of the linear model.\n",
    "\n",
    "We can extract the slope(s) and intercept of our regression equation by using the **.params** attribute."
   ]
  },
  {
   "cell_type": "code",
   "execution_count": 41,
   "metadata": {},
   "outputs": [
    {
     "data": {
      "text/plain": [
       "Intercept    29.917437\n",
       "Mheight       0.541747\n",
       "dtype: float64"
      ]
     },
     "execution_count": 41,
     "metadata": {},
     "output_type": "execute_result"
    }
   ],
   "source": [
    "results.params # estimated regression coefficients"
   ]
  },
  {
   "cell_type": "markdown",
   "metadata": {},
   "source": [
    "What is the daughter's predicted height if her mother's height is 66 inches? Looking at the output we would compute:\n",
    "\n",
    "$\n",
    "\\hat{y}_{new} = 29.9174 + 0.5417 * (Mheight)\n",
    "$\n",
    "\n",
    "$\n",
    "\\hat{y}_{new} = 29.9174 + 0.5417 * 66 = 65.6696\n",
    "$"
   ]
  },
  {
   "cell_type": "code",
   "execution_count": 42,
   "metadata": {},
   "outputs": [
    {
     "data": {
      "text/plain": [
       "65.6696"
      ]
     },
     "execution_count": 42,
     "metadata": {},
     "output_type": "execute_result"
    }
   ],
   "source": [
    "# manual calculation:\n",
    "29.9174 + 0.5417*66"
   ]
  },
  {
   "cell_type": "code",
   "execution_count": 43,
   "metadata": {},
   "outputs": [
    {
     "data": {
      "text/plain": [
       "65.67273954442378"
      ]
     },
     "execution_count": 43,
     "metadata": {},
     "output_type": "execute_result"
    }
   ],
   "source": [
    "# calculation by extracting parameter estimates:\n",
    "sum(results.params * [1, 66])"
   ]
  },
  {
   "cell_type": "markdown",
   "metadata": {},
   "source": [
    "Instead of calculating by hand, we could also use Python to automatically generate this prediction.\n",
    "\n",
    "Statmodels has a method for performing this prediction and enhancing it with additional information. We use the **.predict()** function. The argument \"exog=\" requires a dictionary list of the exogenous (explanatory) variables and their values."
   ]
  },
  {
   "cell_type": "code",
   "execution_count": 44,
   "metadata": {},
   "outputs": [
    {
     "data": {
      "text/plain": [
       "0    65.67274\n",
       "dtype: float64"
      ]
     },
     "execution_count": 44,
     "metadata": {},
     "output_type": "execute_result"
    }
   ],
   "source": [
    "results.predict(exog=dict(Mheight=66))"
   ]
  },
  {
   "cell_type": "markdown",
   "metadata": {},
   "source": [
    "We can verify that our predictions are equivalent regardless of if we use Python or calculate by hand from the results of the linear model."
   ]
  },
  {
   "cell_type": "markdown",
   "metadata": {},
   "source": [
    "One of the nice features of the Python function is that we can perform predictions for multiple observations simultaneously with one line of code.\n",
    "\n",
    "What are the heights of daughter's with mother's whose heights are: 60\", 68\", and 70\" respectively?"
   ]
  },
  {
   "cell_type": "code",
   "execution_count": 45,
   "metadata": {},
   "outputs": [
    {
     "data": {
      "text/plain": [
       "0    62.422257\n",
       "1    66.756234\n",
       "2    67.839728\n",
       "dtype: float64"
      ]
     },
     "execution_count": 45,
     "metadata": {},
     "output_type": "execute_result"
    }
   ],
   "source": [
    "results.predict(exog=dict(Mheight=[60, 68, 70]))"
   ]
  },
  {
   "cell_type": "markdown",
   "metadata": {},
   "source": [
    "---\n",
    "STAT 207, Julie Deeke, Victoria Ellison, and Douglas Simpson, University of Illinois at Urbana-Champaign"
   ]
  }
 ],
 "metadata": {
  "kernelspec": {
   "display_name": "Python 3 (ipykernel)",
   "language": "python",
   "name": "python3"
  },
  "language_info": {
   "codemirror_mode": {
    "name": "ipython",
    "version": 3
   },
   "file_extension": ".py",
   "mimetype": "text/x-python",
   "name": "python",
   "nbconvert_exporter": "python",
   "pygments_lexer": "ipython3",
   "version": "3.8.11"
  }
 },
 "nbformat": 4,
 "nbformat_minor": 2
}
