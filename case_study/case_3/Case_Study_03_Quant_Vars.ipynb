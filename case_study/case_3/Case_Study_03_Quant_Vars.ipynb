{
 "cells": [
  {
   "cell_type": "markdown",
   "id": "24990094",
   "metadata": {},
   "source": [
    "# <u>Case Study 3: Summarizing Quantitative Variables</u>\n",
    "\n",
    "We'll return to the Instagram data that we previously saw in Case Study 1.  In Case Study 1, we focused on summarizing categorical variables with calculated statistics and visualizations.  Now, we'll consider how best to summarize the quantitative variables in the data set.\n",
    "\n",
    "Specifically, we will:\n",
    "- use descriptive analytics to compare the distributions of the number of posts made by fake and real Instagram accounts\n",
    "- explore whether there is an association between the number of posts made by fake and made by real Instagram accounts in this data.\n",
    "\n",
    "## Case Study Task Summary\n",
    "\n",
    "In this section, we will first prepare our data for analysis.  We then analyze the quantitative variables.  Key tasks in this Case Study are:\n",
    "\n",
    "- **Missing value codes** - non-standard missing value types in an external file can be specified as an option in the pandas `read.csv` function.  Checking for missing values is important, both because they can cause errors in computing and because they can influence interpretation of results.\n",
    "- **Quantitative/numerical data** - variables that contain specific numerical information for each individual observation.  In a pandas data frame, we expect an entire column to be either quantitative (numerical), qualitative (categories, several possible text values, similar to \"multiple choice\" answers), or logical (special type of categories: True or False).\n",
    "- **Histograms** and **density plots** are useful for capturing the distirbution of the data, showing modes, relative frequencies, and other features of the data in one graph.\n",
    "- **Summary statistics** such as **mean**, **median**, **mode**, or **quantiles** of the data capture certain features that are often of interest in their own right or for comparison across levels of another variable.\n",
    "- **Box plots** and **violin plots** provide quick views of key percentiles of a sample distribution and are especially useful for comparing distributions of quantitative variables by levels of another categorical variable.\n",
    "- **Packages**: pandas, numpy, matplotlib.pyplot, seaborn\n",
    "- **Skills**: define our own functions to perform common tasks\n",
    "\n",
    "## Imports\n",
    "\n",
    "We begin by importing the Python packages that we will use in our analysis."
   ]
  },
  {
   "cell_type": "code",
   "execution_count": 1,
   "id": "d0a7538b",
   "metadata": {},
   "outputs": [],
   "source": [
    "import pandas as pd      # 'pd' is our nickname for 'pandas'\n",
    "import matplotlib.pyplot as plt\n",
    "import seaborn as sns; sns.set()"
   ]
  },
  {
   "cell_type": "markdown",
   "id": "5a563239",
   "metadata": {},
   "source": [
    "## Instagram Data\n",
    "\n",
    "We will continue working with the Instagram data.  However, we will use a new version of the file: **fake_insta_updated.csv**.  \n",
    "\n",
    "**Be careful!  This new csv may have more realistic \"issues\" with it than the \"clean\" fake_insta.csv file we used in Case Study 1!**"
   ]
  },
  {
   "cell_type": "code",
   "execution_count": 2,
   "id": "bf4a1c3a",
   "metadata": {},
   "outputs": [
    {
     "data": {
      "text/html": [
       "<div>\n",
       "<style scoped>\n",
       "    .dataframe tbody tr th:only-of-type {\n",
       "        vertical-align: middle;\n",
       "    }\n",
       "\n",
       "    .dataframe tbody tr th {\n",
       "        vertical-align: top;\n",
       "    }\n",
       "\n",
       "    .dataframe thead th {\n",
       "        text-align: right;\n",
       "    }\n",
       "</style>\n",
       "<table border=\"1\" class=\"dataframe\">\n",
       "  <thead>\n",
       "    <tr style=\"text-align: right;\">\n",
       "      <th></th>\n",
       "      <th>has_a_profile_pic</th>\n",
       "      <th>number_of_words_in_name</th>\n",
       "      <th>num_characters_in_bio</th>\n",
       "      <th>number_of_posts</th>\n",
       "      <th>number_of_followers</th>\n",
       "      <th>number_of_follows</th>\n",
       "      <th>account_type</th>\n",
       "    </tr>\n",
       "  </thead>\n",
       "  <tbody>\n",
       "    <tr>\n",
       "      <th>0</th>\n",
       "      <td>yes</td>\n",
       "      <td>1</td>\n",
       "      <td>30</td>\n",
       "      <td>35</td>\n",
       "      <td>488</td>\n",
       "      <td>604</td>\n",
       "      <td>real</td>\n",
       "    </tr>\n",
       "    <tr>\n",
       "      <th>1</th>\n",
       "      <td>yes</td>\n",
       "      <td>5</td>\n",
       "      <td>64</td>\n",
       "      <td>3</td>\n",
       "      <td>35</td>\n",
       "      <td>6</td>\n",
       "      <td>real</td>\n",
       "    </tr>\n",
       "    <tr>\n",
       "      <th>2</th>\n",
       "      <td>yes</td>\n",
       "      <td>2</td>\n",
       "      <td>82</td>\n",
       "      <td>319</td>\n",
       "      <td>328</td>\n",
       "      <td>668</td>\n",
       "      <td>real</td>\n",
       "    </tr>\n",
       "    <tr>\n",
       "      <th>3</th>\n",
       "      <td>yes</td>\n",
       "      <td>1</td>\n",
       "      <td>143</td>\n",
       "      <td>273</td>\n",
       "      <td>14890</td>\n",
       "      <td>7369</td>\n",
       "      <td>real</td>\n",
       "    </tr>\n",
       "    <tr>\n",
       "      <th>4</th>\n",
       "      <td>yes</td>\n",
       "      <td>1</td>\n",
       "      <td>76</td>\n",
       "      <td>6</td>\n",
       "      <td>225</td>\n",
       "      <td>356</td>\n",
       "      <td>real</td>\n",
       "    </tr>\n",
       "  </tbody>\n",
       "</table>\n",
       "</div>"
      ],
      "text/plain": [
       "  has_a_profile_pic  number_of_words_in_name  num_characters_in_bio  \\\n",
       "0               yes                        1                     30   \n",
       "1               yes                        5                     64   \n",
       "2               yes                        2                     82   \n",
       "3               yes                        1                    143   \n",
       "4               yes                        1                     76   \n",
       "\n",
       "   number_of_posts  number_of_followers number_of_follows account_type  \n",
       "0               35                  488               604         real  \n",
       "1                3                   35                 6         real  \n",
       "2              319                  328               668         real  \n",
       "3              273                14890              7369         real  \n",
       "4                6                  225               356         real  "
      ]
     },
     "execution_count": 2,
     "metadata": {},
     "output_type": "execute_result"
    }
   ],
   "source": [
    "# read into a data frame\n",
    "df = pd.read_csv('fake_insta_updated.csv')\n",
    "df.head()"
   ]
  },
  {
   "cell_type": "code",
   "execution_count": 3,
   "id": "6ef0bffb",
   "metadata": {},
   "outputs": [
    {
     "data": {
      "text/plain": [
       "(120, 7)"
      ]
     },
     "execution_count": 3,
     "metadata": {},
     "output_type": "execute_result"
    }
   ],
   "source": [
    "df.shape"
   ]
  },
  {
   "cell_type": "markdown",
   "id": "d95efada",
   "metadata": {},
   "source": [
    "Again, we see that there are 120 rows (i.e. observational unit = Instagram account), which is the same as Case Study 1.\n",
    "\n",
    "## 1. Identifying Missing Data\n",
    "\n",
    "How do we check for missing data observations that have not yet been \"detected\" or \"coded\" as NaN?\n",
    "\n",
    "First, let's see how many \"missing values\" we can *detect* by default.  There may be some undetectable missing values as well."
   ]
  },
  {
   "cell_type": "code",
   "execution_count": 4,
   "id": "fe5cc9c8",
   "metadata": {},
   "outputs": [
    {
     "data": {
      "text/plain": [
       "has_a_profile_pic          0\n",
       "number_of_words_in_name    0\n",
       "num_characters_in_bio      0\n",
       "number_of_posts            0\n",
       "number_of_followers        0\n",
       "number_of_follows          0\n",
       "account_type               0\n",
       "dtype: int64"
      ]
     },
     "execution_count": 4,
     "metadata": {},
     "output_type": "execute_result"
    }
   ],
   "source": [
    "df.isna().sum()"
   ]
  },
  {
   "cell_type": "markdown",
   "id": "4e47683d",
   "metadata": {},
   "source": [
    "Currently, we are not detecting any missing values for any variable.\n",
    "\n",
    "We can also investigate the *type* of data contained in each column in the data frame df, using the **`.dtypes`** attribute."
   ]
  },
  {
   "cell_type": "code",
   "execution_count": 5,
   "id": "439aaf8b",
   "metadata": {},
   "outputs": [
    {
     "data": {
      "text/plain": [
       "has_a_profile_pic          object\n",
       "number_of_words_in_name     int64\n",
       "num_characters_in_bio       int64\n",
       "number_of_posts             int64\n",
       "number_of_followers         int64\n",
       "number_of_follows          object\n",
       "account_type               object\n",
       "dtype: object"
      ]
     },
     "execution_count": 5,
     "metadata": {},
     "output_type": "execute_result"
    }
   ],
   "source": [
    "df.dtypes"
   ]
  },
  {
   "cell_type": "markdown",
   "id": "98207f98",
   "metadata": {},
   "source": [
    "What is unusual about this output?  The number of follows that an Instagram account has should be an integer.  We can see that the other numerical variables in this data frame (i.e., number_of_words_in_name, num_characters_in_bio, number_of_posts, number_of_followers) are comprised of \"int64\" (i.e. integer) observations.\n",
    "\n",
    "So why is 'number_of_follows' different and not listed as containing only integers?\n",
    "\n",
    "Let's investigate the values that this column takes.  We can use the **`.unique`** function to list all unique values in this column."
   ]
  },
  {
   "cell_type": "code",
   "execution_count": 6,
   "id": "1f85f6aa",
   "metadata": {},
   "outputs": [
    {
     "data": {
      "text/plain": [
       "array(['604', '6', '668', '7369', '356', '424', '254', '521', '143',\n",
       "       '358', '492', '436', '437', '622', '141', '337', '499', '605',\n",
       "       '199', '694', '276', \"Don't know/Refused (VOL.)\", '367', '157',\n",
       "       '545', '138', '1395', '490', '347', '5514', '552', '573', '963',\n",
       "       '449', '562', '346', '151', '148', '3504', '185', '293', '549',\n",
       "       '466', '993', '1111', '40', '1055', '482', '47', '274', '223',\n",
       "       '363', '568', '535', '577', '474', '505', '2', '64', '30', '82',\n",
       "       '124', '25', '33', '34', '38', '18', '1', '15', '22', '353', '24',\n",
       "       '2287', '6153', '31', '250', '6172', '2129', '324', '126', '350',\n",
       "       '764', '3239', '920', '105', '58', '55', '175', '202', '636', '72',\n",
       "       '7453', '162', '829', '776', '942', '1445', '4239', '1381', '669',\n",
       "       '235', '7', '270', '76', '811', '164', '3572', '1695', '68'],\n",
       "      dtype=object)"
      ]
     },
     "execution_count": 6,
     "metadata": {},
     "output_type": "execute_result"
    }
   ],
   "source": [
    "df['number_of_follows'].unique()"
   ]
  },
  {
   "cell_type": "markdown",
   "id": "8d634b65",
   "metadata": {},
   "source": [
    "Looking through the unique values, you might notice that one of these is not like the rest!\n",
    "\n",
    "The text entry \"Don't know/Refused (VOL.)\" is a type of **missing value**.  Our numerical functions might not be able to analyze this value.  We see that already, because of the text entry, the entire column was read as character data rather than numerical data.\n",
    "\n",
    "We can tell Python when importing the data that \"Don't know/Refused (VOL.)\" should be converted to a NaN.  This will \"clean\" the data by adding \"Don't know/Refused (VOL.)\" to the list of missing values."
   ]
  },
  {
   "cell_type": "code",
   "execution_count": 7,
   "id": "4853b962",
   "metadata": {},
   "outputs": [
    {
     "data": {
      "text/html": [
       "<div>\n",
       "<style scoped>\n",
       "    .dataframe tbody tr th:only-of-type {\n",
       "        vertical-align: middle;\n",
       "    }\n",
       "\n",
       "    .dataframe tbody tr th {\n",
       "        vertical-align: top;\n",
       "    }\n",
       "\n",
       "    .dataframe thead th {\n",
       "        text-align: right;\n",
       "    }\n",
       "</style>\n",
       "<table border=\"1\" class=\"dataframe\">\n",
       "  <thead>\n",
       "    <tr style=\"text-align: right;\">\n",
       "      <th></th>\n",
       "      <th>has_a_profile_pic</th>\n",
       "      <th>number_of_words_in_name</th>\n",
       "      <th>num_characters_in_bio</th>\n",
       "      <th>number_of_posts</th>\n",
       "      <th>number_of_followers</th>\n",
       "      <th>number_of_follows</th>\n",
       "      <th>account_type</th>\n",
       "    </tr>\n",
       "  </thead>\n",
       "  <tbody>\n",
       "    <tr>\n",
       "      <th>0</th>\n",
       "      <td>yes</td>\n",
       "      <td>1</td>\n",
       "      <td>30</td>\n",
       "      <td>35</td>\n",
       "      <td>488</td>\n",
       "      <td>604.0</td>\n",
       "      <td>real</td>\n",
       "    </tr>\n",
       "    <tr>\n",
       "      <th>1</th>\n",
       "      <td>yes</td>\n",
       "      <td>5</td>\n",
       "      <td>64</td>\n",
       "      <td>3</td>\n",
       "      <td>35</td>\n",
       "      <td>6.0</td>\n",
       "      <td>real</td>\n",
       "    </tr>\n",
       "    <tr>\n",
       "      <th>2</th>\n",
       "      <td>yes</td>\n",
       "      <td>2</td>\n",
       "      <td>82</td>\n",
       "      <td>319</td>\n",
       "      <td>328</td>\n",
       "      <td>668.0</td>\n",
       "      <td>real</td>\n",
       "    </tr>\n",
       "    <tr>\n",
       "      <th>3</th>\n",
       "      <td>yes</td>\n",
       "      <td>1</td>\n",
       "      <td>143</td>\n",
       "      <td>273</td>\n",
       "      <td>14890</td>\n",
       "      <td>7369.0</td>\n",
       "      <td>real</td>\n",
       "    </tr>\n",
       "    <tr>\n",
       "      <th>4</th>\n",
       "      <td>yes</td>\n",
       "      <td>1</td>\n",
       "      <td>76</td>\n",
       "      <td>6</td>\n",
       "      <td>225</td>\n",
       "      <td>356.0</td>\n",
       "      <td>real</td>\n",
       "    </tr>\n",
       "  </tbody>\n",
       "</table>\n",
       "</div>"
      ],
      "text/plain": [
       "  has_a_profile_pic  number_of_words_in_name  num_characters_in_bio  \\\n",
       "0               yes                        1                     30   \n",
       "1               yes                        5                     64   \n",
       "2               yes                        2                     82   \n",
       "3               yes                        1                    143   \n",
       "4               yes                        1                     76   \n",
       "\n",
       "   number_of_posts  number_of_followers  number_of_follows account_type  \n",
       "0               35                  488              604.0         real  \n",
       "1                3                   35                6.0         real  \n",
       "2              319                  328              668.0         real  \n",
       "3              273                14890             7369.0         real  \n",
       "4                6                  225              356.0         real  "
      ]
     },
     "execution_count": 7,
     "metadata": {},
     "output_type": "execute_result"
    }
   ],
   "source": [
    "# List of missing values that should be represented as NaN\n",
    "missing_values = [\"Don't know/Refused (VOL.)\"]\n",
    "\n",
    "# Read the data frame again, using an additional parameter\n",
    "df = pd.read_csv('fake_insta_updated.csv', na_values=missing_values)\n",
    "df.head()"
   ]
  },
  {
   "cell_type": "code",
   "execution_count": 8,
   "id": "214dde40",
   "metadata": {},
   "outputs": [
    {
     "data": {
      "text/plain": [
       "array([6.040e+02, 6.000e+00, 6.680e+02, 7.369e+03, 3.560e+02, 4.240e+02,\n",
       "       2.540e+02, 5.210e+02, 1.430e+02, 3.580e+02, 4.920e+02, 4.360e+02,\n",
       "       4.370e+02, 6.220e+02, 1.410e+02, 3.370e+02, 4.990e+02, 6.050e+02,\n",
       "       1.990e+02, 6.940e+02, 2.760e+02,       nan, 3.670e+02, 1.570e+02,\n",
       "       5.450e+02, 1.380e+02, 1.395e+03, 4.900e+02, 3.470e+02, 5.514e+03,\n",
       "       5.520e+02, 5.730e+02, 9.630e+02, 4.490e+02, 5.620e+02, 3.460e+02,\n",
       "       1.510e+02, 1.480e+02, 3.504e+03, 1.850e+02, 2.930e+02, 5.490e+02,\n",
       "       4.660e+02, 9.930e+02, 1.111e+03, 4.000e+01, 1.055e+03, 4.820e+02,\n",
       "       4.700e+01, 2.740e+02, 2.230e+02, 3.630e+02, 5.680e+02, 5.350e+02,\n",
       "       5.770e+02, 4.740e+02, 5.050e+02, 2.000e+00, 6.400e+01, 3.000e+01,\n",
       "       8.200e+01, 1.240e+02, 2.500e+01, 3.300e+01, 3.400e+01, 3.800e+01,\n",
       "       1.800e+01, 1.000e+00, 1.500e+01, 2.200e+01, 3.530e+02, 2.400e+01,\n",
       "       2.287e+03, 6.153e+03, 3.100e+01, 2.500e+02, 6.172e+03, 2.129e+03,\n",
       "       3.240e+02, 1.260e+02, 3.500e+02, 7.640e+02, 3.239e+03, 9.200e+02,\n",
       "       1.050e+02, 5.800e+01, 5.500e+01, 1.750e+02, 2.020e+02, 6.360e+02,\n",
       "       7.200e+01, 7.453e+03, 1.620e+02, 8.290e+02, 7.760e+02, 9.420e+02,\n",
       "       1.445e+03, 4.239e+03, 1.381e+03, 6.690e+02, 2.350e+02, 7.000e+00,\n",
       "       2.700e+02, 7.600e+01, 8.110e+02, 1.640e+02, 3.572e+03, 1.695e+03,\n",
       "       6.800e+01])"
      ]
     },
     "execution_count": 8,
     "metadata": {},
     "output_type": "execute_result"
    }
   ],
   "source": [
    "df['number_of_follows'].unique()"
   ]
  },
  {
   "cell_type": "markdown",
   "id": "155092e5",
   "metadata": {},
   "source": [
    "The missing value is now properly coded for further analysis purposes.  Importantly, number of follows is now a numerical variable rather than a text variable (numbers like 6.04e+02, aka $6.04 \\times 10^2 = 604$, and not character strings like '604').\n",
    "\n",
    "We can also see this when using the **`.dtypes`** attribute again.  Originally, 'number_of_follows' was clasified as a column of **objects**, which represents the mixed types of objects, indicating that they were not all **integer** nor all **float** object types.  Now, the type of the 'number_of_follows' column is listed as **float64**, indicating that all of the values in the column are comprised of **float** objects, or objects with decimals."
   ]
  },
  {
   "cell_type": "code",
   "execution_count": 9,
   "id": "8c5c5ee6",
   "metadata": {},
   "outputs": [
    {
     "data": {
      "text/plain": [
       "has_a_profile_pic           object\n",
       "number_of_words_in_name      int64\n",
       "num_characters_in_bio        int64\n",
       "number_of_posts              int64\n",
       "number_of_followers          int64\n",
       "number_of_follows          float64\n",
       "account_type                object\n",
       "dtype: object"
      ]
     },
     "execution_count": 9,
     "metadata": {},
     "output_type": "execute_result"
    }
   ],
   "source": [
    "df.dtypes"
   ]
  },
  {
   "cell_type": "code",
   "execution_count": 10,
   "id": "cc6e114f",
   "metadata": {},
   "outputs": [
    {
     "data": {
      "text/plain": [
       "has_a_profile_pic          0\n",
       "number_of_words_in_name    0\n",
       "num_characters_in_bio      0\n",
       "number_of_posts            0\n",
       "number_of_followers        0\n",
       "number_of_follows          2\n",
       "account_type               0\n",
       "dtype: int64"
      ]
     },
     "execution_count": 10,
     "metadata": {},
     "output_type": "execute_result"
    }
   ],
   "source": [
    "df.isna().sum()"
   ]
  },
  {
   "cell_type": "markdown",
   "id": "9118648f",
   "metadata": {},
   "source": [
    "How many NaN values are there now?  We can see that there were 2 missing values in the number_of_follows column.\n",
    "\n",
    "There are many ways to handle missing values in analysis.  For purposes of this case study, we will drop the two Instagram accounts that have missing values."
   ]
  },
  {
   "cell_type": "code",
   "execution_count": 11,
   "id": "66f059b0",
   "metadata": {},
   "outputs": [
    {
     "data": {
      "text/html": [
       "<div>\n",
       "<style scoped>\n",
       "    .dataframe tbody tr th:only-of-type {\n",
       "        vertical-align: middle;\n",
       "    }\n",
       "\n",
       "    .dataframe tbody tr th {\n",
       "        vertical-align: top;\n",
       "    }\n",
       "\n",
       "    .dataframe thead th {\n",
       "        text-align: right;\n",
       "    }\n",
       "</style>\n",
       "<table border=\"1\" class=\"dataframe\">\n",
       "  <thead>\n",
       "    <tr style=\"text-align: right;\">\n",
       "      <th></th>\n",
       "      <th>has_a_profile_pic</th>\n",
       "      <th>number_of_words_in_name</th>\n",
       "      <th>num_characters_in_bio</th>\n",
       "      <th>number_of_posts</th>\n",
       "      <th>number_of_followers</th>\n",
       "      <th>number_of_follows</th>\n",
       "      <th>account_type</th>\n",
       "    </tr>\n",
       "  </thead>\n",
       "  <tbody>\n",
       "    <tr>\n",
       "      <th>0</th>\n",
       "      <td>yes</td>\n",
       "      <td>1</td>\n",
       "      <td>30</td>\n",
       "      <td>35</td>\n",
       "      <td>488</td>\n",
       "      <td>604.0</td>\n",
       "      <td>real</td>\n",
       "    </tr>\n",
       "    <tr>\n",
       "      <th>1</th>\n",
       "      <td>yes</td>\n",
       "      <td>5</td>\n",
       "      <td>64</td>\n",
       "      <td>3</td>\n",
       "      <td>35</td>\n",
       "      <td>6.0</td>\n",
       "      <td>real</td>\n",
       "    </tr>\n",
       "    <tr>\n",
       "      <th>2</th>\n",
       "      <td>yes</td>\n",
       "      <td>2</td>\n",
       "      <td>82</td>\n",
       "      <td>319</td>\n",
       "      <td>328</td>\n",
       "      <td>668.0</td>\n",
       "      <td>real</td>\n",
       "    </tr>\n",
       "    <tr>\n",
       "      <th>3</th>\n",
       "      <td>yes</td>\n",
       "      <td>1</td>\n",
       "      <td>143</td>\n",
       "      <td>273</td>\n",
       "      <td>14890</td>\n",
       "      <td>7369.0</td>\n",
       "      <td>real</td>\n",
       "    </tr>\n",
       "    <tr>\n",
       "      <th>4</th>\n",
       "      <td>yes</td>\n",
       "      <td>1</td>\n",
       "      <td>76</td>\n",
       "      <td>6</td>\n",
       "      <td>225</td>\n",
       "      <td>356.0</td>\n",
       "      <td>real</td>\n",
       "    </tr>\n",
       "  </tbody>\n",
       "</table>\n",
       "</div>"
      ],
      "text/plain": [
       "  has_a_profile_pic  number_of_words_in_name  num_characters_in_bio  \\\n",
       "0               yes                        1                     30   \n",
       "1               yes                        5                     64   \n",
       "2               yes                        2                     82   \n",
       "3               yes                        1                    143   \n",
       "4               yes                        1                     76   \n",
       "\n",
       "   number_of_posts  number_of_followers  number_of_follows account_type  \n",
       "0               35                  488              604.0         real  \n",
       "1                3                   35                6.0         real  \n",
       "2              319                  328              668.0         real  \n",
       "3              273                14890             7369.0         real  \n",
       "4                6                  225              356.0         real  "
      ]
     },
     "execution_count": 11,
     "metadata": {},
     "output_type": "execute_result"
    }
   ],
   "source": [
    "df = df.dropna()\n",
    "df.head()"
   ]
  },
  {
   "cell_type": "code",
   "execution_count": 12,
   "id": "56746bcf",
   "metadata": {},
   "outputs": [
    {
     "data": {
      "text/plain": [
       "(118, 7)"
      ]
     },
     "execution_count": 12,
     "metadata": {},
     "output_type": "execute_result"
    }
   ],
   "source": [
    "df.shape"
   ]
  },
  {
   "cell_type": "markdown",
   "id": "cd761b01",
   "metadata": {},
   "source": [
    "Notice that our new data frame now has 2 rows less than it originally did.\n",
    "\n",
    "## 2. Visualizations for a Single Quantitative Variable\n",
    "\n",
    "We have three options for how to visualize a single quantitative variable:\n",
    "\n",
    "1. Histogram\n",
    "2. Box plot\n",
    "3. Violin plot\n",
    "\n",
    "We will focus on histograms for one variable now.  We will focus on box plots and violin plots when we graph two or more variables in one plot.\n",
    "\n",
    "## 3. Histograms\n",
    "\n",
    "Histograms are ways to visualize the values that are contained in the data for a variable, along with how popular each of these values are.\n",
    "\n",
    "### Frequency Histogram\n",
    "\n",
    "We can create a **frequency histogram**, which records the count for each observed value, by using the matplotlib.pyplot **`hist()`** function."
   ]
  },
  {
   "cell_type": "code",
   "execution_count": 13,
   "id": "43e1074e",
   "metadata": {},
   "outputs": [
    {
     "data": {
      "image/png": "[encoded data removed]",
      "text/plain": [
       "<Figure size 432x288 with 1 Axes>"
      ]
     },
     "metadata": {},
     "output_type": "display_data"
    }
   ],
   "source": [
    "# pandas function for histograms\n",
    "df['number_of_follows'].hist()\n",
    "plt.xlabel('Number of Follows')\n",
    "plt.ylabel('Frequency')\n",
    "plt.title('Instagram Accounts')\n",
    "plt.show()"
   ]
  },
  {
   "cell_type": "markdown",
   "id": "35146d5c",
   "metadata": {},
   "source": [
    "In this graph, the number of follows range is divided into equal width bins.  The height of the bar is the number of observations with number of follows values in that bin.  The total sum of the height of each of these bars should be the total sample size.  We can see that the data has a minimum around 0 and a maximum around 7500.\n",
    "\n",
    "### Density Histogram\n",
    "\n",
    "Often we want the **density histogram** instead of the **frequency histogram**.  In this plot, the **area** of each bar represents the **proportion** of the sample in that bin.  In the current version of matplotlib, we specify the option **density=True** to get the density histogram."
   ]
  },
  {
   "cell_type": "code",
   "execution_count": 14,
   "id": "36b6f4a3",
   "metadata": {},
   "outputs": [
    {
     "data": {
      "image/png": "[encoded data removed]",
      "text/plain": [
       "<Figure size 432x288 with 1 Axes>"
      ]
     },
     "metadata": {},
     "output_type": "display_data"
    }
   ],
   "source": [
    "# option for density histogram where area under the curve = 1\n",
    "df['number_of_follows'].hist(density=True)\n",
    "plt.xlabel('Number of Follows')\n",
    "plt.ylabel('Density')\n",
    "plt.title('Instagram Accounts')\n",
    "plt.show()"
   ]
  },
  {
   "cell_type": "markdown",
   "id": "7bcf410d",
   "metadata": {},
   "source": [
    "The shape of the density histogram looks the same as the frequency histogram, but it has been normalized to make the total area under the curve equal to 1.\n",
    "\n",
    "### Density Curve\n",
    "\n",
    "An alternative graph, using seaborn, includes both the **density histogram** and a smooth fitted **density curve** using the seaborn **`distplot()`** function.  The smooth density curve is another way to represent the distribution of the data, smoothing out some of the random jaggedness due to binning the data in the density histogram."
   ]
  },
  {
   "cell_type": "code",
   "execution_count": 15,
   "id": "e207c72b",
   "metadata": {},
   "outputs": [
    {
     "name": "stderr",
     "output_type": "stream",
     "text": [
      "/Users/jdeeke/miniconda3/lib/python3.8/site-packages/seaborn/distributions.py:2619: FutureWarning: `distplot` is a deprecated function and will be removed in a future version. Please adapt your code to use either `displot` (a figure-level function with similar flexibility) or `histplot` (an axes-level function for histograms).\n",
      "  warnings.warn(msg, FutureWarning)\n"
     ]
    },
    {
     "data": {
      "image/png": "[encoded data removed]",
      "text/plain": [
       "<Figure size 432x288 with 1 Axes>"
      ]
     },
     "metadata": {},
     "output_type": "display_data"
    }
   ],
   "source": [
    "# using seaborn function for histograms and density curves\n",
    "sns.distplot(df['number_of_follows'])\n",
    "plt.ylabel('Density')\n",
    "plt.xlabel('Number of follows')\n",
    "plt.show()"
   ]
  },
  {
   "cell_type": "markdown",
   "id": "25c04f4c",
   "metadata": {},
   "source": [
    "Note that there is a warning message but the graph is still generated.  For the time being, we will continue to use this graph.  An alternative approach to generate a similar graph is below.  \n",
    "\n",
    "Note that there is no warning message, but the code to generate quite a bit longer.  You may use either version, if requested.  \n",
    "\n",
    "Also note that this alternative does require another package called numpy.  You may need to download numpy from the command line using `conda install numpy`"
   ]
  },
  {
   "cell_type": "code",
   "execution_count": 16,
   "id": "50a7fd01",
   "metadata": {},
   "outputs": [
    {
     "data": {
      "image/png": "[encoded data removed]",
      "text/plain": [
       "<Figure size 432x288 with 1 Axes>"
      ]
     },
     "metadata": {},
     "output_type": "display_data"
    }
   ],
   "source": [
    "import numpy as np\n",
    "_, FD_bins = np.histogram(df['number_of_follows'], bins=\"fd\")\n",
    "bin_nr = min(len(FD_bins)-1, 50)\n",
    "sns.histplot(data=df, x=\"number_of_follows\", bins=bin_nr, stat=\"density\", \n",
    "             alpha=0.4, kde=True, kde_kws={\"cut\": 3})\n",
    "plt.title(\"Histogram of Number of Instagram Follows\")\n",
    "plt.xlabel(\"Number of Follows\")\n",
    "plt.show()"
   ]
  },
  {
   "cell_type": "markdown",
   "id": "d16ecb3f",
   "metadata": {},
   "source": [
    "What determines the vertical scale for the **density histogram** and the superimposed **smooth density curve**?  Each of these graphs represents the **relative frequency**, or the proportion, of values in different age ranges as the area under the curve for those ranges.  So the total area for the whole range must be 1.\n",
    "\n",
    "### Using Frequency Histograms\n",
    "\n",
    "How do we estimate the proportion of observations that are within a given range?  \n",
    "\n",
    "If we wanted the proportion of ages in the sample between 0 and 400, we would either:\n",
    "- calculate the sum of the areas of the histogram bars for that range (area = base width * height)\n",
    "- If you have a density curve, some approximation to the area underneath the curve.  In this example, we would approximate the area under the curve between 0 and 400.  Note that if the density curve is not a good approximation for the histogram, these estimations may be very different.\n",
    "\n",
    "In other words, we need to the area between the two green vertical lines in the figure below."
   ]
  },
  {
   "cell_type": "code",
   "execution_count": 17,
   "id": "c7dd942b",
   "metadata": {},
   "outputs": [
    {
     "name": "stderr",
     "output_type": "stream",
     "text": [
      "/Users/jdeeke/miniconda3/lib/python3.8/site-packages/seaborn/distributions.py:2619: FutureWarning: `distplot` is a deprecated function and will be removed in a future version. Please adapt your code to use either `displot` (a figure-level function with similar flexibility) or `histplot` (an axes-level function for histograms).\n",
      "  warnings.warn(msg, FutureWarning)\n"
     ]
    },
    {
     "data": {
      "image/png": "[encoded data removed]",
      "text/plain": [
       "<Figure size 432x288 with 1 Axes>"
      ]
     },
     "metadata": {},
     "output_type": "display_data"
    }
   ],
   "source": [
    "sns.distplot(df['number_of_follows'])\n",
    "plt.ylabel('Density')\n",
    "plt.xlabel('Number of Follows')\n",
    "plt.vlines(x=[0,400], ymin=0, ymax=0.0018, color='green')\n",
    "plt.title('Histogram of Instagram Follows')\n",
    "plt.show()"
   ]
  },
  {
   "cell_type": "markdown",
   "id": "ee1f793f",
   "metadata": {},
   "source": [
    "## 4. Summary Statistics for a Single Quantitative Variable\n",
    "\n",
    "While we can use the histograms above to estimate many characteristics about a histogram, we may want to know the exact value.  For example, from the histogram we can estimate that the minimum number of follows in the sample is around 0.  To verify the actual minimum number of follows in the sample, we compute it using the **`min`** function."
   ]
  },
  {
   "cell_type": "code",
   "execution_count": 18,
   "id": "b02b6b36",
   "metadata": {},
   "outputs": [
    {
     "name": "stdout",
     "output_type": "stream",
     "text": [
      "Minimum Number of Follows = 1.0\n"
     ]
    }
   ],
   "source": [
    "print(\"Minimum Number of Follows =\", df['number_of_follows'].min())"
   ]
  },
  {
   "cell_type": "markdown",
   "id": "041176d1",
   "metadata": {},
   "source": [
    "It looks like we were close with our approximation from the graph.  However, the actual minimum is 1.\n",
    "\n",
    "We may also want to compute values like the median, mean, standard deviation, first quartile (Q1), third quartile (Q3), and maximum."
   ]
  },
  {
   "cell_type": "code",
   "execution_count": 19,
   "id": "3dded4cc",
   "metadata": {},
   "outputs": [
    {
     "name": "stdout",
     "output_type": "stream",
     "text": [
      "Median = 354.5\n",
      "Mean = 783.8898305084746\n",
      "Standard Deviation = 1420.1630867217857\n",
      "First Quartile (Q1) = 109.75\n",
      "Third Quartile (Q3) = 660.0\n",
      "Max = 7453.0\n"
     ]
    }
   ],
   "source": [
    "print(\"Median =\", df['number_of_follows'].median())\n",
    "print(\"Mean =\", df['number_of_follows'].mean())\n",
    "print(\"Standard Deviation =\", df['number_of_follows'].std())\n",
    "print(\"First Quartile (Q1) =\", df['number_of_follows'].quantile(0.25))\n",
    "print(\"Third Quartile (Q3) =\", df['number_of_follows'].quantile(0.75))\n",
    "print(\"Max =\", df['number_of_follows'].max())"
   ]
  },
  {
   "cell_type": "markdown",
   "id": "0168a797",
   "metadata": {},
   "source": [
    "That took a lot of typing.  We can simplify this by copying the variable of interest into a pandas Series, say 'x'."
   ]
  },
  {
   "cell_type": "code",
   "execution_count": 20,
   "id": "78365438",
   "metadata": {},
   "outputs": [
    {
     "name": "stdout",
     "output_type": "stream",
     "text": [
      "Median = 354.5\n",
      "Mean = 783.8898305084746\n",
      "Standard Deviation = 1420.1630867217857\n",
      "First Quartile (Q1) = 109.75\n",
      "Third Quartile (Q3) = 660.0\n",
      "Max = 7453.0\n"
     ]
    }
   ],
   "source": [
    "# First define a variable x to be the number_of_follows column in df.\n",
    "x = df['number_of_follows']\n",
    "\n",
    "# Then use 'x' instead in the code below (write 'x' takes less time)\n",
    "print(\"Median =\", x.median())\n",
    "print(\"Mean =\", x.mean())\n",
    "print(\"Standard Deviation =\", x.std())\n",
    "print(\"First Quartile (Q1) =\", x.quantile(0.25))\n",
    "print(\"Third Quartile (Q3) =\", x.quantile(0.75))\n",
    "print(\"Max =\", x.max())"
   ]
  },
  {
   "cell_type": "markdown",
   "id": "acf139ef",
   "metadata": {},
   "source": [
    "We will learn how to **create** and **execute** our own functions in Python to speed up tedious coding exercises like above.\n",
    "\n",
    "## 5. Coding: Create and Use a Function in Python\n",
    "\n",
    "What if we wanted to compute these summary statistics for a bunch of variables, or for different data sets?  Python allows us to create our own functions to do general tasks.  The benefit is we don't have to rewrite similar code every time.  Instead, we can just reuse the function.  \n",
    "\n",
    "Let's make a function to compute the summary statistics listed above.  The structure is as follows:\n",
    "\n",
    "`def function_name (arguments):\n",
    "    statements\n",
    "    return value`\n",
    "    \n",
    "In Python, the indentation of the statements and return lines must be 4 characters.  Jupyter notebooks do this indenting automatically as you compose your function.  \n",
    "\n",
    "In our case, let's have our function put the summary statistics into a data frame for display purposes."
   ]
  },
  {
   "cell_type": "code",
   "execution_count": 21,
   "id": "527a8d94",
   "metadata": {},
   "outputs": [],
   "source": [
    "def mysummary(series):\n",
    "    index = ['min', 'Q1', 'med', 'Q3', 'max', 'mean', 'std']\n",
    "    value = [series.min(),\n",
    "            series.quantile(q=0.25),\n",
    "            series.median(),\n",
    "            series.quantile(q=0.75),\n",
    "            series.max(),\n",
    "            series.mean(),\n",
    "            series.std()]\n",
    "    return pd.DataFrame({'value': value}, index=index)"
   ]
  },
  {
   "cell_type": "markdown",
   "id": "00d7dd32",
   "metadata": {},
   "source": [
    "Now that we have defined our function mysummary, we can use it for any quantitative variable."
   ]
  },
  {
   "cell_type": "code",
   "execution_count": 22,
   "id": "7245b8b2",
   "metadata": {},
   "outputs": [
    {
     "data": {
      "text/html": [
       "<div>\n",
       "<style scoped>\n",
       "    .dataframe tbody tr th:only-of-type {\n",
       "        vertical-align: middle;\n",
       "    }\n",
       "\n",
       "    .dataframe tbody tr th {\n",
       "        vertical-align: top;\n",
       "    }\n",
       "\n",
       "    .dataframe thead th {\n",
       "        text-align: right;\n",
       "    }\n",
       "</style>\n",
       "<table border=\"1\" class=\"dataframe\">\n",
       "  <thead>\n",
       "    <tr style=\"text-align: right;\">\n",
       "      <th></th>\n",
       "      <th>value</th>\n",
       "    </tr>\n",
       "  </thead>\n",
       "  <tbody>\n",
       "    <tr>\n",
       "      <th>min</th>\n",
       "      <td>1.000000</td>\n",
       "    </tr>\n",
       "    <tr>\n",
       "      <th>Q1</th>\n",
       "      <td>109.750000</td>\n",
       "    </tr>\n",
       "    <tr>\n",
       "      <th>med</th>\n",
       "      <td>354.500000</td>\n",
       "    </tr>\n",
       "    <tr>\n",
       "      <th>Q3</th>\n",
       "      <td>660.000000</td>\n",
       "    </tr>\n",
       "    <tr>\n",
       "      <th>max</th>\n",
       "      <td>7453.000000</td>\n",
       "    </tr>\n",
       "    <tr>\n",
       "      <th>mean</th>\n",
       "      <td>783.889831</td>\n",
       "    </tr>\n",
       "    <tr>\n",
       "      <th>std</th>\n",
       "      <td>1420.163087</td>\n",
       "    </tr>\n",
       "  </tbody>\n",
       "</table>\n",
       "</div>"
      ],
      "text/plain": [
       "            value\n",
       "min      1.000000\n",
       "Q1     109.750000\n",
       "med    354.500000\n",
       "Q3     660.000000\n",
       "max   7453.000000\n",
       "mean   783.889831\n",
       "std   1420.163087"
      ]
     },
     "execution_count": 22,
     "metadata": {},
     "output_type": "execute_result"
    }
   ],
   "source": [
    "mysummary(df['number_of_follows'])"
   ]
  },
  {
   "cell_type": "code",
   "execution_count": 23,
   "id": "a4c54db3",
   "metadata": {},
   "outputs": [
    {
     "data": {
      "text/html": [
       "<div>\n",
       "<style scoped>\n",
       "    .dataframe tbody tr th:only-of-type {\n",
       "        vertical-align: middle;\n",
       "    }\n",
       "\n",
       "    .dataframe tbody tr th {\n",
       "        vertical-align: top;\n",
       "    }\n",
       "\n",
       "    .dataframe thead th {\n",
       "        text-align: right;\n",
       "    }\n",
       "</style>\n",
       "<table border=\"1\" class=\"dataframe\">\n",
       "  <thead>\n",
       "    <tr style=\"text-align: right;\">\n",
       "      <th></th>\n",
       "      <th>value</th>\n",
       "    </tr>\n",
       "  </thead>\n",
       "  <tbody>\n",
       "    <tr>\n",
       "      <th>min</th>\n",
       "      <td>0.000000e+00</td>\n",
       "    </tr>\n",
       "    <tr>\n",
       "      <th>Q1</th>\n",
       "      <td>6.375000e+01</td>\n",
       "    </tr>\n",
       "    <tr>\n",
       "      <th>med</th>\n",
       "      <td>2.135000e+02</td>\n",
       "    </tr>\n",
       "    <tr>\n",
       "      <th>Q3</th>\n",
       "      <td>6.337500e+02</td>\n",
       "    </tr>\n",
       "    <tr>\n",
       "      <th>max</th>\n",
       "      <td>4.021842e+06</td>\n",
       "    </tr>\n",
       "    <tr>\n",
       "      <th>mean</th>\n",
       "      <td>5.042895e+04</td>\n",
       "    </tr>\n",
       "    <tr>\n",
       "      <th>std</th>\n",
       "      <td>3.848057e+05</td>\n",
       "    </tr>\n",
       "  </tbody>\n",
       "</table>\n",
       "</div>"
      ],
      "text/plain": [
       "             value\n",
       "min   0.000000e+00\n",
       "Q1    6.375000e+01\n",
       "med   2.135000e+02\n",
       "Q3    6.337500e+02\n",
       "max   4.021842e+06\n",
       "mean  5.042895e+04\n",
       "std   3.848057e+05"
      ]
     },
     "execution_count": 23,
     "metadata": {},
     "output_type": "execute_result"
    }
   ],
   "source": [
    "mysummary(df['number_of_followers'])"
   ]
  },
  {
   "cell_type": "markdown",
   "id": "bca65996",
   "metadata": {},
   "source": [
    "What if we wanted to calculate the summary statistics for number_of_follows for fake and real Instagram accounts separately?"
   ]
  },
  {
   "cell_type": "code",
   "execution_count": 24,
   "id": "9415ea8e",
   "metadata": {},
   "outputs": [
    {
     "name": "stdout",
     "output_type": "stream",
     "text": [
      "Number of Follows Summary Statistics for Fake Accounts\n"
     ]
    },
    {
     "data": {
      "text/html": [
       "<div>\n",
       "<style scoped>\n",
       "    .dataframe tbody tr th:only-of-type {\n",
       "        vertical-align: middle;\n",
       "    }\n",
       "\n",
       "    .dataframe tbody tr th {\n",
       "        vertical-align: top;\n",
       "    }\n",
       "\n",
       "    .dataframe thead th {\n",
       "        text-align: right;\n",
       "    }\n",
       "</style>\n",
       "<table border=\"1\" class=\"dataframe\">\n",
       "  <thead>\n",
       "    <tr style=\"text-align: right;\">\n",
       "      <th></th>\n",
       "      <th>value</th>\n",
       "    </tr>\n",
       "  </thead>\n",
       "  <tbody>\n",
       "    <tr>\n",
       "      <th>min</th>\n",
       "      <td>1.000000</td>\n",
       "    </tr>\n",
       "    <tr>\n",
       "      <th>Q1</th>\n",
       "      <td>33.000000</td>\n",
       "    </tr>\n",
       "    <tr>\n",
       "      <th>med</th>\n",
       "      <td>163.000000</td>\n",
       "    </tr>\n",
       "    <tr>\n",
       "      <th>Q3</th>\n",
       "      <td>784.750000</td>\n",
       "    </tr>\n",
       "    <tr>\n",
       "      <th>max</th>\n",
       "      <td>7453.000000</td>\n",
       "    </tr>\n",
       "    <tr>\n",
       "      <th>mean</th>\n",
       "      <td>853.933333</td>\n",
       "    </tr>\n",
       "    <tr>\n",
       "      <th>std</th>\n",
       "      <td>1607.370923</td>\n",
       "    </tr>\n",
       "  </tbody>\n",
       "</table>\n",
       "</div>"
      ],
      "text/plain": [
       "            value\n",
       "min      1.000000\n",
       "Q1      33.000000\n",
       "med    163.000000\n",
       "Q3     784.750000\n",
       "max   7453.000000\n",
       "mean   853.933333\n",
       "std   1607.370923"
      ]
     },
     "execution_count": 24,
     "metadata": {},
     "output_type": "execute_result"
    }
   ],
   "source": [
    "print('Number of Follows Summary Statistics for Fake Accounts')\n",
    "mysummary(df['number_of_follows'][df['account_type']=='fake'])"
   ]
  },
  {
   "cell_type": "code",
   "execution_count": 25,
   "id": "4d210c4d",
   "metadata": {},
   "outputs": [
    {
     "name": "stdout",
     "output_type": "stream",
     "text": [
      "Number of Follows Summary Statistics for Real Accounts\n"
     ]
    },
    {
     "data": {
      "text/html": [
       "<div>\n",
       "<style scoped>\n",
       "    .dataframe tbody tr th:only-of-type {\n",
       "        vertical-align: middle;\n",
       "    }\n",
       "\n",
       "    .dataframe tbody tr th {\n",
       "        vertical-align: top;\n",
       "    }\n",
       "\n",
       "    .dataframe thead th {\n",
       "        text-align: right;\n",
       "    }\n",
       "</style>\n",
       "<table border=\"1\" class=\"dataframe\">\n",
       "  <thead>\n",
       "    <tr style=\"text-align: right;\">\n",
       "      <th></th>\n",
       "      <th>value</th>\n",
       "    </tr>\n",
       "  </thead>\n",
       "  <tbody>\n",
       "    <tr>\n",
       "      <th>min</th>\n",
       "      <td>6.000000</td>\n",
       "    </tr>\n",
       "    <tr>\n",
       "      <th>Q1</th>\n",
       "      <td>276.000000</td>\n",
       "    </tr>\n",
       "    <tr>\n",
       "      <th>med</th>\n",
       "      <td>470.000000</td>\n",
       "    </tr>\n",
       "    <tr>\n",
       "      <th>Q3</th>\n",
       "      <td>576.000000</td>\n",
       "    </tr>\n",
       "    <tr>\n",
       "      <th>max</th>\n",
       "      <td>7369.000000</td>\n",
       "    </tr>\n",
       "    <tr>\n",
       "      <th>mean</th>\n",
       "      <td>711.431034</td>\n",
       "    </tr>\n",
       "    <tr>\n",
       "      <th>std</th>\n",
       "      <td>1206.264905</td>\n",
       "    </tr>\n",
       "  </tbody>\n",
       "</table>\n",
       "</div>"
      ],
      "text/plain": [
       "            value\n",
       "min      6.000000\n",
       "Q1     276.000000\n",
       "med    470.000000\n",
       "Q3     576.000000\n",
       "max   7369.000000\n",
       "mean   711.431034\n",
       "std   1206.264905"
      ]
     },
     "execution_count": 25,
     "metadata": {},
     "output_type": "execute_result"
    }
   ],
   "source": [
    "print('Number of Follows Summary Statistics for Real Accounts')\n",
    "mysummary(df['number_of_follows'][df['account_type']=='real'])"
   ]
  },
  {
   "cell_type": "markdown",
   "id": "a03dcf79",
   "metadata": {},
   "source": [
    "## 6. Subsetting a Data Frame with Index Names\n",
    "\n",
    "What if we wanted to extract Q1 from the summary?  Previously, we saw how to subset a data frame based on the location number of that entry with the **`.iloc`** function.  Using the **`.loc`** function, we can refer directly to the row **name** in the data frame of results.  Specifying `.value` causes Python to show only the value of the object, suppressing the display of the object type."
   ]
  },
  {
   "cell_type": "code",
   "execution_count": 26,
   "id": "3289c911",
   "metadata": {},
   "outputs": [
    {
     "data": {
      "text/plain": [
       "value    784.75\n",
       "Name: Q3, dtype: float64"
      ]
     },
     "execution_count": 26,
     "metadata": {},
     "output_type": "execute_result"
    }
   ],
   "source": [
    "results = mysummary(df['number_of_follows'][df['account_type']=='fake'])\n",
    "results.loc['Q3']"
   ]
  },
  {
   "cell_type": "code",
   "execution_count": 27,
   "id": "fa6f70e8",
   "metadata": {},
   "outputs": [
    {
     "data": {
      "text/plain": [
       "784.75"
      ]
     },
     "execution_count": 27,
     "metadata": {},
     "output_type": "execute_result"
    }
   ],
   "source": [
    "results.loc['Q3'].value"
   ]
  },
  {
   "cell_type": "markdown",
   "id": "8c4b94d3",
   "metadata": {},
   "source": [
    "The **interquartile range** is a measure of spread defined as Q3 - Q1.  This is the difference between the 75th and the 25th percentile.  In other words, it is the range of the middle half of the data.  We can compute it from our summary results."
   ]
  },
  {
   "cell_type": "code",
   "execution_count": 28,
   "id": "a1757858",
   "metadata": {},
   "outputs": [
    {
     "name": "stdout",
     "output_type": "stream",
     "text": [
      "IQR = 751.75\n"
     ]
    }
   ],
   "source": [
    "print('IQR =', results.loc['Q3'].value - results.loc['Q1'].value)"
   ]
  },
  {
   "cell_type": "markdown",
   "id": "1e526893",
   "metadata": {},
   "source": [
    "## 7. Box Plots\n",
    "\n",
    "Several of these types of summary statistics can be visualized using the **box plot**, which typically includes the minimum, Q1, median, Q3, maximum, and thresholds for extreme values."
   ]
  },
  {
   "cell_type": "code",
   "execution_count": 29,
   "id": "2ad16a57",
   "metadata": {},
   "outputs": [
    {
     "data": {
      "image/png": "[encoded data removed]",
      "text/plain": [
       "<Figure size 432x288 with 1 Axes>"
      ]
     },
     "metadata": {},
     "output_type": "display_data"
    }
   ],
   "source": [
    "sns.boxplot(x=df['number_of_follows'])\n",
    "plt.title('Box Plot of Number of Instagram Follows')\n",
    "plt.xlabel('Number of Follows')\n",
    "plt.show()"
   ]
  },
  {
   "cell_type": "markdown",
   "id": "28dbcb42",
   "metadata": {},
   "source": [
    "The box plot is generated so that:\n",
    "- The central box goes from Q1 = 25th percentile to Q3 = 75th percentile\n",
    "- The central line in the box shows the **median** = 50th percentile (splits the data in half)\n",
    "- The width of the box is the **interquartile range (IQR)** = Q3 - Q1\n",
    "- The low and high bars (\"whiskers\") have a maximum length by default of 1.5 * IQR, meant to be thresholds for flagging possible outliers\n",
    "- If the minimum and/or maximum is not an outlier, then the whisker extends only to the min and/or max\n",
    "\n",
    "Box plots are helpful tools to visualize numerical summaries quickly.\n",
    "\n",
    "## 8. Violin Plots\n",
    "\n",
    "**Violin plots** are a way to combine many features of a histogram and a box plot into one graph.\n",
    "\n",
    "You can see a box in the middle of the graph showing the box and whiskers of a traditional boxplot.  You can also see a density curve overlayed on the graph, showing where and how the observations are distributed."
   ]
  },
  {
   "cell_type": "code",
   "execution_count": 30,
   "id": "1e736ee7",
   "metadata": {},
   "outputs": [
    {
     "data": {
      "image/png": "[encoded data removed]",
      "text/plain": [
       "<Figure size 432x288 with 1 Axes>"
      ]
     },
     "metadata": {},
     "output_type": "display_data"
    }
   ],
   "source": [
    "sns.violinplot(x=df['number_of_follows'])\n",
    "plt.xlabel('Number of Follows')\n",
    "plt.title('Violin Plot of Number of Instagram Follows')\n",
    "plt.show()"
   ]
  },
  {
   "cell_type": "markdown",
   "id": "8965011e",
   "metadata": {},
   "source": [
    "## 9. Visualizing a Categorical and Quantitative Variable\n",
    "\n",
    "A single box plot tells us where the major percentials are and flags possible outlier observations but most of the same information can be conveyed by printing the summary statistics.  However, a box plot can be a useful visualization for comparing distributions between two different groups.\n",
    "\n",
    "The box plot and violin plot are especially helpful as a method to visualize both a categorical and a quantitative variable in one plot.\n",
    "\n",
    "For example, let's compare the distributions of number of follows for fake vs. real Instagram accounts."
   ]
  },
  {
   "cell_type": "code",
   "execution_count": 31,
   "id": "f3209f00",
   "metadata": {},
   "outputs": [
    {
     "data": {
      "text/plain": [
       "fake    60\n",
       "real    58\n",
       "Name: account_type, dtype: int64"
      ]
     },
     "execution_count": 31,
     "metadata": {},
     "output_type": "execute_result"
    }
   ],
   "source": [
    "df['account_type'].value_counts()"
   ]
  },
  {
   "cell_type": "code",
   "execution_count": 32,
   "id": "3cdaf04b",
   "metadata": {},
   "outputs": [
    {
     "data": {
      "image/png": "[encoded data removed]",
      "text/plain": [
       "<Figure size 432x288 with 1 Axes>"
      ]
     },
     "metadata": {},
     "output_type": "display_data"
    }
   ],
   "source": [
    "# can specify data frame using the 'data=' argument\n",
    "sns.boxplot(x='account_type', y='number_of_follows', data=df)\n",
    "plt.xlabel('Account Type')\n",
    "plt.ylabel('Number of Follows')\n",
    "plt.title('Side by Side Boxplot of Instagram Follows for Real and Fake Accounts')\n",
    "plt.show()"
   ]
  },
  {
   "cell_type": "markdown",
   "id": "63942f42",
   "metadata": {},
   "source": [
    "The **violin plot** is an alternative to the boxplot that includes representation of the data density within each group in addition to an embedded box plot.  Because it conveys more information, it has gained in popularity in recent years."
   ]
  },
  {
   "cell_type": "code",
   "execution_count": 33,
   "id": "56d8db42",
   "metadata": {},
   "outputs": [
    {
     "data": {
      "image/png": "[encoded data removed]",
      "text/plain": [
       "<Figure size 432x288 with 1 Axes>"
      ]
     },
     "metadata": {},
     "output_type": "display_data"
    }
   ],
   "source": [
    "sns.violinplot(x='account_type', y='number_of_follows', data=df)\n",
    "plt.xlabel('Account Type')\n",
    "plt.ylabel('Number of Follows')\n",
    "plt.title('Side by Side Violinplots of Instagram Follows for Real and Fake Accounts')\n",
    "plt.show()"
   ]
  },
  {
   "cell_type": "markdown",
   "id": "53cf6695",
   "metadata": {},
   "source": [
    "How do these results compare with your intuition?\n",
    "\n",
    "What types of questions can we answer using the recent visualizations?\n",
    "\n",
    "1. Compare the distribution of follows for real and fake accounts in this dataset.\n",
    "2. Is there a strong association between the account type (real or fake) and the number of follows in this dataset?"
   ]
  },
  {
   "cell_type": "markdown",
   "id": "36b252df",
   "metadata": {},
   "source": [
    "<hr>\n",
    "\n",
    "STAT 207: Julie Deeke, Victoria Ellison, and Douglas Simpson.  University of Illinois at Urbana-Champaign"
   ]
  }
 ],
 "metadata": {
  "kernelspec": {
   "display_name": "Python 3 (ipykernel)",
   "language": "python",
   "name": "python3"
  },
  "language_info": {
   "codemirror_mode": {
    "name": "ipython",
    "version": 3
   },
   "file_extension": ".py",
   "mimetype": "text/x-python",
   "name": "python",
   "nbconvert_exporter": "python",
   "pygments_lexer": "ipython3",
   "version": "3.8.11"
  }
 },
 "nbformat": 4,
 "nbformat_minor": 5
}
